{
 "cells": [
  {
   "cell_type": "code",
   "execution_count": 14,
   "metadata": {},
   "outputs": [
    {
     "name": "stdout",
     "output_type": "stream",
     "text": [
      "True\n"
     ]
    }
   ],
   "source": [
    "times = int(input())\n",
    "N = int(input())\n",
    "\n",
    "\n",
    "words = []\n",
    "sets = set()\n",
    "strs = ''\n",
    "\n",
    "\n",
    "\n",
    "for i in range(2 * N):\n",
    "    _ = str(input())\n",
    "    words.append(_)\n",
    "\n",
    "for i in words:\n",
    "    for j in i:\n",
    "        sets.add(j)\n",
    "\n",
    "sets = list(sets)\n",
    "\n",
    "\n",
    "\n",
    "\n",
    "def check(sets, strs):\n",
    "    for i in sets:\n",
    "        if strs.count(i) % 2 == 0:\n",
    "            continue\n",
    "        else:\n",
    "            return False\n",
    "        \n",
    "    return True\n",
    "\n",
    "print(check(sets, strs))\n",
    "\n",
    "# print(strs.join(words))\n",
    "# print(sets)\n",
    "# print(words)\n",
    "# print(set)"
   ]
  }
 ],
 "metadata": {
  "kernelspec": {
   "display_name": "venv",
   "language": "python",
   "name": "python3"
  },
  "language_info": {
   "codemirror_mode": {
    "name": "ipython",
    "version": 3
   },
   "file_extension": ".py",
   "mimetype": "text/x-python",
   "name": "python",
   "nbconvert_exporter": "python",
   "pygments_lexer": "ipython3",
   "version": "3.10.7"
  },
  "orig_nbformat": 4
 },
 "nbformat": 4,
 "nbformat_minor": 2
}
