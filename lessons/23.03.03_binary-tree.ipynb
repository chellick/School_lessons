{
 "cells": [
  {
   "attachments": {},
   "cell_type": "markdown",
   "metadata": {},
   "source": [
    "# Бинарный поиск"
   ]
  },
  {
   "cell_type": "code",
   "execution_count": 33,
   "metadata": {},
   "outputs": [
    {
     "data": {
      "text/plain": [
       "6"
      ]
     },
     "execution_count": 33,
     "metadata": {},
     "output_type": "execute_result"
    }
   ],
   "source": [
    "import numpy as np\n",
    "# num = int(input())\n",
    "a = np.array([4, 5, 17, 19, 20, 26, 45, 60])\n",
    "x = 45\n",
    "b = a[len(a)//2:]\n",
    "\n",
    "\n",
    "\n",
    "def f(a, x):\n",
    "    left = 0\n",
    "    right = len(a) - 1\n",
    "    while left <= right:\n",
    "        mid = (left + right) // 2\n",
    "        if a[mid] == x:\n",
    "            return mid\n",
    "            \n",
    "        \n",
    "        elif a[mid] < x:\n",
    "            left = mid + 1\n",
    "        else:\n",
    "            right = mid - 1\n",
    "\n",
    "    return print('No such element found')\n",
    "\n",
    "\n",
    "\n",
    "f(a, x)"
   ]
  },
  {
   "cell_type": "code",
   "execution_count": 59,
   "metadata": {},
   "outputs": [
    {
     "name": "stdout",
     "output_type": "stream",
     "text": [
      "1\n"
     ]
    }
   ],
   "source": [
    "a = np.array([4, 5, 17, 19, 24, 26, 45, 50])\n",
    "x = 5\n",
    "left = 0\n",
    "right = len(a)-1\n",
    "while True:\n",
    "    middle = (right + left) // 2\n",
    "    if a[middle] == x:\n",
    "        print(str(middle))\n",
    "        break\n",
    "    if a[middle] > x:\n",
    "        right = middle - 1\n",
    "    if a[middle] < x:\n",
    "        left = middle + 1\n",
    "\n",
    "    if right - left == -1:\n",
    "        print(\"no element\")\n",
    "        break"
   ]
  }
 ],
 "metadata": {
  "kernelspec": {
   "display_name": "venv",
   "language": "python",
   "name": "python3"
  },
  "language_info": {
   "codemirror_mode": {
    "name": "ipython",
    "version": 3
   },
   "file_extension": ".py",
   "mimetype": "text/x-python",
   "name": "python",
   "nbconvert_exporter": "python",
   "pygments_lexer": "ipython3",
   "version": "3.10.7"
  },
  "orig_nbformat": 4
 },
 "nbformat": 4,
 "nbformat_minor": 2
}
