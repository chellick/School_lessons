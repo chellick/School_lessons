{
 "cells": [
  {
   "attachments": {},
   "cell_type": "markdown",
   "metadata": {},
   "source": [
    "# Итераторы"
   ]
  },
  {
   "cell_type": "code",
   "execution_count": 29,
   "metadata": {},
   "outputs": [
    {
     "name": "stdout",
     "output_type": "stream",
     "text": [
      "1\n",
      "2\n",
      "3\n",
      "4\n",
      "1\n",
      "2\n",
      "3\n",
      "4\n"
     ]
    }
   ],
   "source": [
    "lst = [1, 2, 3, 4]\n",
    "\n",
    "for i in range(len(lst)):\n",
    "    print(lst[i])\n",
    "\n",
    "for item in lst:\n",
    "    print(item)\n",
    "\n"
   ]
  },
  {
   "cell_type": "code",
   "execution_count": 30,
   "metadata": {},
   "outputs": [
    {
     "name": "stdout",
     "output_type": "stream",
     "text": [
      "1\n"
     ]
    }
   ],
   "source": [
    "it = iter(lst)\n",
    "print(next(it))\n"
   ]
  },
  {
   "cell_type": "code",
   "execution_count": 31,
   "metadata": {},
   "outputs": [
    {
     "name": "stdout",
     "output_type": "stream",
     "text": [
      "1\n",
      "2\n",
      "3\n",
      "0\n",
      "4\n",
      "4\n",
      "1\n"
     ]
    }
   ],
   "source": [
    "lst = [1, 2, 3, 0, 4, 4, 1]\n",
    "it = iter(lst)\n",
    "\n",
    "\n",
    "c = lst[-1]\n",
    "el = None\n",
    "\n",
    "while (x:= next(it, None)) is not None:\n",
    "    print(x)\n"
   ]
  },
  {
   "cell_type": "code",
   "execution_count": 32,
   "metadata": {},
   "outputs": [],
   "source": [
    "class Purse:\n",
    "    def __init__(self):\n",
    "        self.lst = [1, 2, 3, 4]\n",
    "        self.i = 0\n",
    "\n",
    "    def __iter__(self):\n",
    "        return self\n",
    "    \n",
    "    def __next__(self):\n",
    "        self.i += 1\n",
    "        if self.i > len(self.lst):\n",
    "            raise StopIteration\n",
    "        return self.lst[self.i - 1]\n",
    "\n",
    "it = Purse()"
   ]
  },
  {
   "cell_type": "code",
   "execution_count": 33,
   "metadata": {},
   "outputs": [
    {
     "name": "stdout",
     "output_type": "stream",
     "text": [
      "0\n",
      "1\n",
      "2\n",
      "3\n",
      "4\n"
     ]
    }
   ],
   "source": [
    "class Counter:\n",
    "    def __init__(self, end) -> None:\n",
    "        self.i = 0\n",
    "        self.end = end\n",
    "\n",
    "    def __iter__(self):\n",
    "        return self\n",
    "    \n",
    "    def __next__(self):\n",
    "        self.i += 1\n",
    "        if self.i > self.end:\n",
    "            raise StopIteration\n",
    "        return self.i - 1\n",
    "    \n",
    "\n",
    "c = iter(Counter(5))\n",
    "\n",
    "for i in c:\n",
    "    print(i)"
   ]
  },
  {
   "cell_type": "code",
   "execution_count": 31,
   "metadata": {},
   "outputs": [
    {
     "name": "stdout",
     "output_type": "stream",
     "text": [
      "3\n",
      "4\n",
      "5\n",
      "6\n",
      "7\n",
      "8\n",
      "9\n",
      "10\n"
     ]
    }
   ],
   "source": [
    "class MyRange():\n",
    "    def __init__(self, start=0, stop=None, step=1):\n",
    "        self.start = start\n",
    "        self.stop = stop\n",
    "        self.step = step\n",
    "        self.i = start\n",
    "\n",
    "        if self.stop is None:\n",
    "            self.start = 0\n",
    "            self.stop = start\n",
    "\n",
    "    def __iter__(self):\n",
    "        return self\n",
    "    \n",
    "    def __next__(self):\n",
    "        if self.step == 0:\n",
    "            raise ValueError('Хватит на фигне проверять!')\n",
    "        else:\n",
    "            if self.step > 0:\n",
    "                if self.i > self.stop:\n",
    "                    raise StopIteration\n",
    "                self.i += self.step\n",
    "                return self.i - self.step\n",
    "                \n",
    "            \n",
    "            elif self.step < 0:\n",
    "                if self.i < self.stop:\n",
    "                    raise StopIteration\n",
    "                self.i -= self.step\n",
    "                \n",
    "                return self.i + self.step\n",
    "    \n",
    "r = MyRange(3, 10)\n",
    "\n",
    "for i in r:\n",
    "    print(i)\n",
    "    # pass\n",
    "\n",
    "# for i in range(1, 10, 2):\n",
    "#     print(i)"
   ]
  }
 ],
 "metadata": {
  "kernelspec": {
   "display_name": "venv",
   "language": "python",
   "name": "python3"
  },
  "language_info": {
   "codemirror_mode": {
    "name": "ipython",
    "version": 3
   },
   "file_extension": ".py",
   "mimetype": "text/x-python",
   "name": "python",
   "nbconvert_exporter": "python",
   "pygments_lexer": "ipython3",
   "version": "3.10.7"
  },
  "orig_nbformat": 4
 },
 "nbformat": 4,
 "nbformat_minor": 2
}
