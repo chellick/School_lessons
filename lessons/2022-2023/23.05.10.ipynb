{
 "cells": [
  {
   "cell_type": "code",
   "execution_count": 16,
   "metadata": {},
   "outputs": [
    {
     "name": "stdout",
     "output_type": "stream",
     "text": [
      "47\n"
     ]
    }
   ],
   "source": [
    "a = int(input())\n",
    "\n",
    "n = bin(a)[2:]\n",
    "\n",
    "if a % 2 == 0:\n",
    "    n += '10'\n",
    "\n",
    "else:\n",
    "    n += '11'\n",
    "\n",
    "if n.count(\"1\") % 2 == 0:\n",
    "    n += n[-1]\n",
    "\n",
    "else:\n",
    "    n += n[-2]\n",
    "\n",
    "\n",
    "\n",
    "\n",
    "print(int(n, 2))"
   ]
  },
  {
   "cell_type": "code",
   "execution_count": 1,
   "metadata": {},
   "outputs": [
    {
     "name": "stdout",
     "output_type": "stream",
     "text": [
      "11\n",
      "35\n"
     ]
    }
   ],
   "source": [
    "p = 5\n",
    "q= 7\n",
    "e = 11\n",
    "\n",
    "for d in range(1, 40):\n",
    "    if (d * e) %  ((p -1 ) * (q - 1)) == 1:\n",
    "        print(d)"
   ]
  },
  {
   "cell_type": "code",
   "execution_count": 21,
   "metadata": {},
   "outputs": [
    {
     "name": "stdout",
     "output_type": "stream",
     "text": [
      "(5, 16)\n"
     ]
    }
   ],
   "source": [
    "import math\n",
    "\n",
    "with open(\"C:/python/codes/school-lessons/random shit/13.txt\") as file:\n",
    "    data = file.read().splitlines()\n",
    "    lst = list(map(int, data))\n",
    "\n",
    "def f(lst):\n",
    "    count = 0\n",
    "    min_sum = math.inf\n",
    "    for i in range(len(lst)):\n",
    "        for j in range(i + 1, len(lst)):\n",
    "            if lst[i] %  8 == 0 and lst[j] % 8 == 0:\n",
    "                min_sum = min(min_sum, lst[i] + lst[j])\n",
    "                count += 1\n",
    "\n",
    "        return count, min_sum\n",
    "\n",
    "print(f(lst))"
   ]
  },
  {
   "attachments": {},
   "cell_type": "markdown",
   "metadata": {},
   "source": [
    "рекурсия"
   ]
  },
  {
   "cell_type": "code",
   "execution_count": 5,
   "metadata": {},
   "outputs": [
    {
     "name": "stdout",
     "output_type": "stream",
     "text": [
      "231\n"
     ]
    }
   ],
   "source": [
    "def f(x, res, seq):\n",
    "    if x == res:\n",
    "        if 16 in seq and 32 not in seq:\n",
    "            return 1\n",
    "        else:\n",
    "            return 0        \n",
    "    elif x > res:\n",
    "        return 0\n",
    "    return f(x + 3, res, seq + [x + 3]) + f(x + 4, res, seq + [x + 4]) + f(x * 3, res, seq + [x * 3])\n",
    "print(f(4, 46, [4]))"
   ]
  },
  {
   "cell_type": "code",
   "execution_count": 24,
   "metadata": {},
   "outputs": [
    {
     "name": "stdout",
     "output_type": "stream",
     "text": [
      "213\n"
     ]
    }
   ],
   "source": [
    "def f(x, res, seq):\n",
    "    if '**' in seq:\n",
    "        return 0\n",
    "    if x == res:\n",
    "        return 1\n",
    "    elif x > res:\n",
    "        return 0\n",
    "    return f(x + 1, res, seq + '+') + f(x + 2, res, seq + '+') + f(x * 2, res, seq + '*')\n",
    "\n",
    "\n",
    "\n",
    "print(f(1, 11, ''))"
   ]
  }
 ],
 "metadata": {
  "kernelspec": {
   "display_name": "venv",
   "language": "python",
   "name": "python3"
  },
  "language_info": {
   "codemirror_mode": {
    "name": "ipython",
    "version": 3
   },
   "file_extension": ".py",
   "mimetype": "text/x-python",
   "name": "python",
   "nbconvert_exporter": "python",
   "pygments_lexer": "ipython3",
   "version": "3.10.7"
  },
  "orig_nbformat": 4
 },
 "nbformat": 4,
 "nbformat_minor": 2
}
