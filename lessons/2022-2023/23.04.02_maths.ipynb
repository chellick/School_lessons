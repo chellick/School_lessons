{
 "cells": [
  {
   "attachments": {},
   "cell_type": "markdown",
   "metadata": {},
   "source": [
    "# Среднеквадратичное отклонение\n",
    "\n",
    "\n",
    "* Точные математические формулы\n",
    "\n",
    "$ S = \\int^{a}_{b} f(x)\\delta{x} $\n",
    "\n",
    "* Приближённые\n",
    "\n",
    "$ S_n = \\sum_{i = 0}^{n - 1} f(i d{x + a})dx$\n",
    "\n",
    "$ S = \\sqrt{\\frac{1}{n-1}(\\sum_{i = 0}^{n - 1}(i - mid)^2)} $"
   ]
  },
  {
   "cell_type": "code",
   "execution_count": 19,
   "metadata": {},
   "outputs": [],
   "source": [
    "import pandas as pd\n",
    "import numpy as np\n",
    "from sklearn.preprocessing import MinMaxScaler\n"
   ]
  },
  {
   "cell_type": "code",
   "execution_count": 2,
   "metadata": {},
   "outputs": [
    {
     "name": "stdout",
     "output_type": "stream",
     "text": [
      "[29  7 23 40  9 18 55 16 20 26 27 16 22 10 10 45  1  7 44 60 15 30 40 46\n",
      " 20 40 32]\n",
      "26.22222222222222\n",
      "15.64100462377739\n"
     ]
    }
   ],
   "source": [
    "\n",
    "path = \"C:/Users/Matvey/Downloads/Длина волос 10А - Лист1.csv\"\n",
    "\n",
    "data = pd.read_csv(path, header=None)\n",
    "data = data.to_numpy()\n",
    "\n",
    "hair = []\n",
    "for leng in range(1, len(data)):\n",
    "    hair.append(int(data[leng][2]))\n",
    "hair = np.array(hair)\n",
    "\n",
    "print(hair)\n",
    "\n",
    "\n",
    "def get_mid(array):\n",
    "    summ = 0\n",
    "    for i in array:\n",
    "        summ += i\n",
    "\n",
    "    return summ / len(array)\n",
    "\n",
    "def get_q(array):\n",
    "    global mid\n",
    "    s = 0\n",
    "    for i in array:\n",
    "        s += (i - mid) ** 2\n",
    "\n",
    "    return ((1 / (len(array) - 1)) * s) ** 0.5\n",
    "\n",
    "mid = get_mid(hair)\n",
    "\n",
    "print(get_mid(hair))\n",
    "print(get_q(hair))\n"
   ]
  },
  {
   "cell_type": "code",
   "execution_count": 4,
   "metadata": {},
   "outputs": [
    {
     "name": "stdout",
     "output_type": "stream",
     "text": [
      "[[0.         0.47457627]\n",
      " [0.         0.10169492]\n",
      " [1.         0.37288136]\n",
      " [0.         0.66101695]\n",
      " [0.         0.13559322]\n",
      " [0.         0.28813559]\n",
      " [0.         0.91525424]\n",
      " [0.         0.25423729]\n",
      " [0.         0.3220339 ]\n",
      " [0.         0.42372881]\n",
      " [0.         0.44067797]\n",
      " [0.         0.25423729]\n",
      " [1.         0.3559322 ]\n",
      " [0.         0.15254237]\n",
      " [1.         0.15254237]\n",
      " [0.         0.74576271]\n",
      " [0.         0.        ]\n",
      " [1.         0.10169492]\n",
      " [0.         0.72881356]\n",
      " [0.         1.        ]\n",
      " [1.         0.23728814]\n",
      " [0.         0.49152542]\n",
      " [1.         0.66101695]\n",
      " [1.         0.76271186]\n",
      " [0.         0.3220339 ]\n",
      " [1.         0.66101695]\n",
      " [0.         0.52542373]]\n"
     ]
    }
   ],
   "source": [
    "\n",
    "path = \"C:/Users/Matvey/Downloads/Длина волос 10А - Лист1.csv\"  \n",
    "\n",
    "data = pd.read_csv(path, header=None)\n",
    "data = data.to_numpy()\n",
    "\n",
    "hair = []\n",
    "age = []\n",
    "for leng in range(1, len(data)):\n",
    "    hair.append(int(data[leng][2]))\n",
    "    age.append(int(data[leng][1]))\n",
    "\n",
    "hair = np.array(hair)\n",
    "age = np.array(age)\n",
    "\n",
    "df = []\n",
    "\n",
    "for a,b in zip(age, hair):\n",
    "    df.append([a, b])\n",
    "\n",
    "df = np.array(df)\n",
    "scaler = MinMaxScaler()\n",
    "lst = scaler.fit_transform(df)\n",
    "\n",
    "print(lst)\n"
   ]
  },
  {
   "cell_type": "code",
   "execution_count": 19,
   "metadata": {},
   "outputs": [
    {
     "name": "stdout",
     "output_type": "stream",
     "text": [
      "[2. 5.] original\n",
      "[1. 1.] original\n",
      "[2. 5.] numpy\n",
      "1.8708286933869707 numpy\n"
     ]
    }
   ],
   "source": [
    "a = np.array([[1, 2, 3], [4, 5, 6]])\n",
    "\n",
    "a = a.T\n",
    "\n",
    "mid = get_mid(a)\n",
    "\n",
    "\n",
    "print(get_mid(a), 'original')\n",
    "print(get_q(a), 'original')\n",
    "\n",
    "\n",
    "\n",
    "print(a.mean(axis=0), 'numpy')\n",
    "print(a.std(ddof=1), 'numpy') \n"
   ]
  },
  {
   "cell_type": "code",
   "execution_count": 29,
   "metadata": {},
   "outputs": [
    {
     "name": "stdout",
     "output_type": "stream",
     "text": [
      "[0.2962963  0.42749529]\n",
      "[0.46532163 0.26510177]\n"
     ]
    }
   ],
   "source": [
    "a = np.array([age, hair])\n",
    "\n",
    "# normal\n",
    "\n",
    "print(lst.mean(axis=0))\n",
    "print(lst.std(axis=0, ddof=1))"
   ]
  },
  {
   "cell_type": "code",
   "execution_count": null,
   "metadata": {},
   "outputs": [],
   "source": [
    "url = \"https://raw.githubusercontent.com/jbrownlee/Datasets/master/iris.csv\"\n",
    "df = pd.read_csv(url, header = None)\n",
    "df = df.to_numpy()\n",
    "\n",
    "first = []\n",
    "second = []\n",
    "third = []\n",
    "fourth = []\n",
    "\n",
    "for i in range(1, len(df)):\n",
    "    first.append(df[i][0])\n",
    "    second.append(df[i][1])\n",
    "    third.append(df[i][2])\n",
    "    fourth.append(df[i][3])\n",
    "\n",
    "final = [first, second, third, fourth]\n",
    "final = np.array(final)\n",
    "\n",
    "mid = get_mid(final)\n",
    "\n",
    "\n",
    "print(final.mean(axis=1), \"numpy\")\n",
    "print(final.std(axis=1, ddof=1), \"numpy\")\n"
   ]
  },
  {
   "cell_type": "code",
   "execution_count": 56,
   "metadata": {},
   "outputs": [
    {
     "name": "stdout",
     "output_type": "stream",
     "text": [
      "['Шоколад молочно-ореховый' 99.6 0.2 0.0 897]\n",
      "['Шоколад молочно-ореховый' 99.6 0.2 0.0 897]\n",
      "['Халва тахинно-арахисовая' 93.7 0.0 0.0 843]\n",
      "['Шпик свиной' 92.8 1.4 0.0 841]\n",
      "['Шпик свиной соленый' 90.0 1.4 0.0 816]\n",
      "['Сардельки говяжьи отварные' 89.0 3.0 0.0 812]\n",
      "['Масло сладко-сливочное «Вологодское»' 82.5 0.5 0.8 748]\n",
      "['Масло сладко-сливочное несоленое' 82.5 0.5 0.8 748]\n",
      "['Маргарин сливочный' 82.0 0.3 1.0 743]\n",
      "['Маргарин молочный столовый' 82.0 0.3 1.0 743]\n",
      "['Маргарин «Экстра»' 82.0 0.5 1.0 744]\n"
     ]
    }
   ],
   "source": [
    "path = 'C:/Users/Matvey/Downloads/data.xlsx'\n",
    "data = pd.read_excel(path)\n",
    "data = data.to_numpy()\n",
    "\n",
    "maxi = 0\n",
    "maxis = []\n",
    "\n",
    "\n",
    "for i in data:\n",
    "    if i[4] >= maxi:\n",
    "        maxi = i[4]\n",
    "        best = i\n",
    "\n",
    "print(best)\n",
    "\n",
    "\n",
    "sorti = data[data[:, 1]. argsort ()[::-1]]\n",
    "for i in range(10):\n",
    "    print(sorti[i])\n"
   ]
  },
  {
   "cell_type": "code",
   "execution_count": null,
   "metadata": {},
   "outputs": [],
   "source": [
    "\n",
    "# storage, num = map(int, input().split())\n",
    "# u_list = [int(input()) for _ in range(num)]\n",
    "path = 'C:/Users/Matvey/Downloads/26_demo.txt'\n",
    "\n",
    "with open(path, 'r') as f:\n",
    "    data = f.read().splitlines()\n",
    "\n",
    "\n",
    "storage = int(data[0][:4])\n",
    "\n",
    "u_list = []\n",
    "for i in range(1, len(data)):\n",
    "    u_list.append(int(data[i]))\n",
    "    \n",
    "def get_max_users(storage, u_list):\n",
    "    u_list = sorted(u_list)\n",
    "    s = 0\n",
    "    c = 0 \n",
    "    maximum = 0\n",
    "    for i in range(len(u_list)):\n",
    "        s += u_list[i]\n",
    "        c += 1\n",
    "        maximum = u_list[i]\n",
    "        \n",
    "        if s > storage:\n",
    "            s -= u_list[i]\n",
    "            c -= 1\n",
    "            maximum = u_list[i - 1]\n",
    "\n",
    "    return c, maximum\n",
    "\n",
    "print(get_max_users(storage, u_list))\n"
   ]
  },
  {
   "cell_type": "code",
   "execution_count": 30,
   "metadata": {},
   "outputs": [
    {
     "name": "stdout",
     "output_type": "stream",
     "text": [
      "[[5627 5841]\n",
      " [5544 6520]\n",
      " [1449 3580]\n",
      " [2984 5984]\n",
      " [6164 2583]\n",
      " [9588 3467]\n",
      " [1440 8636]\n",
      " [7706 8023]\n",
      " [6847 6023]\n",
      " [ 577 1545]\n",
      " [7361 5893]\n",
      " [4221 5994]\n",
      " [3118 5054]\n",
      " [1546 4062]\n",
      " [ 780 3433]\n",
      " [6926 2390]\n",
      " [3702 6714]\n",
      " [2278 7180]\n",
      " [9156 3466]\n",
      " [2294 8733]]\n",
      "None\n"
     ]
    }
   ],
   "source": [
    "path1 = 'C:/Users/Matvey/Downloads/27-A_demo.txt'\n",
    "path2 = 'C:/Users/Matvey/Downloads/27-B_demo.txt'\n",
    "\n",
    "with open(path1, 'r') as f:\n",
    "    data_A = f.read().splitlines()\n",
    "\n",
    "with open(path2, 'r') as f:\n",
    "    data_B = f.read().splitlines()\n",
    "\n",
    "data_A = data_A[1:]\n",
    "data_B = data_B[1:]\n",
    "\n",
    "\n",
    "A = []\n",
    "B = []\n",
    "\n",
    "for i in data_A:\n",
    "    A.append(list(map(int, i.split())))\n",
    "\n",
    "\n",
    "for j in data_B:\n",
    "    B.append(list(map(int, j.split())))\n",
    "\n",
    "A = np.array(A)\n",
    "B = np.array(B)\n",
    "print(A)\n",
    "\n",
    "\n",
    "\n",
    "\n",
    "def get_sum(A, B):\n",
    "    S_a = 0\n",
    "    S_b = 0\n",
    "\n",
    "    for num in A:\n",
    "        if int(num[0]) > int(num[1]):\n",
    "            S_a += int(num[0])\n",
    "            \n",
    "        else:\n",
    "            S_a += int(num[1])\n",
    "            \n",
    "    \n",
    "    for num in B:\n",
    "        if int(num[0]) > int(num[1]):\n",
    "            S_b += int(num[0])\n",
    "            \n",
    "        else:\n",
    "            S_b += int(num[1])\n",
    "            \n",
    "\n",
    "\n",
    "    return S_a, S_b\n",
    "\n",
    "\n",
    "# print(get_sum(A, B))\n",
    "\n",
    "\n",
    "\n",
    "\n",
    "\n"
   ]
  }
 ],
 "metadata": {
  "kernelspec": {
   "display_name": "venv",
   "language": "python",
   "name": "python3"
  },
  "language_info": {
   "codemirror_mode": {
    "name": "ipython",
    "version": 3
   },
   "file_extension": ".py",
   "mimetype": "text/x-python",
   "name": "python",
   "nbconvert_exporter": "python",
   "pygments_lexer": "ipython3",
   "version": "3.10.7"
  },
  "orig_nbformat": 4
 },
 "nbformat": 4,
 "nbformat_minor": 2
}
