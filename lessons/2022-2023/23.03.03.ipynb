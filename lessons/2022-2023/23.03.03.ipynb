{
 "cells": [
  {
   "cell_type": "markdown",
   "metadata": {},
   "source": [
    "# Как работать с ipynb блокнотами\n"
   ]
  },
  {
   "cell_type": "code",
   "execution_count": 1,
   "metadata": {},
   "outputs": [],
   "source": [
    "import numpy as np\n",
    "import matplotlib.pyplot as plt\n",
    "\n",
    "\n",
    "class Data:\n",
    "    def __init__(self, x, y):\n",
    "        self.x = x\n",
    "        self.y = y\n",
    "        self.xp = []\n",
    "        self.yp = []\n",
    "\n",
    "    def add_point(self, px):\n",
    "        py = self.interpolate(self.x, self.y, px)\n",
    "\n",
    "        self.x = np.append(self.x, px)\n",
    "        self.x = np.sort(self.x)\n",
    "        i = np.where(self.x == px)[0]\n",
    "        self.y = np.insert(self.y, i, py)\n",
    "\n",
    "        self.xp.append(px)\n",
    "        self.yp.append(py)\n",
    "\n",
    "\n",
    "    def __get_data__(self):\n",
    "        return self.x, self.y, self.xp, self.yp\n",
    "\n",
    "\n",
    "    @staticmethod\n",
    "    def interpolate(arr, arr2, x_new):\n",
    "        index = np.searchsorted(arr, x_new, side='left')\n",
    "        x_left, x_right = arr[index - 1], arr[index]\n",
    "        y_left, y_right = arr2[index - 1], arr2[index]\n",
    "\n",
    "        k = (y_right - y_left) / (x_right - x_left)\n",
    "        b = y_left - k * x_left\n",
    "        y_new = k * x_new + b\n",
    "        return y_new\n",
    "\n",
    "\n",
    "class Point:\n",
    "    def __init__(self, x):\n",
    "        self.x = x\n",
    "\n",
    "    def get_init(self):\n",
    "        return self.x\n",
    "\n",
    "\n",
    "x = np.array([0, 1, 2, 3, 4, 5])\n",
    "y = np.array([-2.0, 3.89, 4.033, 5.023, 9.0, 11.0])\n"
   ]
  },
  {
   "cell_type": "code",
   "execution_count": 2,
   "metadata": {},
   "outputs": [
    {
     "name": "stdout",
     "output_type": "stream",
     "text": [
      "[0.1        0.35263158 0.60526316 0.85789474 1.11052632 1.36315789\n",
      " 1.61578947 1.86842105 2.12105263 2.37368421 2.62631579 2.87894737\n",
      " 3.13157895 3.38421053 3.63684211 3.88947368 4.14210526 4.39473684\n",
      " 4.64736842 4.9       ]\n",
      "<bound method Data.__get_data__ of <__main__.Data object at 0x00000197427CF2B0>>\n"
     ]
    }
   ],
   "source": [
    "data = Data(x, y)\n",
    "u = np.linspace(0.1, 4.9, 20)\n",
    "print(u)\n",
    "\n",
    "\n",
    "for i in u:\n",
    "    data.add_point(i)\n",
    "\n",
    "print(data.__get_data__)"
   ]
  },
  {
   "cell_type": "code",
   "execution_count": 3,
   "metadata": {},
   "outputs": [
    {
     "data": {
      "text/plain": "<Figure size 640x480 with 1 Axes>",
      "image/png": "[encoded data removed]"
     },
     "metadata": {},
     "output_type": "display_data"
    }
   ],
   "source": [
    "plt.plot(data.__get_data__()[0], data.__get_data__()[1], \"bo\")\n",
    "plt.plot(data.__get_data__()[2], data.__get_data__()[3], \"ro\")\n",
    "plt.show()\n"
   ]
  }
 ],
 "metadata": {
  "kernelspec": {
   "display_name": "venv",
   "language": "python",
   "name": "python3"
  },
  "language_info": {
   "codemirror_mode": {
    "name": "ipython",
    "version": 3
   },
   "file_extension": ".py",
   "mimetype": "text/x-python",
   "name": "python",
   "nbconvert_exporter": "python",
   "pygments_lexer": "ipython3",
   "version": "3.10.7"
  },
  "orig_nbformat": 4
 },
 "nbformat": 4,
 "nbformat_minor": 2
}
