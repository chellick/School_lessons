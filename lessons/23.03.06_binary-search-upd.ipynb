{
 "cells": [
  {
   "attachments": {},
   "cell_type": "markdown",
   "metadata": {},
   "source": [
    "# Бинарный поиск upd.\n",
    "\n",
    "\n",
    "$i = log_{2}N$ - количество вопросов\n",
    "\n",
    "Например: $i = log_{2}14 \\approx 3,6 = 4$\n"
   ]
  },
  {
   "cell_type": "code",
   "execution_count": 4,
   "metadata": {},
   "outputs": [],
   "source": [
    "import numpy as np\n",
    "import math"
   ]
  },
  {
   "cell_type": "code",
   "execution_count": 25,
   "metadata": {},
   "outputs": [
    {
     "name": "stdout",
     "output_type": "stream",
     "text": [
      "[0 1 2 3 4 5 6 7 8 9]\n"
     ]
    },
    {
     "data": {
      "text/plain": [
       "2"
      ]
     },
     "execution_count": 25,
     "metadata": {},
     "output_type": "execute_result"
    }
   ],
   "source": [
    "import numpy as np\n",
    "# num = int(input())\n",
    "a = np.arange(0, 10, 1)\n",
    "x = 4\n",
    "b = a[len(a)//2:]\n",
    "\n",
    "def par(x):\n",
    "    return x ** 2\n",
    "\n",
    "\n",
    "def f(a, x):\n",
    "    left = 0\n",
    "    right = len(a) - 1\n",
    "    count = 0\n",
    "    while True:\n",
    "        mid = (left + right) // 2\n",
    "        if par(a[mid]) == x:\n",
    "            return mid\n",
    "        \n",
    "        elif par(a[mid]) < x:\n",
    "            left = mid + 1\n",
    "        elif par(a[mid]) > x:\n",
    "            right = mid - 1\n",
    "        \n",
    "        if math.ceil(math.log(len(a), 2)) < count:\n",
    "            return print('No such element found')\n",
    "        count += 1\n",
    "\n",
    "    \n",
    "\n",
    "\n",
    "# print(math.ceil(math.log(len(a), 2)))\n",
    "print(a)\n",
    "f(a, x)\n",
    "\n"
   ]
  },
  {
   "attachments": {},
   "cell_type": "markdown",
   "metadata": {},
   "source": [
    "* Обнаружение мошенничества в банковских транзакциях с помощью нейронных сетей и машинного обучения. \n",
    "\n"
   ]
  }
 ],
 "metadata": {
  "kernelspec": {
   "display_name": "venv",
   "language": "python",
   "name": "python3"
  },
  "language_info": {
   "codemirror_mode": {
    "name": "ipython",
    "version": 3
   },
   "file_extension": ".py",
   "mimetype": "text/x-python",
   "name": "python",
   "nbconvert_exporter": "python",
   "pygments_lexer": "ipython3",
   "version": "3.10.7"
  },
  "orig_nbformat": 4
 },
 "nbformat": 4,
 "nbformat_minor": 2
}
