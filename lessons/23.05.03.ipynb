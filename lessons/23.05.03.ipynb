{
 "cells": [
  {
   "cell_type": "code",
   "execution_count": 36,
   "metadata": {},
   "outputs": [],
   "source": [
    "import time\n",
    "import os"
   ]
  },
  {
   "cell_type": "code",
   "execution_count": 37,
   "metadata": {},
   "outputs": [
    {
     "name": "stdout",
     "output_type": "stream",
     "text": [
      "6\n"
     ]
    }
   ],
   "source": [
    "def f(x):\n",
    "    return x * 2\n",
    "print(f(3))"
   ]
  },
  {
   "cell_type": "code",
   "execution_count": 38,
   "metadata": {},
   "outputs": [
    {
     "name": "stdout",
     "output_type": "stream",
     "text": [
      "9\n"
     ]
    }
   ],
   "source": [
    "x = 3\n",
    "print((lambda x: x ** 2)(3))"
   ]
  },
  {
   "cell_type": "code",
   "execution_count": 51,
   "metadata": {},
   "outputs": [],
   "source": [
    "a = [15, 36, 19, 76, 100, 111, 9, 23, 16]\n"
   ]
  },
  {
   "cell_type": "code",
   "execution_count": 56,
   "metadata": {},
   "outputs": [
    {
     "name": "stdout",
     "output_type": "stream",
     "text": [
      "[100, 111, 23, 15, 16, 36, 9, 19, 76]\n"
     ]
    }
   ],
   "source": [
    "def summa_digits(x):\n",
    "    return sum(map(int, list(str(x))))\n",
    "\n",
    "a = sorted(a, key=summa_digits)\n",
    "print(a)"
   ]
  },
  {
   "cell_type": "code",
   "execution_count": 58,
   "metadata": {},
   "outputs": [
    {
     "name": "stdout",
     "output_type": "stream",
     "text": [
      "[100, 111, 23, 15, 76, 36, 16, 19, 9]\n"
     ]
    }
   ],
   "source": [
    "# a = sorted(a, key=lambda x: sum(map(int, list(str(x)))))\n",
    "a = sorted(a, key=lambda x: (x % 10, -x))\n",
    "print(a)"
   ]
  },
  {
   "cell_type": "code",
   "execution_count": 65,
   "metadata": {},
   "outputs": [
    {
     "name": "stdout",
     "output_type": "stream",
     "text": [
      "['Вася, 2', 'Катя, 3', 'Петя, 5', 'Рита, 5']\n"
     ]
    }
   ],
   "source": [
    "a = [\n",
    "    \"Петя, 5\",\n",
    "    \"Вася, 2\",\n",
    "    \"Катя, 3\",\n",
    "    \"Рита, 5\"\n",
    "]\n",
    "\n",
    "a = sorted(a, key=lambda x: (list((x).split())[0], int(list((x).split())[1])))\n",
    "print(a)\n"
   ]
  },
  {
   "cell_type": "code",
   "execution_count": 132,
   "metadata": {},
   "outputs": [
    {
     "name": "stdout",
     "output_type": "stream",
     "text": [
      "['-120', '120']\n"
     ]
    }
   ],
   "source": [
    "a = int(input())\n",
    "num = []\n",
    "\n",
    "for i in range(a):\n",
    "    n = input()\n",
    "\n",
    "    if n[0] != '-':\n",
    "        if len(n) == 3:\n",
    "            num.append(int(n[::-1]))\n",
    "\n",
    "    elif n[0] == '-':\n",
    "        num.append(int('-' + n[1:][::-1]))\n",
    "\n",
    "num1 = sorted(num)\n",
    "num2 = []\n",
    "\n",
    "for i in num1:\n",
    "    if len(str(i)) and i < 0:\n",
    "        r = '-' + str(abs(i))[::-1]\n",
    "        for _ in range(4 - len(str(i))):\n",
    "                       r += '0'\n",
    "    \n",
    "        num2.append(r)\n",
    "        continue\n",
    "    \n",
    "    r = str(abs(i))[::-1]\n",
    "    for _ in range(3 - len(str(i))):\n",
    "                       r += '0'\n",
    "\n",
    "    num2.append(r)\n",
    "    \n",
    "\n",
    "\n",
    "print(num2)"
   ]
  },
  {
   "cell_type": "code",
   "execution_count": null,
   "metadata": {},
   "outputs": [],
   "source": []
  }
 ],
 "metadata": {
  "kernelspec": {
   "display_name": "venv",
   "language": "python",
   "name": "python3"
  },
  "language_info": {
   "codemirror_mode": {
    "name": "ipython",
    "version": 3
   },
   "file_extension": ".py",
   "mimetype": "text/x-python",
   "name": "python",
   "nbconvert_exporter": "python",
   "pygments_lexer": "ipython3",
   "version": "3.10.7"
  },
  "orig_nbformat": 4
 },
 "nbformat": 4,
 "nbformat_minor": 2
}
