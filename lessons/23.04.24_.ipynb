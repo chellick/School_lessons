{
 "cells": [
  {
   "cell_type": "code",
   "execution_count": 4,
   "metadata": {},
   "outputs": [],
   "source": [
    "import numpy as np\n",
    "import matplotlib.pyplot as plt\n",
    "import random"
   ]
  },
  {
   "attachments": {},
   "cell_type": "markdown",
   "metadata": {},
   "source": [
    "$ \\frac{k}{n} = \\frac{S_{окр}}{S_{кв}} $\n",
    "\n",
    "где $k$ - количетво точек в окружности, $n$ - кол-во точек"
   ]
  },
  {
   "cell_type": "code",
   "execution_count": 24,
   "metadata": {},
   "outputs": [
    {
     "name": "stdout",
     "output_type": "stream",
     "text": [
      "3.14552\n",
      "3.141592653589793\n"
     ]
    }
   ],
   "source": [
    "a = 2\n",
    "r = a / 2\n",
    "points = []\n",
    "circle_points = []\n",
    "\n",
    "for i in range(100000):\n",
    "    points.append((random.uniform(-r, r), (random.uniform(-r, r))))\n",
    "\n",
    "points = np.array(points)\n",
    "\n",
    "\n",
    "count = 0\n",
    "for i in points:\n",
    "    if i[0] ** 2 + i[1] ** 2 <= r ** 2:\n",
    "        count += 1\n",
    "\n",
    "\n",
    "\n",
    "print((count / 100000) * a**2)\n",
    "print(np.pi * r ** 2)"
   ]
  }
 ],
 "metadata": {
  "kernelspec": {
   "display_name": "venv",
   "language": "python",
   "name": "python3"
  },
  "language_info": {
   "codemirror_mode": {
    "name": "ipython",
    "version": 3
   },
   "file_extension": ".py",
   "mimetype": "text/x-python",
   "name": "python",
   "nbconvert_exporter": "python",
   "pygments_lexer": "ipython3",
   "version": "3.10.7"
  },
  "orig_nbformat": 4
 },
 "nbformat": 4,
 "nbformat_minor": 2
}
