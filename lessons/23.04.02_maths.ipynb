{
 "cells": [
  {
   "attachments": {},
   "cell_type": "markdown",
   "metadata": {},
   "source": [
    "# Среднеквадратичное отклонение\n",
    "\n",
    "\n",
    "* Точные математические формулы\n",
    "\n",
    "$ S = \\int^{a}_{b} f(x)\\delta{x} $\n",
    "\n",
    "* Приближённые\n",
    "\n",
    "$ S_n = \\sum_{i = 0}^{n - 1} f(i d{x + a})dx$"
   ]
  },
  {
   "cell_type": "code",
   "execution_count": 88,
   "metadata": {},
   "outputs": [],
   "source": [
    "import pandas as pd\n",
    "import numpy as np\n",
    "from sklearn.preprocessing import MinMaxScaler\n"
   ]
  },
  {
   "cell_type": "code",
   "execution_count": 127,
   "metadata": {},
   "outputs": [
    {
     "name": "stdout",
     "output_type": "stream",
     "text": [
      "[29  7 23 40  9 18 55 16 20 26 27 16 22 10 10 45  1  7 44 60 15 30 40 46\n",
      " 20 40 32]\n",
      "26.22222222222222\n",
      "15.64100462377739\n"
     ]
    }
   ],
   "source": [
    "\n",
    "\n",
    "path = \"C:/Users/Matvey/Downloads/Длина волос 10А - Лист1.csv\"  \n",
    "\n",
    "data = pd.read_csv(path, header=None)\n",
    "data = data.to_numpy()\n",
    "\n",
    "hair = []\n",
    "for leng in range(1, len(data)):\n",
    "    hair.append(int(data[leng][2]))\n",
    "hair = np.array(hair)\n",
    "\n",
    "print(hair)\n",
    "\n",
    "\n",
    "def get_mid(array):\n",
    "    summ = 0\n",
    "    for i in array:\n",
    "        summ += i\n",
    "\n",
    "    return summ / len(array)\n",
    "\n",
    "def get_q(array):\n",
    "    global mid\n",
    "    s = 0\n",
    "    for i in array:\n",
    "        s += (i - mid) ** 2\n",
    "\n",
    "    return ((1 / (len(array) - 1)) * s) ** 0.5\n",
    "\n",
    "mid = get_mid(hair)\n",
    "\n",
    "print(get_mid(hair))\n",
    "print(get_q(hair))\n"
   ]
  },
  {
   "cell_type": "code",
   "execution_count": null,
   "metadata": {},
   "outputs": [],
   "source": [
    "\n",
    "path = \"C:/Users/Matvey/Downloads/Длина волос 10А - Лист1.csv\"  \n",
    "\n",
    "data = pd.read_csv(path, header=None)\n",
    "data = data.to_numpy()\n",
    "\n",
    "hair = []\n",
    "age = []\n",
    "for leng in range(1, len(data)):\n",
    "    hair.append(int(data[leng][2]))\n",
    "    age.append(int(data[leng][1]))\n",
    "\n",
    "hair = np.array(hair)\n",
    "age = np.array(age)\n",
    "\n",
    "df = []\n",
    "\n",
    "for a,b in zip(age, hair):\n",
    "    df.append([a, b])\n",
    "\n",
    "df = np.array(df)\n",
    "scaler = MinMaxScaler()\n",
    "lst = scaler.fit_transform(df)\n",
    "\n",
    "# print(lst)\n"
   ]
  },
  {
   "cell_type": "code",
   "execution_count": null,
   "metadata": {},
   "outputs": [],
   "source": [
    "a = np.array([[1, 2, 3], [4, 5, 6]])\n",
    "\n",
    "mid = get_mid(a)\n",
    "\n",
    "\n",
    "print(get_mid(a), 'original')\n",
    "print(get_q(a), 'original')\n",
    "\n",
    "\n",
    "print(a.mean(axis=1), 'numpy')\n",
    "print(a.std(ddof=1), 'numpy') \n"
   ]
  },
  {
   "cell_type": "code",
   "execution_count": null,
   "metadata": {},
   "outputs": [],
   "source": [
    "a = np.array([age, hair])\n",
    "\n",
    "# normal\n",
    "\n",
    "print(lst.mean(axis=0))\n",
    "print(lst.std(axis=0, ddof=1))"
   ]
  },
  {
   "cell_type": "code",
   "execution_count": null,
   "metadata": {},
   "outputs": [],
   "source": [
    "url = \"https://raw.githubusercontent.com/jbrownlee/Datasets/master/iris.csv\"\n",
    "df = pd.read_csv(url, header = None)\n",
    "df = df.to_numpy()\n",
    "\n",
    "first = []\n",
    "second = []\n",
    "third = []\n",
    "fourth = []\n",
    "\n",
    "for i in range(1, len(df)):\n",
    "    first.append(df[i][0])\n",
    "    second.append(df[i][1])\n",
    "    third.append(df[i][2])\n",
    "    fourth.append(df[i][3])\n",
    "\n",
    "final = [first, second, third, fourth]\n",
    "final = np.array(final)\n",
    "\n",
    "mid = get_mid(final)\n",
    "\n",
    "\n",
    "print(final.mean(axis=1), \"numpy\")\n",
    "print(final.std(axis=1, ddof=1), \"numpy\")\n"
   ]
  }
 ],
 "metadata": {
  "kernelspec": {
   "display_name": "venv",
   "language": "python",
   "name": "python3"
  },
  "language_info": {
   "codemirror_mode": {
    "name": "ipython",
    "version": 3
   },
   "file_extension": ".py",
   "mimetype": "text/x-python",
   "name": "python",
   "nbconvert_exporter": "python",
   "pygments_lexer": "ipython3",
   "version": "3.10.7"
  },
  "orig_nbformat": 4
 },
 "nbformat": 4,
 "nbformat_minor": 2
}
