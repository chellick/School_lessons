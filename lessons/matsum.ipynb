{
 "cells": [
  {
   "attachments": {},
   "cell_type": "markdown",
   "metadata": {},
   "source": [
    "# Сложение матриц\n",
    "\n",
    "Аналог рукописного кода функции np.matmul"
   ]
  },
  {
   "cell_type": "code",
   "execution_count": 142,
   "metadata": {},
   "outputs": [],
   "source": [
    "import numpy as np"
   ]
  },
  {
   "cell_type": "code",
   "execution_count": 1,
   "metadata": {},
   "outputs": [
    {
     "ename": "NameError",
     "evalue": "name 'np' is not defined",
     "output_type": "error",
     "traceback": [
      "\u001b[1;31m---------------------------------------------------------------------------\u001b[0m",
      "\u001b[1;31mNameError\u001b[0m                                 Traceback (most recent call last)",
      "Cell \u001b[1;32mIn[1], line 9\u001b[0m\n\u001b[0;32m      1\u001b[0m \u001b[39m# a = np.array([[1, 2, 3],\u001b[39;00m\n\u001b[0;32m      2\u001b[0m \u001b[39m#               [5, 6, 7],\u001b[39;00m\n\u001b[0;32m      3\u001b[0m \u001b[39m#               [8, 9 , 10]])\u001b[39;00m\n\u001b[1;32m   (...)\u001b[0m\n\u001b[0;32m      6\u001b[0m \u001b[39m#               [3, -1, -5],\u001b[39;00m\n\u001b[0;32m      7\u001b[0m \u001b[39m#               [8, 5, 6]])\u001b[39;00m\n\u001b[1;32m----> 9\u001b[0m a \u001b[39m=\u001b[39m np\u001b[39m.\u001b[39marray([[\u001b[39m-\u001b[39m\u001b[39m7\u001b[39m, \u001b[39m1\u001b[39m], \n\u001b[0;32m     10\u001b[0m               [\u001b[39m1\u001b[39m, \u001b[39m2\u001b[39m]])\n\u001b[0;32m     12\u001b[0m b \u001b[39m=\u001b[39m np\u001b[39m.\u001b[39marray([[\u001b[39m2\u001b[39m, \u001b[39m3\u001b[39m], [\u001b[39m0\u001b[39m, \u001b[39m1\u001b[39m], [\u001b[39m2\u001b[39m, \u001b[39m0\u001b[39m]])\n\u001b[0;32m     14\u001b[0m \u001b[39m# print(a, b)\u001b[39;00m\n",
      "\u001b[1;31mNameError\u001b[0m: name 'np' is not defined"
     ]
    }
   ],
   "source": [
    "# a = np.array([[1, 2, 3],\n",
    "#               [5, 6, 7],\n",
    "#               [8, 9 , 10]])\n",
    "\n",
    "# b = np.array([[2 ,5 ,8],\n",
    "#               [3, -1, -5],\n",
    "#               [8, 5, 6]])\n",
    "\n",
    "a = np.array([[-7, 1], \n",
    "              [1, 2]])\n",
    "              \n",
    "b = np.array([[2, 3], [0, 1], [2, 0]])\n",
    "\n",
    "# print(a, b)\n",
    "c = np.zeros(shape=(2, 2))\n",
    "\n",
    "def mult(a, b, c):\n",
    "    for i in range(a.shape[0]):\n",
    "        for j in range(b.shape[1]):\n",
    "            s=0\n",
    "            for el in range(b.shape[0]):\n",
    "                s+= a[i][el] * b[el][j]\n",
    "            c[i][j] = s\n",
    "    return c\n",
    "\n",
    "\n",
    "e = np.array([[1, 0],\n",
    "              [0, 1]])  \n",
    "\n",
    "\n",
    "def trans(q):\n",
    "    rows = len(q)\n",
    "    cols = len(q[0])\n",
    "\n",
    "    tp = [[0 for j in range(rows)] for i in range(cols)]\n",
    "\n",
    "    for i in range(rows):\n",
    "        for j in range(cols):\n",
    "            tp[j][i] = q[i][j]\n",
    "\n",
    "    return tp\n",
    "\n",
    "\n",
    "def eq(a, e, c):\n",
    "    \n",
    "    r = 0.2 * mult(a, a, c) + trans(a) - 5 * e\n",
    "    return r\n",
    "\n",
    "\n",
    "print(eq(a, e, c))"
   ]
  }
 ],
 "metadata": {
  "kernelspec": {
   "display_name": "venv",
   "language": "python",
   "name": "python3"
  },
  "language_info": {
   "codemirror_mode": {
    "name": "ipython",
    "version": 3
   },
   "file_extension": ".py",
   "mimetype": "text/x-python",
   "name": "python",
   "nbconvert_exporter": "python",
   "pygments_lexer": "ipython3",
   "version": "3.10.7"
  },
  "orig_nbformat": 4
 },
 "nbformat": 4,
 "nbformat_minor": 2
}
