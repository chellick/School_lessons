{
 "cells": [
  {
   "attachments": {},
   "cell_type": "markdown",
   "metadata": {},
   "source": [
    "# Neural networks (АБ ver.)"
   ]
  },
  {
   "attachments": {},
   "cell_type": "markdown",
   "metadata": {},
   "source": [
    "$(x_i, y_i) i = \\overline{1, n}$\n",
    "\n",
    "\n",
    "\n",
    "Среднекватичная ошибка $$ E = \\sqrt{\\frac{\\sum_{i=1}^{n}(y_i - y_m(x_i)^2)}{n}} $$\n",
    "\n",
    "\n"
   ]
  },
  {
   "attachments": {},
   "cell_type": "markdown",
   "metadata": {},
   "source": [
    "генерирования выборок"
   ]
  },
  {
   "cell_type": "code",
   "execution_count": 100,
   "metadata": {},
   "outputs": [],
   "source": [
    "import numpy as np\n",
    "import random\n",
    "import plotly.graph_objects as go\n",
    "import matplotlib.pyplot as plt\n",
    "import math"
   ]
  },
  {
   "cell_type": "code",
   "execution_count": null,
   "metadata": {},
   "outputs": [],
   "source": [
    "\n",
    "def f(x, k, c):\n",
    "    return x * k + c\n",
    "\n",
    "min = math.inf\n",
    "\n",
    "edu = []\n",
    "test = []\n",
    "\n",
    "k = np.arange(-10, 10, 0.1)\n",
    "c = np.arange(-10, 10, 0.1)\n",
    "\n",
    "sum = 0\n",
    "n = 0\n",
    "\n",
    "for i in range(10):\n",
    "    x = random.uniform(-5, 5)\n",
    "    edu.append([x, f(x, 2, 3)])\n",
    "\n",
    "edu = np.array(edu)\n",
    "\n",
    "\n",
    "\n",
    "\n",
    "def count_sum(sum, n):\n",
    "    return (sum / n) ** 0.5\n",
    "\n",
    "\n",
    "n = len(edu)\n",
    "\n",
    "for a in k:\n",
    "    for b in c:\n",
    "        for i in edu:\n",
    "            sum += (i[1] - f(i[0], a, b)) ** 2\n",
    "            if min >= count_sum(sum, n):\n",
    "                best = (a, b)\n",
    "                min = count_sum(sum, n)\n",
    "        sum = 0\n",
    "\n",
    "\n",
    "for i in range(4):\n",
    "    x = random.uniform(-5, 5)\n",
    "    test.append([x, f(x, 2, 3)])\n",
    "\n",
    "test = np.array(test)\n",
    "\n",
    "summa = 0\n",
    "minimum = math.inf\n",
    "\n",
    "\n",
    "for i in test:\n",
    "    summa += (i[1] - f(i[0], best[0], best[1])) ** 2\n",
    "    if minimum >= count_sum(summa, len(test)):\n",
    "        minimum = count_sum(summa, len(test))\n",
    "\n",
    "print(minimum)\n",
    "        \n",
    "\n",
    "\"\"\"\n",
    "\n",
    "print(min)\n",
    "print(best)\n",
    "\n",
    "\n",
    "x = []\n",
    "y = []\n",
    "# x1 = []\n",
    "# y1 = []\n",
    "\n",
    "\n",
    "for r in edu:\n",
    "    x.append(r[0])\n",
    "    y.append(r[1])\n",
    "\n",
    "# for t in test:\n",
    "#     x1.append(t[0])\n",
    "#     y1.append(t[1])\n",
    "\n",
    "x1 = np.arange(-5, 5, 0.1)\n",
    "y1 = [f(i, best[0], best[1]) for i in x1]\n",
    "\n",
    "\n",
    "plt.scatter(x, y, color = 'red')\n",
    "plt.plot(x1, y1, color = 'blue')\n",
    "# plt.plot()\n",
    "\n",
    "plt.show()\n",
    "\n",
    "\n",
    "\"\"\"\n"
   ]
  },
  {
   "cell_type": "code",
   "execution_count": 96,
   "metadata": {},
   "outputs": [
    {
     "name": "stdout",
     "output_type": "stream",
     "text": [
      "80892.29415533539\n"
     ]
    },
    {
     "data": {
      "image/png": "[encoded data removed]",
      "text/plain": [
       "<Figure size 640x480 with 1 Axes>"
      ]
     },
     "metadata": {},
     "output_type": "display_data"
    }
   ],
   "source": [
    "\n",
    "x = np.linspace(5, 100, 1000)\n",
    "\n",
    "# print(x)\n",
    "\n",
    "def function(x):\n",
    "    # return math.sin(x) ** 2 + math.cos(x) ** 2\n",
    "    # if x != 0:\n",
    "    return (x ** 2 - 3 * x + 100 + x) / (np.sin(x) + np.cos(x))\n",
    "    # else:\n",
    "    #     return 0\n",
    "\n",
    "def delta(a, b, n):\n",
    "    return (b - a) / n\n",
    "\n",
    "def integral(a, b, n):\n",
    "    summ = 0\n",
    "    for i in range(n):\n",
    "        summ += delta(a, b, n) * function(i * delta(a, b, n) + a)\n",
    "    return summ\n",
    "\n",
    "\n",
    "\n",
    "y = [function(i) for i in x]\n",
    "\n",
    "\n",
    "\n",
    "\n",
    "print(integral(5, 100, 1000))\n",
    "\n",
    "\n",
    "plt.scatter(x, y, color = 'red')\n",
    "\n",
    "plt.show()\n",
    "\n"
   ]
  }
 ],
 "metadata": {
  "kernelspec": {
   "display_name": "venv",
   "language": "python",
   "name": "python3"
  },
  "language_info": {
   "codemirror_mode": {
    "name": "ipython",
    "version": 3
   },
   "file_extension": ".py",
   "mimetype": "text/x-python",
   "name": "python",
   "nbconvert_exporter": "python",
   "pygments_lexer": "ipython3",
   "version": "3.10.7"
  },
  "orig_nbformat": 4,
  "vscode": {
   "interpreter": {
    "hash": "f7bde134a7c502adc0059564a4edb0f2edf7835668cfff0ff2e85bfa088b6b30"
   }
  }
 },
 "nbformat": 4,
 "nbformat_minor": 2
}
