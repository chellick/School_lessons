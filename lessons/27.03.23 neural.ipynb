{
 "cells": [
  {
   "attachments": {},
   "cell_type": "markdown",
   "metadata": {},
   "source": [
    "# Neural networks (АБ ver.)"
   ]
  },
  {
   "attachments": {},
   "cell_type": "markdown",
   "metadata": {},
   "source": [
    "$(x_i, y_i) i = \\overline{1, n}$\n",
    "\n",
    "\n",
    "\n",
    "Среднекватичная ошибка $$ E = \\sqrt{\\frac{\\sum_{i=1}^{n}(y_i - y_m(x_i)^2)}{n}} $$\n",
    "\n",
    "\n"
   ]
  },
  {
   "attachments": {},
   "cell_type": "markdown",
   "metadata": {},
   "source": [
    "генерирования выборок"
   ]
  },
  {
   "cell_type": "code",
   "execution_count": 2,
   "metadata": {},
   "outputs": [],
   "source": [
    "import numpy as np\n",
    "import random\n",
    "import plotly.graph_objects as go\n",
    "import matplotlib.pyplot as plt\n",
    "import math"
   ]
  },
  {
   "cell_type": "code",
   "execution_count": 11,
   "metadata": {},
   "outputs": [
    {
     "data": {
      "image/png": "[encoded data removed]",
      "text/plain": [
       "<Figure size 640x480 with 1 Axes>"
      ]
     },
     "metadata": {},
     "output_type": "display_data"
    }
   ],
   "source": [
    "\n",
    "def f(x, k, c):\n",
    "    if x + 3 == 0:\n",
    "        return 0\n",
    "    else:\n",
    "        return 6 / (x + 3)\n",
    "\n",
    "\n",
    "def create_data_set(left, right, r, k ,c):\n",
    "    arr = []\n",
    "    for _ in range(r):\n",
    "        point = random.uniform(left, right)\n",
    "        arr.append([point, f(point + random.uniform(-0.1, 0.1), k, c)])\n",
    "\n",
    "    return arr\n",
    "\n",
    "\n",
    "education = create_data_set(1, 6, 10, 2, 3)\n",
    "# print(education)\n",
    "# education.append((random.uniform(-1, 1), random.uniform(-1, 1)))\n",
    "\n",
    "test = create_data_set(1, 6, 4, 2, 3)\n",
    "\n",
    "\n",
    "k = np.arange(0, 10, 0.1)\n",
    "c = np.arange(-1, 5, 0.1)\n",
    "\n",
    "def count_sum(sum, n):\n",
    "    return (sum / n) ** 0.5\n",
    "\n",
    "def get_odds(k, c, arr):\n",
    "    summ = 0\n",
    "    minim = math.inf\n",
    "    n = len(education)\n",
    "    for a in k:\n",
    "        for b in c:\n",
    "            for i in arr:\n",
    "                summ += (i[1] - f(i[0], a, b)) ** 2\n",
    "                if minim >= count_sum(summ, n):\n",
    "                    best = (a, b)\n",
    "                    minim = count_sum(summ , n)\n",
    "                summ = 0\n",
    "    return best, minim\n",
    "\n",
    "res = get_odds(k, c, education)\n",
    "E = res[1]\n",
    "\n",
    "k1, c1 = res[0][0], res[0][1]\n",
    "\n",
    "final = get_odds([k1], [c1], test)\n",
    "\n",
    "x = []\n",
    "y = []\n",
    "\n",
    "for r in education:\n",
    "    x.append(r[0])\n",
    "    y.append(r[1])\n",
    "\n",
    "x1 = np.arange(1, 6, 0.1)\n",
    "y1 = [f(i, k1, c1) for i in x1]\n",
    "\n",
    "xt = []\n",
    "yt = []\n",
    "\n",
    "for t in test:\n",
    "    xt.append(t[0])\n",
    "    yt.append(t[1])\n",
    "\n",
    "\n",
    "\n",
    "\n",
    "plt.scatter(x, y, color = 'red')\n",
    "plt.scatter(xt, yt, color = 'green')\n",
    "plt.plot(x1, y1, color = 'blue')\n",
    "plt.show()\n",
    "\n"
   ]
  },
  {
   "cell_type": "code",
   "execution_count": 96,
   "metadata": {},
   "outputs": [
    {
     "name": "stdout",
     "output_type": "stream",
     "text": [
      "80892.29415533539\n"
     ]
    },
    {
     "data": {
      "image/png": "[encoded data removed]",
      "text/plain": [
       "<Figure size 640x480 with 1 Axes>"
      ]
     },
     "metadata": {},
     "output_type": "display_data"
    }
   ],
   "source": [
    "\n",
    "x = np.linspace(5, 100, 1000)\n",
    "\n",
    "# print(x)\n",
    "\n",
    "def function(x):\n",
    "    # return math.sin(x) ** 2 + math.cos(x) ** 2\n",
    "    # if x != 0:\n",
    "    return (x ** 2 - 3 * x + 100 + x) / (np.sin(x) + np.cos(x))\n",
    "    # else:\n",
    "    #     return 0\n",
    "\n",
    "def delta(a, b, n):\n",
    "    return (b - a) / n\n",
    "\n",
    "def integral(a, b, n):\n",
    "    summ = 0\n",
    "    for i in range(n):\n",
    "        summ += delta(a, b, n) * function(i * delta(a, b, n) + a)\n",
    "    return summ\n",
    "\n",
    "\n",
    "\n",
    "y = [function(i) for i in x]\n",
    "\n",
    "\n",
    "\n",
    "\n",
    "print(integral(5, 100, 1000))\n",
    "\n",
    "\n",
    "plt.scatter(x, y, color = 'red')\n",
    "\n",
    "plt.show()\n",
    "\n"
   ]
  }
 ],
 "metadata": {
  "kernelspec": {
   "display_name": "venv",
   "language": "python",
   "name": "python3"
  },
  "language_info": {
   "codemirror_mode": {
    "name": "ipython",
    "version": 3
   },
   "file_extension": ".py",
   "mimetype": "text/x-python",
   "name": "python",
   "nbconvert_exporter": "python",
   "pygments_lexer": "ipython3",
   "version": "3.10.7"
  },
  "orig_nbformat": 4,
  "vscode": {
   "interpreter": {
    "hash": "f7bde134a7c502adc0059564a4edb0f2edf7835668cfff0ff2e85bfa088b6b30"
   }
  }
 },
 "nbformat": 4,
 "nbformat_minor": 2
}
