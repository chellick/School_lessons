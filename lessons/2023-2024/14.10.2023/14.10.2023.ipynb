{
 "cells": [
  {
   "cell_type": "code",
   "execution_count": 1,
   "metadata": {},
   "outputs": [],
   "source": [
    "from turtle import *"
   ]
  },
  {
   "cell_type": "code",
   "execution_count": 2,
   "metadata": {},
   "outputs": [
    {
     "ename": "TypeError",
     "evalue": "right() missing 1 required positional argument: 'angle'",
     "output_type": "error",
     "traceback": [
      "\u001b[1;31m---------------------------------------------------------------------------\u001b[0m",
      "\u001b[1;31mTypeError\u001b[0m                                 Traceback (most recent call last)",
      "\u001b[1;32mc:\\python\\codes\\school-lessons\\lessons\\2023-2024\\14.10.2023.ipynb Ячейка 2\u001b[0m line \u001b[0;36m2\n\u001b[0;32m     <a href='vscode-notebook-cell:/c%3A/python/codes/school-lessons/lessons/2023-2024/14.10.2023.ipynb#W1sZmlsZQ%3D%3D?line=25'>26</a>\u001b[0m up()\n\u001b[0;32m     <a href='vscode-notebook-cell:/c%3A/python/codes/school-lessons/lessons/2023-2024/14.10.2023.ipynb#W1sZmlsZQ%3D%3D?line=26'>27</a>\u001b[0m forward(\u001b[39m10\u001b[39m)\n\u001b[1;32m---> <a href='vscode-notebook-cell:/c%3A/python/codes/school-lessons/lessons/2023-2024/14.10.2023.ipynb#W1sZmlsZQ%3D%3D?line=27'>28</a>\u001b[0m right()\n\u001b[0;32m     <a href='vscode-notebook-cell:/c%3A/python/codes/school-lessons/lessons/2023-2024/14.10.2023.ipynb#W1sZmlsZQ%3D%3D?line=28'>29</a>\u001b[0m done()\n",
      "\u001b[1;31mTypeError\u001b[0m: right() missing 1 required positional argument: 'angle'"
     ]
    },
    {
     "ename": "",
     "evalue": "",
     "output_type": "error",
     "traceback": [
      "\u001b[1;31mПри выполнении кода в текущей ячейке или предыдущей ячейке ядро аварийно завершило работу. Проверьте код в ячейках, чтобы определить возможную причину сбоя. Щелкните <a href=\"https://aka.ms/vscodeJupyterKernelCrash\">здесь</a> для получения дополнительных сведений. Подробнее см. в <a href='command:jupyter.viewOutput'>журнале Jupyter</a>."
     ]
    }
   ],
   "source": [
    "\n",
    "forward(100)\n",
    "right(90)\n",
    "forward(130)\n",
    "right(90)\n",
    "forward(100)\n",
    "right(90)\n",
    "forward(130)\n",
    "right(30)\n",
    "forward(100)\n",
    "right(90+30)\n",
    "forward(100)\n",
    "right(30)\n",
    "up()\n",
    "forward(20)\n",
    "right(90)\n",
    "forward(10)\n",
    "down()\n",
    "forward(30)\n",
    "left(90)\n",
    "forward(30)\n",
    "left(90)\n",
    "forward(30)\n",
    "left(90)\n",
    "forward(30)\n",
    "right(90)\n",
    "up()\n",
    "forward(10)\n",
    "right()\n",
    "done()"
   ]
  },
  {
   "cell_type": "code",
   "execution_count": null,
   "metadata": {},
   "outputs": [],
   "source": [
    "import itertools\n",
    "\n",
    "counter = 0\n",
    "\n",
    "for i in itertools.product(\"0234567\", repeat=5):\n",
    "    if i[0] == \"0\":\n",
    "        continue\n",
    "    else:\n",
    "        i = \"\".join(i)\n",
    "        ab = True\n",
    "        for j in range(len(i)-1):\n",
    "            if int(i[j]) % 2 == 0 and int(i[j+1]) % 2 == 0:\n",
    "                ab = False\n",
    "                break\n",
    "            \n",
    "            elif int(i[j]) % 2 == 1 and int(i[j+1]) % 2 == 1:\n",
    "                ab = False\n",
    "                break\n",
    "                \n",
    "        if ab == True:\n",
    "            if len(set(i)) == len(i):\n",
    "                print(i)\n",
    "                counter += 1\n",
    "                    \n",
    "\n",
    "print(counter)"
   ]
  }
 ],
 "metadata": {
  "kernelspec": {
   "display_name": "venv",
   "language": "python",
   "name": "python3"
  },
  "language_info": {
   "codemirror_mode": {
    "name": "ipython",
    "version": 3
   },
   "file_extension": ".py",
   "mimetype": "text/x-python",
   "name": "python",
   "nbconvert_exporter": "python",
   "pygments_lexer": "ipython3",
   "version": "3.11.4"
  }
 },
 "nbformat": 4,
 "nbformat_minor": 2
}
