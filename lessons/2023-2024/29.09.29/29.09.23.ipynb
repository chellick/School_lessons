{
 "cells": [
  {
   "cell_type": "code",
   "execution_count": 7,
   "metadata": {},
   "outputs": [],
   "source": [
    "import sys\n",
    "sys.setrecursionlimit(10000)"
   ]
  },
  {
   "cell_type": "code",
   "execution_count": 8,
   "metadata": {},
   "outputs": [
    {
     "data": {
      "text/plain": [
       "120"
      ]
     },
     "execution_count": 8,
     "metadata": {},
     "output_type": "execute_result"
    }
   ],
   "source": [
    "\n",
    "\n",
    "c = 0\n",
    "\n",
    "def f(x):\n",
    "    if x == 0:\n",
    "        return 0\n",
    "    \n",
    "    if x > 0 and x % 2 == 0:\n",
    "        return f(x / 2)\n",
    "    \n",
    "    if x > 0 and x % 2 != 0:\n",
    "        return 1 + f(x - 1)\n",
    "    \n",
    "    \n",
    "    \n",
    "for x in range(1, 1000):\n",
    "    if f(x) == 3:\n",
    "        c += 1\n",
    "        \n",
    "c"
   ]
  },
  {
   "cell_type": "code",
   "execution_count": 9,
   "metadata": {},
   "outputs": [
    {
     "data": {
      "text/plain": [
       "6069"
      ]
     },
     "execution_count": 9,
     "metadata": {},
     "output_type": "execute_result"
    }
   ],
   "source": [
    "c = 0\n",
    "\n",
    "def f(x):\n",
    "    if x < 11:\n",
    "        return x\n",
    "    \n",
    "    if x >= 11:\n",
    "        return x + f(x - 1)\n",
    "    \n",
    "    \n",
    "f(2024) - f(2021)"
   ]
  },
  {
   "cell_type": "code",
   "execution_count": 18,
   "metadata": {},
   "outputs": [
    {
     "data": {
      "text/plain": [
       "814893696"
      ]
     },
     "execution_count": 18,
     "metadata": {},
     "output_type": "execute_result"
    }
   ],
   "source": [
    "c = 0\n",
    "\n",
    "def f(n):\n",
    "    if n < 3:\n",
    "        return 1\n",
    "    \n",
    "    if n > 2 and n % 2 != 0:\n",
    "        return f(n-1) + 3 * f(n-2)\n",
    "    \n",
    "    if n > 2 and n % 2 == 0:\n",
    "        s = []\n",
    "        for i in range(1, n):\n",
    "            s.append(f(i))\n",
    "        return sum(s)\n",
    "    \n",
    "f(28)\n",
    "    "
   ]
  },
  {
   "cell_type": "code",
   "execution_count": 149,
   "metadata": {},
   "outputs": [
    {
     "data": {
      "text/plain": [
       "64229"
      ]
     },
     "execution_count": 149,
     "metadata": {},
     "output_type": "execute_result"
    }
   ],
   "source": [
    "pairs = []\n",
    "nums = []\n",
    "\n",
    "with open(\"17.txt\") as f:\n",
    "    for i in range(10000):\n",
    "        nums.append(int(f.readline()))\n",
    "        \n",
    "        \n",
    "for i in range(len(nums) - 1):\n",
    "    for j in range(i , len(nums)):\n",
    "        if ((abs(nums[i]) - abs(nums[j])) % 60 == 0) and ((abs(nums[i]) % 15 == 0) or (abs(nums[j]) % 15 == 0)):\n",
    "            pairs.append([nums[i], nums[j]])\n",
    "\n",
    "len(pairs)       "
   ]
  },
  {
   "cell_type": "code",
   "execution_count": 153,
   "metadata": {},
   "outputs": [
    {
     "data": {
      "text/plain": [
       "(6645, 81913)"
      ]
     },
     "execution_count": 153,
     "metadata": {},
     "output_type": "execute_result"
    }
   ],
   "source": [
    "triples = []\n",
    "nums = []\n",
    "max_val = 0\n",
    "\n",
    "with open(\"18.txt\") as f:\n",
    "    for i in range(6646):\n",
    "        line = f.readline()[:-1:]\n",
    "        if max_val < int(line) and line[-1] == \"3\" and line[-2] == \"1\":\n",
    "            max_val = int(line)\n",
    "        nums.append(int(line))\n",
    "nums[0], max_val"
   ]
  },
  {
   "cell_type": "code",
   "execution_count": 160,
   "metadata": {},
   "outputs": [],
   "source": [
    "def check(s):\n",
    "    c = 0\n",
    "    for i in s:\n",
    "        if len(str(i)) == 3:\n",
    "            c += 1\n",
    "    if c == 2:\n",
    "        return True\n",
    "    else: False\n",
    "        "
   ]
  },
  {
   "cell_type": "code",
   "execution_count": 163,
   "metadata": {},
   "outputs": [
    {
     "data": {
      "text/plain": [
       "965"
      ]
     },
     "execution_count": 163,
     "metadata": {},
     "output_type": "execute_result"
    }
   ],
   "source": [
    "answer = []\n",
    "\n",
    "for a in range(len(nums) - 2):\n",
    "    triple = [nums[a], nums[a+1], nums[a+2]]\n",
    "    if check([nums[a], nums[a+1], nums[a+2]]) and sum(triple) < max_val:\n",
    "        answer.append(triple)\n",
    "\n",
    "len(answer)"
   ]
  },
  {
   "cell_type": "code",
   "execution_count": 213,
   "metadata": {},
   "outputs": [
    {
     "data": {
      "text/plain": [
       "(7744, 989329)"
      ]
     },
     "execution_count": 213,
     "metadata": {},
     "output_type": "execute_result"
    }
   ],
   "source": [
    "nums = [int(x) for x in open(\"1777.txt\").readlines()]\n",
    "maximum = max([x for x in nums if x % 100 == 29])\n",
    "ans = []\n",
    "\n",
    "len(nums), maximum\n"
   ]
  },
  {
   "cell_type": "code",
   "execution_count": 214,
   "metadata": {},
   "outputs": [],
   "source": [
    "for a in range(0, len(nums) - 2):\n",
    "    triple = [nums[a], nums[a+1], nums[a+2]]\n",
    "    count = [len(str(abs(x))) for x in triple].count(5)\n",
    "    if count == 2 and sum(triple) <= maximum:\n",
    "        ans.append(sum(triple))"
   ]
  },
  {
   "cell_type": "code",
   "execution_count": 215,
   "metadata": {},
   "outputs": [
    {
     "data": {
      "text/plain": [
       "(157, 973622)"
      ]
     },
     "execution_count": 215,
     "metadata": {},
     "output_type": "execute_result"
    }
   ],
   "source": [
    "len(ans), max(ans)"
   ]
  }
 ],
 "metadata": {
  "kernelspec": {
   "display_name": "venv",
   "language": "python",
   "name": "python3"
  },
  "language_info": {
   "codemirror_mode": {
    "name": "ipython",
    "version": 3
   },
   "file_extension": ".py",
   "mimetype": "text/x-python",
   "name": "python",
   "nbconvert_exporter": "python",
   "pygments_lexer": "ipython3",
   "version": "3.11.4"
  }
 },
 "nbformat": 4,
 "nbformat_minor": 2
}
