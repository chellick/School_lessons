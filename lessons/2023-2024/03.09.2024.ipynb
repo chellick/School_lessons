{
 "cells": [
  {
   "cell_type": "markdown",
   "metadata": {},
   "source": [
    "# Логические операции??\n",
    "\n",
    "\n",
    "```^``` XOR - Исключающее или 😁\n",
    "\n",
    "```->``` IMPL - Импликация == ``` <=``` \n",
    "\n",
    "\n",
    "\n",
    "\n"
   ]
  },
  {
   "cell_type": "code",
   "execution_count": null,
   "metadata": {},
   "outputs": [],
   "source": [
    "x = [1, 1, 1, 1, 1, 1, 1, 1, 0, 0, 0, 0, 0, 0, 0, 0]\n",
    "y = [1, 1, 1, 1, 0, 0, 0, 0, 1, 1, 1, 1, 0, 0, 0, 0]\n",
    "z = [1, 1, 0, 0, 1, 1, 0, 0, 1, 1, 0, 0, 1, 1, 0, 0]\n",
    "w = [1, 0, 1, 0, 1, 0, 1, 0, 1, 0, 1, 0, 1, 0, 1, 0]\n",
    "k = []\n",
    "\n",
    "def f(x, y, z, w):\n",
    "    # return int(not x or (y and x))\n",
    "    # return int(x or (y and z))\n",
    "    return int((x==(w or y)) or ((w <= z) and (y <= w)))\n",
    "    \n",
    "\n",
    "\n",
    "for a, b, c, d in zip(x, y, z, w):\n",
    "    k.append(f(a, b, c, d))\n",
    "\n",
    "for a, b, c, d, e in zip(x, y, z, w, k):\n",
    "    if e == 0:\n",
    "        print(a, b, c, d, e) \n",
    "\n",
    "    "
   ]
  },
  {
   "cell_type": "code",
   "execution_count": 1,
   "metadata": {},
   "outputs": [
    {
     "name": "stdout",
     "output_type": "stream",
     "text": [
      "0 1 0 0\n",
      "1 1 0 0\n",
      "1 0 1 0\n"
     ]
    }
   ],
   "source": [
    "for x in [0, 1]:\n",
    "    for y in [0, 1]:\n",
    "        for z in [0, 1]:\n",
    "            for w in [0, 1]:\n",
    "                if int(x or not(y)) and not(y == z) and not w:\n",
    "                    print(x, z, y, w)"
   ]
  },
  {
   "cell_type": "code",
   "execution_count": null,
   "metadata": {},
   "outputs": [],
   "source": []
  }
 ],
 "metadata": {
  "kernelspec": {
   "display_name": "venv",
   "language": "python",
   "name": "python3"
  },
  "language_info": {
   "codemirror_mode": {
    "name": "ipython",
    "version": 3
   },
   "file_extension": ".py",
   "mimetype": "text/x-python",
   "name": "python",
   "nbconvert_exporter": "python",
   "pygments_lexer": "ipython3",
   "version": "3.11.4"
  },
  "orig_nbformat": 4
 },
 "nbformat": 4,
 "nbformat_minor": 2
}
