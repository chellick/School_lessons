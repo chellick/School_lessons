{
 "cells": [
  {
   "cell_type": "code",
   "execution_count": 7,
   "metadata": {},
   "outputs": [
    {
     "name": "stdout",
     "output_type": "stream",
     "text": [
      "1 1 0 1\n",
      "0 0 1 0\n",
      "1 0 1 0\n",
      "1 1 1 0\n"
     ]
    }
   ],
   "source": [
    "# def function(x, y, z, w):\n",
    "#     return (x and not y) or (y == z) or not w\n",
    "\n",
    "# def function(x, y, z, w):\n",
    "#     return ((x == (not y)) <= (y and not z) or (z and not w))\n",
    "\n",
    "\n",
    "\n",
    "for x in range(0, 2):\n",
    "    for y in range(0, 2):\n",
    "        for z in range(0, 2):\n",
    "            for w in range(0, 2):\n",
    "                if function(x, y, z, w) == 0:\n",
    "                    print(w, z, x, y)\n",
    "                    "
   ]
  }
 ],
 "metadata": {
  "kernelspec": {
   "display_name": "venv",
   "language": "python",
   "name": "python3"
  },
  "language_info": {
   "codemirror_mode": {
    "name": "ipython",
    "version": 3
   },
   "file_extension": ".py",
   "mimetype": "text/x-python",
   "name": "python",
   "nbconvert_exporter": "python",
   "pygments_lexer": "ipython3",
   "version": "3.11.4"
  },
  "orig_nbformat": 4
 },
 "nbformat": 4,
 "nbformat_minor": 2
}
