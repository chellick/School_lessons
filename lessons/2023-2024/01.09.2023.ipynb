{
 "cells": [
  {
   "cell_type": "code",
   "execution_count": 1,
   "metadata": {},
   "outputs": [],
   "source": [
    "import numpy as np"
   ]
  },
  {
   "cell_type": "code",
   "execution_count": 4,
   "metadata": {},
   "outputs": [
    {
     "name": "stdout",
     "output_type": "stream",
     "text": [
      "-77.0933386735724\n"
     ]
    }
   ],
   "source": [
    "def function(x, y):\n",
    "    return ((5 * x + 7 * y) / (x - y)) + ((7 * x - 3) / ((1 / (x + x ** 2)) - (1 / (y ** 0.5))))\n",
    "\n",
    "print(function(3, 7))"
   ]
  },
  {
   "cell_type": "code",
   "execution_count": 14,
   "metadata": {},
   "outputs": [
    {
     "ename": "ValueError",
     "evalue": "not enough values to unpack (expected 3, got 1)",
     "output_type": "error",
     "traceback": [
      "\u001b[1;31m---------------------------------------------------------------------------\u001b[0m",
      "\u001b[1;31mValueError\u001b[0m                                Traceback (most recent call last)",
      "Cell \u001b[1;32mIn[14], line 1\u001b[0m\n\u001b[1;32m----> 1\u001b[0m a, b, c \u001b[39m=\u001b[39m \u001b[39mmap\u001b[39m(\u001b[39mint\u001b[39m, \u001b[39minput\u001b[39m()\u001b[39m.\u001b[39msplit())\n\u001b[0;32m      3\u001b[0m \u001b[39mdef\u001b[39;00m \u001b[39msquare\u001b[39m(a, b, c):\n\u001b[0;32m      4\u001b[0m     discr \u001b[39m=\u001b[39m b \u001b[39m*\u001b[39m\u001b[39m*\u001b[39m \u001b[39m2\u001b[39m \u001b[39m-\u001b[39m (\u001b[39m4\u001b[39m \u001b[39m*\u001b[39m c \u001b[39m*\u001b[39m a)\n",
      "\u001b[1;31mValueError\u001b[0m: not enough values to unpack (expected 3, got 1)"
     ]
    }
   ],
   "source": [
    "a, b, c = map(int, input().split())\n",
    "\n",
    "def square(a, b, c):\n",
    "    discr = b ** 2 - (4 * c * a)\n",
    "    x1 = (-b + discr ** 0.5) / (2 * a)\n",
    "    x2 = (-b - discr ** 0.5) / (2 * a) \n",
    "    if discr < 0:\n",
    "        return \"Incorrect value\"\n",
    "    \n",
    "    else:\n",
    "        return x1, x2\n",
    "    \n",
    "\n",
    "print(square(a, b, c))"
   ]
  },
  {
   "cell_type": "code",
   "execution_count": 28,
   "metadata": {},
   "outputs": [
    {
     "name": "stdout",
     "output_type": "stream",
     "text": [
      "*\n",
      "**\n",
      "***\n"
     ]
    }
   ],
   "source": [
    "a = int(input())\n",
    "stroka = \"\"\n",
    "\n",
    "for i in range(1, a+1):\n",
    "    stroka = \"\"\n",
    "    for j in range(i):\n",
    "        stroka += \"\".join(\"*\") \n",
    "    print(stroka)\n"
   ]
  },
  {
   "cell_type": "code",
   "execution_count": 1,
   "metadata": {},
   "outputs": [],
   "source": [
    "import itertools"
   ]
  },
  {
   "cell_type": "code",
   "execution_count": null,
   "metadata": {},
   "outputs": [],
   "source": [
    "samples = [[1, 0, 0, 1], [0, 0, 0, 1], [1, 0, 1, 0]]\n",
    "examples = [i for i in itertools.permutations(\"xyzw\")]\n",
    "\n",
    "\n",
    "def func(x, y, z, w):\n",
    "    return (x == (w or y) or (not (w == 0 and z == 1) or not (y == 1 and w == 0)))\n",
    "\n",
    "\n",
    "def algo(samples, permutations):\n",
    "    patterns = []\n",
    "    for letters in permutations:\n",
    "        for s in range(len(samples)):\n",
    "            x = samples[s][letters.index(\"x\")]\n",
    "            y = samples[s][letters.index(\"y\")]\n",
    "            z = samples[s][letters.index(\"z\")]\n",
    "            w = samples[s][letters.index(\"w\")]\n",
    "\n",
    "            if func(x, y, z, w) == 0:\n",
    "                patterns.append(letters)\n",
    "    return patterns\n",
    "                \n",
    "result = algo(samples=samples, permutations=examples)\n",
    "print(result)"
   ]
  },
  {
   "cell_type": "code",
   "execution_count": null,
   "metadata": {},
   "outputs": [],
   "source": [
    "y, x, w, z = 0, 0, 0, 1\n",
    "\n",
    "if (x == (w  or y) or (not (w == 0 and z == 1) or not (y == 1 and w == 0))) == 0:\n",
    "    print(True)\n",
    "else:\n",
    "    print(False)\n",
    "    "
   ]
  },
  {
   "cell_type": "code",
   "execution_count": 59,
   "metadata": {},
   "outputs": [
    {
     "name": "stdout",
     "output_type": "stream",
     "text": [
      "3\n"
     ]
    }
   ],
   "source": [
    "\n",
    "def algorythm(num):\n",
    "    binary = bin(num)[2:]\n",
    "    if binary[-1] == \"0\":\n",
    "        r_binary = \"1\" + binary + \"0\"\n",
    "    \n",
    "    else:\n",
    "        r_binary = \"11\" + binary + \"11\"\n",
    "        \n",
    "    return int(r_binary, 2)\n",
    "\n",
    "for i in range(1, 1000):\n",
    "    if algorythm(i) > 52:\n",
    "        print(i)\n",
    "        break"
   ]
  },
  {
   "cell_type": "code",
   "execution_count": 60,
   "metadata": {},
   "outputs": [
    {
     "name": "stdout",
     "output_type": "stream",
     "text": [
      "63\n"
     ]
    }
   ],
   "source": [
    "print(algorythm(3))"
   ]
  }
 ],
 "metadata": {
  "kernelspec": {
   "display_name": "venv",
   "language": "python",
   "name": "python3"
  },
  "language_info": {
   "codemirror_mode": {
    "name": "ipython",
    "version": 3
   },
   "file_extension": ".py",
   "mimetype": "text/x-python",
   "name": "python",
   "nbconvert_exporter": "python",
   "pygments_lexer": "ipython3",
   "version": "3.11.4"
  },
  "orig_nbformat": 4
 },
 "nbformat": 4,
 "nbformat_minor": 2
}
