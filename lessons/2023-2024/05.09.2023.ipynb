{
 "cells": [
  {
   "cell_type": "code",
   "execution_count": 15,
   "metadata": {},
   "outputs": [
    {
     "name": "stdout",
     "output_type": "stream",
     "text": [
      "62\n",
      "58.6\n",
      "closest to mid value in \n",
      "[34, 8, 62, 14, 74]\n",
      "[66, 86, 84, 74, 42]\n",
      "[63, 13, 36, 85, 91]\n",
      "[95, 53, 6, 96, 40]\n",
      "[51, 98, 40, 67, 87]\n"
     ]
    }
   ],
   "source": [
    "import random\n",
    "m, n = input().split()\n",
    "mat = []\n",
    "summ = 0\n",
    "row = []\n",
    "best = 10000\n",
    "best_val = 0\n",
    "\n",
    "for i in range(int(m)):\n",
    "    row = []\n",
    "    for j in range(int(n)):\n",
    "        row.append(random.randint(0, 100))\n",
    "    mat.append(row)\n",
    "\n",
    "for i in mat:\n",
    "    for j in i:\n",
    "        summ += j\n",
    "        \n",
    "summ = summ / (int(m) * int(n))\n",
    "\n",
    "for i in mat:\n",
    "    for j in i:\n",
    "        if abs(summ - j) < best:\n",
    "            best_val = j\n",
    "            best = abs(summ - j)\n",
    "            \n",
    "print(, summ, \"closest to mid value in \", *mat, sep=\"\\n\")\n",
    "            \n"
   ]
  },
  {
   "cell_type": "code",
   "execution_count": null,
   "metadata": {},
   "outputs": [],
   "source": [
    "stroka = \"5\"\n",
    "\n",
    "import time\n",
    "\n",
    "def alg(stroka):\n",
    "    while \"52\" in stroka or \"2222\" in stroka or \"1122\" in stroka:\n",
    "        if \"52\" in stroka:\n",
    "            stroka = stroka.replace(\"52\", \"11\", 1)\n",
    "        if \"2222\" in stroka:\n",
    "            stroka = stroka.replace(\"2222\", \"5\", 1)\n",
    "        if \"1122\" in stroka:\n",
    "            stroka = stroka.replace(\"1122\", \"25\", 1)\n",
    "        \n",
    "    return stroka\n",
    "\n",
    "\n",
    "for i in range(3, 10000):\n",
    "    start_time = time.time()\n",
    "    stroka = \"5\" + \"2\" * i\n",
    "    if sum(list(map(int, list(alg(stroka))))) == 64:\n",
    "        print(i)\n",
    "    if i % 100 == 0:\n",
    "        print(\"time: \", time.time() - start_time)\n",
    "        \n",
    "        "
   ]
  },
  {
   "cell_type": "code",
   "execution_count": 22,
   "metadata": {},
   "outputs": [
    {
     "name": "stdout",
     "output_type": "stream",
     "text": [
      "47\n"
     ]
    },
    {
     "ename": "KeyboardInterrupt",
     "evalue": "",
     "output_type": "error",
     "traceback": [
      "\u001b[1;31m---------------------------------------------------------------------------\u001b[0m",
      "\u001b[1;31mKeyboardInterrupt\u001b[0m                         Traceback (most recent call last)",
      "Cell \u001b[1;32mIn[22], line 11\u001b[0m\n\u001b[0;32m      9\u001b[0m \u001b[39mfor\u001b[39;00m i \u001b[39min\u001b[39;00m \u001b[39mrange\u001b[39m(\u001b[39m1\u001b[39m, \u001b[39m10000\u001b[39m):\n\u001b[0;32m     10\u001b[0m     s \u001b[39m=\u001b[39m \u001b[39m\"\u001b[39m\u001b[39m0\u001b[39m\u001b[39m\"\u001b[39m \u001b[39m+\u001b[39m \u001b[39m\"\u001b[39m\u001b[39m2\u001b[39m\u001b[39m\"\u001b[39m \u001b[39m*\u001b[39m i \u001b[39m+\u001b[39m \u001b[39m\"\u001b[39m\u001b[39m1\u001b[39m\u001b[39m\"\u001b[39m \u001b[39m*\u001b[39m i \u001b[39m+\u001b[39m \u001b[39m\"\u001b[39m\u001b[39m0\u001b[39m\u001b[39m\"\u001b[39m\n\u001b[1;32m---> 11\u001b[0m     s \u001b[39m=\u001b[39m alg(s)\n\u001b[0;32m     12\u001b[0m     \u001b[39mif\u001b[39;00m s\u001b[39m.\u001b[39mcount(\u001b[39m\"\u001b[39m\u001b[39m1\u001b[39m\u001b[39m\"\u001b[39m) \u001b[39m==\u001b[39m \u001b[39m47\u001b[39m \u001b[39mand\u001b[39;00m s\u001b[39m.\u001b[39mcount(\u001b[39m\"\u001b[39m\u001b[39m2\u001b[39m\u001b[39m\"\u001b[39m) \u001b[39m<\u001b[39m \u001b[39m70\u001b[39m:\n\u001b[0;32m     13\u001b[0m         \u001b[39mprint\u001b[39m(s\u001b[39m.\u001b[39mcount(\u001b[39m\"\u001b[39m\u001b[39m2\u001b[39m\u001b[39m\"\u001b[39m))\n",
      "Cell \u001b[1;32mIn[22], line 2\u001b[0m, in \u001b[0;36malg\u001b[1;34m(string)\u001b[0m\n\u001b[0;32m      1\u001b[0m \u001b[39mdef\u001b[39;00m \u001b[39malg\u001b[39m(string):\n\u001b[1;32m----> 2\u001b[0m     \u001b[39mwhile\u001b[39;00m \u001b[39m\"\u001b[39m\u001b[39m00\u001b[39m\u001b[39m\"\u001b[39m \u001b[39mnot\u001b[39;00m \u001b[39min\u001b[39;00m string:\n\u001b[0;32m      3\u001b[0m         string \u001b[39m=\u001b[39m string\u001b[39m.\u001b[39mreplace(\u001b[39m\"\u001b[39m\u001b[39m011\u001b[39m\u001b[39m\"\u001b[39m, \u001b[39m\"\u001b[39m\u001b[39m20\u001b[39m\u001b[39m\"\u001b[39m)\n\u001b[0;32m      4\u001b[0m         string \u001b[39m=\u001b[39m string\u001b[39m.\u001b[39mreplace(\u001b[39m\"\u001b[39m\u001b[39m022\u001b[39m\u001b[39m\"\u001b[39m, \u001b[39m\"\u001b[39m\u001b[39m10\u001b[39m\u001b[39m\"\u001b[39m)\n",
      "\u001b[1;31mKeyboardInterrupt\u001b[0m: "
     ]
    }
   ],
   "source": [
    "def alg(string):\n",
    "    while \"00\" not in string:\n",
    "        string = string.replace(\"011\", \"20\")\n",
    "        string = string.replace(\"022\", \"10\")\n",
    "        string = string.replace(\"02\", \"110\")\n",
    "        string = string.replace(\"01\", \"220\")\n",
    "    return string\n",
    "\n",
    "for i in range(1, 10000):\n",
    "    s = \"0\" + \"2\" * i + \"1\" * i + \"0\"\n",
    "    s = alg(s)\n",
    "    if s.count(\"1\") == 47 and s.count(\"2\") < 70:\n",
    "        print(s.count(\"2\"))\n",
    "    \n",
    "    "
   ]
  },
  {
   "cell_type": "code",
   "execution_count": null,
   "metadata": {},
   "outputs": [],
   "source": []
  }
 ],
 "metadata": {
  "kernelspec": {
   "display_name": "venv",
   "language": "python",
   "name": "python3"
  },
  "language_info": {
   "codemirror_mode": {
    "name": "ipython",
    "version": 3
   },
   "file_extension": ".py",
   "mimetype": "text/x-python",
   "name": "python",
   "nbconvert_exporter": "python",
   "pygments_lexer": "ipython3",
   "version": "3.11.4"
  },
  "orig_nbformat": 4
 },
 "nbformat": 4,
 "nbformat_minor": 2
}
