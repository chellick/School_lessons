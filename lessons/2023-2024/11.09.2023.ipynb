{
 "cells": [
  {
   "cell_type": "code",
   "execution_count": null,
   "metadata": {},
   "outputs": [],
   "source": [
    "# n = int(input())\n",
    "\n",
    "\n",
    "def algo(n):\n",
    "    bin_n = bin(n)[2:]\n",
    "    temp = 0\n",
    "    for i in bin_n:\n",
    "        temp += int(i)\n",
    "    bin_n += str(temp % 2)\n",
    "    \n",
    "    temp = 0\n",
    "    for i in bin_n:\n",
    "        temp += int(i)\n",
    "        \n",
    "    bin_n += str(temp % 2)\n",
    "    \n",
    "    return bin_n\n",
    "\n",
    "for i in range(0, 100):\n",
    "    print(int(algo(i), 2))\n",
    "    "
   ]
  },
  {
   "cell_type": "code",
   "execution_count": 30,
   "metadata": {},
   "outputs": [
    {
     "name": "stdout",
     "output_type": "stream",
     "text": [
      "11\n"
     ]
    }
   ],
   "source": [
    "\n",
    "\n",
    "def algo(n):\n",
    "    bin_n = bin(n)[2:]\n",
    "    if n % 3 == 0:\n",
    "        bin_n += bin_n[-3:]\n",
    "        \n",
    "    else:\n",
    "        bin_n += bin(n % 3 * 3)[2:]\n",
    "    \n",
    "    return bin_n\n",
    "maxi = 0\n",
    "best = 0 \n",
    "# print(int(algo(5), 2))\n",
    "for i in range(0, 1000):\n",
    "    r = int(algo(i), 2)\n",
    "    if r > 76:\n",
    "        print(i)\n",
    "        break\n",
    "        # print(r)\n",
    "        \n",
    "        \n",
    "# print(maxi)"
   ]
  },
  {
   "cell_type": "code",
   "execution_count": 31,
   "metadata": {},
   "outputs": [
    {
     "name": "stdout",
     "output_type": "stream",
     "text": [
      "102\n"
     ]
    }
   ],
   "source": [
    "def algo(n):\n",
    "    bin_n = bin(n)[2:]\n",
    "    bin_n += str(bin_n.count(\"1\") % 2)\n",
    "    bin_n += str(bin_n.count(\"1\") % 2)\n",
    "    return bin_n\n",
    "\n",
    "for i in range(1000):\n",
    "    r = int(algo(i), 2)\n",
    "    if r > 97:\n",
    "        print(r)\n",
    "        break"
   ]
  }
 ],
 "metadata": {
  "kernelspec": {
   "display_name": "venv",
   "language": "python",
   "name": "python3"
  },
  "language_info": {
   "codemirror_mode": {
    "name": "ipython",
    "version": 3
   },
   "file_extension": ".py",
   "mimetype": "text/x-python",
   "name": "python",
   "nbconvert_exporter": "python",
   "pygments_lexer": "ipython3",
   "version": "3.11.4"
  }
 },
 "nbformat": 4,
 "nbformat_minor": 2
}
