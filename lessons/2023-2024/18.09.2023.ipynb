{
 "cells": [
  {
   "cell_type": "code",
   "execution_count": 2,
   "metadata": {},
   "outputs": [],
   "source": [
    "import itertools"
   ]
  },
  {
   "cell_type": "code",
   "execution_count": 17,
   "metadata": {},
   "outputs": [
    {
     "name": "stdout",
     "output_type": "stream",
     "text": [
      "162\n"
     ]
    }
   ],
   "source": [
    "word = \"егэ\"\n",
    "c = 0\n",
    "\n",
    "for i in itertools.product(word, repeat=5):\n",
    "    i = \"\".join(i)\n",
    "    if i[0] != \"г\":\n",
    "        c+=1\n",
    "print(c)\n",
    "\n",
    "\n"
   ]
  },
  {
   "cell_type": "code",
   "execution_count": 19,
   "metadata": {},
   "outputs": [
    {
     "data": {
      "text/plain": [
       "1024"
      ]
     },
     "execution_count": 19,
     "metadata": {},
     "output_type": "execute_result"
    }
   ],
   "source": [
    "\n",
    "alph = \"АБВГД\"\n",
    "c = 0\n",
    "for i in itertools.product(alph, repeat=5):\n",
    "    i = \"\".join(i)\n",
    "    if i[0] != \"А\":\n",
    "        if not (\"АА\" in i or \"ББ\" in i or \"ВВ\" in i or \"ГГ\" in i or \"ДД\" in i):\n",
    "            c += 1\n",
    "            \n",
    "c"
   ]
  },
  {
   "cell_type": "code",
   "execution_count": 39,
   "metadata": {},
   "outputs": [
    {
     "name": "stdout",
     "output_type": "stream",
     "text": [
      "288\n"
     ]
    }
   ],
   "source": [
    "# from collections import counter\n",
    "\n",
    "a = \"РОСОМАХА\"\n",
    "c = 0\n",
    "s= set()\n",
    "for i in itertools.permutations(a):\n",
    "    i = \"\".join(i)\n",
    "    i2 = i.replace(\"М\", \"Р\").replace(\"Х\", \"Р\").replace(\"С\", \"Р\").replace(\"А\", \"О\")\n",
    "    if \"РР\" in i2 or \"ОО\" in i2:\n",
    "        continue\n",
    "    else:\n",
    "        s.add(i)\n",
    "        c+=1\n",
    "print(len(s))\n"
   ]
  }
 ],
 "metadata": {
  "kernelspec": {
   "display_name": "venv",
   "language": "python",
   "name": "python3"
  },
  "language_info": {
   "codemirror_mode": {
    "name": "ipython",
    "version": 3
   },
   "file_extension": ".py",
   "mimetype": "text/x-python",
   "name": "python",
   "nbconvert_exporter": "python",
   "pygments_lexer": "ipython3",
   "version": "3.11.4"
  }
 },
 "nbformat": 4,
 "nbformat_minor": 2
}
