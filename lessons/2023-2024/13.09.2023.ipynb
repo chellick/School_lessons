{
 "cells": [
  {
   "cell_type": "code",
   "execution_count": 29,
   "metadata": {},
   "outputs": [
    {
     "name": "stdout",
     "output_type": "stream",
     "text": [
      "39\n"
     ]
    }
   ],
   "source": [
    "def to_any(num, base):\n",
    "    string = []\n",
    "    \n",
    "    while num >= 1:\n",
    "        string.append(str(int(num % base)))\n",
    "        num = int(num / base)\n",
    "        # print(num)\n",
    "     \n",
    "    string = list(reversed(string))\n",
    "    return \"\".join(string)\n",
    "    \n",
    "\n",
    "\n",
    "def algo(num):\n",
    "    bin_n = to_any(num, 2)\n",
    "    bin_n += str(bin_n.count(\"1\") % 2)\n",
    "    bin_n += str(bin_n.count(\"1\") % 2)\n",
    "    return int(bin_n, 2)\n",
    "\n",
    "for n in range(1, 1000):\n",
    "    r = algo(n)\n",
    "    if r > 154:\n",
    "        print(n)\n",
    "        break\n",
    "    \n"
   ]
  },
  {
   "cell_type": "code",
   "execution_count": 35,
   "metadata": {},
   "outputs": [
    {
     "name": "stdout",
     "output_type": "stream",
     "text": [
      "8\n"
     ]
    }
   ],
   "source": [
    "def algo(num):\n",
    "    string = to_any(num, 3)\n",
    "    if num % 3 != 0:\n",
    "        string += str(to_any(num%3*5, 3))\n",
    "    # print(string)\n",
    "    return int(string, 3)\n",
    "\n",
    "\n",
    "# print(algo(10))\n",
    "\n",
    "for n in range(1, 1000):\n",
    "    r = algo(n)\n",
    "    if r > 146:\n",
    "        print(n)\n",
    "        break\n",
    "        "
   ]
  },
  {
   "cell_type": "code",
   "execution_count": null,
   "metadata": {},
   "outputs": [],
   "source": [
    "def algo(num):\n",
    "    string = to_any(num, 3)\n",
    "    if num % 3 == 0:\n",
    "        string = \"1\" + string + \"02\"\n",
    "    else:\n",
    "        string += to_any(num%3*4, 3)\n",
    "    \n",
    "    r = int(string, 3)\n",
    "    \n",
    "    return r\n",
    "\n",
    "\n",
    "for n in range(1, 1000):\n",
    "    r = algo(n)\n",
    "    if r < 199:\n",
    "        print(n)"
   ]
  },
  {
   "cell_type": "code",
   "execution_count": 47,
   "metadata": {},
   "outputs": [
    {
     "name": "stdout",
     "output_type": "stream",
     "text": [
      "168\n"
     ]
    }
   ],
   "source": [
    "def algorithm(num):\n",
    "    string = str(num)\n",
    "    a, b = str(int(string[0]) + int(string[1])), str(int(string[1]) + int(string[2]))\n",
    "    return \"\".join(sorted([a, b], reverse=True))\n",
    "\n",
    "for n in range(100, 1000):\n",
    "    if algorithm(n) == '714':\n",
    "        print(n)\n",
    "        break"
   ]
  },
  {
   "cell_type": "code",
   "execution_count": null,
   "metadata": {},
   "outputs": [],
   "source": []
  }
 ],
 "metadata": {
  "kernelspec": {
   "display_name": "venv",
   "language": "python",
   "name": "python3"
  },
  "language_info": {
   "codemirror_mode": {
    "name": "ipython",
    "version": 3
   },
   "file_extension": ".py",
   "mimetype": "text/x-python",
   "name": "python",
   "nbconvert_exporter": "python",
   "pygments_lexer": "ipython3",
   "version": "3.11.4"
  }
 },
 "nbformat": 4,
 "nbformat_minor": 2
}
