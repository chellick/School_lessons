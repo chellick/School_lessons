{
 "cells": [
  {
   "cell_type": "code",
   "execution_count": 1,
   "metadata": {},
   "outputs": [],
   "source": [
    "import itertools"
   ]
  },
  {
   "cell_type": "code",
   "execution_count": 8,
   "metadata": {},
   "outputs": [
    {
     "data": {
      "text/plain": [
       "36864"
      ]
     },
     "execution_count": 8,
     "metadata": {},
     "output_type": "execute_result"
    }
   ],
   "source": [
    "c = 0\n",
    "word = \"АНДРЕЙ\"\n",
    "\n",
    "for i in itertools.product(word, repeat=7):\n",
    "    i = \"\".join(i)\n",
    "    if i[0] != \"Й\" and i.count(\"А\") == 1 and i.count(\"Й\") == 1:\n",
    "            c += 1\n",
    "            \n",
    "c"
   ]
  },
  {
   "cell_type": "code",
   "execution_count": 10,
   "metadata": {},
   "outputs": [
    {
     "data": {
      "text/plain": [
       "192"
      ]
     },
     "execution_count": 10,
     "metadata": {},
     "output_type": "execute_result"
    }
   ],
   "source": [
    "w = \"ПАРАБОЛА\"\n",
    "s = set()\n",
    "\n",
    "for i in itertools.permutations(w):\n",
    "    i = \"\".join(i)\n",
    "    b = i.replace(\"Р\", \"П\").replace(\"Б\", \"П\").replace(\"Л\", \"П\").replace(\"О\", \"А\")\n",
    "    if \"ПП\" in b or \"АА\" in b:\n",
    "        continue\n",
    "    else:\n",
    "        s.add(i)\n",
    "        \n",
    "        \n",
    "len(s)\n",
    "    \n",
    "    "
   ]
  },
  {
   "cell_type": "code",
   "execution_count": 46,
   "metadata": {},
   "outputs": [
    {
     "data": {
      "text/plain": [
       "8006"
      ]
     },
     "execution_count": 46,
     "metadata": {},
     "output_type": "execute_result"
    }
   ],
   "source": [
    "w = \"ТИМОФЕЙ\"\n",
    "c = 0\n",
    "s = set()\n",
    "\n",
    "for i in itertools.product(w, repeat=5):\n",
    "    i = \"\".join(i)\n",
    "    \n",
    "    if i.count(\"Т\") >= 1 and i.count(\"Й\") <= 1:\n",
    "        c += 1\n",
    "        s.add(i)\n",
    "        \n",
    "len(s)"
   ]
  },
  {
   "cell_type": "code",
   "execution_count": null,
   "metadata": {},
   "outputs": [],
   "source": [
    "d = \"01234567\"\n",
    "c = 0\n",
    "s = set()\n",
    "\n",
    "for i in itertools.permutations(d, r=5):\n",
    "    i = \"\".join(i)\n",
    "    if i[0] != \"0\":\n",
    "        if i.count(\"1\") == 0:\n",
    "            b = i.replace(\"3\", \"1\").replace(\"5\", \"1\").replace(\"7\", \"1\").replace(\"4\", \"2\").replace(\"6\", \"2\").replace(\"0\", \"2\")\n",
    "            if \"22\" in b or \"11\" in b:\n",
    "                continue\n",
    "            else:\n",
    "                s.add(i)\n",
    "                print(i, b)\n",
    "len(s)"
   ]
  },
  {
   "cell_type": "code",
   "execution_count": 58,
   "metadata": {},
   "outputs": [
    {
     "data": {
      "text/plain": [
       "(2429, ['А', 'Г', 'И', 'Л', 'М', 'О', 'Р', 'Т'])"
      ]
     },
     "execution_count": 58,
     "metadata": {},
     "output_type": "execute_result"
    }
   ],
   "source": [
    "c = 0\n",
    "w = sorted(\"АЛГОРИТМ\")\n",
    "\n",
    "for n, i in enumerate(itertools.product(w, repeat=5), 1):\n",
    "    if n % 2 != 0:\n",
    "        i = \"\".join(i)\n",
    "        if i[0] != \"Г\" and i.count(\"И\") >= 2:\n",
    "            c += 1\n",
    "            # print(i, n)\n",
    "            \n",
    "c, w"
   ]
  },
  {
   "cell_type": "code",
   "execution_count": 59,
   "metadata": {},
   "outputs": [
    {
     "data": {
      "text/plain": [
       "1944"
      ]
     },
     "execution_count": 59,
     "metadata": {},
     "output_type": "execute_result"
    }
   ],
   "source": [
    "w = \"КОНФЕТА\"\n",
    "c = 0\n",
    "\n",
    "for i in itertools.product(w, repeat=5):\n",
    "    i == \"\".join(i)\n",
    "    if i.count(\"Е\") == 2:\n",
    "        if i[1] != \"Ф\":\n",
    "            c += 1\n",
    "            \n",
    "c"
   ]
  }
 ],
 "metadata": {
  "kernelspec": {
   "display_name": "venv",
   "language": "python",
   "name": "python3"
  },
  "language_info": {
   "codemirror_mode": {
    "name": "ipython",
    "version": 3
   },
   "file_extension": ".py",
   "mimetype": "text/x-python",
   "name": "python",
   "nbconvert_exporter": "python",
   "pygments_lexer": "ipython3",
   "version": "3.11.4"
  }
 },
 "nbformat": 4,
 "nbformat_minor": 2
}
