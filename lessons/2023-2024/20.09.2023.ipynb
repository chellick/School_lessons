{
 "cells": [
  {
   "cell_type": "code",
   "execution_count": 1,
   "metadata": {},
   "outputs": [],
   "source": [
    "import itertools"
   ]
  },
  {
   "cell_type": "code",
   "execution_count": 8,
   "metadata": {},
   "outputs": [
    {
     "data": {
      "text/plain": [
       "36864"
      ]
     },
     "execution_count": 8,
     "metadata": {},
     "output_type": "execute_result"
    }
   ],
   "source": [
    "c = 0\n",
    "word = \"АНДРЕЙ\"\n",
    "\n",
    "for i in itertools.product(word, repeat=7):\n",
    "    i = \"\".join(i)\n",
    "    if i[0] != \"Й\" and i.count(\"А\") == 1 and i.count(\"Й\") == 1:\n",
    "            c += 1\n",
    "            \n",
    "c"
   ]
  },
  {
   "cell_type": "code",
   "execution_count": 10,
   "metadata": {},
   "outputs": [
    {
     "data": {
      "text/plain": [
       "192"
      ]
     },
     "execution_count": 10,
     "metadata": {},
     "output_type": "execute_result"
    }
   ],
   "source": [
    "w = \"ПАРАБОЛА\"\n",
    "s = set()\n",
    "\n",
    "for i in itertools.permutations(w):\n",
    "    i = \"\".join(i)\n",
    "    b = i.replace(\"Р\", \"П\").replace(\"Б\", \"П\").replace(\"Л\", \"П\").replace(\"О\", \"А\")\n",
    "    if \"ПП\" in b or \"АА\" in b:\n",
    "        continue\n",
    "    else:\n",
    "        s.add(i)\n",
    "        \n",
    "        \n",
    "len(s)\n",
    "    \n",
    "    "
   ]
  },
  {
   "cell_type": "code",
   "execution_count": 46,
   "metadata": {},
   "outputs": [
    {
     "data": {
      "text/plain": [
       "8006"
      ]
     },
     "execution_count": 46,
     "metadata": {},
     "output_type": "execute_result"
    }
   ],
   "source": [
    "w = \"ТИМОФЕЙ\"\n",
    "c = 0\n",
    "s = set()\n",
    "\n",
    "for i in itertools.product(w, repeat=5):\n",
    "    i = \"\".join(i)\n",
    "    \n",
    "    if i.count(\"Т\") >= 1 and i.count(\"Й\") <= 1:\n",
    "        c += 1\n",
    "        s.add(i)\n",
    "        \n",
    "len(s)"
   ]
  },
  {
   "cell_type": "code",
   "execution_count": 89,
   "metadata": {},
   "outputs": [
    {
     "data": {
      "text/plain": [
       "180"
      ]
     },
     "execution_count": 89,
     "metadata": {},
     "output_type": "execute_result"
    }
   ],
   "source": [
    "d = \"01234567\"\n",
    "c = 0\n",
    "s = set()\n",
    "\n",
    "for i in itertools.permutations(d, r=5):\n",
    "    i = \"\".join(i)\n",
    "    if i[0] != \"0\":\n",
    "        if i.count(\"1\") == 0:\n",
    "            b = i.replace(\"3\", \"1\").replace(\"5\", \"1\").replace(\"7\", \"1\").replace(\"4\", \"2\").replace(\"6\", \"2\").replace(\"0\", \"2\")\n",
    "            if \"22\" in b or \"11\" in b:\n",
    "                continue\n",
    "            else:\n",
    "                s.add(i)\n",
    "                # print(i, b)\n",
    "len(s)"
   ]
  },
  {
   "cell_type": "code",
   "execution_count": 58,
   "metadata": {},
   "outputs": [
    {
     "data": {
      "text/plain": [
       "(2429, ['А', 'Г', 'И', 'Л', 'М', 'О', 'Р', 'Т'])"
      ]
     },
     "execution_count": 58,
     "metadata": {},
     "output_type": "execute_result"
    }
   ],
   "source": [
    "c = 0\n",
    "w = sorted(\"АЛГОРИТМ\")\n",
    "\n",
    "for n, i in enumerate(itertools.product(w, repeat=5), 1):\n",
    "    if n % 2 != 0:\n",
    "        i = \"\".join(i)\n",
    "        if i[0] != \"Г\" and i.count(\"И\") >= 2:\n",
    "            c += 1\n",
    "            # print(i, n)\n",
    "            \n",
    "c, w"
   ]
  },
  {
   "cell_type": "code",
   "execution_count": 59,
   "metadata": {},
   "outputs": [
    {
     "data": {
      "text/plain": [
       "1944"
      ]
     },
     "execution_count": 59,
     "metadata": {},
     "output_type": "execute_result"
    }
   ],
   "source": [
    "w = \"КОНФЕТА\"\n",
    "c = 0\n",
    "\n",
    "for i in itertools.product(w, repeat=5):\n",
    "    i == \"\".join(i)\n",
    "    if i.count(\"Е\") == 2:\n",
    "        if i[1] != \"Ф\":\n",
    "            c += 1\n",
    "            \n",
    "c"
   ]
  },
  {
   "cell_type": "code",
   "execution_count": null,
   "metadata": {},
   "outputs": [],
   "source": [
    "d = \"012345\"\n",
    "c = 0\n",
    "s = set()\n",
    "\n",
    "for i in itertools.product(d, repeat=3):\n",
    "    i = \"\".join(i)\n",
    "    if i[0] != \"0\":\n",
    "        fl = True\n",
    "        for l in range(len(i)-1):\n",
    "            if int(i[l]) < int(i[l+1]):\n",
    "                fl = False\n",
    "                break\n",
    "        \n",
    "        if fl == True:\n",
    "            c += 1\n",
    "            print(i)\n",
    "        \n",
    "c\n",
    "            "
   ]
  },
  {
   "cell_type": "code",
   "execution_count": 77,
   "metadata": {},
   "outputs": [
    {
     "data": {
      "text/plain": [
       "2961"
      ]
     },
     "execution_count": 77,
     "metadata": {},
     "output_type": "execute_result"
    }
   ],
   "source": [
    "d = \"01234567\"\n",
    "c = 0\n",
    "s = set()\n",
    "\n",
    "for i in itertools.product(d, repeat=5):\n",
    "    if i[0] != \"0\":\n",
    "        i = \"\".join(i)\n",
    "        if i.count(\"6\") == 1:\n",
    "            b = i.replace(\"3\", \"1\").replace(\"5\", \"1\").replace(\"7\", \"1\")\n",
    "            if \"61\" not in b and \"16\" not in b:\n",
    "                c += 1\n",
    "c\n"
   ]
  },
  {
   "cell_type": "code",
   "execution_count": 79,
   "metadata": {},
   "outputs": [
    {
     "data": {
      "text/plain": [
       "368640"
      ]
     },
     "execution_count": 79,
     "metadata": {},
     "output_type": "execute_result"
    }
   ],
   "source": [
    "d = \"012345678\"\n",
    "c = 0\n",
    "for i in itertools.product(d, repeat=7):\n",
    "    if i[0] != \"0\":\n",
    "        i = \"\".join(i)\n",
    "        if i.count(\"6\") == 1:\n",
    "            b = i.replace(\"3\", \"1\").replace(\"5\", \"1\").replace(\"7\", \"1\").replace(\"9\", \"1\")\n",
    "            if b.count(\"1\") == 2:\n",
    "                c +=1\n",
    "                \n",
    "c\n"
   ]
  },
  {
   "cell_type": "code",
   "execution_count": 84,
   "metadata": {},
   "outputs": [
    {
     "name": "stdout",
     "output_type": "stream",
     "text": [
      "131 АБАБА\n"
     ]
    }
   ],
   "source": [
    "d = sorted(\"БАТЫР\")\n",
    "c = 0\n",
    "\n",
    "for n, i in enumerate(itertools.product(d, repeat=5), 1):\n",
    "    i = \"\".join(i)\n",
    "    if i.count(\"Ы\") == 0:\n",
    "        if \"АА\" not in i:\n",
    "            print(n, i)\n",
    "            break\n",
    "            \n",
    "            \n"
   ]
  },
  {
   "cell_type": "code",
   "execution_count": 86,
   "metadata": {},
   "outputs": [
    {
     "name": "stdout",
     "output_type": "stream",
     "text": [
      "251 ('Л', 'А', 'А', 'А')\n"
     ]
    }
   ],
   "source": [
    "d = sorted(\"АВЛОР\")\n",
    "\n",
    "for n, i in enumerate(itertools.product(d, repeat=4), 1):\n",
    "    if i[0] == \"Л\":\n",
    "        print(n, i)\n",
    "        break"
   ]
  },
  {
   "cell_type": "code",
   "execution_count": 36,
   "metadata": {},
   "outputs": [
    {
     "data": {
      "text/plain": [
       "0.02948558297720727"
      ]
     },
     "execution_count": 36,
     "metadata": {},
     "output_type": "execute_result"
    }
   ],
   "source": [
    "field = 100*1000\n",
    "time_1 = 1\n",
    "time_2 = 1 + (1*0.13)\n",
    "\n",
    "def count_time(field, time):\n",
    "    current = 0\n",
    "    all_time = 0\n",
    "    tractors = [] \n",
    "    while current < field:\n",
    "        if field // 10 * 9 >= current:\n",
    "            tractors.append(0)\n",
    "        \n",
    "        else:\n",
    "            # print(\"less then 10%\", len(tractors))\n",
    "            pass\n",
    "\n",
    "        tractors = [i+1 for i in tractors]\n",
    "        current = sum(tractors)\n",
    "        all_time += time\n",
    "            \n",
    "    return all_time\n",
    "\n",
    "av = []\n",
    "\n",
    "# for i in range(10, 100):\n",
    "#     av.append(count_time(i**2, time_2*i) / count_time(i**2, time_1*i))\n",
    "\n",
    "for i in range(10, 100):\n",
    "    for j in range(10, 100):\n",
    "        av.append(count_time(i*j, time_2) / count_time(i*j, time_1*i))\n",
    "\n",
    "sum(av) / len(av)\n",
    "\n",
    "\n"
   ]
  },
  {
   "cell_type": "code",
   "execution_count": 23,
   "metadata": {},
   "outputs": [
    {
     "data": {
      "text/plain": [
       "1.1428571428571428"
      ]
     },
     "execution_count": 23,
     "metadata": {},
     "output_type": "execute_result"
    }
   ],
   "source": [
    "16/14"
   ]
  }
 ],
 "metadata": {
  "kernelspec": {
   "display_name": "venv",
   "language": "python",
   "name": "python3"
  },
  "language_info": {
   "codemirror_mode": {
    "name": "ipython",
    "version": 3
   },
   "file_extension": ".py",
   "mimetype": "text/x-python",
   "name": "python",
   "nbconvert_exporter": "python",
   "pygments_lexer": "ipython3",
   "version": "3.11.4"
  }
 },
 "nbformat": 4,
 "nbformat_minor": 2
}
