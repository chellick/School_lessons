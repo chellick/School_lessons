{
 "cells": [
  {
   "cell_type": "code",
   "execution_count": 1,
   "metadata": {},
   "outputs": [],
   "source": [
    "import itertools"
   ]
  },
  {
   "cell_type": "code",
   "execution_count": 8,
   "metadata": {},
   "outputs": [
    {
     "data": {
      "text/plain": [
       "36864"
      ]
     },
     "execution_count": 8,
     "metadata": {},
     "output_type": "execute_result"
    }
   ],
   "source": [
    "c = 0\n",
    "word = \"АНДРЕЙ\"\n",
    "\n",
    "for i in itertools.product(word, repeat=7):\n",
    "    i = \"\".join(i)\n",
    "    if i[0] != \"Й\" and i.count(\"А\") == 1 and i.count(\"Й\") == 1:\n",
    "            c += 1\n",
    "            \n",
    "c"
   ]
  },
  {
   "cell_type": "code",
   "execution_count": 10,
   "metadata": {},
   "outputs": [
    {
     "data": {
      "text/plain": [
       "192"
      ]
     },
     "execution_count": 10,
     "metadata": {},
     "output_type": "execute_result"
    }
   ],
   "source": [
    "w = \"ПАРАБОЛА\"\n",
    "s = set()\n",
    "\n",
    "for i in itertools.permutations(w):\n",
    "    i = \"\".join(i)\n",
    "    b = i.replace(\"Р\", \"П\").replace(\"Б\", \"П\").replace(\"Л\", \"П\").replace(\"О\", \"А\")\n",
    "    if \"ПП\" in b or \"АА\" in b:\n",
    "        continue\n",
    "    else:\n",
    "        s.add(i)\n",
    "        \n",
    "        \n",
    "len(s)\n",
    "    \n",
    "    "
   ]
  }
 ],
 "metadata": {
  "kernelspec": {
   "display_name": "venv",
   "language": "python",
   "name": "python3"
  },
  "language_info": {
   "codemirror_mode": {
    "name": "ipython",
    "version": 3
   },
   "file_extension": ".py",
   "mimetype": "text/x-python",
   "name": "python",
   "nbconvert_exporter": "python",
   "pygments_lexer": "ipython3",
   "version": "3.11.4"
  }
 },
 "nbformat": 4,
 "nbformat_minor": 2
}
