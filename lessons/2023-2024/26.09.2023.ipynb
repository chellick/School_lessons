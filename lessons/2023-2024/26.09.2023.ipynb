{
 "cells": [
  {
   "cell_type": "code",
   "execution_count": 1,
   "metadata": {},
   "outputs": [],
   "source": [
    "from string import digits, ascii_lowercase"
   ]
  },
  {
   "cell_type": "code",
   "execution_count": 16,
   "metadata": {},
   "outputs": [
    {
     "name": "stdout",
     "output_type": "stream",
     "text": [
      "262.0\n"
     ]
    }
   ],
   "source": [
    "d1 = '12345678'\n",
    "d2 = '1234567'\n",
    "\n",
    "def f(x, y):\n",
    "    return int(x + '01' + y + '4', 9) + int(x + y + '544', 8)\n",
    "\n",
    "fl = True\n",
    "\n",
    "for x in range(8):\n",
    "    if fl:\n",
    "        for y in range(8):\n",
    "            if f(str(x), str(y)) % 89 == 0:\n",
    "                print(f(str(x), str(y)) / 89)\n",
    "                fl = False\n",
    "                break\n",
    "    else:\n",
    "        break\n",
    "        "
   ]
  },
  {
   "cell_type": "code",
   "execution_count": 18,
   "metadata": {},
   "outputs": [
    {
     "data": {
      "text/plain": [
       "2015"
      ]
     },
     "execution_count": 18,
     "metadata": {},
     "output_type": "execute_result"
    }
   ],
   "source": [
    "s = bin(4 ** 2020 + 2 ** 2017 -15)[2:]\n",
    "s.count(\"1\")"
   ]
  },
  {
   "cell_type": "code",
   "execution_count": 22,
   "metadata": {},
   "outputs": [
    {
     "name": "stdout",
     "output_type": "stream",
     "text": [
      "224.0\n"
     ]
    }
   ],
   "source": [
    "fl = True\n",
    "\n",
    "for x in range(8):\n",
    "    if fl:\n",
    "        for y in range(8):\n",
    "            if (int(str(y) + \"04\" + str(x) + \"5\", 11) + int(\"253\" + str(x) + str(y), 8)) % 117 == 0:\n",
    "                print((int(str(y) + \"04\" + str(x) + \"5\", 11) + int(\"253\" + str(x) + str(y), 8)) / 117)\n",
    "                fl = False\n",
    "                break\n",
    "    else:\n",
    "        break\n",
    "            \n"
   ]
  },
  {
   "cell_type": "code",
   "execution_count": 23,
   "metadata": {},
   "outputs": [],
   "source": [
    "from string import digits, ascii_lowercase"
   ]
  },
  {
   "cell_type": "code",
   "execution_count": 32,
   "metadata": {},
   "outputs": [
    {
     "name": "stdout",
     "output_type": "stream",
     "text": [
      "729929407.0\n"
     ]
    },
    {
     "data": {
      "text/plain": [
       "22"
      ]
     },
     "execution_count": 32,
     "metadata": {},
     "output_type": "execute_result"
    }
   ],
   "source": [
    "d = digits + ascii_lowercase[:12]\n",
    "fl = True\n",
    "for x in d:\n",
    "    if fl:\n",
    "        if (int(\"63\" + x + \"59685\", 22) + int(\"17\" + x + \"53\", 22) + int(\"36\" + x + \"5\", 22)) % 21 == 0:\n",
    "            print((int(\"63\" + x + \"59685\", 22) + int(\"17\" + x + \"53\", 22) + int(\"36\" + x + \"5\", 22)) / 21)\n",
    "            fl = False\n",
    "            break\n",
    "    else:\n",
    "        break\n",
    "    \n",
    "len(d)"
   ]
  },
  {
   "cell_type": "code",
   "execution_count": 54,
   "metadata": {},
   "outputs": [
    {
     "ename": "ImportError",
     "evalue": "cannot import name 'counter' from 'collections' (C:\\Users\\Matvey\\AppData\\Local\\Programs\\Python\\Python311\\Lib\\collections\\__init__.py)",
     "output_type": "error",
     "traceback": [
      "\u001b[1;31m---------------------------------------------------------------------------\u001b[0m",
      "\u001b[1;31mImportError\u001b[0m                               Traceback (most recent call last)",
      "\u001b[1;32mc:\\python\\codes\\school-lessons\\lessons\\2023-2024\\26.09.2023.ipynb Ячейка 7\u001b[0m line \u001b[0;36m1\n\u001b[1;32m----> <a href='vscode-notebook-cell:/c%3A/python/codes/school-lessons/lessons/2023-2024/26.09.2023.ipynb#X12sZmlsZQ%3D%3D?line=0'>1</a>\u001b[0m \u001b[39mfrom\u001b[39;00m \u001b[39mcollections\u001b[39;00m \u001b[39mimport\u001b[39;00m counter\n",
      "\u001b[1;31mImportError\u001b[0m: cannot import name 'counter' from 'collections' (C:\\Users\\Matvey\\AppData\\Local\\Programs\\Python\\Python311\\Lib\\collections\\__init__.py)"
     ]
    }
   ],
   "source": [
    "from collections import counter"
   ]
  },
  {
   "cell_type": "code",
   "execution_count": 44,
   "metadata": {},
   "outputs": [
    {
     "data": {
      "text/plain": [
       "'0066666666666660000000001'"
      ]
     },
     "execution_count": 44,
     "metadata": {},
     "output_type": "execute_result"
    }
   ],
   "source": [
    "\n",
    "\n",
    "def to_any(num, base, to_base):\n",
    "    # num = int(num, base)\n",
    "    s = ''\n",
    "    while num > to_base:\n",
    "        s += str(num % to_base)\n",
    "        num = num // to_base\n",
    "    return s\n",
    "\n",
    "num = 3*343**8 + 5 *49**12 + 7**15 - 49\n",
    "num\n",
    "\n",
    "to_any(num, 10, 7)\n",
    "\n",
    "\n"
   ]
  },
  {
   "cell_type": "code",
   "execution_count": 61,
   "metadata": {},
   "outputs": [
    {
     "name": "stdout",
     "output_type": "stream",
     "text": [
      "36\n"
     ]
    }
   ],
   "source": [
    "def f(a):\n",
    "    for x in range(5000):\n",
    "        if (x & 39 == 0) or ((x & 11 == 0) <= (x & a != 0)):\n",
    "            pass\n",
    "        else:\n",
    "            return False\n",
    "    return True\n",
    "\n",
    "for a in range(1000):\n",
    "    if f(a):\n",
    "        print(a)\n",
    "        break"
   ]
  },
  {
   "cell_type": "code",
   "execution_count": 71,
   "metadata": {},
   "outputs": [
    {
     "name": "stdout",
     "output_type": "stream",
     "text": [
      "14\n",
      "7\n",
      "2\n"
     ]
    }
   ],
   "source": [
    "def s(a):\n",
    "    for x in range(5000):\n",
    "        if (70 % a == 0) and ((x % 28 == 0) <= ((not(x % a == 0)) <= (not(x % 21 == 0)))):\n",
    "            pass\n",
    "        else:\n",
    "            return False\n",
    "    return True\n",
    "\n",
    "\n",
    "for a in range(1000, 1, -1):\n",
    "    if s(a):\n",
    "        print(a)"
   ]
  },
  {
   "cell_type": "code",
   "execution_count": 72,
   "metadata": {},
   "outputs": [
    {
     "name": "stdout",
     "output_type": "stream",
     "text": [
      "27\n"
     ]
    }
   ],
   "source": [
    "def triangle(a, b, c):\n",
    "    if a + b > c and a + c > b and b + c > a:\n",
    "        return True\n",
    "    return False\n",
    "\n",
    "def f(a):\n",
    "    for x in range(1000):\n",
    "        if ((triangle(x, 10, 20) <= (not(max(x, 8)) > 24))) == (not(triangle(3, a, x))):\n",
    "            pass\n",
    "        else:\n",
    "            return False\n",
    "    return True\n",
    "\n",
    "for a in range(1000):\n",
    "    if f(a):\n",
    "        print(a)\n",
    "    "
   ]
  },
  {
   "cell_type": "code",
   "execution_count": 74,
   "metadata": {},
   "outputs": [
    {
     "name": "stdout",
     "output_type": "stream",
     "text": [
      "20\n"
     ]
    }
   ],
   "source": [
    "from itertools import combinations\n",
    "\n",
    "def p(x):\n",
    "    return 17 <= x <= 40\n",
    "\n",
    "def q(x):\n",
    "    return 20 <= x <= 57\n",
    "\n",
    "def A(start, stop, x):\n",
    "    return start <= x <= stop\n",
    "\n",
    "coords = combinations(\n",
    "    sorted([17, 40, 20, 57]), 2)\n",
    "\n",
    "d = set()\n",
    "\n",
    "for start, stop in coords:\n",
    "    f = True\n",
    "    for x in range(0, 60):\n",
    "        if (not(A(start=start, stop=stop, x=x))) <= (((p(x) and q(x))) <= A(start, stop, x)):\n",
    "            pass\n",
    "        else:\n",
    "            f = False\n",
    "            break\n",
    "    \n",
    "    if f:\n",
    "        d.add(stop-start)\n",
    "\n",
    "print(min(d))\n",
    "            "
   ]
  }
 ],
 "metadata": {
  "kernelspec": {
   "display_name": "venv",
   "language": "python",
   "name": "python3"
  },
  "language_info": {
   "codemirror_mode": {
    "name": "ipython",
    "version": 3
   },
   "file_extension": ".py",
   "mimetype": "text/x-python",
   "name": "python",
   "nbconvert_exporter": "python",
   "pygments_lexer": "ipython3",
   "version": "3.11.4"
  }
 },
 "nbformat": 4,
 "nbformat_minor": 2
}
