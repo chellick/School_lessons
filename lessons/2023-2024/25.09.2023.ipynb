{
 "cells": [
  {
   "cell_type": "code",
   "execution_count": 6,
   "metadata": {},
   "outputs": [
    {
     "data": {
      "text/plain": [
       "'28'"
      ]
     },
     "execution_count": 6,
     "metadata": {},
     "output_type": "execute_result"
    }
   ],
   "source": [
    "s = \"8\" * 68\n",
    "\n",
    "\n",
    "def redactor(string):\n",
    "    while \"222\" in string or \"888\" in string:\n",
    "        if \"222\" in string:\n",
    "            string = string.replace(\"222\", \"8\", 1)\n",
    "        else:\n",
    "            string = string.replace(\"888\", \"2\", 1)\n",
    "        \n",
    "    return string\n",
    "\n",
    "redactor(s)"
   ]
  },
  {
   "cell_type": "code",
   "execution_count": 7,
   "metadata": {},
   "outputs": [
    {
     "data": {
      "text/plain": [
       "'222111'"
      ]
     },
     "execution_count": 7,
     "metadata": {},
     "output_type": "execute_result"
    }
   ],
   "source": [
    "s = \"1\" * 84\n",
    "\n",
    "def f(s):\n",
    "    while \"11111\" in s:\n",
    "        s = s.replace(\"222\", \"1\", 1)\n",
    "        s = s.replace(\"111\", \"2\", 1)\n",
    "    \n",
    "    return s\n",
    "\n",
    "f(s)"
   ]
  },
  {
   "cell_type": "code",
   "execution_count": 12,
   "metadata": {},
   "outputs": [
    {
     "data": {
      "text/plain": [
       "'88881'"
      ]
     },
     "execution_count": 12,
     "metadata": {},
     "output_type": "execute_result"
    }
   ],
   "source": [
    "s = \"1\" * 81\n",
    "\n",
    "\n",
    "def f(s):\n",
    "    while \"1111\" in s or \"88888\" in s:\n",
    "        if \"1111\" in s:\n",
    "            s = s.replace(\"1111\", \"888\", 1)\n",
    "        else:\n",
    "            s = s.replace(\"88888\", \"888\", 1)\n",
    "    return s  \n",
    "    \n",
    "f(s)  "
   ]
  },
  {
   "cell_type": "code",
   "execution_count": 16,
   "metadata": {},
   "outputs": [],
   "source": [
    "import random"
   ]
  },
  {
   "cell_type": "code",
   "execution_count": null,
   "metadata": {},
   "outputs": [],
   "source": [
    "s = \"\"\n",
    "\n",
    "def f(s):\n",
    "    while \"00\" not in s:\n",
    "        s = s.replace(\"011\", \"20\", 1)\n",
    "        s = s.replace(\"022\", \"10\", 1)\n",
    "        s = s.replace(\"01\", \"220\", 1)\n",
    "        s = s.replace(\"02\", \"110\", 1)\n",
    "    return s\n",
    "\n",
    "\n",
    "\n",
    "\n",
    "for i in range(1000):\n",
    "    t = list(\"1\" * i + \"2\" * i)\n",
    "    random.shuffle(t)\n",
    "    t = \"\".join(t)\n",
    "    s = \"0\" + t + \"0\"\n",
    "    print(s)\n",
    "    if f(s).count(\"1\") == 40 and f(s).count(\"2\") > 50:\n",
    "        print(i)\n",
    "        break\n",
    "    \n",
    "    "
   ]
  },
  {
   "cell_type": "code",
   "execution_count": 24,
   "metadata": {},
   "outputs": [
    {
     "data": {
      "text/plain": [
       "'221'"
      ]
     },
     "execution_count": 24,
     "metadata": {},
     "output_type": "execute_result"
    }
   ],
   "source": [
    "s = \"1\" * 99\n",
    "\n",
    "def f(s):\n",
    "    while \"111\" in s:\n",
    "        s = s.replace(\"111\", \"22\", 1)\n",
    "        s = s.replace(\"222\", \"11\", 1)\n",
    "    return s\n",
    "\n",
    "f(s)"
   ]
  },
  {
   "cell_type": "code",
   "execution_count": 47,
   "metadata": {},
   "outputs": [
    {
     "name": "stdout",
     "output_type": "stream",
     "text": [
      "413\n"
     ]
    }
   ],
   "source": [
    "def f(s):\n",
    "    while \"52\" in s or \"2222\" in s or \"1122\" in s:\n",
    "        if \"52\" in s:\n",
    "            s = s.replace(\"52\", \"1\", 1)\n",
    "        if \"2222\" in s:\n",
    "            s = s.replace(\"2222\", \"5\", 1)\n",
    "        if \"1122\" in s:\n",
    "            s = s.replace(\"1122\", \"25\", 1)\n",
    "            \n",
    "    return s\n",
    "\n",
    "for n in range(1, 1000):\n",
    "    s = \"5\" + \"2\" * n\n",
    "    \n",
    "    if sum([int(j) for j in f(s)]) == 88:\n",
    "        print(n)\n",
    "        break\n",
    "        \n",
    "    \n",
    "    \n"
   ]
  }
 ],
 "metadata": {
  "kernelspec": {
   "display_name": "venv",
   "language": "python",
   "name": "python3"
  },
  "language_info": {
   "codemirror_mode": {
    "name": "ipython",
    "version": 3
   },
   "file_extension": ".py",
   "mimetype": "text/x-python",
   "name": "python",
   "nbconvert_exporter": "python",
   "pygments_lexer": "ipython3",
   "version": "3.11.4"
  }
 },
 "nbformat": 4,
 "nbformat_minor": 2
}
