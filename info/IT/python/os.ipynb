{
 "cells": [
  {
   "attachments": {},
   "cell_type": "markdown",
   "metadata": {},
   "source": [
    "# Модули ```os & os.path```\n",
    "\n",
    "Работа с файлами и операционной системой в Python может быть достаточно простой и удобной. Python предоставляет стандартные библиотеки для работы с файлами и операционной системой, такие как os и os.path.\n",
    "\n",
    "--------------\n",
    "\n",
    "Для работы с файлами в Python используется функция ```open()```, которая открывает файл и возвращает объект файла. Далее этот объект можно использовать для чтения данных из файла.\n"
   ]
  },
  {
   "cell_type": "code",
   "execution_count": 5,
   "metadata": {},
   "outputs": [],
   "source": [
    "import os"
   ]
  },
  {
   "cell_type": "markdown",
   "metadata": {},
   "source": [
    "Конструкция with open может использоваться не только для чтения, но и для записи в файл. Параметр 'r' открывает файл для чтения, 'w' - для записи, а 'a' - для добавления (append) данных в файл."
   ]
  },
  {
   "cell_type": "code",
   "execution_count": null,
   "metadata": {},
   "outputs": [],
   "source": [
    "# открываем файл для записи\n",
    "with open('file.txt', 'w') as f:\n",
    "    # записываем данные в файл\n",
    "    f.write('Hello, world!')\n",
    "    \n",
    "# открываем файл для чтения\n",
    "with open('file.txt', 'r') as f:\n",
    "    # читаем данные из файла\n",
    "    data = f.read()\n",
    "    print(data)  \n"
   ]
  },
  {
   "attachments": {},
   "cell_type": "markdown",
   "metadata": {},
   "source": [
    "## ```OS```\n",
    "Для работы с операционной системой в Python используется библиотека os. С ее помощью можно, например, создавать директории, удалять файлы, получать текущую директорию и т.д."
   ]
  },
  {
   "cell_type": "code",
   "execution_count": null,
   "metadata": {},
   "outputs": [],
   "source": [
    "# удаляем файл file.txt\n",
    "os.remove('file.txt')"
   ]
  },
  {
   "cell_type": "code",
   "execution_count": null,
   "metadata": {},
   "outputs": [],
   "source": [
    "# создаем директорию\n",
    "os.mkdir('direct')\n",
    "\n",
    "# проверяем, существует ли файл или директория\n",
    "print(os.path.exists('direct'))\n",
    "\n",
    "# удаляем директорию\n",
    "os.rmdir('direct')\n",
    "\n",
    "# проверяем, существует ли файл или директория\n",
    "print(os.path.exists('direct'))"
   ]
  },
  {
   "attachments": {},
   "cell_type": "markdown",
   "metadata": {},
   "source": [
    "Библиотека os также позволяет получать список файлов и директорий в заданной директории."
   ]
  },
  {
   "cell_type": "code",
   "execution_count": null,
   "metadata": {},
   "outputs": [],
   "source": [
    "# получаем текущую директорию\n",
    "current_dir = os.getcwd()\n",
    "\n",
    "# получаем и выводим список файлов и директорий в текущей директории\n",
    "print(os.listdir(current_dir))"
   ]
  },
  {
   "attachments": {},
   "cell_type": "markdown",
   "metadata": {},
   "source": [
    "Пример остальных функций"
   ]
  },
  {
   "cell_type": "code",
   "execution_count": 27,
   "metadata": {},
   "outputs": [],
   "source": [
    "# переименование файлов\n",
    "os.rename('goals.md','C:/python/codes/school-lessons/info/conspects/goals_new.md')\n",
    "os.rename('goals_new.md','C:/python/codes/school-lessons/info/conspects/goals.md')"
   ]
  },
  {
   "cell_type": "code",
   "execution_count": null,
   "metadata": {},
   "outputs": [],
   "source": [
    "# смена директории\n",
    "os.chdir('..')  # перейти на уровень выше\n",
    "print(os.getcwd())\n",
    "os.chdir('conspects')\n",
    "print(os.getcwd())"
   ]
  }
 ],
 "metadata": {
  "kernelspec": {
   "display_name": "venv",
   "language": "python",
   "name": "python3"
  },
  "language_info": {
   "codemirror_mode": {
    "name": "ipython",
    "version": 3
   },
   "file_extension": ".py",
   "mimetype": "text/x-python",
   "name": "python",
   "nbconvert_exporter": "python",
   "pygments_lexer": "ipython3",
   "version": "3.10.7"
  },
  "orig_nbformat": 4
 },
 "nbformat": 4,
 "nbformat_minor": 2
}
