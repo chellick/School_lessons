{
 "cells": [
  {
   "attachments": {},
   "cell_type": "markdown",
   "metadata": {},
   "source": [
    "# Структуры данных Python ver."
   ]
  },
  {
   "attachments": {},
   "cell_type": "markdown",
   "metadata": {},
   "source": [
    "Queue, FIFO (first in first out) etc."
   ]
  },
  {
   "cell_type": "code",
   "execution_count": null,
   "metadata": {},
   "outputs": [],
   "source": [
    "class Queue:\n",
    "    def  __init__(self, arr=None) -> None:\n",
    "        self.queue = arr if arr != None else []\n",
    "\n",
    "    def enqueue(self, item):\n",
    "        self.queue.append(item)\n",
    "\n",
    "    def dequeue(self):\n",
    "        if len(self.queue) > 0:\n",
    "            self.queue.pop(0)\n",
    "        \n",
    "        else: \n",
    "            raise ValueError('queue is empty')\n",
    "\n",
    "    \n",
    "q = Queue()"
   ]
  },
  {
   "attachments": {},
   "cell_type": "markdown",
   "metadata": {},
   "source": [
    "Stack, FILO (first in last out) etc."
   ]
  },
  {
   "cell_type": "code",
   "execution_count": 14,
   "metadata": {},
   "outputs": [],
   "source": [
    "class Stack:\n",
    "    def  __init__(self, arr=None) -> None:\n",
    "        self.stack = arr if arr != None else []\n",
    "    \n",
    "    def push(self, item):\n",
    "        self.stack.append(item)\n",
    "\n",
    "    def pop(self):\n",
    "        if len(self.stack) > 0:\n",
    "            self.stack.pop()\n",
    "        else: \n",
    "            raise ValueError('stack is empty')\n",
    "        \n",
    "s = Stack([1,2,3])"
   ]
  },
  {
   "attachments": {},
   "cell_type": "markdown",
   "metadata": {},
   "source": [
    "Linked list"
   ]
  },
  {
   "cell_type": "code",
   "execution_count": null,
   "metadata": {},
   "outputs": [],
   "source": [
    "class Node:\n",
    "    def __init__(self, data, next=None):\n",
    "        self.data = data\n",
    "        self.next = next\n",
    "        self.tail = data if next is None else None\n",
    "    \n",
    "class Llist:\n",
    "    def __init__(self, head):\n",
    "        self.head = head if isinstance(head, Node) else Node(head)\n",
    "    \n",
    "    def contain(self, item):\n",
    "        h = self.head\n",
    "        while h:\n",
    "            if item == h.data:\n",
    "                return True\n",
    "            else:\n",
    "                h = h.next\n",
    "        return False\n",
    "    \n",
    "    def insert_tail(self, item):\n",
    "        n = Node(item)\n",
    "        if self.head is None:\n",
    "            self.head = n\n",
    "            return  # check head\n",
    "        \n",
    "        h = self.head\n",
    "        while (h.next):\n",
    "            h = h.next\n",
    "        h.next = n\n",
    "\n",
    "    def insert_head(self, item):\n",
    "        n = Node(item)\n",
    "        n.next = self.head\n",
    "        self.head = n\n",
    "    \n",
    "    def get(self, index):\n",
    "        h = self.head\n",
    "        i = 0\n",
    "        while h:\n",
    "            if i == index:\n",
    "                return h.data\n",
    "            i += 1\n",
    "            h = h.next\n",
    "        raise IndexError(\"Index out of range\")\n",
    "    \n",
    "    def delete(self, item):\n",
    "        h = self.head\n",
    "        hp = None\n",
    "        while h:\n",
    "            if h.data == item:\n",
    "                if hp is None:\n",
    "                    # Case 1: Deleting the head node\n",
    "                    self.head = h.next\n",
    "                else:\n",
    "                    # Case 2: Deleting a node that is not the head\n",
    "                    hp.next = h.next\n",
    "\n",
    "                if h.next is None:\n",
    "                    # Case 3: Deleting the tail node\n",
    "                    self.tail = hp\n",
    "\n",
    "                return True\n",
    "\n",
    "            # Move to the next node\n",
    "            hp = h\n",
    "            h = h.next\n",
    "\n",
    "        return False\n"
   ]
  },
  {
   "attachments": {},
   "cell_type": "markdown",
   "metadata": {},
   "source": [
    "hash table \\ hash map"
   ]
  },
  {
   "cell_type": "code",
   "execution_count": null,
   "metadata": {},
   "outputs": [],
   "source": [
    "class HashTable:\n",
    "    def __init__(self, size):\n",
    "        self.size = size\n",
    "        self.table = [[] for _ in range(size)] \n",
    "\n",
    "    def hash_key(self, key):\n",
    "        return hash(key) % self.size\n",
    "    \n",
    "    def insert(self, key, value):\n",
    "        hash_value = self.hash_key(key)\n",
    "        slot = self.table[hash_value]\n",
    "        for i, (k, v) in enumerate(slot):\n",
    "            if k == key:\n",
    "                slot[i] = (key, value)\n",
    "                return\n",
    "        slot.append((key, value))\n",
    "\n",
    "    def get(self, key):\n",
    "        for index in self.table:\n",
    "            for k, v in index:\n",
    "                if k == key:\n",
    "                    return v\n",
    "\n",
    "        raise KeyError(f\"Key '{key}' not found\")\n",
    "    \n",
    "    def remove(self, key):\n",
    "        for index in self.table:\n",
    "            for i, (k, v) in enumerate(index):\n",
    "                if k == key:\n",
    "                    del index[i]\n",
    "                    return\n",
    "\n",
    "        raise KeyError(f\"Key '{key}' not found\")"
   ]
  },
  {
   "cell_type": "markdown",
   "metadata": {},
   "source": []
  }
 ],
 "metadata": {
  "kernelspec": {
   "display_name": "venv",
   "language": "python",
   "name": "python3"
  },
  "language_info": {
   "codemirror_mode": {
    "name": "ipython",
    "version": 3
   },
   "file_extension": ".py",
   "mimetype": "text/x-python",
   "name": "python",
   "nbconvert_exporter": "python",
   "pygments_lexer": "ipython3",
   "version": "3.10.7"
  },
  "orig_nbformat": 4
 },
 "nbformat": 4,
 "nbformat_minor": 2
}
