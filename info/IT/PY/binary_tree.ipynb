{
 "cells": [
  {
   "attachments": {},
   "cell_type": "markdown",
   "metadata": {},
   "source": [
    "# Бинарные деревья\n",
    "\n",
    "Бинарное дерево - это структура данных, используемая в информатике для представления и организации информации в виде иерархического дерева. Оно состоит из узлов (вершин) и ребер, которые связывают эти узлы. Каждый узел имеет не более двух дочерних узлов, которые обычно называются \"левым\" и \"правым\" дочерними узлами.\n",
    "\n",
    "В бинарном дереве каждый узел может содержать какую-либо информацию, называемую ключом или значением. Бинарные деревья часто используются для организации и поиска данных, так как они обеспечивают эффективное добавление, удаление и поиск элементов.\n",
    "\n",
    "Одной из распространенных разновидностей бинарных деревьев является бинарное дерево поиска (Binary Search Tree, BST). В BST каждый узел имеет ключ, и ключи левого поддерева меньше ключа родительского узла, а ключи правого поддерева больше ключа родительского узла. Благодаря этому свойству поиска элемента в BST можно осуществлять эффективно за время, пропорциональное высоте дерева.\n",
    "\n",
    "Бинарные деревья имеют широкий спектр применений в информатике, включая поиск, сортировку, обходы дерева, компрессию данных и другие алгоритмические задачи."
   ]
  },
  {
   "cell_type": "code",
   "execution_count": 49,
   "metadata": {},
   "outputs": [],
   "source": [
    "import numpy as np"
   ]
  },
  {
   "cell_type": "code",
   "execution_count": 61,
   "metadata": {},
   "outputs": [
    {
     "data": {
      "text/plain": [
       "[20, 30, 40, 50, 70]"
      ]
     },
     "execution_count": 61,
     "metadata": {},
     "output_type": "execute_result"
    }
   ],
   "source": [
    "class Node:\n",
    "    def __init__(self, key):\n",
    "        self.key = key\n",
    "        self.left = None\n",
    "        self.right = None\n",
    "\n",
    "class Binary_tree:\n",
    "    def __init__(self):\n",
    "        self.root = None\n",
    "\n",
    "    def insert_root(self, key):\n",
    "        if self.root is None:\n",
    "            self.root = Node(key)\n",
    "        else:\n",
    "            self._insert_recursive(key, self.root)\n",
    "\n",
    "    def _insert_recursive(self, key, node):\n",
    "        if key < node.key:\n",
    "            if node.left is None:\n",
    "                node.left = Node(key)\n",
    "            else:\n",
    "                self._insert_recursive(key, node.left)\n",
    "        elif key > node.key:\n",
    "            if node.right is None:\n",
    "                node.right = Node(key)\n",
    "            else:\n",
    "                self._insert_recursive(key, node.right)\n",
    "\n",
    "    def inorder_traversal(self):\n",
    "        result = []\n",
    "        self._inorder_recursive(self.root, result)\n",
    "        return result\n",
    "\n",
    "    def _inorder_recursive(self, node, result):\n",
    "        if node is not None:\n",
    "            self._inorder_recursive(node.left, result)\n",
    "            result.append(node.key)\n",
    "            self._inorder_recursive(node.right, result)\n",
    "\n",
    "# Пример использования:\n",
    "tree = Binary_tree()\n",
    "\n",
    "arr = [50, 30, 20, 40, 70]\n",
    "\n",
    "\n",
    "for i in arr:\n",
    "    tree.insert_root(i)\n",
    "\n",
    "tree.inorder_traversal()\n"
   ]
  },
  {
   "attachments": {},
   "cell_type": "markdown",
   "metadata": {},
   "source": [
    "```julia\n",
    "       50\n",
    "      /  \\\n",
    "    30    70\n",
    "   /  \\     \n",
    " 20   40   \n",
    "\n",
    "```"
   ]
  }
 ],
 "metadata": {
  "kernelspec": {
   "display_name": "venv",
   "language": "python",
   "name": "python3"
  },
  "language_info": {
   "codemirror_mode": {
    "name": "ipython",
    "version": 3
   },
   "file_extension": ".py",
   "mimetype": "text/x-python",
   "name": "python",
   "nbconvert_exporter": "python",
   "pygments_lexer": "ipython3",
   "version": "3.10.7"
  },
  "orig_nbformat": 4
 },
 "nbformat": 4,
 "nbformat_minor": 2
}
