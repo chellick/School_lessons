{
 "cells": [
  {
   "attachments": {},
   "cell_type": "markdown",
   "metadata": {},
   "source": [
    "# Расширения\n",
    "\n",
    "Данный jupiter блокнот о работе с различными типами расширений файлов в python с использованием библиотеки pandas"
   ]
  },
  {
   "attachments": {},
   "cell_type": "markdown",
   "metadata": {},
   "source": [
    "## Работа с CSV таблицами \n",
    "\n",
    "CSV - это сокращение от \"Comma-Separated Values\" (значения, разделенные запятыми), формат файла, используемый для хранения и передачи табличных данных в виде текстового файла.\n",
    "\n",
    "CSV-файл содержит данные в виде таблицы, где каждая строка представляет отдельную запись, а каждый столбец представляет конкретное поле данных. Значения в каждой ячейке таблицы разделены запятой или другим разделителем (например, точкой с запятой), что позволяет легко читать и записывать данные.\n",
    "\n",
    "CSV-файлы широко используются для обмена данными между различными программами и системами, так как они являются универсальным форматом для представления табличных данных и могут быть прочитаны большинством приложений для обработки данных, таких как Microsoft Excel, Google Sheets и др."
   ]
  },
  {
   "cell_type": "code",
   "execution_count": 14,
   "metadata": {},
   "outputs": [],
   "source": [
    "import pandas as pd\n",
    "import csv\n",
    "import os\n",
    "import codecs as cs"
   ]
  },
  {
   "cell_type": "code",
   "execution_count": null,
   "metadata": {},
   "outputs": [],
   "source": [
    "data = pd.DataFrame({\n",
    "    'Имя': ['Alex', 'Max', 'Ann'],\n",
    "    'Возраст': [25, 10, 18],\n",
    "    'Email': ['alex@example.com', 'max@example.com', 'ann@example.com']\n",
    "})\n",
    "\n",
    "# Запись данных в CSV-файл\n",
    "data.to_csv('file.csv', index=False)\n",
    "\n",
    "\n",
    "df = pd.read_csv('file.csv')\n",
    "print(df)"
   ]
  },
  {
   "cell_type": "code",
   "execution_count": 20,
   "metadata": {},
   "outputs": [],
   "source": [
    "os.remove('file.csv')"
   ]
  },
  {
   "attachments": {},
   "cell_type": "markdown",
   "metadata": {},
   "source": [
    "## Работа с TSV таблицами\n",
    "\n",
    "TSV (Tab-Separated Values) - это формат данных, в котором значения разделены символом табуляции (\\t). Этот формат очень похож на *CSV*, но вместо запятых используются табуляции для разделения значений.\n",
    "\n",
    "Файлы TSV могут содержать таблицы данных, где каждая строка представляет собой запись, а каждый столбец - отдельное поле данных. Файлы TSV могут использоваться для хранения и обмена данными между различными программами и системами."
   ]
  },
  {
   "cell_type": "code",
   "execution_count": null,
   "metadata": {},
   "outputs": [],
   "source": [
    "data = pd.DataFrame({\n",
    "    'Имя': ['Alex', 'Max', 'Ann'],\n",
    "    'Возраст': [25, 10, 18],\n",
    "    'Email': ['alex@example.com', 'max@example.com', 'ann@example.com']\n",
    "})\n",
    "\n",
    "df.to_csv('data.tsv', sep='\\t', index=False)\n",
    "df = pd.read_csv('data.tsv', delimiter='\\t')\n",
    "print(df)"
   ]
  },
  {
   "cell_type": "code",
   "execution_count": 24,
   "metadata": {},
   "outputs": [],
   "source": [
    "os.remove('data.tsv')"
   ]
  },
  {
   "attachments": {},
   "cell_type": "markdown",
   "metadata": {},
   "source": [
    "## Работа с JSON файлами\n",
    "\n",
    "JSON (JavaScript Object Notation) - это формат обмена данными, который используется для представления структурированных данных. Он был создан на основе языка JavaScript, но может использоваться практически на любой платформе и в любом языке программирования.\n",
    "\n",
    "JSON-данные представляют собой набор пар ключ-значение, записанных в фигурных скобках. Ключи являются строками, а значения могут быть строками, числами, логическими значениями, массивами или вложенными объектами."
   ]
  },
  {
   "cell_type": "code",
   "execution_count": 25,
   "metadata": {},
   "outputs": [],
   "source": [
    "import json"
   ]
  },
  {
   "cell_type": "code",
   "execution_count": null,
   "metadata": {},
   "outputs": [],
   "source": [
    "# Загрузка JSON-данных из строки\n",
    "json_str = '{\"name\": \"John\", \"age\": 30, \"isStudent\": false}'\n",
    "data = json.loads(json_str)\n",
    "\n",
    "print(data)"
   ]
  },
  {
   "cell_type": "code",
   "execution_count": null,
   "metadata": {},
   "outputs": [],
   "source": [
    "# агрузка JSON-данных из строки\n",
    "data = {\n",
    "    'name': 'John',\n",
    "    'age': 30,\n",
    "    'isStudent': False\n",
    "}\n",
    "\n",
    "json_str = json.dumps(data)\n",
    "\n",
    "print(json_str)"
   ]
  },
  {
   "cell_type": "code",
   "execution_count": null,
   "metadata": {},
   "outputs": [],
   "source": [
    "# Чтение файлов JSON\n",
    "data = {\n",
    "    'name': 'John',\n",
    "    'age': 30,\n",
    "    'isStudent': False\n",
    "}\n",
    "\n",
    "with open('data.json', 'w') as f:\n",
    "    json.dump(data, f)\n",
    "\n",
    "with open('data.json', 'r') as f:\n",
    "    data = json.load(f)\n",
    "\n",
    "print(data)"
   ]
  },
  {
   "cell_type": "code",
   "execution_count": 33,
   "metadata": {},
   "outputs": [],
   "source": [
    "os.remove('data.json')"
   ]
  },
  {
   "attachments": {},
   "cell_type": "markdown",
   "metadata": {},
   "source": [
    "# Работа с XML\n",
    "\n",
    "XML (eXtensible Markup Language) - это язык разметки, используемый для описания и структурирования данных. Он представляет собой набор правил, которые позволяют описывать данные в формате, который может быть прочитан как компьютерами, так и людьми.\n",
    "\n",
    "XML-документы состоят из элементов, которые могут иметь атрибуты и содержимое. Элементы могут быть вложенными, что позволяет описывать иерархические структуры данных. XML-документы также могут содержать комментарии и инструкции обработки.\n",
    "\n",
    "Для работы с XML в Python существуют стандартные модули xml.etree.ElementTree и xml.dom.minidom. Они позволяют разбирать XML-документы и создавать их."
   ]
  },
  {
   "cell_type": "code",
   "execution_count": 34,
   "metadata": {},
   "outputs": [],
   "source": [
    "import xml.etree.ElementTree as ET"
   ]
  },
  {
   "cell_type": "code",
   "execution_count": 37,
   "metadata": {},
   "outputs": [
    {
     "name": "stdout",
     "output_type": "stream",
     "text": [
      "root\n",
      "child\n",
      "Hello, World!\n"
     ]
    }
   ],
   "source": [
    "# Создаем XML-документ\n",
    "root = ET.Element('root')\n",
    "child = ET.SubElement(root, 'child')\n",
    "child.text = 'Hello, World!'\n",
    "tree = ET.ElementTree(root)\n",
    "tree.write('data.xml')\n",
    "\n",
    "# Читаем XML-документ\n",
    "tree = ET.parse('data.xml')\n",
    "root = tree.getroot()\n",
    "print(root.tag)  # 'root'\n",
    "print(root[0].tag)  # 'child'\n",
    "print(root[0].text)  # 'Hello, World!'"
   ]
  },
  {
   "cell_type": "code",
   "execution_count": null,
   "metadata": {},
   "outputs": [],
   "source": [
    "os.remove('data.xml')"
   ]
  }
 ],
 "metadata": {
  "kernelspec": {
   "display_name": "venv",
   "language": "python",
   "name": "python3"
  },
  "language_info": {
   "codemirror_mode": {
    "name": "ipython",
    "version": 3
   },
   "file_extension": ".py",
   "mimetype": "text/x-python",
   "name": "python",
   "nbconvert_exporter": "python",
   "pygments_lexer": "ipython3",
   "version": "3.10.7"
  },
  "orig_nbformat": 4
 },
 "nbformat": 4,
 "nbformat_minor": 2
}
