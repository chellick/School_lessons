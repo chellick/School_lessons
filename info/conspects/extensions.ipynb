{
 "cells": [
  {
   "attachments": {},
   "cell_type": "markdown",
   "metadata": {},
   "source": [
    "# Расширения\n",
    "\n",
    "Данный jupiter блокнот о работе с различными типами расширений файлов в python с использованием библиотеки pandas"
   ]
  },
  {
   "attachments": {},
   "cell_type": "markdown",
   "metadata": {},
   "source": [
    "## Работа с CSV таблицами \n",
    "\n",
    "CSV - это сокращение от \"Comma-Separated Values\" (значения, разделенные запятыми), формат файла, используемый для хранения и передачи табличных данных в виде текстового файла.\n",
    "\n",
    "CSV-файл содержит данные в виде таблицы, где каждая строка представляет отдельную запись, а каждый столбец представляет конкретное поле данных. Значения в каждой ячейке таблицы разделены запятой или другим разделителем (например, точкой с запятой), что позволяет легко читать и записывать данные.\n",
    "\n",
    "CSV-файлы широко используются для обмена данными между различными программами и системами, так как они являются универсальным форматом для представления табличных данных и могут быть прочитаны большинством приложений для обработки данных, таких как Microsoft Excel, Google Sheets и др."
   ]
  },
  {
   "cell_type": "code",
   "execution_count": 14,
   "metadata": {},
   "outputs": [],
   "source": [
    "import pandas as pd\n",
    "import csv\n",
    "import os\n",
    "import codecs as cs"
   ]
  },
  {
   "cell_type": "code",
   "execution_count": null,
   "metadata": {},
   "outputs": [],
   "source": [
    "data = pd.DataFrame({\n",
    "    'Имя': ['Alex', 'Max', 'Ann'],\n",
    "    'Возраст': [25, 10, 18],\n",
    "    'Email': ['alex@example.com', 'max@example.com', 'ann@example.com']\n",
    "})\n",
    "\n",
    "# Запись данных в CSV-файл\n",
    "data.to_csv('file.csv', index=False)\n",
    "\n",
    "\n",
    "df = pd.read_csv('file.csv')\n",
    "print(df)"
   ]
  },
  {
   "cell_type": "code",
   "execution_count": 20,
   "metadata": {},
   "outputs": [],
   "source": [
    "os.remove('file.csv')"
   ]
  },
  {
   "attachments": {},
   "cell_type": "markdown",
   "metadata": {},
   "source": [
    "## Работа с TSV таблицами\n",
    "\n",
    "TSV (Tab-Separated Values) - это формат данных, в котором значения разделены символом табуляции (\\t). Этот формат очень похож на *CSV*, но вместо запятых используются табуляции для разделения значений.\n",
    "\n",
    "Файлы TSV могут содержать таблицы данных, где каждая строка представляет собой запись, а каждый столбец - отдельное поле данных. Файлы TSV могут использоваться для хранения и обмена данными между различными программами и системами."
   ]
  },
  {
   "cell_type": "code",
   "execution_count": null,
   "metadata": {},
   "outputs": [],
   "source": []
  }
 ],
 "metadata": {
  "kernelspec": {
   "display_name": "venv",
   "language": "python",
   "name": "python3"
  },
  "language_info": {
   "codemirror_mode": {
    "name": "ipython",
    "version": 3
   },
   "file_extension": ".py",
   "mimetype": "text/x-python",
   "name": "python",
   "nbconvert_exporter": "python",
   "pygments_lexer": "ipython3",
   "version": "3.10.7"
  },
  "orig_nbformat": 4
 },
 "nbformat": 4,
 "nbformat_minor": 2
}
