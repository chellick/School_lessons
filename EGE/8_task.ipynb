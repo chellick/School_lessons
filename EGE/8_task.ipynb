{
 "cells": [
  {
   "cell_type": "code",
   "execution_count": null,
   "metadata": {},
   "outputs": [],
   "source": [
    "from itertools import product as p\n",
    "\n",
    "h = list(filter(lambda x: x.count('0') == 3 and '00' not in x, list(map(lambda x: ''.join(x), p('01', repeat=12)))))\n",
    "p0 = len(list(p('0246', repeat=9))) * len([1 for i in h if i[0] == '0'])\n",
    "p1 = len(list(filter(lambda x: x[0] != '0', p('0246', repeat=9)))) * len([1 for i in h if i[0] == '1']) \n",
    "print(len(list(p('1357',repeat=3))) * (p0 + p1))\n",
    "\n",
    "# from itertools import product as p\n",
    "\n",
    "# print(len(list(p('1357',repeat=3))) * (len(list(p('0246', repeat=9))) * len([1 for i in list(filter(lambda x: x.count('0') == 3 and '00' not in x, list(map(lambda x: ''.join(x), p('01', repeat=12))))) if i[0] == '0']) + len(list(filter(lambda x: x[0] != '0', p('0246', repeat=9)))) * len([1 for i in list(filter(lambda x: x.count('0') == 3 and '00' not in x, list(map(lambda x: ''.join(x), p('01', repeat=12))))) if i[0] == '1']) ))"
   ]
  },
  {
   "cell_type": "code",
   "execution_count": 1,
   "metadata": {},
   "outputs": [],
   "source": [
    "import itertools"
   ]
  },
  {
   "cell_type": "code",
   "execution_count": null,
   "metadata": {},
   "outputs": [],
   "source": [
    "d = '10234567'\n",
    "c = 0\n",
    "\n",
    "for i in itertools.product(d, repeat=12):\n",
    "    if i[0] != '0':\n",
    "        r = \"\".join(i)\n",
    "        if '11' in r or '33' in r or '55' in r or '77' in r:\n",
    "            continue\n",
    "        \n",
    "        r = r.replace('2', '0')\\\n",
    "            .replace('3', '1')\\\n",
    "                .replace('4', '0')\\\n",
    "                    .replace('5', '1')\\\n",
    "                        .replace('6', '0').replace('7', '1')\n",
    "                        \n",
    "        print(r)\n",
    "        if r.count('1') == 3:\n",
    "            if '11' not in r:\n",
    "                c += 1\n",
    "                print(c)\n",
    "print(c)"
   ]
  },
  {
   "cell_type": "code",
   "execution_count": null,
   "metadata": {},
   "outputs": [],
   "source": [
    "d = '0121457'\n",
    "c = 0\n",
    "\n",
    "for a, i in enumerate(itertools.permutations(d, r=5), 1):\n",
    "    if i[0] != '0':\n",
    "        if \"\".join(i).count('1') == 0:\n",
    "            r = \"\".join(i)\n",
    "            r = r.replace('2', '0')\\\n",
    "                .replace('3', '1')\\\n",
    "                    .replace('4', '0')\\\n",
    "                        .replace('5', '1')\\\n",
    "                            .replace('6', '0').replace('7', '1')\n",
    "            if '11' in r or '00' in r:\n",
    "                continue\n",
    "            else:\n",
    "                c += 1\n",
    "                print(i) \n",
    "    \n",
    "print(c)"
   ]
  },
  {
   "cell_type": "code",
   "execution_count": null,
   "metadata": {},
   "outputs": [],
   "source": [
    "d = '012345'\n",
    "c = 0\n",
    "\n",
    "for a, i in enumerate(itertools.product(d, repeat=3), 1):\n",
    "    if i[0] != '0':\n",
    "        print(sorted(i), i)\n",
    "        if tuple(sorted(i)) == i:\n",
    "            c += 1\n",
    "            print(i)\n",
    "        \n",
    "print(c)"
   ]
  },
  {
   "cell_type": "code",
   "execution_count": null,
   "metadata": {},
   "outputs": [],
   "source": [
    "d = sorted('ОЛЬГА')\n",
    "\n",
    "\n",
    "for a, i in enumerate(itertools.product(d, repeat=5), 1):\n",
    "    if \"\".join(i) == 'ОЛЬГА':\n",
    "        print(i, a)\n",
    "        break"
   ]
  },
  {
   "cell_type": "code",
   "execution_count": null,
   "metadata": {},
   "outputs": [],
   "source": [
    "d = '0123456789ABCDEF'\n",
    "a = '2468ACE'\n",
    "b = '13579BDF'\n",
    "\n",
    "count = 0\n",
    "\n",
    "for n in itertools.product(a+b, repeat=4):\n",
    "    if n[0] != '0':\n",
    "        if len(set(n)) == len(n):\n",
    "            n_chet = []\n",
    "            n_nechet = []\n",
    "            for i in n:\n",
    "                if i in a:\n",
    "                    n_chet.append(int(i, 16))\n",
    "                else:\n",
    "                    n_nechet.append(int(i, 16))\n",
    "            \n",
    "            if len(n_chet) == len(n_nechet) and sum(n_chet) == sum(n_nechet):\n",
    "                count += 1\n",
    "                print(n)\n",
    "                \n",
    "print(count)"
   ]
  },
  {
   "cell_type": "code",
   "execution_count": null,
   "metadata": {},
   "outputs": [],
   "source": [
    "d = sorted('КОМПЬЮТЕР')\n",
    "\n",
    "\n",
    "for a, i in enumerate(itertools.product(d, repeat=5), 1):\n",
    "    if i[0] != 'Ь':\n",
    "        if i.count('К') == 2:\n",
    "            if a % 2 != 0:     \n",
    "                print(a, i)"
   ]
  },
  {
   "cell_type": "code",
   "execution_count": null,
   "metadata": {},
   "outputs": [],
   "source": [
    "d = '0123456789AB'\n",
    "co = 0\n",
    "\n",
    "for i in itertools.product(d, repeat=8):\n",
    "    if i[0] != '0':\n",
    "        \n",
    "        c = 0\n",
    "        \n",
    "        for el in i:\n",
    "            if el in ('12357B'):\n",
    "                c += 1\n",
    "        \n",
    "        if c >= 2:\n",
    "            if int(i[0], 12) % 2 != int(i[-1], 12) % 2:\n",
    "                co += 1\n",
    "\n",
    "print(co)"
   ]
  },
  {
   "cell_type": "code",
   "execution_count": null,
   "metadata": {},
   "outputs": [],
   "source": [
    "d = sorted('АЛГОРИТМ')\n",
    "\n",
    "for a, i in enumerate(itertools.product(d, repeat=4), 1):\n",
    "    # print(a, i)\n",
    "    # break\n",
    "    if i[0] == 'И' and i[1] == 'Г':\n",
    "        print(a, i)\n",
    "        break"
   ]
  },
  {
   "cell_type": "code",
   "execution_count": null,
   "metadata": {},
   "outputs": [],
   "source": [
    "d = 'ABCDEXZ'\n",
    "\n",
    "c = 0\n",
    "\n",
    "for i in itertools.product(d, repeat=4):\n",
    "    if i[0] in 'XZ'and\\\n",
    "        i[1] in 'XZ'and\\\n",
    "            i[2] in 'ABCDE'and\\\n",
    "                i[3] in 'ABCDE':\n",
    "        c += 1 \n",
    "        \n",
    "print(c)"
   ]
  },
  {
   "cell_type": "code",
   "execution_count": null,
   "metadata": {},
   "outputs": [],
   "source": [
    "a = sorted('АКРУ')\n",
    "\n",
    "for s, i in enumerate(itertools.product(a, repeat=5), 1):\n",
    "    if i[0] == 'У':\n",
    "        print(s, i)\n",
    "        break"
   ]
  },
  {
   "cell_type": "code",
   "execution_count": null,
   "metadata": {},
   "outputs": [],
   "source": [
    "d = '0123'\n",
    "c = 0\n",
    "\n",
    "for i in itertools.product(d, repeat=3):\n",
    "    if i[0] != '0':\n",
    "        if int(i[0]) + int(i[-1]) > int(i[1]):\n",
    "            c += 1\n",
    "            print(i)\n",
    "            \n",
    "print(c)\n"
   ]
  },
  {
   "cell_type": "code",
   "execution_count": null,
   "metadata": {},
   "outputs": [],
   "source": [
    "d = '0123456789ABCDEF'\n",
    "a = '2468ACE'\n",
    "b = '13579BDF'\n",
    "\n",
    "count = 0\n",
    "\n",
    "for n in itertools.product(a+b, repeat=4):\n",
    "    if n[0] != '0':\n",
    "        if len(set(n)) == len(n):\n",
    "            n_chet = []\n",
    "            n_nechet = []\n",
    "            for i in n:\n",
    "                if i in a:\n",
    "                    n_chet.append(int(i, 16))\n",
    "                else:\n",
    "                    n_nechet.append(int(i, 16))\n",
    "            \n",
    "            if len(n_chet) == len(n_nechet) and sum(n_chet) == sum(n_nechet):\n",
    "                count += 1\n",
    "                print(n)\n",
    "                \n",
    "print(count)"
   ]
  },
  {
   "cell_type": "code",
   "execution_count": null,
   "metadata": {},
   "outputs": [],
   "source": [
    "d = '10101010'\n",
    "c = 0\n",
    "\n",
    "for i in itertools.product(d, repeat=6):\n",
    "    if i.count('1') < i.count('0'):\n",
    "        c += 1\n",
    "        \n",
    "print(c)"
   ]
  },
  {
   "cell_type": "code",
   "execution_count": null,
   "metadata": {},
   "outputs": [],
   "source": [
    "d = sorted('РЕПЛИКА')\n",
    "c = 0\n",
    "\n",
    "for num, i in enumerate(itertools.product(d, repeat=6), 1):\n",
    "    if num % 2 == 0:\n",
    "        i = \"\".join(i) \n",
    "        if i[0] != 'К' and i.count('И') >= 2:\n",
    "            c += 1\n",
    "            print(i, num)\n",
    "            \n",
    "            \n",
    "print(c)"
   ]
  },
  {
   "cell_type": "code",
   "execution_count": null,
   "metadata": {},
   "outputs": [],
   "source": [
    "d = '1010'\n",
    "c = 0\n",
    "for i in itertools.product(d, repeat=6):\n",
    "    i = \"\".join(i)\n",
    "    if '11' in i or '00' in i:\n",
    "        continue\n",
    "    print(i)\n",
    "    c += 1\n",
    "\n",
    "print(c, i)"
   ]
  },
  {
   "cell_type": "code",
   "execution_count": null,
   "metadata": {},
   "outputs": [],
   "source": [
    "import itertools\n",
    "\n",
    "d = \"КАТЕР\"\n",
    "c = 0\n",
    "\n",
    "for i in itertools.product(d, repeat=6):\n",
    "    if i[0] == 'Р' and i[-1] == 'К':\n",
    "        c += 1\n",
    "        \n",
    "print(c)"
   ]
  },
  {
   "cell_type": "code",
   "execution_count": null,
   "metadata": {},
   "outputs": [],
   "source": [
    "word = '101010'\n",
    "c = 0\n",
    "\n",
    "for i in itertools.product(word, repeat=8):\n",
    "    if i.count(\"1\") > i.count(\"0\"):\n",
    "        c+=1\n",
    "        \n",
    "print(c)"
   ]
  },
  {
   "cell_type": "code",
   "execution_count": null,
   "metadata": {},
   "outputs": [],
   "source": [
    "a = sorted('МАРИЯ')\n",
    "\n",
    "for a, i in enumerate(itertools.product(a, repeat=4), 1):\n",
    "    i = \"\".join(i)\n",
    "    if 'АРИЯ' in i:\n",
    "        print(i, a)\n",
    "        break\n"
   ]
  },
  {
   "cell_type": "code",
   "execution_count": null,
   "metadata": {},
   "outputs": [],
   "source": [
    "a = sorted('АЛГОРИТМ')\n",
    "\n",
    "for a, i in enumerate(itertools.product(a, repeat=4), 1):\n",
    "    i = \"\".join(i)\n",
    "    if i[-2:] == 'ИМ':\n",
    "        print(i, a)\n",
    "    "
   ]
  },
  {
   "cell_type": "code",
   "execution_count": null,
   "metadata": {},
   "outputs": [],
   "source": [
    "a = sorted('ЛЕМУР')\n",
    "c = 0\n",
    "\n",
    "for a, i in enumerate(itertools.product(a, repeat=4), 1):\n",
    "    if i[0] == 'Л':\n",
    "        print(i, a)\n",
    "        break"
   ]
  },
  {
   "cell_type": "code",
   "execution_count": null,
   "metadata": {},
   "outputs": [],
   "source": [
    "a = 'ВАЙФУ'\n",
    "c = 0\n",
    "for i in itertools.permutations(a, r=4):\n",
    "    i = \"\".join(i)\n",
    "    if i[0] != 'Й' and 'ВФ' not in i and 'ФВ' not in i:\n",
    "        c += 1\n",
    "        print(i)\n",
    "        \n",
    "print(c)"
   ]
  },
  {
   "cell_type": "code",
   "execution_count": null,
   "metadata": {},
   "outputs": [],
   "source": [
    "a = '01Й00001'\n",
    "c = 0\n",
    "\n",
    "for i in itertools.permutations(a, r=6):\n",
    "    i = \"\".join(i)\n",
    "    if i.count(\"Й\") == 1:\n",
    "        if 'Й0' in i:\n",
    "            c += 1\n",
    "            print(i)\n",
    "\n",
    "print(c)"
   ]
  },
  {
   "cell_type": "code",
   "execution_count": null,
   "metadata": {},
   "outputs": [],
   "source": [
    "a = '0123456789'\n",
    "c = 0\n",
    "s = []\n",
    "\n",
    "for i in itertools.product(a, repeat=3):\n",
    "    i = \"\".join(sorted(i))\n",
    "    if i[0] != '0':\n",
    "        s.append(i)\n",
    "\n",
    "print(s, len(set(s)))"
   ]
  },
  {
   "attachments": {
    "image.png": {
     "image/png": "[encoded data removed]"
    }
   },
   "cell_type": "markdown",
   "metadata": {},
   "source": [
    "![image.png](attachment:image.png)"
   ]
  },
  {
   "cell_type": "code",
   "execution_count": 7,
   "metadata": {},
   "outputs": [
    {
     "data": {
      "text/plain": [
       "4928"
      ]
     },
     "execution_count": 7,
     "metadata": {},
     "output_type": "execute_result"
    }
   ],
   "source": [
    "import itertools\n",
    "\n",
    "d = '0123456789ABCDEF'\n",
    "c = 0\n",
    "\n",
    "for i in itertools.permutations(d, r=3):\n",
    "    i = \"\".join(i)\n",
    "    if i[0] != '0':\n",
    "        if \"\".join(sorted(i, reverse=True)) == i:\n",
    "            c += 1\n",
    "            \n",
    "\n",
    "for i in itertools.permutations(d, r=5):\n",
    "    i = \"\".join(i)\n",
    "    if i[0] != '0':\n",
    "        if \"\".join(sorted(i, reverse=True)) == i:\n",
    "            c += 1\n",
    "c"
   ]
  }
 ],
 "metadata": {
  "kernelspec": {
   "display_name": "venv",
   "language": "python",
   "name": "python3"
  },
  "language_info": {
   "codemirror_mode": {
    "name": "ipython",
    "version": 3
   },
   "file_extension": ".py",
   "mimetype": "text/x-python",
   "name": "python",
   "nbconvert_exporter": "python",
   "pygments_lexer": "ipython3",
   "version": "3.11.4"
  }
 },
 "nbformat": 4,
 "nbformat_minor": 2
}
