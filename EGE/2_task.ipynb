{
 "cells": [
  {
   "cell_type": "code",
   "execution_count": 9,
   "metadata": {},
   "outputs": [
    {
     "name": "stdout",
     "output_type": "stream",
     "text": [
      "1 1 0 0\n",
      "1 0 1 0\n",
      "1 0 1 1\n"
     ]
    }
   ],
   "source": [
    "for x in range(0, 2):\n",
    "    for y in range(0, 2):\n",
    "        for z in range(0, 2):\n",
    "            for w in range(0, 2):\n",
    "                if (((x and (not y)) or (y==z)) or (not w)) == 0:\n",
    "                    print(w, z, y, x)"
   ]
  },
  {
   "cell_type": "code",
   "execution_count": 2,
   "metadata": {},
   "outputs": [
    {
     "name": "stdout",
     "output_type": "stream",
     "text": [
      "0 1 1 0\n",
      "0 1 0 1\n",
      "1 1 0 1\n"
     ]
    }
   ],
   "source": [
    "for x in range(0, 2):\n",
    "    for y in range(0, 2):\n",
    "        for z in range(0, 2):\n",
    "            for w in range(0, 2):\n",
    "                if ((x and (not y)) or (y == z) or (not(w))) == 0:\n",
    "                    print(x, w, z, y)"
   ]
  },
  {
   "cell_type": "code",
   "execution_count": 8,
   "metadata": {},
   "outputs": [
    {
     "name": "stdout",
     "output_type": "stream",
     "text": [
      "0 0 1 0\n",
      "1 1 1 0\n",
      "0 0 1 1\n",
      "1 0 1 1\n"
     ]
    }
   ],
   "source": [
    "for x in range(0, 2):\n",
    "    for y in range(0, 2):\n",
    "        for z in range(0, 2):\n",
    "            for w in range(0, 2):\n",
    "                if ((not(x) and y) == z) and w:\n",
    "                    print(y, z, w, x)\n"
   ]
  },
  {
   "cell_type": "code",
   "execution_count": 4,
   "metadata": {},
   "outputs": [
    {
     "name": "stdout",
     "output_type": "stream",
     "text": [
      "0 0 1 0\n",
      "0 0 1 1\n",
      "1 0 1 1\n",
      "1 1 0 1\n"
     ]
    }
   ],
   "source": [
    "for x in (0, 1):\n",
    "    for y in (0, 1):\n",
    "        for z in (0, 1):\n",
    "            for w in (0, 1):\n",
    "                if (((z <= y) and ((not x) <= w)) <= ((z==w) or (y and (not x)))) == 0:\n",
    "                    print(y, z, w, x)\n",
    "                    "
   ]
  },
  {
   "cell_type": "code",
   "execution_count": 8,
   "metadata": {},
   "outputs": [],
   "source": [
    "from itertools import product, permutations"
   ]
  },
  {
   "cell_type": "code",
   "execution_count": 9,
   "metadata": {},
   "outputs": [
    {
     "name": "stdout",
     "output_type": "stream",
     "text": [
      "yzwx\n",
      "yzwx\n",
      "yzwx\n"
     ]
    }
   ],
   "source": [
    "def f(x, y, z, w):\n",
    "    return (\n",
    "        ((z <= y) and ((not x) <= w)) <= \n",
    "        ((z == w) or (y and (not x)))\n",
    "    )\n",
    "\n",
    "for a in product([0, 1], repeat=5):\n",
    "    t = [(0, 0, a[0], 0), (0, a[1], a[2], a[3]), (1, a[4], 1, 1)]\n",
    "    if len(t) == len(set(t)):\n",
    "        for p in permutations('xywz'):\n",
    "            if [f(**dict(zip(p, r))) for r in t] == [0, 0, 0]:\n",
    "                for r in t:\n",
    "                    print(''.join(p))"
   ]
  },
  {
   "cell_type": "code",
   "execution_count": null,
   "metadata": {},
   "outputs": [],
   "source": []
  }
 ],
 "metadata": {
  "kernelspec": {
   "display_name": "venv",
   "language": "python",
   "name": "python3"
  },
  "language_info": {
   "codemirror_mode": {
    "name": "ipython",
    "version": 3
   },
   "file_extension": ".py",
   "mimetype": "text/x-python",
   "name": "python",
   "nbconvert_exporter": "python",
   "pygments_lexer": "ipython3",
   "version": "3.11.4"
  }
 },
 "nbformat": 4,
 "nbformat_minor": 2
}
