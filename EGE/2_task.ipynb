{
 "cells": [
  {
   "cell_type": "code",
   "execution_count": 9,
   "metadata": {},
   "outputs": [
    {
     "name": "stdout",
     "output_type": "stream",
     "text": [
      "1 1 0 0\n",
      "1 0 1 0\n",
      "1 0 1 1\n"
     ]
    }
   ],
   "source": [
    "for x in range(0, 2):\n",
    "    for y in range(0, 2):\n",
    "        for z in range(0, 2):\n",
    "            for w in range(0, 2):\n",
    "                if (((x and (not y)) or (y==z)) or (not w)) == 0:\n",
    "                    print(w, z, y, x)"
   ]
  },
  {
   "cell_type": "code",
   "execution_count": 2,
   "metadata": {},
   "outputs": [
    {
     "name": "stdout",
     "output_type": "stream",
     "text": [
      "0 1 1 0\n",
      "0 1 0 1\n",
      "1 1 0 1\n"
     ]
    }
   ],
   "source": [
    "for x in range(0, 2):\n",
    "    for y in range(0, 2):\n",
    "        for z in range(0, 2):\n",
    "            for w in range(0, 2):\n",
    "                if ((x and (not y)) or (y == z) or (not(w))) == 0:\n",
    "                    print(x, w, z, y)"
   ]
  },
  {
   "cell_type": "code",
   "execution_count": 8,
   "metadata": {},
   "outputs": [
    {
     "name": "stdout",
     "output_type": "stream",
     "text": [
      "0 0 1 0\n",
      "1 1 1 0\n",
      "0 0 1 1\n",
      "1 0 1 1\n"
     ]
    }
   ],
   "source": [
    "for x in range(0, 2):\n",
    "    for y in range(0, 2):\n",
    "        for z in range(0, 2):\n",
    "            for w in range(0, 2):\n",
    "                if ((not(x) and y) == z) and w:\n",
    "                    print(y, z, w, x)\n"
   ]
  },
  {
   "cell_type": "code",
   "execution_count": 4,
   "metadata": {},
   "outputs": [
    {
     "name": "stdout",
     "output_type": "stream",
     "text": [
      "0 0 1 0\n",
      "0 0 1 1\n",
      "1 0 1 1\n",
      "1 1 0 1\n"
     ]
    }
   ],
   "source": [
    "for x in (0, 1):\n",
    "    for y in (0, 1):\n",
    "        for z in (0, 1):\n",
    "            for w in (0, 1):\n",
    "                if (((z <= y) and ((not x) <= w)) <= ((z==w) or (y and (not x)))) == 0:\n",
    "                    print(y, z, w, x)\n",
    "                    "
   ]
  },
  {
   "cell_type": "code",
   "execution_count": 8,
   "metadata": {},
   "outputs": [],
   "source": [
    "from itertools import product, permutations"
   ]
  },
  {
   "cell_type": "code",
   "execution_count": 9,
   "metadata": {},
   "outputs": [
    {
     "name": "stdout",
     "output_type": "stream",
     "text": [
      "yzwx\n",
      "yzwx\n",
      "yzwx\n"
     ]
    }
   ],
   "source": [
    "def f(x, y, z, w):\n",
    "    return (\n",
    "        ((z <= y) and ((not x) <= w)) <= \n",
    "        ((z == w) or (y and (not x)))\n",
    "    )\n",
    "\n",
    "for a in product([0, 1], repeat=5):\n",
    "    t = [(0, 0, a[0], 0), (0, a[1], a[2], a[3]), (1, a[4], 1, 1)]\n",
    "    if len(t) == len(set(t)):\n",
    "        for p in permutations('xywz'):\n",
    "            if [f(**dict(zip(p, r))) for r in t] == [0, 0, 0]:\n",
    "                for r in t:\n",
    "                    print(''.join(p))"
   ]
  },
  {
   "cell_type": "code",
   "execution_count": 25,
   "metadata": {},
   "outputs": [
    {
     "name": "stdout",
     "output_type": "stream",
     "text": [
      "0 1 0 0\n",
      "0 1 0 1\n",
      "0 0 1 1\n",
      "1 1 0 1\n"
     ]
    }
   ],
   "source": [
    "def f1(x, w, z, y):\n",
    "    return (x==y) and (w<=z)\n",
    "\n",
    "def f2(x, w, z, y):\n",
    "    return (x<=y) <= (w==z)\n",
    "\n",
    "for x in (0, 1):\n",
    "    for y in (0, 1):\n",
    "        for z in (0, 1):\n",
    "            for w in (0, 1):\n",
    "                if f1(x, w, z, y) == 0 and f2(x, w, z, y) == 0:\n",
    "                    print(x, w, z, y)"
   ]
  },
  {
   "cell_type": "code",
   "execution_count": 27,
   "metadata": {},
   "outputs": [
    {
     "name": "stdout",
     "output_type": "stream",
     "text": [
      "0 1 1 0\n",
      "1 1 1 0\n",
      "1 1 0 1\n"
     ]
    }
   ],
   "source": [
    "for x in (0, 1):\n",
    "    for y in (0, 1):\n",
    "        for z in (0, 1):\n",
    "            for w in (0, 1):\n",
    "                if (x or (not y)) and (not(y==z)) and w:\n",
    "                    print(x, w, z, y)"
   ]
  },
  {
   "cell_type": "code",
   "execution_count": 29,
   "metadata": {},
   "outputs": [
    {
     "name": "stdout",
     "output_type": "stream",
     "text": [
      "0 0 0 1\n",
      "0 0 1 0\n",
      "0 1 0 0\n",
      "0 1 1 0\n",
      "1 0 0 1\n",
      "1 0 1 0\n",
      "1 1 0 1\n",
      "1 1 1 0\n"
     ]
    }
   ],
   "source": [
    "for a in (0, 1):\n",
    "    for b in (0, 1):\n",
    "        for c in (0, 1):\n",
    "            print(a, b, c, int((a and (not(c))) or (not(b) and not(c))))"
   ]
  },
  {
   "cell_type": "code",
   "execution_count": 33,
   "metadata": {},
   "outputs": [
    {
     "name": "stdout",
     "output_type": "stream",
     "text": [
      "0 0 0\n",
      "1 0 0\n",
      "1 0 1\n"
     ]
    }
   ],
   "source": [
    "for x in (0, 1):\n",
    "    for y in (0, 1):\n",
    "        for z in (0, 1):\n",
    "            if ((not x) and y and z) or ((not x) and (not y) and z) or ((not x) and (not y) and (not z)):\n",
    "                print(z, x, y)"
   ]
  },
  {
   "cell_type": "code",
   "execution_count": 54,
   "metadata": {},
   "outputs": [
    {
     "name": "stdout",
     "output_type": "stream",
     "text": [
      "0 0 1 1\n",
      "0 1 1 0\n",
      "1 0 0 0\n",
      "1 0 0 1\n"
     ]
    }
   ],
   "source": [
    "for x in (0, 1):\n",
    "    for y in (0, 1):\n",
    "        for z in (0, 1):\n",
    "            for w in (0, 1):\n",
    "                if ((x == (not z)) <= ((x or w) == y)) == 0:\n",
    "                    print(x, y, z, w)"
   ]
  },
  {
   "cell_type": "code",
   "execution_count": 56,
   "metadata": {},
   "outputs": [
    {
     "name": "stdout",
     "output_type": "stream",
     "text": [
      "0 0 0 1\n",
      "0 1 0 0\n",
      "0 0 1 1\n",
      "0 1 1 1\n"
     ]
    }
   ],
   "source": [
    "for x in (0, 1):\n",
    "    for y in (0, 1):\n",
    "        for z in (0, 1):\n",
    "            for w in (0, 1):\n",
    "                if not(\n",
    "                    (x and z) or ((w <= x) == (z <= y))\n",
    "                ):\n",
    "                    print(x, z, y, w)"
   ]
  },
  {
   "cell_type": "code",
   "execution_count": 65,
   "metadata": {},
   "outputs": [
    {
     "name": "stdout",
     "output_type": "stream",
     "text": [
      "0 0 0 1\n",
      "0 0 1 1\n",
      "0 1 0 0\n",
      "0 1 0 1\n"
     ]
    }
   ],
   "source": [
    "for x in (0, 1):\n",
    "    for y in (0, 1):\n",
    "        for z in (0, 1):\n",
    "            for w in (0, 1):\n",
    "                if not(\n",
    "                    ((z <= x) and (x <= w)) or (y == (z or x))\n",
    "                ):\n",
    "                    print(y,x,w,z)"
   ]
  },
  {
   "cell_type": "code",
   "execution_count": 68,
   "metadata": {},
   "outputs": [
    {
     "name": "stdout",
     "output_type": "stream",
     "text": [
      "0 0 1 0\n",
      "1 0 0 1\n",
      "0 0 1 1\n"
     ]
    }
   ],
   "source": [
    "for a in (0, 1):\n",
    "    for b in (0, 1):\n",
    "        for c in (0, 1):\n",
    "            for d in (0, 1):\n",
    "                if not(\n",
    "                    ((not a) and (not b)) or (b==c) or d\n",
    "                ):\n",
    "                    print(c, d, b, a)"
   ]
  },
  {
   "cell_type": "code",
   "execution_count": 73,
   "metadata": {},
   "outputs": [
    {
     "name": "stdout",
     "output_type": "stream",
     "text": [
      "1 0 0 0 False\n",
      "1 0 0 1 False\n",
      "1 1 0 1 False\n"
     ]
    }
   ],
   "source": [
    "for x in (0, 1):\n",
    "    for y in (0, 1):\n",
    "        for z in (0, 1):\n",
    "            for w in (0, 1):\n",
    "                if not(\n",
    "                    not(z and (not w)) or ((z <= w) == (x <= y))\n",
    "                ):\n",
    "                    print(z, x, w, y, not(z and (not w)) or ((z <= w) == (x <= y)))"
   ]
  },
  {
   "cell_type": "code",
   "execution_count": 80,
   "metadata": {},
   "outputs": [
    {
     "name": "stdout",
     "output_type": "stream",
     "text": [
      "1 0 0 0 True\n",
      "1 0 1 0 True\n",
      "1 0 1 1 True\n",
      "1 1 0 0 True\n",
      "1 1 1 0 True\n",
      "0 1 1 1 True\n"
     ]
    }
   ],
   "source": [
    "for a in (0, 1):\n",
    "    for b in (0, 1):\n",
    "        for c in (0, 1):\n",
    "            for d in (0, 1):\n",
    "                if (\n",
    "                    ((a and b)== (not c)) and (b <= d)\n",
    "                ):\n",
    "                    print(c, a, d, b, ((a and b) == (not c)) and (b <= d))"
   ]
  },
  {
   "cell_type": "code",
   "execution_count": 84,
   "metadata": {},
   "outputs": [
    {
     "name": "stdout",
     "output_type": "stream",
     "text": [
      "0 0 0 1 False\n",
      "1 0 0 1 False\n",
      "1 0 1 1 False\n"
     ]
    }
   ],
   "source": [
    "for x in (0, 1):\n",
    "    for y in (0, 1):\n",
    "        for z in (0, 1):\n",
    "            for w in (0, 1):\n",
    "                if not(\n",
    "                    (x <= y) or not(w <= z)\n",
    "                ):\n",
    "                    print(z, y, w, x, (x <= y) or not(w <= z))"
   ]
  },
  {
   "cell_type": "code",
   "execution_count": 90,
   "metadata": {},
   "outputs": [
    {
     "name": "stdout",
     "output_type": "stream",
     "text": [
      "0 0 1 0\n",
      "0 0 1 1\n",
      "1 0 1 1\n"
     ]
    }
   ],
   "source": [
    "for x in (0, 1):\n",
    "    for y in (0, 1):\n",
    "        for z in (0, 1):\n",
    "            for w in (0, 1):\n",
    "                if (\n",
    "                    ((w <= y) or not(y <= z)) and (not x) and not(x == z)\n",
    "                ):\n",
    "                    print(w, x, z, y)"
   ]
  },
  {
   "cell_type": "code",
   "execution_count": 101,
   "metadata": {},
   "outputs": [
    {
     "name": "stdout",
     "output_type": "stream",
     "text": [
      "0 0 0 0 True\n",
      "0 0 1 0 True\n",
      "0 1 1 0 True\n",
      "0 0 0 1 True\n"
     ]
    }
   ],
   "source": [
    "for x in (0, 1):\n",
    "    for y in (0, 1):\n",
    "        for z in (0, 1):\n",
    "            for w in (0, 1):\n",
    "                if ((not w) and ((y or z) <= ((not x) and y))) == 1:\n",
    "                    print(w, z, y, x, ((not w) and ((y or z) <= ((not x) and y))))"
   ]
  },
  {
   "cell_type": "code",
   "execution_count": 105,
   "metadata": {},
   "outputs": [
    {
     "name": "stdout",
     "output_type": "stream",
     "text": [
      "0 0 0 1\n",
      "1 0 0 1\n",
      "0 1 0 1\n",
      "1 1 0 1\n"
     ]
    }
   ],
   "source": [
    "for x in (0, 1):\n",
    "    for y in (0, 1):\n",
    "        for z in (0, 1):\n",
    "            for w in (0, 1):\n",
    "                if not(\n",
    "                    (y <= x) or not((x <= z) and (x <= x)) and not(w)\n",
    "                ):\n",
    "                    print(w, z, x, y)"
   ]
  },
  {
   "cell_type": "code",
   "execution_count": 117,
   "metadata": {},
   "outputs": [
    {
     "name": "stdout",
     "output_type": "stream",
     "text": [
      "0 0 0 False\n",
      "0 0 1 False\n",
      "1 0 0 True\n",
      "1 0 1 True\n",
      "0 1 0 True\n",
      "0 1 1 True\n",
      "1 1 0 True\n",
      "1 1 1 False\n"
     ]
    }
   ],
   "source": [
    "for x in (0, 1):\n",
    "    for y in (0, 1):\n",
    "        for z in (0, 1):\n",
    "                print(y, x, z, not(x == y <= z))\n",
    "                "
   ]
  },
  {
   "cell_type": "code",
   "execution_count": 126,
   "metadata": {},
   "outputs": [
    {
     "name": "stdout",
     "output_type": "stream",
     "text": [
      "1 0 0 0\n",
      "1 1 0 0\n",
      "0 0 1 0\n",
      "0 1 1 0\n",
      "1 0 0 1\n",
      "1 1 0 1\n"
     ]
    }
   ],
   "source": [
    "for x in (0, 1):\n",
    "    for y in (0, 1):\n",
    "        for z in (0, 1):\n",
    "            for w in (0, 1):\n",
    "                if not(\n",
    "                    (y <= x or z) and (z <= y)\n",
    "                ):\n",
    "                    print(z, w, y, x)"
   ]
  },
  {
   "cell_type": "code",
   "execution_count": 129,
   "metadata": {},
   "outputs": [
    {
     "name": "stdout",
     "output_type": "stream",
     "text": [
      "0 1 0 0\n",
      "1 1 0 0\n",
      "1 1 1 0\n"
     ]
    }
   ],
   "source": [
    "for x in (0, 1):\n",
    "    for y in (0, 1):\n",
    "        for z in (0, 1):\n",
    "            for w in (0, 1):\n",
    "                if (\n",
    "                    (not y) and x and ((not z) or w)\n",
    "                ):\n",
    "                    print(w, x, z, y)"
   ]
  },
  {
   "cell_type": "code",
   "execution_count": 133,
   "metadata": {},
   "outputs": [
    {
     "name": "stdout",
     "output_type": "stream",
     "text": [
      "0 0 0\n",
      "1 0 0\n",
      "1 1 0\n"
     ]
    }
   ],
   "source": [
    "for x in (0, 1):\n",
    "    for y in (0, 1):\n",
    "        for z in (0, 1):\n",
    "            if (\n",
    "                ((not x) and y and z) or ((not x) and (not z))\n",
    "            ):\n",
    "                print(y, z, x)"
   ]
  },
  {
   "cell_type": "code",
   "execution_count": 145,
   "metadata": {},
   "outputs": [
    {
     "name": "stdout",
     "output_type": "stream",
     "text": [
      "0 0 1 0\n",
      "1 0 1 0\n",
      "1 0 0 1\n"
     ]
    }
   ],
   "source": [
    "for x in (0, 1):\n",
    "    for y in (0, 1):\n",
    "        for z in (0, 1):\n",
    "            for w in (0, 1):\n",
    "                if not(\n",
    "                    (x and (not y)) or (x == z) or w\n",
    "                ):\n",
    "                    print(y,w,z,x)"
   ]
  },
  {
   "cell_type": "code",
   "execution_count": 155,
   "metadata": {},
   "outputs": [
    {
     "name": "stdout",
     "output_type": "stream",
     "text": [
      "0 0 0 1\n",
      "1 0 0 1\n",
      "0 0 1 0\n",
      "0 0 1 1\n",
      "1 0 1 1\n"
     ]
    }
   ],
   "source": [
    "for x in (0, 1):\n",
    "    for y in (0, 1):\n",
    "        for z in (0, 1):\n",
    "            for w in (0, 1):\n",
    "                if not(\n",
    "                    (x <= y and (not z)) or w\n",
    "                ):\n",
    "                    print(y, w, x, z)"
   ]
  },
  {
   "cell_type": "code",
   "execution_count": 12,
   "metadata": {},
   "outputs": [
    {
     "name": "stdout",
     "output_type": "stream",
     "text": [
      "0 1 0 0 | 0 0\n",
      "0 0 0 1 | 1 0\n",
      "0 1 1 0 | 0 0\n",
      "0 0 1 1 | 0 0\n",
      "1 1 1 0 | 0 0\n",
      "1 0 1 1 | 1 0\n"
     ]
    }
   ],
   "source": [
    "for x in (0, 1):\n",
    "    for y in (0, 1):\n",
    "        for z in (0, 1):\n",
    "            for w in (0, 1):\n",
    "                f1 = ((x == y) and (w <= z))\n",
    "                f2 = ((x <= y) <= (w == z))\n",
    "                if f1 == 1 and f2 == 0:\n",
    "                    print(x, w, y, z, '|', 1, 0)\n",
    "                if f1 == 0 and f2 == 0:\n",
    "                    print(x, w, y, z, '|', 0, 0)\n"
   ]
  },
  {
   "cell_type": "code",
   "execution_count": 10,
   "metadata": {},
   "outputs": [
    {
     "name": "stdout",
     "output_type": "stream",
     "text": [
      "1 0 0 0\n",
      "1 1 0 0\n",
      "1 1 1 0\n"
     ]
    }
   ],
   "source": [
    "for x in (0, 1):\n",
    "    for y in (0, 1):\n",
    "        for z in (0, 1):\n",
    "            for w in (0, 1):\n",
    "                if not(\n",
    "                    (x<=y) == (w or (not z))\n",
    "                ) and (\n",
    "                    (x<=y) and ((not w) == z)\n",
    "                ) == 0:\n",
    "                    print(x, w, z, y)\n"
   ]
  },
  {
   "cell_type": "code",
   "execution_count": 5,
   "metadata": {},
   "outputs": [
    {
     "name": "stdout",
     "output_type": "stream",
     "text": [
      "xzyw\n",
      "xzyw\n"
     ]
    }
   ],
   "source": [
    "import itertools\n",
    "\n",
    "def f1(x, y, z, w):\n",
    "    return (x<=y) == (w or (not z))\n",
    "\n",
    "def f2(x, y, z, w):\n",
    "    return (x <= y) and ((not w) == z)\n",
    "\n",
    "\n",
    "\n",
    "for i in itertools.product([0, 1], repeat=5):\n",
    "    t = [(i[0], 1, 0, 1),\n",
    "         (i[1], 0, 0, 0),\n",
    "         (0, i[2], 0, 0)]\n",
    "    if len(t) == len(set(t)):\n",
    "        for p in itertools.permutations('xyzw'):\n",
    "            if [f1(**dict(zip(p, r))) for r in t] == [i[3], 0, 0] and \\\n",
    "                [f2(**dict(zip(p, r))) for r in t] == [0, i[4], 1]:\n",
    "                    print(\"\".join(p))\n",
    "\n",
    "                    "
   ]
  },
  {
   "cell_type": "code",
   "execution_count": 4,
   "metadata": {},
   "outputs": [
    {
     "name": "stdout",
     "output_type": "stream",
     "text": [
      "0 0 0 0\n",
      "0 0 0 1\n",
      "1 1 0 1\n",
      "0 1 1 0\n",
      "0 1 1 1\n",
      "1 1 1 1\n"
     ]
    }
   ],
   "source": [
    "for x in (0, 1):\n",
    "    for y in (0, 1):\n",
    "        for z in (0, 1):\n",
    "            for w in (0, 1):\n",
    "                if ((z <= w) or (y == w)) and ((x or z) == y):\n",
    "                    print(z, y, x, w)"
   ]
  },
  {
   "cell_type": "code",
   "execution_count": 9,
   "metadata": {},
   "outputs": [
    {
     "name": "stdout",
     "output_type": "stream",
     "text": [
      "0 0 1 0 0\n",
      "0 0 1 1 0\n",
      "0 1 0 1 0\n"
     ]
    }
   ],
   "source": [
    "for x in (0, 1):\n",
    "    for y in (0, 1):\n",
    "        for z in (0, 1):\n",
    "            for w in (0, 1):\n",
    "                if (\n",
    "                    not(y <= x) or (y == w) or z\n",
    "                ) == 0:\n",
    "                    print(z, y, w, x, (not(y <= x) or (y == w) or z))"
   ]
  },
  {
   "cell_type": "code",
   "execution_count": 4,
   "metadata": {},
   "outputs": [
    {
     "name": "stdout",
     "output_type": "stream",
     "text": [
      "1 0 0 0\n",
      "0 0 0 1\n",
      "1 0 0 1\n",
      "0 0 1 1\n"
     ]
    }
   ],
   "source": [
    "for x in (0, 1):\n",
    "    for y in (0, 1):\n",
    "        for z in (0, 1):\n",
    "            for w in (0, 1):\n",
    "                if not(\n",
    "                    (x == (w or y)) or ((w <= z) and (y <= w))\n",
    "                ):\n",
    "                    print(w, x, z, y)"
   ]
  },
  {
   "cell_type": "code",
   "execution_count": 2,
   "metadata": {},
   "outputs": [
    {
     "name": "stdout",
     "output_type": "stream",
     "text": [
      "0 0 0 1\n",
      "0 1 0 0\n",
      "1 0 0 1\n"
     ]
    }
   ],
   "source": [
    "for x in (0, 1):\n",
    "    for y in (0, 1):\n",
    "        for z in (0, 1):\n",
    "            for w in (0, 1):\n",
    "                if not(\n",
    "                    y and (x or z) or (not(y or z)) or w\n",
    "                ):\n",
    "                    print(x, y, w, z)"
   ]
  },
  {
   "cell_type": "code",
   "execution_count": 3,
   "metadata": {},
   "outputs": [
    {
     "name": "stdout",
     "output_type": "stream",
     "text": [
      "1 1 0 0\n",
      "1 0 1 0\n",
      "1 0 1 1\n"
     ]
    }
   ],
   "source": [
    "for x in (0, 1):\n",
    "    for y in (0, 1):\n",
    "        for z in (0, 1):\n",
    "            for w in (0, 1):\n",
    "                if not(\n",
    "                    (x and not(y)) or (y == z) or (not(w))\n",
    "                ):\n",
    "                    print(w, z, y, x)"
   ]
  },
  {
   "cell_type": "code",
   "execution_count": null,
   "metadata": {},
   "outputs": [],
   "source": []
  }
 ],
 "metadata": {
  "kernelspec": {
   "display_name": "venv",
   "language": "python",
   "name": "python3"
  },
  "language_info": {
   "codemirror_mode": {
    "name": "ipython",
    "version": 3
   },
   "file_extension": ".py",
   "mimetype": "text/x-python",
   "name": "python",
   "nbconvert_exporter": "python",
   "pygments_lexer": "ipython3",
   "version": "3.11.4"
  }
 },
 "nbformat": 4,
 "nbformat_minor": 2
}
