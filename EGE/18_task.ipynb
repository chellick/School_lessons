{
 "cells": [
  {
   "cell_type": "code",
   "execution_count": 22,
   "metadata": {},
   "outputs": [
    {
     "data": {
      "text/plain": [
       "[[51, 21, 93, 48, 45, 100, 67, 39, 18, 29],\n",
       " [57, 43, 97, 51, 92, 10, 93, 32, 19, 58],\n",
       " [63, 16, 31, 16, 78, 88, 90, 72, 37, 67],\n",
       " [10, 57, 64, 25, 96, 50, 81, 65, 91, 69],\n",
       " [99, 43, 95, 7, 40, 76, 18, 34, 5, 65],\n",
       " [35, 19, 71, 77, 64, 38, 62, 56, 10, 2],\n",
       " [100, 57, 27, 26, 51, 33, 100, 11, 53, 1],\n",
       " [11, 79, 49, 46, 37, 69, 80, 31, 25, 39],\n",
       " [22, 71, 20, 23, 11, 12, 39, 16, 64, 34],\n",
       " [4, 25, 87, 84, 30, 48, 77, 13, 40, 33]]"
      ]
     },
     "execution_count": 22,
     "metadata": {},
     "output_type": "execute_result"
    }
   ],
   "source": [
    "lines = \"\"\"1  8  8  4\n",
    "10  1  1  3\n",
    "1  3  12  2\n",
    "2  3  5  6\"\"\"\n",
    "\n",
    "lines = \"\"\"51  21  93  48  45  100  67  39  18  29\n",
    "57  43  97  51  92  10  93  32  19  58\n",
    "63  16  31  16  78  88  90  72  37  67\n",
    "10  57  64  25  96  50  81  65  91  69\n",
    "99  43  95  7  40  76  18  34  5  65\n",
    "35  19  71  77  64  38  62  56  10  2\n",
    "100  57  27  26  51  33  100  11  53  1\n",
    "11  79  49  46  37  69  80  31  25  39\n",
    "22  71  20  23  11  12  39  16  64  34\n",
    "4  25  87  84  30  48  77  13  40  33\"\"\"\n",
    "\n",
    "matrix = [[int(y) for y in x.split()] for x in lines.splitlines()]\n",
    "matrix"
   ]
  },
  {
   "cell_type": "code",
   "execution_count": 24,
   "metadata": {},
   "outputs": [
    {
     "name": "stdout",
     "output_type": "stream",
     "text": [
      "0.22040963172912598\n"
     ]
    },
    {
     "data": {
      "text/plain": [
       "(1204, 502)"
      ]
     },
     "execution_count": 24,
     "metadata": {},
     "output_type": "execute_result"
    }
   ],
   "source": [
    "import itertools\n",
    "import time\n",
    "\n",
    "\n",
    "start = time.time()\n",
    "\n",
    "max_s, min_s = None, None\n",
    "\n",
    "for path in itertools.product([0, 1], repeat=len(matrix)+len(matrix[0])-2):\n",
    "    if path.count(0) == len(matrix)-1 and path.count(1) == len(matrix[0])-1:\n",
    "        x, y = 0, 0\n",
    "        s = matrix[0][0]\n",
    "        for item in path:\n",
    "            if item == 0:\n",
    "                x += 1\n",
    "            else:\n",
    "                y += 1\n",
    "            s+=matrix[x][y]\n",
    "        if max_s is None or s > max_s:\n",
    "            max_s = s\n",
    "        if min_s is None or s < min_s:\n",
    "            min_s = s\n",
    "\n",
    "    else:\n",
    "        continue\n",
    "\n",
    "print(time.time() - start)\n",
    "\n",
    "max_s, min_s"
   ]
  },
  {
   "cell_type": "code",
   "execution_count": 52,
   "metadata": {},
   "outputs": [
    {
     "data": {
      "text/plain": [
       "[[51, 21, 93, 48, 45, 100, 67, 39, 18, 29],\n",
       " [57, 43, 97, 51, 92, 10, 93, 32, 19, 58],\n",
       " [63, 16, 31, 16, 78, 88, 90, 72, 37, 67],\n",
       " [10, 57, 64, 25, 96, 50, 81, 65, 91, 69],\n",
       " [99, 43, 95, 7, 40, 76, 18, 34, 5, 65],\n",
       " [35, 19, 71, 77, 64, 38, 62, 56, 10, 2],\n",
       " [100, 57, 27, 26, 51, 33, 100, 11, 53, 1],\n",
       " [11, 79, 49, 46, 37, 69, 80, 31, 25, 39],\n",
       " [22, 71, 20, 23, 11, 12, 39, 16, 64, 34],\n",
       " [4, 25, 87, 84, 30, 48, 77, 13, 40, 33]]"
      ]
     },
     "execution_count": 52,
     "metadata": {},
     "output_type": "execute_result"
    }
   ],
   "source": [
    "lines = \"\"\"51\t21\t93\t48\t45\t100\t67\t39\t18\t29\n",
    "57\t43\t97\t51\t92\t10\t93\t32\t19\t58\n",
    "63\t16\t31\t16\t78\t88\t90\t72\t37\t67\n",
    "10\t57\t64\t25\t96\t50\t81\t65\t91\t69\n",
    "99\t43\t95\t7\t40\t76\t18\t34\t5\t65\n",
    "35\t19\t71\t77\t64\t38\t62\t56\t10\t2\n",
    "100\t57\t27\t26\t51\t33\t100\t11\t53\t1\n",
    "11\t79\t49\t46\t37\t69\t80\t31\t25\t39\n",
    "22\t71\t20\t23\t11\t12\t39\t16\t64\t34\n",
    "4\t25\t87\t84\t30\t48\t77\t13\t40\t33\n",
    "\"\"\"\n",
    "\n",
    "matrix = [[int(y) for y in x.split()] for x in lines.splitlines()]\n",
    "matrix"
   ]
  },
  {
   "cell_type": "code",
   "execution_count": 63,
   "metadata": {},
   "outputs": [
    {
     "data": {
      "text/plain": [
       "(1133, 522)"
      ]
     },
     "execution_count": 63,
     "metadata": {},
     "output_type": "execute_result"
    }
   ],
   "source": [
    "max_s, min_s = None, None\n",
    "\n",
    "for path in itertools.product([0, 1], repeat=len(matrix)+len(matrix[0])-2):\n",
    "    if path.count(0) == len(matrix)-1 and path.count(1) == len(matrix[0])-1:\n",
    "        x, y = len(matrix)-1, 0\n",
    "        s = matrix[x][y]\n",
    "        for item in path:\n",
    "            if item == 0:\n",
    "                x -= 1\n",
    "            else:\n",
    "                y += 1\n",
    "            s += matrix[x][y]\n",
    "        if max_s is None or s > max_s:\n",
    "            max_s = s\n",
    "        if min_s is None or s < min_s:\n",
    "            min_s = s\n",
    "\n",
    "    else:\n",
    "        continue\n",
    "    \n",
    "\n",
    "\n",
    "max_s, min_s"
   ]
  },
  {
   "cell_type": "code",
   "execution_count": null,
   "metadata": {},
   "outputs": [],
   "source": [
    "lines = \"\"\"23\t96\t3\t62\t59\t10\t73\t30\t10\t81\n",
    "44\t3\t99\t88\t53\t90\t42\t39\t36\t98\n",
    "39\t32\t5\t8\t34\t9\t39\t95\t36\t41\n",
    "33\t79\t22\t99\t29\t61\t65\t48\t70\t77\n",
    "73\t49\t40\t39\t16\t49\t68\t37\t60\t10\n",
    "98\t65\t67\t11\t14\t39\t74\t29\t70\t81\n",
    "29\t90\t63\t44\t5\t4\t5\t28\t22\t94\n",
    "88\t100\t15\t75\t42\t68\t50\t8\t98\t55\n",
    "38\t21\t77\t25\t91\t92\t64\t72\t16\t67\n",
    "65\t93\t45\t52\t51\t19\t96\t45\t7\t39\n",
    "\"\"\"\n",
    "\n",
    "matrix = [[int(y) for y in x.split()] for x in lines.splitlines()]\n",
    "matrix"
   ]
  },
  {
   "cell_type": "code",
   "execution_count": 67,
   "metadata": {},
   "outputs": [
    {
     "data": {
      "text/plain": [
       "(671, 1276)"
      ]
     },
     "execution_count": 67,
     "metadata": {},
     "output_type": "execute_result"
    }
   ],
   "source": [
    "import itertools\n",
    "\n",
    "mins, maxs = 2**32, 0\n",
    "\n",
    "for path in itertools.product([0, 1], repeat=(len(matrix)) + len(matrix[0])-2):\n",
    "    if path.count(0) == len(matrix) - 1 and path.count(1) == len(matrix) - 1:\n",
    "        x, y = -1, 0\n",
    "        s = matrix[x][y]\n",
    "        for c in path:\n",
    "            if c == 0:\n",
    "                x -= 1\n",
    "            else:\n",
    "                y += 1\n",
    "            \n",
    "            s += matrix[x][y]\n",
    "        if mins > s:\n",
    "            mins = s\n",
    "        if maxs < s:\n",
    "            maxs = s\n",
    "                \n",
    "    else:\n",
    "        continue\n",
    "    \n",
    "mins, maxs"
   ]
  }
 ],
 "metadata": {
  "kernelspec": {
   "display_name": "venv",
   "language": "python",
   "name": "python3"
  },
  "language_info": {
   "codemirror_mode": {
    "name": "ipython",
    "version": 3
   },
   "file_extension": ".py",
   "mimetype": "text/x-python",
   "name": "python",
   "nbconvert_exporter": "python",
   "pygments_lexer": "ipython3",
   "version": "3.11.4"
  }
 },
 "nbformat": 4,
 "nbformat_minor": 2
}
