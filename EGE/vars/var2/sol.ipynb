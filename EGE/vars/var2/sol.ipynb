{
 "cells": [
  {
   "cell_type": "code",
   "execution_count": 16,
   "metadata": {},
   "outputs": [
    {
     "name": "stdout",
     "output_type": "stream",
     "text": [
      "Затонью\n",
      "потонул\n",
      "застонала\n",
      "антоновки\n",
      "застонал\n",
      "гекатонхейры\n",
      "Гекатонхейры\n",
      "бетонированной\n",
      "Ньютоны\n",
      "монотонные\n",
      "полтонны\n",
      "фотонов…\n",
      "крестоносцев…\n",
      "бетонной\n",
      "застонал\n",
      "Антония\n",
      "гекатон-хейров\n",
      "хитоны\n",
      "монотонно\n",
      "монотонно\n",
      "фотонолёты\n",
      "застонал\n",
      "Фотончик\n",
      "Фотончиком\n",
      "Пинкертоны\n",
      "Фотончик\n",
      "Фотончик\n",
      "Фотона\n",
      "Фотона\n",
      "Фотона\n",
      "Фотона\n",
      "31\n"
     ]
    }
   ],
   "source": [
    "from fnmatch import fnmatch\n",
    "\n",
    "\n",
    "f = open(\"test.txt\", encoding='UTF').read()\n",
    "\n",
    "\n",
    "for i in \"!@#$%^&*()><,.?»\":\n",
    "    f = f.replace(i, '')\n",
    "\n",
    "counter = 0\n",
    "for word in f.split():\n",
    "    if fnmatch(word, \"*?тон?*\"):\n",
    "        counter += 1\n",
    "        print(word)\n",
    "\n",
    "print(counter)"
   ]
  }
 ],
 "metadata": {
  "kernelspec": {
   "display_name": "venv",
   "language": "python",
   "name": "python3"
  },
  "language_info": {
   "codemirror_mode": {
    "name": "ipython",
    "version": 3
   },
   "file_extension": ".py",
   "mimetype": "text/x-python",
   "name": "python",
   "nbconvert_exporter": "python",
   "pygments_lexer": "ipython3",
   "version": "3.11.4"
  }
 },
 "nbformat": 4,
 "nbformat_minor": 2
}
