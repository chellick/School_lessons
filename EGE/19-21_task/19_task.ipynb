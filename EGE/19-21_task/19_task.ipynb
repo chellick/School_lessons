{
 "cells": [
  {
   "cell_type": "code",
   "execution_count": null,
   "metadata": {},
   "outputs": [],
   "source": [
    "def f(start, stop, steps):\n",
    "    if start >= stop and steps==1: return True\n",
    "    if start < stop and steps==1: return False\n",
    "    return f(start+1, stop, steps+1)\\\n",
    "        and f(start+2, stop, steps+1)\\\n",
    "            and f(start+3, stop, steps+1)\\\n",
    "                and f(start*2, stop, steps+1)\n",
    "\n",
    "for i in range(1, 33):\n",
    "    print(f(i, 33, 0), i)\n",
    "\n",
    "#  ответ на 1 меньше (ну или на число сложения)"
   ]
  },
  {
   "cell_type": "code",
   "execution_count": null,
   "metadata": {},
   "outputs": [],
   "source": [
    "def f(start, stop, steps):\n",
    "    if start >= stop and steps == 1: return True\n",
    "    if start < stop and steps == 1: return False\n",
    "    return f(start+1, stop, steps+1)\\\n",
    "        and f(start*2, stop, steps+1)\\\n",
    "            and f(start*3, stop, steps+1)\n",
    "\n",
    "for i in range(1, 36):\n",
    "    print(f(i, 36, 0), i)"
   ]
  },
  {
   "cell_type": "code",
   "execution_count": null,
   "metadata": {},
   "outputs": [],
   "source": [
    "def game(heap, stop: int, counter: int):\n",
    "    if sum(heap) >= stop and counter == 1: return True\n",
    "    if sum(heap) < stop and counter == 1: return False\n",
    "    return game([heap[0], heap[1]+1], stop, counter+1) or game([heap[0], heap[1]*2], stop, counter+1) or game([heap[0]+1, heap[1]], stop, counter+1) or game([heap[0], heap[1]], stop, counter+1)\n",
    "        \n",
    "for s in range(1, 53):\n",
    "    print(game([5, s], 59, 0), s)\n",
    "    \n",
    "    \n",
    "# WORKING SHIT :)"
   ]
  },
  {
   "cell_type": "code",
   "execution_count": null,
   "metadata": {},
   "outputs": [],
   "source": [
    "def game(heap, stop, counter):\n",
    "    if sum(heap) >= stop and counter == 2: return True\n",
    "    if sum(heap) < stop and counter == 2: return False\n",
    "    return game([heap[0]+1 , heap[1]], stop, counter+1) or\\\n",
    "        game([heap[0]*2, heap[1]], stop, counter+1) or\\\n",
    "            game([heap[0], heap[1]+1], stop, counter+1) or\\\n",
    "                game([heap[0], heap[1]*2], stop, counter+1)\n",
    "                \n",
    "for s in range(1, 70):\n",
    "    print(game([7, s], 77, 0), s)\n",
    "    "
   ]
  },
  {
   "cell_type": "code",
   "execution_count": null,
   "metadata": {},
   "outputs": [],
   "source": [
    "def game(heap, stop, counter):\n",
    "    if sum(heap) >= stop and counter == 2: return True\n",
    "    if sum(heap) < stop and counter == 2: return False\n",
    "    return game([heap[0]+1, heap[1]], stop, counter+1) or \\\n",
    "        game([heap[0]+heap[1], heap[1]], stop, counter+1) or \\\n",
    "            game([heap[0], heap[1]+1], stop, counter+1) or \\\n",
    "                game([heap[0], heap[1]+heap[0]], stop, counter+1)\n",
    "            \n",
    "    \n",
    "for s in range(1, 59):\n",
    "    print(game([8, s], 68, 0), s)"
   ]
  },
  {
   "cell_type": "code",
   "execution_count": 20,
   "metadata": {},
   "outputs": [
    {
     "name": "stdout",
     "output_type": "stream",
     "text": [
      "721\n"
     ]
    }
   ],
   "source": [
    "def f(start, stop, counter):\n",
    "    if counter == 1 and start >= stop: return True\n",
    "    if counter == 1 and start < stop: return False\n",
    "    return f(start+1, stop, counter+1) or f(start*3, stop, counter+1)\n",
    "\n",
    "for s in range(1, 2162+1):\n",
    "    if f(s, 2163, 0):\n",
    "        print(s)\n",
    "        break"
   ]
  },
  {
   "cell_type": "code",
   "execution_count": null,
   "metadata": {},
   "outputs": [],
   "source": []
  }
 ],
 "metadata": {
  "kernelspec": {
   "display_name": "venv",
   "language": "python",
   "name": "python3"
  },
  "language_info": {
   "codemirror_mode": {
    "name": "ipython",
    "version": 3
   },
   "file_extension": ".py",
   "mimetype": "text/x-python",
   "name": "python",
   "nbconvert_exporter": "python",
   "pygments_lexer": "ipython3",
   "version": "3.11.4"
  }
 },
 "nbformat": 4,
 "nbformat_minor": 2
}
