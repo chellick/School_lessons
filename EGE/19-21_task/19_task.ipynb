{
 "cells": [
  {
   "cell_type": "code",
   "execution_count": null,
   "metadata": {},
   "outputs": [],
   "source": [
    "def f(start, stop, steps):\n",
    "    if start >= stop and steps==1: return True\n",
    "    if start < stop and steps==1: return False\n",
    "    return f(start+1, stop, steps+1)\\\n",
    "        and f(start+2, stop, steps+1)\\\n",
    "            and f(start+3, stop, steps+1)\\\n",
    "                and f(start*2, stop, steps+1)\n",
    "\n",
    "for i in range(1, 33):\n",
    "    print(f(i, 33, 0), i)\n",
    "\n",
    "#  ответ на 1 меньше (ну или на число сложения)"
   ]
  },
  {
   "cell_type": "code",
   "execution_count": null,
   "metadata": {},
   "outputs": [],
   "source": [
    "def f(start, stop, steps):\n",
    "    if start >= stop and steps == 1: return True\n",
    "    if start < stop and steps == 1: return False\n",
    "    return f(start+1, stop, steps+1)\\\n",
    "        and f(start*2, stop, steps+1)\\\n",
    "            and f(start*3, stop, steps+1)\n",
    "\n",
    "for i in range(1, 36):\n",
    "    print(f(i, 36, 0), i)"
   ]
  },
  {
   "cell_type": "code",
   "execution_count": null,
   "metadata": {},
   "outputs": [],
   "source": [
    "def game(heap, stop: int, counter: int):\n",
    "    if sum(heap) >= stop and counter == 1: return True\n",
    "    if sum(heap) < stop and counter == 1: return False\n",
    "    return game([heap[0], heap[1]+1], stop, counter+1) or game([heap[0], heap[1]*2], stop, counter+1) or game([heap[0]+1, heap[1]], stop, counter+1) or game([heap[0], heap[1]], stop, counter+1)\n",
    "        \n",
    "for s in range(1, 53):\n",
    "    print(game([5, s], 59, 0), s)\n",
    "    \n",
    "    \n",
    "# WORKING SHIT :)"
   ]
  },
  {
   "cell_type": "code",
   "execution_count": null,
   "metadata": {},
   "outputs": [],
   "source": [
    "def game(heap, stop, counter):\n",
    "    if sum(heap) >= stop and counter == 2: return True\n",
    "    if sum(heap) < stop and counter == 2: return False\n",
    "    return game([heap[0]+1 , heap[1]], stop, counter+1) or\\\n",
    "        game([heap[0]*2, heap[1]], stop, counter+1) or\\\n",
    "            game([heap[0], heap[1]+1], stop, counter+1) or\\\n",
    "                game([heap[0], heap[1]*2], stop, counter+1)\n",
    "                \n",
    "for s in range(1, 70):\n",
    "    print(game([7, s], 77, 0), s)\n",
    "    "
   ]
  },
  {
   "cell_type": "code",
   "execution_count": null,
   "metadata": {},
   "outputs": [],
   "source": [
    "def game(heap, stop, counter):\n",
    "    if sum(heap) >= stop and counter == 2: return True\n",
    "    if sum(heap) < stop and counter == 2: return False\n",
    "    return game([heap[0]+1, heap[1]], stop, counter+1) or \\\n",
    "        game([heap[0]+heap[1], heap[1]], stop, counter+1) or \\\n",
    "            game([heap[0], heap[1]+1], stop, counter+1) or \\\n",
    "                game([heap[0], heap[1]+heap[0]], stop, counter+1)\n",
    "            \n",
    "    \n",
    "for s in range(1, 59):\n",
    "    print(game([8, s], 68, 0), s)"
   ]
  },
  {
   "cell_type": "code",
   "execution_count": 20,
   "metadata": {},
   "outputs": [
    {
     "name": "stdout",
     "output_type": "stream",
     "text": [
      "721\n"
     ]
    }
   ],
   "source": [
    "def f(start, stop, counter):\n",
    "    if counter == 1 and start >= stop: return True\n",
    "    if counter == 1 and start < stop: return False\n",
    "    return f(start+1, stop, counter+1) or f(start*3, stop, counter+1)\n",
    "\n",
    "for s in range(1, 2162+1):\n",
    "    if f(s, 2163, 0):\n",
    "        print(s)\n",
    "        break"
   ]
  },
  {
   "cell_type": "code",
   "execution_count": 10,
   "metadata": {},
   "outputs": [
    {
     "name": "stdout",
     "output_type": "stream",
     "text": [
      "15\n",
      "20\n",
      "30\n"
     ]
    }
   ],
   "source": [
    "def f(heap, stop, counter):\n",
    "    if counter == 2 and heap[0] * heap[1] >= stop: return True\n",
    "    elif counter == 2 and heap[0] * heap[1] < stop: return False\n",
    "    elif heap[0] * heap[1] >= stop: return False\n",
    "    elif counter % 2 == 0:        \n",
    "        return f([heap[0] + 1, heap[1]], stop, counter+1)\\\n",
    "            or f([heap[0]*2, heap[1]], stop, counter + 1)\\\n",
    "                or f([heap[0], heap[1]+1], stop, counter+1)\\\n",
    "                    or f([heap[0], heap[1]*2], stop, counter+1)\n",
    "    else:\n",
    "        return f([heap[0] + 1, heap[1]], stop, counter+1)\\\n",
    "            and f([heap[0]*2, heap[1]], stop, counter + 1)\\\n",
    "                and f([heap[0], heap[1]+1], stop, counter+1)\\\n",
    "                    and f([heap[0], heap[1]*2], stop, counter+1)\n",
    "        \n",
    "    \n",
    "\n",
    "for s in range(1, 32):\n",
    "    if f([s, 2], 63, 0):\n",
    "        print(s)\n"
   ]
  },
  {
   "cell_type": "code",
   "execution_count": 10,
   "metadata": {},
   "outputs": [
    {
     "name": "stdout",
     "output_type": "stream",
     "text": [
      "64\n"
     ]
    }
   ],
   "source": [
    "def f(start, stop, steps):\n",
    "    if start >= stop and steps == 2: return True\n",
    "    elif start >= stop: return False\n",
    "    elif steps % 2 != 0:\n",
    "        return f(start+1, stop, steps+1) or f(start*2, stop, steps+1) \n",
    "    else: \n",
    "        return f(start+1, stop, steps+1) and f(start*2, stop, steps+1) \n",
    "    \n",
    "for s in range(1, 129):\n",
    "    if f(s, 129, 0):\n",
    "        print(s)"
   ]
  },
  {
   "cell_type": "code",
   "execution_count": 9,
   "metadata": {},
   "outputs": [
    {
     "name": "stdout",
     "output_type": "stream",
     "text": [
      "18\n",
      "19\n",
      "20\n",
      "21\n",
      "22\n",
      "23\n",
      "24\n",
      "25\n",
      "26\n",
      "27\n",
      "28\n",
      "29\n",
      "30\n",
      "31\n",
      "32\n",
      "33\n",
      "34\n",
      "35\n",
      "36\n",
      "37\n",
      "38\n",
      "39\n",
      "40\n",
      "41\n",
      "42\n",
      "43\n",
      "44\n",
      "45\n",
      "46\n",
      "47\n",
      "48\n",
      "49\n",
      "50\n",
      "51\n",
      "52\n",
      "53\n",
      "54\n",
      "55\n",
      "56\n",
      "57\n",
      "58\n",
      "59\n",
      "60\n",
      "61\n",
      "62\n",
      "63\n",
      "64\n",
      "65\n",
      "66\n",
      "67\n",
      "68\n"
     ]
    }
   ],
   "source": [
    "def f(heap, stop, steps):\n",
    "    if (sum(heap) >= stop) and (steps == 2): return True\n",
    "    elif (sum(heap) >= stop) or (steps > 2): return False\n",
    "    if steps % 2 == 0:\n",
    "        return f([heap[0]+1, heap[1]], stop, steps+1)\\\n",
    "            or f([heap[0]*2, heap[1]], stop, steps+1)\\\n",
    "                or f([heap[0], heap[1]+1], stop, steps+1)\\\n",
    "                    or f([heap[0], heap[1]*2], stop, steps+1)\n",
    "    else:\n",
    "        return f([heap[0]+1, heap[1]], stop, steps+1)\\\n",
    "            or f([heap[0]*2, heap[1]], stop, steps+1)\\\n",
    "                or f([heap[0], heap[1]+1], stop, steps+1)\\\n",
    "                    or f([heap[0], heap[1]*2], stop, steps+1)\n",
    "    \n",
    "    \n",
    "for s in range(1, 70):\n",
    "    if f([s, 7], 77, 0):\n",
    "        print(s)\n"
   ]
  }
 ],
 "metadata": {
  "kernelspec": {
   "display_name": "venv",
   "language": "python",
   "name": "python3"
  },
  "language_info": {
   "codemirror_mode": {
    "name": "ipython",
    "version": 3
   },
   "file_extension": ".py",
   "mimetype": "text/x-python",
   "name": "python",
   "nbconvert_exporter": "python",
   "pygments_lexer": "ipython3",
   "version": "3.11.4"
  }
 },
 "nbformat": 4,
 "nbformat_minor": 2
}
