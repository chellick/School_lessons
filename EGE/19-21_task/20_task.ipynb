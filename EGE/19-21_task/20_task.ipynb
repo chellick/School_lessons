{
 "cells": [
  {
   "cell_type": "code",
   "execution_count": 29,
   "metadata": {},
   "outputs": [
    {
     "name": "stdout",
     "output_type": "stream",
     "text": [
      "8\n",
      "13\n",
      "14\n",
      "15\n"
     ]
    }
   ],
   "source": [
    "def game(start, stop, counter):\n",
    "    if start >= stop and counter == 3: return True\n",
    "    if start < stop and counter == 3: return False\n",
    "    if start >= stop: return False\n",
    "    \n",
    "    if counter%2!=0:\n",
    "        return game(start+1, stop, counter+1) and game(start+2, stop, counter+1) and game(start+3, stop, counter+1) and game(start*2, stop, counter+1)\n",
    "    else:\n",
    "        return game(start+1, stop, counter+1) or game(start+2, stop, counter+1) or game(start+3, stop, counter+1) or game(start*2, stop, counter+1)\n",
    "                \n",
    "for s in range(1, 34):\n",
    "    if game(s, 34, 0):\n",
    "        print(s)\n",
    "    "
   ]
  },
  {
   "cell_type": "code",
   "execution_count": 38,
   "metadata": {},
   "outputs": [
    {
     "name": "stdout",
     "output_type": "stream",
     "text": [
      "10\n"
     ]
    }
   ],
   "source": [
    "def game(start, stop, counter):\n",
    "    if start >= stop and counter == 3: return True\n",
    "    if start < stop and counter == 3: return False\n",
    "    if start >= stop: return False\n",
    "    \n",
    "    if counter % 2 != 0:\n",
    "        return game(start+1, stop, counter+1) and\\\n",
    "            game(start*2, stop, counter+1) and\\\n",
    "                game(start*3, stop, counter+1)\n",
    "    else:\n",
    "        return game(start+1, stop, counter+1) or\\\n",
    "            game(start*2, stop, counter+1) or\\\n",
    "                game(start*3, stop, counter+1)\n",
    "    \n",
    "\n",
    "for s in range(1, 36):\n",
    "    if game(s, 36, 0):\n",
    "        print(s)\n",
    "        "
   ]
  },
  {
   "cell_type": "code",
   "execution_count": 41,
   "metadata": {},
   "outputs": [
    {
     "name": "stdout",
     "output_type": "stream",
     "text": [
      "24\n",
      "26\n"
     ]
    }
   ],
   "source": [
    "def game(heap, stop: int, counter: int):\n",
    "    if sum(heap) >= stop and counter == 3: return True\n",
    "    if sum(heap) < stop and counter == 3: return False\n",
    "    if sum(heap) >= stop: return False\n",
    "    \n",
    "    if counter % 2 != 0:\n",
    "        return game([heap[0], heap[1]+1], stop, counter+1) and game([heap[0], heap[1]*2], stop, counter+1) and game([heap[0]+1, heap[1]], stop, counter+1) and game([heap[0]*2, heap[1]], stop, counter+1)\n",
    "    else:\n",
    "        return game([heap[0], heap[1]+1], stop, counter+1) or game([heap[0], heap[1]*2], stop, counter+1) or game([heap[0]+1, heap[1]], stop, counter+1) or game([heap[0]*2, heap[1]], stop, counter+1)\n",
    "        \n",
    "for s in range(1, 54):\n",
    "    if game([5, s], 59, 0):\n",
    "        print(s)"
   ]
  },
  {
   "cell_type": "code",
   "execution_count": 45,
   "metadata": {},
   "outputs": [
    {
     "name": "stdout",
     "output_type": "stream",
     "text": [
      "240\n",
      "719\n"
     ]
    }
   ],
   "source": [
    "def f(start, stop, counter):\n",
    "    if counter == 3 and start >= stop: return True\n",
    "    if counter == 3 and start < stop: return False\n",
    "    if start >= stop: return False\n",
    "    if counter % 2 != 0:\n",
    "        return f(start+1, stop, counter+1) and f(start*3, stop, counter+1)\n",
    "    else: \n",
    "        return f(start+1, stop, counter+1) or f(start*3, stop, counter+1)\n",
    "\n",
    "for s in range(1, 2163):\n",
    "    if f(s, 2163, 0):\n",
    "        print(s)"
   ]
  },
  {
   "cell_type": "markdown",
   "metadata": {},
   "source": [
    "```python\n",
    "def f(heap, stop, counter):\n",
    "    if counter == 2 and heap[0] * heap[1] >= stop: return True\n",
    "    elif counter == 2 and heap[0] * heap[1] < stop: return False\n",
    "    elif heap[0] * heap[1] >= stop: return False\n",
    "    elif counter % 2 == 0:        \n",
    "        return f([heap[0] + 1, heap[1]], stop, counter+1)\\\n",
    "            or f([heap[0]*2, heap[1]], stop, counter + 1)\\\n",
    "                or f([heap[0], heap[1]+1], stop, counter+1)\\\n",
    "                    or f([heap[0], heap[1]*2], stop, counter+1)\n",
    "    else:\n",
    "        return f([heap[0] + 1, heap[1]], stop, counter+1)\\\n",
    "            and f([heap[0]*2, heap[1]], stop, counter + 1)\\\n",
    "                and f([heap[0], heap[1]+1], stop, counter+1)\\\n",
    "                    and f([heap[0], heap[1]*2], stop, counter+1)\n",
    "        \n",
    "    \n",
    "\n",
    "for s in range(1, 32):\n",
    "    if f([s, 2], 63, 0):\n",
    "        print(s)```\n"
   ]
  },
  {
   "cell_type": "code",
   "execution_count": null,
   "metadata": {},
   "outputs": [],
   "source": [
    "def f(heap, stop, counter):\n",
    "    if counter == 3 and heap[0] * heap[1] >= stop: return True\n",
    "    elif counter == 1 and heap[0] * heap[1] >= stop: return False\n",
    "    elif counter == 3 and heap[0] * heap[1] < stop: return False\n",
    "    elif heap[0] * heap[1] >= stop: return False\n",
    "    elif counter % 2 == 0:\n",
    "            return f([heap[0] + 1, heap[1]], stop, counter+1)\\\n",
    "            or f([heap[0]*2, heap[1]], stop, counter + 1)\\\n",
    "                or f([heap[0], heap[1]+1], stop, counter+1)\\\n",
    "                    or f([heap[0], heap[1]*2], stop, counter+1)\n",
    "    else:\n",
    "        return f([heap[0] + 1, heap[1]], stop, counter+1)\\\n",
    "            and f([heap[0]*2, heap[1]], stop, counter + 1)\\\n",
    "                and f([heap[0], heap[1]+1], stop, counter+1)\\\n",
    "                    and f([heap[0], heap[1]*2], stop, counter+1)\n",
    "                    \n",
    "for s in range(1, 32):\n",
    "    if f([s, 2], 63, 0):\n",
    "        print(s)              \n",
    "                    "
   ]
  },
  {
   "cell_type": "code",
   "execution_count": 17,
   "metadata": {},
   "outputs": [
    {
     "name": "stdout",
     "output_type": "stream",
     "text": [
      "32\n",
      "63\n"
     ]
    }
   ],
   "source": [
    "def f(start, stop, steps):\n",
    "    if (steps == 3) and (start >= stop): return True\n",
    "    elif start >= stop: return False\n",
    "    \n",
    "    if steps % 2 == 0:\n",
    "        return f(start+1, stop, steps+1) or f(start*2, stop, steps+1) \n",
    "    else: \n",
    "        return f(start+1, stop, steps+1) and f(start*2, stop, steps+1) \n",
    "    \n",
    "for s in range(1, 129):\n",
    "    if f(s, 129, 0):\n",
    "        print(s)"
   ]
  }
 ],
 "metadata": {
  "kernelspec": {
   "display_name": "venv",
   "language": "python",
   "name": "python3"
  },
  "language_info": {
   "codemirror_mode": {
    "name": "ipython",
    "version": 3
   },
   "file_extension": ".py",
   "mimetype": "text/x-python",
   "name": "python",
   "nbconvert_exporter": "python",
   "pygments_lexer": "ipython3",
   "version": "3.11.4"
  }
 },
 "nbformat": 4,
 "nbformat_minor": 2
}
