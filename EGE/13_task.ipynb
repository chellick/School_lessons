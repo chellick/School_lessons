{
 "cells": [
  {
   "cell_type": "markdown",
   "metadata": {},
   "source": [
    "## IP адреса\n",
    "\n",
    "ip адрес - идентификатор компьютера в сети\n",
    "\n",
    "IPv4 - 32битный тип записи \n",
    "\n",
    "`192.168.10.66 = 11000000.10101000.00001010.01000010`"
   ]
  },
  {
   "cell_type": "code",
   "execution_count": 2,
   "metadata": {},
   "outputs": [
    {
     "name": "stdout",
     "output_type": "stream",
     "text": [
      "192.168.32.160\n",
      "192.168.32.161\n",
      "192.168.32.162\n",
      "192.168.32.163\n",
      "192.168.32.164\n",
      "192.168.32.165\n",
      "192.168.32.166\n",
      "192.168.32.167\n",
      "192.168.32.168\n",
      "192.168.32.169\n",
      "192.168.32.170\n",
      "192.168.32.171\n",
      "192.168.32.172\n",
      "192.168.32.173\n",
      "192.168.32.174\n",
      "192.168.32.175\n"
     ]
    },
    {
     "data": {
      "text/plain": [
       "8"
      ]
     },
     "execution_count": 2,
     "metadata": {},
     "output_type": "execute_result"
    }
   ],
   "source": [
    "from ipaddress import *\n",
    "c = 0\n",
    "net = ip_network('192.168.32.160/255.255.255.240')\n",
    "for ip in net:\n",
    "    print(ip)\n",
    "    if bin(int(ip)).count('1') % 2 == 0:\n",
    "        c += 1\n",
    "c"
   ]
  },
  {
   "cell_type": "markdown",
   "metadata": {},
   "source": [
    "Мой вариант решения задачи"
   ]
  },
  {
   "cell_type": "code",
   "execution_count": 1,
   "metadata": {},
   "outputs": [],
   "source": [
    "def to_bin_ip(ip):\n",
    "    return list(map(lambda x: bin(int(x))[2:].zfill(8) , ip.split('.')))"
   ]
  },
  {
   "cell_type": "code",
   "execution_count": null,
   "metadata": {},
   "outputs": [],
   "source": [
    "network = '10.48.96.0'\n",
    "mask = '255.255.240.0'\n",
    "\n",
    "network = to_bin_ip(network)\n",
    "mask = to_bin_ip(mask)\n",
    "counter = 0\n",
    "\n",
    "for i in range(96, int('01101111', 2)+1): # manual part\n",
    "    for j in range(255+1):\n",
    "        ip = f'10.48.{str(i)}.{str(j)}'\n",
    "        ip = to_bin_ip(ip)\n",
    "        if \"\".join(ip).count('1') > \"\".join(ip).count('0'):\n",
    "            counter += 1\n",
    "counter"
   ]
  },
  {
   "cell_type": "markdown",
   "metadata": {},
   "source": [
    "мой вариант решения рандомной задачи :)"
   ]
  },
  {
   "cell_type": "code",
   "execution_count": 62,
   "metadata": {},
   "outputs": [
    {
     "data": {
      "text/plain": [
       "'145.92.128.0.'"
      ]
     },
     "execution_count": 62,
     "metadata": {},
     "output_type": "execute_result"
    }
   ],
   "source": [
    "adress = '145.92.137.88'\n",
    "mask = '255.255.240.0'\n",
    "\n",
    "adress = list(map(lambda x: bin(int(x))[2:].zfill(8) , adress.split('.')))\n",
    "mask = list(map(lambda x: bin(int(x))[2:].zfill(8), mask.split('.')))\n",
    "\n",
    "result = ''\n",
    "\n",
    "for a, b in zip(adress, mask):\n",
    "    row = ''\n",
    "    for x, y in zip(a, b):\n",
    "        row += str(int(x) & int(y))\n",
    "        \n",
    "    result += str(int(row, 2)) + '.'\n",
    "result"
   ]
  },
  {
   "cell_type": "code",
   "execution_count": 64,
   "metadata": {},
   "outputs": [
    {
     "data": {
      "text/plain": [
       "'10.8.224.0.'"
      ]
     },
     "execution_count": 64,
     "metadata": {},
     "output_type": "execute_result"
    }
   ],
   "source": [
    "adress = '10.8.248.131'\n",
    "mask = '255.255.224.0'\n",
    "\n",
    "\n",
    "adress = to_bin_ip(adress)\n",
    "mask = to_bin_ip(mask)\n",
    "\n",
    "result = ''\n",
    "\n",
    "for a, b in zip(adress, mask):\n",
    "    row = ''\n",
    "    for x, y in zip(a, b):\n",
    "        row += str(int(x) & int(y))\n",
    "        \n",
    "    result += str(int(row, 2)) + '.'\n",
    "result"
   ]
  },
  {
   "cell_type": "code",
   "execution_count": 70,
   "metadata": {},
   "outputs": [
    {
     "data": {
      "text/plain": [
       "(['01110110', '11000001', '00011110', '10001011'],\n",
       " ['01110110', '11000001', '00011000', '00000000'],\n",
       " 248)"
      ]
     },
     "execution_count": 70,
     "metadata": {},
     "output_type": "execute_result"
    }
   ],
   "source": [
    "main_ip = '118.193.30.139'\n",
    "network_adress = '118.193.24.0'\n",
    "\n",
    "main_ip = to_bin_ip(main_ip)\n",
    "network_adress = to_bin_ip(network_adress)\n",
    "\n",
    "main_ip, network_adress, int('11111000', 2)\n",
    "# не забывать, что у маски 1111..., а не 0000..."
   ]
  },
  {
   "cell_type": "code",
   "execution_count": 80,
   "metadata": {},
   "outputs": [
    {
     "data": {
      "text/plain": [
       "(['10011010', '11001001', '11010000', '00010001'],\n",
       " ['10011010', '11001001', '11000000', '00000000'],\n",
       " 224,\n",
       " '0b11100000')"
      ]
     },
     "execution_count": 80,
     "metadata": {},
     "output_type": "execute_result"
    }
   ],
   "source": [
    "main_ip = '154.201.208.17'\n",
    "network_adress = '154.201.192.0'\n",
    "\n",
    "main_ip = to_bin_ip(main_ip)\n",
    "network_adress = to_bin_ip(network_adress)\n",
    "\n",
    "main_ip, network_adress, int('11100000', 2), bin(224)\n",
    "# не забывать, что маска имеет вид 1111...0000"
   ]
  },
  {
   "cell_type": "code",
   "execution_count": 82,
   "metadata": {},
   "outputs": [
    {
     "data": {
      "text/plain": [
       "(['01111010', '00010101', '00110001', '01011011'],\n",
       " ['01111010', '00010101', '00110000', '00000000'],\n",
       " 1048575,\n",
       " 20)"
      ]
     },
     "execution_count": 82,
     "metadata": {},
     "output_type": "execute_result"
    }
   ],
   "source": [
    "main_ip = '122.21.49.91'\n",
    "network_adress = '122.21.48.0'\n",
    "\n",
    "main_ip = to_bin_ip(main_ip)\n",
    "network_adress = to_bin_ip(network_adress)\n",
    "\n",
    "main_ip, network_adress, int('11111111111111111111', 2), '11111111111111111111'.count('1')"
   ]
  },
  {
   "cell_type": "code",
   "execution_count": 2,
   "metadata": {},
   "outputs": [
    {
     "data": {
      "text/plain": [
       "(['10101101', '01100111', '00011000', '00000000'],\n",
       " ['10101101', '01100111', '00011001', '01110110'])"
      ]
     },
     "execution_count": 2,
     "metadata": {},
     "output_type": "execute_result"
    }
   ],
   "source": [
    "network = '173.103.24.0'\n",
    "connection = '173.103.25.118' # узел\n",
    "\n",
    "network = to_bin_ip(network)\n",
    "connection = to_bin_ip(connection)\n",
    "\n",
    "network, connection\n"
   ]
  },
  {
   "cell_type": "code",
   "execution_count": 3,
   "metadata": {},
   "outputs": [
    {
     "data": {
      "text/plain": [
       "(['10011110', '01110100', '00000000', '00000000'],\n",
       " ['10011110', '01110100', '00001011', '10010010'])"
      ]
     },
     "execution_count": 3,
     "metadata": {},
     "output_type": "execute_result"
    }
   ],
   "source": [
    "network = '158.116.0.0'\n",
    "connection = '158.116.11.146'\n",
    "\n",
    "network = to_bin_ip(network)\n",
    "connection = to_bin_ip(connection)"
   ]
  },
  {
   "cell_type": "code",
   "execution_count": 2,
   "metadata": {},
   "outputs": [
    {
     "data": {
      "text/plain": [
       "(['10100010', '11000110', '00000000', '10011101'],\n",
       " ['11111111', '11111111', '11111111', '11100000'])"
      ]
     },
     "execution_count": 2,
     "metadata": {},
     "output_type": "execute_result"
    }
   ],
   "source": [
    "to_bin_ip('162.198.0.157'), to_bin_ip('255.255.255.224')"
   ]
  },
  {
   "cell_type": "code",
   "execution_count": 3,
   "metadata": {},
   "outputs": [
    {
     "data": {
      "text/plain": [
       "(['11111111', '11111111', '11100000', '00000000'],\n",
       " ['11001110', '10011110', '01111100', '01000011'])"
      ]
     },
     "execution_count": 3,
     "metadata": {},
     "output_type": "execute_result"
    }
   ],
   "source": [
    "to_bin_ip('255.255.224.0'), to_bin_ip('206.158.124.67')"
   ]
  },
  {
   "cell_type": "code",
   "execution_count": 5,
   "metadata": {},
   "outputs": [
    {
     "data": {
      "text/plain": [
       "7235"
      ]
     },
     "execution_count": 5,
     "metadata": {},
     "output_type": "execute_result"
    }
   ],
   "source": [
    "int('1110001000011', 2)"
   ]
  },
  {
   "cell_type": "code",
   "execution_count": 7,
   "metadata": {},
   "outputs": [
    {
     "data": {
      "text/plain": [
       "8"
      ]
     },
     "execution_count": 7,
     "metadata": {},
     "output_type": "execute_result"
    }
   ],
   "source": [
    "from ipaddress import *\n",
    "c = 0\n",
    "net = ip_network('192.168.32.160/255.255.255.240')\n",
    "for ip in net:\n",
    "    if bin(int(ip)).count('1') % 2 == 0:\n",
    "        c += 1\n",
    "c"
   ]
  },
  {
   "cell_type": "code",
   "execution_count": 14,
   "metadata": {},
   "outputs": [
    {
     "data": {
      "text/plain": [
       "(['01100010', '10100010', '01000111', '01011110'],\n",
       " ['01100010', '10100010', '01000111', '01000000'])"
      ]
     },
     "execution_count": 14,
     "metadata": {},
     "output_type": "execute_result"
    }
   ],
   "source": [
    "to_bin_ip('98.162.71.94'), to_bin_ip('98.162.71.64')"
   ]
  },
  {
   "cell_type": "code",
   "execution_count": 10,
   "metadata": {},
   "outputs": [
    {
     "data": {
      "text/plain": [
       "(['10001110', '00001001', '11000111', '10010001'],\n",
       " ['11111111', '11111111', '11000000', '00000000'])"
      ]
     },
     "execution_count": 10,
     "metadata": {},
     "output_type": "execute_result"
    }
   ],
   "source": [
    "to_bin_ip('142.9.199.145'), to_bin_ip('255.255.192.0')"
   ]
  },
  {
   "cell_type": "code",
   "execution_count": 12,
   "metadata": {},
   "outputs": [
    {
     "data": {
      "text/plain": [
       "(142, 9, 192)"
      ]
     },
     "execution_count": 12,
     "metadata": {},
     "output_type": "execute_result"
    }
   ],
   "source": [
    "int('10001110', 2), int('00001001', 2), int('11000000', 2)"
   ]
  },
  {
   "cell_type": "code",
   "execution_count": 15,
   "metadata": {},
   "outputs": [
    {
     "data": {
      "text/plain": [
       "(['11100000', '10000000', '01110000', '10001110'],\n",
       " ['11100000', '10000000', '01000000', '00000000'])"
      ]
     },
     "execution_count": 15,
     "metadata": {},
     "output_type": "execute_result"
    }
   ],
   "source": [
    "to_bin_ip('224.128.112.142'), to_bin_ip('224.128.64.0')"
   ]
  },
  {
   "cell_type": "code",
   "execution_count": 1,
   "metadata": {},
   "outputs": [
    {
     "data": {
      "text/plain": [
       "16"
      ]
     },
     "execution_count": 1,
     "metadata": {},
     "output_type": "execute_result"
    }
   ],
   "source": [
    "from ipaddress import *\n",
    "\n",
    "c = 0\n",
    "net = ip_network('184.178.54.144/255.255.255.240')\n",
    "\n",
    "for ip in net:\n",
    "    if \"111\" in bin(int(ip)):\n",
    "        c += 1\n",
    "c"
   ]
  },
  {
   "cell_type": "code",
   "execution_count": 10,
   "metadata": {},
   "outputs": [
    {
     "data": {
      "text/plain": [
       "(['01111000', '01011011', '10110000', '11010101'],\n",
       " ['01111000', '01011011', '10101110', '11001101'],\n",
       " 224)"
      ]
     },
     "execution_count": 10,
     "metadata": {},
     "output_type": "execute_result"
    }
   ],
   "source": [
    "to_bin_ip('120.91.176.213'), to_bin_ip('120.91.174.205'), int('11100000', 2)"
   ]
  },
  {
   "cell_type": "code",
   "execution_count": 2,
   "metadata": {},
   "outputs": [
    {
     "data": {
      "text/plain": [
       "(['10111111', '10101101', '10010001', '11110000'],\n",
       " ['10111111', '10101101', '10010000', '00000000'])"
      ]
     },
     "execution_count": 2,
     "metadata": {},
     "output_type": "execute_result"
    }
   ],
   "source": [
    "to_bin_ip('191.173.145.240'), to_bin_ip('191.173.144.0')"
   ]
  },
  {
   "cell_type": "code",
   "execution_count": 4,
   "metadata": {},
   "outputs": [
    {
     "data": {
      "text/plain": [
       "['11111111', '11111111', '11110000', '00000000']"
      ]
     },
     "execution_count": 4,
     "metadata": {},
     "output_type": "execute_result"
    }
   ],
   "source": [
    "to_bin_ip('255.255.240.0')"
   ]
  },
  {
   "cell_type": "code",
   "execution_count": 6,
   "metadata": {},
   "outputs": [
    {
     "data": {
      "text/plain": [
       "(['10100101', '01110000', '11001000', '01000110'],\n",
       " ['10100101', '01110000', '10101111', '01010000'])"
      ]
     },
     "execution_count": 6,
     "metadata": {},
     "output_type": "execute_result"
    }
   ],
   "source": [
    "to_bin_ip('165.112.200.70'), to_bin_ip('165.112.175.80')"
   ]
  },
  {
   "cell_type": "code",
   "execution_count": 7,
   "metadata": {},
   "outputs": [
    {
     "data": {
      "text/plain": [
       "(['00001010', '01100000', '10110100', '11100111'],\n",
       " ['00001010', '01100000', '10001100', '01110110'])"
      ]
     },
     "execution_count": 7,
     "metadata": {},
     "output_type": "execute_result"
    }
   ],
   "source": [
    "to_bin_ip('10.96.180.231'), to_bin_ip('10.96.140.118')"
   ]
  },
  {
   "cell_type": "code",
   "execution_count": 16,
   "metadata": {},
   "outputs": [
    {
     "data": {
      "text/plain": [
       "(['11000000', '10101000', '11110000', '00000000'],\n",
       " ['11111111', '11111111', '11111111', '00000000'])"
      ]
     },
     "execution_count": 16,
     "metadata": {},
     "output_type": "execute_result"
    }
   ],
   "source": [
    "to_bin_ip('192.168.240.0'), to_bin_ip('255.255.255.0')"
   ]
  },
  {
   "cell_type": "code",
   "execution_count": null,
   "metadata": {},
   "outputs": [],
   "source": [
    "c=0\n",
    "for i in range(257):\n",
    "    if bin(i)[2:].zfill(8).count(\"1\") == bin(i)[2:].zfill(8).count(\"0\"):\n",
    "        c +=1\n",
    "        print(bin(i)[2:].zfill(8))\n",
    "c"
   ]
  },
  {
   "cell_type": "code",
   "execution_count": 1,
   "metadata": {},
   "outputs": [
    {
     "data": {
      "text/plain": [
       "(['11111111', '11111111', '11000000', '00000000'],\n",
       " ['10000010', '10000011', '10000100', '10000000'])"
      ]
     },
     "execution_count": 1,
     "metadata": {},
     "output_type": "execute_result"
    }
   ],
   "source": [
    "def to_bin_ip(s):\n",
    "    return [bin(int(i))[2:].zfill(8) for i in s.split('.')]\n",
    "\n",
    "to_bin_ip('255.255.192.0'), to_bin_ip('130.131.132.128')"
   ]
  },
  {
   "cell_type": "code",
   "execution_count": 2,
   "metadata": {},
   "outputs": [
    {
     "data": {
      "text/plain": [
       "(['11100101', '00100101', '11100101', '00100000'],\n",
       " ['11111111', '11111111', '11100000', '00000000'])"
      ]
     },
     "execution_count": 2,
     "metadata": {},
     "output_type": "execute_result"
    }
   ],
   "source": [
    "to_bin_ip('229.37.229.32'), to_bin_ip('255.255.224.0')"
   ]
  },
  {
   "cell_type": "code",
   "execution_count": 12,
   "metadata": {},
   "outputs": [
    {
     "data": {
      "text/plain": [
       "6"
      ]
     },
     "execution_count": 12,
     "metadata": {},
     "output_type": "execute_result"
    }
   ],
   "source": [
    "to_bin_ip('116.29.170.89')\n",
    "left = 8\n",
    "right = 4\n",
    "c = 0\n",
    "for i in range(224, 256):\n",
    "    if to_bin_ip(str(i))[0].count('1') + right <= left:\n",
    "        c+=1\n",
    "        \n",
    "c"
   ]
  },
  {
   "cell_type": "code",
   "execution_count": 1,
   "metadata": {},
   "outputs": [
    {
     "data": {
      "text/plain": [
       "(['11000011', '11100011', '11000100', '00001100'],\n",
       " ['11000011', '11100011', '11000000', '00000000'])"
      ]
     },
     "execution_count": 1,
     "metadata": {},
     "output_type": "execute_result"
    }
   ],
   "source": [
    "def to_bin_ip(ip):\n",
    "    return [bin(int(i))[2:].zfill(8) for i  in ip.split('.')]\n",
    "\n",
    "to_bin_ip('195.227.196.12'), to_bin_ip(\"195.227.192.0\")"
   ]
  },
  {
   "cell_type": "code",
   "execution_count": 6,
   "metadata": {},
   "outputs": [
    {
     "data": {
      "text/plain": [
       "248"
      ]
     },
     "execution_count": 6,
     "metadata": {},
     "output_type": "execute_result"
    }
   ],
   "source": [
    "int('11111000', 2)\n",
    "\n"
   ]
  },
  {
   "cell_type": "code",
   "execution_count": 2,
   "metadata": {},
   "outputs": [
    {
     "data": {
      "text/plain": [
       "(['10101100', '00010000', '00001000', '00000000'],\n",
       " ['11111111', '11111111', '11111100', '00000000'])"
      ]
     },
     "execution_count": 2,
     "metadata": {},
     "output_type": "execute_result"
    }
   ],
   "source": [
    "to_bin_ip('172.16.8.0'), to_bin_ip('255.255.252.0')"
   ]
  },
  {
   "cell_type": "code",
   "execution_count": 4,
   "metadata": {},
   "outputs": [
    {
     "data": {
      "text/plain": [
       "16.516129032258064"
      ]
     },
     "execution_count": 4,
     "metadata": {},
     "output_type": "execute_result"
    }
   ],
   "source": [
    "2 ** 10 / (31 * 2)"
   ]
  },
  {
   "cell_type": "code",
   "execution_count": 1,
   "metadata": {},
   "outputs": [
    {
     "data": {
      "text/plain": [
       "['10000000', '11000010', '11010000', '01000000']"
      ]
     },
     "execution_count": 1,
     "metadata": {},
     "output_type": "execute_result"
    }
   ],
   "source": [
    "def to_bin_ip(ip):\n",
    "    return [bin(int(i))[2:].zfill(8) for i in ip.split('.')]\n",
    "\n",
    "to_bin_ip('128.194.208.64')"
   ]
  },
  {
   "cell_type": "code",
   "execution_count": 2,
   "metadata": {},
   "outputs": [
    {
     "data": {
      "text/plain": [
       "(['01100010', '10100010', '01000111', '01011110'],\n",
       " ['01100010', '10100010', '01000111', '01000000'])"
      ]
     },
     "execution_count": 2,
     "metadata": {},
     "output_type": "execute_result"
    }
   ],
   "source": [
    "to_bin_ip('98.162.71.94'), to_bin_ip('98.162.71.64')"
   ]
  },
  {
   "cell_type": "code",
   "execution_count": null,
   "metadata": {},
   "outputs": [],
   "source": [
    "for x in range(1, 255):\n",
    "    print(bin(x)[2:].zfill(8))"
   ]
  },
  {
   "cell_type": "code",
   "execution_count": 3,
   "metadata": {},
   "outputs": [
    {
     "data": {
      "text/plain": [
       "144"
      ]
     },
     "execution_count": 3,
     "metadata": {},
     "output_type": "execute_result"
    }
   ],
   "source": [
    "367-164-59"
   ]
  },
  {
   "cell_type": "code",
   "execution_count": 14,
   "metadata": {},
   "outputs": [
    {
     "name": "stdout",
     "output_type": "stream",
     "text": [
      "00000000 0 0\n",
      "10000000 128 128\n",
      "11000000 128 192\n",
      "11100000 128 224\n",
      "11110000 144 240\n",
      "11111000 144 248\n",
      "11111100 148 252\n",
      "11111110 150 254\n",
      "11111111 151 255\n"
     ]
    }
   ],
   "source": [
    "for i in range(9):\n",
    "    s = '1' * i\n",
    "    s = s.zfill(8)\n",
    "    print(s[::-1], int(s[::-1], 2)&151, int(s[::-1], 2))"
   ]
  },
  {
   "cell_type": "code",
   "execution_count": 12,
   "metadata": {},
   "outputs": [
    {
     "data": {
      "text/plain": [
       "(['10110111', '11000000', '00111100', '00000000'],\n",
       " ['11111111', '11111111', '11111100', '00000000'])"
      ]
     },
     "execution_count": 12,
     "metadata": {},
     "output_type": "execute_result"
    }
   ],
   "source": [
    "to_bin_ip('183.192.60.0'), to_bin_ip('255.255.252.0')"
   ]
  },
  {
   "cell_type": "code",
   "execution_count": 9,
   "metadata": {},
   "outputs": [
    {
     "data": {
      "text/plain": [
       "252"
      ]
     },
     "execution_count": 9,
     "metadata": {},
     "output_type": "execute_result"
    }
   ],
   "source": [
    "int('11111100',2) "
   ]
  }
 ],
 "metadata": {
  "kernelspec": {
   "display_name": "venv",
   "language": "python",
   "name": "python3"
  },
  "language_info": {
   "codemirror_mode": {
    "name": "ipython",
    "version": 3
   },
   "file_extension": ".py",
   "mimetype": "text/x-python",
   "name": "python",
   "nbconvert_exporter": "python",
   "pygments_lexer": "ipython3",
   "version": "3.11.4"
  }
 },
 "nbformat": 4,
 "nbformat_minor": 2
}
