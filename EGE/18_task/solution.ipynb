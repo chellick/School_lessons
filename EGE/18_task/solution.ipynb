{
 "cells": [
  {
   "cell_type": "code",
   "execution_count": 12,
   "metadata": {},
   "outputs": [],
   "source": [
    "with open('18-16.txt') as f:\n",
    "    nums = [float(i.replace(',', '.')) for i in f]"
   ]
  },
  {
   "cell_type": "code",
   "execution_count": 13,
   "metadata": {},
   "outputs": [
    {
     "name": "stdout",
     "output_type": "stream",
     "text": [
      "456.37999999999994\n"
     ]
    }
   ],
   "source": [
    "sums = []\n",
    "current_state = set()\n",
    "for i in range(len(nums)-1):\n",
    "    if nums[i] > nums[i+1]:\n",
    "        current_state.add(nums[i])\n",
    "        current_state.add(nums[i+1])\n",
    "    else:\n",
    "        sums.append(sum(current_state))\n",
    "        current_state = set()\n",
    "\n",
    "print(max(sums))\n"
   ]
  },
  {
   "cell_type": "code",
   "execution_count": 43,
   "metadata": {},
   "outputs": [],
   "source": [
    "with open('ab_task.txt') as f:\n",
    "    nums = [float(i.replace(',', '.')) for i in f]"
   ]
  },
  {
   "cell_type": "code",
   "execution_count": 44,
   "metadata": {},
   "outputs": [
    {
     "name": "stdout",
     "output_type": "stream",
     "text": [
      "80.76\n"
     ]
    }
   ],
   "source": [
    "sums = []\n",
    "current_state = set()\n",
    "for i in range(len(nums)-1):\n",
    "    if nums[i] >= 0:\n",
    "        if abs(nums[i+1] - nums[i]) <= 10:\n",
    "            current_state.add(nums[i])\n",
    "            current_state.add(nums[i+1])\n",
    "            \n",
    "        else:\n",
    "            sums.append(sum(current_state))\n",
    "            current_state = set()\n",
    "\n",
    "print(max(sums))"
   ]
  }
 ],
 "metadata": {
  "kernelspec": {
   "display_name": "venv",
   "language": "python",
   "name": "python3"
  },
  "language_info": {
   "codemirror_mode": {
    "name": "ipython",
    "version": 3
   },
   "file_extension": ".py",
   "mimetype": "text/x-python",
   "name": "python",
   "nbconvert_exporter": "python",
   "pygments_lexer": "ipython3",
   "version": "3.11.4"
  }
 },
 "nbformat": 4,
 "nbformat_minor": 2
}
