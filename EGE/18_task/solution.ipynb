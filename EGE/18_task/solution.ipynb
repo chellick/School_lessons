{
 "cells": [
  {
   "cell_type": "code",
   "execution_count": 12,
   "metadata": {},
   "outputs": [],
   "source": [
    "with open('18-16.txt') as f:\n",
    "    nums = [float(i.replace(',', '.')) for i in f]"
   ]
  },
  {
   "cell_type": "code",
   "execution_count": 13,
   "metadata": {},
   "outputs": [
    {
     "name": "stdout",
     "output_type": "stream",
     "text": [
      "456.37999999999994\n"
     ]
    }
   ],
   "source": [
    "sums = []\n",
    "current_state = set()\n",
    "for i in range(len(nums)-1):\n",
    "    if nums[i] > nums[i+1]:\n",
    "        current_state.add(nums[i])\n",
    "        current_state.add(nums[i+1])\n",
    "    else:\n",
    "        sums.append(sum(current_state))\n",
    "        current_state = set()\n",
    "\n",
    "print(max(sums))\n"
   ]
  },
  {
   "cell_type": "code",
   "execution_count": 43,
   "metadata": {},
   "outputs": [],
   "source": [
    "with open('ab_task.txt') as f:\n",
    "    nums = [float(i.replace(',', '.')) for i in f]"
   ]
  },
  {
   "cell_type": "code",
   "execution_count": 44,
   "metadata": {},
   "outputs": [
    {
     "name": "stdout",
     "output_type": "stream",
     "text": [
      "80.76\n"
     ]
    }
   ],
   "source": [
    "sums = []\n",
    "current_state = set()\n",
    "for i in range(len(nums)-1):\n",
    "    if nums[i] >= 0:\n",
    "        if abs(nums[i+1] - nums[i]) <= 10:\n",
    "            current_state.add(nums[i])\n",
    "            current_state.add(nums[i+1])\n",
    "            \n",
    "        else:\n",
    "            sums.append(sum(current_state))\n",
    "            current_state = set()\n",
    "\n",
    "print(max(sums))"
   ]
  },
  {
   "cell_type": "code",
   "execution_count": 2,
   "metadata": {},
   "outputs": [],
   "source": [
    "f = open(\"task1.txt\")\n",
    "nums = list([float(i.replace(',', '.')) for i in f])"
   ]
  },
  {
   "cell_type": "code",
   "execution_count": 5,
   "metadata": {},
   "outputs": [
    {
     "data": {
      "text/plain": [
       "551.94"
      ]
     },
     "execution_count": 5,
     "metadata": {},
     "output_type": "execute_result"
    }
   ],
   "source": [
    "array = []\n",
    "current = set()\n",
    "for i in range(len(nums)-1):\n",
    "    if nums[i] < nums[i+1]:\n",
    "        current.add(nums[i])\n",
    "        current.add(nums[i+1])\n",
    "    else:\n",
    "        if current:\n",
    "            array.append(current)\n",
    "        current = set()\n",
    "\n",
    "maxim = 0\n",
    "\n",
    "for i in array:\n",
    "    if sum(i) > maxim:\n",
    "        maxim = sum(i)\n",
    "maxim"
   ]
  },
  {
   "cell_type": "code",
   "execution_count": 37,
   "metadata": {},
   "outputs": [],
   "source": [
    "f = open(\"taskkk.txt\")\n",
    "nums = list(float(i.replace(',', '.')) for i in f)"
   ]
  },
  {
   "cell_type": "code",
   "execution_count": 38,
   "metadata": {},
   "outputs": [
    {
     "data": {
      "text/plain": [
       "29.810000000000002"
      ]
     },
     "execution_count": 38,
     "metadata": {},
     "output_type": "execute_result"
    }
   ],
   "source": [
    "max_sum = 0\n",
    "current_sum = nums[0]\n",
    "for i in range(len(nums)-1):\n",
    "    if abs(nums[i] - nums[i+1]) >= 20:\n",
    "        current_sum += nums[i+1]\n",
    "        max_sum = max(max_sum, current_sum)\n",
    "    else:\n",
    "        max_sum = max(max_sum, current_sum)\n",
    "        current_sum = nums[i+1]\n",
    "max_sum"
   ]
  },
  {
   "cell_type": "code",
   "execution_count": 5,
   "metadata": {},
   "outputs": [],
   "source": [
    "f = open(\"task_as.txt\")\n",
    "nums = list(int(i) for i in f)"
   ]
  },
  {
   "cell_type": "code",
   "execution_count": 8,
   "metadata": {},
   "outputs": [
    {
     "data": {
      "text/plain": [
       "245937"
      ]
     },
     "execution_count": 8,
     "metadata": {},
     "output_type": "execute_result"
    }
   ],
   "source": [
    "count = 0\n",
    "sum_pairs = []\n",
    "\n",
    "for i in range(len(nums)):\n",
    "    for j in range(i+9, len(nums)):\n",
    "        count += (nums[i] + nums[j])%2\n",
    "count"
   ]
  },
  {
   "cell_type": "code",
   "execution_count": 10,
   "metadata": {},
   "outputs": [],
   "source": [
    "f = open(\"675.txt\")\n",
    "nums = list(int(i) for i in f)"
   ]
  },
  {
   "cell_type": "code",
   "execution_count": 13,
   "metadata": {},
   "outputs": [
    {
     "data": {
      "text/plain": [
       "5"
      ]
     },
     "execution_count": 13,
     "metadata": {},
     "output_type": "execute_result"
    }
   ],
   "source": [
    "max_length = 0\n",
    "current_length = 0\n",
    "\n",
    "for i in range(len(nums)):\n",
    "    if nums[i] % 2 != 0:\n",
    "        current_length +=1\n",
    "    else:\n",
    "        max_length = max(max_length, current_length)\n",
    "        current_length = 0\n",
    "\n",
    "max_length"
   ]
  },
  {
   "cell_type": "code",
   "execution_count": 3,
   "metadata": {},
   "outputs": [],
   "source": [
    "f = open(\"11.txt\")\n",
    "nums = list(int(i) for i in f)"
   ]
  },
  {
   "cell_type": "code",
   "execution_count": 10,
   "metadata": {},
   "outputs": [
    {
     "data": {
      "text/plain": [
       "15"
      ]
     },
     "execution_count": 10,
     "metadata": {},
     "output_type": "execute_result"
    }
   ],
   "source": [
    "c = 0\n",
    "\n",
    "for i in range(len(nums)-6):\n",
    "    for j in range(i+1, i+6):\n",
    "        if nums[i] + nums[j] < 100:\n",
    "            c +=1\n",
    "c"
   ]
  },
  {
   "cell_type": "code",
   "execution_count": 18,
   "metadata": {},
   "outputs": [
    {
     "data": {
      "text/plain": [
       "80"
      ]
     },
     "execution_count": 18,
     "metadata": {},
     "output_type": "execute_result"
    }
   ],
   "source": [
    "with open(\"33190.txt\") as f:\n",
    "    f = f.readlines()\n",
    "    nums = [float(i.replace(',', '.')) for i in f]\n",
    "\n",
    "sums = []\n",
    "current_sum = []\n",
    "\n",
    "for i in range(len(nums)-1):\n",
    "    if abs(nums[i] - nums[i+1]) <= 10:\n",
    "        current_sum.extend([nums[i]])\n",
    "    else:\n",
    "        current_sum.append(nums[i])\n",
    "        sums.append(current_sum)\n",
    "        current_sum = []\n",
    "\n",
    "def max_sum(s):\n",
    "    max_sum = 0\n",
    "    for i in range(len(s)-1):\n",
    "        for j in range(i+1, len(s)):\n",
    "            if max_sum < sum(s[i:j+1]):\n",
    "                max_sum = sum(s[i:j+1])\n",
    "\n",
    "    return max_sum\n",
    "\n",
    "result = 0\n",
    "\n",
    "for s in sums:\n",
    "    s_sum = max_sum(s)\n",
    "    if s_sum > result:\n",
    "        result = s_sum\n",
    "\n",
    "int(result)"
   ]
  },
  {
   "cell_type": "code",
   "execution_count": 11,
   "metadata": {},
   "outputs": [
    {
     "data": {
      "text/plain": [
       "(358.76, 0)"
      ]
     },
     "execution_count": 11,
     "metadata": {},
     "output_type": "execute_result"
    }
   ],
   "source": [
    "with open(\"29666.txt\") as f:\n",
    "    nums =  [float(i.replace(',', '.')) for i in f]\n",
    "\n",
    "cur_sum = 0\n",
    "best_sum = 0\n",
    "\n",
    "for i in range(len(nums)-1):\n",
    "    if nums[i] > nums[i+1]:\n",
    "        cur_sum += nums[i]      \n",
    "    else:\n",
    "        cur_sum += nums[i] \n",
    "        if best_sum < cur_sum:\n",
    "            best_sum = cur_sum\n",
    "        cur_sum = 0\n",
    "\n",
    "if nums[-2] > nums[-1]:\n",
    "    cur_sum += nums[-1]  \n",
    "            \n",
    "best_sum, cur_sum"
   ]
  },
  {
   "cell_type": "code",
   "execution_count": null,
   "metadata": {},
   "outputs": [],
   "source": []
  }
 ],
 "metadata": {
  "kernelspec": {
   "display_name": "venv",
   "language": "python",
   "name": "python3"
  },
  "language_info": {
   "codemirror_mode": {
    "name": "ipython",
    "version": 3
   },
   "file_extension": ".py",
   "mimetype": "text/x-python",
   "name": "python",
   "nbconvert_exporter": "python",
   "pygments_lexer": "ipython3",
   "version": "3.11.4"
  }
 },
 "nbformat": 4,
 "nbformat_minor": 2
}
