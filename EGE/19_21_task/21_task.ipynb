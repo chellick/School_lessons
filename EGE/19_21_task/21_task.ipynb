{
 "cells": [
  {
   "cell_type": "code",
   "execution_count": 7,
   "metadata": {},
   "outputs": [],
   "source": [
    "def f(start, stop, step):\n",
    "    if step in (2, 4) and start >= stop: return True\n",
    "    if step == 4 and start < stop: return False\n",
    "    if start >= stop: return False\n",
    "    if step % 2 == 0:\n",
    "        return f(start+1, stop, step+1)\\\n",
    "        and f(start+2, stop, step+1)\\\n",
    "            and f(start+3, stop, step+1)\\\n",
    "                and f(start*2, stop, step+1)\n",
    "    else:\n",
    "        return f(start+1, stop, step+1)\\\n",
    "            or f(start+2, stop, step+1)\\\n",
    "                or f(start+3, stop, step+1)\\\n",
    "                    or f(start*2, stop, step+1)\n",
    "\n",
    "def f1(start, stop, step):\n",
    "    if step == 2 and start < stop: return False\n",
    "    if step == 4 and start >= stop: return True\n",
    "    if start >= stop: return False\n",
    "    \n",
    "    if step % 2 == 0:\n",
    "            return f1(start+1, stop, step+1)\\\n",
    "                or f1(start+2, stop, step+1)\\\n",
    "                    or f1(start+3, stop, step+1)\\\n",
    "                        or f1(start*2, stop, step+1)\n",
    "    else:\n",
    "        return f1(start+1, stop, step+1)\\\n",
    "            or f1(start+2, stop, step+1)\\\n",
    "                or f1(start+3, stop, step+1)\\\n",
    "                    or f1(start*2, stop, step+1)\n",
    "                \n",
    "for i in range(1, 33):\n",
    "    if f(i, 33, 0) and f1(i, 33, 0):\n",
    "        print(i)"
   ]
  },
  {
   "cell_type": "code",
   "execution_count": 42,
   "metadata": {},
   "outputs": [
    {
     "name": "stdout",
     "output_type": "stream",
     "text": [
      "11 True False\n",
      "32 True False\n",
      "34 True True\n"
     ]
    }
   ],
   "source": [
    "def f(start, stop, steps):\n",
    "    if steps in (2, 4) and start >= stop:\n",
    "        if start <= 60:\n",
    "            return True\n",
    "        else:\n",
    "            return False\n",
    "        \n",
    "    elif steps == 4 and start < stop: return False\n",
    "    \n",
    "    elif start >= stop:  \n",
    "        if start <= 60: \n",
    "            return False\n",
    "        else:\n",
    "            return True\n",
    "    else:\n",
    "        if steps % 2 == 0:\n",
    "            return f(start+1, stop, steps+1) and\\\n",
    "                f(start*2, stop, steps+1) and\\\n",
    "                    f(start*3, stop, steps+1)\n",
    "        else:\n",
    "            return f(start+1, stop, steps+1) or\\\n",
    "                f(start*2, stop, steps+1) or\\\n",
    "                    f(start*3, stop, steps+1)\n",
    "\n",
    "def f1(start, stop, steps):\n",
    "    if steps == 2 and start >= stop: \n",
    "        if start <= 60:\n",
    "            return True\n",
    "        else:\n",
    "            return False\n",
    "    \n",
    "    elif steps == 2 and start < stop: return False\n",
    "    \n",
    "    elif start >= stop: \n",
    "        if start <= 60:\n",
    "            return False\n",
    "        else:\n",
    "            return True\n",
    "    else:\n",
    "        if steps % 2 == 0:\n",
    "            return f1(start+1, stop, steps+1) and\\\n",
    "                f1(start*2, stop, steps+1) and\\\n",
    "                    f1(start*3, stop, steps+1)\n",
    "        else:\n",
    "            return f1(start+1, stop, steps+1) or\\\n",
    "                f1(start*2, stop, steps+1) or\\\n",
    "                    f1(start*3, stop, steps+1)\n",
    "                 \n",
    "for i in range(1, 35+1):\n",
    "    if f(i, 36, 0) or f1(i, 36, 0):\n",
    "        print(i, f(i, 36, 0), f1(i, 36, 0))\n",
    "        "
   ]
  },
  {
   "cell_type": "code",
   "execution_count": null,
   "metadata": {},
   "outputs": [],
   "source": [
    "def f(heap, stop, counter):\n",
    "    if counter in (2, 4) and heap[0] * heap[1] >= stop: return True\n",
    "    elif counter == 4 and heap[0] * heap[1] < stop: return False\n",
    "    elif heap[0] * heap[1] >= stop: return False\n",
    "    elif counter % 2 != 0:\n",
    "            return f([heap[0] + 1, heap[1]], stop, counter+1)\\\n",
    "            or f([heap[0]*2, heap[1]], stop, counter + 1)\\\n",
    "                or f([heap[0], heap[1]+1], stop, counter+1)\\\n",
    "                    or f([heap[0], heap[1]*2], stop, counter+1)\n",
    "    else:\n",
    "        return f([heap[0] + 1, heap[1]], stop, counter+1)\\\n",
    "            and f([heap[0]*2, heap[1]], stop, counter + 1)\\\n",
    "                and f([heap[0], heap[1]+1], stop, counter+1)\\\n",
    "                    and f([heap[0], heap[1]*2], stop, counter+1)\n",
    "                    \n",
    "                    \n",
    "def f1(heap, stop, counter):\n",
    "    if counter == 2 and heap[0] * heap[1] >= stop: return True \n",
    "    elif counter == 2 and heap[0] * heap[1] < stop: return False\n",
    "    elif heap[0] * heap[1] >= stop: return False\n",
    "    elif counter % 2 == 0:\n",
    "        return f1([heap[0] + 1, heap[1]], stop, counter+1)\\\n",
    "        or f1([heap[0]*2, heap[1]], stop, counter + 1)\\\n",
    "            or f1([heap[0], heap[1]+1], stop, counter+1)\\\n",
    "                or f1([heap[0], heap[1]*2], stop, counter+1)\n",
    "    else:\n",
    "        return f1([heap[0] + 1, heap[1]], stop, counter+1)\\\n",
    "            or f1([heap[0]*2, heap[1]], stop, counter + 1)\\\n",
    "                or f1([heap[0], heap[1]+1], stop, counter+1)\\\n",
    "                    or f1([heap[0], heap[1]*2], stop, counter+1)\n",
    "        \n",
    "        \n",
    "                    \n",
    "for s in range(1, 32):\n",
    "    if f([s, 2], 63, 0) and f1([s, 2], 63, 0):\n",
    "        print(s)\n"
   ]
  },
  {
   "cell_type": "code",
   "execution_count": 20,
   "metadata": {},
   "outputs": [
    {
     "name": "stdout",
     "output_type": "stream",
     "text": [
      "62\n",
      "64\n"
     ]
    }
   ],
   "source": [
    "def f(start, stop, steps):\n",
    "    if steps in (2, 4) and start >= stop: return True\n",
    "    elif steps == 4 and start < stop: return False\n",
    "    elif start >= stop: return False\n",
    "    if steps % 2 == 0:\n",
    "        return f(start+1, stop, steps+1) and f(start*2, stop, steps+1)\n",
    "    else:\n",
    "        return f(start+1, stop, steps+1) or f(start*2, stop, steps+1)\n",
    "    \n",
    "for s in range(1, 129):\n",
    "    if f(s, 129, 0):\n",
    "        print(s)"
   ]
  },
  {
   "cell_type": "code",
   "execution_count": 4,
   "metadata": {},
   "outputs": [
    {
     "name": "stdout",
     "output_type": "stream",
     "text": [
      "62\n",
      "63\n"
     ]
    }
   ],
   "source": []
  },
  {
   "cell_type": "code",
   "execution_count": 6,
   "metadata": {},
   "outputs": [
    {
     "name": "stdout",
     "output_type": "stream",
     "text": [
      "18\n"
     ]
    }
   ],
   "source": [
    "def f(s, step=0): # s - колво камней, step - шаг\n",
    "    if s >= 65 and step in (2, 4):\n",
    "        return 1\n",
    "    elif (step == 4 and s < 65) or (step < 4 and s >= 65):\n",
    "        return 0\n",
    "    if step%2 != 0:\n",
    "        return f(s + 1, step + 1) or f(s + 2, step + 1) or f(s*3, step + 1)\n",
    "    return f(s + 1, step + 1) and f(s + 2, step + 1) and f(s*3, step + 1)\n",
    "\n",
    "\n",
    "for s in range(1, 65):\n",
    "    if f(s):\n",
    "        print(s)\n",
    "        break\n",
    "    \n",
    "# https://inf-ege.sdamgia.ru/problem?id=27840"
   ]
  },
  {
   "cell_type": "code",
   "execution_count": 1,
   "metadata": {},
   "outputs": [
    {
     "name": "stdout",
     "output_type": "stream",
     "text": [
      "41\n",
      "44\n"
     ]
    }
   ],
   "source": [
    "import math\n",
    "def game(heap, stop, step): # 0П 1В 2П 3В \n",
    "    if step in (2, 4) and sum(heap) <= stop: return True\n",
    "    elif (step == 4 and sum(heap) > stop) or (step < 4 and sum(heap) <= stop): return False\n",
    "    if step % 2 != 0:\n",
    "        return game([heap[0]-1, heap[1]], stop, step+1)\\\n",
    "            or game([heap[0], heap[1]-1], stop, step+1)\\\n",
    "                or game([math.ceil(heap[0] / 2), heap[1]], stop, step+1)\\\n",
    "                    or game([heap[0], math.ceil(heap[1] / 2)], stop, step+1)\n",
    "\n",
    "    else:\n",
    "        return game([heap[0]-1, heap[1]], stop, step+1)\\\n",
    "            and game([heap[0], heap[1]-1], stop, step+1)\\\n",
    "                and game([math.ceil(heap[0] / 2), heap[1]], stop, step+1)\\\n",
    "                    and game([heap[0], math.ceil(heap[1] / 2)], stop, step+1)\n",
    "\n",
    "\n",
    "\n",
    "for h in range(21, 100):\n",
    "    if game([20, h], 40, 0):\n",
    "        print(h)\n",
    "        \n",
    "# https://inf-ege.sdamgia.ru/problem?id=27779"
   ]
  },
  {
   "cell_type": "code",
   "execution_count": 2,
   "metadata": {},
   "outputs": [
    {
     "name": "stdout",
     "output_type": "stream",
     "text": [
      "21\n",
      "24\n"
     ]
    }
   ],
   "source": [
    "def f(start, stop, step):\n",
    "    if start >= stop and step in (2, 4): return True\n",
    "    elif start < stop and step == 4: return False\n",
    "    elif start >= stop and step not in (2, 4): return False\n",
    "    if step % 2 == 0:\n",
    "        return f(start+1, stop, step+1) and f(start+2, stop, step+1) and f(start*3, stop, step+1)\n",
    "    else:\n",
    "        return f(start+1, stop, step+1) or f(start+2, stop, step+1) or f(start*3, stop, step+1)\n",
    "\n",
    "\n",
    "for s in range(1, 74):\n",
    "    if f(s, 74, 0):\n",
    "        print(s)"
   ]
  },
  {
   "cell_type": "code",
   "execution_count": 3,
   "metadata": {},
   "outputs": [
    {
     "name": "stdout",
     "output_type": "stream",
     "text": [
      "13\n"
     ]
    }
   ],
   "source": [
    "def f(heap, stop, step):\n",
    "    if sum(heap) >= stop and step in (2, 4): return True\n",
    "    if sum(heap) < stop and step == 4: return False\n",
    "    if sum(heap) >= stop: return False\n",
    "    if step % 2 != 0:\n",
    "        return f([heap[0]+1, heap[1]], stop, step+1) or\\\n",
    "                f([heap[0]*3, heap[1]], stop, step+1) or\\\n",
    "                f([heap[0], heap[1]+1], stop, step+1) or\\\n",
    "                f([heap[0], heap[1]*3], stop, step+1)\n",
    "    else:\n",
    "        return f([heap[0]+1, heap[1]], stop, step+1) and\\\n",
    "            f([heap[0]*3, heap[1]], stop, step+1) and\\\n",
    "            f([heap[0], heap[1]+1], stop, step+1) and\\\n",
    "            f([heap[0], heap[1]*3], stop, step+1)\n",
    "    \n",
    "for s in range(1, 43):\n",
    "    if f([5, s], 49, 0):\n",
    "        print(s)\n",
    "        "
   ]
  },
  {
   "cell_type": "code",
   "execution_count": 7,
   "metadata": {},
   "outputs": [
    {
     "name": "stdout",
     "output_type": "stream",
     "text": [
      "8\n",
      "11\n",
      "13\n"
     ]
    }
   ],
   "source": [
    "def f(start, stop, step):\n",
    "    if start >= stop and step in (2, 4): return True\n",
    "    if start < stop and step == 4: return False\n",
    "    if start >= stop: return False\n",
    "    if step % 2 != 0:\n",
    "        return f(start+1, stop, step+1) or f(start+4, stop, step+1) or f(start*5, stop, step+1)\n",
    "    else:\n",
    "        return f(start+1, stop, step+1) and f(start+4, stop, step+1) and f(start*5, stop, step+1)\n",
    "    \n",
    "for s in range(1, 67):\n",
    "    if f(s, 68, 0):\n",
    "        print(s)"
   ]
  },
  {
   "cell_type": "markdown",
   "metadata": {},
   "source": [
    "0 1 2 3 4\n",
    "p p v p v\n",
    "  v p v p"
   ]
  },
  {
   "cell_type": "code",
   "execution_count": 11,
   "metadata": {},
   "outputs": [
    {
     "name": "stdout",
     "output_type": "stream",
     "text": [
      "23\n",
      "25\n"
     ]
    }
   ],
   "source": [
    "def f(heap, stop, step): #0p 1v 2p 3v 4p\n",
    "    if sum(heap) >= stop and step in (2, 4): return True\n",
    "    if sum(heap) < stop and step == 4: return False\n",
    "    if sum(heap) >= stop: return False\n",
    "    if step % 2 == 0:\n",
    "        return f([heap[0]+1, heap[1]], stop, step+1) and \\\n",
    "            f([heap[0]*2, heap[1]], stop, step+1) and \\\n",
    "            f([heap[0], heap[1]+1], stop, step+1) and \\\n",
    "            f([heap[0], heap[1]*2], stop, step+1)\n",
    "    else:\n",
    "        return f([heap[0]+1, heap[1]], stop, step+1) or \\\n",
    "        f([heap[0]*2, heap[1]], stop, step+1) or \\\n",
    "        f([heap[0], heap[1]+1], stop, step+1) or \\\n",
    "        f([heap[0], heap[1]*2], stop, step+1)\n",
    "        \n",
    "\n",
    "for s in range(1, 53):\n",
    "    if f([5, s], 59, 0):\n",
    "        print(s)\n",
    "        "
   ]
  },
  {
   "cell_type": "code",
   "execution_count": 1,
   "metadata": {},
   "outputs": [
    {
     "name": "stdout",
     "output_type": "stream",
     "text": [
      "20\n"
     ]
    }
   ],
   "source": [
    "def f(heap, stop, step): #0p 1v 2p 3v 4p\n",
    "    if sum(heap) >= stop and step in (2, 4): return True\n",
    "    if sum(heap) < stop and step == 4: return False\n",
    "    if sum(heap) >= stop: return False\n",
    "    if step % 2 == 0:\n",
    "        return f([heap[0]+1, heap[1]], stop, step+1) and \\\n",
    "            f([heap[0]*4, heap[1]], stop, step+1) and \\\n",
    "            f([heap[0], heap[1]+1], stop, step+1) and \\\n",
    "            f([heap[0], heap[1]*4], stop, step+1)\n",
    "    else:\n",
    "        return f([heap[0]+1, heap[1]], stop, step+1) or \\\n",
    "        f([heap[0]*4, heap[1]], stop, step+1) or \\\n",
    "        f([heap[0], heap[1]+1], stop, step+1) or \\\n",
    "        f([heap[0], heap[1]*4], stop, step+1)\n",
    "        \n",
    "\n",
    "for s in range(1, 85):\n",
    "    if f([5, s], 91, 0):\n",
    "        print(s)"
   ]
  },
  {
   "cell_type": "code",
   "execution_count": null,
   "metadata": {},
   "outputs": [],
   "source": [
    "def f(heap, stop, step, kucha): #0p 1v 2p \n",
    "    if heap[0]*heap[1] >= stop and step == 4: return True\n",
    "    if heap[0]*heap[1] < stop and step == 4: return False\n",
    "    if '111' in kucha or '222' in kucha: return False\n",
    "    if heap[0]*heap[1] >= stop: return False\n",
    "    if step % 2 != 0:\n",
    "        print(kucha, 'v')\n",
    "        return f([heap[0]+1, heap[1]], stop, step+1, kucha+'1') or\\\n",
    "                f([heap[0]+5, heap[1]], stop, step+1, kucha+'1') or\\\n",
    "                f([heap[0]*2, heap[1]], stop, step+1, kucha+'1') or\\\n",
    "                f([heap[0], heap[1]+1], stop, step+1, kucha+'2') or\\\n",
    "                f([heap[0], heap[1]*2], stop, step+1, kucha+'2') or\\\n",
    "                f([heap[0], heap[1]+5], stop, step+1, kucha+'2')\n",
    "    else:\n",
    "        print(kucha, 'p')\n",
    "        return f([heap[0]+1, heap[1]], stop, step+1, kucha+'1') and\\\n",
    "                f([heap[0]+5, heap[1]], stop, step+1, kucha+'1') and\\\n",
    "                f([heap[0]*2, heap[1]], stop, step+1, kucha+'1') and\\\n",
    "                f([heap[0], heap[1]+1], stop, step+1, kucha+'2') and\\\n",
    "                f([heap[0], heap[1]*2], stop, step+1, kucha+'2') and\\\n",
    "                f([heap[0], heap[1]+5], stop, step+1, kucha+'2')\n",
    "                \n",
    "         \n",
    "for s in range(1, 52):\n",
    "    if f([10, s], 512, 0, ''):\n",
    "        print(s)\n",
    "        \n",
    "        "
   ]
  },
  {
   "cell_type": "code",
   "execution_count": null,
   "metadata": {},
   "outputs": [],
   "source": [
    "def game(start, stop, step):\n",
    "    if start >= stop and step in (2, 4):\n",
    "        return True\n",
    "    elif start < stop and step == 4:\n",
    "        return False\n",
    "    elif start >= stop:\n",
    "        return False\n",
    "    if step % 2 == 0:\n",
    "        return game(start+1, stop, step+1)\\\n",
    "                and game(start+2, stop, step+1)\\\n",
    "                    and game(start*2, stop, step+1)\n",
    "    else:\n",
    "        return game(start+1, stop, step+1)\\\n",
    "                or game(start+2, stop, step+1)\\\n",
    "                    or game(start*2, stop, step+1)\n",
    "                \n",
    "                \n",
    "for s in range(1, 44):\n",
    "    if game(s, 44, 0):\n",
    "        print(s)"
   ]
  },
  {
   "cell_type": "code",
   "execution_count": 1,
   "metadata": {},
   "outputs": [
    {
     "name": "stdout",
     "output_type": "stream",
     "text": [
      "20\n",
      "23\n",
      "25\n"
     ]
    }
   ],
   "source": [
    "def game(start, stop, step):\n",
    "    if start >= stop and step in (2, 4): return True\n",
    "    elif start < stop and step == 4: return False\n",
    "    elif start >= stop: return False\n",
    "    if step % 2 != 0:\n",
    "        return game(start+1, stop, step+1) or game(start+4, stop, step+1) or game(start*2, stop, step+1)\n",
    "    else:\n",
    "        return game(start+1, stop, step+1) and game(start+4, stop, step+1) and game(start*2, stop, step+1)\n",
    "for s in range(1, 52):\n",
    "    if game(s, 52, 0):\n",
    "        print(s)"
   ]
  }
 ],
 "metadata": {
  "kernelspec": {
   "display_name": "venv",
   "language": "python",
   "name": "python3"
  },
  "language_info": {
   "codemirror_mode": {
    "name": "ipython",
    "version": 3
   },
   "file_extension": ".py",
   "mimetype": "text/x-python",
   "name": "python",
   "nbconvert_exporter": "python",
   "pygments_lexer": "ipython3",
   "version": "3.11.4"
  }
 },
 "nbformat": 4,
 "nbformat_minor": 2
}
