{
 "cells": [
  {
   "cell_type": "code",
   "execution_count": null,
   "metadata": {},
   "outputs": [],
   "source": [
    "def f(start, stop, steps):\n",
    "    if start >= stop and steps==1: return True\n",
    "    if start < stop and steps==1: return False\n",
    "    return f(start+1, stop, steps+1)\\\n",
    "        and f(start+2, stop, steps+1)\\\n",
    "            and f(start+3, stop, steps+1)\\\n",
    "                and f(start*2, stop, steps+1)\n",
    "\n",
    "for i in range(1, 33):\n",
    "    print(f(i, 33, 0), i)\n",
    "\n",
    "#  ответ на 1 меньше (ну или на число сложения)"
   ]
  },
  {
   "cell_type": "code",
   "execution_count": null,
   "metadata": {},
   "outputs": [],
   "source": [
    "def f(start, stop, steps):\n",
    "    if start >= stop and steps == 1: return True\n",
    "    if start < stop and steps == 1: return False\n",
    "    return f(start+1, stop, steps+1)\\\n",
    "        and f(start*2, stop, steps+1)\\\n",
    "            and f(start*3, stop, steps+1)\n",
    "\n",
    "for i in range(1, 36):\n",
    "    print(f(i, 36, 0), i)"
   ]
  },
  {
   "cell_type": "code",
   "execution_count": null,
   "metadata": {},
   "outputs": [],
   "source": [
    "def game(heap, stop: int, counter: int):\n",
    "    if sum(heap) >= stop and counter == 1: return True\n",
    "    if sum(heap) < stop and counter == 1: return False\n",
    "    return game([heap[0], heap[1]+1], stop, counter+1) or game([heap[0], heap[1]*2], stop, counter+1) or game([heap[0]+1, heap[1]], stop, counter+1) or game([heap[0], heap[1]], stop, counter+1)\n",
    "        \n",
    "for s in range(1, 53):\n",
    "    print(game([5, s], 59, 0), s)\n",
    "    \n",
    "    \n",
    "# WORKING SHIT :)"
   ]
  },
  {
   "cell_type": "code",
   "execution_count": null,
   "metadata": {},
   "outputs": [],
   "source": [
    "def game(heap, stop, counter):\n",
    "    if sum(heap) >= stop and counter == 2: return True\n",
    "    if sum(heap) < stop and counter == 2: return False\n",
    "    return game([heap[0]+1 , heap[1]], stop, counter+1) or\\\n",
    "        game([heap[0]*2, heap[1]], stop, counter+1) or\\\n",
    "            game([heap[0], heap[1]+1], stop, counter+1) or\\\n",
    "                game([heap[0], heap[1]*2], stop, counter+1)\n",
    "                \n",
    "for s in range(1, 70):\n",
    "    print(game([7, s], 77, 0), s)\n",
    "    "
   ]
  },
  {
   "cell_type": "code",
   "execution_count": null,
   "metadata": {},
   "outputs": [],
   "source": [
    "def game(heap, stop, counter):\n",
    "    if sum(heap) >= stop and counter == 2: return True\n",
    "    if sum(heap) < stop and counter == 2: return False\n",
    "    return game([heap[0]+1, heap[1]], stop, counter+1) or \\\n",
    "        game([heap[0]+heap[1], heap[1]], stop, counter+1) or \\\n",
    "            game([heap[0], heap[1]+1], stop, counter+1) or \\\n",
    "                game([heap[0], heap[1]+heap[0]], stop, counter+1)\n",
    "            \n",
    "    \n",
    "for s in range(1, 59):\n",
    "    print(game([8, s], 68, 0), s)"
   ]
  },
  {
   "cell_type": "code",
   "execution_count": 20,
   "metadata": {},
   "outputs": [
    {
     "name": "stdout",
     "output_type": "stream",
     "text": [
      "721\n"
     ]
    }
   ],
   "source": [
    "def f(start, stop, counter):\n",
    "    if counter == 1 and start >= stop: return True\n",
    "    if counter == 1 and start < stop: return False\n",
    "    return f(start+1, stop, counter+1) or f(start*3, stop, counter+1)\n",
    "\n",
    "for s in range(1, 2162+1):\n",
    "    if f(s, 2163, 0):\n",
    "        print(s)\n",
    "        break"
   ]
  },
  {
   "cell_type": "code",
   "execution_count": 10,
   "metadata": {},
   "outputs": [
    {
     "name": "stdout",
     "output_type": "stream",
     "text": [
      "15\n",
      "20\n",
      "30\n"
     ]
    }
   ],
   "source": [
    "def f(heap, stop, counter):\n",
    "    if counter == 2 and heap[0] * heap[1] >= stop: return True\n",
    "    elif counter == 2 and heap[0] * heap[1] < stop: return False\n",
    "    elif heap[0] * heap[1] >= stop: return False\n",
    "    elif counter % 2 == 0:        \n",
    "        return f([heap[0] + 1, heap[1]], stop, counter+1)\\\n",
    "            or f([heap[0]*2, heap[1]], stop, counter + 1)\\\n",
    "                or f([heap[0], heap[1]+1], stop, counter+1)\\\n",
    "                    or f([heap[0], heap[1]*2], stop, counter+1)\n",
    "    else:\n",
    "        return f([heap[0] + 1, heap[1]], stop, counter+1)\\\n",
    "            and f([heap[0]*2, heap[1]], stop, counter + 1)\\\n",
    "                and f([heap[0], heap[1]+1], stop, counter+1)\\\n",
    "                    and f([heap[0], heap[1]*2], stop, counter+1)\n",
    "        \n",
    "    \n",
    "\n",
    "for s in range(1, 32):\n",
    "    if f([s, 2], 63, 0):\n",
    "        print(s)\n"
   ]
  },
  {
   "cell_type": "code",
   "execution_count": 10,
   "metadata": {},
   "outputs": [
    {
     "name": "stdout",
     "output_type": "stream",
     "text": [
      "64\n"
     ]
    }
   ],
   "source": [
    "def f(start, stop, steps):\n",
    "    if start >= stop and steps == 2: return True\n",
    "    elif start >= stop: return False\n",
    "    elif steps % 2 != 0:\n",
    "        return f(start+1, stop, steps+1) or f(start*2, stop, steps+1) \n",
    "    else: \n",
    "        return f(start+1, stop, steps+1) and f(start*2, stop, steps+1) \n",
    "    \n",
    "for s in range(1, 129):\n",
    "    if f(s, 129, 0):\n",
    "        print(s)"
   ]
  },
  {
   "cell_type": "code",
   "execution_count": null,
   "metadata": {},
   "outputs": [],
   "source": [
    "def f(heap, stop, steps):\n",
    "    if (sum(heap) >= stop) and (steps == 2): return True\n",
    "    elif (sum(heap) >= stop) or (steps > 2): return False\n",
    "    if steps % 2 == 0:\n",
    "        return f([heap[0]+1, heap[1]], stop, steps+1)\\\n",
    "            or f([heap[0]*2, heap[1]], stop, steps+1)\\\n",
    "                or f([heap[0], heap[1]+1], stop, steps+1)\\\n",
    "                    or f([heap[0], heap[1]*2], stop, steps+1)\n",
    "    else:\n",
    "        return f([heap[0]+1, heap[1]], stop, steps+1)\\\n",
    "            or f([heap[0]*2, heap[1]], stop, steps+1)\\\n",
    "                or f([heap[0], heap[1]+1], stop, steps+1)\\\n",
    "                    or f([heap[0], heap[1]*2], stop, steps+1)\n",
    "    \n",
    "    \n",
    "for s in range(1, 70):\n",
    "    if f([s, 7], 77, 0):\n",
    "        print(s)\n"
   ]
  },
  {
   "cell_type": "code",
   "execution_count": 12,
   "metadata": {},
   "outputs": [
    {
     "name": "stdout",
     "output_type": "stream",
     "text": [
      "54\n",
      "56\n",
      "58\n",
      "60\n",
      "62\n",
      "64\n",
      "66\n",
      "68\n",
      "70\n"
     ]
    }
   ],
   "source": [
    "def f(start, stop, step):\n",
    "    if start >= stop and step == 2: return True\n",
    "    if start < stop and step == 2: return False\n",
    "    if start >= stop: return False\n",
    "    if step % 2 != 0:  \n",
    "        return f(start+1, stop, step+1) or f(start*2 if start%2!=0 else start*1.5, stop, step+1)\n",
    "    else:\n",
    "        return f(start+1, stop, step+1) and f(start*2 if start%2!=0 else start*1.5, stop, step+1)\n",
    "    \n",
    "for s in range(1, 108):\n",
    "    if f(s, 108, 0):\n",
    "        print(s)"
   ]
  },
  {
   "cell_type": "code",
   "execution_count": null,
   "metadata": {},
   "outputs": [],
   "source": [
    "def game(start, stop, step):\n",
    "    if start >= stop and step == 2: return True\n",
    "    if start < stop and step == 2: return False \n",
    "    if start >= stop: return False\n",
    "    if step % 2 == 0:\n",
    "        return game(start+1, stop, step+1) or game(start+2, stop, step+1) or game(start*3, stop, step+1)\n",
    "    else:\n",
    "        return game(start+1, stop, step+1) or game(start+2, stop, step+1) or game(start*3, stop, step+1)\n",
    "\n",
    "\n",
    "for s in range(1, 65):\n",
    "    if game(s, 64, 0):\n",
    "        print(s)\n",
    "        \n",
    "        \n",
    "# https://inf-ege.sdamgia.ru/problem?id=27840   "
   ]
  },
  {
   "cell_type": "code",
   "execution_count": null,
   "metadata": {},
   "outputs": [],
   "source": [
    "import math\n",
    "\n",
    "def game(heap, stop, step):\n",
    "    if sum(heap) <= stop and step == 2: return True\n",
    "    if sum(heap) > stop and step == 2: return False\n",
    "    if sum(heap) <= stop: return False\n",
    "    return game([heap[0]-1, heap[1]], stop, step+1)\\\n",
    "        or game([heap[0], heap[1]-1], stop, step+1)\\\n",
    "            or game([math.ceil(heap[0] / 2), heap[1]], stop, step+1)\\\n",
    "                or game([heap[0], math.ceil(heap[1] / 2)], stop, step+1)\n",
    "\n",
    "for h in range(21, 100):\n",
    "    if game([20, h], 40, 0):\n",
    "        print(h)\n",
    "\n",
    "# https://inf-ege.sdamgia.ru/problem?id=27778"
   ]
  },
  {
   "cell_type": "code",
   "execution_count": 1,
   "metadata": {},
   "outputs": [
    {
     "name": "stdout",
     "output_type": "stream",
     "text": [
      "3\n"
     ]
    }
   ],
   "source": [
    "def f(start, stop, step):\n",
    "    # 0p 1v 2p\n",
    "    if start >= stop and step == 2: return True\n",
    "    if start < stop and step == 2: return False\n",
    "    if start >= stop: return False\n",
    "    if step % 2 != 0:\n",
    "        return f(start+1, stop, step+1) or f(start+4, stop, step+1) or f(start*5, stop, step+1)\n",
    "    else:\n",
    "        return f(start+1, stop, step+1) or f(start+4, stop, step+1) or f(start*5, stop, step+1)\n",
    "    \n",
    "for s in range(1, 68):\n",
    "    if f(s, 68, 0):\n",
    "        print(s)\n",
    "        break"
   ]
  },
  {
   "cell_type": "code",
   "execution_count": 3,
   "metadata": {},
   "outputs": [
    {
     "name": "stdout",
     "output_type": "stream",
     "text": [
      "11\n"
     ]
    }
   ],
   "source": [
    "def f(start, stop, step):\n",
    "    # 0p 1v 2p\n",
    "    if start >= stop and step == 2: return True\n",
    "    if start < stop and step == 2: return False\n",
    "    if start >= stop: return False\n",
    "    if step % 2 != 0:\n",
    "        return f(start+1, stop, step+1) or f(start+3, stop, step+1) or f(start*2, stop, step+1)\n",
    "    else:\n",
    "        return f(start+1, stop, step+1) or f(start+3, stop, step+1) or f(start*2, stop, step+1)\n",
    "    \n",
    "for s in range(1, 42):\n",
    "    if f(s, 42, 0):\n",
    "        print(s)    \n",
    "        break"
   ]
  },
  {
   "cell_type": "code",
   "execution_count": 5,
   "metadata": {},
   "outputs": [
    {
     "name": "stdout",
     "output_type": "stream",
     "text": [
      "14\n"
     ]
    }
   ],
   "source": [
    "def f(start, stop, step):\n",
    "    # 0p 1v 2p\n",
    "    if start >= stop and step == 2: return True\n",
    "    if start < stop and step == 2: return False\n",
    "    if start >= stop: return False\n",
    "    if step % 2 != 0:\n",
    "        return f(start+1, stop, step+1) or f(start+2, stop, step+1) or f(start*2, stop, step+1)\n",
    "    else:\n",
    "        return f(start+1, stop, step+1) or f(start+2, stop, step+1) or f(start*2, stop, step+1)\n",
    "    \n",
    "for s in range(1, 55):\n",
    "    if f(s, 55, 0):\n",
    "        print(s)    \n",
    "        break"
   ]
  },
  {
   "cell_type": "code",
   "execution_count": null,
   "metadata": {},
   "outputs": [],
   "source": [
    "def f(start, stop, step):\n",
    "    # 0p 1v 2p\n",
    "    if start >= stop and step==2: return True\n",
    "    if start < stop and step==2: return False\n",
    "    if start >= stop: return False\n",
    "    return f(start+1, stop, step+1) or f(start+2, stop, step+1) or f(start*3, stop, step+1)\n",
    "\n",
    "for s in range(1, 74):\n",
    "    if f(s, 74, 0):\n",
    "        print(s)"
   ]
  },
  {
   "cell_type": "code",
   "execution_count": null,
   "metadata": {},
   "outputs": [],
   "source": [
    "def f(start, stop, step):\n",
    "    if start >= stop and step==2: return True\n",
    "    if start < stop and step==2: return False\n",
    "    if start >= stop: return False\n",
    "    return f(start+1, stop, step+1) or f(start+3, stop, step+1) or f(start*2, stop, step+1)\n",
    "\n",
    "for s in range(1, 49):\n",
    "    if f(s, 50, 0):\n",
    "        print(s)"
   ]
  },
  {
   "cell_type": "code",
   "execution_count": null,
   "metadata": {},
   "outputs": [],
   "source": [
    "def f(start, stop, step):\n",
    "    if start >= stop and step==2: return True\n",
    "    if start < stop and step==2: return False\n",
    "    if start >= stop: return False\n",
    "    return f(start+1, stop, step+1) or f(start+3, stop, step+1) or f(start*2, stop, step+1)\n"
   ]
  },
  {
   "cell_type": "code",
   "execution_count": null,
   "metadata": {},
   "outputs": [],
   "source": [
    "def f(heap, stop, step):\n",
    "    if sum(heap) >= stop and step==2: return True\n",
    "    if sum(heap) < stop and step == 2: return False\n",
    "    if sum(heap) >= stop: return False\n",
    "    return f([heap[0]+1, heap[1]], stop, step+1)\\\n",
    "        or f([heap[0], heap[0]+1], stop, step+1)\\\n",
    "        or f([heap[0]*2, heap[1]], stop, step+1)\\\n",
    "        or f([heap[0], heap[1]*2], stop, step+1)\n",
    "    \n",
    "    \n",
    "for s in range(1, 69):\n",
    "    if f([7, s], 77, 0):\n",
    "        print(s)"
   ]
  },
  {
   "cell_type": "code",
   "execution_count": 11,
   "metadata": {},
   "outputs": [
    {
     "data": {
      "text/plain": [
       "27"
      ]
     },
     "execution_count": 11,
     "metadata": {},
     "output_type": "execute_result"
    }
   ],
   "source": [
    "def f(heap, stop, step):\n",
    "    if sum(heap) >= stop and step==1: return True\n",
    "    if sum(heap) < stop and step == 1: return False\n",
    "    if sum(heap) >= stop: return False\n",
    "    return f([min(heap)+min(heap), max(heap)], stop, step+1)\\\n",
    "\n",
    "\n",
    "\n",
    "b = []\n",
    "    \n",
    "for s in range(1, 39):\n",
    "    for s1 in range(1, 39):\n",
    "        if f([s, s1], 40, 0):\n",
    "            b.append(sum([s1, s]))\n",
    "min(b)"
   ]
  },
  {
   "cell_type": "code",
   "execution_count": 3,
   "metadata": {},
   "outputs": [
    {
     "data": {
      "text/plain": [
       "46"
      ]
     },
     "execution_count": 3,
     "metadata": {},
     "output_type": "execute_result"
    }
   ],
   "source": [
    "def f(heap, stop, step):\n",
    "    if max(heap) >= stop and step==1: return True\n",
    "    if max(heap) < stop and step == 1: return False\n",
    "    if max(heap) >= stop: return False\n",
    "    return f([min(heap)*2, max(heap)], stop, step+1)\\\n",
    "        or f([min(heap), max(heap)+1], stop, step+1)\\\n",
    "            or f([min(heap), max(heap)+2], stop, step+1)\\\n",
    "                or f([min(heap), max(heap)+3], stop, step+1)\n",
    "\n",
    "\n",
    "\n",
    "b = []\n",
    "    \n",
    "for s in range(1, 48):\n",
    "    for s1 in range(1, 48):\n",
    "        if f([s, s1], 48, 0):\n",
    "            b.append(sum([s1, s]))\n",
    "min(b)"
   ]
  },
  {
   "cell_type": "code",
   "execution_count": 18,
   "metadata": {},
   "outputs": [
    {
     "name": "stdout",
     "output_type": "stream",
     "text": [
      "26\n",
      "41\n",
      "42\n",
      "43\n"
     ]
    }
   ],
   "source": [
    "def f(heap, stop, step):\n",
    "    if max(heap) >= stop and step==3: return True\n",
    "    if max(heap) < stop and step==3: return False\n",
    "    if max(heap) >= stop: return False\n",
    "    if step % 2 == 0:\n",
    "        if len(set(heap)) != len(heap):\n",
    "                return f([heap[0]+1, heap[1]], stop, step+1)\\\n",
    "                    or f([heap[0]+2, heap[1]], stop, step+1)\\\n",
    "                    or f([heap[0]+3, heap[1]], stop, step+1)\\\n",
    "                    or f([heap[0], heap[1]+1], stop, step+1)\\\n",
    "                    or f([heap[0], heap[1]+2], stop, step+1)\\\n",
    "                    or f([heap[0], heap[1]+3], stop, step+1)\n",
    "        else:\n",
    "            return f([min(heap)*2, max(heap)], stop, step+1)\\\n",
    "                or f([min(heap), max(heap)+1], stop, step+1)\\\n",
    "                or f([min(heap), max(heap)+2], stop, step+1)\\\n",
    "                or f([min(heap), max(heap)+3], stop, step+1)\n",
    "    else:\n",
    "        if len(set(heap)) != len(heap):\n",
    "                return f([heap[0]+1, heap[1]], stop, step+1)\\\n",
    "                    and f([heap[0]+2, heap[1]], stop, step+1)\\\n",
    "                    and f([heap[0]+3, heap[1]], stop, step+1)\\\n",
    "                    and f([heap[0], heap[1]+1], stop, step+1)\\\n",
    "                    and f([heap[0], heap[1]+2], stop, step+1)\\\n",
    "                    and f([heap[0], heap[1]+3], stop, step+1)\n",
    "        else:\n",
    "            return f([min(heap)*2, max(heap)], stop, step+1)\\\n",
    "                and f([min(heap), max(heap)+1], stop, step+1)\\\n",
    "                and f([min(heap), max(heap)+2], stop, step+1)\\\n",
    "                and f([min(heap), max(heap)+3], stop, step+1)\n",
    "\n",
    "\n",
    "    \n",
    "for s in range(1, 48):\n",
    "    if f([13, s], 48, 0):\n",
    "        print(s)"
   ]
  },
  {
   "cell_type": "code",
   "execution_count": null,
   "metadata": {},
   "outputs": [],
   "source": [
    "def f(heap, stop, step):\n",
    "    if sum(heap) >= stop and step == 2: return True\n",
    "    if sum(heap) < stop and step == 2: return False\n",
    "    if sum(heap) >= stop: return False\n",
    "    return f([heap[0]+1, heap[1]], stop, step+1) or\\\n",
    "            f([heap[0]*3, heap[1]], stop, step+1) or\\\n",
    "            f([heap[0], heap[1]+1], stop, step+1) or\\\n",
    "            f([heap[0], heap[1]*3], stop, step+1)\n",
    "                \n",
    "for s in range(1, 43):\n",
    "    if f([5, s], 49, 0):\n",
    "        print(s)\n",
    "        \n",
    "        \n",
    "        # 0p 1v 2p"
   ]
  },
  {
   "cell_type": "code",
   "execution_count": null,
   "metadata": {},
   "outputs": [],
   "source": [
    "def f(start, stop, step):\n",
    "    if start >= stop and step == 2: return True\n",
    "    if start < stop and step == 2: return False\n",
    "    if start >= stop: return False\n",
    "    return f(start+1, stop, step+1) or f(start+4, stop, step+1) or f(start*5, stop, step+1)\n",
    "\n",
    "for s in range(1, 67):\n",
    "    if f(s, 68, 0):\n",
    "        print(s)"
   ]
  },
  {
   "cell_type": "code",
   "execution_count": 8,
   "metadata": {},
   "outputs": [
    {
     "data": {
      "text/plain": [
       "32"
      ]
     },
     "execution_count": 8,
     "metadata": {},
     "output_type": "execute_result"
    }
   ],
   "source": [
    "def f(heap, stop, step):\n",
    "    if heap[0]*heap[1] >= stop and step == 2: return True\n",
    "    if heap[0]*heap[1] < stop and step == 2: return False\n",
    "    if heap[0]*heap[1] >= stop: return False\n",
    "    if step % 2 != 0:\n",
    "        return f([heap[0]+1, heap[1]], stop, step+1) or\\\n",
    "                f([heap[0]+5, heap[1]], stop, step+1) or\\\n",
    "                f([heap[0]*2, heap[1]], stop, step+1) or\\\n",
    "                f([heap[0], heap[1]+1], stop, step+1) or\\\n",
    "                f([heap[0], heap[1]*2], stop, step+1) or\\\n",
    "                f([heap[0], heap[1]+5], stop, step+1)\n",
    "    else:\n",
    "        return f([heap[0]+1, heap[1]], stop, step+1) and\\\n",
    "                f([heap[0]+5, heap[1]], stop, step+1) and\\\n",
    "                f([heap[0]*2, heap[1]], stop, step+1) and\\\n",
    "                f([heap[0], heap[1]+1], stop, step+1) and\\\n",
    "                f([heap[0], heap[1]*2], stop, step+1) and\\\n",
    "                f([heap[0], heap[1]+5], stop, step+1)\n",
    "                \n",
    "                \n",
    "sums = []\n",
    "for s in range(1, 1000):\n",
    "    for s1 in range(1, 1000):\n",
    "        if f([s, s1], 512, 0):\n",
    "            sums.append(sum([s1, s]))\n",
    "            \n",
    "min(sums)\n",
    "        "
   ]
  },
  {
   "cell_type": "code",
   "execution_count": 3,
   "metadata": {},
   "outputs": [
    {
     "name": "stdout",
     "output_type": "stream",
     "text": [
      "23\n"
     ]
    }
   ],
   "source": [
    "def game(start, stop, step):\n",
    "    # 0p 1v 2p - ходы\n",
    "    # -  p  v - проверки\n",
    "    if start >= stop and step == 2: return True\n",
    "    elif start < stop and step == 2: return False\n",
    "    elif start >= stop: return False\n",
    "    \n",
    "    if step % 2 == 0:\n",
    "        return game(start+1, stop, step+1) and game(start+2, stop, step+1) and game(start*2, stop, step+1)\n",
    "    else:\n",
    "        return game(start+1, stop, step+1) or game(start+2, stop, step+1) or game(start*2, stop, step+1)\n",
    "    \n",
    "for s in range(1, 47):\n",
    "    if game(s, 47, 0):\n",
    "        print(s)\n",
    "        \n"
   ]
  },
  {
   "cell_type": "code",
   "execution_count": null,
   "metadata": {},
   "outputs": [],
   "source": [
    "def game(start, stop, step):\n",
    "    if start >= stop and step == 2:\n",
    "        return True\n",
    "    elif start < stop and step == 2:\n",
    "        return False\n",
    "    elif start >= stop:\n",
    "        return False\n",
    "    \n",
    "    return game(start+1, stop, step+1)\\\n",
    "            or game(start+2, stop, step+1)\\\n",
    "                or game(start*2, stop, step+1)\n",
    "                \n",
    "for s in range(1, 44):\n",
    "    if game(s, 44, 0):\n",
    "        print(s)"
   ]
  },
  {
   "cell_type": "code",
   "execution_count": null,
   "metadata": {},
   "outputs": [],
   "source": [
    "def game(start, stop, step):\n",
    "    if start >= stop and step == 2: return True\n",
    "    elif start < stop and step == 2: return False\n",
    "    elif start >= stop: return False\n",
    "    return game(start+1, stop, step+1) or game(start+4, stop, step+1) or game(start*2, stop, step+1)\n",
    "\n",
    "\n",
    "for s in range(1, 52):\n",
    "    if game(s, 52, 0):\n",
    "        print(s)"
   ]
  },
  {
   "cell_type": "code",
   "execution_count": null,
   "metadata": {},
   "outputs": [],
   "source": [
    "def game(start, stop, step):\n",
    "    if start >= stop and step == 2: return True\n",
    "    elif start < stop and step == 2: return False\n",
    "    elif start >= stop: return False\n",
    "    else:\n",
    "        return game(start+1, stop, step+1)\\\n",
    "            or game(start+5, stop, step+1)\\\n",
    "            or game(start*3, stop, step+1)\n",
    "\n",
    "\n",
    "for s in range(1, 42):\n",
    "    if game(s, 42, 0):\n",
    "        print(s)\n",
    "    "
   ]
  },
  {
   "cell_type": "code",
   "execution_count": 1,
   "metadata": {},
   "outputs": [
    {
     "name": "stdout",
     "output_type": "stream",
     "text": [
      "15\n"
     ]
    }
   ],
   "source": [
    "def game(start, stop, step):\n",
    "    if start >= stop and step == 2: return True\n",
    "    if start < stop and step == 2: return False\n",
    "    if start >= stop: return False\n",
    "    if step % 2 == 0:\n",
    "        return game(start+1, stop, step+1) and game(start*3, stop, step+1)\n",
    "    else:\n",
    "        return game(start+1, stop, step+1) or game(start*3, stop, step+1)\n",
    "    \n",
    "    \n",
    "for s in range(1, 45):\n",
    "    if game(s, 46, 0):\n",
    "        print(s)"
   ]
  },
  {
   "cell_type": "code",
   "execution_count": null,
   "metadata": {},
   "outputs": [],
   "source": [
    "def game(heap, stop, step):\n",
    "    if sum(heap) >= stop and step == 2: return True\n",
    "    elif sum(heap) < stop and step == 2: return False\n",
    "    elif sum(heap) >= stop: return False\n",
    "    \n",
    "    return game([heap[0]+1, heap[1]], stop, step+1) or \\\n",
    "        game([heap[0]*2, heap[1]], stop, step+1) or \\\n",
    "            game([heap[0], heap[1]+1], stop, step+1) or \\\n",
    "                game([heap[0], heap[1]*2], stop, step+1)\n",
    "                \n",
    "                \n",
    "for s in range(1, 214):\n",
    "    if game([17, s] , 231, 0):\n",
    "        print(s)"
   ]
  },
  {
   "cell_type": "code",
   "execution_count": 3,
   "metadata": {},
   "outputs": [
    {
     "data": {
      "text/plain": [
       "229"
      ]
     },
     "execution_count": 3,
     "metadata": {},
     "output_type": "execute_result"
    }
   ],
   "source": [
    "53 * 2 * 2 + 17"
   ]
  },
  {
   "cell_type": "code",
   "execution_count": 15,
   "metadata": {},
   "outputs": [
    {
     "name": "stdout",
     "output_type": "stream",
     "text": [
      "50\n",
      "51\n",
      "54\n",
      "57\n",
      "60\n",
      "63\n",
      "66\n",
      "69\n",
      "72\n",
      "75\n",
      "78\n",
      "81\n",
      "84\n",
      "87\n",
      "90\n",
      "93\n",
      "96\n",
      "99\n"
     ]
    }
   ],
   "source": [
    "def game(start, stop, step):\n",
    "    if start >= stop and step == 2: return True\n",
    "    elif start < stop and step == 2: return False\n",
    "    elif start > stop: return False\n",
    "    \n",
    "    moves = []\n",
    "\n",
    "    if (start+1) % 3 != 0:\n",
    "        moves.append(game(start+1, stop, step+1))\n",
    "    \n",
    "    if (start+2) % 3 != 0:\n",
    "        moves.append(game(start+2, stop, step+1))\n",
    "        \n",
    "    if (start*2) % 3 != 0:\n",
    "        moves.append(game(start*2, stop, step+1))\n",
    "    \n",
    "    \n",
    "    \n",
    "    if step % 2 != 0:\n",
    "        return any(moves)\n",
    "    \n",
    "    else:\n",
    "        return all(moves)\n",
    "\n",
    "    \n",
    "    \n",
    "    \n",
    "for s in range(1, 102):\n",
    "    if game(s, 103, 0):\n",
    "        print(s)\n",
    "            "
   ]
  },
  {
   "cell_type": "code",
   "execution_count": 56,
   "metadata": {},
   "outputs": [
    {
     "name": "stdout",
     "output_type": "stream",
     "text": [
      "21 ----\n"
     ]
    },
    {
     "data": {
      "text/plain": [
       "(16,\n",
       " {'AAAC',\n",
       "  'AABC',\n",
       "  'AACB',\n",
       "  'ABAC',\n",
       "  'ABBC',\n",
       "  'ABCB',\n",
       "  'AC',\n",
       "  'ACAA',\n",
       "  'ACAC',\n",
       "  'ACBC',\n",
       "  'ACCB',\n",
       "  'BAAC',\n",
       "  'BABC',\n",
       "  'BACB',\n",
       "  'BBAC',\n",
       "  'BBBC',\n",
       "  'BBCB',\n",
       "  'BC',\n",
       "  'BCAA',\n",
       "  'BCAC',\n",
       "  'BCBC',\n",
       "  'BCCB',\n",
       "  'CAAC',\n",
       "  'CABC',\n",
       "  'CACB',\n",
       "  'CB',\n",
       "  'CBAC',\n",
       "  'CBBC',\n",
       "  'CBCB',\n",
       "  'CC',\n",
       "  'CCAA'})"
      ]
     },
     "execution_count": 56,
     "metadata": {},
     "output_type": "execute_result"
    }
   ],
   "source": [
    "moves_s = []\n",
    "\n",
    "def f(heap, stop, step, moves):\n",
    "    \n",
    "    global moves_s\n",
    "    \n",
    "    if sum(heap) >= 109 and step % 2 != 0:\n",
    "        moves_s.append(moves)\n",
    "        return True\n",
    "    \n",
    "    elif sum(heap) >= 109 and step % 2 == 0:\n",
    "        return False\n",
    "    \n",
    "    elif max(heap) >= stop and step in (2, 4):\n",
    "        moves_s.append(moves)\n",
    "        return True\n",
    "    \n",
    "    elif max(heap) < stop and step == 4:\n",
    "        return False\n",
    "    \n",
    "    elif max(heap) >= stop:\n",
    "        return False\n",
    "    \n",
    "    if step % 2 != 0:\n",
    "        return f([heap[0]+1, heap[1]], stop, step+1, moves+'A') or\\\n",
    "            f([heap[0]+2, heap[1]], stop, step+1, moves+'B') or\\\n",
    "                f([heap[0]*2, heap[1]], stop, step+1, moves+'C') or\\\n",
    "                    f([heap[0], heap[1]+1], stop, step+1, moves+'A') or\\\n",
    "                        f([heap[0], heap[1]+2], stop, step+1, moves+'B') or\\\n",
    "                            f([heap[0], heap[1]*2], stop, step+1, moves+'C')\n",
    "    \n",
    "    else:\n",
    "        return f([heap[0]+1, heap[1]], stop, step+1, moves+'A') and\\\n",
    "            f([heap[0]+2, heap[1]], stop, step+1, moves+'B') and\\\n",
    "                f([heap[0]*2, heap[1]], stop, step+1, moves+'C') and\\\n",
    "                    f([heap[0], heap[1]+1], stop, step+1, moves+'A') and\\\n",
    "                        f([heap[0], heap[1]+2], stop, step+1, moves+'B') and\\\n",
    "                            f([heap[0], heap[1]*2], stop, step+1, moves+'C')\n",
    "                            \n",
    "                            \n",
    "for s in range(1, 50):\n",
    "    if f([24, s], 50, 0, ''):\n",
    "        print(s, '----')\n",
    "        break\n",
    "\n",
    "\n",
    "len(set(moves_s))//2+1, set(moves_s)"
   ]
  },
  {
   "cell_type": "code",
   "execution_count": 36,
   "metadata": {},
   "outputs": [
    {
     "name": "stdout",
     "output_type": "stream",
     "text": [
      "12 ---- В\n",
      "22 ---- Б\n",
      "23 ---- А\n",
      "45 ---- Б\n",
      "46 ---- А\n"
     ]
    }
   ],
   "source": [
    "def f(heap, stop, step):\n",
    "    if sum(heap) >= 109 and step % 2 == 0:\n",
    "        return True\n",
    "    elif sum(heap) >= 109 and step % 2 != 0: return False\n",
    "    elif max(heap) >= stop and step == 3:\n",
    "        return True\n",
    "    elif max(heap) < stop and step == 3: return False\n",
    "    elif max(heap) >= stop: return False\n",
    "    \n",
    "    moves = [f([heap[0]+1, heap[1]], stop, step+1),\n",
    "            f([heap[0]+2, heap[1]], stop, step+1),\n",
    "                f([heap[0]*2, heap[1]], stop, step+1),\n",
    "                    f([heap[0], heap[1]+1], stop, step+1),\n",
    "                        f([heap[0], heap[1]+2], stop, step+1),\n",
    "                            f([heap[0], heap[1]*2], stop, step+1)]\n",
    "    \n",
    "    if step == 0:\n",
    "        if f([heap[0] + 1, heap[1]], stop, step + 1) or f([heap[0], heap[1] + 1], stop, step + 1):\n",
    "            return 'А'\n",
    "        elif f([heap[0] + 2, heap[1]], stop,step + 1) or f([heap[0], heap[1] + 2],stop,  step + 1):\n",
    "            return 'Б'\n",
    "        elif f([heap[0]*2, heap[1]], stop,step + 1) or f([heap[0], heap[1]*2], stop, step + 1):\n",
    "            return 'В'\n",
    "    \n",
    "    if step % 2 == 0:\n",
    "        return any(moves)\n",
    "    \n",
    "    else:\n",
    "        return all(moves)\n",
    "\n",
    "\n",
    "                            \n",
    "                            \n",
    "for s in range(1, 50):\n",
    "    if f([24, s], 50, 0):\n",
    "        print(s, '----', f([24, s], 50, 0))\n",
    "        \n",
    "    \n"
   ]
  }
 ],
 "metadata": {
  "kernelspec": {
   "display_name": "venv",
   "language": "python",
   "name": "python3"
  },
  "language_info": {
   "codemirror_mode": {
    "name": "ipython",
    "version": 3
   },
   "file_extension": ".py",
   "mimetype": "text/x-python",
   "name": "python",
   "nbconvert_exporter": "python",
   "pygments_lexer": "ipython3",
   "version": "3.11.4"
  }
 },
 "nbformat": 4,
 "nbformat_minor": 2
}
