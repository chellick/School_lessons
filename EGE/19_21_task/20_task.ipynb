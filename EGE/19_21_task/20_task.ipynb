{
 "cells": [
  {
   "cell_type": "code",
   "execution_count": 29,
   "metadata": {},
   "outputs": [
    {
     "name": "stdout",
     "output_type": "stream",
     "text": [
      "8\n",
      "13\n",
      "14\n",
      "15\n"
     ]
    }
   ],
   "source": [
    "def game(start, stop, counter):\n",
    "    if start >= stop and counter == 3: return True\n",
    "    if start < stop and counter == 3: return False\n",
    "    if start >= stop: return False\n",
    "    \n",
    "    if counter%2!=0:\n",
    "        return game(start+1, stop, counter+1) and game(start+2, stop, counter+1) and game(start+3, stop, counter+1) and game(start*2, stop, counter+1)\n",
    "    else:\n",
    "        return game(start+1, stop, counter+1) or game(start+2, stop, counter+1) or game(start+3, stop, counter+1) or game(start*2, stop, counter+1)\n",
    "                \n",
    "for s in range(1, 34):\n",
    "    if game(s, 34, 0):\n",
    "        print(s)\n",
    "    "
   ]
  },
  {
   "cell_type": "code",
   "execution_count": 38,
   "metadata": {},
   "outputs": [
    {
     "name": "stdout",
     "output_type": "stream",
     "text": [
      "10\n"
     ]
    }
   ],
   "source": [
    "def game(start, stop, counter):\n",
    "    if start >= stop and counter == 3: return True\n",
    "    if start < stop and counter == 3: return False\n",
    "    if start >= stop: return False\n",
    "    \n",
    "    if counter % 2 != 0:\n",
    "        return game(start+1, stop, counter+1) and\\\n",
    "            game(start*2, stop, counter+1) and\\\n",
    "                game(start*3, stop, counter+1)\n",
    "    else:\n",
    "        return game(start+1, stop, counter+1) or\\\n",
    "            game(start*2, stop, counter+1) or\\\n",
    "                game(start*3, stop, counter+1)\n",
    "    \n",
    "\n",
    "for s in range(1, 36):\n",
    "    if game(s, 36, 0):\n",
    "        print(s)\n",
    "        "
   ]
  },
  {
   "cell_type": "code",
   "execution_count": 41,
   "metadata": {},
   "outputs": [
    {
     "name": "stdout",
     "output_type": "stream",
     "text": [
      "24\n",
      "26\n"
     ]
    }
   ],
   "source": [
    "def game(heap, stop: int, counter: int):\n",
    "    if sum(heap) >= stop and counter == 3: return True\n",
    "    if sum(heap) < stop and counter == 3: return False\n",
    "    if sum(heap) >= stop: return False\n",
    "    \n",
    "    if counter % 2 != 0:\n",
    "        return game([heap[0], heap[1]+1], stop, counter+1) and game([heap[0], heap[1]*2], stop, counter+1) and game([heap[0]+1, heap[1]], stop, counter+1) and game([heap[0]*2, heap[1]], stop, counter+1)\n",
    "    else:\n",
    "        return game([heap[0], heap[1]+1], stop, counter+1) or game([heap[0], heap[1]*2], stop, counter+1) or game([heap[0]+1, heap[1]], stop, counter+1) or game([heap[0]*2, heap[1]], stop, counter+1)\n",
    "        \n",
    "for s in range(1, 54):\n",
    "    if game([5, s], 59, 0):\n",
    "        print(s)"
   ]
  },
  {
   "cell_type": "code",
   "execution_count": 45,
   "metadata": {},
   "outputs": [
    {
     "name": "stdout",
     "output_type": "stream",
     "text": [
      "240\n",
      "719\n"
     ]
    }
   ],
   "source": [
    "def f(start, stop, counter):\n",
    "    if counter == 3 and start >= stop: return True\n",
    "    if counter == 3 and start < stop: return False\n",
    "    if start >= stop: return False\n",
    "    if counter % 2 != 0:\n",
    "        return f(start+1, stop, counter+1) and f(start*3, stop, counter+1)\n",
    "    else: \n",
    "        return f(start+1, stop, counter+1) or f(start*3, stop, counter+1)\n",
    "\n",
    "for s in range(1, 2163):\n",
    "    if f(s, 2163, 0):\n",
    "        print(s)"
   ]
  },
  {
   "cell_type": "markdown",
   "metadata": {},
   "source": [
    "```python\n",
    "def f(heap, stop, counter):\n",
    "    if counter == 2 and heap[0] * heap[1] >= stop: return True\n",
    "    elif counter == 2 and heap[0] * heap[1] < stop: return False\n",
    "    elif heap[0] * heap[1] >= stop: return False\n",
    "    elif counter % 2 == 0:        \n",
    "        return f([heap[0] + 1, heap[1]], stop, counter+1)\\\n",
    "            or f([heap[0]*2, heap[1]], stop, counter + 1)\\\n",
    "                or f([heap[0], heap[1]+1], stop, counter+1)\\\n",
    "                    or f([heap[0], heap[1]*2], stop, counter+1)\n",
    "    else:\n",
    "        return f([heap[0] + 1, heap[1]], stop, counter+1)\\\n",
    "            and f([heap[0]*2, heap[1]], stop, counter + 1)\\\n",
    "                and f([heap[0], heap[1]+1], stop, counter+1)\\\n",
    "                    and f([heap[0], heap[1]*2], stop, counter+1)\n",
    "        \n",
    "    \n",
    "\n",
    "for s in range(1, 32):\n",
    "    if f([s, 2], 63, 0):\n",
    "        print(s)```\n"
   ]
  },
  {
   "cell_type": "code",
   "execution_count": null,
   "metadata": {},
   "outputs": [],
   "source": [
    "def f(heap, stop, counter):\n",
    "    if counter == 3 and heap[0] * heap[1] >= stop: return True\n",
    "    elif counter == 1 and heap[0] * heap[1] >= stop: return False\n",
    "    elif counter == 3 and heap[0] * heap[1] < stop: return False\n",
    "    elif heap[0] * heap[1] >= stop: return False\n",
    "    elif counter % 2 == 0:\n",
    "            return f([heap[0] + 1, heap[1]], stop, counter+1)\\\n",
    "            or f([heap[0]*2, heap[1]], stop, counter + 1)\\\n",
    "                or f([heap[0], heap[1]+1], stop, counter+1)\\\n",
    "                    or f([heap[0], heap[1]*2], stop, counter+1)\n",
    "    else:\n",
    "        return f([heap[0] + 1, heap[1]], stop, counter+1)\\\n",
    "            and f([heap[0]*2, heap[1]], stop, counter + 1)\\\n",
    "                and f([heap[0], heap[1]+1], stop, counter+1)\\\n",
    "                    and f([heap[0], heap[1]*2], stop, counter+1)\n",
    "                    \n",
    "for s in range(1, 32):\n",
    "    if f([s, 2], 63, 0):\n",
    "        print(s)              \n",
    "                    "
   ]
  },
  {
   "cell_type": "code",
   "execution_count": 17,
   "metadata": {},
   "outputs": [
    {
     "name": "stdout",
     "output_type": "stream",
     "text": [
      "32\n",
      "63\n"
     ]
    }
   ],
   "source": [
    "def f(start, stop, steps):\n",
    "    if (steps == 3) and (start >= stop): return True\n",
    "    elif start >= stop: return False\n",
    "    \n",
    "    if steps % 2 == 0:\n",
    "        return f(start+1, stop, steps+1) or f(start*2, stop, steps+1) \n",
    "    else: \n",
    "        return f(start+1, stop, steps+1) and f(start*2, stop, steps+1) \n",
    "    \n",
    "for s in range(1, 129):\n",
    "    if f(s, 129, 0):\n",
    "        print(s)"
   ]
  },
  {
   "cell_type": "code",
   "execution_count": 12,
   "metadata": {},
   "outputs": [
    {
     "name": "stdout",
     "output_type": "stream",
     "text": [
      "52\n",
      "54\n",
      "56\n",
      "58\n",
      "60\n",
      "62\n",
      "64\n",
      "66\n",
      "68\n",
      "70\n",
      "72\n",
      "73\n",
      "74\n",
      "75\n",
      "76\n",
      "77\n",
      "78\n",
      "79\n",
      "80\n",
      "81\n",
      "82\n",
      "83\n",
      "84\n",
      "85\n",
      "86\n",
      "87\n",
      "88\n",
      "89\n",
      "90\n",
      "91\n",
      "92\n",
      "93\n",
      "94\n",
      "95\n",
      "96\n",
      "97\n",
      "98\n",
      "99\n",
      "100\n",
      "101\n",
      "102\n",
      "103\n",
      "104\n",
      "105\n",
      "106\n",
      "107\n"
     ]
    }
   ],
   "source": [
    "def f(start, stop, step):\n",
    "    if step in (1, 3) and start >= stop: return True\n",
    "    elif start >= stop: return False\n",
    "    \n",
    "    if step % 2 == 0:  \n",
    "        return f(start+1, stop, step+1) or f(start*2 if start%2==0 else start*1.5, stop, step+1) or f(start*2 if start%2==0 else start*1.5, stop, step+1)\n",
    "    else:\n",
    "        return f(start+1, stop, step+1) and f(start*2 if start%2==0 else start*1.5, stop, step+1) and f(start*2 if start%2==0 else start*1.5, stop, step+1)\n",
    "\n",
    "for s in range(1, 108):\n",
    "    if f(s, 108, 0):\n",
    "        print(s)"
   ]
  },
  {
   "cell_type": "code",
   "execution_count": 3,
   "metadata": {},
   "outputs": [
    {
     "name": "stdout",
     "output_type": "stream",
     "text": [
      "7\n",
      "19\n",
      "20\n"
     ]
    }
   ],
   "source": [
    "def game(start, stop, step):\n",
    "    if step == 3 and start >= stop: return True\n",
    "    if step == 3 and start < stop: return False\n",
    "    if start >= stop: return False\n",
    "    if step % 2 != 0:\n",
    "        return game(start+1, stop, step+1) and game(start+2, stop, step+1) and game(start*3, stop, step+1)\n",
    "    else:\n",
    "        return game(start+1, stop, step+1) or game(start+2, stop, step+1) or game(start*3, stop, step+1)\n",
    "    \n",
    "for s in range(1, 65):\n",
    "    if game(s, 65, 0):\n",
    "        print(s)\n",
    "        \n",
    "        \n",
    "#  step = 0 (ПЕТЯ)\n",
    "#  step = 1 (ВАНЯ)\n",
    "#  step = 2 (ПЕТЯ)\n",
    "\n",
    "# https://inf-ege.sdamgia.ru/problem?id=27840"
   ]
  },
  {
   "cell_type": "code",
   "execution_count": 15,
   "metadata": {},
   "outputs": [
    {
     "name": "stdout",
     "output_type": "stream",
     "text": [
      "42\n",
      "43\n",
      "61\n",
      "81\n",
      "82\n"
     ]
    }
   ],
   "source": [
    "import math\n",
    "def game(heap, stop, step): \n",
    "    if step==3 and sum(heap) <= stop: return True\n",
    "    elif (step < 3 and sum(heap) <= stop) or (step == 3 and sum(heap) > stop): return False\n",
    "    if step % 2 != 0:\n",
    "        return game([heap[0]-1, heap[1]], stop, step+1)\\\n",
    "            and game([heap[0], heap[1]-1], stop, step+1)\\\n",
    "                and game([math.ceil(heap[0] / 2), heap[1]], stop, step+1)\\\n",
    "                    and game([heap[0], math.ceil(heap[1] / 2)], stop, step+1)\n",
    "    else:\n",
    "        return game([heap[0]-1, heap[1]], stop, step+1)\\\n",
    "            or game([heap[0], heap[1]-1], stop, step+1)\\\n",
    "                or game([math.ceil(heap[0] / 2), heap[1]], stop, step+1)\\\n",
    "                    or game([heap[0], math.ceil(heap[1] / 2)], stop, step+1)\n",
    "\n",
    "for h in range(21, 100):\n",
    "    if game([20, h], 40, 0):\n",
    "        print(h)\n",
    "        \n",
    "        # 0П 1В 2П 3В"
   ]
  }
 ],
 "metadata": {
  "kernelspec": {
   "display_name": "venv",
   "language": "python",
   "name": "python3"
  },
  "language_info": {
   "codemirror_mode": {
    "name": "ipython",
    "version": 3
   },
   "file_extension": ".py",
   "mimetype": "text/x-python",
   "name": "python",
   "nbconvert_exporter": "python",
   "pygments_lexer": "ipython3",
   "version": "3.11.4"
  }
 },
 "nbformat": 4,
 "nbformat_minor": 2
}
