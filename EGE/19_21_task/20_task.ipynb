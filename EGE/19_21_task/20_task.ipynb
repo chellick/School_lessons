{
 "cells": [
  {
   "cell_type": "code",
   "execution_count": 29,
   "metadata": {},
   "outputs": [
    {
     "name": "stdout",
     "output_type": "stream",
     "text": [
      "8\n",
      "13\n",
      "14\n",
      "15\n"
     ]
    }
   ],
   "source": [
    "def game(start, stop, counter):\n",
    "    if start >= stop and counter == 3: return True\n",
    "    if start < stop and counter == 3: return False\n",
    "    if start >= stop: return False\n",
    "    \n",
    "    if counter%2!=0:\n",
    "        return game(start+1, stop, counter+1) and game(start+2, stop, counter+1) and game(start+3, stop, counter+1) and game(start*2, stop, counter+1)\n",
    "    else:\n",
    "        return game(start+1, stop, counter+1) or game(start+2, stop, counter+1) or game(start+3, stop, counter+1) or game(start*2, stop, counter+1)\n",
    "                \n",
    "for s in range(1, 34):\n",
    "    if game(s, 34, 0):\n",
    "        print(s)\n",
    "    "
   ]
  },
  {
   "cell_type": "code",
   "execution_count": 38,
   "metadata": {},
   "outputs": [
    {
     "name": "stdout",
     "output_type": "stream",
     "text": [
      "10\n"
     ]
    }
   ],
   "source": [
    "def game(start, stop, counter):\n",
    "    if start >= stop and counter == 3: return True\n",
    "    if start < stop and counter == 3: return False\n",
    "    if start >= stop: return False\n",
    "    \n",
    "    if counter % 2 != 0:\n",
    "        return game(start+1, stop, counter+1) and\\\n",
    "            game(start*2, stop, counter+1) and\\\n",
    "                game(start*3, stop, counter+1)\n",
    "    else:\n",
    "        return game(start+1, stop, counter+1) or\\\n",
    "            game(start*2, stop, counter+1) or\\\n",
    "                game(start*3, stop, counter+1)\n",
    "    \n",
    "\n",
    "for s in range(1, 36):\n",
    "    if game(s, 36, 0):\n",
    "        print(s)\n",
    "        "
   ]
  },
  {
   "cell_type": "code",
   "execution_count": 41,
   "metadata": {},
   "outputs": [
    {
     "name": "stdout",
     "output_type": "stream",
     "text": [
      "24\n",
      "26\n"
     ]
    }
   ],
   "source": [
    "def game(heap, stop: int, counter: int):\n",
    "    if sum(heap) >= stop and counter == 3: return True\n",
    "    if sum(heap) < stop and counter == 3: return False\n",
    "    if sum(heap) >= stop: return False\n",
    "    \n",
    "    if counter % 2 != 0:\n",
    "        return game([heap[0], heap[1]+1], stop, counter+1) and game([heap[0], heap[1]*2], stop, counter+1) and game([heap[0]+1, heap[1]], stop, counter+1) and game([heap[0]*2, heap[1]], stop, counter+1)\n",
    "    else:\n",
    "        return game([heap[0], heap[1]+1], stop, counter+1) or game([heap[0], heap[1]*2], stop, counter+1) or game([heap[0]+1, heap[1]], stop, counter+1) or game([heap[0]*2, heap[1]], stop, counter+1)\n",
    "        \n",
    "for s in range(1, 54):\n",
    "    if game([5, s], 59, 0):\n",
    "        print(s)"
   ]
  },
  {
   "cell_type": "code",
   "execution_count": 45,
   "metadata": {},
   "outputs": [
    {
     "name": "stdout",
     "output_type": "stream",
     "text": [
      "240\n",
      "719\n"
     ]
    }
   ],
   "source": [
    "def f(start, stop, counter):\n",
    "    if counter == 3 and start >= stop: return True\n",
    "    if counter == 3 and start < stop: return False\n",
    "    if start >= stop: return False\n",
    "    if counter % 2 != 0:\n",
    "        return f(start+1, stop, counter+1) and f(start*3, stop, counter+1)\n",
    "    else: \n",
    "        return f(start+1, stop, counter+1) or f(start*3, stop, counter+1)\n",
    "\n",
    "for s in range(1, 2163):\n",
    "    if f(s, 2163, 0):\n",
    "        print(s)"
   ]
  },
  {
   "cell_type": "markdown",
   "metadata": {},
   "source": [
    "```python\n",
    "def f(heap, stop, counter):\n",
    "    if counter == 2 and heap[0] * heap[1] >= stop: return True\n",
    "    elif counter == 2 and heap[0] * heap[1] < stop: return False\n",
    "    elif heap[0] * heap[1] >= stop: return False\n",
    "    elif counter % 2 == 0:        \n",
    "        return f([heap[0] + 1, heap[1]], stop, counter+1)\\\n",
    "            or f([heap[0]*2, heap[1]], stop, counter + 1)\\\n",
    "                or f([heap[0], heap[1]+1], stop, counter+1)\\\n",
    "                    or f([heap[0], heap[1]*2], stop, counter+1)\n",
    "    else:\n",
    "        return f([heap[0] + 1, heap[1]], stop, counter+1)\\\n",
    "            and f([heap[0]*2, heap[1]], stop, counter + 1)\\\n",
    "                and f([heap[0], heap[1]+1], stop, counter+1)\\\n",
    "                    and f([heap[0], heap[1]*2], stop, counter+1)\n",
    "        \n",
    "    \n",
    "\n",
    "for s in range(1, 32):\n",
    "    if f([s, 2], 63, 0):\n",
    "        print(s)```\n"
   ]
  },
  {
   "cell_type": "code",
   "execution_count": null,
   "metadata": {},
   "outputs": [],
   "source": [
    "def f(heap, stop, counter):\n",
    "    if counter == 3 and heap[0] * heap[1] >= stop: return True\n",
    "    elif counter == 1 and heap[0] * heap[1] >= stop: return False\n",
    "    elif counter == 3 and heap[0] * heap[1] < stop: return False\n",
    "    elif heap[0] * heap[1] >= stop: return False\n",
    "    elif counter % 2 == 0:\n",
    "            return f([heap[0] + 1, heap[1]], stop, counter+1)\\\n",
    "            or f([heap[0]*2, heap[1]], stop, counter + 1)\\\n",
    "                or f([heap[0], heap[1]+1], stop, counter+1)\\\n",
    "                    or f([heap[0], heap[1]*2], stop, counter+1)\n",
    "    else:\n",
    "        return f([heap[0] + 1, heap[1]], stop, counter+1)\\\n",
    "            and f([heap[0]*2, heap[1]], stop, counter + 1)\\\n",
    "                and f([heap[0], heap[1]+1], stop, counter+1)\\\n",
    "                    and f([heap[0], heap[1]*2], stop, counter+1)\n",
    "                    \n",
    "for s in range(1, 32):\n",
    "    if f([s, 2], 63, 0):\n",
    "        print(s)              \n",
    "                    "
   ]
  },
  {
   "cell_type": "code",
   "execution_count": 17,
   "metadata": {},
   "outputs": [
    {
     "name": "stdout",
     "output_type": "stream",
     "text": [
      "32\n",
      "63\n"
     ]
    }
   ],
   "source": [
    "def f(start, stop, steps):\n",
    "    if (steps == 3) and (start >= stop): return True\n",
    "    elif start >= stop: return False\n",
    "    \n",
    "    if steps % 2 == 0:\n",
    "        return f(start+1, stop, steps+1) or f(start*2, stop, steps+1) \n",
    "    else: \n",
    "        return f(start+1, stop, steps+1) and f(start*2, stop, steps+1) \n",
    "    \n",
    "for s in range(1, 129):\n",
    "    if f(s, 129, 0):\n",
    "        print(s)"
   ]
  },
  {
   "cell_type": "code",
   "execution_count": null,
   "metadata": {},
   "outputs": [],
   "source": [
    "def f(start, stop, step):\n",
    "    if step in (1, 3) and start >= stop: return True\n",
    "    elif start >= stop: return False\n",
    "    \n",
    "    if step % 2 == 0:  \n",
    "        return f(start+1, stop, step+1) or f(start*2 if start%2==0 else start*1.5, stop, step+1) or f(start*2 if start%2==0 else start*1.5, stop, step+1)\n",
    "    else:\n",
    "        return f(start+1, stop, step+1) and f(start*2 if start%2==0 else start*1.5, stop, step+1) and f(start*2 if start%2==0 else start*1.5, stop, step+1)\n",
    "\n",
    "for s in range(1, 108):\n",
    "    if f(s, 108, 0):\n",
    "        print(s)"
   ]
  },
  {
   "cell_type": "code",
   "execution_count": 3,
   "metadata": {},
   "outputs": [
    {
     "name": "stdout",
     "output_type": "stream",
     "text": [
      "7\n",
      "19\n",
      "20\n"
     ]
    }
   ],
   "source": [
    "def game(start, stop, step):\n",
    "    if step == 3 and start >= stop: return True\n",
    "    if step == 3 and start < stop: return False\n",
    "    if start >= stop: return False\n",
    "    if step % 2 != 0:\n",
    "        return game(start+1, stop, step+1) and game(start+2, stop, step+1) and game(start*3, stop, step+1)\n",
    "    else:\n",
    "        return game(start+1, stop, step+1) or game(start+2, stop, step+1) or game(start*3, stop, step+1)\n",
    "    \n",
    "for s in range(1, 65):\n",
    "    if game(s, 65, 0):\n",
    "        print(s)\n",
    "        \n",
    "        \n",
    "#  step = 0 (ПЕТЯ)\n",
    "#  step = 1 (ВАНЯ)\n",
    "#  step = 2 (ПЕТЯ)\n",
    "\n",
    "# https://inf-ege.sdamgia.ru/problem?id=27840"
   ]
  },
  {
   "cell_type": "code",
   "execution_count": 15,
   "metadata": {},
   "outputs": [
    {
     "name": "stdout",
     "output_type": "stream",
     "text": [
      "42\n",
      "43\n",
      "61\n",
      "81\n",
      "82\n"
     ]
    }
   ],
   "source": [
    "import math\n",
    "def game(heap, stop, step): \n",
    "    if step==3 and sum(heap) <= stop: return True\n",
    "    elif (step < 3 and sum(heap) <= stop) or (step == 3 and sum(heap) > stop): return False\n",
    "    if step % 2 != 0:\n",
    "        return game([heap[0]-1, heap[1]], stop, step+1)\\\n",
    "            and game([heap[0], heap[1]-1], stop, step+1)\\\n",
    "                and game([math.ceil(heap[0] / 2), heap[1]], stop, step+1)\\\n",
    "                    and game([heap[0], math.ceil(heap[1] / 2)], stop, step+1)\n",
    "    else:\n",
    "        return game([heap[0]-1, heap[1]], stop, step+1)\\\n",
    "            or game([heap[0], heap[1]-1], stop, step+1)\\\n",
    "                or game([math.ceil(heap[0] / 2), heap[1]], stop, step+1)\\\n",
    "                    or game([heap[0], math.ceil(heap[1] / 2)], stop, step+1)\n",
    "\n",
    "for h in range(21, 100):\n",
    "    if game([20, h], 40, 0):\n",
    "        print(h)\n",
    "        \n",
    "        # 0П 1В 2П 3В"
   ]
  },
  {
   "cell_type": "code",
   "execution_count": 1,
   "metadata": {},
   "outputs": [
    {
     "name": "stdout",
     "output_type": "stream",
     "text": [
      "8\n",
      "22\n",
      "23\n"
     ]
    }
   ],
   "source": [
    "def f(start, stop, step):\n",
    "    # 0p 1v 2p 3v\n",
    "    if start >= stop and step==3: return True\n",
    "    if start < stop and step==3: return False\n",
    "    if start >= stop: return False\n",
    "    if step % 2 != 0:\n",
    "        return f(start+1, stop, step+1) and f(start+2, stop, step+1) and f(start*3, stop, step+1)\n",
    "    else:\n",
    "        return f(start+1, stop, step+1) or f(start+2, stop, step+1) or f(start*3, stop, step+1)\n",
    "    \n",
    "    \n",
    "\n",
    "for s in range(1, 74):\n",
    "    if f(s, 74, 0):\n",
    "        print(s)\n"
   ]
  },
  {
   "cell_type": "code",
   "execution_count": 1,
   "metadata": {},
   "outputs": [
    {
     "name": "stdout",
     "output_type": "stream",
     "text": [
      "9\n",
      "12\n"
     ]
    }
   ],
   "source": [
    "def f(start, stop, step):\n",
    "    if start >= stop and step == 3: return True\n",
    "    if start < stop and step == 3: return False\n",
    "    if start >= stop: return False\n",
    "    if step % 2 == 0:\n",
    "        return f(start+1, stop, step+1) or f(start+4, stop, step+1) or f(start*5, stop, step+1)\n",
    "    else:\n",
    "        return f(start+1, stop, step+1) and f(start+4, stop, step+1) and f(start*5, stop, step+1)\n",
    "    \n",
    "    \n",
    "for s in range(1, 67):\n",
    "    if f(s, 68, 0):\n",
    "        print(s)"
   ]
  },
  {
   "cell_type": "code",
   "execution_count": 2,
   "metadata": {},
   "outputs": [
    {
     "name": "stdout",
     "output_type": "stream",
     "text": [
      "10\n",
      "18\n",
      "19\n"
     ]
    }
   ],
   "source": [
    "def f(start, stop, step):\n",
    "    if start >= stop and step == 3: return True\n",
    "    if start < stop and step == 3: return False\n",
    "    if start >= stop: return False\n",
    "    if step % 2 == 0:\n",
    "        return f(start+1, stop, step+1) or f(start+2, stop, step+1) or f(start*2, stop, step+1)\n",
    "    else:\n",
    "        return f(start+1, stop, step+1) and f(start+2, stop, step+1) and f(start*2, stop, step+1)\n",
    "    \n",
    "    \n",
    "for s in range(1, 42):\n",
    "    if f(s, 42, 0):\n",
    "        print(s)"
   ]
  },
  {
   "cell_type": "code",
   "execution_count": 5,
   "metadata": {},
   "outputs": [
    {
     "name": "stdout",
     "output_type": "stream",
     "text": [
      "15\n",
      "18\n"
     ]
    }
   ],
   "source": [
    "def f(start, stop, step):\n",
    "    if start >= stop and step in (3, 5): return True\n",
    "    if start < stop and step in (3, 5): return False\n",
    "    if start >= stop: return False\n",
    "    if step % 2 == 0:\n",
    "        return f(start+1, stop, step+1) or f(start+4, stop, step+1) or f(start*2, stop, step+1)\n",
    "    else:\n",
    "        return f(start+1, stop, step+1) and f(start+4, stop, step+1) and f(start*2, stop, step+1)\n",
    "    \n",
    "    \n",
    "for s in range(1, 40):\n",
    "    if f(s, 40, 0):\n",
    "        print(s)"
   ]
  },
  {
   "cell_type": "code",
   "execution_count": 7,
   "metadata": {},
   "outputs": [
    {
     "name": "stdout",
     "output_type": "stream",
     "text": [
      "31\n",
      "34\n"
     ]
    }
   ],
   "source": [
    "def f(heap, stop, step):\n",
    "    if sum(heap) >= stop and step==3: return True\n",
    "    if sum(heap) < stop and step == 3: return False\n",
    "    if sum(heap) >= stop: return False\n",
    "    if step % 2 == 0:\n",
    "        return f([heap[0]*2, heap[1]], stop, step+1)\\\n",
    "            or f([heap[0]+1, heap[1]], stop, step+1)\\\n",
    "                or f([heap[0], heap[1]*2], stop, step+1)\\\n",
    "                    or f([heap[0], heap[1]+1], stop, step+1)\n",
    "    else:\n",
    "        return f([heap[0]*2, heap[1]], stop, step+1)\\\n",
    "            and f([heap[0]+1, heap[1]], stop, step+1)\\\n",
    "                and f([heap[0], heap[1]*2], stop, step+1)\\\n",
    "                    and f([heap[0], heap[1]+1], stop, step+1)\n",
    "\n",
    "\n",
    "\n",
    "b = []\n",
    "    \n",
    "for s in range(1, 48):\n",
    "    if f([7, s], 77, 0):\n",
    "        print(s)\n"
   ]
  },
  {
   "cell_type": "code",
   "execution_count": 1,
   "metadata": {},
   "outputs": [
    {
     "name": "stdout",
     "output_type": "stream",
     "text": [
      "3\n",
      "14\n"
     ]
    }
   ],
   "source": [
    "def f(heap, stop, step):\n",
    "    if sum(heap) >= stop and step == 3: return True\n",
    "    if sum(heap) < stop and step == 3: return False\n",
    "    if sum(heap) >= stop: return False\n",
    "    if step % 2 == 0:\n",
    "        return f([heap[0]+1, heap[1]], stop, step+1) or\\\n",
    "                f([heap[0]*3, heap[1]], stop, step+1) or\\\n",
    "                f([heap[0], heap[1]+1], stop, step+1) or\\\n",
    "                f([heap[0], heap[1]*3], stop, step+1)\n",
    "    else:\n",
    "        return f([heap[0]+1, heap[1]], stop, step+1) and\\\n",
    "            f([heap[0]*3, heap[1]], stop, step+1) and\\\n",
    "            f([heap[0], heap[1]+1], stop, step+1) and\\\n",
    "            f([heap[0], heap[1]*3], stop, step+1)\n",
    "    \n",
    "for s in range(1, 43):\n",
    "    if f([5, s], 49, 0):\n",
    "        print(s)\n",
    "        "
   ]
  },
  {
   "cell_type": "code",
   "execution_count": 1,
   "metadata": {},
   "outputs": [
    {
     "name": "stdout",
     "output_type": "stream",
     "text": [
      "9\n",
      "12\n"
     ]
    }
   ],
   "source": [
    "def f(start, stop, step):\n",
    "    if start >= stop and step == 3: return True\n",
    "    if start < stop and step == 3: return False\n",
    "    if start >= stop: return False\n",
    "    if step % 2 == 0:\n",
    "        return f(start+1, stop, step+1) or f(start+4, stop, step+1) or f(start*5, stop, step+1)\n",
    "    else:\n",
    "        return f(start+1, stop, step+1) and f(start+4, stop, step+1) and f(start*5, stop, step+1)\n",
    "    \n",
    "for s in range(1, 67):\n",
    "    if f(s, 68, 0):\n",
    "        print(s)"
   ]
  },
  {
   "cell_type": "code",
   "execution_count": 25,
   "metadata": {},
   "outputs": [
    {
     "name": "stdout",
     "output_type": "stream",
     "text": [
      "25\n",
      "42\n",
      "46\n",
      "50\n"
     ]
    },
    {
     "data": {
      "text/plain": [
       "[]"
      ]
     },
     "execution_count": 25,
     "metadata": {},
     "output_type": "execute_result"
    }
   ],
   "source": [
    "def f(heap, stop, step, kucha): #0p 1v 2p \n",
    "    if heap[0]*heap[1] >= stop and step == 3: return True\n",
    "    if heap[0]*heap[1] < stop and step == 3: return False\n",
    "    if heap[0]*heap[1] >= stop: return False\n",
    "    if step % 2 == 0:\n",
    "        # print(kucha)\n",
    "        # if kucha[-2:] == '11':\n",
    "        #     # print(kucha)\n",
    "        #     return f([heap[0], heap[1]+1], stop, step+1, kucha+'2') or\\\n",
    "        #             f([heap[0], heap[1]*2], stop, step+1, kucha+'2') or\\\n",
    "        #             f([heap[0], heap[1]+5], stop, step+1, kucha+'2')\n",
    "                \n",
    "        # elif kucha[-2:] == '22':\n",
    "        #     # print(kucha)\n",
    "        #     return f([heap[0]+1, heap[1]], stop, step+1, kucha+'1') or\\\n",
    "        #             f([heap[0]+5, heap[1]], stop, step+1, kucha+'1') or\\\n",
    "        #             f([heap[0]*2, heap[1]], stop, step+1, kucha+'1')\n",
    "            \n",
    "        # else:\n",
    "            return f([heap[0]+1, heap[1]], stop, step+1, kucha+'1') or\\\n",
    "                    f([heap[0]+5, heap[1]], stop, step+1, kucha+'1') or\\\n",
    "                    f([heap[0]*2, heap[1]], stop, step+1, kucha+'1') or\\\n",
    "                    f([heap[0], heap[1]+1], stop, step+1, kucha+'2') or\\\n",
    "                    f([heap[0], heap[1]*2], stop, step+1, kucha+'2') or\\\n",
    "                    f([heap[0], heap[1]+5], stop, step+1, kucha+'2')\n",
    "    else:\n",
    "        # print(kucha)\n",
    "        # if kucha[-2:] == '11':\n",
    "        #         return f([heap[0], heap[1]+1], stop, step+1, kucha+'2') and\\\n",
    "        #                 f([heap[0], heap[1]*2], stop, step+1, kucha+'2') and\\\n",
    "        #                 f([heap[0], heap[1]+5], stop, step+1, kucha+'2')\n",
    "                \n",
    "        # elif kucha[-2:] == '22':\n",
    "        #     return f([heap[0]+1, heap[1]], stop, step+1, kucha+'1') and\\\n",
    "        #             f([heap[0]+5, heap[1]], stop, step+1, kucha+'1') and\\\n",
    "        #             f([heap[0]*2, heap[1]], stop, step+1, kucha+'1')\n",
    "            \n",
    "        # else:\n",
    "            return f([heap[0]+1, heap[1]], stop, step+1, kucha+'1') and\\\n",
    "                    f([heap[0]+5, heap[1]], stop, step+1, kucha+'1') and\\\n",
    "                    f([heap[0]*2, heap[1]], stop, step+1, kucha+'1') and\\\n",
    "                    f([heap[0], heap[1]+1], stop, step+1, kucha+'2') and\\\n",
    "                    f([heap[0], heap[1]*2], stop, step+1, kucha+'2') and\\\n",
    "                    f([heap[0], heap[1]+5], stop, step+1, kucha+'2')\n",
    "                \n",
    "                \n",
    "sums = []\n",
    "for s in range(1, 103):\n",
    "    if f([5, s], 512, 0, ''):\n",
    "        # sums.append(sum([5, s]))\n",
    "        print(s)\n",
    "            \n",
    "sums\n",
    "        "
   ]
  },
  {
   "cell_type": "code",
   "execution_count": 3,
   "metadata": {},
   "outputs": [
    {
     "name": "stdout",
     "output_type": "stream",
     "text": [
      "19\n",
      "20\n"
     ]
    }
   ],
   "source": [
    "def game(start, stop, step):\n",
    "    if start >= stop and step == 3:\n",
    "        return True\n",
    "    elif start < stop and step == 3:\n",
    "        return False\n",
    "    elif start >= stop:\n",
    "        return False\n",
    "    if step % 2 != 0:\n",
    "        return game(start+1, stop, step+1)\\\n",
    "                and game(start+2, stop, step+1)\\\n",
    "                    and game(start*2, stop, step+1)\n",
    "    else:\n",
    "        return game(start+1, stop, step+1)\\\n",
    "                or game(start+2, stop, step+1)\\\n",
    "                    or game(start*2, stop, step+1)\n",
    "                \n",
    "                \n",
    "for s in range(1, 44):\n",
    "    if game(s, 44, 0):\n",
    "        print(s)"
   ]
  },
  {
   "cell_type": "code",
   "execution_count": 1,
   "metadata": {},
   "outputs": [
    {
     "name": "stdout",
     "output_type": "stream",
     "text": [
      "21\n",
      "24\n"
     ]
    }
   ],
   "source": [
    "def game(start, stop, step):\n",
    "    if start >= stop and step == 3: return True\n",
    "    elif start < stop and step == 3: return False\n",
    "    elif start >= stop: return False\n",
    "    if step % 2 == 0:\n",
    "        return game(start+1, stop, step+1) or game(start+4, stop, step+1) or game(start*2, stop, step+1)\n",
    "    else:\n",
    "        return game(start+1, stop, step+1) and game(start+4, stop, step+1) and game(start*2, stop, step+1)\n",
    "for s in range(1, 52):\n",
    "    if game(s, 52, 0):\n",
    "        print(s)"
   ]
  },
  {
   "cell_type": "code",
   "execution_count": 1,
   "metadata": {},
   "outputs": [
    {
     "name": "stdout",
     "output_type": "stream",
     "text": [
      "8\n",
      "12\n"
     ]
    }
   ],
   "source": [
    "def game(start, stop, step):\n",
    "    if start >= stop and step == 3: return True\n",
    "    elif start < stop and step == 3: return False\n",
    "    elif start >= stop: return False\n",
    "    if step % 2 == 0:\n",
    "        return game(start+1, stop, step+1)\\\n",
    "            or game(start+5, stop, step+1)\\\n",
    "            or game(start*3, stop, step+1)\n",
    "    else:\n",
    "        return game(start+1, stop, step+1)\\\n",
    "            and game(start+5, stop, step+1)\\\n",
    "            and game(start*3, stop, step+1)\n",
    "        \n",
    "\n",
    "\n",
    "for s in range(1, 42):\n",
    "    if game(s, 42, 0):\n",
    "        print(s)\n",
    "    "
   ]
  },
  {
   "cell_type": "code",
   "execution_count": 1,
   "metadata": {},
   "outputs": [
    {
     "name": "stdout",
     "output_type": "stream",
     "text": [
      "5\n",
      "14\n"
     ]
    }
   ],
   "source": [
    "def game(start, stop, step):\n",
    "    if start >= stop and step == 3: return True\n",
    "    if start < stop and step == 3: return False\n",
    "    if start >= stop: return False\n",
    "    if step % 2 != 0:\n",
    "        return game(start+1, stop, step+1) and game(start*3, stop, step+1)\n",
    "    else:\n",
    "        return game(start+1, stop, step+1) or game(start*3, stop, step+1)\n",
    "    \n",
    "    \n",
    "for s in range(1, 45):\n",
    "    if game(s, 46, 0):\n",
    "        print(s)"
   ]
  },
  {
   "cell_type": "code",
   "execution_count": 3,
   "metadata": {},
   "outputs": [
    {
     "name": "stdout",
     "output_type": "stream",
     "text": [
      "8\n",
      "14\n",
      "15\n"
     ]
    }
   ],
   "source": [
    "def game(start, stop, step):\n",
    "    if start >= stop and step == 3: return True\n",
    "    if start < stop and step == 3: return False\n",
    "    if start >= stop: return False\n",
    "    if step % 2 != 0:\n",
    "        return game(start+1, stop, step+1) and game(start*2, stop, step+1) and game(start+2, stop, step+1)\n",
    "    else:\n",
    "        return game(start+1, stop, step+1) or game(start*2, stop, step+1) or game(start+2, stop, step+1)\n",
    "    \n",
    "    \n",
    "    \n",
    "for s in range(1, 33):\n",
    "    if game(s, 34, 0):\n",
    "        print(s)"
   ]
  }
 ],
 "metadata": {
  "kernelspec": {
   "display_name": "venv",
   "language": "python",
   "name": "python3"
  },
  "language_info": {
   "codemirror_mode": {
    "name": "ipython",
    "version": 3
   },
   "file_extension": ".py",
   "mimetype": "text/x-python",
   "name": "python",
   "nbconvert_exporter": "python",
   "pygments_lexer": "ipython3",
   "version": "3.11.4"
  }
 },
 "nbformat": 4,
 "nbformat_minor": 2
}
