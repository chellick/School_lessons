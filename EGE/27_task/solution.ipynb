{
 "cells": [
  {
   "cell_type": "code",
   "execution_count": null,
   "metadata": {},
   "outputs": [],
   "source": [
    "with open(\"1_27_A.txt\") as f:\n",
    "    distance = 20\n",
    "    nums = list([int(i) for i in f])\n",
    "     \n",
    "max_sum = 0\n",
    "\n",
    "for a in range(len(nums)):\n",
    "    for b in range(a+20, len(nums)):\n",
    "        for c in range(b+20, len(nums)):\n",
    "            max_sum = max(max_sum, sum([nums[a], nums[b], nums[c]]))\n",
    "    print(a)\n",
    "\n",
    "max_sum"
   ]
  },
  {
   "cell_type": "code",
   "execution_count": 13,
   "metadata": {},
   "outputs": [
    {
     "data": {
      "text/plain": [
       "344"
      ]
     },
     "execution_count": 13,
     "metadata": {},
     "output_type": "execute_result"
    }
   ],
   "source": [
    "with open('abtest.txt') as f:\n",
    "    nums = list(int(i) for i in f)\n",
    "    \n",
    "sums = 0\n",
    "\n",
    "\n",
    "for i in range(len(nums)):\n",
    "    current = 0\n",
    "    for j in range(i+1, len(nums)+1):\n",
    "        if sum(nums[i:j]) % 1111 == 0:\n",
    "            sums += 1\n",
    "            \n",
    "sums\n",
    "        "
   ]
  }
 ],
 "metadata": {
  "kernelspec": {
   "display_name": "venv",
   "language": "python",
   "name": "python3"
  },
  "language_info": {
   "codemirror_mode": {
    "name": "ipython",
    "version": 3
   },
   "file_extension": ".py",
   "mimetype": "text/x-python",
   "name": "python",
   "nbconvert_exporter": "python",
   "pygments_lexer": "ipython3",
   "version": "3.11.4"
  }
 },
 "nbformat": 4,
 "nbformat_minor": 2
}
