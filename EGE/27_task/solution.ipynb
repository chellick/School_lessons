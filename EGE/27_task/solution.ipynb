{
 "cells": [
  {
   "cell_type": "code",
   "execution_count": null,
   "metadata": {},
   "outputs": [],
   "source": [
    "with open(\"1_27_A.txt\") as f:\n",
    "    distance = 20\n",
    "    nums = list([int(i) for i in f])\n",
    "     \n",
    "max_sum = 0\n",
    "\n",
    "for a in range(len(nums)):\n",
    "    for b in range(a+20, len(nums)):\n",
    "        for c in range(b+20, len(nums)):\n",
    "            max_sum = max(max_sum, sum([nums[a], nums[b], nums[c]]))\n",
    "    print(a)\n",
    "\n",
    "max_sum"
   ]
  },
  {
   "cell_type": "code",
   "execution_count": 13,
   "metadata": {},
   "outputs": [
    {
     "data": {
      "text/plain": [
       "344"
      ]
     },
     "execution_count": 13,
     "metadata": {},
     "output_type": "execute_result"
    }
   ],
   "source": [
    "with open('abtest.txt') as f:\n",
    "    nums = list(int(i) for i in f)\n",
    "    \n",
    "sums = 0\n",
    "\n",
    "\n",
    "for i in range(len(nums)):\n",
    "    current = 0\n",
    "    for j in range(i+1, len(nums)+1):\n",
    "        if sum(nums[i:j]) % 1111 == 0:\n",
    "            sums += 1\n",
    "            \n",
    "sums\n",
    "        "
   ]
  },
  {
   "cell_type": "code",
   "execution_count": 9,
   "metadata": {},
   "outputs": [
    {
     "data": {
      "text/plain": [
       "980"
      ]
     },
     "execution_count": 9,
     "metadata": {},
     "output_type": "execute_result"
    }
   ],
   "source": [
    "with open(\"27-A_12257.txt\") as f:\n",
    "    f = f.readlines()\n",
    "    nums = [int(i) for i in f]\n",
    "    \n",
    "k = 113\n",
    "\n",
    "valid_sums = []\n",
    "\n",
    "for i in range(len(nums)):\n",
    "    current = 0\n",
    "    current_sum = 0\n",
    "    for j in range(i+1, len(nums)):\n",
    "        current += 1\n",
    "        current_sum += nums[j]\n",
    "        if current_sum % k == 0:\n",
    "            valid_sums.append(current)\n",
    "            \n",
    "    \n",
    "max(valid_sums)"
   ]
  },
  {
   "cell_type": "code",
   "execution_count": 19,
   "metadata": {},
   "outputs": [
    {
     "ename": "KeyboardInterrupt",
     "evalue": "",
     "output_type": "error",
     "traceback": [
      "\u001b[1;31m---------------------------------------------------------------------------\u001b[0m",
      "\u001b[1;31mKeyboardInterrupt\u001b[0m                         Traceback (most recent call last)",
      "Cell \u001b[1;32mIn[19], line 19\u001b[0m\n\u001b[0;32m     16\u001b[0m \u001b[38;5;28;01mif\u001b[39;00m holder \u001b[38;5;241m==\u001b[39m lab:\n\u001b[0;32m     17\u001b[0m     \u001b[38;5;28;01mcontinue\u001b[39;00m\n\u001b[1;32m---> 19\u001b[0m containers \u001b[38;5;241m=\u001b[39m math\u001b[38;5;241m.\u001b[39mceil(holder[\u001b[38;5;241m1\u001b[39m] \u001b[38;5;241m/\u001b[39m \u001b[38;5;241m36\u001b[39m)\n\u001b[0;32m     20\u001b[0m destination \u001b[38;5;241m=\u001b[39m \u001b[38;5;28mabs\u001b[39m(holder[\u001b[38;5;241m0\u001b[39m] \u001b[38;5;241m-\u001b[39m lab[\u001b[38;5;241m0\u001b[39m])\n\u001b[0;32m     21\u001b[0m sums\u001b[38;5;241m.\u001b[39mappend(containers\u001b[38;5;241m*\u001b[39mdestination)\n",
      "\u001b[1;31mKeyboardInterrupt\u001b[0m: "
     ]
    }
   ],
   "source": [
    "import math\n",
    "\n",
    "with open(\"27_B.txt\") as f:\n",
    "    holders = [list(map(int, i.split())) for i in f.readlines()]\n",
    "\n",
    "\n",
    "min_sum = 10 ** 8\n",
    "best_place = None\n",
    "\n",
    "for i in range(len(holders)):\n",
    "    lab = holders[i]\n",
    "    sums = []\n",
    "    \n",
    "    for holder in holders:\n",
    "        \n",
    "        if holder == lab:\n",
    "            continue\n",
    "        \n",
    "        containers = math.ceil(holder[1] / 36)\n",
    "        destination = abs(holder[0] - lab[0])\n",
    "        sums.append(containers*destination)\n",
    "        \n",
    "    if sum(sums) < min_sum:\n",
    "        best_place = lab\n",
    "        min_sum = sum(sums)\n",
    "        \n",
    "min_sum, best_place, holders.index(best_place)\n",
    "    "
   ]
  }
 ],
 "metadata": {
  "kernelspec": {
   "display_name": "venv",
   "language": "python",
   "name": "python3"
  },
  "language_info": {
   "codemirror_mode": {
    "name": "ipython",
    "version": 3
   },
   "file_extension": ".py",
   "mimetype": "text/x-python",
   "name": "python",
   "nbconvert_exporter": "python",
   "pygments_lexer": "ipython3",
   "version": "3.11.4"
  }
 },
 "nbformat": 4,
 "nbformat_minor": 2
}
