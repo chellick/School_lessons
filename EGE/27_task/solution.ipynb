{
 "cells": [
  {
   "cell_type": "code",
   "execution_count": null,
   "metadata": {},
   "outputs": [],
   "source": [
    "with open(\"1_27_A.txt\") as f:\n",
    "    distance = 20\n",
    "    nums = list([int(i) for i in f])\n",
    "     \n",
    "max_sum = 0\n",
    "\n",
    "for a in range(len(nums)):\n",
    "    for b in range(a+20, len(nums)):\n",
    "        for c in range(b+20, len(nums)):\n",
    "            max_sum = max(max_sum, sum([nums[a], nums[b], nums[c]]))\n",
    "    print(a)\n",
    "\n",
    "max_sum"
   ]
  },
  {
   "cell_type": "code",
   "execution_count": null,
   "metadata": {},
   "outputs": [],
   "source": [
    "with open('abtest.txt') as f:\n",
    "    nums = list(int(i) for i in f)\n",
    "    \n",
    "sums = 0\n",
    "\n",
    "\n",
    "for i in range(len(nums)):\n",
    "    current = 0\n",
    "    for j in range(i+1, len(nums)+1):\n",
    "        if sum(nums[i:j]) % 1111 == 0:\n",
    "            sums += 1\n",
    "            \n",
    "sums\n",
    "        "
   ]
  },
  {
   "cell_type": "code",
   "execution_count": null,
   "metadata": {},
   "outputs": [],
   "source": [
    "with open(\"27-A_12257.txt\") as f:\n",
    "    f = f.readlines()\n",
    "    nums = [int(i) for i in f]\n",
    "    \n",
    "k = 113\n",
    "\n",
    "valid_sums = []\n",
    "\n",
    "for i in range(len(nums)):\n",
    "    current = 0\n",
    "    current_sum = 0\n",
    "    for j in range(i+1, len(nums)):\n",
    "        current += 1\n",
    "        current_sum += nums[j]\n",
    "        if current_sum % k == 0:\n",
    "            valid_sums.append(current)\n",
    "            \n",
    "    \n",
    "max(valid_sums)"
   ]
  },
  {
   "cell_type": "code",
   "execution_count": null,
   "metadata": {},
   "outputs": [],
   "source": [
    "import math\n",
    "\n",
    "with open(\"27_B.txt\") as f:\n",
    "    holders = [list(map(int, i.split())) for i in f.readlines()]\n",
    "\n",
    "\n",
    "min_sum = 10 ** 8\n",
    "best_place = None\n",
    "\n",
    "for i in range(len(holders)):\n",
    "    lab = holders[i]\n",
    "    sums = []\n",
    "    \n",
    "    for holder in holders:\n",
    "        \n",
    "        if holder == lab:\n",
    "            continue\n",
    "        \n",
    "        containers = math.ceil(holder[1] / 36)\n",
    "        destination = abs(holder[0] - lab[0])\n",
    "        sums.append(containers*destination)\n",
    "        \n",
    "    if sum(sums) < min_sum:\n",
    "        best_place = lab\n",
    "        min_sum = sum(sums)\n",
    "        \n",
    "min_sum, best_place, holders.index(best_place)\n",
    "    "
   ]
  },
  {
   "cell_type": "code",
   "execution_count": null,
   "metadata": {},
   "outputs": [],
   "source": [
    "with open(\"abA.txt\") as f:\n",
    "    nums = [list(map(int, i.split())) for i in f.readlines()]\n",
    "\n",
    "taken_nums = [max(i) for i in nums]\n",
    "\n",
    "if sum(taken_nums) % 3 == 0:\n",
    "    for i in nums:\n",
    "        if (sum(taken_nums) - max(i) + min(i)) % 3 != 0:\n",
    "            print((sum(taken_nums) - max(i) + min(i)))\n",
    "else:\n",
    "    print(sum(taken_nums))"
   ]
  },
  {
   "cell_type": "code",
   "execution_count": null,
   "metadata": {},
   "outputs": [],
   "source": [
    "with open(\"abB.txt\") as f:\n",
    "    nums = [list(map(int, i.split())) for i in f.readlines()]\n",
    "\n",
    "taken_nums = [max(i) for i in nums]\n",
    "\n",
    "sss = []\n",
    "\n",
    "if sum(taken_nums) % 3 == 0:\n",
    "    for i in nums:\n",
    "        if (sum(taken_nums) - max(i) + min(i)) % 3 != 0:\n",
    "            sss.append(sum(taken_nums) - max(i) + min(i))\n",
    "    \n",
    "    max(sss)\n",
    "            \n",
    "else:\n",
    "    print(sum(taken_nums))\n",
    "    \n",
    "    "
   ]
  },
  {
   "cell_type": "code",
   "execution_count": null,
   "metadata": {},
   "outputs": [],
   "source": [
    "max(sss)"
   ]
  },
  {
   "cell_type": "code",
   "execution_count": null,
   "metadata": {},
   "outputs": [],
   "source": [
    "with open(\"abB5.txt\") as f:\n",
    "    taken_nums = []\n",
    "    nums = []\n",
    "    \n",
    "    for i in f.readlines():\n",
    "        nums.append(list(map(int, i.split())))\n",
    "        taken_nums.append(max(list(map(int, i.split()))))\n",
    "        \n",
    "dd = []\n",
    "        \n",
    "if sum(taken_nums) % 5 == 0:\n",
    "    for i in nums:\n",
    "        if (sum(taken_nums) - max(i) + min(i)) % 5 != 0:\n",
    "            dd.append((sum(taken_nums) - max(i) + min(i)))\n",
    "\n",
    "    print(max(dd))\n",
    "else:\n",
    "    print(sum(taken_nums))"
   ]
  },
  {
   "cell_type": "code",
   "execution_count": 22,
   "metadata": {},
   "outputs": [
    {
     "name": "stdout",
     "output_type": "stream",
     "text": [
      "994000 994 1000\n"
     ]
    }
   ],
   "source": [
    "with open(\"27B.txt\") as f:\n",
    "    nums = [int(i) for i in f.readlines()]\n",
    "    nums = sorted(nums)\n",
    "\n",
    "num = 14   \n",
    "    \n",
    "for i in range(len(nums)-1, 0, -1):\n",
    "    if nums[i] % 14 == 0:\n",
    "        num = nums[i]\n",
    "        print(num*max(nums), num, max(nums))  \n",
    "        break\n",
    "    \n",
    "  "
   ]
  },
  {
   "cell_type": "code",
   "execution_count": 19,
   "metadata": {},
   "outputs": [
    {
     "data": {
      "text/plain": [
       "4"
      ]
     },
     "execution_count": 19,
     "metadata": {},
     "output_type": "execute_result"
    }
   ],
   "source": [
    "9986 % 14"
   ]
  }
 ],
 "metadata": {
  "kernelspec": {
   "display_name": "venv",
   "language": "python",
   "name": "python3"
  },
  "language_info": {
   "codemirror_mode": {
    "name": "ipython",
    "version": 3
   },
   "file_extension": ".py",
   "mimetype": "text/x-python",
   "name": "python",
   "nbconvert_exporter": "python",
   "pygments_lexer": "ipython3",
   "version": "3.11.4"
  }
 },
 "nbformat": 4,
 "nbformat_minor": 2
}
