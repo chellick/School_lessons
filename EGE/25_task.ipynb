{
 "cells": [
  {
   "cell_type": "code",
   "execution_count": 8,
   "metadata": {},
   "outputs": [
    {
     "name": "stdout",
     "output_type": "stream",
     "text": [
      "3 58153\n",
      "7 24923\n",
      "59 2957\n",
      "13 13421\n",
      "149 1171\n",
      "5 34897\n",
      "211 827\n",
      "2 87251\n"
     ]
    }
   ],
   "source": [
    "def count_div(num):\n",
    "    d = 0\n",
    "    for i in range(2, num):\n",
    "        if num % i == 0:\n",
    "            d += 1\n",
    "    return d\n",
    "\n",
    "for i in range(174457, 174506):\n",
    "    if len(count_div(i)) == 2:\n",
    "        print(*count_div(i))"
   ]
  },
  {
   "cell_type": "code",
   "execution_count": 52,
   "metadata": {},
   "outputs": [],
   "source": [
    "def count_div(num):\n",
    "    d = 0\n",
    "    for i in range(1, num+1):\n",
    "        if num % i == 0:\n",
    "            d += 1\n",
    "    return d\n",
    "\n",
    "\n",
    "count_div(36)\n",
    "\n",
    "two = list(2**i for i in range(24))\n",
    "\n",
    "for j in range(0, 10):\n",
    "    for a in range(0, 1000):\n",
    "        for b in range(0, 1000):\n",
    "            num = int(f'{a}31{b}65{j}')\n",
    "            if num % 31 == 0 and num % 2031 == 0 and count_div in two:\n",
    "                    print(num)"
   ]
  },
  {
   "cell_type": "code",
   "execution_count": 56,
   "metadata": {},
   "outputs": [
    {
     "name": "stdout",
     "output_type": "stream",
     "text": [
      "53831655 26505\n",
      "333126651 164021\n",
      "512313657 252247\n",
      "647931651 319021\n",
      "831966654 409634\n"
     ]
    }
   ],
   "source": [
    "from fnmatch import *\n",
    "sd = []\n",
    "for i in range (1,20):\n",
    "    sd.append(2**i)\n",
    "for x in range(0, 10**9, 31*2031):\n",
    "    if fnmatch(str(x), '*31*65?'):\n",
    "        delitel = []\n",
    "        for i in range(1, round (x**0.5)):\n",
    "            if x%i==0:\n",
    "                delitel.append(i)\n",
    "                delitel.append(x // i)\n",
    "        if len(delitel) in sd:\n",
    "            print(x, x // 2031)"
   ]
  },
  {
   "cell_type": "code",
   "execution_count": 11,
   "metadata": {},
   "outputs": [
    {
     "name": "stdout",
     "output_type": "stream",
     "text": [
      "22 245711\n",
      "30 245719\n",
      "34 245723\n",
      "52 245741\n",
      "58 245747\n",
      "64 245753\n"
     ]
    }
   ],
   "source": [
    "def is_prime(num):\n",
    "    c = 0\n",
    "    for i in range(2, round(num//2)):\n",
    "        if num % i == 0:\n",
    "            c+=1\n",
    "    if c == 0:\n",
    "        return True\n",
    "    else:\n",
    "        return False\n",
    "index = 1\n",
    "\n",
    "for i in range(245690, 245756):\n",
    "    if is_prime(i):\n",
    "        print(index, i)\n",
    "    index += 1"
   ]
  },
  {
   "cell_type": "code",
   "execution_count": 24,
   "metadata": {},
   "outputs": [
    {
     "name": "stdout",
     "output_type": "stream",
     "text": [
      "210244 [2, 4, 52561, 105122]\n",
      "210268 [2, 4, 52567, 105134]\n",
      "210284 [2, 4, 52571, 105142]\n"
     ]
    }
   ],
   "source": [
    "def is_prime(num):\n",
    "    c = []\n",
    "    for i in range(2, round(num//2+1)):\n",
    "        if num % i == 0:\n",
    "            c.append(i)\n",
    "    if len(c) == 4:\n",
    "        return c\n",
    "    else:\n",
    "        return None\n",
    "\n",
    "for i in range(210235, 210300):\n",
    "    if is_prime(i) != None:\n",
    "        print(i, is_prime(i))\n"
   ]
  },
  {
   "cell_type": "code",
   "execution_count": null,
   "metadata": {},
   "outputs": [],
   "source": [
    "from fnmatch import *\n",
    "\n",
    "for x in range(0, 10**10):\n",
    "    if fnmatch(str(x), '3?6906*4') % 2024 == 0:\n",
    "        print(fnmatch())\n",
    "        "
   ]
  },
  {
   "cell_type": "code",
   "execution_count": 1,
   "metadata": {},
   "outputs": [
    {
     "name": "stdout",
     "output_type": "stream",
     "text": [
      "12363957\n",
      "120663351\n",
      "120963159\n",
      "124763850\n",
      "125063658\n"
     ]
    }
   ],
   "source": [
    "from fnmatch import *\n",
    "\n",
    "for x in range(3123, 10**9, 3123):\n",
    "    if fnmatch(str(x), '12*63?5?'):\n",
    "        print(x)"
   ]
  },
  {
   "cell_type": "code",
   "execution_count": 1,
   "metadata": {},
   "outputs": [
    {
     "name": "stdout",
     "output_type": "stream",
     "text": [
      "1072461\n",
      "1272460371\n",
      "1772469231\n"
     ]
    }
   ],
   "source": [
    "from fnmatch import *\n",
    "\n",
    "for x in range(4173, 10**10, 4173):\n",
    "    if fnmatch(str(x), '1?7246*1'):\n",
    "        print(x)"
   ]
  },
  {
   "cell_type": "code",
   "execution_count": 22,
   "metadata": {},
   "outputs": [
    {
     "data": {
      "text/plain": [
       "'d'"
      ]
     },
     "execution_count": 22,
     "metadata": {},
     "output_type": "execute_result"
    }
   ],
   "source": [
    "s = input()\n",
    "elems = dict()\n",
    "\n",
    "\n",
    "for el in s:\n",
    "    if el in elems:\n",
    "        elems[el] += 1\n",
    "    else:\n",
    "        elems[el] = 1\n",
    "    \n",
    "max(elems, key=lambda x: elems[x])"
   ]
  },
  {
   "cell_type": "code",
   "execution_count": 7,
   "metadata": {},
   "outputs": [
    {
     "name": "stdout",
     "output_type": "stream",
     "text": [
      "3 58153\n",
      "7 24923\n",
      "59 2957\n",
      "13 13421\n",
      "149 1171\n",
      "5 34897\n",
      "211 827\n",
      "2 87251\n"
     ]
    }
   ],
   "source": [
    "def dels(num: int) -> list:\n",
    "    delitels = []\n",
    "    for i in range(2, int(num // 2 + 1)):\n",
    "        if num % i == 0:\n",
    "            delitels.append(i)\n",
    "            \n",
    "    return delitels\n",
    "\n",
    "for num in range(174457, 174505+1):\n",
    "    if len(dels(num)) == 2:\n",
    "        print(*dels(num))"
   ]
  },
  {
   "cell_type": "code",
   "execution_count": 22,
   "metadata": {},
   "outputs": [
    {
     "name": "stdout",
     "output_type": "stream",
     "text": [
      "17 289 4913\n",
      "19 361 6859\n"
     ]
    }
   ],
   "source": [
    "def dels(num: int) -> list:\n",
    "    delitels = set()\n",
    "    for i in range(2, int(num ** 0.5)+1):\n",
    "        if num % i == 0:\n",
    "            delitels|={i, num//i}\n",
    "            \n",
    "    return sorted(set(delitels))\n",
    "\n",
    "for num in range(81234, 134690):\n",
    "    if len(dels(num)) == 3:\n",
    "        print(*dels(num))"
   ]
  },
  {
   "cell_type": "code",
   "execution_count": null,
   "metadata": {},
   "outputs": [],
   "source": [
    "from fnmatch import *\n",
    "\n",
    "for x in range(42, 10**8, 42):\n",
    "    if fnmatch(str(x), '?2*4*0'):\n",
    "        if not(fnmatch(str(x), '1*7*')):\n",
    "            print(str(x), x / 42)"
   ]
  },
  {
   "cell_type": "code",
   "execution_count": 10,
   "metadata": {},
   "outputs": [
    {
     "name": "stdout",
     "output_type": "stream",
     "text": [
      "{1, 2, 4, 5, 7, 8, 10, 14, 16, 13840, 20, 242200, 25, 28, 35, 40, 484400, 560, 50, 56, 30275, 70, 69200, 80, 100, 96880, 112, 1211000, 21625, 125, 60550, 140, 24220, 302750, 173, 175, 14000, 692, 1211, 700, 1730, 200, 2768, 1750, 4325, 4844, 2422000, 2800, 43250, 250, 6920, 121100, 280, 34600, 48440, 605500, 12110, 151375, 7000, 346, 350, 865, 1384, 875, 2422, 1400, 3460, 346000, 400, 17300, 6055, 3500, 19376, 173000, 8650, 2000, 9688, 86500, 1000, 500}\n"
     ]
    }
   ],
   "source": [
    "def prost(n):\n",
    "    dels = set()\n",
    "    for i in range(1, int(n ** 0.5)+1):\n",
    "        if n % i == 0:\n",
    "            dels.add(i)\n",
    "            dels.add(n//i)\n",
    "        \n",
    "    return dels\n",
    "\n",
    "for i in range(2422000, 2422080):\n",
    "    if prost(i):\n",
    "        print(prost(i))\n",
    "        break"
   ]
  },
  {
   "cell_type": "code",
   "execution_count": 1,
   "metadata": {},
   "outputs": [
    {
     "name": "stdout",
     "output_type": "stream",
     "text": [
      "1027110\n",
      "10271100\n",
      "102711000\n",
      "1027110000\n",
      "1527116930\n"
     ]
    }
   ],
   "source": [
    "from fnmatch import *\n",
    "\n",
    "for x in range(4891, 10**10, 4891):\n",
    "    if fnmatch(str(x), '1?2711*0'):\n",
    "        print(x)"
   ]
  },
  {
   "cell_type": "code",
   "execution_count": null,
   "metadata": {},
   "outputs": [],
   "source": [
    "def dels(num):\n",
    "    delss = set()\n",
    "    \n",
    "    for i in range(1, int(num**0.5) + 1):\n",
    "        if num % i == 0 and i % 2 != 0:\n",
    "            delss.add(i)\n",
    "            delss.add(num//i)\n",
    "            \n",
    "    return delss\n",
    "\n",
    "for num in range(45000001, 49000001, 10):\n",
    "    if len(dels(num)) == 5:\n",
    "        print(num)"
   ]
  },
  {
   "cell_type": "code",
   "execution_count": 5,
   "metadata": {},
   "outputs": [
    {
     "name": "stdout",
     "output_type": "stream",
     "text": [
      "142157664 70236\n",
      "1021575544 504731\n",
      "1121571264 554136\n",
      "1221577104 603546\n",
      "1321572824 652951\n",
      "1421578664 702361\n",
      "1521574384 751766\n",
      "1621570104 801171\n",
      "1721575944 850581\n",
      "1821571664 899986\n",
      "1921577504 949396\n"
     ]
    },
    {
     "ename": "KeyboardInterrupt",
     "evalue": "",
     "output_type": "error",
     "traceback": [
      "\u001b[1;31m---------------------------------------------------------------------------\u001b[0m",
      "\u001b[1;31mKeyboardInterrupt\u001b[0m                         Traceback (most recent call last)",
      "Cell \u001b[1;32mIn[5], line 4\u001b[0m\n\u001b[0;32m      1\u001b[0m \u001b[38;5;28;01mfrom\u001b[39;00m \u001b[38;5;21;01mfnmatch\u001b[39;00m \u001b[38;5;28;01mimport\u001b[39;00m \u001b[38;5;241m*\u001b[39m\n\u001b[0;32m      3\u001b[0m \u001b[38;5;28;01mfor\u001b[39;00m x \u001b[38;5;129;01min\u001b[39;00m \u001b[38;5;28mrange\u001b[39m(\u001b[38;5;241m2024\u001b[39m, \u001b[38;5;241m10\u001b[39m\u001b[38;5;241m*\u001b[39m\u001b[38;5;241m*\u001b[39m\u001b[38;5;241m10\u001b[39m, \u001b[38;5;241m2024\u001b[39m):\n\u001b[1;32m----> 4\u001b[0m     \u001b[38;5;28;01mif\u001b[39;00m \u001b[43mfnmatch\u001b[49m\u001b[43m(\u001b[49m\u001b[38;5;28;43mstr\u001b[39;49m\u001b[43m(\u001b[49m\u001b[43mx\u001b[49m\u001b[43m)\u001b[49m\u001b[43m,\u001b[49m\u001b[43m \u001b[49m\u001b[38;5;124;43m'\u001b[39;49m\u001b[38;5;124;43m1?2157*4\u001b[39;49m\u001b[38;5;124;43m'\u001b[39;49m\u001b[43m)\u001b[49m:\n\u001b[0;32m      5\u001b[0m         \u001b[38;5;28mprint\u001b[39m(x , x\u001b[38;5;241m/\u001b[39m\u001b[38;5;241m/\u001b[39m\u001b[38;5;241m2024\u001b[39m)\n",
      "File \u001b[1;32m~\\AppData\\Local\\Programs\\Python\\Python311\\Lib\\fnmatch.py:35\u001b[0m, in \u001b[0;36mfnmatch\u001b[1;34m(name, pat)\u001b[0m\n\u001b[0;32m     20\u001b[0m \u001b[38;5;250m\u001b[39m\u001b[38;5;124;03m\"\"\"Test whether FILENAME matches PATTERN.\u001b[39;00m\n\u001b[0;32m     21\u001b[0m \n\u001b[0;32m     22\u001b[0m \u001b[38;5;124;03mPatterns are Unix shell style:\u001b[39;00m\n\u001b[1;32m   (...)\u001b[0m\n\u001b[0;32m     32\u001b[0m \u001b[38;5;124;03mIf you don't want this, use fnmatchcase(FILENAME, PATTERN).\u001b[39;00m\n\u001b[0;32m     33\u001b[0m \u001b[38;5;124;03m\"\"\"\u001b[39;00m\n\u001b[0;32m     34\u001b[0m name \u001b[38;5;241m=\u001b[39m os\u001b[38;5;241m.\u001b[39mpath\u001b[38;5;241m.\u001b[39mnormcase(name)\n\u001b[1;32m---> 35\u001b[0m pat \u001b[38;5;241m=\u001b[39m \u001b[43mos\u001b[49m\u001b[38;5;241;43m.\u001b[39;49m\u001b[43mpath\u001b[49m\u001b[38;5;241;43m.\u001b[39;49m\u001b[43mnormcase\u001b[49m\u001b[43m(\u001b[49m\u001b[43mpat\u001b[49m\u001b[43m)\u001b[49m\n\u001b[0;32m     36\u001b[0m \u001b[38;5;28;01mreturn\u001b[39;00m fnmatchcase(name, pat)\n",
      "File \u001b[1;32m<frozen ntpath>:51\u001b[0m, in \u001b[0;36mnormcase\u001b[1;34m(s)\u001b[0m\n",
      "\u001b[1;31mKeyboardInterrupt\u001b[0m: "
     ]
    }
   ],
   "source": [
    "from fnmatch import *\n",
    "\n",
    "for x in range(2024, 10**10, 2024):\n",
    "    if fnmatch(str(x), '1?2157*4'):\n",
    "        print(x , x//2024)\n",
    "        "
   ]
  }
 ],
 "metadata": {
  "kernelspec": {
   "display_name": "venv",
   "language": "python",
   "name": "python3"
  },
  "language_info": {
   "codemirror_mode": {
    "name": "ipython",
    "version": 3
   },
   "file_extension": ".py",
   "mimetype": "text/x-python",
   "name": "python",
   "nbconvert_exporter": "python",
   "pygments_lexer": "ipython3",
   "version": "3.11.4"
  }
 },
 "nbformat": 4,
 "nbformat_minor": 2
}
