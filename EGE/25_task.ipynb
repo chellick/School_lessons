{
 "cells": [
  {
   "cell_type": "code",
   "execution_count": 8,
   "metadata": {},
   "outputs": [
    {
     "name": "stdout",
     "output_type": "stream",
     "text": [
      "3 58153\n",
      "7 24923\n",
      "59 2957\n",
      "13 13421\n",
      "149 1171\n",
      "5 34897\n",
      "211 827\n",
      "2 87251\n"
     ]
    }
   ],
   "source": [
    "def count_div(num):\n",
    "    d = 0\n",
    "    for i in range(2, num):\n",
    "        if num % i == 0:\n",
    "            d += 1\n",
    "    return d\n",
    "\n",
    "for i in range(174457, 174506):\n",
    "    if len(count_div(i)) == 2:\n",
    "        print(*count_div(i))"
   ]
  },
  {
   "cell_type": "code",
   "execution_count": 52,
   "metadata": {},
   "outputs": [],
   "source": [
    "def count_div(num):\n",
    "    d = 0\n",
    "    for i in range(1, num+1):\n",
    "        if num % i == 0:\n",
    "            d += 1\n",
    "    return d\n",
    "\n",
    "\n",
    "count_div(36)\n",
    "\n",
    "two = list(2**i for i in range(24))\n",
    "\n",
    "for j in range(0, 10):\n",
    "    for a in range(0, 1000):\n",
    "        for b in range(0, 1000):\n",
    "            num = int(f'{a}31{b}65{j}')\n",
    "            if num % 31 == 0 and num % 2031 == 0 and count_div in two:\n",
    "                    print(num)"
   ]
  },
  {
   "cell_type": "code",
   "execution_count": 56,
   "metadata": {},
   "outputs": [
    {
     "name": "stdout",
     "output_type": "stream",
     "text": [
      "53831655 26505\n",
      "333126651 164021\n",
      "512313657 252247\n",
      "647931651 319021\n",
      "831966654 409634\n"
     ]
    }
   ],
   "source": [
    "from fnmatch import *\n",
    "sd = []\n",
    "for i in range (1,20):\n",
    "    sd.append(2**i)\n",
    "for x in range(0, 10**9, 31*2031):\n",
    "    if fnmatch(str(x), '*31*65?'):\n",
    "        delitel = []\n",
    "        for i in range(1, round (x**0.5)):\n",
    "            if x%i==0:\n",
    "                delitel.append(i)\n",
    "                delitel.append(x // i)\n",
    "        if len(delitel) in sd:\n",
    "            print(x, x // 2031)"
   ]
  },
  {
   "cell_type": "code",
   "execution_count": 11,
   "metadata": {},
   "outputs": [
    {
     "name": "stdout",
     "output_type": "stream",
     "text": [
      "22 245711\n",
      "30 245719\n",
      "34 245723\n",
      "52 245741\n",
      "58 245747\n",
      "64 245753\n"
     ]
    }
   ],
   "source": [
    "def is_prime(num):\n",
    "    c = 0\n",
    "    for i in range(2, round(num//2)):\n",
    "        if num % i == 0:\n",
    "            c+=1\n",
    "    if c == 0:\n",
    "        return True\n",
    "    else:\n",
    "        return False\n",
    "index = 1\n",
    "\n",
    "for i in range(245690, 245756):\n",
    "    if is_prime(i):\n",
    "        print(index, i)\n",
    "    index += 1"
   ]
  },
  {
   "cell_type": "code",
   "execution_count": 24,
   "metadata": {},
   "outputs": [
    {
     "name": "stdout",
     "output_type": "stream",
     "text": [
      "210244 [2, 4, 52561, 105122]\n",
      "210268 [2, 4, 52567, 105134]\n",
      "210284 [2, 4, 52571, 105142]\n"
     ]
    }
   ],
   "source": [
    "def is_prime(num):\n",
    "    c = []\n",
    "    for i in range(2, round(num//2+1)):\n",
    "        if num % i == 0:\n",
    "            c.append(i)\n",
    "    if len(c) == 4:\n",
    "        return c\n",
    "    else:\n",
    "        return None\n",
    "\n",
    "for i in range(210235, 210300):\n",
    "    if is_prime(i) != None:\n",
    "        print(i, is_prime(i))\n"
   ]
  },
  {
   "cell_type": "code",
   "execution_count": null,
   "metadata": {},
   "outputs": [],
   "source": [
    "from fnmatch import *\n",
    "\n",
    "for x in range(0, 10**10):\n",
    "    if fnmatch(str(x), '3?6906*4') % 2024 == 0:\n",
    "        print(fnmatch())\n",
    "        "
   ]
  },
  {
   "cell_type": "code",
   "execution_count": 1,
   "metadata": {},
   "outputs": [
    {
     "name": "stdout",
     "output_type": "stream",
     "text": [
      "12363957\n",
      "120663351\n",
      "120963159\n",
      "124763850\n",
      "125063658\n"
     ]
    }
   ],
   "source": [
    "from fnmatch import *\n",
    "\n",
    "for x in range(3123, 10**9, 3123):\n",
    "    if fnmatch(str(x), '12*63?5?'):\n",
    "        print(x)"
   ]
  },
  {
   "cell_type": "code",
   "execution_count": 1,
   "metadata": {},
   "outputs": [
    {
     "name": "stdout",
     "output_type": "stream",
     "text": [
      "1072461\n",
      "1272460371\n",
      "1772469231\n"
     ]
    }
   ],
   "source": [
    "from fnmatch import *\n",
    "\n",
    "for x in range(4173, 10**10, 4173):\n",
    "    if fnmatch(str(x), '1?7246*1'):\n",
    "        print(x)"
   ]
  },
  {
   "cell_type": "code",
   "execution_count": 22,
   "metadata": {},
   "outputs": [
    {
     "data": {
      "text/plain": [
       "'d'"
      ]
     },
     "execution_count": 22,
     "metadata": {},
     "output_type": "execute_result"
    }
   ],
   "source": [
    "s = input()\n",
    "elems = dict()\n",
    "\n",
    "\n",
    "for el in s:\n",
    "    if el in elems:\n",
    "        elems[el] += 1\n",
    "    else:\n",
    "        elems[el] = 1\n",
    "    \n",
    "max(elems, key=lambda x: elems[x])"
   ]
  }
 ],
 "metadata": {
  "kernelspec": {
   "display_name": "venv",
   "language": "python",
   "name": "python3"
  },
  "language_info": {
   "codemirror_mode": {
    "name": "ipython",
    "version": 3
   },
   "file_extension": ".py",
   "mimetype": "text/x-python",
   "name": "python",
   "nbconvert_exporter": "python",
   "pygments_lexer": "ipython3",
   "version": "3.11.4"
  }
 },
 "nbformat": 4,
 "nbformat_minor": 2
}
