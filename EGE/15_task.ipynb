{
 "cells": [
  {
   "cell_type": "markdown",
   "metadata": {},
   "source": [
    "1010 \n",
    "1011\n",
    "\n",
    "1011\n",
    "\n",
    "поразрядное\n",
    "\n",
    "1010\n",
    "1011\n",
    "\n",
    "10101\n",
    "\n",
    "обычное\n",
    "\n",
    "\n"
   ]
  },
  {
   "cell_type": "code",
   "execution_count": null,
   "metadata": {},
   "outputs": [],
   "source": [
    "bin(10 + 11), bin(10 | 11), bin(0 or 15 or 11),"
   ]
  },
  {
   "cell_type": "markdown",
   "metadata": {},
   "source": [
    "```bin(0 or 15 or 11)``` берёт первое не равное 0"
   ]
  },
  {
   "cell_type": "code",
   "execution_count": null,
   "metadata": {},
   "outputs": [],
   "source": [
    "def algo(a):\n",
    "    for x in range(1000):\n",
    "        if (x & 29 != 0) <= ((x & 17 == 0) <= (x & a != 0)):\n",
    "            pass\n",
    "        else:\n",
    "            return False\n",
    "    return True\n",
    "\n",
    "\n",
    "for a in range(1000):\n",
    "    if algo(a):\n",
    "        print(a)\n",
    "        break"
   ]
  },
  {
   "cell_type": "code",
   "execution_count": null,
   "metadata": {},
   "outputs": [],
   "source": [
    "def algo(a):\n",
    "    for x in range(1000):\n",
    "        if (x & 25 != 0) <= ((x & 9 == 0) <= (x & a != 0)):\n",
    "            pass\n",
    "        else:\n",
    "            return False\n",
    "    return True\n",
    "\n",
    "\n",
    "for a in range(1000):\n",
    "    if algo(a):\n",
    "        print(a)\n",
    "        break"
   ]
  },
  {
   "cell_type": "code",
   "execution_count": null,
   "metadata": {},
   "outputs": [],
   "source": [
    "def algo(a):\n",
    "    for x in range(1000):\n",
    "        if (x & 17 == 0) <= ((x & 29 != 0) <= (x & a != 0)):\n",
    "            pass\n",
    "        else:\n",
    "            return False\n",
    "    return True\n",
    "\n",
    "\n",
    "for a in range(1000):\n",
    "    if algo(a):\n",
    "        print(a)\n",
    "        break"
   ]
  },
  {
   "cell_type": "code",
   "execution_count": null,
   "metadata": {},
   "outputs": [],
   "source": [
    "def algo(a):\n",
    "    for x in range(100):\n",
    "        for y in range(100):\n",
    "            if ((x <= 9) <= (x * x <= a)) and ((y * y <= a) <= (y <= 9)):\n",
    "                pass\n",
    "            else:\n",
    "                return False\n",
    "\n",
    "    return True\n",
    "\n",
    "\n",
    "for a in range(1000):\n",
    "    if algo(a):\n",
    "        print(a)"
   ]
  },
  {
   "cell_type": "code",
   "execution_count": null,
   "metadata": {},
   "outputs": [],
   "source": [
    "def algo(a):\n",
    "    for x in range(100):\n",
    "        for y in range(100):\n",
    "            if (x >= 12) or (3*x < y) or (x * y < a):\n",
    "                pass\n",
    "            else:\n",
    "                return False\n",
    "\n",
    "    return True\n",
    "\n",
    "\n",
    "for a in range(1000):\n",
    "    if algo(a):\n",
    "        print(a)\n",
    "        break"
   ]
  },
  {
   "cell_type": "code",
   "execution_count": null,
   "metadata": {},
   "outputs": [],
   "source": [
    "def algo(a):\n",
    "    for x in range(300):\n",
    "        for y in range(300):\n",
    "            if (x < a) or (y < a) or (y < x - 5) or (y < 2 * x - 15):\n",
    "                pass\n",
    "            else:\n",
    "                return False\n",
    "    return True\n",
    "\n",
    "\n",
    "for a in range(1000):\n",
    "    if algo(a):\n",
    "        print(a)"
   ]
  },
  {
   "cell_type": "code",
   "execution_count": null,
   "metadata": {},
   "outputs": [],
   "source": [
    "def f(n, m):\n",
    "    return n % m == 0\n",
    "\n",
    "\n",
    "def algo(a):\n",
    "    for x in range(1000):\n",
    "        if (not f(x, a)) <= (f(x, 6) <= (not f(x, 4))):\n",
    "            pass\n",
    "        else:\n",
    "            return False\n",
    "    return True\n",
    "\n",
    "\n",
    "for a in range(1000, 0, -1):\n",
    "    if algo(a):\n",
    "        print(a)"
   ]
  },
  {
   "cell_type": "code",
   "execution_count": null,
   "metadata": {},
   "outputs": [],
   "source": [
    "from itertools import combinations"
   ]
  },
  {
   "cell_type": "code",
   "execution_count": null,
   "metadata": {},
   "outputs": [],
   "source": [
    "\n",
    "def p(x):\n",
    "    return 20 <= x <= 50\n",
    "\n",
    "\n",
    "def q(x):\n",
    "    return 30 <= x <= 65\n",
    "\n",
    "\n",
    "def a(start, stop, x):\n",
    "    return start <= x <= stop  # <= - если наименьшая, < - если наибольшая\n",
    "\n",
    "\n",
    "# пишу все координаты из всех отрезков\n",
    "coords = combinations(\n",
    "    sorted([20, 50, 30, 65]), 2)\n",
    "\n",
    "\n",
    "dlini = set()\n",
    "\n",
    "for start, stop in coords:\n",
    "    flag = True\n",
    "    for x in range(0, 70):  # проверяем диапазон х\n",
    "        if not (\n",
    "            # пишем логическое выражение\n",
    "            (not a(start=start, stop=stop, x=x)) <= (p(x) <= (not q(x)))\n",
    "        ):\n",
    "            flag = False\n",
    "            break\n",
    "\n",
    "    if flag:  # добавляем в множество длину отрезка STOP - START !!!\n",
    "        dlini.add(stop - start)\n",
    "\n",
    "\n",
    "print(dlini, min(dlini))"
   ]
  },
  {
   "cell_type": "code",
   "execution_count": null,
   "metadata": {},
   "outputs": [],
   "source": [
    "\n",
    "def p(x):\n",
    "    return 17 <= x <= 46\n",
    "\n",
    "\n",
    "def q(x):\n",
    "    return 22 <= x <= 57\n",
    "\n",
    "\n",
    "def a(start, stop, x):\n",
    "    return start <= x <= stop  # <= - если наименьшая, < - если наибольшая\n",
    "\n",
    "\n",
    "# пишу все координаты из всех отрезков\n",
    "coords = combinations(\n",
    "    sorted([17, 46, 22, 57]), 2)\n",
    "\n",
    "\n",
    "dlini = set()\n",
    "\n",
    "for start, stop in coords:\n",
    "    flag = True\n",
    "    for x in range(0, 70):  # проверяем диапазон х\n",
    "        if not (\n",
    "            # пишем логическое выражение\n",
    "            (not a(start, stop, x)) <= (\n",
    "                (p(x) and q(x)) <= a(start, stop, x)\n",
    "            )\n",
    "        ):\n",
    "            flag = False\n",
    "            break\n",
    "\n",
    "    if flag:  # добавляем в множество длину отрезка STOP - START !!!\n",
    "        dlini.add(stop - start)\n",
    "\n",
    "\n",
    "print(dlini, min(dlini))"
   ]
  },
  {
   "cell_type": "code",
   "execution_count": null,
   "metadata": {},
   "outputs": [],
   "source": [
    "\n",
    "def p(x):\n",
    "    return 2 <= x <= 10\n",
    "\n",
    "\n",
    "def q(x):\n",
    "    return 6 <= x <= 14\n",
    "\n",
    "\n",
    "def a(start, stop, x):\n",
    "    return start < x < stop  # <= - если наименьшая, < - если наибольшая\n",
    "\n",
    "\n",
    "# пишу все координаты из всех отрезков\n",
    "coords = combinations(\n",
    "    sorted([2, 10, 6, 14]), 2)\n",
    "\n",
    "\n",
    "dlini = set()\n",
    "\n",
    "for start, stop in coords:\n",
    "    flag = True\n",
    "    for x in range(0, 30):  # проверяем диапазон х\n",
    "        if not (\n",
    "            # пишем логическое выражение\n",
    "            ((a(start, stop, x) <= p(x)) or q(x))\n",
    "        ):\n",
    "            flag = False\n",
    "            break\n",
    "\n",
    "    if flag:  # добавляем в множество длину отрезка STOP - START !!!\n",
    "        dlini.add(stop - start)\n",
    "\n",
    "\n",
    "print(dlini, max(dlini))  # min если МИНИМАЛЬНАЯ"
   ]
  },
  {
   "cell_type": "code",
   "execution_count": null,
   "metadata": {},
   "outputs": [],
   "source": [
    "\n",
    "def p(x):\n",
    "    return 3 <= x <= 38\n",
    "\n",
    "\n",
    "def q(x):\n",
    "    return 21 <= x <= 57\n",
    "\n",
    "\n",
    "def a(start, stop, x):\n",
    "    return start < x < stop  # <= - если наименьшая, < - если наибольшая\n",
    "\n",
    "\n",
    "# пишу все координаты из всех отрезков\n",
    "coords = combinations(\n",
    "    sorted([3, 38, 21, 57]), 2)\n",
    "\n",
    "\n",
    "dlini = set()\n",
    "\n",
    "for start, stop in coords:\n",
    "    flag = True\n",
    "    for x in range(0, 70):  # проверяем диапазон х\n",
    "        if not (\n",
    "            # пишем логическое выражение\n",
    "            ((q(x) <= p(x)) <= (not a(start, stop, x)))\n",
    "        ):\n",
    "            flag = False\n",
    "            break\n",
    "\n",
    "    if flag:  # добавляем в множество длину отрезка STOP - START !!!\n",
    "        dlini.add(stop - start)\n",
    "\n",
    "\n",
    "print(dlini, max(dlini))  # min если МИНИМАЛЬНАЯ"
   ]
  },
  {
   "cell_type": "code",
   "execution_count": null,
   "metadata": {},
   "outputs": [],
   "source": [
    "def d(n, m):\n",
    "    if n % m == 0:\n",
    "        return 1\n",
    "    return 0\n",
    "\n",
    "\n",
    "def algo(a):\n",
    "    for x in range(1000):\n",
    "        if ((d(x, a) and d(x, 24)) and (not (d(x, 16)))) <= (not (x, a)):\n",
    "            pass\n",
    "        else:\n",
    "            return False\n",
    "    return True\n",
    "\n",
    "\n",
    "for a in range(1, 1000):\n",
    "    if algo(a):\n",
    "        print(a)\n",
    "        break"
   ]
  },
  {
   "cell_type": "code",
   "execution_count": null,
   "metadata": {},
   "outputs": [],
   "source": [
    "def d(n, m):\n",
    "    if n % m == 0:\n",
    "        return 1\n",
    "    return 0\n",
    "\n",
    "\n",
    "def f(a):\n",
    "    for x in range(10000):\n",
    "        if ((not (d(x, 84))) or (not (d(x, 90)))) <= (not (d(x, a))):\n",
    "            pass\n",
    "        else:\n",
    "            return False\n",
    "    return True\n",
    "\n",
    "\n",
    "for a in range(1, 10000):\n",
    "    if f(a):\n",
    "        print(a)\n",
    "        break"
   ]
  },
  {
   "cell_type": "markdown",
   "metadata": {},
   "source": [
    "Если по предположениям код верен, но ответ не логичен -> бо'льшее количество итераций"
   ]
  },
  {
   "cell_type": "code",
   "execution_count": null,
   "metadata": {},
   "outputs": [],
   "source": [
    "def d(n, m):\n",
    "    if n % m == 0:\n",
    "        return 1\n",
    "    return 0\n",
    "\n",
    "\n",
    "def f(a):\n",
    "    for x in range(10000):\n",
    "        if (d(x, 15) and (not (d(x, 21)))) <= ((not (d(x, a))) or (not (d(x, 15)))):\n",
    "            pass\n",
    "        else:\n",
    "            return False\n",
    "    return True\n",
    "\n",
    "\n",
    "for a in range(1, 10000):\n",
    "    if f(a):\n",
    "        print(a)\n",
    "        break"
   ]
  },
  {
   "cell_type": "code",
   "execution_count": null,
   "metadata": {},
   "outputs": [],
   "source": [
    "\n",
    "def f(a):\n",
    "    for x in range(10000):\n",
    "        if ((x % 4 != 3) or (x % 6 != 1)) <= (x % 36 != a):\n",
    "            pass\n",
    "        else:\n",
    "            return 0\n",
    "    return 1\n",
    "\n",
    "\n",
    "for a in range(10000):\n",
    "    if f(a):\n",
    "        print(a)\n",
    "        break"
   ]
  },
  {
   "cell_type": "code",
   "execution_count": null,
   "metadata": {},
   "outputs": [],
   "source": [
    "from itertools import combinations"
   ]
  },
  {
   "cell_type": "code",
   "execution_count": null,
   "metadata": {},
   "outputs": [],
   "source": [
    "\n",
    "def p(x):\n",
    "    return 18 <= x <= 52\n",
    "\n",
    "\n",
    "def q(x):\n",
    "    return 16 <= x <= 41\n",
    "\n",
    "\n",
    "def a(start, stop, x):\n",
    "    return start <= x <= stop  # <= - если наименьшая, < - если наибольшая\n",
    "\n",
    "\n",
    "# пишу все координаты из всех отрезков\n",
    "coords = combinations(\n",
    "    sorted([18, 52, 16, 41]), 2)\n",
    "\n",
    "\n",
    "dlini = set()\n",
    "\n",
    "for start, stop in coords:\n",
    "    flag = True\n",
    "    for x in range(0, 70):  # проверяем диапазон х\n",
    "        if not (\n",
    "            # пишем логическое выражение\n",
    "            ((p(x) <= a(start, stop, x))) and (not (q(x)) or a(start, stop, x))\n",
    "        ):\n",
    "            flag = False\n",
    "            break\n",
    "\n",
    "    if flag:  # добавляем в множество длину отрезка STOP - START !!!\n",
    "        dlini.add(stop - start)\n",
    "\n",
    "\n",
    "print(dlini, (dlini))  # min если МИНИМАЛЬНАЯ"
   ]
  },
  {
   "cell_type": "code",
   "execution_count": null,
   "metadata": {},
   "outputs": [],
   "source": [
    "def d(m, n):\n",
    "    if m % n == 0:\n",
    "        return 1\n",
    "    return 0\n",
    "\n",
    "\n",
    "def f(a):\n",
    "    for x in range(1, 10000):\n",
    "        if d(a, 7) and (d(240, x) <= ((not (d(a, x))) <= (not (d(780, x))))):\n",
    "            pass\n",
    "        else:\n",
    "            return 0\n",
    "    return 1\n",
    "\n",
    "\n",
    "for a in range(1, 10000):\n",
    "    if f(a):\n",
    "        print(a)\n",
    "        break"
   ]
  },
  {
   "cell_type": "code",
   "execution_count": null,
   "metadata": {},
   "outputs": [],
   "source": [
    "from itertools import combinations"
   ]
  },
  {
   "cell_type": "code",
   "execution_count": null,
   "metadata": {},
   "outputs": [],
   "source": [
    "def p(x):\n",
    "    return 35 <= x <= 55\n",
    "\n",
    "\n",
    "def q(x):\n",
    "    return 45 <= x <= 65\n",
    "\n",
    "\n",
    "def a(start, stop, x):\n",
    "    return start <= x <= stop\n",
    "\n",
    "\n",
    "cords = combinations(sorted([35, 55, 45, 65]), r=2)\n",
    "dlini = set()\n",
    "\n",
    "for start, stop in cords:\n",
    "    flag = True\n",
    "    for x in range(0, 80):\n",
    "        if not (\n",
    "            (p(x) <= a(start, stop, x)) and\n",
    "            ((not a(start, stop, x)) <= (not q(x)))\n",
    "        ):\n",
    "            flag = False\n",
    "\n",
    "    if flag:\n",
    "        dlini.add(stop-start)\n",
    "\n",
    "dlini"
   ]
  },
  {
   "cell_type": "code",
   "execution_count": null,
   "metadata": {},
   "outputs": [],
   "source": [
    "def d(x):\n",
    "    return 17 <= x <= 58\n",
    "\n",
    "\n",
    "def c(x):\n",
    "    return 29 <= x <= 80\n",
    "\n",
    "\n",
    "def a(start, stop, x):\n",
    "    return start <= x <= stop\n",
    "\n",
    "\n",
    "cords = combinations(sorted([17, 58, 29, 80]), r=2)\n",
    "dlini = set()\n",
    "for start, stop in cords:\n",
    "    flag = True\n",
    "    for x in range(1, 90):\n",
    "        if not (\n",
    "            (d(x)) <= (((not c(x)) and (not a(start, stop, x))) <= (not d(x)))\n",
    "        ):\n",
    "            flag = False\n",
    "    if flag:\n",
    "        dlini.add(stop-start)\n",
    "\n",
    "dlini"
   ]
  },
  {
   "cell_type": "code",
   "execution_count": null,
   "metadata": {},
   "outputs": [],
   "source": [
    "import sys\n",
    "sys.setrecursionlimit(10**4)"
   ]
  },
  {
   "cell_type": "code",
   "execution_count": null,
   "metadata": {},
   "outputs": [],
   "source": [
    "def f(n):\n",
    "    if n <= 1:\n",
    "        return 0\n",
    "\n",
    "    elif n % 2 != 0:\n",
    "        return f(n-1) + 3 * n ** 2\n",
    "\n",
    "    return n / 2 + f(n-1) + 2\n",
    "\n",
    "\n",
    "f(49)"
   ]
  },
  {
   "cell_type": "code",
   "execution_count": null,
   "metadata": {},
   "outputs": [],
   "source": [
    "def f(n):\n",
    "    if n <= 2:\n",
    "        return n\n",
    "\n",
    "    if n > 2 and n % 2 == 0:\n",
    "        return int((4 * n - f(n - 3)) / 8)\n",
    "\n",
    "    return int((4 * n - f(n - 1) + f(n - 2)) / 8)\n",
    "\n",
    "\n",
    "f(52) - f(38)"
   ]
  },
  {
   "cell_type": "code",
   "execution_count": null,
   "metadata": {},
   "outputs": [],
   "source": [
    "def f(n):\n",
    "    if n <= 2:\n",
    "        return n\n",
    "    if n > 2:\n",
    "        return 2 * f(n-1) + (n-2) * f(n-2)\n",
    "\n",
    "\n",
    "f(6)"
   ]
  },
  {
   "cell_type": "code",
   "execution_count": null,
   "metadata": {},
   "outputs": [],
   "source": [
    "from functools import lru_cache"
   ]
  },
  {
   "cell_type": "code",
   "execution_count": null,
   "metadata": {},
   "outputs": [],
   "source": [
    "def f(n):\n",
    "    if n < 11:\n",
    "        return 10\n",
    "    return n + f(n-1)\n",
    "\n",
    "\n",
    "f(2124) - f(2122)"
   ]
  },
  {
   "cell_type": "code",
   "execution_count": null,
   "metadata": {},
   "outputs": [],
   "source": [
    "import time"
   ]
  },
  {
   "cell_type": "code",
   "execution_count": null,
   "metadata": {},
   "outputs": [],
   "source": [
    "\n",
    "def f(n):\n",
    "    if n == 0:\n",
    "        return 0\n",
    "    if n % 2 != 0:\n",
    "        return f(n-1) + 1\n",
    "    if n > 0 and n % 2 == 0:\n",
    "        return f(n/2)\n",
    "\n",
    "\n",
    "c = 0\n",
    "\n",
    "for n in range(10**7):\n",
    "    if f(n) == 2:\n",
    "        c += 1\n",
    "\n",
    "c"
   ]
  },
  {
   "cell_type": "code",
   "execution_count": null,
   "metadata": {},
   "outputs": [],
   "source": [
    "яндекc = 0\n",
    "\n",
    "\n",
    "def f(n):\n",
    "    if n == 0:\n",
    "        return 0\n",
    "    elif n > 0 and n % 2 == 0:\n",
    "        return f(n / 2)\n",
    "    elif n % 2 != 0:\n",
    "        return 1 + f(n-1)\n",
    "\n",
    "\n",
    "for n in range(1, 1000):\n",
    "    if f(n) == 3:\n",
    "        яндекc += 1\n",
    "\n",
    "яндекc"
   ]
  },
  {
   "cell_type": "code",
   "execution_count": null,
   "metadata": {},
   "outputs": [],
   "source": [
    "from itertools import combinations"
   ]
  },
  {
   "cell_type": "code",
   "execution_count": null,
   "metadata": {},
   "outputs": [],
   "source": [
    "def p(x):\n",
    "    return 11 < x < 28\n",
    "\n",
    "\n",
    "def q(x):\n",
    "    return 5 < x < 55\n",
    "\n",
    "\n",
    "def a(start, stop, x):\n",
    "    return start < x < stop\n",
    "\n",
    "\n",
    "coords = list(sorted([11, 28, 5, 55]))\n",
    "solutions = set()\n",
    "\n",
    "for start, stop in combinations(coords, r=2):\n",
    "    for x in range(0, 70):\n",
    "        if not (\n",
    "            (a(start, stop, x)) or (not (not p(x)) <= (q(x)))\n",
    "        ):\n",
    "            break\n",
    "        else:\n",
    "            solutions.add(stop-start)\n",
    "\n",
    "solutions"
   ]
  },
  {
   "cell_type": "code",
   "execution_count": null,
   "metadata": {},
   "outputs": [],
   "source": [
    "nums = []\n",
    "for x in range(1, 100):\n",
    "    for y in range(1, 100):\n",
    "        for a in range(1, 1000):\n",
    "            if ((x+2*y > 48) or (y > x) or (x+3*y < a)) == 0:\n",
    "                nums.append(a)\n",
    "\n",
    "max(nums)"
   ]
  },
  {
   "cell_type": "code",
   "execution_count": null,
   "metadata": {},
   "outputs": [],
   "source": [
    "def f(A):\n",
    "    for x in range(1, 1000):\n",
    "        if (\n",
    "            (((x & 26 != 0) or (x & 13 != 0)) <= ((x & 29 == 0) <= (x & A != 0)))\n",
    "        ) == 1:\n",
    "            pass\n",
    "        else:\n",
    "            return False\n",
    "    return True\n",
    "\n",
    "\n",
    "for a in range(1000):\n",
    "    if f(a):\n",
    "        print(a)\n",
    "        break"
   ]
  },
  {
   "cell_type": "code",
   "execution_count": null,
   "metadata": {},
   "outputs": [],
   "source": []
  },
  {
   "cell_type": "code",
   "execution_count": null,
   "metadata": {},
   "outputs": [],
   "source": [
    "def f(a):\n",
    "    for x in range(1, 10000):\n",
    "        if (\n",
    "            (((x & 13 != 0) or (x & a != 0)) <= (x & 13 != 0)) or (\n",
    "                (x & a != 0) and (x & 39 == 0))\n",
    "        ):\n",
    "            pass\n",
    "        else:\n",
    "            return False\n",
    "    return True\n",
    "\n",
    "\n",
    "for a in range(1, 1000):\n",
    "    if f(a):\n",
    "        print(a)"
   ]
  },
  {
   "cell_type": "code",
   "execution_count": null,
   "metadata": {},
   "outputs": [],
   "source": [
    "def f(a):\n",
    "    for x in range(1, 1000):\n",
    "        if (\n",
    "            (x & 107 == 0) <= ((x & 55 != 0) <= (x & a != 0))\n",
    "        ):\n",
    "            pass\n",
    "        else:\n",
    "            return False\n",
    "    return True\n",
    "\n",
    "\n",
    "for a in range(1, 1000):\n",
    "    if f(a):\n",
    "        print(a)\n",
    "        break"
   ]
  },
  {
   "cell_type": "code",
   "execution_count": null,
   "metadata": {},
   "outputs": [],
   "source": [
    "def p(a):\n",
    "    a = bin(a)[2:]\n",
    "    if a[:2] == '11':\n",
    "        return True\n",
    "    return False\n",
    "\n",
    "\n",
    "def q(a):\n",
    "    if bin(a)[-1] == '0':\n",
    "        return True\n",
    "    return False\n",
    "\n",
    "\n",
    "def A(a):\n",
    "    return True\n",
    "\n",
    "\n",
    "1*2*3*4*5"
   ]
  },
  {
   "cell_type": "code",
   "execution_count": null,
   "metadata": {},
   "outputs": [],
   "source": [
    "def f(a):\n",
    "    for x in range(1, 1000):\n",
    "        for y in range(1, 1000):\n",
    "            if (\n",
    "                (x*y > a) and (x > y) and (x < 8)\n",
    "            ):\n",
    "                return False\n",
    "    return True\n",
    "\n",
    "\n",
    "for a in range(1, 1000):\n",
    "    if f(a):\n",
    "        print(a)"
   ]
  },
  {
   "cell_type": "code",
   "execution_count": null,
   "metadata": {},
   "outputs": [],
   "source": [
    "def f(a):\n",
    "    for x in range(1, 1000):\n",
    "        for y in range(1, 1000):\n",
    "            if (\n",
    "                (x > 39) or (y > 26) or (2*x + 4 * y < a)\n",
    "            ):\n",
    "                pass\n",
    "            else:\n",
    "                return False\n",
    "    return True\n",
    "\n",
    "\n",
    "for a in range(1, 1000):\n",
    "    if f(a):\n",
    "        print(a)\n",
    "        break"
   ]
  },
  {
   "cell_type": "code",
   "execution_count": null,
   "metadata": {},
   "outputs": [],
   "source": [
    "def f(a):\n",
    "    for x in range(1, 1000):\n",
    "        for y in range(1, 1000):\n",
    "            if (\n",
    "                (2*x + y != 70) or (x < y) or (a < x)\n",
    "            ):\n",
    "                pass\n",
    "            else:\n",
    "                return False\n",
    "\n",
    "    return True\n",
    "\n",
    "\n",
    "for a in range(1, 1000):\n",
    "    if f(a):\n",
    "        print(a)"
   ]
  },
  {
   "cell_type": "code",
   "execution_count": null,
   "metadata": {},
   "outputs": [],
   "source": [
    "def f(a):\n",
    "    for x in range(1, 1000):\n",
    "        for y in range(1, 1000):\n",
    "            if (\n",
    "                (x**2 - 10*x + 16 > 0) or (y**2 - 10*y+21 > 0) or (x*y < 2*a)\n",
    "            ):\n",
    "                pass\n",
    "            else:\n",
    "                return False\n",
    "    return True\n",
    "\n",
    "\n",
    "for a in range(1, 1000):\n",
    "    if f(a):\n",
    "        print(a)"
   ]
  },
  {
   "cell_type": "code",
   "execution_count": null,
   "metadata": {},
   "outputs": [],
   "source": [
    "def f(a):\n",
    "    for x in range(1, 15):\n",
    "        if ((x in (1, 3, 5, 7, 9, 11))):\n",
    "            pass\n",
    "        else:\n",
    "            return False"
   ]
  },
  {
   "cell_type": "code",
   "execution_count": null,
   "metadata": {},
   "outputs": [],
   "source": [
    "from itertools import combinations\n",
    "\n",
    "\n",
    "def d(x):\n",
    "    return 17 <= x <= 58\n",
    "\n",
    "\n",
    "def c(x):\n",
    "    return 29 <= x <= 80\n",
    "\n",
    "\n",
    "def a(start, stop, x):\n",
    "    return start <= x <= stop\n",
    "\n",
    "\n",
    "coords = combinations(sorted([17, 58, 29, 80]), r=2)\n",
    "\n",
    "result = set()\n",
    "\n",
    "\n",
    "for start, stop in coords:\n",
    "    flag = True\n",
    "    for x in range(0, 90):\n",
    "        if not (\n",
    "            ((d(x)) <= ((not c(x)) and (not a(start, stop, x)))) <= (not d(x))\n",
    "        ):\n",
    "            flag = False\n",
    "        if flag:\n",
    "            result.add(stop-start)\n",
    "\n",
    "result"
   ]
  },
  {
   "cell_type": "code",
   "execution_count": null,
   "metadata": {},
   "outputs": [],
   "source": [
    "from itertools import combinations\n",
    "\n",
    "\n",
    "def p(x):\n",
    "    return 17 <= x <= 54\n",
    "\n",
    "\n",
    "def q(x):\n",
    "    return 37 <= x <= 83\n",
    "\n",
    "\n",
    "def a(start, stop, x):\n",
    "    return start <= x <= stop\n",
    "\n",
    "\n",
    "coords = combinations(sorted([17, 54, 37, 83]), r=2)\n",
    "\n",
    "r = set()\n",
    "\n",
    "for start, stop in coords:\n",
    "    flag = True\n",
    "    for x in range(1, 90):\n",
    "        if not (\n",
    "            (p(x)) <= (((q(x)) and (not a(start, stop, x))) <= (not p(x)))\n",
    "        ):\n",
    "            flag = False\n",
    "            break\n",
    "\n",
    "    if flag:\n",
    "        r.add(stop-start)\n",
    "r"
   ]
  },
  {
   "cell_type": "code",
   "execution_count": null,
   "metadata": {},
   "outputs": [],
   "source": [
    "import itertools\n",
    "\n",
    "sets = []\n",
    "largest_set = {1, 3, 5, 7, 9, 11, 12}\n",
    "\n",
    "\n",
    "for i in range(len(largest_set)):\n",
    "    for s in itertools.combinations(largest_set, r=i):\n",
    "        sets.append(s)\n",
    "\n",
    "\n",
    "for set_ in sets:\n",
    "    flag = True\n",
    "    for x in range(1, 13):\n",
    "        if not (\n",
    "            ((x in {1, 3, 5, 7, 9, 11}) <=\n",
    "             (not x in {3, 6, 9, 12})) or (x in set_)\n",
    "        ):\n",
    "            flag = False\n",
    "            break\n",
    "\n",
    "    if flag:\n",
    "        print(sum(set_))\n",
    "        break"
   ]
  },
  {
   "cell_type": "code",
   "execution_count": null,
   "metadata": {},
   "outputs": [],
   "source": [
    "import itertools\n",
    "\n",
    "longest_set = {1, 2, 3, 4, 5, 6, 9, 12}\n",
    "sets = []\n",
    "\n",
    "for i in range(len(longest_set)):\n",
    "    for s in itertools.combinations(longest_set, r=i):\n",
    "        sets.append(s)\n",
    "\n",
    "for A in sets:\n",
    "    flag = True\n",
    "    for x in range(1, 13):\n",
    "        if not (\n",
    "            not (not (x in A) and x in {3, 6, 9, 12}) or not (\n",
    "                x in {1, 2, 3, 4, 5, 6})\n",
    "        ):\n",
    "            flag = False\n",
    "            break\n",
    "    if flag:\n",
    "        print(A)\n",
    "        break"
   ]
  },
  {
   "cell_type": "code",
   "execution_count": null,
   "metadata": {},
   "outputs": [],
   "source": [
    "import itertools\n",
    "\n",
    "p = []\n",
    "q = []\n",
    "a = []\n",
    "\n",
    "for c in itertools.product('01', repeat=8):\n",
    "    c = \"\".join(c)\n",
    "    if c[:2] == '11':\n",
    "        p.append(c)\n",
    "    if c[-1] == '0':\n",
    "        q.append(c)\n",
    "    a.append(c)\n",
    "    \n",
    "for x\n",
    "    \n"
   ]
  },
  {
   "cell_type": "code",
   "execution_count": null,
   "metadata": {},
   "outputs": [],
   "source": [
    "def d(n, m):\n",
    "    return n % m == 0\n",
    "\n",
    "\n",
    "def func(a):\n",
    "    for x in range(1, 1000):\n",
    "        if (\n",
    "            d(a, 45) and (d(750, x) <= (((not d(a, x)) <= (not d(120, x))))\n",
    "                          )):\n",
    "            pass\n",
    "        else:\n",
    "            return False\n",
    "\n",
    "    return True\n",
    "\n",
    "\n",
    "for a in range(1, 1000):\n",
    "    if func(a):\n",
    "        print(a)\n",
    "        break"
   ]
  },
  {
   "cell_type": "code",
   "execution_count": null,
   "metadata": {},
   "outputs": [],
   "source": [
    "def d(n, m):\n",
    "    if n % m == 0:\n",
    "        return True\n",
    "    return False\n",
    "\n",
    "\n",
    "def f(a):\n",
    "    for x in range(1, 1000):\n",
    "        if (\n",
    "            (a < 50) and ((not d(x, a)) <= ((d(x, 10)) <= (not d(x, 18))))\n",
    "        ):\n",
    "            pass\n",
    "        else:\n",
    "            return False\n",
    "    return True\n",
    "\n",
    "\n",
    "for a in range(1, 1000):\n",
    "    if f(a):\n",
    "        print(a)"
   ]
  },
  {
   "cell_type": "code",
   "execution_count": null,
   "metadata": {},
   "outputs": [],
   "source": [
    "def check(a):\n",
    "    for x in range(1000):\n",
    "        for y in range(1000):\n",
    "            if (\n",
    "                (x ** 2 + y ** 2 > 128) or (y < -x + a)\n",
    "            ):\n",
    "                pass\n",
    "            else:\n",
    "                return False\n",
    "    return True\n",
    "\n",
    "\n",
    "for a in range(1, 1000):\n",
    "    if check(a):\n",
    "        print(a)\n",
    "        break"
   ]
  },
  {
   "cell_type": "code",
   "execution_count": null,
   "metadata": {},
   "outputs": [],
   "source": [
    "def check(a):\n",
    "    for x in range(1, 1000):\n",
    "        for y in range(1, 1000):\n",
    "            if (\n",
    "                ((x + 2 * y) < a) or (y > x) or (x > 60)\n",
    "            ):\n",
    "                pass\n",
    "            else:\n",
    "                return False\n",
    "    return True\n",
    "\n",
    "\n",
    "for a in range(1, 10000):\n",
    "    if check(a):\n",
    "        print(a)\n",
    "        break"
   ]
  },
  {
   "cell_type": "code",
   "execution_count": null,
   "metadata": {},
   "outputs": [],
   "source": [
    "def check(a):\n",
    "    for x in range(1, 10000):\n",
    "        if (\n",
    "            ((x & 42 != 0) or (x & 13 != 0)) <= ((x & 30 == 0) <= (x & a != 0))\n",
    "        ):\n",
    "            pass\n",
    "        else:\n",
    "            return False\n",
    "    return True\n",
    "\n",
    "\n",
    "for a in range(2, 1000):\n",
    "    if check(a):\n",
    "        print(a)\n",
    "        break"
   ]
  },
  {
   "cell_type": "code",
   "execution_count": null,
   "metadata": {},
   "outputs": [],
   "source": [
    "from itertools import combinations\n",
    "\n",
    "\n",
    "def p(x):\n",
    "    return 3 <= x <= 38\n",
    "\n",
    "\n",
    "def q(x):\n",
    "    return 21 <= x <= 57\n",
    "\n",
    "\n",
    "def A(start, stop, x):\n",
    "    return start <= x <= stop\n",
    "\n",
    "\n",
    "coords = combinations(sorted([38, 3, 21, 57]), r=2)\n",
    "\n",
    "r = set()\n",
    "\n",
    "\n",
    "for start, stop in coords:\n",
    "    flag = True\n",
    "    for x in range(1, 90):\n",
    "        if not (((q(x) <= p(x))) <= (not A(start, stop, x))):\n",
    "            flag = False\n",
    "            print(stop-start)\n",
    "            break\n",
    "\n",
    "    if flag:\n",
    "        r.add(stop-start)\n",
    "\n",
    "r"
   ]
  },
  {
   "cell_type": "code",
   "execution_count": null,
   "metadata": {},
   "outputs": [],
   "source": [
    "from itertools import combinations\n",
    "\n",
    "\n",
    "def p(x):\n",
    "    return 3 < x < 38\n",
    "\n",
    "\n",
    "def q(x):\n",
    "    return 21 < x < 57\n",
    "\n",
    "\n",
    "def a(start, stop, x):\n",
    "    return start < x < stop\n",
    "\n",
    "\n",
    "coords = combinations(sorted([3, 38, 21, 57]), r=2)\n",
    "\n",
    "r = set()\n",
    "\n",
    "for start, stop in coords:\n",
    "    flag = True\n",
    "    print(start, stop)\n",
    "    for x in range(1, 90):\n",
    "        if not (((q(x) <= p(x))) <= (not A(start, stop, x))):\n",
    "            flag = False\n",
    "            break\n",
    "\n",
    "    if flag:\n",
    "        r.add(stop-start)"
   ]
  },
  {
   "cell_type": "code",
   "execution_count": null,
   "metadata": {},
   "outputs": [],
   "source": [
    "def p(x):\n",
    "    return 20 <= x <= 50\n",
    "\n",
    "\n",
    "def q(x):\n",
    "    return 30 <= x <= 65\n",
    "\n",
    "\n",
    "def a(start, stop, x):\n",
    "    return start <= x <= stop\n",
    "\n",
    "\n",
    "coords = combinations(sorted([20, 50, 30, 65]), r=2)\n",
    "r = set()\n",
    "\n",
    "for start, stop in coords:\n",
    "    flag = True\n",
    "    for x in range(1, 90):\n",
    "        if not (\n",
    "            (not A(start, stop, x)) <= ((p(x)) <= (not q(x)))\n",
    "        ):\n",
    "            flag = False\n",
    "            print(stop-start)\n",
    "            break\n",
    "    if flag:\n",
    "        r.add(stop-start)\n",
    "\n",
    "r"
   ]
  },
  {
   "cell_type": "code",
   "execution_count": null,
   "metadata": {},
   "outputs": [],
   "source": [
    "from itertools import combinations\n",
    "\n",
    "\n",
    "def p(x):\n",
    "    return 24 <= x <= 77\n",
    "\n",
    "\n",
    "def q(x):\n",
    "    return 47 <= x <= 92\n",
    "\n",
    "\n",
    "def r(x):\n",
    "    return 82 <= x <= 116\n",
    "\n",
    "\n",
    "def a(start, stop, x):\n",
    "    return start <= x <= stop\n",
    "\n",
    "\n",
    "coords = combinations(sorted([24, 77, 47, 92, 82, 116]), r=2)\n",
    "d = set()\n",
    "for start, stop in coords:\n",
    "    fl = True\n",
    "    for x in range(1, 100):\n",
    "        if not (\n",
    "            (not ((q(x)) <= (p(x) or r(x)))) <= (\n",
    "                (not a(start, stop, x)) <= (not q(x)))\n",
    "        ):\n",
    "            fl = False\n",
    "            break\n",
    "    if fl:\n",
    "        print(start, stop)\n",
    "        d.add(stop-start)\n",
    "\n",
    "d"
   ]
  },
  {
   "cell_type": "code",
   "execution_count": null,
   "metadata": {},
   "outputs": [],
   "source": [
    "def check(a):\n",
    "    for x in range(1, 10000):\n",
    "        for y in range(1, 10000):\n",
    "            if (\n",
    "                (48 != y + 2*x) or (a < x) or (a < y)\n",
    "            ):\n",
    "                pass\n",
    "            else:\n",
    "                return False\n",
    "    return True\n",
    "\n",
    "\n",
    "for a in range(1000, 1, -1):\n",
    "    if check(a):\n",
    "        print(a)\n",
    "        break"
   ]
  },
  {
   "cell_type": "code",
   "execution_count": null,
   "metadata": {},
   "outputs": [],
   "source": [
    "from itertools import combinations\n",
    "# https://inf-ege.sdamgia.ru/problem?id=8666\n",
    "\n",
    "\n",
    "def p(x):\n",
    "    return 25 < x < 50\n",
    "\n",
    "\n",
    "def q(x):\n",
    "    return 32 < x < 47\n",
    "\n",
    "\n",
    "def a(start, stop, x):\n",
    "    return start < x < stop\n",
    "\n",
    "\n",
    "coords = combinations(sorted([25, 50, 32, 47]), r=2)\n",
    "r = set()\n",
    "\n",
    "for start, stop in coords:\n",
    "    fl = True\n",
    "    for x in range(1, 1000):\n",
    "        if not (\n",
    "            ((not a(start, stop, x)) <= (p(x))) <= (\n",
    "                (a(start, stop, x)) <= (q(x)))\n",
    "        ):\n",
    "            fl = False\n",
    "            break\n",
    "    if fl:\n",
    "        r.add(stop-start)\n",
    "\n",
    "r"
   ]
  },
  {
   "cell_type": "code",
   "execution_count": null,
   "metadata": {},
   "outputs": [],
   "source": [
    "# https://inf-ege.sdamgia.ru/problem?id=11119\n",
    "\n",
    "from itertools import combinations\n",
    "\n",
    "\n",
    "def p(x):\n",
    "    return 20 <= x <= 50\n",
    "\n",
    "\n",
    "def q(x):\n",
    "    return 30 <= x <= 65\n",
    "\n",
    "\n",
    "def A(start, stop, x):\n",
    "    return start <= x <= stop\n",
    "\n",
    "\n",
    "coords = combinations(sorted([20, 50, 30, 65]), r=2)\n",
    "r = set()\n",
    "\n",
    "for start, stop in coords:\n",
    "    fl = True\n",
    "    for x in range(1, 100):\n",
    "        if not (\n",
    "            (not A(start, stop, x)) <= ((p(x)) <= (not (q(x))))\n",
    "        ):\n",
    "            fl = False\n",
    "            break\n",
    "\n",
    "    if fl:\n",
    "        r.add(stop-start)\n",
    "\n",
    "min(r)"
   ]
  },
  {
   "cell_type": "code",
   "execution_count": null,
   "metadata": {},
   "outputs": [],
   "source": [
    "# https://inf-ege.sdamgia.ru/problem?id=9699\n",
    "\n",
    "def p(x):\n",
    "    return 4 <= x <= 15\n",
    "\n",
    "\n",
    "def q(x):\n",
    "    return 12 <= x <= 20\n",
    "\n",
    "\n",
    "def A(start, stop, x):\n",
    "    return start <= x <= stop\n",
    "\n",
    "\n",
    "coords = combinations(sorted([4, 15, 12, 20]), r=2)\n",
    "r = set()\n",
    "\n",
    "\n",
    "for start, stop in coords:\n",
    "    fl = True\n",
    "    for x in range(1, 100):\n",
    "        if not (\n",
    "            ((p(x)) and (q(x))) <= (A(start, stop, x))\n",
    "        ):\n",
    "            fl = False\n",
    "            break\n",
    "    if fl:\n",
    "        r.add(stop-start)\n",
    "\n",
    "min(r)"
   ]
  },
  {
   "cell_type": "code",
   "execution_count": null,
   "metadata": {},
   "outputs": [],
   "source": [
    "def c(a):\n",
    "    for x in range(1, 1000):\n",
    "        for y in range(1, 1000):\n",
    "            if (\n",
    "                ((x + 2*y) < a) or (y < x) or (y > 60)\n",
    "            ):\n",
    "                pass\n",
    "            else:\n",
    "                return False\n",
    "    return True\n",
    "\n",
    "\n",
    "for a in range(1, 1000):\n",
    "    if c(a):\n",
    "        print(a)\n",
    "        break"
   ]
  },
  {
   "cell_type": "code",
   "execution_count": null,
   "metadata": {},
   "outputs": [],
   "source": [
    "p = []\n",
    "q = []\n",
    "a = []\n",
    "\n",
    "\n",
    "for i in range(256):\n",
    "\n",
    "    r = bin(i)[2:].zfill(8)\n",
    "    a.append(r)\n",
    "    if r[:2] == '11':\n",
    "        p.append(r)\n",
    "    if r[-1] == '0':\n",
    "        q.append(r)\n",
    "\n",
    "\n",
    "def check(a):\n",
    "    global p\n",
    "    global q\n",
    "\n",
    "    for x in range(256):\n",
    "        x = bin(x)[2:].zfill(8)\n",
    "        if (\n",
    "            (x not in a) <= ((x in p) or (x not in q))\n",
    "        ):\n",
    "            pass\n",
    "        else:\n",
    "            return False\n",
    "    return True\n",
    "\n",
    "\n",
    "while True:\n",
    "    if check(a):\n",
    "        print(len(a), True)\n",
    "    # print(len(a))\n",
    "    a.pop()"
   ]
  },
  {
   "attachments": {
    "image.png": {
     "image/png": "[encoded data removed]"
    }
   },
   "cell_type": "markdown",
   "metadata": {},
   "source": [
    "![image.png](attachment:image.png)"
   ]
  },
  {
   "cell_type": "code",
   "execution_count": 15,
   "metadata": {},
   "outputs": [
    {
     "name": "stdout",
     "output_type": "stream",
     "text": [
      "0 0 0\n",
      "0 0 1\n",
      "0 1 0\n",
      "0 1 1\n",
      "1 1 0\n"
     ]
    }
   ],
   "source": [
    "for a in (0, 1):\n",
    "    for p in (0, 1):\n",
    "        for q in (0, 1):\n",
    "            if (\n",
    "                (a <= p) and (q <= (not a))\n",
    "            ):\n",
    "                print(a, p, q)"
   ]
  },
  {
   "cell_type": "code",
   "execution_count": 22,
   "metadata": {},
   "outputs": [
    {
     "data": {
      "text/plain": [
       "32"
      ]
     },
     "execution_count": 22,
     "metadata": {},
     "output_type": "execute_result"
    }
   ],
   "source": [
    "p = [2*i for i in range(1, 11)]\n",
    "q = [5*i for i in range(1, 11)]\n",
    "\n",
    "l = set(p).intersection(q)\n",
    "l\n",
    "\n",
    "c = 0\n",
    "for i in range(1, 51):\n",
    "    if i not in p and i not in q:\n",
    "        c += 1\n",
    "c"
   ]
  },
  {
   "cell_type": "code",
   "execution_count": null,
   "metadata": {},
   "outputs": [],
   "source": [
    "0 0 0 = \n",
    "0 0 1 = \n",
    "0 1 0\n",
    "0 1 1 = 2\n",
    "1 1 0 = 8"
   ]
  },
  {
   "cell_type": "code",
   "execution_count": 27,
   "metadata": {},
   "outputs": [
    {
     "name": "stdout",
     "output_type": "stream",
     "text": [
      "1 1 1 0\n"
     ]
    },
    {
     "data": {
      "text/plain": [
       "{6, 12, 18}"
      ]
     },
     "execution_count": 27,
     "metadata": {},
     "output_type": "execute_result"
    }
   ],
   "source": [
    "\n",
    "\n",
    "for q in (0, 1):\n",
    "    for p in (0, 1):\n",
    "        for r in (0, 1):\n",
    "            for a in (0, 1):\n",
    "                if (\n",
    "                    not (a) <= (((p) and (q)) <= (r))\n",
    "                ):\n",
    "                    print(a, p, q, r)\n",
    "\n",
    "q = [3*i for i in range(1, 11)]\n",
    "p = [2*i for i in range(1, 11)]\n",
    "r = [12*i for i in range(1, 6)]\n",
    "\n",
    "set(q).intersection(p)"
   ]
  },
  {
   "cell_type": "code",
   "execution_count": 28,
   "metadata": {},
   "outputs": [
    {
     "data": {
      "text/plain": [
       "108"
      ]
     },
     "execution_count": 28,
     "metadata": {},
     "output_type": "execute_result"
    }
   ],
   "source": [
    "6*18"
   ]
  },
  {
   "cell_type": "code",
   "execution_count": 34,
   "metadata": {},
   "outputs": [
    {
     "data": {
      "text/plain": [
       "3"
      ]
     },
     "execution_count": 34,
     "metadata": {},
     "output_type": "execute_result"
    }
   ],
   "source": [
    "s = \"SOCKSOCKSOCKS\"\n",
    "while \"SOCKSOCKS\" in s:\n",
    "    s = s.replace(\"SOCKSOCKS\", \"SOCKS_SOCKS\")\n",
    "\n",
    "s.count('SOCKS')"
   ]
  },
  {
   "cell_type": "code",
   "execution_count": 9,
   "metadata": {},
   "outputs": [
    {
     "data": {
      "text/plain": [
       "{3, 8, 11, 16}"
      ]
     },
     "execution_count": 9,
     "metadata": {},
     "output_type": "execute_result"
    }
   ],
   "source": [
    "from itertools import combinations\n",
    "\n",
    "\n",
    "def P(x):\n",
    "    return 4 <= x <= 15\n",
    "\n",
    "\n",
    "def Q(x):\n",
    "    return 12 <= x <= 20\n",
    "\n",
    "\n",
    "def A(start, stop, x):\n",
    "    return start <= x <= stop\n",
    "\n",
    "\n",
    "coords = combinations(sorted([4, 15, 12, 20]), r=2)\n",
    "valid = set()\n",
    "\n",
    "for start, stop in coords:\n",
    "    flag = True\n",
    "    for x in range(1, 30):\n",
    "        if not ((P(x) and Q(x)) <= A(start, stop, x)):\n",
    "            flag = False\n",
    "    if flag:\n",
    "        valid.add(stop-start)\n",
    "\n",
    "\n",
    "valid"
   ]
  },
  {
   "cell_type": "code",
   "execution_count": 13,
   "metadata": {},
   "outputs": [
    {
     "name": "stdout",
     "output_type": "stream",
     "text": [
      "485\n"
     ]
    }
   ],
   "source": [
    "def f(n):\n",
    "    if n == 0:\n",
    "        return 0\n",
    "    if n > 0:\n",
    "        if n % 3 == 0:\n",
    "            return f(n / 3)\n",
    "        if n % 3 > 0:\n",
    "            return n % 3 + f(n - (n % 3))\n",
    "\n",
    "\n",
    "for i in range(1, 1000):\n",
    "    if f(i) == 11:\n",
    "        print(i)\n",
    "        break"
   ]
  },
  {
   "cell_type": "code",
   "execution_count": 2,
   "metadata": {},
   "outputs": [
    {
     "name": "stdout",
     "output_type": "stream",
     "text": [
      "1\n",
      "2\n",
      "3\n",
      "4\n",
      "5\n",
      "6\n",
      "10\n",
      "12\n",
      "15\n",
      "20\n",
      "30\n"
     ]
    }
   ],
   "source": [
    "def d(n, m):\n",
    "    if n % m == 0:\n",
    "        return True\n",
    "    return False\n",
    "\n",
    "\n",
    "def f(a):\n",
    "    for x in range(1, 10000):\n",
    "        if (a < 50) and ((not d(x, a)) <= (d(x, 10) <= (not d(x, 12)))):\n",
    "            pass\n",
    "        else:\n",
    "            return False\n",
    "    return True\n",
    "\n",
    "\n",
    "for a in range(1, 10000):\n",
    "    if f(a):\n",
    "        print(a)"
   ]
  },
  {
   "cell_type": "code",
   "execution_count": 3,
   "metadata": {},
   "outputs": [
    {
     "name": "stdout",
     "output_type": "stream",
     "text": [
      "119\n"
     ]
    }
   ],
   "source": [
    "def f(a):\n",
    "    for x in range(1, 1000):\n",
    "        for y in range(1, 1000):\n",
    "            if (\n",
    "                (2 * x + 3 * y < a) or (x >= y) or (y > 24)\n",
    "            ):\n",
    "                pass\n",
    "            else:\n",
    "                return False\n",
    "    return True\n",
    "\n",
    "\n",
    "for a in range(1, 1000):\n",
    "    if f(a):\n",
    "        print(a)\n",
    "        break"
   ]
  },
  {
   "cell_type": "code",
   "execution_count": 1,
   "metadata": {},
   "outputs": [
    {
     "name": "stdout",
     "output_type": "stream",
     "text": [
      "64\n"
     ]
    }
   ],
   "source": [
    "def d(m, n):\n",
    "    if m % n == 0:\n",
    "        return True\n",
    "    return False\n",
    "\n",
    "\n",
    "def b(x):\n",
    "    return 31 <= x <= 68\n",
    "\n",
    "\n",
    "def f(a):\n",
    "    for x in range(1, 1000):\n",
    "        if (\n",
    "            (d(x, a) and b(x)) <= (x & 58 == 0)\n",
    "        ):\n",
    "            pass\n",
    "        else:\n",
    "            return False\n",
    "\n",
    "    return True\n",
    "\n",
    "\n",
    "for a in range(1, 1000):\n",
    "    if f(a):\n",
    "        print(a)\n",
    "        break"
   ]
  },
  {
   "attachments": {
    "image.png": {
     "image/png": "[encoded data removed]"
    }
   },
   "cell_type": "markdown",
   "metadata": {},
   "source": [
    "![image.png](attachment:image.png)"
   ]
  },
  {
   "cell_type": "code",
   "execution_count": 5,
   "metadata": {},
   "outputs": [
    {
     "data": {
      "text/plain": [
       "{22, 32, 39, 61, 71, 93}"
      ]
     },
     "execution_count": 5,
     "metadata": {},
     "output_type": "execute_result"
    }
   ],
   "source": [
    "import itertools\n",
    "\n",
    "\n",
    "def d(x):\n",
    "    return 7 < x < 68\n",
    "\n",
    "\n",
    "def c(x):\n",
    "    return 29 < x < 100\n",
    "\n",
    "\n",
    "def a(start, stop, x):\n",
    "    start < x < stop\n",
    "\n",
    "\n",
    "coords = [sorted(i) for i in itertools.combinations([7, 68, 29, 100], 2)]\n",
    "r = []\n",
    "for start, stop in coords:\n",
    "    fl = True\n",
    "    if fl:\n",
    "        for x in range(1, 200):\n",
    "            if not (\n",
    "                d(x) <= (((not c(x)) and (not a(start, stop, x))) <= (not d(x)))\n",
    "            ):\n",
    "                fl = False\n",
    "                break\n",
    "            else:\n",
    "                r.append(stop-start)\n",
    "\n",
    "set(r)"
   ]
  },
  {
   "cell_type": "code",
   "execution_count": 3,
   "metadata": {},
   "outputs": [
    {
     "name": "stdout",
     "output_type": "stream",
     "text": [
      "12\n"
     ]
    }
   ],
   "source": [
    "# x & 29 ≠ 0 → (x & 17 = 0 → x & А ≠ 0)\n",
    "\n",
    "\n",
    "def f(a):\n",
    "    for x in range(1, 1000):\n",
    "        if (\n",
    "            (x & 29 != 0) <= ((x & 17 == 0) <= (x & a != 0))\n",
    "        ):\n",
    "            continue\n",
    "        else:\n",
    "            return False\n",
    "\n",
    "    return True\n",
    "\n",
    "\n",
    "for a in range(1, 1000):\n",
    "    if f(a):\n",
    "        print(a)\n",
    "        break"
   ]
  },
  {
   "cell_type": "code",
   "execution_count": 5,
   "metadata": {},
   "outputs": [
    {
     "name": "stdout",
     "output_type": "stream",
     "text": [
      "16\n"
     ]
    }
   ],
   "source": [
    "# x & 29 ≠ 0 → (x & 17 = 0 → x & А ≠ 0)\n",
    "\n",
    "\n",
    "def f(a):\n",
    "    for x in range(1, 1000):\n",
    "        if (\n",
    "            (x & 25 != 0) <= ((x & 9 == 0) <= (x & a != 0))\n",
    "        ):\n",
    "            continue\n",
    "        else:\n",
    "            return False\n",
    "\n",
    "    return True\n",
    "\n",
    "\n",
    "for a in range(1, 1000):\n",
    "    if f(a):\n",
    "        print(a)\n",
    "        break"
   ]
  },
  {
   "cell_type": "code",
   "execution_count": 8,
   "metadata": {},
   "outputs": [
    {
     "name": "stdout",
     "output_type": "stream",
     "text": [
      "125\n"
     ]
    }
   ],
   "source": [
    "# x & 29 ≠ 0 → (x & 17 = 0 → x & А ≠ 0)\n",
    "\n",
    "\n",
    "def f(a):\n",
    "    for x in range(1, 10000):\n",
    "        if (\n",
    "            ((x & 45 > 0) or (x & 89 > 0)) <= (x & a > 0)\n",
    "        ):\n",
    "            continue\n",
    "        else:\n",
    "            return False\n",
    "\n",
    "    return True\n",
    "\n",
    "\n",
    "for a in range(1, 1000):\n",
    "    if f(a):\n",
    "        print(a)\n",
    "        break"
   ]
  },
  {
   "cell_type": "code",
   "execution_count": 14,
   "metadata": {},
   "outputs": [
    {
     "data": {
      "text/plain": [
       "{7, 9}"
      ]
     },
     "execution_count": 14,
     "metadata": {},
     "output_type": "execute_result"
    }
   ],
   "source": [
    "import itertools\n",
    "\n",
    "\n",
    "def p(x):\n",
    "    return 5 < x < 30\n",
    "\n",
    "\n",
    "def q(x):\n",
    "    return 14 < x < 23\n",
    "\n",
    "\n",
    "def a(start, stop, x):\n",
    "    return start < x < stop\n",
    "\n",
    "\n",
    "coords = itertools.combinations(sorted([5, 30, 14, 23]),\n",
    "                                r=2)\n",
    "\n",
    "\n",
    "t = set()\n",
    "\n",
    "for start, stop in coords:\n",
    "    fl = True\n",
    "    if fl:\n",
    "        for x in range(1, 100):\n",
    "            if (\n",
    "                (p(x) == q(x)) <= (not a(start, stop, x))\n",
    "            ):\n",
    "                continue\n",
    "            else:\n",
    "                fl = False\n",
    "    if fl:\n",
    "        t.add(stop-start)\n",
    "\n",
    "t"
   ]
  },
  {
   "cell_type": "code",
   "execution_count": 19,
   "metadata": {},
   "outputs": [
    {
     "data": {
      "text/plain": [
       "{24, 29, 35, 40}"
      ]
     },
     "execution_count": 19,
     "metadata": {},
     "output_type": "execute_result"
    }
   ],
   "source": [
    "import itertools\n",
    "\n",
    "\n",
    "def p(x):\n",
    "    return 17 <= x <= 46\n",
    "\n",
    "\n",
    "def q(x):\n",
    "    return 22 <= x <= 57\n",
    "\n",
    "\n",
    "def a(start, stop, x):\n",
    "    return start <= x <= stop\n",
    "\n",
    "\n",
    "coords = itertools.combinations(sorted([17, 46, 22, 57]),\n",
    "                                r=2)\n",
    "\n",
    "\n",
    "t = set()\n",
    "\n",
    "for start, stop in coords:\n",
    "    fl = True\n",
    "    if fl:\n",
    "        for x in range(1, 100):\n",
    "            if (\n",
    "                (not a(start, stop, x)) <= ((p(x) and q(x)) <= a(start, stop, x))\n",
    "            ):\n",
    "                continue\n",
    "            else:\n",
    "                fl = False\n",
    "    if fl:\n",
    "        t.add(stop-start)\n",
    "\n",
    "t"
   ]
  },
  {
   "cell_type": "code",
   "execution_count": 22,
   "metadata": {},
   "outputs": [
    {
     "data": {
      "text/plain": [
       "{5, 15, 35, 39, 45, 58, 68, 69, 92}"
      ]
     },
     "execution_count": 22,
     "metadata": {},
     "output_type": "execute_result"
    }
   ],
   "source": [
    "import itertools\n",
    "\n",
    "\n",
    "def p(x):\n",
    "    return 24 <= x <= 77\n",
    "\n",
    "\n",
    "def q(x):\n",
    "    return 47 <= x <= 92\n",
    "\n",
    "\n",
    "def r(x):\n",
    "    return 82 <= x <= 116\n",
    "\n",
    "\n",
    "def a(start, stop, x):\n",
    "    return start <= x <= stop\n",
    "\n",
    "\n",
    "coords = itertools.combinations(sorted([24, 77, 47, 92, 82, 116]),\n",
    "                                r=2)\n",
    "\n",
    "\n",
    "t = set()\n",
    "\n",
    "for start, stop in coords:\n",
    "    fl = True\n",
    "    if fl:\n",
    "        for x in range(1, 100):\n",
    "            if (\n",
    "                (not ((q(x)) <= (p(x) or r(x)))) <= (\n",
    "                    (not a(start, stop, x)) <= (not q(x)))\n",
    "            ):\n",
    "                continue\n",
    "            else:\n",
    "                fl = False\n",
    "    if fl:\n",
    "        t.add(stop-start)\n",
    "\n",
    "t"
   ]
  },
  {
   "cell_type": "code",
   "execution_count": 23,
   "metadata": {},
   "outputs": [
    {
     "name": "stdout",
     "output_type": "stream",
     "text": [
      "81\n",
      "82\n",
      "83\n",
      "84\n",
      "85\n",
      "86\n",
      "87\n",
      "88\n",
      "89\n",
      "90\n",
      "91\n",
      "92\n",
      "93\n",
      "94\n",
      "95\n",
      "96\n",
      "97\n",
      "98\n",
      "99\n"
     ]
    }
   ],
   "source": [
    "def f(a):\n",
    "    for x in range(1, 1000):\n",
    "        for y in range(1, 1000):\n",
    "            if (\n",
    "                ((x <= 9) <= (x * x <= a)) and ((y * y <= a) <= (y <= 9))\n",
    "            ):\n",
    "                continue\n",
    "            else:\n",
    "                return False\n",
    "    return True\n",
    "\n",
    "\n",
    "for a in range(1, 1000):\n",
    "    if f(a):\n",
    "        print(a)"
   ]
  },
  {
   "cell_type": "code",
   "execution_count": null,
   "metadata": {},
   "outputs": [],
   "source": [
    "def f(a):\n",
    "    for x in range(1, 1000):\n",
    "        for y in range(1, 1000):\n",
    "            if (\n",
    "                (x >= 12) or (3*x < y) or (x * y < a)\n",
    "            ):\n",
    "                continue\n",
    "            else:\n",
    "                return False\n",
    "    return True\n",
    "\n",
    "\n",
    "for a in range(1, 1000):\n",
    "    if f(a):\n",
    "        print(a)"
   ]
  },
  {
   "cell_type": "code",
   "execution_count": 34,
   "metadata": {},
   "outputs": [
    {
     "name": "stdout",
     "output_type": "stream",
     "text": [
      "87\n",
      "86\n",
      "85\n",
      "84\n",
      "83\n",
      "82\n",
      "81\n",
      "80\n",
      "79\n",
      "78\n",
      "77\n",
      "76\n",
      "75\n",
      "74\n",
      "73\n",
      "72\n",
      "71\n",
      "70\n",
      "69\n",
      "68\n",
      "67\n",
      "66\n",
      "65\n",
      "64\n",
      "63\n",
      "62\n",
      "61\n",
      "60\n",
      "59\n",
      "58\n",
      "57\n",
      "56\n",
      "55\n",
      "54\n",
      "53\n",
      "52\n"
     ]
    },
    {
     "ename": "KeyboardInterrupt",
     "evalue": "",
     "output_type": "error",
     "traceback": [
      "\u001b[1;31m---------------------------------------------------------------------------\u001b[0m",
      "\u001b[1;31mKeyboardInterrupt\u001b[0m                         Traceback (most recent call last)",
      "Cell \u001b[1;32mIn[34], line 15\u001b[0m\n\u001b[0;32m     10\u001b[0m     \u001b[38;5;28;01mreturn\u001b[39;00m \u001b[38;5;28;01mTrue\u001b[39;00m\n\u001b[0;32m     14\u001b[0m \u001b[38;5;28;01mfor\u001b[39;00m a \u001b[38;5;129;01min\u001b[39;00m \u001b[38;5;28mrange\u001b[39m(\u001b[38;5;241m1000\u001b[39m, \u001b[38;5;241m0\u001b[39m, \u001b[38;5;241m-\u001b[39m\u001b[38;5;241m1\u001b[39m):\n\u001b[1;32m---> 15\u001b[0m     \u001b[38;5;28;01mif\u001b[39;00m \u001b[43mf\u001b[49m\u001b[43m(\u001b[49m\u001b[43ma\u001b[49m\u001b[43m)\u001b[49m:\n\u001b[0;32m     16\u001b[0m         \u001b[38;5;28mprint\u001b[39m(a)\n",
      "Cell \u001b[1;32mIn[34], line 7\u001b[0m, in \u001b[0;36mf\u001b[1;34m(a)\u001b[0m\n\u001b[0;32m      3\u001b[0m \u001b[38;5;28;01mfor\u001b[39;00m y \u001b[38;5;129;01min\u001b[39;00m \u001b[38;5;28mrange\u001b[39m(\u001b[38;5;241m0\u001b[39m, \u001b[38;5;241m1000\u001b[39m):\n\u001b[0;32m      4\u001b[0m     \u001b[38;5;28;01mif\u001b[39;00m (\n\u001b[0;32m      5\u001b[0m         ((x \u001b[38;5;241m+\u001b[39m \u001b[38;5;241m2\u001b[39m \u001b[38;5;241m*\u001b[39m y) \u001b[38;5;241m>\u001b[39m a) \u001b[38;5;129;01mor\u001b[39;00m (x \u001b[38;5;241m>\u001b[39m \u001b[38;5;241m13\u001b[39m) \u001b[38;5;129;01mor\u001b[39;00m (y \u001b[38;5;241m<\u001b[39m \u001b[38;5;241m44\u001b[39m)\n\u001b[0;32m      6\u001b[0m     ):\n\u001b[1;32m----> 7\u001b[0m         \u001b[38;5;28;01mcontinue\u001b[39;00m\n\u001b[0;32m      8\u001b[0m     \u001b[38;5;28;01melse\u001b[39;00m:\n\u001b[0;32m      9\u001b[0m         \u001b[38;5;28;01mreturn\u001b[39;00m \u001b[38;5;28;01mFalse\u001b[39;00m\n",
      "\u001b[1;31mKeyboardInterrupt\u001b[0m: "
     ]
    }
   ],
   "source": [
    "def f(a):\n",
    "    for x in range(0, 1000):\n",
    "        for y in range(0, 1000):\n",
    "            if (\n",
    "                ((x + 2 * y) > a) or (x > 13) or (y < 44)\n",
    "            ):\n",
    "                continue\n",
    "            else:\n",
    "                return False\n",
    "    return True\n",
    "\n",
    "\n",
    "for a in range(1000, 0, -1):\n",
    "    if f(a):\n",
    "        print(a)"
   ]
  },
  {
   "cell_type": "code",
   "execution_count": 33,
   "metadata": {},
   "outputs": [
    {
     "name": "stdout",
     "output_type": "stream",
     "text": [
      "120\n"
     ]
    }
   ],
   "source": [
    "def de(m, n):\n",
    "    if m % n == 0:\n",
    "        return True\n",
    "    else:\n",
    "        return False\n",
    "\n",
    "\n",
    "def f(a):\n",
    "    for x in range(1, 1000):\n",
    "        for y in range(1, 1000):\n",
    "            if (\n",
    "                de(a, 40) and (de(780, x) <= ((not de(a, x)) <= (not de(180, x))))\n",
    "            ):\n",
    "                continue\n",
    "            else:\n",
    "                return False\n",
    "    return True\n",
    "\n",
    "\n",
    "for a in range(1, 1000):\n",
    "    if f(a):\n",
    "        print(a)\n",
    "        break"
   ]
  },
  {
   "cell_type": "code",
   "execution_count": 40,
   "metadata": {},
   "outputs": [
    {
     "name": "stdout",
     "output_type": "stream",
     "text": [
      "1\n",
      "2\n",
      "14\n",
      "15\n",
      "16\n",
      "17\n",
      "18\n",
      "19\n",
      "20\n",
      "21\n",
      "22\n",
      "23\n"
     ]
    }
   ],
   "source": [
    "def tri(a, b, c):\n",
    "    if (a < b + c) and (b < a + c) and (c < b + a):\n",
    "        return True\n",
    "    return False\n",
    "\n",
    "\n",
    "def f(a):\n",
    "    for x in range(1, 1000):\n",
    "        if (\n",
    "            not ((tri(x, 11, 16) == (not (max(x, 5) > 10))) and tri(4, a, x))\n",
    "        ):\n",
    "            continue\n",
    "        else:\n",
    "            return False\n",
    "    return True\n",
    "\n",
    "\n",
    "for a in range(1, 1000):\n",
    "    if f(a):\n",
    "        print(a)"
   ]
  },
  {
   "cell_type": "code",
   "execution_count": 41,
   "metadata": {},
   "outputs": [],
   "source": [
    "p = [1, 3, 5, 7, 9, 11, 13, 15, 17, 19, 21]\n",
    "q = [3, 6, 9, 12, 15, 18, 21, 24, 27, 30]"
   ]
  },
  {
   "cell_type": "code",
   "execution_count": 50,
   "metadata": {},
   "outputs": [
    {
     "data": {
      "text/plain": [
       "73"
      ]
     },
     "execution_count": 50,
     "metadata": {},
     "output_type": "execute_result"
    }
   ],
   "source": [
    "(set(p).difference(set(q)))"
   ]
  },
  {
   "cell_type": "code",
   "execution_count": 21,
   "metadata": {},
   "outputs": [
    {
     "data": {
      "text/plain": [
       "[18, 19, 20, 17, 18, 19, 16, 17, 18]"
      ]
     },
     "execution_count": 21,
     "metadata": {},
     "output_type": "execute_result"
    }
   ],
   "source": [
    "def A(start, stop, x):\n",
    "    return start <= x <= stop\n",
    "\n",
    "\n",
    "r = []\n",
    "\n",
    "for start in range(-100, 100):\n",
    "    for stop in range(start, 100):\n",
    "        fl = True\n",
    "        if fl:\n",
    "            for x in range(-100, 100):\n",
    "                if (\n",
    "                    (A(start, stop, x) <= (x**2 <= 100)\n",
    "                     ) and ((x ** 2 <= 64) <= A(start, stop, x))\n",
    "                ):\n",
    "                    continue\n",
    "                else:\n",
    "                    fl = False\n",
    "                    break\n",
    "\n",
    "        if fl:\n",
    "            r.append(stop-start)  # ОТСТУПЫ ДОЛБАЕБ ЕБАНЫЙ!! СУААк11 ААОУЕ\n",
    "\n",
    "r"
   ]
  },
  {
   "cell_type": "code",
   "execution_count": 30,
   "metadata": {},
   "outputs": [
    {
     "data": {
      "text/plain": [
       "12"
      ]
     },
     "execution_count": 30,
     "metadata": {},
     "output_type": "execute_result"
    }
   ],
   "source": [
    "def A(start, stop, x):\n",
    "    return start <= x <= stop\n",
    "\n",
    "\n",
    "r = []\n",
    "\n",
    "for start in range(-100, 100):\n",
    "    for stop in range(start, 100):\n",
    "        fl = True\n",
    "        if fl:\n",
    "            for x in range(-10, 10):\n",
    "                for y in range(-10, 10):\n",
    "                    if (\n",
    "                        (A(start, stop, x) <= (x ** 2 <= 81)\n",
    "                         ) and ((y ** 2 <= 36) <= A(start, stop, y))\n",
    "                    ):\n",
    "                        continue\n",
    "                    else:\n",
    "                        fl = False\n",
    "                        break\n",
    "\n",
    "        if fl:\n",
    "            r.append(stop-start)  # ОТСТУПЫ ДОЛБАЕБ ЕБАНЫЙ!! СУААк11 ААОУЕ\n",
    "\n",
    "min(r)"
   ]
  },
  {
   "cell_type": "code",
   "execution_count": null,
   "metadata": {},
   "outputs": [],
   "source": [
    "def f(a):\n",
    "    for x in range(1, 100):\n",
    "        for y in range(1, 100):\n",
    "            if not (\n",
    "                (x + 2*y > 48) or (y > x) or (x + 3 * y < a)\n",
    "            ):\n",
    "                return True\n",
    "    return False\n",
    "\n",
    "\n",
    "for a in range(1, 100):\n",
    "    if f(a):\n",
    "        print(a)"
   ]
  },
  {
   "cell_type": "markdown",
   "metadata": {},
   "source": [
    "Обозначим через ДЕЛ(n, m) утверждение «натуральное число n\n",
    "делится без остатка на натуральное число m».\n",
    "Для какого наименьшего натурального числа А формула\n",
    "ДЕЛ(A, 45) ∧ (ДЕЛ(750, x) → (¬ДЕЛ(A, x) → ¬ДЕЛ(120, x)))\n",
    "тождественно истинна (то есть принимает значение 1\n",
    "при любом натуральном значении переменной x)?"
   ]
  },
  {
   "cell_type": "code",
   "execution_count": 1,
   "metadata": {},
   "outputs": [
    {
     "name": "stdout",
     "output_type": "stream",
     "text": [
      "90\n"
     ]
    }
   ],
   "source": [
    "def d(a, b):\n",
    "    if a % b == 0:\n",
    "        return True\n",
    "    else:\n",
    "        return False\n",
    "\n",
    "\n",
    "def f(a):\n",
    "    for x in range(1, 1000):\n",
    "        if (\n",
    "            d(a, 45) and (d(750, x) <= ((not d(a, x)) <= (not d(120, x))))\n",
    "        ):\n",
    "            pass\n",
    "        else:\n",
    "            return False\n",
    "    return True\n",
    "\n",
    "\n",
    "for a in range(1, 1000):\n",
    "    if f(a):\n",
    "        print(a)\n",
    "        break"
   ]
  },
  {
   "cell_type": "code",
   "execution_count": 4,
   "metadata": {},
   "outputs": [
    {
     "name": "stdout",
     "output_type": "stream",
     "text": [
      "94\n"
     ]
    }
   ],
   "source": [
    "def d(a, b):\n",
    "    if a % b == 0:\n",
    "        return True\n",
    "    else:\n",
    "        return False\n",
    "\n",
    "\n",
    "def f(a):\n",
    "    for x in range(1, 1000):\n",
    "        if (\n",
    "            (d(x, 2) <= (not d(x, 3))) or (x + a >= 100)\n",
    "        ):\n",
    "            pass\n",
    "        else:\n",
    "            return False\n",
    "    return True\n",
    "\n",
    "\n",
    "for a in range(1, 1000):\n",
    "    if f(a):\n",
    "        print(a)\n",
    "        break"
   ]
  },
  {
   "cell_type": "code",
   "execution_count": 6,
   "metadata": {},
   "outputs": [
    {
     "name": "stdout",
     "output_type": "stream",
     "text": [
      "73\n"
     ]
    }
   ],
   "source": [
    "def d(a, b):\n",
    "    if a % b == 0:\n",
    "        return True\n",
    "    else:\n",
    "        return False\n",
    "\n",
    "\n",
    "def f(a):\n",
    "    for x in range(1, 1000):\n",
    "        for y in range(1, 1000):\n",
    "            if (\n",
    "                (d(108, x) <= (not d(x, y))) or (x + y > 80) or (a - y > x)\n",
    "            ):\n",
    "                pass\n",
    "            else:\n",
    "                return False\n",
    "    return True\n",
    "\n",
    "\n",
    "for a in range(1, 1000):\n",
    "    if f(a):\n",
    "        print(a)\n",
    "        break"
   ]
  },
  {
   "cell_type": "code",
   "execution_count": 7,
   "metadata": {},
   "outputs": [
    {
     "name": "stdout",
     "output_type": "stream",
     "text": [
      "27\n"
     ]
    }
   ],
   "source": [
    "def tri(a, b, c):\n",
    "    if (a < b + c) and (b < a + c) and (c < b + a):\n",
    "        return True\n",
    "    return False\n",
    "\n",
    "\n",
    "def f(a):\n",
    "    for x in range(1, 1000):\n",
    "        if (\n",
    "            ((tri(x, 10, 20) <= (not (max(x, 8) > 24))) == (not tri(3, a, x)))\n",
    "        ):\n",
    "            pass\n",
    "\n",
    "        else:\n",
    "            return False\n",
    "\n",
    "    return True\n",
    "\n",
    "\n",
    "for a in range(1, 1000):\n",
    "    if f(a):\n",
    "        print(a)"
   ]
  },
  {
   "cell_type": "code",
   "execution_count": 19,
   "metadata": {},
   "outputs": [
    {
     "name": "stdout",
     "output_type": "stream",
     "text": [
      "1\n",
      "2\n",
      "3\n",
      "33\n",
      "34\n",
      "35\n",
      "36\n",
      "37\n",
      "38\n",
      "39\n",
      "40\n",
      "41\n",
      "42\n",
      "43\n",
      "44\n",
      "45\n",
      "46\n",
      "47\n",
      "48\n",
      "49\n",
      "50\n",
      "51\n",
      "52\n",
      "53\n",
      "54\n",
      "55\n",
      "56\n",
      "57\n",
      "58\n",
      "59\n",
      "60\n",
      "61\n",
      "62\n",
      "63\n",
      "64\n"
     ]
    },
    {
     "ename": "KeyboardInterrupt",
     "evalue": "",
     "output_type": "error",
     "traceback": [
      "\u001b[1;31m---------------------------------------------------------------------------\u001b[0m",
      "\u001b[1;31mKeyboardInterrupt\u001b[0m                         Traceback (most recent call last)",
      "Cell \u001b[1;32mIn[19], line 17\u001b[0m\n\u001b[0;32m     14\u001b[0m     \u001b[38;5;28;01mreturn\u001b[39;00m \u001b[38;5;28;01mTrue\u001b[39;00m\n\u001b[0;32m     16\u001b[0m \u001b[38;5;28;01mfor\u001b[39;00m a \u001b[38;5;129;01min\u001b[39;00m \u001b[38;5;28mrange\u001b[39m(\u001b[38;5;241m1\u001b[39m, \u001b[38;5;241m10000\u001b[39m):\n\u001b[1;32m---> 17\u001b[0m     \u001b[38;5;28;01mif\u001b[39;00m \u001b[43mf\u001b[49m\u001b[43m(\u001b[49m\u001b[43ma\u001b[49m\u001b[43m)\u001b[49m:\n\u001b[0;32m     18\u001b[0m         \u001b[38;5;28mprint\u001b[39m(a)\n",
      "Cell \u001b[1;32mIn[19], line 11\u001b[0m, in \u001b[0;36mf\u001b[1;34m(a)\u001b[0m\n\u001b[0;32m      7\u001b[0m \u001b[38;5;28;01mfor\u001b[39;00m x \u001b[38;5;129;01min\u001b[39;00m \u001b[38;5;28mrange\u001b[39m(\u001b[38;5;241m1\u001b[39m, \u001b[38;5;241m10000\u001b[39m):\n\u001b[0;32m      8\u001b[0m     \u001b[38;5;28;01mif\u001b[39;00m (\n\u001b[0;32m      9\u001b[0m         \u001b[38;5;129;01mnot\u001b[39;00m(((trig(x, \u001b[38;5;241m11\u001b[39m, \u001b[38;5;241m18\u001b[39m)) \u001b[38;5;241m==\u001b[39m (\u001b[38;5;129;01mnot\u001b[39;00m(\u001b[38;5;28mmax\u001b[39m(x, \u001b[38;5;241m5\u001b[39m)\u001b[38;5;241m>\u001b[39m\u001b[38;5;241m68\u001b[39m))) \u001b[38;5;129;01mand\u001b[39;00m trig(x, a, \u001b[38;5;241m5\u001b[39m))\n\u001b[0;32m     10\u001b[0m     ):\n\u001b[1;32m---> 11\u001b[0m         \u001b[38;5;28;01mpass\u001b[39;00m\n\u001b[0;32m     12\u001b[0m     \u001b[38;5;28;01melse\u001b[39;00m:\n\u001b[0;32m     13\u001b[0m         \u001b[38;5;28;01mreturn\u001b[39;00m \u001b[38;5;28;01mFalse\u001b[39;00m\n",
      "\u001b[1;31mKeyboardInterrupt\u001b[0m: "
     ]
    }
   ],
   "source": [
    "def trig(a, b, c):\n",
    "    if (a < b + c) and (b < c + a) and (c < a + b):\n",
    "        return True\n",
    "    return False\n",
    "\n",
    "\n",
    "def f(a):\n",
    "    for x in range(1, 10000):\n",
    "        if (\n",
    "            not (((trig(x, 11, 18)) == (not (max(x, 5) > 68))) and trig(x, a, 5))\n",
    "        ):\n",
    "            pass\n",
    "        else:\n",
    "            return False\n",
    "    return True\n",
    "\n",
    "\n",
    "for a in range(1, 10000):\n",
    "    if f(a):\n",
    "        print(a)"
   ]
  },
  {
   "cell_type": "code",
   "execution_count": 26,
   "metadata": {},
   "outputs": [
    {
     "data": {
      "text/plain": [
       "{123, 198, 519}"
      ]
     },
     "execution_count": 26,
     "metadata": {},
     "output_type": "execute_result"
    }
   ],
   "source": [
    "\n",
    "\n",
    "import itertools\n",
    "\n",
    "\n",
    "def m(x):\n",
    "    return 123 <= x <= 321\n",
    "\n",
    "\n",
    "def n(x):\n",
    "    return 246 <= x <= 642\n",
    "\n",
    "\n",
    "def a(start, stop, x):\n",
    "    return start <= x <= stop\n",
    "\n",
    "\n",
    "coords = list(itertools.combinations(sorted([123, 321, 246, 642]), 2))\n",
    "r = set()\n",
    "for start, stop in coords:\n",
    "    # print(start, stop)\n",
    "    fl = True\n",
    "    for x in range(1, 1000):\n",
    "        if (\n",
    "            ((not (a(start, stop, x)) and (m(x))) <= (n(x)))\n",
    "        ):\n",
    "            pass\n",
    "        else:\n",
    "            fl = False\n",
    "            break\n",
    "\n",
    "    if fl:\n",
    "        r.add(stop-start)\n",
    "\n",
    "r"
   ]
  },
  {
   "cell_type": "code",
   "execution_count": 7,
   "metadata": {},
   "outputs": [
    {
     "name": "stdout",
     "output_type": "stream",
     "text": [
      "1\n",
      "2\n",
      "3\n",
      "4\n",
      "5\n",
      "6\n",
      "7\n",
      "8\n",
      "9\n",
      "10\n",
      "11\n",
      "12\n",
      "13\n",
      "14\n",
      "15\n",
      "16\n",
      "17\n",
      "18\n",
      "19\n",
      "20\n",
      "21\n",
      "22\n",
      "23\n",
      "24\n",
      "25\n",
      "26\n",
      "27\n",
      "28\n",
      "29\n",
      "30\n",
      "31\n",
      "32\n"
     ]
    }
   ],
   "source": [
    "def f(a):\n",
    "    for x in range(1, 1000):\n",
    "        for y in range(1, 1000):\n",
    "            if (\n",
    "                (99 != (y + 2*x)) or (a < x) or (a < y)\n",
    "            ):\n",
    "                continue\n",
    "            else:\n",
    "                return False\n",
    "    return True\n",
    "\n",
    "for a in range(1, 10000):\n",
    "    if f(a):\n",
    "        print(a)"
   ]
  },
  {
   "cell_type": "code",
   "execution_count": 9,
   "metadata": {
    "metadata": {}
   },
   "outputs": [
    {
     "name": "stdout",
     "output_type": "stream",
     "text": [
      "196\n",
      "98\n",
      "49\n",
      "28\n",
      "14\n",
      "7\n",
      "4\n",
      "2\n",
      "1\n"
     ]
    }
   ],
   "source": [
    "def d(n, m):\n",
    "    if n % m == 0:\n",
    "        return 1\n",
    "    else:\n",
    "        return 0\n",
    "\n",
    "def f(a):\n",
    "    for x in range(1, 1000):\n",
    "        if (\n",
    "            (not(d(x, a))) <= (d(x, 28) <= (not(d(x, 49))))\n",
    "        ):\n",
    "            pass\n",
    "        else:\n",
    "            return False\n",
    "        \n",
    "    return True\n",
    "\n",
    "for a in range(10000, 0, -1):\n",
    "    if f(a):\n",
    "\n",
    "        print(a)"
   ]
  },
  {
   "cell_type": "code",
   "execution_count": 12,
   "metadata": {
    "metadata": {}
   },
   "outputs": [
    {
     "data": {
      "text/plain": [
       "{43, 66, 68, 91}"
      ]
     },
     "execution_count": 12,
     "metadata": {},
     "output_type": "execute_result"
    }
   ],
   "source": [
    "from itertools import combinations\n",
    "\n",
    "def b(x):\n",
    "    return 24 <= x <= 90\n",
    "\n",
    "def c(x):\n",
    "    return 47 <= x <= 115\n",
    "\n",
    "def a(start, stop, x):\n",
    "    return start <= x <= stop\n",
    "\n",
    "\n",
    "coords = combinations(sorted([24, 90, 47, 115]), r=2)\n",
    "result = set()\n",
    "\n",
    "\n",
    "for start, stop in coords:\n",
    "    fl = True\n",
    "    for x in range(1, 200):\n",
    "        if (\n",
    "            c(x) <= (((not(a(start, stop, x))) and b(x)) <= (not( c(x))))\n",
    "        ):\n",
    "            pass\n",
    "        else:\n",
    "            fl = False\n",
    "            break\n",
    "    \n",
    "    if fl:\n",
    "        result.add(stop-start)\n",
    "        \n",
    "        \n",
    "result\n",
    "            "
   ]
  },
  {
   "cell_type": "code",
   "execution_count": 3,
   "metadata": {
    "metadata": {}
   },
   "outputs": [
    {
     "data": {
      "text/plain": [
       "{43, 66, 68, 91}"
      ]
     },
     "execution_count": 3,
     "metadata": {},
     "output_type": "execute_result"
    }
   ],
   "source": [
    "def b(x):\n",
    "    return 24 <= x <= 90\n",
    "\n",
    "def c(x):\n",
    "    return 47 <= x <= 115\n",
    "\n",
    "def a(start, stop, x):\n",
    "    return start <= x <= stop\n",
    "\n",
    "import itertools\n",
    "\n",
    "coords = itertools.combinations(sorted([24, 90, 47, 115]), r=2)\n",
    "\n",
    "\n",
    "r = set()\n",
    "for start, stop in coords:\n",
    "    fl = True\n",
    "    for x in range(0, 200):\n",
    "        if (\n",
    "            c(x) <= (((not a(start, stop, x)) and (b(x))) <= (not c(x)))\n",
    "        ):\n",
    "            pass\n",
    "        else:\n",
    "            fl = False\n",
    "            break\n",
    "    \n",
    "    if fl:\n",
    "        r.add(stop-start)\n",
    "        \n",
    "r"
   ]
  }
 ],
 "metadata": {
  "kernelspec": {
   "display_name": "venv",
   "language": "python",
   "name": "python3"
  },
  "language_info": {
   "codemirror_mode": {
    "name": "ipython",
    "version": 3
   },
   "file_extension": ".py",
   "mimetype": "text/x-python",
   "name": "python",
   "nbconvert_exporter": "python",
   "pygments_lexer": "ipython3",
   "version": "3.11.4"
  }
 },
 "nbformat": 4,
 "nbformat_minor": 2
}
