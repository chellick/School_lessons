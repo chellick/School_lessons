{
 "cells": [
  {
   "cell_type": "markdown",
   "metadata": {},
   "source": [
    "1010 \n",
    "1011\n",
    "\n",
    "1011\n",
    "\n",
    "поразрядное\n",
    "\n",
    "1010\n",
    "1011\n",
    "\n",
    "10101\n",
    "\n",
    "обычное\n",
    "\n",
    "\n"
   ]
  },
  {
   "cell_type": "code",
   "execution_count": 3,
   "metadata": {},
   "outputs": [
    {
     "data": {
      "text/plain": [
       "('0b10101', '0b1011', '0b1111')"
      ]
     },
     "execution_count": 3,
     "metadata": {},
     "output_type": "execute_result"
    }
   ],
   "source": [
    "bin(10 + 11), bin(10 | 11), bin(0 or 15 or 11), "
   ]
  },
  {
   "cell_type": "markdown",
   "metadata": {},
   "source": [
    "```bin(0 or 15 or 11)``` берёт первое не равное 0"
   ]
  },
  {
   "cell_type": "code",
   "execution_count": 4,
   "metadata": {},
   "outputs": [
    {
     "name": "stdout",
     "output_type": "stream",
     "text": [
      "12\n"
     ]
    }
   ],
   "source": [
    "def algo(a):\n",
    "    for x in range(1000):\n",
    "        if (x & 29 != 0) <= ((x & 17 == 0) <= (x & a != 0)):\n",
    "            pass\n",
    "        else:\n",
    "            return False\n",
    "    return True\n",
    "\n",
    "for a in range(1000):\n",
    "    if algo(a):\n",
    "        print(a)\n",
    "        break"
   ]
  },
  {
   "cell_type": "code",
   "execution_count": 5,
   "metadata": {},
   "outputs": [
    {
     "name": "stdout",
     "output_type": "stream",
     "text": [
      "16\n"
     ]
    }
   ],
   "source": [
    "def algo(a):\n",
    "    for x in range(1000):\n",
    "        if (x & 25 != 0) <= ((x&9 == 0) <= (x&a != 0)):\n",
    "            pass\n",
    "        else:\n",
    "            return False\n",
    "    return True\n",
    "\n",
    "for a in range(1000):\n",
    "    if algo(a):\n",
    "        print(a)\n",
    "        break\n",
    "    "
   ]
  },
  {
   "cell_type": "code",
   "execution_count": 6,
   "metadata": {},
   "outputs": [
    {
     "name": "stdout",
     "output_type": "stream",
     "text": [
      "12\n"
     ]
    }
   ],
   "source": [
    "def algo(a):\n",
    "    for x in range(1000):\n",
    "        if (x&17 == 0) <= ((x&29 != 0) <= (x&a != 0)):\n",
    "            pass\n",
    "        else:\n",
    "            return False\n",
    "    return True\n",
    "\n",
    "for a in range(1000):\n",
    "    if algo(a):\n",
    "        print(a)\n",
    "        break\n",
    "    "
   ]
  },
  {
   "cell_type": "code",
   "execution_count": null,
   "metadata": {},
   "outputs": [],
   "source": [
    "def algo(a):\n",
    "    for x in range(100):\n",
    "        for y in range(100):\n",
    "            if ((x <= 9) <= (x * x <= a)) and ((y * y <= a) <= (y <= 9)):\n",
    "                pass\n",
    "            else:\n",
    "                return False\n",
    "            \n",
    "    return True\n",
    "\n",
    "\n",
    "\n",
    "for a in range(1000):\n",
    "    if algo(a):\n",
    "        print(a)\n",
    "        \n"
   ]
  },
  {
   "cell_type": "code",
   "execution_count": 12,
   "metadata": {},
   "outputs": [
    {
     "name": "stdout",
     "output_type": "stream",
     "text": [
      "364\n"
     ]
    }
   ],
   "source": [
    "def algo(a):\n",
    "    for x in range(100):\n",
    "        for y in range(100):\n",
    "            if (x >= 12) or (3*x < y) or (x * y < a):\n",
    "                pass\n",
    "            else:\n",
    "                return False\n",
    "            \n",
    "    return True\n",
    "\n",
    "for a in range(1000):\n",
    "    if algo(a):\n",
    "        print(a)\n",
    "        break"
   ]
  },
  {
   "cell_type": "code",
   "execution_count": null,
   "metadata": {},
   "outputs": [],
   "source": [
    "def algo(a):\n",
    "    for x in range(300):\n",
    "        for y in range(300):\n",
    "            if (x < a) or (y < a) or (y < x - 5) or (y < 2 * x - 15):\n",
    "                pass\n",
    "            else:\n",
    "                return False\n",
    "    return True\n",
    "\n",
    "for a in range(1000):\n",
    "    if algo(a):\n",
    "        print(a)\n"
   ]
  },
  {
   "cell_type": "code",
   "execution_count": null,
   "metadata": {},
   "outputs": [],
   "source": [
    "def f(n, m):\n",
    "    return n % m == 0\n",
    "\n",
    "def algo(a):\n",
    "    for x in range(1000):\n",
    "        if (not f(x, a)) <= (f(x, 6) <= (not f(x, 4))):\n",
    "            pass\n",
    "        else:\n",
    "            return False\n",
    "    return True\n",
    "\n",
    "for a in range(1000, 0, -1):\n",
    "    if algo(a):\n",
    "        print(a)\n",
    "    "
   ]
  },
  {
   "cell_type": "code",
   "execution_count": 30,
   "metadata": {},
   "outputs": [],
   "source": [
    "from itertools import combinations"
   ]
  },
  {
   "cell_type": "code",
   "execution_count": 31,
   "metadata": {},
   "outputs": [
    {
     "name": "stdout",
     "output_type": "stream",
     "text": [
      "{35, 20, 45, 30} 20\n"
     ]
    }
   ],
   "source": [
    "\n",
    "def p(x):\n",
    "    return 20 <= x <= 50\n",
    "\n",
    "def q(x):\n",
    "    return 30 <= x <= 65\n",
    "\n",
    "\n",
    "def a(start, stop, x):\n",
    "    return start <= x <= stop # <= - если наименьшая, < - если наибольшая\n",
    "\n",
    "# пишу все координаты из всех отрезков\n",
    "coords = combinations(\n",
    "    sorted([20, 50, 30, 65]), 2)\n",
    "\n",
    "\n",
    "dlini = set()\n",
    "\n",
    "for start, stop in coords:\n",
    "    flag = True\n",
    "    for x in range(0, 70): # проверяем диапазон х\n",
    "        if not ( \n",
    "            # пишем логическое выражение\n",
    "            (not a(start=start, stop=stop, x=x)) <= (p(x) <= (not q(x)))\n",
    "        ):\n",
    "            flag = False\n",
    "            break\n",
    "\n",
    "    if flag: # добавляем в множество длину отрезка STOP - START !!!\n",
    "        dlini.add(stop - start)\n",
    "\n",
    "\n",
    "print(dlini, min(dlini))"
   ]
  },
  {
   "cell_type": "code",
   "execution_count": 32,
   "metadata": {},
   "outputs": [
    {
     "name": "stdout",
     "output_type": "stream",
     "text": [
      "{40, 24, 35, 29} 24\n"
     ]
    }
   ],
   "source": [
    "\n",
    "def p(x):\n",
    "    return 17 <= x <= 46\n",
    "\n",
    "def q(x):\n",
    "    return 22 <= x <= 57\n",
    "\n",
    "\n",
    "def a(start, stop, x):\n",
    "    return start <= x <= stop # <= - если наименьшая, < - если наибольшая\n",
    "\n",
    "# пишу все координаты из всех отрезков\n",
    "coords = combinations(\n",
    "    sorted([17, 46, 22, 57]), 2)\n",
    "\n",
    "\n",
    "dlini = set()\n",
    "\n",
    "for start, stop in coords:\n",
    "    flag = True\n",
    "    for x in range(0, 70): # проверяем диапазон х\n",
    "        if not ( \n",
    "            # пишем логическое выражение\n",
    "            (not a(start, stop, x)) <= (\n",
    "                (p(x) and q(x)) <= a(start, stop, x)\n",
    "            )\n",
    "        ):\n",
    "            flag = False\n",
    "            break\n",
    "\n",
    "    if flag: # добавляем в множество длину отрезка STOP - START !!!\n",
    "        dlini.add(stop - start)\n",
    "\n",
    "\n",
    "print(dlini, min(dlini))"
   ]
  },
  {
   "cell_type": "code",
   "execution_count": 35,
   "metadata": {},
   "outputs": [
    {
     "name": "stdout",
     "output_type": "stream",
     "text": [
      "{8, 4, 12} 12\n"
     ]
    }
   ],
   "source": [
    "\n",
    "def p(x):\n",
    "    return 2 <= x <= 10\n",
    "\n",
    "def q(x):\n",
    "    return 6 <= x <= 14\n",
    "\n",
    "\n",
    "def a(start, stop, x):\n",
    "    return start < x < stop # <= - если наименьшая, < - если наибольшая\n",
    "\n",
    "# пишу все координаты из всех отрезков\n",
    "coords = combinations(\n",
    "    sorted([2, 10, 6, 14]), 2)\n",
    "\n",
    "\n",
    "dlini = set()\n",
    "\n",
    "for start, stop in coords:\n",
    "    flag = True\n",
    "    for x in range(0, 30): # проверяем диапазон х\n",
    "        if not ( \n",
    "            # пишем логическое выражение\n",
    "            ((a(start, stop, x) <= p(x)) or q(x))\n",
    "        ):\n",
    "            flag = False\n",
    "            break\n",
    "\n",
    "    if flag: # добавляем в множество длину отрезка STOP - START !!!\n",
    "        dlini.add(stop - start)\n",
    "\n",
    "\n",
    "print(dlini, max(dlini)) # min если МИНИМАЛЬНАЯ "
   ]
  },
  {
   "cell_type": "code",
   "execution_count": 36,
   "metadata": {},
   "outputs": [
    {
     "name": "stdout",
     "output_type": "stream",
     "text": [
      "{19} 19\n"
     ]
    }
   ],
   "source": [
    "\n",
    "def p(x):\n",
    "    return 3 <= x <= 38\n",
    "\n",
    "def q(x):\n",
    "    return 21 <= x <= 57\n",
    "\n",
    "\n",
    "def a(start, stop, x):\n",
    "    return start < x < stop # <= - если наименьшая, < - если наибольшая\n",
    "\n",
    "# пишу все координаты из всех отрезков\n",
    "coords = combinations(\n",
    "    sorted([3, 38, 21, 57]), 2)\n",
    "\n",
    "\n",
    "dlini = set()\n",
    "\n",
    "for start, stop in coords:\n",
    "    flag = True\n",
    "    for x in range(0, 70): # проверяем диапазон х\n",
    "        if not ( \n",
    "            # пишем логическое выражение\n",
    "            ((q(x) <= p(x)) <= (not a(start, stop, x)))\n",
    "        ):\n",
    "            flag = False\n",
    "            break\n",
    "\n",
    "    if flag: # добавляем в множество длину отрезка STOP - START !!!\n",
    "        dlini.add(stop - start)\n",
    "\n",
    "\n",
    "print(dlini, max(dlini)) # min если МИНИМАЛЬНАЯ "
   ]
  }
 ],
 "metadata": {
  "kernelspec": {
   "display_name": "venv",
   "language": "python",
   "name": "python3"
  },
  "language_info": {
   "codemirror_mode": {
    "name": "ipython",
    "version": 3
   },
   "file_extension": ".py",
   "mimetype": "text/x-python",
   "name": "python",
   "nbconvert_exporter": "python",
   "pygments_lexer": "ipython3",
   "version": "3.11.4"
  }
 },
 "nbformat": 4,
 "nbformat_minor": 2
}
