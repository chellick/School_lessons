{
 "cells": [
  {
   "cell_type": "markdown",
   "metadata": {},
   "source": [
    "1010 \n",
    "1011\n",
    "\n",
    "1011\n",
    "\n",
    "поразрядное\n",
    "\n",
    "1010\n",
    "1011\n",
    "\n",
    "10101\n",
    "\n",
    "обычное\n",
    "\n",
    "\n"
   ]
  },
  {
   "cell_type": "code",
   "execution_count": 3,
   "metadata": {},
   "outputs": [
    {
     "data": {
      "text/plain": [
       "('0b10101', '0b1011', '0b1111')"
      ]
     },
     "execution_count": 3,
     "metadata": {},
     "output_type": "execute_result"
    }
   ],
   "source": [
    "bin(10 + 11), bin(10 | 11), bin(0 or 15 or 11), "
   ]
  },
  {
   "cell_type": "markdown",
   "metadata": {},
   "source": [
    "```bin(0 or 15 or 11)``` берёт первое не равное 0"
   ]
  },
  {
   "cell_type": "code",
   "execution_count": 4,
   "metadata": {},
   "outputs": [
    {
     "name": "stdout",
     "output_type": "stream",
     "text": [
      "12\n"
     ]
    }
   ],
   "source": [
    "def algo(a):\n",
    "    for x in range(1000):\n",
    "        if (x & 29 != 0) <= ((x & 17 == 0) <= (x & a != 0)):\n",
    "            pass\n",
    "        else:\n",
    "            return False\n",
    "    return True\n",
    "\n",
    "for a in range(1000):\n",
    "    if algo(a):\n",
    "        print(a)\n",
    "        break"
   ]
  },
  {
   "cell_type": "code",
   "execution_count": 5,
   "metadata": {},
   "outputs": [
    {
     "name": "stdout",
     "output_type": "stream",
     "text": [
      "16\n"
     ]
    }
   ],
   "source": [
    "def algo(a):\n",
    "    for x in range(1000):\n",
    "        if (x & 25 != 0) <= ((x&9 == 0) <= (x&a != 0)):\n",
    "            pass\n",
    "        else:\n",
    "            return False\n",
    "    return True\n",
    "\n",
    "for a in range(1000):\n",
    "    if algo(a):\n",
    "        print(a)\n",
    "        break\n",
    "    "
   ]
  },
  {
   "cell_type": "code",
   "execution_count": 6,
   "metadata": {},
   "outputs": [
    {
     "name": "stdout",
     "output_type": "stream",
     "text": [
      "12\n"
     ]
    }
   ],
   "source": [
    "def algo(a):\n",
    "    for x in range(1000):\n",
    "        if (x&17 == 0) <= ((x&29 != 0) <= (x&a != 0)):\n",
    "            pass\n",
    "        else:\n",
    "            return False\n",
    "    return True\n",
    "\n",
    "for a in range(1000):\n",
    "    if algo(a):\n",
    "        print(a)\n",
    "        break\n",
    "    "
   ]
  },
  {
   "cell_type": "code",
   "execution_count": null,
   "metadata": {},
   "outputs": [],
   "source": [
    "def algo(a):\n",
    "    for x in range(100):\n",
    "        for y in range(100):\n",
    "            if ((x <= 9) <= (x * x <= a)) and ((y * y <= a) <= (y <= 9)):\n",
    "                pass\n",
    "            else:\n",
    "                return False\n",
    "            \n",
    "    return True\n",
    "\n",
    "\n",
    "\n",
    "for a in range(1000):\n",
    "    if algo(a):\n",
    "        print(a)\n",
    "        \n"
   ]
  },
  {
   "cell_type": "code",
   "execution_count": 12,
   "metadata": {},
   "outputs": [
    {
     "name": "stdout",
     "output_type": "stream",
     "text": [
      "364\n"
     ]
    }
   ],
   "source": [
    "def algo(a):\n",
    "    for x in range(100):\n",
    "        for y in range(100):\n",
    "            if (x >= 12) or (3*x < y) or (x * y < a):\n",
    "                pass\n",
    "            else:\n",
    "                return False\n",
    "            \n",
    "    return True\n",
    "\n",
    "for a in range(1000):\n",
    "    if algo(a):\n",
    "        print(a)\n",
    "        break"
   ]
  },
  {
   "cell_type": "code",
   "execution_count": null,
   "metadata": {},
   "outputs": [],
   "source": [
    "def algo(a):\n",
    "    for x in range(300):\n",
    "        for y in range(300):\n",
    "            if (x < a) or (y < a) or (y < x - 5) or (y < 2 * x - 15):\n",
    "                pass\n",
    "            else:\n",
    "                return False\n",
    "    return True\n",
    "\n",
    "for a in range(1000):\n",
    "    if algo(a):\n",
    "        print(a)\n"
   ]
  },
  {
   "cell_type": "code",
   "execution_count": null,
   "metadata": {},
   "outputs": [],
   "source": [
    "def f(n, m):\n",
    "    return n % m == 0\n",
    "\n",
    "def algo(a):\n",
    "    for x in range(1000):\n",
    "        if (not f(x, a)) <= (f(x, 6) <= (not f(x, 4))):\n",
    "            pass\n",
    "        else:\n",
    "            return False\n",
    "    return True\n",
    "\n",
    "for a in range(1000, 0, -1):\n",
    "    if algo(a):\n",
    "        print(a)\n",
    "    "
   ]
  },
  {
   "cell_type": "code",
   "execution_count": 30,
   "metadata": {},
   "outputs": [],
   "source": [
    "from itertools import combinations"
   ]
  },
  {
   "cell_type": "code",
   "execution_count": 31,
   "metadata": {},
   "outputs": [
    {
     "name": "stdout",
     "output_type": "stream",
     "text": [
      "{35, 20, 45, 30} 20\n"
     ]
    }
   ],
   "source": [
    "\n",
    "def p(x):\n",
    "    return 20 <= x <= 50\n",
    "\n",
    "def q(x):\n",
    "    return 30 <= x <= 65\n",
    "\n",
    "\n",
    "def a(start, stop, x):\n",
    "    return start <= x <= stop # <= - если наименьшая, < - если наибольшая\n",
    "\n",
    "# пишу все координаты из всех отрезков\n",
    "coords = combinations(\n",
    "    sorted([20, 50, 30, 65]), 2)\n",
    "\n",
    "\n",
    "dlini = set()\n",
    "\n",
    "for start, stop in coords:\n",
    "    flag = True\n",
    "    for x in range(0, 70): # проверяем диапазон х\n",
    "        if not ( \n",
    "            # пишем логическое выражение\n",
    "            (not a(start=start, stop=stop, x=x)) <= (p(x) <= (not q(x)))\n",
    "        ):\n",
    "            flag = False\n",
    "            break\n",
    "\n",
    "    if flag: # добавляем в множество длину отрезка STOP - START !!!\n",
    "        dlini.add(stop - start)\n",
    "\n",
    "\n",
    "print(dlini, min(dlini))"
   ]
  },
  {
   "cell_type": "code",
   "execution_count": 32,
   "metadata": {},
   "outputs": [
    {
     "name": "stdout",
     "output_type": "stream",
     "text": [
      "{40, 24, 35, 29} 24\n"
     ]
    }
   ],
   "source": [
    "\n",
    "def p(x):\n",
    "    return 17 <= x <= 46\n",
    "\n",
    "def q(x):\n",
    "    return 22 <= x <= 57\n",
    "\n",
    "\n",
    "def a(start, stop, x):\n",
    "    return start <= x <= stop # <= - если наименьшая, < - если наибольшая\n",
    "\n",
    "# пишу все координаты из всех отрезков\n",
    "coords = combinations(\n",
    "    sorted([17, 46, 22, 57]), 2)\n",
    "\n",
    "\n",
    "dlini = set()\n",
    "\n",
    "for start, stop in coords:\n",
    "    flag = True\n",
    "    for x in range(0, 70): # проверяем диапазон х\n",
    "        if not ( \n",
    "            # пишем логическое выражение\n",
    "            (not a(start, stop, x)) <= (\n",
    "                (p(x) and q(x)) <= a(start, stop, x)\n",
    "            )\n",
    "        ):\n",
    "            flag = False\n",
    "            break\n",
    "\n",
    "    if flag: # добавляем в множество длину отрезка STOP - START !!!\n",
    "        dlini.add(stop - start)\n",
    "\n",
    "\n",
    "print(dlini, min(dlini))"
   ]
  },
  {
   "cell_type": "code",
   "execution_count": 35,
   "metadata": {},
   "outputs": [
    {
     "name": "stdout",
     "output_type": "stream",
     "text": [
      "{8, 4, 12} 12\n"
     ]
    }
   ],
   "source": [
    "\n",
    "def p(x):\n",
    "    return 2 <= x <= 10\n",
    "\n",
    "def q(x):\n",
    "    return 6 <= x <= 14\n",
    "\n",
    "\n",
    "def a(start, stop, x):\n",
    "    return start < x < stop # <= - если наименьшая, < - если наибольшая\n",
    "\n",
    "# пишу все координаты из всех отрезков\n",
    "coords = combinations(\n",
    "    sorted([2, 10, 6, 14]), 2)\n",
    "\n",
    "\n",
    "dlini = set()\n",
    "\n",
    "for start, stop in coords:\n",
    "    flag = True\n",
    "    for x in range(0, 30): # проверяем диапазон х\n",
    "        if not ( \n",
    "            # пишем логическое выражение\n",
    "            ((a(start, stop, x) <= p(x)) or q(x))\n",
    "        ):\n",
    "            flag = False\n",
    "            break\n",
    "\n",
    "    if flag: # добавляем в множество длину отрезка STOP - START !!!\n",
    "        dlini.add(stop - start)\n",
    "\n",
    "\n",
    "print(dlini, max(dlini)) # min если МИНИМАЛЬНАЯ "
   ]
  },
  {
   "cell_type": "code",
   "execution_count": 36,
   "metadata": {},
   "outputs": [
    {
     "name": "stdout",
     "output_type": "stream",
     "text": [
      "{19} 19\n"
     ]
    }
   ],
   "source": [
    "\n",
    "def p(x):\n",
    "    return 3 <= x <= 38\n",
    "\n",
    "def q(x):\n",
    "    return 21 <= x <= 57\n",
    "\n",
    "\n",
    "def a(start, stop, x):\n",
    "    return start < x < stop # <= - если наименьшая, < - если наибольшая\n",
    "\n",
    "# пишу все координаты из всех отрезков\n",
    "coords = combinations(\n",
    "    sorted([3, 38, 21, 57]), 2)\n",
    "\n",
    "\n",
    "dlini = set()\n",
    "\n",
    "for start, stop in coords:\n",
    "    flag = True\n",
    "    for x in range(0, 70): # проверяем диапазон х\n",
    "        if not ( \n",
    "            # пишем логическое выражение\n",
    "            ((q(x) <= p(x)) <= (not a(start, stop, x)))\n",
    "        ):\n",
    "            flag = False\n",
    "            break\n",
    "\n",
    "    if flag: # добавляем в множество длину отрезка STOP - START !!!\n",
    "        dlini.add(stop - start)\n",
    "\n",
    "\n",
    "print(dlini, max(dlini)) # min если МИНИМАЛЬНАЯ "
   ]
  },
  {
   "cell_type": "code",
   "execution_count": 1,
   "metadata": {},
   "outputs": [
    {
     "name": "stdout",
     "output_type": "stream",
     "text": [
      "16\n"
     ]
    }
   ],
   "source": [
    "def d(n, m):\n",
    "    if n % m == 0:\n",
    "        return 1\n",
    "    return 0\n",
    "\n",
    "def algo(a):\n",
    "    for x in range(1000):\n",
    "        if ((d(x, a) and d(x, 24)) and (not(d(x, 16)))) <= (not(x, a)):\n",
    "            pass\n",
    "        else:\n",
    "            return False\n",
    "    return True\n",
    "\n",
    "for a in range(1, 1000):\n",
    "     if algo(a):\n",
    "         print(a)\n",
    "         break"
   ]
  },
  {
   "cell_type": "code",
   "execution_count": 23,
   "metadata": {},
   "outputs": [
    {
     "name": "stdout",
     "output_type": "stream",
     "text": [
      "1260\n"
     ]
    }
   ],
   "source": [
    "def d(n, m):\n",
    "    if n % m == 0:\n",
    "        return 1\n",
    "    return 0\n",
    "\n",
    "\n",
    "def f(a):\n",
    "    for x in range(10000):\n",
    "        if ((not(d(x, 84))) or (not(d(x, 90)))) <= (not(d(x, a))):\n",
    "            pass\n",
    "        else:\n",
    "            return False\n",
    "    return True\n",
    "\n",
    "for a in range(1, 10000):\n",
    "    if f(a):\n",
    "        print(a)\n",
    "        break"
   ]
  },
  {
   "cell_type": "markdown",
   "metadata": {},
   "source": [
    "Если по предположениям код верен, но ответ не логичен -> бо'льшее количество итераций"
   ]
  },
  {
   "cell_type": "code",
   "execution_count": 24,
   "metadata": {},
   "outputs": [
    {
     "name": "stdout",
     "output_type": "stream",
     "text": [
      "7\n"
     ]
    }
   ],
   "source": [
    "def d(n, m):\n",
    "    if n % m == 0:\n",
    "        return 1\n",
    "    return 0\n",
    "\n",
    "\n",
    "def f(a):\n",
    "    for x in range(10000):\n",
    "        if (d(x, 15) and (not(d(x, 21)))) <= ((not(d(x, a))) or (not(d(x, 15)))):\n",
    "            pass\n",
    "        else:\n",
    "            return False\n",
    "    return True\n",
    "\n",
    "for a in range(1, 10000):\n",
    "    if f(a):\n",
    "        print(a)\n",
    "        break\n"
   ]
  },
  {
   "cell_type": "code",
   "execution_count": 25,
   "metadata": {},
   "outputs": [
    {
     "name": "stdout",
     "output_type": "stream",
     "text": [
      "7\n"
     ]
    }
   ],
   "source": [
    "\n",
    "def f(a):\n",
    "    for x in range(10000):\n",
    "        if ((x % 4 != 3) or (x % 6 != 1)) <= (x % 36 != a):\n",
    "            pass\n",
    "        else:\n",
    "            return 0\n",
    "    return 1\n",
    "\n",
    "for a in range(10000):\n",
    "    if f(a):\n",
    "        print(a)\n",
    "        break"
   ]
  },
  {
   "cell_type": "code",
   "execution_count": 29,
   "metadata": {},
   "outputs": [],
   "source": [
    "from itertools import combinations"
   ]
  },
  {
   "cell_type": "code",
   "execution_count": 34,
   "metadata": {},
   "outputs": [
    {
     "name": "stdout",
     "output_type": "stream",
     "text": [
      "{36} {36}\n"
     ]
    }
   ],
   "source": [
    "\n",
    "def p(x):\n",
    "    return 18 <= x <= 52\n",
    "\n",
    "def q(x):\n",
    "    return 16 <= x <= 41\n",
    "\n",
    "\n",
    "def a(start, stop, x):\n",
    "    return start <= x <= stop # <= - если наименьшая, < - если наибольшая\n",
    "\n",
    "# пишу все координаты из всех отрезков\n",
    "coords = combinations(\n",
    "    sorted([18, 52, 16, 41]), 2)\n",
    "\n",
    "\n",
    "dlini = set()\n",
    "\n",
    "for start, stop in coords:\n",
    "    flag = True\n",
    "    for x in range(0, 70): # проверяем диапазон х\n",
    "        if not ( \n",
    "            # пишем логическое выражение\n",
    "            ((p(x) <= a(start, stop, x))) and (not(q(x)) or a(start, stop, x))\n",
    "        ):\n",
    "            flag = False\n",
    "            break\n",
    "\n",
    "    if flag: # добавляем в множество длину отрезка STOP - START !!!\n",
    "        dlini.add(stop - start)\n",
    "\n",
    "\n",
    "print(dlini, (dlini)) # min если МИНИМАЛЬНАЯ \n"
   ]
  },
  {
   "cell_type": "code",
   "execution_count": 7,
   "metadata": {},
   "outputs": [
    {
     "name": "stdout",
     "output_type": "stream",
     "text": [
      "420\n"
     ]
    }
   ],
   "source": [
    "def d(m, n):\n",
    "    if m % n == 0:\n",
    "        return 1\n",
    "    return 0\n",
    "\n",
    "def f(a):\n",
    "    for x in range(1, 10000):\n",
    "        if d(a, 7) and (d(240, x) <= ((not(d(a, x))) <= (not(d(780, x))))):\n",
    "            pass\n",
    "        else:\n",
    "            return 0\n",
    "    return 1\n",
    "\n",
    "for a in range(1, 10000):\n",
    "    if f(a):\n",
    "        print(a)\n",
    "        break\n",
    "        "
   ]
  },
  {
   "cell_type": "code",
   "execution_count": 1,
   "metadata": {},
   "outputs": [],
   "source": [
    "from itertools import combinations"
   ]
  },
  {
   "cell_type": "code",
   "execution_count": 27,
   "metadata": {},
   "outputs": [
    {
     "data": {
      "text/plain": [
       "{30}"
      ]
     },
     "execution_count": 27,
     "metadata": {},
     "output_type": "execute_result"
    }
   ],
   "source": [
    "def p(x):\n",
    "    return 35 <= x <= 55\n",
    "\n",
    "def q(x):\n",
    "    return 45 <= x <= 65\n",
    "\n",
    "def a(start, stop, x):\n",
    "    return start <= x <= stop\n",
    "\n",
    "cords = combinations(sorted([35, 55, 45, 65]), r=2)\n",
    "dlini = set()\n",
    "\n",
    "for start, stop in cords:\n",
    "    flag = True\n",
    "    for x in range(0, 80):\n",
    "        if not(\n",
    "            (p(x) <= a(start, stop, x)) and\\\n",
    "            ((not a(start, stop, x)) <= (not q(x)))\n",
    "        ):\n",
    "            flag = False\n",
    "          \n",
    "    if flag:\n",
    "        dlini.add(stop-start)\n",
    "        \n",
    "dlini\n"
   ]
  },
  {
   "cell_type": "code",
   "execution_count": 30,
   "metadata": {},
   "outputs": [
    {
     "data": {
      "text/plain": [
       "{12, 41, 63}"
      ]
     },
     "execution_count": 30,
     "metadata": {},
     "output_type": "execute_result"
    }
   ],
   "source": [
    "def d(x):\n",
    "    return 17 <= x <= 58\n",
    "\n",
    "def c(x):\n",
    "    return 29 <= x <= 80\n",
    "\n",
    "def a(start, stop, x):\n",
    "    return start <= x <= stop\n",
    "\n",
    "cords = combinations(sorted([17, 58, 29, 80]), r=2)\n",
    "dlini = set()\n",
    "for start, stop in cords:\n",
    "    flag = True\n",
    "    for x in range(1, 90):\n",
    "        if not(\n",
    "            (d(x)) <= (((not c(x)) and (not a(start, stop, x))) <= (not d(x)))\n",
    "        ):\n",
    "            flag = False\n",
    "    if flag:\n",
    "        dlini.add(stop-start)\n",
    "        \n",
    "dlini"
   ]
  },
  {
   "cell_type": "code",
   "execution_count": 1,
   "metadata": {},
   "outputs": [],
   "source": [
    "import sys\n",
    "sys.setrecursionlimit(10**4)"
   ]
  },
  {
   "cell_type": "code",
   "execution_count": 3,
   "metadata": {},
   "outputs": [
    {
     "data": {
      "text/plain": [
       "62820.0"
      ]
     },
     "execution_count": 3,
     "metadata": {},
     "output_type": "execute_result"
    }
   ],
   "source": [
    "def f(n):\n",
    "    if n <= 1:\n",
    "        return 0\n",
    "    \n",
    "    elif n % 2 != 0:\n",
    "        return f(n-1) + 3 * n ** 2\n",
    "\n",
    "    return  n / 2 + f(n-1) + 2\n",
    "    \n",
    "f(49)\n",
    "    "
   ]
  },
  {
   "cell_type": "code",
   "execution_count": 5,
   "metadata": {},
   "outputs": [
    {
     "data": {
      "text/plain": [
       "7"
      ]
     },
     "execution_count": 5,
     "metadata": {},
     "output_type": "execute_result"
    }
   ],
   "source": [
    "def f(n):\n",
    "    if n <= 2:\n",
    "        return n\n",
    "    \n",
    "    if n > 2 and n % 2 == 0:\n",
    "        return int((4 * n - f(n - 3)) / 8)\n",
    "    \n",
    "    return int((4 * n - f(n - 1) + f(n - 2)) / 8)\n",
    "\n",
    "f(52) - f(38)"
   ]
  },
  {
   "cell_type": "code",
   "execution_count": 6,
   "metadata": {},
   "outputs": [
    {
     "data": {
      "text/plain": [
       "142"
      ]
     },
     "execution_count": 6,
     "metadata": {},
     "output_type": "execute_result"
    }
   ],
   "source": [
    "def f(n):\n",
    "    if n <= 2:\n",
    "        return n\n",
    "    if n > 2:\n",
    "        return 2 * f(n-1) + (n-2) * f(n-2)\n",
    "    \n",
    "f(6)"
   ]
  },
  {
   "cell_type": "code",
   "execution_count": 7,
   "metadata": {},
   "outputs": [],
   "source": [
    "from functools import lru_cache"
   ]
  },
  {
   "cell_type": "code",
   "execution_count": 8,
   "metadata": {},
   "outputs": [
    {
     "data": {
      "text/plain": [
       "4247"
      ]
     },
     "execution_count": 8,
     "metadata": {},
     "output_type": "execute_result"
    }
   ],
   "source": [
    "def f(n):\n",
    "    if n < 11:\n",
    "        return 10\n",
    "    return n + f(n-1)\n",
    "\n",
    "f(2124) - f(2122)"
   ]
  },
  {
   "cell_type": "code",
   "execution_count": 9,
   "metadata": {},
   "outputs": [],
   "source": [
    "import time"
   ]
  },
  {
   "cell_type": "code",
   "execution_count": null,
   "metadata": {},
   "outputs": [],
   "source": [
    "\n",
    "def f(n):\n",
    "    if n == 0:\n",
    "        return 0\n",
    "    if n % 2 != 0:\n",
    "        return  f(n-1) + 1\n",
    "    if n > 0 and n % 2 == 0:\n",
    "        return f(n/2)\n",
    "\n",
    "c = 0\n",
    "\n",
    "for n in range(10**7):\n",
    "    if f(n) == 2:\n",
    "        c += 1\n",
    "        \n",
    "c"
   ]
  },
  {
   "cell_type": "code",
   "execution_count": 18,
   "metadata": {},
   "outputs": [
    {
     "data": {
      "text/plain": [
       "120"
      ]
     },
     "execution_count": 18,
     "metadata": {},
     "output_type": "execute_result"
    }
   ],
   "source": [
    "яндекc = 0\n",
    "\n",
    "def f(n):\n",
    "    if n == 0:\n",
    "        return 0\n",
    "    elif n > 0 and n % 2 == 0:\n",
    "        return f(n / 2)\n",
    "    elif n % 2 != 0:\n",
    "        return 1 + f(n-1)\n",
    "\n",
    "for n in range(1, 1000):\n",
    "    if f(n) == 3:\n",
    "        яндекc += 1\n",
    "        \n",
    "яндекc"
   ]
  },
  {
   "cell_type": "code",
   "execution_count": 1,
   "metadata": {},
   "outputs": [],
   "source": [
    "from itertools import combinations"
   ]
  },
  {
   "cell_type": "code",
   "execution_count": 3,
   "metadata": {},
   "outputs": [
    {
     "data": {
      "text/plain": [
       "{6, 17, 23, 27, 44, 50}"
      ]
     },
     "execution_count": 3,
     "metadata": {},
     "output_type": "execute_result"
    }
   ],
   "source": [
    "def p(x):\n",
    "    return 11 < x < 28\n",
    "\n",
    "def q(x):\n",
    "    return 5 < x < 55\n",
    "\n",
    "def a(start, stop, x):\n",
    "    return start < x < stop\n",
    "\n",
    "coords = list(sorted([11, 28, 5, 55]))\n",
    "solutions = set()\n",
    "\n",
    "for start, stop in combinations(coords, r=2):\n",
    "    for x in range(0, 70):\n",
    "        if not(\n",
    "        (a(start, stop, x)) or (not (not p(x)) <= (q(x)))\n",
    "        ):\n",
    "            break\n",
    "        else:\n",
    "            solutions.add(stop-start)\n",
    "            \n",
    "solutions"
   ]
  },
  {
   "cell_type": "code",
   "execution_count": 3,
   "metadata": {},
   "outputs": [
    {
     "data": {
      "text/plain": [
       "64"
      ]
     },
     "execution_count": 3,
     "metadata": {},
     "output_type": "execute_result"
    }
   ],
   "source": [
    "nums = []\n",
    "for x in range(1,100):\n",
    "    for y in range(1,100):\n",
    "        for a in range(1, 1000):\n",
    "            if ((x+2*y>48) or (y>x) or (x+3*y<a)) == 0:\n",
    "                nums.append(a)\n",
    "                \n",
    "max(nums)"
   ]
  },
  {
   "cell_type": "code",
   "execution_count": 6,
   "metadata": {},
   "outputs": [
    {
     "name": "stdout",
     "output_type": "stream",
     "text": [
      "2\n"
     ]
    }
   ],
   "source": [
    "def f(A):\n",
    "    for x in range(1, 1000):\n",
    "        if (\n",
    "            (((x&26!=0) or (x&13!=0)) <= ((x&29==0) <= (x&A!=0)))\n",
    "        )==1:\n",
    "            pass\n",
    "        else:\n",
    "            return False\n",
    "    return True\n",
    "\n",
    "for a in range(1000):\n",
    "    if f(a): \n",
    "        print(a)\n",
    "        break"
   ]
  },
  {
   "cell_type": "code",
   "execution_count": null,
   "metadata": {},
   "outputs": [],
   "source": []
  },
  {
   "cell_type": "code",
   "execution_count": 9,
   "metadata": {},
   "outputs": [
    {
     "name": "stdout",
     "output_type": "stream",
     "text": [
      "1\n",
      "4\n",
      "5\n",
      "8\n",
      "9\n",
      "12\n",
      "13\n"
     ]
    }
   ],
   "source": [
    "def f(a):\n",
    "    for x in range(1, 10000):\n",
    "        if (\n",
    "            (((x&13!=0) or (x&a!=0)) <= (x&13!=0)) or ((x&a!=0) and (x&39==0))\n",
    "        ):\n",
    "            pass\n",
    "        else:\n",
    "            return False\n",
    "    return True\n",
    "\n",
    "for a in range(1, 1000):\n",
    "    if f(a):\n",
    "        print(a)"
   ]
  },
  {
   "cell_type": "code",
   "execution_count": 10,
   "metadata": {},
   "outputs": [
    {
     "name": "stdout",
     "output_type": "stream",
     "text": [
      "20\n"
     ]
    }
   ],
   "source": [
    "def f(a):\n",
    "    for x in range(1, 1000):\n",
    "        if (\n",
    "            (x&107==0) <= ((x&55!=0) <= (x&a!=0))\n",
    "        ):\n",
    "            pass\n",
    "        else:\n",
    "            return False\n",
    "    return True\n",
    "\n",
    "for a in range(1, 1000):\n",
    "    if f(a):\n",
    "        print(a)\n",
    "        break\n",
    "        \n"
   ]
  },
  {
   "cell_type": "code",
   "execution_count": 23,
   "metadata": {},
   "outputs": [
    {
     "data": {
      "text/plain": [
       "120"
      ]
     },
     "execution_count": 23,
     "metadata": {},
     "output_type": "execute_result"
    }
   ],
   "source": [
    "def p(a):\n",
    "    a = bin(a)[2:]\n",
    "    if a[:2] == '11':\n",
    "        return True\n",
    "    return False\n",
    "\n",
    "\n",
    "def q(a):\n",
    "    if bin(a)[-1] == '0':\n",
    "        return True\n",
    "    return False\n",
    "\n",
    "def A(a):\n",
    "    return True\n",
    "\n",
    "\n",
    "1*2*3*4*5\n",
    "        \n",
    "        "
   ]
  },
  {
   "cell_type": "code",
   "execution_count": null,
   "metadata": {},
   "outputs": [],
   "source": [
    "def f(a):\n",
    "    for x in range(1, 1000):\n",
    "        for y in range(1, 1000):\n",
    "            if (\n",
    "                (x*y>a) and (x>y) and (x<8)\n",
    "            ):\n",
    "                return False\n",
    "    return True\n",
    "\n",
    "for a in range(1, 1000):\n",
    "    if f(a):\n",
    "        print(a)"
   ]
  },
  {
   "cell_type": "code",
   "execution_count": 25,
   "metadata": {},
   "outputs": [
    {
     "name": "stdout",
     "output_type": "stream",
     "text": [
      "183\n"
     ]
    }
   ],
   "source": [
    "def f(a):\n",
    "    for x in range(1, 1000):\n",
    "        for y in range(1, 1000):\n",
    "            if (\n",
    "                (x>39) or (y>26) or (2*x + 4 *y < a)\n",
    "            ):\n",
    "                pass\n",
    "            else:\n",
    "                return False\n",
    "    return True\n",
    "\n",
    "for a in range(1, 1000):\n",
    "    if f(a):\n",
    "        print(a)\n",
    "        break"
   ]
  },
  {
   "cell_type": "code",
   "execution_count": null,
   "metadata": {},
   "outputs": [],
   "source": [
    "def f(a):\n",
    "    for x in range(1, 1000):\n",
    "        for y in range(1, 1000):\n",
    "            if (\n",
    "                (2*x + y != 70) or (x < y) or (a < x)\n",
    "            ):\n",
    "                pass\n",
    "            else:\n",
    "                return False\n",
    "            \n",
    "    return True\n",
    "\n",
    "\n",
    "for a in range(1, 1000):\n",
    "    if f(a):\n",
    "        print(a)"
   ]
  },
  {
   "cell_type": "code",
   "execution_count": null,
   "metadata": {},
   "outputs": [],
   "source": [
    "def  f(a):\n",
    "    for x in range(1, 1000):\n",
    "        for y in range(1, 1000):\n",
    "            if (\n",
    "                (x**2 - 10*x + 16 > 0) or (y**2 - 10*y+21>0) or (x*y<2*a)\n",
    "            ):\n",
    "                pass\n",
    "            else:\n",
    "                return False\n",
    "    return True\n",
    "\n",
    "for a in range(1, 1000):\n",
    "    if f(a):\n",
    "        print(a)"
   ]
  },
  {
   "cell_type": "code",
   "execution_count": null,
   "metadata": {},
   "outputs": [],
   "source": [
    "def f(a):\n",
    "    for x in range(1, 15):\n",
    "        if ((x in (1, 3, 5, 7, 9, 11))):\n",
    "            pass\n",
    "        else:\n",
    "            return False"
   ]
  },
  {
   "cell_type": "code",
   "execution_count": 8,
   "metadata": {},
   "outputs": [
    {
     "data": {
      "text/plain": [
       "{12, 22, 29, 41, 51, 63}"
      ]
     },
     "execution_count": 8,
     "metadata": {},
     "output_type": "execute_result"
    }
   ],
   "source": [
    "def d(x):\n",
    "    return 17 <= x <= 58\n",
    "\n",
    "def c(x):\n",
    "    return 29 <= x <= 80\n",
    "\n",
    "def a(start, stop, x):\n",
    "    return start <= x <= stop\n",
    "\n",
    "from itertools import combinations\n",
    "\n",
    "coords = combinations(sorted([17, 58, 29, 80]), r = 2)\n",
    "\n",
    "result = set()\n",
    "\n",
    "\n",
    "for start, stop in coords:\n",
    "    flag = True\n",
    "    for x in range(0, 90):\n",
    "        if not(\n",
    "            ((d(x)) <= ((not c(x)) and (not a(start, stop, x)))) <= (not d(x))\n",
    "            ):\n",
    "            flag = False\n",
    "        if flag:\n",
    "            result.add(stop-start)\n",
    "    \n",
    "result\n",
    "            "
   ]
  },
  {
   "cell_type": "code",
   "execution_count": 9,
   "metadata": {},
   "outputs": [
    {
     "data": {
      "text/plain": [
       "{17, 37, 46, 66}"
      ]
     },
     "execution_count": 9,
     "metadata": {},
     "output_type": "execute_result"
    }
   ],
   "source": [
    "def p(x):\n",
    "    return 17 <= x <= 54\n",
    "\n",
    "def q(x):\n",
    "    return 37 <= x <= 83\n",
    "\n",
    "def a(start, stop, x):\n",
    "    return start <= x <= stop\n",
    "\n",
    "\n",
    "from itertools import combinations\n",
    "\n",
    "coords = combinations(sorted([17, 54, 37, 83]), r=2)\n",
    "\n",
    "r = set()\n",
    "\n",
    "for start, stop in coords:\n",
    "    flag = True\n",
    "    for x in range(1, 90):\n",
    "        if not(\n",
    "            (p(x)) <= (((q(x)) and (not a(start, stop, x))) <= (not p(x)))\n",
    "        ):\n",
    "            flag = False\n",
    "            break\n",
    "        \n",
    "    if flag:\n",
    "        r.add(stop-start)\n",
    "r"
   ]
  },
  {
   "cell_type": "code",
   "execution_count": 8,
   "metadata": {},
   "outputs": [
    {
     "name": "stdout",
     "output_type": "stream",
     "text": [
      "12\n"
     ]
    }
   ],
   "source": [
    "import itertools\n",
    "\n",
    "sets = []\n",
    "largest_set = {1, 3, 5, 7, 9, 11, 12}\n",
    "\n",
    "\n",
    "for i in range(len(largest_set)):\n",
    "    for s in itertools.combinations(largest_set, r=i):\n",
    "        sets.append(s)\n",
    "\n",
    "\n",
    "\n",
    "for set_ in sets:\n",
    "    flag = True\n",
    "    for x in range(1, 13):\n",
    "        if not(\n",
    "            ((x in {1, 3, 5, 7, 9, 11}) <= (not x in {3, 6, 9, 12})) or (x in set_)\n",
    "        ):\n",
    "            flag = False\n",
    "            break\n",
    "            \n",
    "    if flag:\n",
    "        print(sum(set_))\n",
    "        break\n",
    "    "
   ]
  },
  {
   "cell_type": "code",
   "execution_count": 4,
   "metadata": {},
   "outputs": [
    {
     "name": "stdout",
     "output_type": "stream",
     "text": [
      "(3, 6)\n"
     ]
    }
   ],
   "source": [
    "import itertools\n",
    "\n",
    "longest_set = {1, 2, 3, 4, 5, 6, 9, 12}\n",
    "sets = []\n",
    "\n",
    "for i in range(len(longest_set)):\n",
    "    for s in itertools.combinations(longest_set, r=i):\n",
    "        sets.append(s)\n",
    "\n",
    "for A in sets:\n",
    "    flag = True\n",
    "    for x in range(1, 13):\n",
    "        if not(\n",
    "            not(not(x in A) and x in {3, 6, 9, 12}) or not(x in {1, 2, 3, 4, 5, 6})\n",
    "        ):\n",
    "            flag = False\n",
    "            break\n",
    "    if flag:\n",
    "        print(A)\n",
    "        break"
   ]
  },
  {
   "cell_type": "code",
   "execution_count": null,
   "metadata": {},
   "outputs": [],
   "source": [
    "import itertools\n",
    "\n",
    "p = []\n",
    "q = []\n",
    "a = []\n",
    "\n",
    "for c in itertools.product('01', repeat=8):\n",
    "    c = \"\".join(c)\n",
    "    if c[:2] == '11':\n",
    "        p.append(c)\n",
    "    if c[-1] == '0':\n",
    "        q.append(c)\n",
    "    a.append(c)\n",
    "    \n",
    "for x\n",
    "    \n"
   ]
  },
  {
   "cell_type": "code",
   "execution_count": 3,
   "metadata": {},
   "outputs": [
    {
     "name": "stdout",
     "output_type": "stream",
     "text": [
      "90\n"
     ]
    }
   ],
   "source": [
    "def d(n, m):\n",
    "    return n % m == 0\n",
    "\n",
    "def func(a):\n",
    "    for x in range(1, 1000):\n",
    "        if (\n",
    "            d(a, 45) and (d(750, x) <= (((not d(a, x)) <= (not d(120, x))))\n",
    "        )):\n",
    "            pass\n",
    "        else:\n",
    "            return False\n",
    "        \n",
    "    return True\n",
    "\n",
    "for a in range(1, 1000):\n",
    "    if func(a):\n",
    "        print(a)\n",
    "        break"
   ]
  },
  {
   "cell_type": "code",
   "execution_count": 2,
   "metadata": {},
   "outputs": [
    {
     "name": "stdout",
     "output_type": "stream",
     "text": [
      "1\n",
      "2\n",
      "3\n",
      "5\n",
      "6\n",
      "9\n",
      "10\n",
      "15\n",
      "18\n",
      "30\n",
      "45\n"
     ]
    }
   ],
   "source": [
    "def d(n, m):\n",
    "    if n % m == 0:\n",
    "        return True\n",
    "    return False\n",
    "\n",
    "def f(a):\n",
    "    for x in range(1, 1000):\n",
    "        if (\n",
    "            (a < 50) and ((not d(x, a)) <= ((d(x, 10)) <= (not d(x, 18))))\n",
    "        ):\n",
    "            pass\n",
    "        else:\n",
    "            return False\n",
    "    return True\n",
    "\n",
    "for a in range(1, 1000):\n",
    "    if f(a):\n",
    "        print(a)"
   ]
  },
  {
   "cell_type": "code",
   "execution_count": 2,
   "metadata": {},
   "outputs": [
    {
     "name": "stdout",
     "output_type": "stream",
     "text": [
      "17\n"
     ]
    }
   ],
   "source": [
    "def check(a):\n",
    "    for x in range(1000):\n",
    "        for y in range(1000):\n",
    "            if (\n",
    "                (x ** 2 + y ** 2 > 128) or (y < -x + a)\n",
    "            ):\n",
    "                pass\n",
    "            else:\n",
    "                return False\n",
    "    return True\n",
    "\n",
    "\n",
    "for a in range(1, 1000):\n",
    "    if check(a):\n",
    "        print(a)\n",
    "        break"
   ]
  },
  {
   "cell_type": "code",
   "execution_count": 1,
   "metadata": {},
   "outputs": [
    {
     "name": "stdout",
     "output_type": "stream",
     "text": [
      "181\n"
     ]
    }
   ],
   "source": [
    "def check(a):\n",
    "    for x in range(1, 1000):\n",
    "        for y in range(1, 1000):\n",
    "            if (\n",
    "                ((x + 2 * y) < a) or (y > x) or (x > 60)\n",
    "            ):\n",
    "                pass\n",
    "            else:\n",
    "                return False\n",
    "    return True\n",
    "\n",
    "for a in range(1, 10000):\n",
    "    if check(a):\n",
    "        print(a)\n",
    "        break"
   ]
  },
  {
   "cell_type": "code",
   "execution_count": 5,
   "metadata": {},
   "outputs": [
    {
     "name": "stdout",
     "output_type": "stream",
     "text": [
      "33\n"
     ]
    }
   ],
   "source": [
    "def check(a):\n",
    "    for x in range(1, 10000):\n",
    "        if (\n",
    "            ((x&42 != 0) or (x&13 != 0)) <= ((x&30==0) <= (x&a!=0))\n",
    "        ):\n",
    "            pass\n",
    "        else:\n",
    "            return False\n",
    "    return True\n",
    "\n",
    "for a in range(2, 1000):\n",
    "    if check(a):\n",
    "        print(a)\n",
    "        break"
   ]
  },
  {
   "cell_type": "code",
   "execution_count": 47,
   "metadata": {},
   "outputs": [
    {
     "name": "stdout",
     "output_type": "stream",
     "text": [
      "18\n",
      "35\n",
      "54\n",
      "17\n",
      "36\n",
      "19\n"
     ]
    },
    {
     "data": {
      "text/plain": [
       "set()"
      ]
     },
     "execution_count": 47,
     "metadata": {},
     "output_type": "execute_result"
    }
   ],
   "source": [
    "def p(x):\n",
    "    return 3<=x<=38\n",
    "\n",
    "def q(x):\n",
    "    return 21<=x<=57\n",
    "\n",
    "def A(start, stop, x):\n",
    "    return start <= x <= stop \n",
    "\n",
    "from itertools import combinations\n",
    "\n",
    "coords = combinations(sorted([38, 3, 21, 57]), r=2)\n",
    "\n",
    "r = set()\n",
    "\n",
    "\n",
    "for start, stop in coords:\n",
    "    flag = True\n",
    "    for x in range(1, 90):\n",
    "        if not(((q(x) <= p(x))) <= (not A(start, stop, x))):\n",
    "            flag = False\n",
    "            print(stop-start)\n",
    "            break\n",
    "        \n",
    "    if flag:\n",
    "        r.add(stop-start)\n",
    "        \n",
    "r\n",
    "        "
   ]
  },
  {
   "cell_type": "code",
   "execution_count": null,
   "metadata": {},
   "outputs": [],
   "source": [
    "def p(x):\n",
    "    return 3 < x < 38\n",
    "\n",
    "def q(x):\n",
    "    return 21 < x < 57\n",
    "\n",
    "def a(start, stop, x):\n",
    "    return start < x < stop\n",
    "\n",
    "\n",
    "from itertools import combinations\n",
    "\n",
    "coords = combinations(sorted([3, 38, 21, 57]), r=2)\n",
    "\n",
    "r = set()\n",
    "\n",
    "for start, stop in coords:\n",
    "    flag = True\n",
    "    print(start, stop)\n",
    "    for x in range(1, 90):\n",
    "        if not(((q(x) <= p(x))) <= (not A(start, stop, x))):\n",
    "            flag = False\n",
    "            break\n",
    "        \n",
    "    if flag:\n",
    "        r.add(stop-start)\n",
    "        \n"
   ]
  },
  {
   "cell_type": "code",
   "execution_count": 58,
   "metadata": {},
   "outputs": [
    {
     "name": "stdout",
     "output_type": "stream",
     "text": [
      "10\n",
      "15\n"
     ]
    },
    {
     "data": {
      "text/plain": [
       "{20, 30, 35, 45}"
      ]
     },
     "execution_count": 58,
     "metadata": {},
     "output_type": "execute_result"
    }
   ],
   "source": [
    "def p(x):\n",
    "    return 20 <= x <= 50\n",
    "\n",
    "def q(x):\n",
    "    return 30 <= x <= 65\n",
    "    \n",
    "def a(start, stop, x):\n",
    "    return start <= x <= stop\n",
    "\n",
    "\n",
    "coords = combinations(sorted([20, 50, 30, 65]), r=2)\n",
    "r = set()\n",
    "\n",
    "for start, stop in coords:\n",
    "    flag = True\n",
    "    for x in range(1, 90):\n",
    "        if not(\n",
    "            (not A(start, stop, x)) <= ((p(x)) <= (not q(x)))\n",
    "        ):\n",
    "            flag = False\n",
    "            print(stop-start)\n",
    "            break\n",
    "    if flag:\n",
    "        r.add(stop-start)\n",
    "\n",
    "r"
   ]
  },
  {
   "cell_type": "code",
   "execution_count": 7,
   "metadata": {},
   "outputs": [
    {
     "name": "stdout",
     "output_type": "stream",
     "text": [
      "24 82\n",
      "24 92\n",
      "24 116\n",
      "47 82\n",
      "47 92\n",
      "47 116\n",
      "77 82\n",
      "77 92\n",
      "77 116\n"
     ]
    },
    {
     "data": {
      "text/plain": [
       "{5, 15, 35, 39, 45, 58, 68, 69, 92}"
      ]
     },
     "execution_count": 7,
     "metadata": {},
     "output_type": "execute_result"
    }
   ],
   "source": [
    "from itertools import combinations\n",
    "\n",
    "def p(x):\n",
    "    return 24 <= x <= 77\n",
    "\n",
    "def q(x):\n",
    "    return 47 <= x <= 92\n",
    "\n",
    "def r(x):\n",
    "    return 82 <= x <= 116\n",
    "\n",
    "def a(start, stop, x):\n",
    "    return start <= x <= stop\n",
    "\n",
    "coords = combinations(sorted([24, 77, 47, 92, 82, 116]), r=2)\n",
    "d = set()\n",
    "for start, stop in coords:\n",
    "    fl = True\n",
    "    for x in range(1, 100):\n",
    "        if not(\n",
    "            (not((q(x)) <= (p(x) or r(x)))) <= ((not a(start, stop, x)) <= (not q(x))) \n",
    "        ):\n",
    "            fl = False\n",
    "            break\n",
    "    if fl:\n",
    "        print(start, stop)\n",
    "        d.add(stop-start)\n",
    "        \n",
    "d\n",
    "            \n",
    "        "
   ]
  },
  {
   "cell_type": "code",
   "execution_count": 13,
   "metadata": {},
   "outputs": [
    {
     "name": "stdout",
     "output_type": "stream",
     "text": [
      "15\n"
     ]
    }
   ],
   "source": [
    "def check(a):\n",
    "    for x in range(1, 10000):\n",
    "        for y in range(1, 10000):\n",
    "            if (\n",
    "                (48 != y + 2*x) or (a < x) or (a < y)\n",
    "            ):\n",
    "                pass\n",
    "            else:\n",
    "                return False\n",
    "    return True\n",
    "\n",
    "for a in range(1000, 1, -1):\n",
    "    if check(a):\n",
    "        print(a)\n",
    "        break"
   ]
  },
  {
   "cell_type": "code",
   "execution_count": 20,
   "metadata": {},
   "outputs": [
    {
     "data": {
      "text/plain": [
       "{15}"
      ]
     },
     "execution_count": 20,
     "metadata": {},
     "output_type": "execute_result"
    }
   ],
   "source": [
    "from itertools import combinations\n",
    "# https://inf-ege.sdamgia.ru/problem?id=8666\n",
    "\n",
    "def p(x):\n",
    "    return 25 < x < 50\n",
    "\n",
    "def q(x):\n",
    "    return 32 < x < 47\n",
    "\n",
    "def a(start, stop, x):\n",
    "    return start < x < stop\n",
    "\n",
    "coords = combinations(sorted([25, 50, 32, 47]), r=2)\n",
    "r = set()\n",
    "\n",
    "for start, stop in coords:\n",
    "    fl = True\n",
    "    for x in range(1, 1000):\n",
    "        if not(\n",
    "            ((not a(start, stop, x)) <= (p(x))) <= ((a(start, stop, x)) <= (q(x)))\n",
    "        ):\n",
    "            fl = False \n",
    "            break\n",
    "    if fl:\n",
    "        r.add(stop-start)\n",
    "        \n",
    "r"
   ]
  },
  {
   "cell_type": "code",
   "execution_count": 24,
   "metadata": {},
   "outputs": [
    {
     "data": {
      "text/plain": [
       "20"
      ]
     },
     "execution_count": 24,
     "metadata": {},
     "output_type": "execute_result"
    }
   ],
   "source": [
    "# https://inf-ege.sdamgia.ru/problem?id=11119\n",
    "\n",
    "from itertools import combinations\n",
    "\n",
    "def p(x):\n",
    "    return 20 <= x <= 50\n",
    "\n",
    "def q(x):\n",
    "    return 30 <= x <= 65\n",
    "\n",
    "def A(start, stop, x):\n",
    "    return start <= x <= stop\n",
    "\n",
    "coords = combinations(sorted([20, 50, 30, 65]), r=2)\n",
    "r = set()\n",
    "\n",
    "for start, stop in coords:\n",
    "    fl = True\n",
    "    for x in range(1, 100):\n",
    "        if not(\n",
    "            (not A(start, stop, x)) <= ((p(x)) <= (not (q(x))))\n",
    "        ):\n",
    "            fl = False\n",
    "            break\n",
    "        \n",
    "    if fl:\n",
    "        r.add(stop-start)\n",
    "        \n",
    "min(r)"
   ]
  },
  {
   "cell_type": "code",
   "execution_count": 27,
   "metadata": {},
   "outputs": [
    {
     "data": {
      "text/plain": [
       "3"
      ]
     },
     "execution_count": 27,
     "metadata": {},
     "output_type": "execute_result"
    }
   ],
   "source": [
    "# https://inf-ege.sdamgia.ru/problem?id=9699\n",
    "\n",
    "def p(x):\n",
    "    return 4 <= x <= 15\n",
    "\n",
    "def q(x):\n",
    "    return 12 <= x <= 20\n",
    "\n",
    "def A(start, stop, x):\n",
    "    return start <= x <= stop\n",
    "\n",
    "\n",
    "coords = combinations(sorted([4, 15, 12, 20]), r=2)\n",
    "r = set()\n",
    "\n",
    "\n",
    "for start, stop in coords:\n",
    "    fl = True\n",
    "    for x in range(1, 100):\n",
    "        if not(\n",
    "            ((p(x)) and (q(x))) <= (A(start, stop, x))\n",
    "        ):\n",
    "            fl = False\n",
    "            break\n",
    "    if fl:\n",
    "        r.add(stop-start)\n",
    "        \n",
    "min(r)"
   ]
  },
  {
   "cell_type": "code",
   "execution_count": null,
   "metadata": {},
   "outputs": [],
   "source": []
  }
 ],
 "metadata": {
  "kernelspec": {
   "display_name": "venv",
   "language": "python",
   "name": "python3"
  },
  "language_info": {
   "codemirror_mode": {
    "name": "ipython",
    "version": 3
   },
   "file_extension": ".py",
   "mimetype": "text/x-python",
   "name": "python",
   "nbconvert_exporter": "python",
   "pygments_lexer": "ipython3",
   "version": "3.11.4"
  }
 },
 "nbformat": 4,
 "nbformat_minor": 2
}
