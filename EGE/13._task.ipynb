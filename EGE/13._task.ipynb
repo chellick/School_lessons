{
 "cells": [
  {
   "cell_type": "markdown",
   "metadata": {},
   "source": [
    "## IP адреса\n",
    "\n",
    "ip адрес - идентификатор компьютера в сети\n",
    "\n",
    "IPv4 - 32битный тип записи \n",
    "\n",
    "`192.168.10.66 = 11000000.10101000.00001010.01000010`"
   ]
  },
  {
   "cell_type": "code",
   "execution_count": null,
   "metadata": {},
   "outputs": [],
   "source": [
    "from ipaddress import *\n",
    "c = 0\n",
    "net = ip_network('192.168.32.160/255.255.255.240')\n",
    "for ip in net:\n",
    "    print(ip)\n",
    "    if bin(int(ip)).count('1') % 2 == 0:\n",
    "        c += 1\n",
    "c"
   ]
  },
  {
   "cell_type": "markdown",
   "metadata": {},
   "source": [
    "Мой вариант решения задачи"
   ]
  },
  {
   "cell_type": "code",
   "execution_count": 146,
   "metadata": {},
   "outputs": [],
   "source": [
    "def to_bin_ip(ip):\n",
    "    return list(map(lambda x: bin(int(x))[2:].zfill(8) , ip.split('.')))"
   ]
  },
  {
   "cell_type": "code",
   "execution_count": null,
   "metadata": {},
   "outputs": [],
   "source": [
    "network = '10.48.96.0'\n",
    "mask = '255.255.240.0'\n",
    "\n",
    "network = to_bin_ip(network)\n",
    "mask = to_bin_ip(mask)\n",
    "counter = 0\n",
    "\n",
    "for i in range(96, int('01101111', 2)+1):\n",
    "    for j in range(255+1):\n",
    "        ip = f'10.48.{str(i)}.{str(j)}'\n",
    "        ip = to_bin_ip(ip)\n",
    "        if \"\".join(ip).count('1') > \"\".join(ip).count('0'):\n",
    "            counter += 1\n",
    "counter"
   ]
  },
  {
   "cell_type": "markdown",
   "metadata": {},
   "source": [
    "мой вариант решения рандомной задачи :)"
   ]
  },
  {
   "cell_type": "code",
   "execution_count": 62,
   "metadata": {},
   "outputs": [
    {
     "data": {
      "text/plain": [
       "'145.92.128.0.'"
      ]
     },
     "execution_count": 62,
     "metadata": {},
     "output_type": "execute_result"
    }
   ],
   "source": [
    "adress = '145.92.137.88'\n",
    "mask = '255.255.240.0'\n",
    "\n",
    "adress = list(map(lambda x: bin(int(x))[2:].zfill(8) , adress.split('.')))\n",
    "mask = list(map(lambda x: bin(int(x))[2:].zfill(8), mask.split('.')))\n",
    "\n",
    "result = ''\n",
    "\n",
    "for a, b in zip(adress, mask):\n",
    "    row = ''\n",
    "    for x, y in zip(a, b):\n",
    "        row += str(int(x) & int(y))\n",
    "        \n",
    "    result += str(int(row, 2)) + '.'\n",
    "result"
   ]
  },
  {
   "cell_type": "code",
   "execution_count": 64,
   "metadata": {},
   "outputs": [
    {
     "data": {
      "text/plain": [
       "'10.8.224.0.'"
      ]
     },
     "execution_count": 64,
     "metadata": {},
     "output_type": "execute_result"
    }
   ],
   "source": [
    "adress = '10.8.248.131'\n",
    "mask = '255.255.224.0'\n",
    "\n",
    "\n",
    "adress = to_bin_ip(adress)\n",
    "mask = to_bin_ip(mask)\n",
    "\n",
    "result = ''\n",
    "\n",
    "for a, b in zip(adress, mask):\n",
    "    row = ''\n",
    "    for x, y in zip(a, b):\n",
    "        row += str(int(x) & int(y))\n",
    "        \n",
    "    result += str(int(row, 2)) + '.'\n",
    "result"
   ]
  },
  {
   "cell_type": "code",
   "execution_count": 70,
   "metadata": {},
   "outputs": [
    {
     "data": {
      "text/plain": [
       "(['01110110', '11000001', '00011110', '10001011'],\n",
       " ['01110110', '11000001', '00011000', '00000000'],\n",
       " 248)"
      ]
     },
     "execution_count": 70,
     "metadata": {},
     "output_type": "execute_result"
    }
   ],
   "source": [
    "main_ip = '118.193.30.139'\n",
    "network_adress = '118.193.24.0'\n",
    "\n",
    "main_ip = to_bin_ip(main_ip)\n",
    "network_adress = to_bin_ip(network_adress)\n",
    "\n",
    "main_ip, network_adress, int('11111000', 2)\n",
    "# не забывать, что у маски 1111..., а не 0000..."
   ]
  },
  {
   "cell_type": "code",
   "execution_count": 80,
   "metadata": {},
   "outputs": [
    {
     "data": {
      "text/plain": [
       "(['10011010', '11001001', '11010000', '00010001'],\n",
       " ['10011010', '11001001', '11000000', '00000000'],\n",
       " 224,\n",
       " '0b11100000')"
      ]
     },
     "execution_count": 80,
     "metadata": {},
     "output_type": "execute_result"
    }
   ],
   "source": [
    "main_ip = '154.201.208.17'\n",
    "network_adress = '154.201.192.0'\n",
    "\n",
    "main_ip = to_bin_ip(main_ip)\n",
    "network_adress = to_bin_ip(network_adress)\n",
    "\n",
    "main_ip, network_adress, int('11100000', 2), bin(224)\n",
    "# не забывать, что маска имеет вид 1111...0000"
   ]
  },
  {
   "cell_type": "code",
   "execution_count": 82,
   "metadata": {},
   "outputs": [
    {
     "data": {
      "text/plain": [
       "(['01111010', '00010101', '00110001', '01011011'],\n",
       " ['01111010', '00010101', '00110000', '00000000'],\n",
       " 1048575,\n",
       " 20)"
      ]
     },
     "execution_count": 82,
     "metadata": {},
     "output_type": "execute_result"
    }
   ],
   "source": [
    "main_ip = '122.21.49.91'\n",
    "network_adress = '122.21.48.0'\n",
    "\n",
    "main_ip = to_bin_ip(main_ip)\n",
    "network_adress = to_bin_ip(network_adress)\n",
    "\n",
    "main_ip, network_adress, int('11111111111111111111', 2), '11111111111111111111'.count('1')"
   ]
  }
 ],
 "metadata": {
  "kernelspec": {
   "display_name": "venv",
   "language": "python",
   "name": "python3"
  },
  "language_info": {
   "codemirror_mode": {
    "name": "ipython",
    "version": 3
   },
   "file_extension": ".py",
   "mimetype": "text/x-python",
   "name": "python",
   "nbconvert_exporter": "python",
   "pygments_lexer": "ipython3",
   "version": "3.11.4"
  }
 },
 "nbformat": 4,
 "nbformat_minor": 2
}
