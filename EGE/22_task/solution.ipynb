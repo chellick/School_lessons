{
 "cells": [
  {
   "cell_type": "code",
   "execution_count": 8,
   "metadata": {},
   "outputs": [
    {
     "name": "stdout",
     "output_type": "stream",
     "text": [
      "<built-in function max>\n",
      "295\n"
     ]
    }
   ],
   "source": [
    "f = open(\"time.txt\")\n",
    "nums = sorted(list([int(i) for i in f]))\n",
    "\n",
    "print(max)\n",
    "\n",
    "print(max(nums[:75]))\n"
   ]
  },
  {
   "cell_type": "code",
   "execution_count": null,
   "metadata": {},
   "outputs": [],
   "source": [
    "from typing import Any\n",
    "\n",
    "\n",
    "with open('154110.txt') as f:\n",
    "    nums = list(list(map(int, i.split())) for i in f.readlines())\n",
    "    \n",
    "procs = []\n",
    "\n",
    "for i in range(100, 350):\n",
    "    cur = 0\n",
    "    for x in nums:\n",
    "        if x[0] <= i <= x[1]:\n",
    "            cur += 1\n",
    "            \n",
    "    if cur in (2, 3, 4):\n",
    "        procs.append(cur)\n",
    "    else:\n",
    "        procs.append(0)\n",
    "        \n",
    "\n",
    "procs"
   ]
  }
 ],
 "metadata": {
  "kernelspec": {
   "display_name": "venv",
   "language": "python",
   "name": "python3"
  },
  "language_info": {
   "codemirror_mode": {
    "name": "ipython",
    "version": 3
   },
   "file_extension": ".py",
   "mimetype": "text/x-python",
   "name": "python",
   "nbconvert_exporter": "python",
   "pygments_lexer": "ipython3",
   "version": "3.11.4"
  }
 },
 "nbformat": 4,
 "nbformat_minor": 2
}
