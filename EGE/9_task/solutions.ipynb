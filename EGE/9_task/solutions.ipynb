{
 "cells": [
  {
   "cell_type": "code",
   "execution_count": null,
   "metadata": {},
   "outputs": [],
   "source": [
    "matrix = []\n",
    "\n",
    "with open('9-194.txt') as f:\n",
    "    for l in f.readlines():\n",
    "        matrix.append([int(i) for i in l.split()])\n"
   ]
  },
  {
   "cell_type": "code",
   "execution_count": null,
   "metadata": {},
   "outputs": [],
   "source": [
    "def check(row):\n",
    "    if len(row) != len(set(row)):\n",
    "        return False\n",
    "    \n",
    "    a = 0 \n",
    "    a_sum = 0\n",
    "    b = 0 \n",
    "    b_sum = 0 \n",
    "    for i in row:\n",
    "        if i % 2 == 0:\n",
    "            a += 1\n",
    "            a_sum += i\n",
    "        else:\n",
    "            b += 1\n",
    "            b_sum += i\n",
    "    if (a >= b) or (a_sum <= b_sum):\n",
    "        return False\n",
    "    return True\n",
    "\n",
    "\n",
    "c = 0\n",
    "for i in matrix:\n",
    "    if check(i):\n",
    "        c += 1\n",
    "c   "
   ]
  }
 ],
 "metadata": {
  "kernelspec": {
   "display_name": "venv",
   "language": "python",
   "name": "python3"
  },
  "language_info": {
   "codemirror_mode": {
    "name": "ipython",
    "version": 3
   },
   "file_extension": ".py",
   "mimetype": "text/x-python",
   "name": "python",
   "nbconvert_exporter": "python",
   "pygments_lexer": "ipython3",
   "version": "3.11.4"
  }
 },
 "nbformat": 4,
 "nbformat_minor": 2
}
