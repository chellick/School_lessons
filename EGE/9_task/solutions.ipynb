{
 "cells": [
  {
   "cell_type": "code",
   "execution_count": null,
   "metadata": {},
   "outputs": [],
   "source": [
    "matrix = []\n",
    "\n",
    "with open('9-194.txt') as f:\n",
    "    for l in f.readlines():\n",
    "        matrix.append([int(i) for i in l.split()])\n"
   ]
  },
  {
   "cell_type": "code",
   "execution_count": null,
   "metadata": {},
   "outputs": [],
   "source": [
    "def check(row):\n",
    "    if len(row) != len(set(row)):\n",
    "        return False\n",
    "    \n",
    "    a = 0 \n",
    "    a_sum = 0\n",
    "    b = 0 \n",
    "    b_sum = 0 \n",
    "    for i in row:\n",
    "        if i % 2 == 0:\n",
    "            a += 1\n",
    "            a_sum += i\n",
    "        else:\n",
    "            b += 1\n",
    "            b_sum += i\n",
    "    if (a >= b) or (a_sum <= b_sum):\n",
    "        return False\n",
    "    return True\n",
    "\n",
    "\n",
    "c = 0\n",
    "for i in matrix:\n",
    "    if check(i):\n",
    "        c += 1\n",
    "c   "
   ]
  },
  {
   "cell_type": "code",
   "execution_count": null,
   "metadata": {},
   "outputs": [],
   "source": [
    "nums = []\n",
    "with open(\"task.txt\") as f:\n",
    "    for row in f:\n",
    "        nums.append([int(i) for i in row.split()])\n"
   ]
  },
  {
   "cell_type": "code",
   "execution_count": null,
   "metadata": {},
   "outputs": [],
   "source": [
    "def check_row(row):\n",
    "    if row.count(max(row)) > 1:\n",
    "        return False\n",
    "    \n",
    "    if len(set(row)) == 5:\n",
    "        for i in row:\n",
    "            if row.count(i) > 2:\n",
    "                return False\n",
    "        return True\n",
    "    return False\n",
    "\n",
    "for row in nums:\n",
    "    if check_row(row):\n",
    "        print(sum(row), row)\n",
    "        break\n",
    "    \n",
    "print(check_row([\n",
    "    1, 2, 3, 4, 4, 5, 1\n",
    "]))"
   ]
  },
  {
   "cell_type": "code",
   "execution_count": null,
   "metadata": {},
   "outputs": [],
   "source": [
    "nums = []\n",
    "\n",
    "with open(\"task2.txt\") as f:\n",
    "    for row in f:\n",
    "        nums.append([int(i) for i in row.split()])\n"
   ]
  },
  {
   "cell_type": "code",
   "execution_count": null,
   "metadata": {},
   "outputs": [],
   "source": [
    "from collections import Counter\n",
    "import time\n",
    "\n",
    "start = time.time()\n",
    "\n",
    "def check_row(row):\n",
    "    repeat = []\n",
    "    non_repeat = []\n",
    "    for k, v in Counter(row).items():\n",
    "        if v > 1:\n",
    "            for _ in range(v):\n",
    "                repeat.append(k)\n",
    "        else:\n",
    "            non_repeat.append(k)\n",
    "    \n",
    "    if repeat and non_repeat:\n",
    "        if sum(repeat) / len(repeat) > sum(non_repeat) / len(non_repeat):\n",
    "            return True\n",
    "    return False \n",
    "        \n",
    "c = 0\n",
    "\n",
    "\n",
    "for row in nums:\n",
    "    if check_row(row):\n",
    "        c+=1\n",
    "        \n",
    "print(c)\n",
    "print(time.time() - start)"
   ]
  },
  {
   "cell_type": "code",
   "execution_count": null,
   "metadata": {},
   "outputs": [],
   "source": [
    "f = open('task3.txt')\n",
    "data = [list(map(int, i.split())) for i in f]"
   ]
  },
  {
   "cell_type": "code",
   "execution_count": null,
   "metadata": {},
   "outputs": [],
   "source": [
    "def mean(row):\n",
    "    if len(row) > 0:\n",
    "        return sum(row) / len(row)\n",
    "    return 0\n",
    "\n",
    "def check_row(row):\n",
    "    чет, нечет = [], []\n",
    "    for i in row:\n",
    "        if i % 2 == 0:\n",
    "            чет.append(i)\n",
    "        else:\n",
    "            нечет.append(i)\n",
    "    \n",
    "        \n",
    "    var_1 = len(set(row)) == 5\n",
    "    var_2 = abs(mean(чет) - mean(нечет)) > 50\n",
    "    \n",
    "    \n",
    "    \n",
    "    if (var_1 == 0 and var_1 == 1) or (var_1 == 1 and var_2 == 0):\n",
    "        return True\n",
    "    return False\n",
    "\n",
    "c = 0\n",
    "\n",
    "for row in data:\n",
    "    if check_row(row):\n",
    "        c+=1\n",
    "print(c)"
   ]
  },
  {
   "cell_type": "code",
   "execution_count": null,
   "metadata": {},
   "outputs": [],
   "source": [
    "with open('59687.txt') as f:\n",
    "    f = f.readlines()\n",
    "    nums = list(list(map(int, i.split())) for i in f)\n",
    "    \n",
    "c = 0\n",
    "\n",
    "def check_row(row: list):\n",
    "    if len(set(row)) == 5:\n",
    "        for num in row:\n",
    "            if row.count(num) == 3:\n",
    "                temp_row = list(set(row))\n",
    "                temp_row.remove(num)\n",
    "                mean = sum(temp_row) / len(temp_row)\n",
    "                if mean <= num:\n",
    "                    return True\n",
    "                else:\n",
    "                    return False\n",
    "    return False\n",
    "\n",
    "for row in nums:\n",
    "    if check_row(row):\n",
    "        c += 1\n",
    "c"
   ]
  },
  {
   "cell_type": "code",
   "execution_count": null,
   "metadata": {},
   "outputs": [],
   "source": [
    "with open(\"prob.txt\") as f:\n",
    "    f = f.readlines()\n",
    "    nums = list(list(map(int, i.split())) for i in f)\n",
    "    \n",
    "def check_row(row):\n",
    "    twos = []\n",
    "    for num in row:\n",
    "        if row.count(num) == 2:\n",
    "            twos.append(num)\n",
    "    \n",
    "    \n",
    "    \n",
    "    if len(twos) == 3:\n",
    "        print(twos)\n",
    "        if min(row) not in twos:\n",
    "            return True\n",
    "    \n",
    "    return False\n",
    "\n",
    "c = 0\n",
    "\n",
    "for row in nums:\n",
    "    if check_row(row):\n",
    "        c+=1\n",
    "        \n",
    "c "
   ]
  },
  {
   "cell_type": "code",
   "execution_count": null,
   "metadata": {},
   "outputs": [],
   "source": [
    "import csv\n",
    "\n",
    "file = open(\"9.csv\", encoding='UTF-8')\n",
    "\n",
    "csvreader = csv.reader(file)\n",
    "\n",
    "table = [i for i in csvreader]\n",
    "\n",
    "def check_year(year):\n",
    "    if year % 4 == 0 and year % 100 != 0:\n",
    "        return True\n",
    "    if year % 400 == 0:\n",
    "        return True\n",
    "    return False\n",
    "\n",
    "counter = 0 \n",
    "\n",
    "for row in table:\n",
    "    if (row[-1] == 'ж') and check_year(int(row[0])) and (row[1] == '10'):\n",
    "        print(row)\n",
    "        counter += 1\n",
    "        \n",
    "counter"
   ]
  },
  {
   "cell_type": "code",
   "execution_count": null,
   "metadata": {},
   "outputs": [],
   "source": [
    "with open(\"9.txt\") as f:\n",
    "    nums = [list(map(int, i.split())) for i in f.readlines()]\n",
    "    \n",
    "def check_row(row):\n",
    "    if len(set(row)) == 4:\n",
    "        sum_repeat = 0 \n",
    "        sum_no_repeat = 0\n",
    "        count_repeat = 0\n",
    "        \n",
    "        for i in row:\n",
    "            if row.count(i) == 2:\n",
    "                count_repeat += 1\n",
    "                sum_repeat += i / 2\n",
    "            else:\n",
    "                sum_no_repeat += i\n",
    "                \n",
    "        \n",
    "        if count_repeat == 4:\n",
    "            if sum_repeat < sum_no_repeat:\n",
    "                return True\n",
    "            else:\n",
    "                return False\n",
    "        else:\n",
    "            return False \n",
    "    else:\n",
    "        return False\n",
    "    \n",
    "    \n",
    "count = 0 \n",
    "    \n",
    "for row in nums:\n",
    "    if check_row(row):\n",
    "        count += 1\n",
    "        \n",
    "count"
   ]
  },
  {
   "cell_type": "code",
   "execution_count": 6,
   "metadata": {},
   "outputs": [
    {
     "data": {
      "text/plain": [
       "607"
      ]
     },
     "execution_count": 6,
     "metadata": {},
     "output_type": "execute_result"
    }
   ],
   "source": [
    "with open(\"9_(1).txt\") as f:\n",
    "    nums = [list(map(int, i.split())) for i in f.readlines()]\n",
    "\n",
    "def check_row(row):\n",
    "    if len(set(row)) == len(row):\n",
    "        if (min(row) + max(row)) * 2 <= sum(row) - max(row) - min(row):\n",
    "            return True\n",
    "        else:\n",
    "            return False\n",
    "    else:\n",
    "        return False\n",
    "\n",
    "\n",
    "count = 0\n",
    "\n",
    "for row in nums:\n",
    "    if check_row(row):\n",
    "        count += 1\n",
    "\n",
    "count"
   ]
  },
  {
   "cell_type": "code",
   "execution_count": 12,
   "metadata": {},
   "outputs": [
    {
     "data": {
      "text/plain": [
       "(9, False)"
      ]
     },
     "execution_count": 12,
     "metadata": {},
     "output_type": "execute_result"
    }
   ],
   "source": [
    "with open(\"9_(2).txt\") as f:\n",
    "    nums = [list(map(int, i.split())) for i in f.readlines()]\n",
    "    \n",
    "def check_row(row):\n",
    "    repeated = []\n",
    "    not_repeated = []\n",
    "    \n",
    "    for i in row:\n",
    "        if row.count(i) > 1:\n",
    "            repeated.append(i)\n",
    "        else:\n",
    "            not_repeated.append(i)\n",
    "    \n",
    "    if len(set(row)) == 4:\n",
    "        if (sum(repeated) / len(repeated)) > (sum(not_repeated) / len(not_repeated)):\n",
    "            return True\n",
    "        return False\n",
    "    return False\n",
    "\n",
    "count = 0\n",
    "\n",
    "for row in nums:\n",
    "    if check_row(row):\n",
    "        count += 1\n",
    "\n",
    "count"
   ]
  },
  {
   "cell_type": "code",
   "execution_count": 15,
   "metadata": {},
   "outputs": [
    {
     "data": {
      "text/plain": [
       "884"
      ]
     },
     "execution_count": 15,
     "metadata": {},
     "output_type": "execute_result"
    }
   ],
   "source": [
    "with open(\"9_(3).txt\") as f:\n",
    "    nums = [list(map(int, i.split())) for i in f.readlines()]\n",
    "    \n",
    "def check_row(row):\n",
    "    if len(set(row)) != len(row):\n",
    "        if row.count(max(row)) == 1:\n",
    "            rep = 0\n",
    "            for i in row:\n",
    "                if row.count(i) > 1:\n",
    "                    rep += i\n",
    "                    \n",
    "            if rep < max(row):\n",
    "                return True\n",
    "            return False\n",
    "        return False\n",
    "    return False\n",
    "\n",
    "\n",
    "count = 0\n",
    "for row in nums:\n",
    "    if check_row(row):\n",
    "        count += 1\n",
    "count"
   ]
  },
  {
   "cell_type": "code",
   "execution_count": 16,
   "metadata": {},
   "outputs": [
    {
     "data": {
      "text/plain": [
       "118"
      ]
     },
     "execution_count": 16,
     "metadata": {},
     "output_type": "execute_result"
    }
   ],
   "source": [
    "with open(\"9_(4).txt\") as f:\n",
    "    nums = [list(map(int, i.split())) for i in f.readlines()]\n",
    "    \n",
    "def check_row(row):\n",
    "    row = sorted(row)\n",
    "    if min(row) < (sum(row) - min(row)) / 6:\n",
    "        if min(row) * max(row) > row[1] * row[2]:\n",
    "            return True\n",
    "        return False\n",
    "    return False\n",
    "\n",
    "count = 0\n",
    "for row in nums:\n",
    "    if check_row(row):\n",
    "        count += 1\n",
    "        \n",
    "count"
   ]
  },
  {
   "cell_type": "code",
   "execution_count": 5,
   "metadata": {},
   "outputs": [
    {
     "data": {
      "text/plain": [
       "67"
      ]
     },
     "execution_count": 5,
     "metadata": {},
     "output_type": "execute_result"
    }
   ],
   "source": [
    "with open(\"2102.txt\") as f:\n",
    "    nums = [list(map(int, s.split())) for s in f]\n",
    "    \n",
    "def check_row(row):\n",
    "    row = sorted(row)\n",
    "    if (row[0] + row[-1]) / 2 == row[1]:\n",
    "        return True\n",
    "    return False\n",
    "\n",
    "\n",
    "c = 0\n",
    "for row in nums:\n",
    "    if check_row(row):\n",
    "        c += 1 \n",
    "c"
   ]
  },
  {
   "cell_type": "code",
   "execution_count": 10,
   "metadata": {},
   "outputs": [
    {
     "data": {
      "text/plain": [
       "174"
      ]
     },
     "execution_count": 10,
     "metadata": {},
     "output_type": "execute_result"
    }
   ],
   "source": [
    "with open(\"2049.txt\") as f:\n",
    "    nums = [list(map(int, s.split())) for s in f]\n",
    "\n",
    "def check_row(row):\n",
    "    row = sorted(row)\n",
    "    diff = row[1] - row[0]\n",
    "    if row[1] + diff == row[2]:\n",
    "        if diff != 0:\n",
    "            return True\n",
    "    return False\n",
    "\n",
    "c = 0\n",
    "for row in nums:\n",
    "    if check_row(row):\n",
    "        # print(row)\n",
    "        c += 1\n",
    "c"
   ]
  },
  {
   "cell_type": "code",
   "execution_count": null,
   "metadata": {},
   "outputs": [],
   "source": [
    "with open(\"2103.txt\") as f:\n",
    "    nums = [list(map(int, s.split())) for s in f]\n",
    "    \n",
    "def check_row(row):\n",
    "    if len(set(row)) == 2:\n",
    "        if row[0] == row[2] and row[0] != 0 and row[1] != 0:\n",
    "            return True\n",
    "    return False\n",
    "\n",
    "\n",
    "c = 0\n",
    "for row in nums:\n",
    "    if check_row(row):\n",
    "        print(row)\n",
    "        c += 1  \n",
    "c"
   ]
  },
  {
   "cell_type": "code",
   "execution_count": 2,
   "metadata": {},
   "outputs": [
    {
     "data": {
      "text/plain": [
       "853"
      ]
     },
     "execution_count": 2,
     "metadata": {},
     "output_type": "execute_result"
    }
   ],
   "source": [
    "with open('55805.txt') as f:\n",
    "    nums = [list(map(int, i.split())) for i in f]\n",
    "\n",
    "def check_row(row):\n",
    "    if len(set(row)) == len(row):\n",
    "        if (min(row) + max(row)) * 3 <= (sum(row) - min(row) - max(row)) * 2:\n",
    "            return True\n",
    "    return False\n",
    "\n",
    "\n",
    "c = 0\n",
    "\n",
    "for row in nums:\n",
    "    if check_row(row):\n",
    "        c += 1\n",
    "        \n",
    "c"
   ]
  },
  {
   "cell_type": "markdown",
   "metadata": {},
   "source": [
    "В каждой строке электронной таблицы записаны шесть натуральных чисел.\n",
    "\n",
    "Назовём ячейку таблицы хорошей, если для неё выполняются следующие условия:\n",
    "\n",
    "— число в данной ячейке не встречается в других ячейках этой же строки;\n",
    "\n",
    "— число в данной ячейке ровно 45 раз встречается в других строках таблицы.\n",
    "\n",
    "Определите количество строк таблицы, содержащих хотя бы одну хорошую ячейку."
   ]
  },
  {
   "cell_type": "code",
   "execution_count": 25,
   "metadata": {},
   "outputs": [
    {
     "data": {
      "text/plain": [
       "445"
      ]
     },
     "execution_count": 25,
     "metadata": {},
     "output_type": "execute_result"
    }
   ],
   "source": [
    "with open('55596.txt') as f:\n",
    "    nums = [list(map(int, i.split())) for i in f]\n",
    "    count_n = []\n",
    "    for i in nums:\n",
    "        count_n.extend(i)\n",
    "        \n",
    "        \n",
    "def check_row(row):\n",
    "    global count_n\n",
    "\n",
    "    for num in row:\n",
    "        if count_n.count(num) - 1 == 45 and row.count(num) == 1:\n",
    "            return True\n",
    "        \n",
    "    return False\n",
    "\n",
    "c = 0\n",
    "\n",
    "for row in nums:\n",
    "    if check_row(row):\n",
    "        c += 1\n",
    "        \n",
    "c\n"
   ]
  },
  {
   "cell_type": "code",
   "execution_count": 5,
   "metadata": {},
   "outputs": [
    {
     "data": {
      "text/plain": [
       "303"
      ]
     },
     "execution_count": 5,
     "metadata": {},
     "output_type": "execute_result"
    }
   ],
   "source": [
    "with open('51978.txt') as f:\n",
    "    nums = [list(map(int, i.split())) for i in f]\n",
    "\n",
    "\n",
    "def check_row(row):\n",
    "    if len(set(row)) == len(row):\n",
    "        n_ch = 0\n",
    "        n_n_ch = 0\n",
    "        sum_ch = 0\n",
    "        sum_n_ch = 0\n",
    "        \n",
    "        for i in row:\n",
    "            if i % 2 == 0:\n",
    "                n_ch += 1\n",
    "                sum_ch += i\n",
    "            else:\n",
    "                n_n_ch += 1\n",
    "                sum_n_ch += i\n",
    "        \n",
    "        if n_n_ch > n_ch:\n",
    "            if sum_n_ch < sum_ch:\n",
    "                return True\n",
    "    return False\n",
    "            \n",
    "            \n",
    "c = 0\n",
    "for row in nums:\n",
    "    if check_row(row):\n",
    "        c += 1\n",
    "c"
   ]
  },
  {
   "cell_type": "code",
   "execution_count": 6,
   "metadata": {},
   "outputs": [
    {
     "data": {
      "text/plain": [
       "51"
      ]
     },
     "execution_count": 6,
     "metadata": {},
     "output_type": "execute_result"
    }
   ],
   "source": [
    "with open(\"36864.txt\") as f:\n",
    "    nums = [list(map(float, i.replace(',', '.').split())) for i in f]\n",
    "    \n",
    "def check_row(row):\n",
    "    min_t = min(row)\n",
    "    mean_t = sum(row) / len(row)\n",
    "    \n",
    "    if mean_t - min_t >= 8:\n",
    "        return True\n",
    "    return False\n",
    "\n",
    "\n",
    "c = 0\n",
    "for row in nums:\n",
    "    if check_row(row):\n",
    "        c += 1\n",
    "        \n",
    "c"
   ]
  },
  {
   "cell_type": "code",
   "execution_count": 5,
   "metadata": {},
   "outputs": [
    {
     "data": {
      "text/plain": [
       "(1256, True)"
      ]
     },
     "execution_count": 5,
     "metadata": {},
     "output_type": "execute_result"
    }
   ],
   "source": [
    "with open('9977.txt') as f:\n",
    "    nums = [list(map(int, i.split())) for i in f]\n",
    "\n",
    "def check_row(row):\n",
    "    if len(set(row)) == len(row) - 1:\n",
    "        same = []\n",
    "        not_same = []\n",
    "        \n",
    "        for num in row:\n",
    "            if row.count(num) > 1:\n",
    "                same.append(num)\n",
    "            else:\n",
    "                not_same.append(num)\n",
    "        \n",
    "        if sum(same) / len(same) >= sum(not_same) / len(not_same):\n",
    "            return True\n",
    "    return False\n",
    "\n",
    "c = 0\n",
    "\n",
    "for row in nums:\n",
    "    if check_row(row):\n",
    "        c += 1\n",
    "\n",
    "c, check_row([10, 10, 2, 3, 4])"
   ]
  },
  {
   "cell_type": "code",
   "execution_count": 11,
   "metadata": {},
   "outputs": [
    {
     "name": "stdout",
     "output_type": "stream",
     "text": [
      "261 [42, 48, 38, 57, 17, 42, 17]\n",
      "470 [35, 12, 89, 93, 76, 89, 76]\n",
      "472 [79, 67, 62, 67, 91, 44, 62]\n",
      "413 [60, 34, 100, 60, 89, 35, 35]\n"
     ]
    }
   ],
   "source": [
    "with open('10711.txt') as f:\n",
    "    nums = [list(map(int, i.split())) for i in f]\n",
    "\n",
    "\n",
    "def check_row(row):\n",
    "    if len(set(row)) == 5:\n",
    "        for i in row:\n",
    "            if row.count(i) > 2:\n",
    "                return False\n",
    "            \n",
    "        if row.count(max(row)) == 1:\n",
    "            return True\n",
    "    return False\n",
    "\n",
    "\n",
    "\n",
    "for row in nums:\n",
    "    if check_row(row):\n",
    "        print(sum(row), row)"
   ]
  },
  {
   "attachments": {
    "image.png": {
     "image/png": "[encoded data removed]"
    }
   },
   "cell_type": "markdown",
   "metadata": {},
   "source": [
    "![image.png](attachment:image.png)"
   ]
  },
  {
   "cell_type": "code",
   "execution_count": 6,
   "metadata": {},
   "outputs": [
    {
     "data": {
      "text/plain": [
       "647"
      ]
     },
     "execution_count": 6,
     "metadata": {},
     "output_type": "execute_result"
    }
   ],
   "source": [
    "with open('12464.txt') as f:\n",
    "    nums = [list(map(int, i.split())) for i in f]\n",
    "\n",
    "def check_row(row):\n",
    "    check1 = False\n",
    "    check2 = False\n",
    "    rep = []\n",
    "    not_rep = []\n",
    "    for i in row:\n",
    "        if row.count(i) == 4:\n",
    "            check1 = True\n",
    "            rep.append(i)\n",
    "        elif row.count(i) == 2:\n",
    "            check2 = True\n",
    "            rep.append(i)\n",
    "        else:\n",
    "            not_rep.append(i)\n",
    "    \n",
    "    if check1 and check2:\n",
    "        if sum(not_rep)/3 >= max(rep):\n",
    "            return True\n",
    "        \n",
    "    else:\n",
    "        return False\n",
    "    \n",
    "c = 0\n",
    "\n",
    "for row in nums:\n",
    "    if check_row(row):\n",
    "        c += 1\n",
    "\n",
    "c "
   ]
  }
 ],
 "metadata": {
  "kernelspec": {
   "display_name": "venv",
   "language": "python",
   "name": "python3"
  },
  "language_info": {
   "codemirror_mode": {
    "name": "ipython",
    "version": 3
   },
   "file_extension": ".py",
   "mimetype": "text/x-python",
   "name": "python",
   "nbconvert_exporter": "python",
   "pygments_lexer": "ipython3",
   "version": "3.11.4"
  }
 },
 "nbformat": 4,
 "nbformat_minor": 2
}
