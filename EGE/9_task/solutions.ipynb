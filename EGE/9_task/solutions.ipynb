{
 "cells": [
  {
   "cell_type": "code",
   "execution_count": null,
   "metadata": {},
   "outputs": [],
   "source": [
    "matrix = []\n",
    "\n",
    "with open('9-194.txt') as f:\n",
    "    for l in f.readlines():\n",
    "        matrix.append([int(i) for i in l.split()])\n"
   ]
  },
  {
   "cell_type": "code",
   "execution_count": null,
   "metadata": {},
   "outputs": [],
   "source": [
    "def check(row):\n",
    "    if len(row) != len(set(row)):\n",
    "        return False\n",
    "    \n",
    "    a = 0 \n",
    "    a_sum = 0\n",
    "    b = 0 \n",
    "    b_sum = 0 \n",
    "    for i in row:\n",
    "        if i % 2 == 0:\n",
    "            a += 1\n",
    "            a_sum += i\n",
    "        else:\n",
    "            b += 1\n",
    "            b_sum += i\n",
    "    if (a >= b) or (a_sum <= b_sum):\n",
    "        return False\n",
    "    return True\n",
    "\n",
    "\n",
    "c = 0\n",
    "for i in matrix:\n",
    "    if check(i):\n",
    "        c += 1\n",
    "c   "
   ]
  },
  {
   "cell_type": "code",
   "execution_count": 10,
   "metadata": {},
   "outputs": [],
   "source": [
    "nums = []\n",
    "with open(\"task.txt\") as f:\n",
    "    for row in f:\n",
    "        nums.append([int(i) for i in row.split()])\n"
   ]
  },
  {
   "cell_type": "code",
   "execution_count": 25,
   "metadata": {},
   "outputs": [
    {
     "name": "stdout",
     "output_type": "stream",
     "text": [
      "261 [42, 48, 38, 57, 17, 42, 17]\n",
      "True\n"
     ]
    }
   ],
   "source": [
    "def check_row(row):\n",
    "    if row.count(max(row)) > 1:\n",
    "        return False\n",
    "    \n",
    "    if len(set(row)) == 5:\n",
    "        for i in row:\n",
    "            if row.count(i) > 2:\n",
    "                return False\n",
    "        return True\n",
    "    return False\n",
    "\n",
    "for row in nums:\n",
    "    if check_row(row):\n",
    "        print(sum(row), row)\n",
    "        break\n",
    "    \n",
    "print(check_row([\n",
    "    1, 2, 3, 4, 4, 5, 1\n",
    "]))"
   ]
  },
  {
   "cell_type": "code",
   "execution_count": 27,
   "metadata": {},
   "outputs": [],
   "source": [
    "nums = []\n",
    "\n",
    "with open(\"task2.txt\") as f:\n",
    "    for row in f:\n",
    "        nums.append([int(i) for i in row.split()])\n"
   ]
  },
  {
   "cell_type": "code",
   "execution_count": 44,
   "metadata": {},
   "outputs": [
    {
     "name": "stdout",
     "output_type": "stream",
     "text": [
      "1770\n",
      "0.016621112823486328\n"
     ]
    }
   ],
   "source": [
    "from collections import Counter\n",
    "import time\n",
    "\n",
    "start = time.time()\n",
    "\n",
    "def check_row(row):\n",
    "    repeat = []\n",
    "    non_repeat = []\n",
    "    for k, v in Counter(row).items():\n",
    "        if v > 1:\n",
    "            for _ in range(v):\n",
    "                repeat.append(k)\n",
    "        else:\n",
    "            non_repeat.append(k)\n",
    "    \n",
    "    if repeat and non_repeat:\n",
    "        if sum(repeat) / len(repeat) > sum(non_repeat) / len(non_repeat):\n",
    "            return True\n",
    "    return False \n",
    "        \n",
    "c = 0\n",
    "\n",
    "\n",
    "for row in nums:\n",
    "    if check_row(row):\n",
    "        c+=1\n",
    "        \n",
    "print(c)\n",
    "print(time.time() - start)"
   ]
  },
  {
   "cell_type": "code",
   "execution_count": 12,
   "metadata": {},
   "outputs": [],
   "source": [
    "f = open('task3.txt')\n",
    "data = [list(map(int, i.split())) for i in f]"
   ]
  },
  {
   "cell_type": "code",
   "execution_count": 18,
   "metadata": {},
   "outputs": [
    {
     "name": "stdout",
     "output_type": "stream",
     "text": [
      "584\n"
     ]
    }
   ],
   "source": [
    "def mean(row):\n",
    "    if len(row) > 0:\n",
    "        return sum(row) / len(row)\n",
    "    return 0\n",
    "\n",
    "def check_row(row):\n",
    "    чет, нечет = [], []\n",
    "    for i in row:\n",
    "        if i % 2 == 0:\n",
    "            чет.append(i)\n",
    "        else:\n",
    "            нечет.append(i)\n",
    "    \n",
    "        \n",
    "    var_1 = len(set(row)) == 5\n",
    "    var_2 = abs(mean(чет) - mean(нечет)) > 50\n",
    "    \n",
    "    \n",
    "    \n",
    "    if (var_1 == 0 and var_1 == 1) or (var_1 == 1 and var_2 == 0):\n",
    "        return True\n",
    "    return False\n",
    "\n",
    "c = 0\n",
    "\n",
    "for row in data:\n",
    "    if check_row(row):\n",
    "        c+=1\n",
    "print(c)"
   ]
  },
  {
   "cell_type": "code",
   "execution_count": 19,
   "metadata": {},
   "outputs": [
    {
     "data": {
      "text/plain": [
       "36"
      ]
     },
     "execution_count": 19,
     "metadata": {},
     "output_type": "execute_result"
    }
   ],
   "source": [
    "with open('59687.txt') as f:\n",
    "    f = f.readlines()\n",
    "    nums = list(list(map(int, i.split())) for i in f)\n",
    "    \n",
    "c = 0\n",
    "\n",
    "def check_row(row: list):\n",
    "    if len(set(row)) == 5:\n",
    "        for num in row:\n",
    "            if row.count(num) == 3:\n",
    "                temp_row = list(set(row))\n",
    "                temp_row.remove(num)\n",
    "                mean = sum(temp_row) / len(temp_row)\n",
    "                if mean <= num:\n",
    "                    return True\n",
    "                else:\n",
    "                    return False\n",
    "    return False\n",
    "\n",
    "for row in nums:\n",
    "    if check_row(row):\n",
    "        c += 1\n",
    "c"
   ]
  },
  {
   "cell_type": "code",
   "execution_count": 4,
   "metadata": {},
   "outputs": [
    {
     "data": {
      "text/plain": [
       "0"
      ]
     },
     "execution_count": 4,
     "metadata": {},
     "output_type": "execute_result"
    }
   ],
   "source": [
    "with open(\"prob.txt\") as f:\n",
    "    f = f.readlines()\n",
    "    nums = list(list(map(int, i.split())) for i in f)\n",
    "    \n",
    "def check_row(row):\n",
    "    twos = []\n",
    "    for num in row:\n",
    "        if row.count(num) == 2:\n",
    "            twos.append(num)\n",
    "    \n",
    "    \n",
    "    \n",
    "    if len(twos) == 3:\n",
    "        print(twos)\n",
    "        if min(row) not in twos:\n",
    "            return True\n",
    "    \n",
    "    return False\n",
    "\n",
    "c = 0\n",
    "\n",
    "for row in nums:\n",
    "    if check_row(row):\n",
    "        c+=1\n",
    "        \n",
    "c "
   ]
  }
 ],
 "metadata": {
  "kernelspec": {
   "display_name": "venv",
   "language": "python",
   "name": "python3"
  },
  "language_info": {
   "codemirror_mode": {
    "name": "ipython",
    "version": 3
   },
   "file_extension": ".py",
   "mimetype": "text/x-python",
   "name": "python",
   "nbconvert_exporter": "python",
   "pygments_lexer": "ipython3",
   "version": "3.11.4"
  }
 },
 "nbformat": 4,
 "nbformat_minor": 2
}
