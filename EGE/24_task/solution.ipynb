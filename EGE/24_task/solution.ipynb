{
 "cells": [
  {
   "cell_type": "code",
   "execution_count": 27,
   "metadata": {},
   "outputs": [],
   "source": [
    "with open('24.txt') as f:\n",
    "    s = f.read()"
   ]
  },
  {
   "cell_type": "code",
   "execution_count": 28,
   "metadata": {},
   "outputs": [],
   "source": [
    "from string import ascii_uppercase\n",
    "from collections import Counter"
   ]
  },
  {
   "cell_type": "code",
   "execution_count": 26,
   "metadata": {},
   "outputs": [],
   "source": [
    "alphabet = {i: 0 for i in ascii_uppercase}"
   ]
  },
  {
   "cell_type": "code",
   "execution_count": 31,
   "metadata": {},
   "outputs": [
    {
     "data": {
      "text/plain": [
       "[('U', 1618)]"
      ]
     },
     "execution_count": 31,
     "metadata": {},
     "output_type": "execute_result"
    }
   ],
   "source": [
    "ans = ''\n",
    "for i in range(len(s)):\n",
    "    if s[i] == 'X' and s[i+1] != 'X':\n",
    "        alphabet[s[i+1]] += 1\n",
    "        ans += s[i+1]\n",
    "\n",
    "reverse_alph = {\n",
    "    value: key for key, value in alphabet.items()\n",
    "}\n",
    "Counter(ans).most_common(1)+"
   ]
  },
  {
   "cell_type": "code",
   "execution_count": 15,
   "metadata": {},
   "outputs": [],
   "source": [
    "l1 = [1, 2, 3]\n",
    "l2 = [1, 2, 3]"
   ]
  },
  {
   "cell_type": "code",
   "execution_count": 22,
   "metadata": {},
   "outputs": [
    {
     "data": {
      "text/plain": [
       "[2, 4, 6]"
      ]
     },
     "execution_count": 22,
     "metadata": {},
     "output_type": "execute_result"
    }
   ],
   "source": [
    "num1 = int(\"\".join(reversed([str(i) for i in l1])))\n",
    "num2 = int(\"\".join(reversed([str(i) for i in l2])))\n",
    "\n",
    "num3 = num1 + num2\n",
    "\n",
    "l3 = [int(i) for i in reversed(str(num3))]\n",
    "l3"
   ]
  },
  {
   "cell_type": "code",
   "execution_count": null,
   "metadata": {},
   "outputs": [],
   "source": [
    "with open(\"2222.txt\") as f:\n",
    "    lines = f.readlines()\n",
    "    \n",
    "lines\n",
    "\n",
    "# for i in range(len(lines)):\n",
    "#     left = i\n",
    "#     right = i\n",
    "#     current\n",
    "#     while i < len(lines):\n",
    "#         if "
   ]
  },
  {
   "cell_type": "code",
   "execution_count": 9,
   "metadata": {},
   "outputs": [
    {
     "data": {
      "text/plain": [
       "2086"
      ]
     },
     "execution_count": 9,
     "metadata": {},
     "output_type": "execute_result"
    }
   ],
   "source": [
    "with open(\"test24.txt\") as f:\n",
    "    f = f.read()\n",
    "    ws = []\n",
    "    min_r = 10**6\n",
    "    for l in range(len(f)):\n",
    "        if f[l] == 'W':\n",
    "            ws.append(l)\n",
    "    \n",
    "    for i in range(len(ws) - 130):\n",
    "        min_r = min(min_r, ws[i+129] - ws[i] + 1)\n",
    "    \n",
    "min_r"
   ]
  },
  {
   "cell_type": "code",
   "execution_count": 12,
   "metadata": {},
   "outputs": [
    {
     "data": {
      "text/plain": [
       "4"
      ]
     },
     "execution_count": 12,
     "metadata": {},
     "output_type": "execute_result"
    }
   ],
   "source": [
    "with open(\"24.txt\") as f:\n",
    "    letters = f.read()\n",
    "    \n",
    "def check(a, b, c):\n",
    "    if (a in ('A', 'O')) and (b in ('A', 'O')) and c in ('C', 'D', 'F'):\n",
    "        return True\n",
    "    return False\n",
    "\n",
    "\n",
    "c = []\n",
    "current = 0\n",
    "\n",
    "for l in range(0, len(letters)-2, 3):\n",
    "    if check(letters[l], letters[l+1], letters[l+2]):\n",
    "        current += 1\n",
    "        continue\n",
    "    else:\n",
    "        c.append(current)\n",
    "        current = 0\n",
    "        \n",
    "max(c)"
   ]
  },
  {
   "cell_type": "code",
   "execution_count": 10,
   "metadata": {},
   "outputs": [
    {
     "data": {
      "text/plain": [
       "(35, 999999)"
      ]
     },
     "execution_count": 10,
     "metadata": {},
     "output_type": "execute_result"
    }
   ],
   "source": [
    "with open(\"ab1.txt\") as f:\n",
    "    f = f.read()\n",
    "    letters = [i for i in f]\n",
    "    \n",
    "valid_strings = []\n",
    "\n",
    "right = 0\n",
    "current = ''\n",
    "while right < len(letters) - 1:\n",
    "    \n",
    "    if letters[right] != letters[right+1]:\n",
    "        current += letters[right]\n",
    "    else:\n",
    "        current += letters[right]\n",
    "        valid_strings.append(len(current))\n",
    "        current = ''\n",
    "        \n",
    "    right += 1\n",
    "        \n",
    "max(valid_strings), right"
   ]
  },
  {
   "cell_type": "code",
   "execution_count": 4,
   "metadata": {},
   "outputs": [
    {
     "data": {
      "text/plain": [
       "893"
      ]
     },
     "execution_count": 4,
     "metadata": {},
     "output_type": "execute_result"
    }
   ],
   "source": [
    "with open(\"ab2.txt\") as f:\n",
    "    letters = [i for i in f.read()]\n",
    "\n",
    "maxim_a = 0\n",
    "current = 0\n",
    "\n",
    "for l in letters:\n",
    "    if l == 'A':\n",
    "        current += 1\n",
    "    else:\n",
    "        if maxim_a < current:\n",
    "            maxim_a = current\n",
    "            current = 0\n",
    "            \n",
    "maxim_a"
   ]
  },
  {
   "cell_type": "code",
   "execution_count": 5,
   "metadata": {},
   "outputs": [
    {
     "data": {
      "text/plain": [
       "576"
      ]
     },
     "execution_count": 5,
     "metadata": {},
     "output_type": "execute_result"
    }
   ],
   "source": [
    "with open(\"ab3.txt\") as f:\n",
    "    letters = [i for i in f.read()]\n",
    "\n",
    "maxim_c = 0\n",
    "current = 0\n",
    "\n",
    "for l in letters:\n",
    "    if l == 'C':\n",
    "        current += 1\n",
    "    else:\n",
    "        if maxim_c < current:\n",
    "            maxim_c = current\n",
    "            current = 0\n",
    "            \n",
    "maxim_c"
   ]
  }
 ],
 "metadata": {
  "kernelspec": {
   "display_name": "venv",
   "language": "python",
   "name": "python3"
  },
  "language_info": {
   "codemirror_mode": {
    "name": "ipython",
    "version": 3
   },
   "file_extension": ".py",
   "mimetype": "text/x-python",
   "name": "python",
   "nbconvert_exporter": "python",
   "pygments_lexer": "ipython3",
   "version": "3.11.4"
  }
 },
 "nbformat": 4,
 "nbformat_minor": 2
}
