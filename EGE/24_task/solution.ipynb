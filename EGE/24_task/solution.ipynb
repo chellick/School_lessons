{
 "cells": [
  {
   "cell_type": "code",
   "execution_count": 27,
   "metadata": {},
   "outputs": [],
   "source": [
    "with open('24.txt') as f:\n",
    "    s = f.read()"
   ]
  },
  {
   "cell_type": "code",
   "execution_count": 28,
   "metadata": {},
   "outputs": [],
   "source": [
    "from string import ascii_uppercase\n",
    "from collections import Counter"
   ]
  },
  {
   "cell_type": "code",
   "execution_count": 26,
   "metadata": {},
   "outputs": [],
   "source": [
    "alphabet = {i: 0 for i in ascii_uppercase}"
   ]
  },
  {
   "cell_type": "code",
   "execution_count": 31,
   "metadata": {},
   "outputs": [
    {
     "data": {
      "text/plain": [
       "[('U', 1618)]"
      ]
     },
     "execution_count": 31,
     "metadata": {},
     "output_type": "execute_result"
    }
   ],
   "source": [
    "ans = ''\n",
    "for i in range(len(s)):\n",
    "    if s[i] == 'X' and s[i+1] != 'X':\n",
    "        alphabet[s[i+1]] += 1\n",
    "        ans += s[i+1]\n",
    "\n",
    "reverse_alph = {\n",
    "    value: key for key, value in alphabet.items()\n",
    "}\n",
    "Counter(ans).most_common(1)"
   ]
  },
  {
   "cell_type": "code",
   "execution_count": 15,
   "metadata": {},
   "outputs": [],
   "source": [
    "l1 = [1, 2, 3]\n",
    "l2 = [1, 2, 3]"
   ]
  },
  {
   "cell_type": "code",
   "execution_count": 22,
   "metadata": {},
   "outputs": [
    {
     "data": {
      "text/plain": [
       "[2, 4, 6]"
      ]
     },
     "execution_count": 22,
     "metadata": {},
     "output_type": "execute_result"
    }
   ],
   "source": [
    "num1 = int(\"\".join(reversed([str(i) for i in l1])))\n",
    "num2 = int(\"\".join(reversed([str(i) for i in l2])))\n",
    "\n",
    "num3 = num1 + num2\n",
    "\n",
    "l3 = [int(i) for i in reversed(str(num3))]\n",
    "l3"
   ]
  },
  {
   "cell_type": "code",
   "execution_count": null,
   "metadata": {},
   "outputs": [],
   "source": [
    "with open(\"2222.txt\") as f:\n",
    "    lines = f.readlines()\n",
    "    \n",
    "lines\n",
    "\n",
    "# for i in range(len(lines)):\n",
    "#     left = i\n",
    "#     right = i\n",
    "#     current\n",
    "#     while i < len(lines):\n",
    "#         if "
   ]
  },
  {
   "cell_type": "code",
   "execution_count": 9,
   "metadata": {},
   "outputs": [
    {
     "data": {
      "text/plain": [
       "2086"
      ]
     },
     "execution_count": 9,
     "metadata": {},
     "output_type": "execute_result"
    }
   ],
   "source": [
    "with open(\"test24.txt\") as f:\n",
    "    f = f.read()\n",
    "    ws = []\n",
    "    min_r = 10**6\n",
    "    for l in range(len(f)):\n",
    "        if f[l] == 'W':\n",
    "            ws.append(l)\n",
    "    \n",
    "    for i in range(len(ws) - 130):\n",
    "        min_r = min(min_r, ws[i+129] - ws[i] + 1)\n",
    "    \n",
    "min_r"
   ]
  },
  {
   "cell_type": "code",
   "execution_count": 12,
   "metadata": {},
   "outputs": [
    {
     "data": {
      "text/plain": [
       "4"
      ]
     },
     "execution_count": 12,
     "metadata": {},
     "output_type": "execute_result"
    }
   ],
   "source": [
    "with open(\"24.txt\") as f:\n",
    "    letters = f.read()\n",
    "    \n",
    "def check(a, b, c):\n",
    "    if (a in ('A', 'O')) and (b in ('A', 'O')) and c in ('C', 'D', 'F'):\n",
    "        return True\n",
    "    return False\n",
    "\n",
    "\n",
    "c = []\n",
    "current = 0\n",
    "\n",
    "for l in range(0, len(letters)-2, 3):\n",
    "    if check(letters[l], letters[l+1], letters[l+2]):\n",
    "        current += 1\n",
    "        continue\n",
    "    else:\n",
    "        c.append(current)\n",
    "        current = 0\n",
    "        \n",
    "max(c)"
   ]
  },
  {
   "cell_type": "code",
   "execution_count": 10,
   "metadata": {},
   "outputs": [
    {
     "data": {
      "text/plain": [
       "(35, 999999)"
      ]
     },
     "execution_count": 10,
     "metadata": {},
     "output_type": "execute_result"
    }
   ],
   "source": [
    "with open(\"ab1.txt\") as f:\n",
    "    f = f.read()\n",
    "    letters = [i for i in f]\n",
    "    \n",
    "valid_strings = []\n",
    "\n",
    "right = 0\n",
    "current = ''\n",
    "while right < len(letters) - 1:\n",
    "    \n",
    "    if letters[right] != letters[right+1]:\n",
    "        current += letters[right]\n",
    "    else:\n",
    "        current += letters[right]\n",
    "        valid_strings.append(len(current))\n",
    "        current = ''\n",
    "        \n",
    "    right += 1\n",
    "        \n",
    "max(valid_strings), right"
   ]
  },
  {
   "cell_type": "code",
   "execution_count": 4,
   "metadata": {},
   "outputs": [
    {
     "data": {
      "text/plain": [
       "893"
      ]
     },
     "execution_count": 4,
     "metadata": {},
     "output_type": "execute_result"
    }
   ],
   "source": [
    "with open(\"ab2.txt\") as f:\n",
    "    letters = [i for i in f.read()]\n",
    "\n",
    "maxim_a = 0\n",
    "current = 0\n",
    "\n",
    "for l in letters:\n",
    "    if l == 'A':\n",
    "        current += 1\n",
    "    else:\n",
    "        if maxim_a < current:\n",
    "            maxim_a = current\n",
    "            current = 0\n",
    "            \n",
    "maxim_a"
   ]
  },
  {
   "cell_type": "code",
   "execution_count": 5,
   "metadata": {},
   "outputs": [
    {
     "data": {
      "text/plain": [
       "576"
      ]
     },
     "execution_count": 5,
     "metadata": {},
     "output_type": "execute_result"
    }
   ],
   "source": [
    "with open(\"ab3.txt\") as f:\n",
    "    letters = [i for i in f.read()]\n",
    "\n",
    "maxim_c = 0\n",
    "current = 0\n",
    "\n",
    "for l in letters:\n",
    "    if l == 'C':\n",
    "        current += 1\n",
    "    else:\n",
    "        if maxim_c < current:\n",
    "            maxim_c = current\n",
    "            current = 0\n",
    "            \n",
    "maxim_c"
   ]
  },
  {
   "cell_type": "code",
   "execution_count": 8,
   "metadata": {},
   "outputs": [
    {
     "data": {
      "text/plain": [
       "(2230219, 54)"
      ]
     },
     "execution_count": 8,
     "metadata": {},
     "output_type": "execute_result"
    }
   ],
   "source": [
    "with open(\"24_12254.txt\") as f:\n",
    "    letters = [i for i in f.read()]\n",
    "    letters = \"\".join(letters)\n",
    "    letters = letters.replace('RSQ', '_')\n",
    "\n",
    "\n",
    "dlini = []    \n",
    "\n",
    "for i in range(len(letters)):\n",
    "    current = 0\n",
    "    if letters[i] == '_':\n",
    "        right = i\n",
    "        \n",
    "        if letters[right-1] == 'Q':\n",
    "                current += 1\n",
    "                if letters[right-2] == 'S':\n",
    "                    current += 1\n",
    "        \n",
    "        while right < len(letters)-2:\n",
    "            current += 3\n",
    "                    \n",
    "            if letters[right+1] != '_':   \n",
    "                if letters[right+1] == 'R':\n",
    "                    current += 1\n",
    "                    if letters[right+2] == 'S':\n",
    "                        current += 1\n",
    "                break\n",
    "                    \n",
    "            right += 1\n",
    "    if current != 0:\n",
    "        dlini.append(current)\n",
    "\n",
    "len(dlini), max(dlini)"
   ]
  },
  {
   "cell_type": "code",
   "execution_count": 5,
   "metadata": {},
   "outputs": [
    {
     "data": {
      "text/plain": [
       "({'A': 1509,\n",
       "  'B': 1423,\n",
       "  'C': 1400,\n",
       "  'D': 1517,\n",
       "  'E': 1400,\n",
       "  'F': 1446,\n",
       "  'G': 1502,\n",
       "  'H': 1479,\n",
       "  'I': 1446,\n",
       "  'J': 1461,\n",
       "  'K': 1443,\n",
       "  'L': 1459,\n",
       "  'M': 1481,\n",
       "  'N': 1439,\n",
       "  'O': 1507,\n",
       "  'P': 1502,\n",
       "  'Q': 1468,\n",
       "  'R': 1461,\n",
       "  'S': 1501,\n",
       "  'T': 1410,\n",
       "  'U': 1445,\n",
       "  'V': 1505,\n",
       "  'W': 1490,\n",
       "  'X': 1490,\n",
       "  'Y': 1441,\n",
       "  'Z': 1447},\n",
       " 'D')"
      ]
     },
     "execution_count": 5,
     "metadata": {},
     "output_type": "execute_result"
    }
   ],
   "source": [
    "from string import ascii_uppercase\n",
    "from collections import Counter\n",
    "\n",
    "\n",
    "with open(\"24 (1).txt\") as f:\n",
    "    letters = [i for i in f.read()]\n",
    "    \n",
    "\n",
    "d = dict().fromkeys(ascii_uppercase, 0)\n",
    "\n",
    "for i in range(1, len(letters) - 1):\n",
    "    if letters[i-1] == letters[i+1]:\n",
    "        d[letters[i]] += 1\n",
    "        \n",
    "\n",
    "d, max(d, key=lambda x: d[x])\n",
    "    \n",
    "# d"
   ]
  },
  {
   "cell_type": "code",
   "execution_count": 24,
   "metadata": {},
   "outputs": [
    {
     "data": {
      "text/plain": [
       "2796"
      ]
     },
     "execution_count": 24,
     "metadata": {},
     "output_type": "execute_result"
    }
   ],
   "source": [
    "with open(\"24 (2).txt\") as f:\n",
    "    letters = [i for i in f.read()]\n",
    "\n",
    "right = 0\n",
    "max_len = 0\n",
    "current = 0\n",
    "\n",
    "\n",
    "while right < len(letters)-1:\n",
    "    if (letters[right] == 'K' and letters[right+1] == 'L') or (letters[right] == 'L' and letters[right+1] == 'K'):\n",
    "        current += 1\n",
    "        if max_len < current:\n",
    "            max_len = current\n",
    "        \n",
    "        current = 0\n",
    "        right += 1\n",
    "        continue\n",
    "    \n",
    "    current += 1\n",
    "    right += 1\n",
    "    \n",
    "max_len"
   ]
  },
  {
   "cell_type": "code",
   "execution_count": 38,
   "metadata": {},
   "outputs": [
    {
     "data": {
      "text/plain": [
       "(65,\n",
       " '2AAA112AA12B122122BA2C11CA221221BC2222211A221BC11212222A2212111AAA11AC11222112222121112CC21BB1211222')"
      ]
     },
     "execution_count": 38,
     "metadata": {},
     "output_type": "execute_result"
    }
   ],
   "source": [
    "with open(\"107_24.txt\") as f:\n",
    "    letters = f.read()\n",
    "    letters = letters.replace('AB', '1').replace('CB', '2')\n",
    "    \n",
    "    # print(letters.count('1') + letters.count('2'), letters[:25])\n",
    "    \n",
    "max_val = 0    \n",
    "current = 0\n",
    "state = False\n",
    "\n",
    "for i in letters:\n",
    "    if i == '1' or i == '2':\n",
    "        state = True\n",
    "    else:\n",
    "        state = False\n",
    "        \n",
    "    if state:\n",
    "        current += 1\n",
    "        \n",
    "    else:\n",
    "        if max_val < current:\n",
    "            max_val = current\n",
    "        current = 0\n",
    "\n",
    "max_val, letters[:100]"
   ]
  },
  {
   "cell_type": "code",
   "execution_count": 40,
   "metadata": {},
   "outputs": [
    {
     "data": {
      "text/plain": [
       "['Y', 'Y', 'Y', 'X', 'V']"
      ]
     },
     "execution_count": 40,
     "metadata": {},
     "output_type": "execute_result"
    }
   ],
   "source": [
    "with open(\"24 (4).txt\") as f:\n",
    "    letters = [i for i in f.read()]\n",
    "    \n",
    "valid = []\n",
    "letters[:5]"
   ]
  },
  {
   "cell_type": "code",
   "execution_count": 55,
   "metadata": {},
   "outputs": [
    {
     "data": {
      "text/plain": [
       "10000001"
      ]
     },
     "execution_count": 55,
     "metadata": {},
     "output_type": "execute_result"
    }
   ],
   "source": [
    "with open(\"24 (4).txt\") as f:\n",
    "    letters = [i for i in f.read()]\n",
    "    \n",
    "len(letters)"
   ]
  },
  {
   "cell_type": "code",
   "execution_count": 1,
   "metadata": {},
   "outputs": [
    {
     "data": {
      "text/plain": [
       "3844"
      ]
     },
     "execution_count": 1,
     "metadata": {},
     "output_type": "execute_result"
    }
   ],
   "source": [
    "with open(\"24 (4).txt\") as f:\n",
    "    letters = [i for i in f.read()]\n",
    "    \n",
    "valid = []\n",
    "ts = []\n",
    "\n",
    "for i in range(len(letters)):\n",
    "    if letters[i] == 'T':\n",
    "        ts.append(i)\n",
    "        \n",
    "for j in range(0, len(ts)-209):\n",
    "    valid.append(ts[j+209] - ts[j] + 1)\n",
    "    \n",
    "min(valid)\n"
   ]
  },
  {
   "cell_type": "code",
   "execution_count": 80,
   "metadata": {},
   "outputs": [
    {
     "data": {
      "text/plain": [
       "40"
      ]
     },
     "execution_count": 80,
     "metadata": {},
     "output_type": "execute_result"
    }
   ],
   "source": [
    "from string import ascii_uppercase\n",
    "from collections import Counter\n",
    "\n",
    "with open(\"24_59848.txt\") as f:\n",
    "    letters = f.read()\n",
    "    letters = letters.replace('N', ' ').replace('O', ' ')\\\n",
    "        .replace('P', ' ').replace('Q', ' ').replace('R', ' ')\\\n",
    "            .replace('S', ' ').replace('T', ' ').replace('U', ' ')\\\n",
    "                .replace('V', ' ').replace('W', ' ').replace('X', ' ')\\\n",
    "                    .replace('Y', ' ').replace('Z', ' ')\n",
    "\n",
    "s = '0123456789' + ascii_uppercase[:13]\n",
    "\n",
    "letters = letters.split(' ')\n",
    "\n",
    "len(max(letters, key=lambda x: len(x)))\n"
   ]
  },
  {
   "cell_type": "code",
   "execution_count": 11,
   "metadata": {},
   "outputs": [
    {
     "data": {
      "text/plain": [
       "11"
      ]
     },
     "execution_count": 11,
     "metadata": {},
     "output_type": "execute_result"
    }
   ],
   "source": [
    "with open(\"24_58327.txt\") as f:\n",
    "    nums = f.read()\n",
    "    \n",
    "valid = []\n",
    "current = 0\n",
    "\n",
    "for i in range(len(nums)-1):\n",
    "    if nums[i] >= nums[i+1]:\n",
    "        current += 1\n",
    "    else:\n",
    "        current += 1\n",
    "        valid.append(current)\n",
    "        current = 0\n",
    "        \n",
    "max(valid)"
   ]
  },
  {
   "cell_type": "code",
   "execution_count": 18,
   "metadata": {},
   "outputs": [
    {
     "data": {
      "text/plain": [
       "1820"
      ]
     },
     "execution_count": 18,
     "metadata": {},
     "output_type": "execute_result"
    }
   ],
   "source": [
    "with open(\"24 (6).txt\") as f:\n",
    "    letters = f.read()\n",
    "\n",
    "vs = []\n",
    "\n",
    "for i in range(len(letters)):\n",
    "    if letters[i] == 'V':\n",
    "        vs.append(i)\n",
    "     \n",
    "r = 120\n",
    "\n",
    "min_V = 10 ** 6\n",
    "\n",
    "for i in range(len(vs) - r):\n",
    "        min_V = min(min_V, vs[i+r-1] - vs[i] + 1)\n",
    "    \n",
    "min_V"
   ]
  },
  {
   "cell_type": "code",
   "execution_count": 47,
   "metadata": {},
   "outputs": [
    {
     "data": {
      "text/plain": [
       "(120120, 128)"
      ]
     },
     "execution_count": 47,
     "metadata": {},
     "output_type": "execute_result"
    }
   ],
   "source": [
    "\n",
    "max_del = 0\n",
    "max_num = 0\n",
    "\n",
    "for n in range(120115, 120200+1):\n",
    "    lst = [n]\n",
    "    for i in range(1, n//2+1):\n",
    "        if n % i == 0:\n",
    "            lst.append(i)\n",
    "        \n",
    "    if len(lst) > max_del:\n",
    "        max_del = len(lst)\n",
    "        max_num = n\n",
    "\n",
    "    if len(lst) == max_del:\n",
    "        if max_num < n:\n",
    "            max_num = n\n",
    "            \n",
    "        \n",
    "max_num, max_del\n",
    "            "
   ]
  },
  {
   "cell_type": "code",
   "execution_count": 56,
   "metadata": {},
   "outputs": [
    {
     "name": "stdout",
     "output_type": "stream",
     "text": [
      "2422027 1\n",
      "2422033 2\n",
      "2422037 3\n",
      "2422073 4\n"
     ]
    }
   ],
   "source": [
    "import math\n",
    "def is_prime(num):\n",
    "    dels = 0\n",
    "    \n",
    "    for i in range(2, math.ceil(num**0.5)):\n",
    "        if num % i == 0:\n",
    "            dels += 1\n",
    "            # print(i)\n",
    "    if dels:\n",
    "        return False\n",
    "    return True\n",
    "\n",
    "count = 0\n",
    "\n",
    "for n in range(2422000, 2422080):\n",
    "    if is_prime(n):\n",
    "        count += 1\n",
    "        print(n, count)"
   ]
  }
 ],
 "metadata": {
  "kernelspec": {
   "display_name": "venv",
   "language": "python",
   "name": "python3"
  },
  "language_info": {
   "codemirror_mode": {
    "name": "ipython",
    "version": 3
   },
   "file_extension": ".py",
   "mimetype": "text/x-python",
   "name": "python",
   "nbconvert_exporter": "python",
   "pygments_lexer": "ipython3",
   "version": "3.11.4"
  }
 },
 "nbformat": 4,
 "nbformat_minor": 2
}
