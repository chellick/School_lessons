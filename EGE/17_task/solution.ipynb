{
 "cells": [
  {
   "cell_type": "code",
   "execution_count": 10,
   "metadata": {},
   "outputs": [
    {
     "data": {
      "text/plain": [
       "(2802, 1990)"
      ]
     },
     "execution_count": 10,
     "metadata": {},
     "output_type": "execute_result"
    }
   ],
   "source": [
    "with open(\"17.txt\") as f:\n",
    "    nums = [int(x) for x in f.readlines()]\n",
    "pairs = []\n",
    "\n",
    "for i in range(len(nums) - 1):\n",
    "    if nums[i] % 3 == 0 or nums[i+1] % 3 == 0:\n",
    "        pairs.append(nums[i] + nums[i+1])\n",
    "len(pairs), max(pairs)"
   ]
  },
  {
   "cell_type": "code",
   "execution_count": 24,
   "metadata": {},
   "outputs": [],
   "source": [
    "with open(\"18.txt\") as f:\n",
    "    nums = [int(x) for x in f.readlines()]\n",
    "\n",
    "minimum = 10001\n",
    "\n",
    "for n in nums:\n",
    "    if n < minimum and abs(n) % 10 == 7:\n",
    "        minimum = n\n"
   ]
  },
  {
   "cell_type": "code",
   "execution_count": 26,
   "metadata": {},
   "outputs": [
    {
     "data": {
      "text/plain": [
       "(671, 96731834)"
      ]
     },
     "execution_count": 26,
     "metadata": {},
     "output_type": "execute_result"
    }
   ],
   "source": [
    "def square_sum(a, b):\n",
    "    return a ** 2 + b ** 2\n",
    "\n",
    "def check(a, b):\n",
    "    if (\n",
    "        abs(a) % 10 == 7 and abs(b) % 10 != 7 or\n",
    "        abs(a) % 10 != 7 and abs(b) % 10 == 7\n",
    "        ):\n",
    "        return True\n",
    "    return False\n",
    "\n",
    "answer = []\n",
    "\n",
    "for i in range(len(nums) - 1):\n",
    "    if (square_sum(nums[i], nums[i+1]) < minimum ** 2) and check(nums[i], nums[i+1]):\n",
    "        answer.append(nums[i]**2 + nums[i+1]**2)\n",
    "        \n",
    "len(answer), max(answer)\n"
   ]
  },
  {
   "cell_type": "code",
   "execution_count": 32,
   "metadata": {},
   "outputs": [],
   "source": [
    "with open(\"39763.txt\") as f:\n",
    "    nums = [int(x) for x in f.readlines()]"
   ]
  },
  {
   "cell_type": "code",
   "execution_count": 39,
   "metadata": {},
   "outputs": [
    {
     "data": {
      "text/plain": [
       "(1175, 29451)"
      ]
     },
     "execution_count": 39,
     "metadata": {},
     "output_type": "execute_result"
    }
   ],
   "source": [
    "def triangle(a, b, c):\n",
    "    s = sorted([a, b, c], reverse=True)\n",
    "    \n",
    "    if s[0] ** 2 < s[1] ** 2 + s[2] ** 2:\n",
    "        return True\n",
    "    return False\n",
    "\n",
    "triples = []\n",
    "\n",
    "for i in range(len(nums)-2):\n",
    "    if triangle(nums[i], nums[i+1], nums[i+2]):\n",
    "        triples.append(sum([nums[i], nums[i+1], nums[i+2]]))\n",
    "        \n",
    "len(triples), max(triples)"
   ]
  },
  {
   "cell_type": "code",
   "execution_count": 2,
   "metadata": {},
   "outputs": [
    {
     "data": {
      "text/plain": [
       "(10000, 9984)"
      ]
     },
     "execution_count": 2,
     "metadata": {},
     "output_type": "execute_result"
    }
   ],
   "source": [
    "nums = []\n",
    "maxim = 0\n",
    "\n",
    "with open('17-282.txt') as f:\n",
    "    for i in f.readlines():\n",
    "        if (int(i) % 13 == 0) and (int(i) > maxim):\n",
    "            maxim = int(i)\n",
    "        nums.append(int(i))\n",
    "\n",
    "len(nums), maxim"
   ]
  },
  {
   "cell_type": "code",
   "execution_count": 7,
   "metadata": {},
   "outputs": [
    {
     "data": {
      "text/plain": [
       "(4, 13248)"
      ]
     },
     "execution_count": 7,
     "metadata": {},
     "output_type": "execute_result"
    }
   ],
   "source": [
    "c = 0\n",
    "pairs = []\n",
    "for i in range(len(nums)-1):\n",
    "    if (nums[i] % maxim == 0) or (nums[i+1] % maxim == 0):\n",
    "        pairs.append(nums[i] + nums[i+1])\n",
    "        c += 1\n",
    "c, min(pairs)"
   ]
  },
  {
   "cell_type": "code",
   "execution_count": 9,
   "metadata": {},
   "outputs": [
    {
     "data": {
      "text/plain": [
       "23419"
      ]
     },
     "execution_count": 9,
     "metadata": {},
     "output_type": "execute_result"
    }
   ],
   "source": [
    "nums = []\n",
    "max_n = 0\n",
    "with open(\"цифры ибаные.txt\") as f:\n",
    "    for i in f.readlines():\n",
    "        if str(int(i))[-2::] == \"19\":\n",
    "            if int(str(int(i))[-2::]) > max_n:\n",
    "                max_n = int(str(int(i)))\n",
    "        nums.append(int(i))\n",
    "\n",
    "max_n"
   ]
  },
  {
   "cell_type": "code",
   "execution_count": 14,
   "metadata": {},
   "outputs": [
    {
     "data": {
      "text/plain": [
       "(232, 115709)"
      ]
     },
     "execution_count": 14,
     "metadata": {},
     "output_type": "execute_result"
    }
   ],
   "source": [
    "count = []\n",
    "def check(numbers):\n",
    "    first = 0\n",
    "    second = 0\n",
    "    for i in numbers:\n",
    "        if i % 3 == 0:\n",
    "            second += 1\n",
    "        if 999 < i < 10000:\n",
    "            first += 1\n",
    "        if sum(numbers) > max_n and first == 2 and second > 0:\n",
    "            return True\n",
    "    return False\n",
    "    \n",
    "    \n",
    "\n",
    "for i in range(len(nums)-2):\n",
    "    if check([nums[i-1], nums[i], nums[i+1]]):\n",
    "        count.append(sum([nums[i-1], nums[i], nums[i+1]]))\n",
    "        \n",
    "len(count), max(count)"
   ]
  },
  {
   "cell_type": "code",
   "execution_count": 7,
   "metadata": {},
   "outputs": [],
   "source": [
    "f = open(\"17as.txt\")\n",
    "\n",
    "nums = [int(i) for i in f]\n"
   ]
  },
  {
   "cell_type": "code",
   "execution_count": 14,
   "metadata": {},
   "outputs": [
    {
     "name": "stdout",
     "output_type": "stream",
     "text": [
      "9082691\n",
      "4797990\n"
     ]
    }
   ],
   "source": [
    "c = 0\n",
    "pairs = []\n",
    "\n",
    "for i in range(len(nums)-1):\n",
    "    for j in range(i, len(nums)):\n",
    "        if (nums[i] + nums[j]) % 2 != 0 and (nums[i] * nums[j]) % 5 == 0:\n",
    "            pairs.append((nums[i], nums[j]))\n",
    "print(len(pairs)) \n",
    "pairs = set(pairs)\n",
    "print(len(pairs)) \n",
    "        "
   ]
  },
  {
   "cell_type": "code",
   "execution_count": 15,
   "metadata": {},
   "outputs": [
    {
     "data": {
      "text/plain": [
       "19995"
      ]
     },
     "execution_count": 15,
     "metadata": {},
     "output_type": "execute_result"
    }
   ],
   "source": [
    "max([sum(i) for i in pairs])"
   ]
  },
  {
   "cell_type": "code",
   "execution_count": null,
   "metadata": {},
   "outputs": [],
   "source": [
    "events = []\n",
    "\n",
    "f = open(\"\")"
   ]
  },
  {
   "cell_type": "code",
   "execution_count": null,
   "metadata": {},
   "outputs": [],
   "source": []
  }
 ],
 "metadata": {
  "kernelspec": {
   "display_name": "venv",
   "language": "python",
   "name": "python3"
  },
  "language_info": {
   "codemirror_mode": {
    "name": "ipython",
    "version": 3
   },
   "file_extension": ".py",
   "mimetype": "text/x-python",
   "name": "python",
   "nbconvert_exporter": "python",
   "pygments_lexer": "ipython3",
   "version": "3.11.4"
  }
 },
 "nbformat": 4,
 "nbformat_minor": 2
}
