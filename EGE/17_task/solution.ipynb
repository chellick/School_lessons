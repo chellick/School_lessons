{
 "cells": [
  {
   "cell_type": "code",
   "execution_count": 10,
   "metadata": {},
   "outputs": [
    {
     "data": {
      "text/plain": [
       "(2802, 1990)"
      ]
     },
     "execution_count": 10,
     "metadata": {},
     "output_type": "execute_result"
    }
   ],
   "source": [
    "with open(\"17.txt\") as f:\n",
    "    nums = [int(x) for x in f.readlines()]\n",
    "pairs = []\n",
    "\n",
    "for i in range(len(nums) - 1):\n",
    "    if nums[i] % 3 == 0 or nums[i+1] % 3 == 0:\n",
    "        pairs.append(nums[i] + nums[i+1])\n",
    "len(pairs), max(pairs)"
   ]
  },
  {
   "cell_type": "code",
   "execution_count": 24,
   "metadata": {},
   "outputs": [],
   "source": [
    "with open(\"18.txt\") as f:\n",
    "    nums = [int(x) for x in f.readlines()]\n",
    "\n",
    "minimum = 10001\n",
    "\n",
    "for n in nums:\n",
    "    if n < minimum and abs(n) % 10 == 7:\n",
    "        minimum = n\n"
   ]
  },
  {
   "cell_type": "code",
   "execution_count": 26,
   "metadata": {},
   "outputs": [
    {
     "data": {
      "text/plain": [
       "(671, 96731834)"
      ]
     },
     "execution_count": 26,
     "metadata": {},
     "output_type": "execute_result"
    }
   ],
   "source": [
    "def square_sum(a, b):\n",
    "    return a ** 2 + b ** 2\n",
    "\n",
    "def check(a, b):\n",
    "    if (\n",
    "        abs(a) % 10 == 7 and abs(b) % 10 != 7 or\n",
    "        abs(a) % 10 != 7 and abs(b) % 10 == 7\n",
    "        ):\n",
    "        return True\n",
    "    return False\n",
    "\n",
    "answer = []\n",
    "\n",
    "for i in range(len(nums) - 1):\n",
    "    if (square_sum(nums[i], nums[i+1]) < minimum ** 2) and check(nums[i], nums[i+1]):\n",
    "        answer.append(nums[i]**2 + nums[i+1]**2)\n",
    "        \n",
    "len(answer), max(answer)\n"
   ]
  },
  {
   "cell_type": "code",
   "execution_count": 32,
   "metadata": {},
   "outputs": [],
   "source": [
    "with open(\"39763.txt\") as f:\n",
    "    nums = [int(x) for x in f.readlines()]"
   ]
  },
  {
   "cell_type": "code",
   "execution_count": 39,
   "metadata": {},
   "outputs": [
    {
     "data": {
      "text/plain": [
       "(1175, 29451)"
      ]
     },
     "execution_count": 39,
     "metadata": {},
     "output_type": "execute_result"
    }
   ],
   "source": [
    "def triangle(a, b, c):\n",
    "    s = sorted([a, b, c], reverse=True)\n",
    "    \n",
    "    if s[0] ** 2 < s[1] ** 2 + s[2] ** 2:\n",
    "        return True\n",
    "    return False\n",
    "\n",
    "triples = []\n",
    "\n",
    "for i in range(len(nums)-2):\n",
    "    if triangle(nums[i], nums[i+1], nums[i+2]):\n",
    "        triples.append(sum([nums[i], nums[i+1], nums[i+2]]))\n",
    "        \n",
    "len(triples), max(triples)"
   ]
  }
 ],
 "metadata": {
  "kernelspec": {
   "display_name": "venv",
   "language": "python",
   "name": "python3"
  },
  "language_info": {
   "codemirror_mode": {
    "name": "ipython",
    "version": 3
   },
   "file_extension": ".py",
   "mimetype": "text/x-python",
   "name": "python",
   "nbconvert_exporter": "python",
   "pygments_lexer": "ipython3",
   "version": "3.11.4"
  }
 },
 "nbformat": 4,
 "nbformat_minor": 2
}
