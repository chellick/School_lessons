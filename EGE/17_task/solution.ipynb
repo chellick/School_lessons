{
 "cells": [
  {
   "cell_type": "code",
   "execution_count": 10,
   "metadata": {},
   "outputs": [
    {
     "data": {
      "text/plain": [
       "(2802, 1990)"
      ]
     },
     "execution_count": 10,
     "metadata": {},
     "output_type": "execute_result"
    }
   ],
   "source": [
    "with open(\"17.txt\") as f:\n",
    "    nums = [int(x) for x in f.readlines()]\n",
    "pairs = []\n",
    "\n",
    "for i in range(len(nums) - 1):\n",
    "    if nums[i] % 3 == 0 or nums[i+1] % 3 == 0:\n",
    "        pairs.append(nums[i] + nums[i+1])\n",
    "len(pairs), max(pairs)"
   ]
  },
  {
   "cell_type": "code",
   "execution_count": 24,
   "metadata": {},
   "outputs": [],
   "source": [
    "with open(\"18.txt\") as f:\n",
    "    nums = [int(x) for x in f.readlines()]\n",
    "\n",
    "minimum = 10001\n",
    "\n",
    "for n in nums:\n",
    "    if n < minimum and abs(n) % 10 == 7:\n",
    "        minimum = n\n"
   ]
  },
  {
   "cell_type": "code",
   "execution_count": 26,
   "metadata": {},
   "outputs": [
    {
     "data": {
      "text/plain": [
       "(671, 96731834)"
      ]
     },
     "execution_count": 26,
     "metadata": {},
     "output_type": "execute_result"
    }
   ],
   "source": [
    "def square_sum(a, b):\n",
    "    return a ** 2 + b ** 2\n",
    "\n",
    "def check(a, b):\n",
    "    if (\n",
    "        abs(a) % 10 == 7 and abs(b) % 10 != 7 or\n",
    "        abs(a) % 10 != 7 and abs(b) % 10 == 7\n",
    "        ):\n",
    "        return True\n",
    "    return False\n",
    "\n",
    "answer = []\n",
    "\n",
    "for i in range(len(nums) - 1):\n",
    "    if (square_sum(nums[i], nums[i+1]) < minimum ** 2) and check(nums[i], nums[i+1]):\n",
    "        answer.append(nums[i]**2 + nums[i+1]**2)\n",
    "        \n",
    "len(answer), max(answer)\n"
   ]
  },
  {
   "cell_type": "code",
   "execution_count": 32,
   "metadata": {},
   "outputs": [],
   "source": [
    "with open(\"39763.txt\") as f:\n",
    "    nums = [int(x) for x in f.readlines()]"
   ]
  },
  {
   "cell_type": "code",
   "execution_count": 39,
   "metadata": {},
   "outputs": [
    {
     "data": {
      "text/plain": [
       "(1175, 29451)"
      ]
     },
     "execution_count": 39,
     "metadata": {},
     "output_type": "execute_result"
    }
   ],
   "source": [
    "def triangle(a, b, c):\n",
    "    s = sorted([a, b, c], reverse=True)\n",
    "    \n",
    "    if s[0] ** 2 < s[1] ** 2 + s[2] ** 2:\n",
    "        return True\n",
    "    return False\n",
    "\n",
    "triples = []\n",
    "\n",
    "for i in range(len(nums)-2):\n",
    "    if triangle(nums[i], nums[i+1], nums[i+2]):\n",
    "        triples.append(sum([nums[i], nums[i+1], nums[i+2]]))\n",
    "        \n",
    "len(triples), max(triples)"
   ]
  },
  {
   "cell_type": "code",
   "execution_count": 2,
   "metadata": {},
   "outputs": [
    {
     "data": {
      "text/plain": [
       "(10000, 9984)"
      ]
     },
     "execution_count": 2,
     "metadata": {},
     "output_type": "execute_result"
    }
   ],
   "source": [
    "nums = []\n",
    "maxim = 0\n",
    "\n",
    "with open('17-282.txt') as f:\n",
    "    for i in f.readlines():\n",
    "        if (int(i) % 13 == 0) and (int(i) > maxim):\n",
    "            maxim = int(i)\n",
    "        nums.append(int(i))\n",
    "\n",
    "len(nums), maxim"
   ]
  },
  {
   "cell_type": "code",
   "execution_count": 7,
   "metadata": {},
   "outputs": [
    {
     "data": {
      "text/plain": [
       "(4, 13248)"
      ]
     },
     "execution_count": 7,
     "metadata": {},
     "output_type": "execute_result"
    }
   ],
   "source": [
    "c = 0\n",
    "pairs = []\n",
    "for i in range(len(nums)-1):\n",
    "    if (nums[i] % maxim == 0) or (nums[i+1] % maxim == 0):\n",
    "        pairs.append(nums[i] + nums[i+1])\n",
    "        c += 1\n",
    "c, min(pairs)"
   ]
  },
  {
   "cell_type": "code",
   "execution_count": 9,
   "metadata": {},
   "outputs": [
    {
     "data": {
      "text/plain": [
       "23419"
      ]
     },
     "execution_count": 9,
     "metadata": {},
     "output_type": "execute_result"
    }
   ],
   "source": [
    "nums = []\n",
    "max_n = 0\n",
    "with open(\"цифры ибаные.txt\") as f:\n",
    "    for i in f.readlines():\n",
    "        if str(int(i))[-2::] == \"19\":\n",
    "            if int(str(int(i))[-2::]) > max_n:\n",
    "                max_n = int(str(int(i)))\n",
    "        nums.append(int(i))\n",
    "\n",
    "max_n"
   ]
  },
  {
   "cell_type": "code",
   "execution_count": 14,
   "metadata": {},
   "outputs": [
    {
     "data": {
      "text/plain": [
       "(232, 115709)"
      ]
     },
     "execution_count": 14,
     "metadata": {},
     "output_type": "execute_result"
    }
   ],
   "source": [
    "count = []\n",
    "def check(numbers):\n",
    "    first = 0\n",
    "    second = 0\n",
    "    for i in numbers:\n",
    "        if i % 3 == 0:\n",
    "            second += 1\n",
    "        if 999 < i < 10000:\n",
    "            first += 1\n",
    "        if sum(numbers) > max_n and first == 2 and second > 0:\n",
    "            return True\n",
    "    return False\n",
    "    \n",
    "    \n",
    "\n",
    "for i in range(len(nums)-2):\n",
    "    if check([nums[i-1], nums[i], nums[i+1]]):\n",
    "        count.append(sum([nums[i-1], nums[i], nums[i+1]]))\n",
    "        \n",
    "len(count), max(count)"
   ]
  },
  {
   "cell_type": "code",
   "execution_count": 7,
   "metadata": {},
   "outputs": [],
   "source": [
    "f = open(\"17as.txt\")\n",
    "\n",
    "nums = [int(i) for i in f]\n"
   ]
  },
  {
   "cell_type": "code",
   "execution_count": 14,
   "metadata": {},
   "outputs": [
    {
     "name": "stdout",
     "output_type": "stream",
     "text": [
      "9082691\n",
      "4797990\n"
     ]
    }
   ],
   "source": [
    "c = 0\n",
    "pairs = []\n",
    "\n",
    "for i in range(len(nums)-1):\n",
    "    for j in range(i, len(nums)):\n",
    "        if (nums[i] + nums[j]) % 2 != 0 and (nums[i] * nums[j]) % 5 == 0:\n",
    "            pairs.append((nums[i], nums[j]))\n",
    "print(len(pairs)) \n",
    "pairs = set(pairs)\n",
    "print(len(pairs)) \n",
    "        "
   ]
  },
  {
   "cell_type": "code",
   "execution_count": 30,
   "metadata": {},
   "outputs": [
    {
     "name": "stdout",
     "output_type": "stream",
     "text": [
      "[4402, 72, 76, 10, 7]\n"
     ]
    },
    {
     "data": {
      "text/plain": [
       "1684"
      ]
     },
     "execution_count": 30,
     "metadata": {},
     "output_type": "execute_result"
    }
   ],
   "source": [
    "with open(\"59722.txt\") as f:\n",
    "    f = f.readlines()\n",
    "    nums = list(int(i) for i in f)\n",
    "\n",
    "max_match = 0\n",
    "\n",
    "for i in sorted(nums):\n",
    "    if i % 100 == 17:\n",
    "        max_match = i\n",
    "        \n",
    "print(nums[:5])\n",
    "        \n",
    "def check_triple(triple):\n",
    "    lengths = list(len(str(i)) for i in triple)\n",
    "    if lengths.count(3) == 1:\n",
    "        if sum(triple) < max_match:\n",
    "            return True\n",
    "    return False\n",
    "\n",
    "tripless = list()\n",
    "\n",
    "for i in range(len(nums)-2):\n",
    "    if check_triple([nums[i], nums[i+1], nums[i+2]]):\n",
    "        tripless.append([nums[i], nums[i+1], nums[i+2]])\n",
    "\n",
    "len(tripless)"
   ]
  },
  {
   "cell_type": "code",
   "execution_count": 9,
   "metadata": {},
   "outputs": [
    {
     "data": {
      "text/plain": [
       "(29, 7069)"
      ]
     },
     "execution_count": 9,
     "metadata": {},
     "output_type": "execute_result"
    }
   ],
   "source": [
    "with open('17var02.txt') as f:\n",
    "    f = f.readlines()\n",
    "    nums = list(int(i) for i in f)\n",
    "\n",
    "max_match = 0\n",
    "for i in sorted(nums):\n",
    "    if str(i)[-3:] == '100':\n",
    "        max_match = i\n",
    "\n",
    "def check_triple(trip):\n",
    "    trehznach = 0\n",
    "    for i in trip:\n",
    "        if len(str(i)) == 3:\n",
    "            trehznach += 1\n",
    "    if trehznach == 2:\n",
    "        if sum(trip) < max_match:\n",
    "            return True\n",
    "    return False\n",
    "c = 0\n",
    "triplets = []\n",
    "for i in range(len(nums)-2):\n",
    "    trip = [nums[i], nums[i+1], nums[i+2]]\n",
    "    if check_triple(trip):\n",
    "        c += 1\n",
    "        triplets.append(sum(trip))\n",
    "        \n",
    "c, max(triplets)"
   ]
  },
  {
   "cell_type": "code",
   "execution_count": 6,
   "metadata": {},
   "outputs": [
    {
     "data": {
      "text/plain": [
       "(40436496, 19999)"
      ]
     },
     "execution_count": 6,
     "metadata": {},
     "output_type": "execute_result"
    }
   ],
   "source": [
    "with open('17.txt') as f:\n",
    "    nums = list(int(i) for i in f)\n",
    "\n",
    "first_pairs = []\n",
    "\n",
    "\n",
    "for i in range(len(nums)-1):\n",
    "    for j in range(i+1, len(nums)):\n",
    "        if (nums[i] * nums[j]) % 14 != 0:\n",
    "            first_pairs.append(sum([nums[i], nums[j]]))\n",
    "\n",
    "len(first_pairs), max(first_pairs)\n"
   ]
  },
  {
   "cell_type": "code",
   "execution_count": 15,
   "metadata": {},
   "outputs": [
    {
     "data": {
      "text/plain": [
       "(966, -125385384)"
      ]
     },
     "execution_count": 15,
     "metadata": {},
     "output_type": "execute_result"
    }
   ],
   "source": [
    "with open(\"17 yandex.txt\") as f:\n",
    "    nums = [int(i) for i in f]\n",
    "    \n",
    "\n",
    "def sinco_check(s):\n",
    "    i = 0\n",
    "    if (s[i] + s[i+1]) > 0:\n",
    "        if (s[i+3] + s[i+4]) > 0:\n",
    "            if (s[i+2] + s[i+3]) > (s[i] + s[i+1]) and (s[i+2] + s[i+3]) > (s[i+4] + s[i+5]):\n",
    "                return s[i+2] * s[i+3]\n",
    "    return False\n",
    "\n",
    "\n",
    "count = 0\n",
    "минимал = 10 ** 8\n",
    "\n",
    "\n",
    "for i in range(len(nums)-6):\n",
    "    if sinco_check(nums[i:i+6]):\n",
    "        if минимал > sinco_check(nums[i:i+6]):\n",
    "            минимал = sinco_check(nums[i:i+6])\n",
    "        count += 1\n",
    "\n",
    "count, минимал"
   ]
  },
  {
   "cell_type": "code",
   "execution_count": 4,
   "metadata": {},
   "outputs": [
    {
     "data": {
      "text/plain": [
       "19999"
      ]
     },
     "execution_count": 4,
     "metadata": {},
     "output_type": "execute_result"
    }
   ],
   "source": [
    "with open('37344.txt') as f:\n",
    "    nums = [int(i) for i in f]\n",
    "    \n",
    "count = 0\n",
    "max_pair = 0\n",
    "    \n",
    "for i in range(len(nums)-1):\n",
    "    for j in range(i+1, len(nums)):\n",
    "        if (nums[i] * nums[j]) % 10 == 0:\n",
    "            count += 1\n",
    "            if max_pair < nums[i] + nums[j]:\n",
    "                max_pair = nums[i] + nums[j]\n",
    "                \n",
    "max_pair"
   ]
  },
  {
   "cell_type": "code",
   "execution_count": 5,
   "metadata": {},
   "outputs": [
    {
     "data": {
      "text/plain": [
       "13510315"
      ]
     },
     "execution_count": 5,
     "metadata": {},
     "output_type": "execute_result"
    }
   ],
   "source": [
    "count"
   ]
  },
  {
   "cell_type": "code",
   "execution_count": 15,
   "metadata": {},
   "outputs": [
    {
     "data": {
      "text/plain": [
       "(355, 99033293, -9983)"
      ]
     },
     "execution_count": 15,
     "metadata": {},
     "output_type": "execute_result"
    }
   ],
   "source": [
    "with open('52188.txt') as f:\n",
    "    nums = [int(i) for i in f]\n",
    "    \n",
    "min_el = 10 ** 6\n",
    "\n",
    "for n in nums:\n",
    "    if abs(n) % 10 == 3:\n",
    "        if min_el > n:\n",
    "            min_el = n\n",
    "            \n",
    "\n",
    "c = 0\n",
    "max_sum = 0\n",
    "    \n",
    "for i in range(len(nums)-1):\n",
    "    a = nums[i]\n",
    "    b = nums[i+1]\n",
    "    \n",
    "    if abs(min(a, b)) % 10 == 3:\n",
    "        if (a ** 2 + b ** 2) < (min_el ** 2):\n",
    "            c += 1\n",
    "            if max_sum < (a ** 2 + b ** 2):\n",
    "                max_sum = (a ** 2 + b ** 2)\n",
    "                \n",
    "            \n",
    "c, max_sum, min_el"
   ]
  },
  {
   "cell_type": "code",
   "execution_count": 8,
   "metadata": {},
   "outputs": [
    {
     "data": {
      "text/plain": [
       "(99805561, 403)"
      ]
     },
     "execution_count": 8,
     "metadata": {},
     "output_type": "execute_result"
    }
   ],
   "source": [
    "with open('51986.txt') as f:\n",
    "    nums = [int(i) for i in f]\n",
    "    \n",
    "c = 0\n",
    "max_m = 0\n",
    "    \n",
    "min_5 = min(filter(lambda x: abs(x) % 10 == 5, nums))\n",
    "    \n",
    "for i in range(len(nums)-1):\n",
    "    a = nums[i]\n",
    "    b = nums[i+1]\n",
    "    \n",
    "    if abs(min(a, b)) % 10 == 5:\n",
    "        if a ** 2 + b ** 2 < min_5 ** 2:\n",
    "            c += 1\n",
    "            if max_m < a ** 2 + b ** 2:\n",
    "                max_m = a ** 2 + b ** 2\n",
    "        \n",
    "max_m, c"
   ]
  }
 ],
 "metadata": {
  "kernelspec": {
   "display_name": "venv",
   "language": "python",
   "name": "python3"
  },
  "language_info": {
   "codemirror_mode": {
    "name": "ipython",
    "version": 3
   },
   "file_extension": ".py",
   "mimetype": "text/x-python",
   "name": "python",
   "nbconvert_exporter": "python",
   "pygments_lexer": "ipython3",
   "version": "3.11.4"
  }
 },
 "nbformat": 4,
 "nbformat_minor": 2
}
