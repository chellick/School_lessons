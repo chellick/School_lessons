{
 "cells": [
  {
   "cell_type": "code",
   "execution_count": 4,
   "metadata": {},
   "outputs": [
    {
     "data": {
      "text/plain": [
       "169"
      ]
     },
     "execution_count": 4,
     "metadata": {},
     "output_type": "execute_result"
    }
   ],
   "source": [
    "def f(start, stop):\n",
    "    if start == stop: return 1\n",
    "    if start > stop: return 0\n",
    "    return f(start + 1, stop) + f(start + 3, stop)\n",
    "\n",
    "f(1, 9) * f(9, 17)"
   ]
  },
  {
   "cell_type": "code",
   "execution_count": 6,
   "metadata": {},
   "outputs": [
    {
     "data": {
      "text/plain": [
       "1936"
      ]
     },
     "execution_count": 6,
     "metadata": {},
     "output_type": "execute_result"
    }
   ],
   "source": [
    "def f(start, stop):\n",
    "    if start == stop: return 1\n",
    "    if start > stop: return 0\n",
    "    return sum(f(start+i, stop) for i in (1, 2, 3))\n",
    "\n",
    "f(1, 8) * f(8, 15)\n"
   ]
  },
  {
   "cell_type": "code",
   "execution_count": 7,
   "metadata": {},
   "outputs": [
    {
     "data": {
      "text/plain": [
       "96"
      ]
     },
     "execution_count": 7,
     "metadata": {},
     "output_type": "execute_result"
    }
   ],
   "source": [
    "def f(start, stop):\n",
    "    if start == stop: return 1\n",
    "    if start > stop: return 0\n",
    "    return f(start+1, stop) + f(start*2, stop) + f(start+3, stop)\n",
    "\n",
    "f(3, 12) * f(12, 16)\n"
   ]
  },
  {
   "cell_type": "code",
   "execution_count": 41,
   "metadata": {},
   "outputs": [
    {
     "data": {
      "text/plain": [
       "11"
      ]
     },
     "execution_count": 41,
     "metadata": {},
     "output_type": "execute_result"
    }
   ],
   "source": [
    "s = set()\n",
    "\n",
    "def f(start, counter):\n",
    "    if (34 <= start <= 59) and (counter == 6):\n",
    "        s.add(start)\n",
    "        return 1\n",
    "    if counter > 6: \n",
    "        return 0\n",
    "    return f(start+1, counter+1) + f(start+2, counter+1) + f(start*2, counter+1)\n",
    "\n",
    "f(1, 0)\n",
    "len(s)"
   ]
  },
  {
   "cell_type": "code",
   "execution_count": 55,
   "metadata": {},
   "outputs": [],
   "source": [
    "from functools import lru_cache"
   ]
  },
  {
   "cell_type": "code",
   "execution_count": 56,
   "metadata": {},
   "outputs": [
    {
     "data": {
      "text/plain": [
       "(25165824, 1091793)"
      ]
     },
     "execution_count": 56,
     "metadata": {},
     "output_type": "execute_result"
    }
   ],
   "source": [
    "s = set()\n",
    "\n",
    "@lru_cache()\n",
    "def f(start, counter, state=''):\n",
    "    if 'AA' in state or 'BB' in state or 'CC' in state:\n",
    "        return 0\n",
    "    elif counter == 24:\n",
    "        s.add(start)\n",
    "        return 1\n",
    "    return f(start+1, counter+1, state + 'A') + f(start+7, counter+1, state +'B') + f(start*4, counter+1, state +'C')\n",
    "\n",
    "f(1, 0), len(s)"
   ]
  },
  {
   "cell_type": "code",
   "execution_count": 72,
   "metadata": {},
   "outputs": [
    {
     "data": {
      "text/plain": [
       "(0, 22)"
      ]
     },
     "execution_count": 72,
     "metadata": {},
     "output_type": "execute_result"
    }
   ],
   "source": [
    "l = []\n",
    "def f(start, counter):\n",
    "    l.append(start)\n",
    "    if counter == 3:\n",
    "        return 0\n",
    "        \n",
    "    return f(start+1, counter+1) + f(start+2, counter+1) + f(start*3, counter+1)\n",
    "\n",
    "f(4, 0), len([i for i in l if i % 2 == 0])"
   ]
  },
  {
   "cell_type": "code",
   "execution_count": 80,
   "metadata": {},
   "outputs": [],
   "source": [
    "import sys\n",
    "sys.setrecursionlimit(10**5)"
   ]
  },
  {
   "cell_type": "code",
   "execution_count": 19,
   "metadata": {},
   "outputs": [
    {
     "data": {
      "text/plain": [
       "262"
      ]
     },
     "execution_count": 19,
     "metadata": {},
     "output_type": "execute_result"
    }
   ],
   "source": [
    "def f(start, stop):\n",
    "    if start == stop: return 1\n",
    "    if start > stop: return 0\n",
    "    \n",
    "    if start == 0:\n",
    "        return f(start+3, stop)\n",
    "        \n",
    "    if start < 0:\n",
    "        return f(start**2, stop) + f(start+3, stop) \n",
    "    \n",
    "    if start == 1:\n",
    "        return f(start*2, stop) + f(start+3, stop)\n",
    "\n",
    "    return f(start**2, stop) + f(start*2, stop) + f(start+3, stop)\n",
    "\n",
    "c = 0\n",
    "for n in range(-20, 21):\n",
    "    c += f(n, 20)"
   ]
  },
  {
   "cell_type": "code",
   "execution_count": 24,
   "metadata": {},
   "outputs": [
    {
     "data": {
      "text/plain": [
       "4197234"
      ]
     },
     "execution_count": 24,
     "metadata": {},
     "output_type": "execute_result"
    }
   ],
   "source": [
    "def f(start, stop, counter=0):\n",
    "    if start % 2 == 0:\n",
    "        counter += 1\n",
    "        \n",
    "    if counter <= 15:\n",
    "        if start == stop: return 1\n",
    "        if start > stop: return 0\n",
    "    else:\n",
    "        return 0\n",
    "    return f(start+2 , stop, counter) + f(start+3, stop, counter) + f(start*2 + 1, stop, counter)\n",
    "f(1, 55)"
   ]
  },
  {
   "cell_type": "code",
   "execution_count": 30,
   "metadata": {},
   "outputs": [
    {
     "data": {
      "text/plain": [
       "213"
      ]
     },
     "execution_count": 30,
     "metadata": {},
     "output_type": "execute_result"
    }
   ],
   "source": [
    "def f(start, stop, state):\n",
    "    if start == stop: return 1\n",
    "    if start > stop: return 0\n",
    "    if 'CC' in state:\n",
    "        return 0\n",
    "    return (\n",
    "        f(start+1, stop, state + 'A') +\n",
    "        f(start+2, stop, state + 'B') + \n",
    "        f(start*2, stop, state + 'C')\n",
    "    )\n",
    "\n",
    "f(1, 11, '')"
   ]
  },
  {
   "cell_type": "code",
   "execution_count": 3,
   "metadata": {},
   "outputs": [
    {
     "data": {
      "text/plain": [
       "6"
      ]
     },
     "execution_count": 3,
     "metadata": {},
     "output_type": "execute_result"
    }
   ],
   "source": [
    "def f(start, stop):\n",
    "    if (start > stop) or (start == 13):\n",
    "        return 0\n",
    "    if start == stop:\n",
    "        return 1\n",
    "    \n",
    "    return f(start+1, stop) + f(start*2, stop) + f(start*3, stop)\n",
    "\n",
    "f(3, 8) * f(8, 18)"
   ]
  },
  {
   "cell_type": "code",
   "execution_count": 1,
   "metadata": {},
   "outputs": [
    {
     "data": {
      "text/plain": [
       "21"
      ]
     },
     "execution_count": 1,
     "metadata": {},
     "output_type": "execute_result"
    }
   ],
   "source": [
    "def f(start, stop):\n",
    "    if start > stop or start == 12: return 0\n",
    "    if start == stop: return 1\n",
    "    return f(start+1, stop) + f(start*2, stop) + f(start**2, stop)\n",
    "\n",
    "f(3, 25)"
   ]
  },
  {
   "cell_type": "code",
   "execution_count": 2,
   "metadata": {},
   "outputs": [
    {
     "data": {
      "text/plain": [
       "120"
      ]
     },
     "execution_count": 2,
     "metadata": {},
     "output_type": "execute_result"
    }
   ],
   "source": [
    "def f(start, stop):\n",
    "    if start > stop or start == 14: return 0\n",
    "    if start == stop: return 1\n",
    "    return f(start+1, stop) + f(start+2, stop) + f(start*3, stop)\n",
    "\n",
    "f(2, 10) * f(10, 15)"
   ]
  },
  {
   "cell_type": "code",
   "execution_count": 4,
   "metadata": {},
   "outputs": [
    {
     "data": {
      "text/plain": [
       "37"
      ]
     },
     "execution_count": 4,
     "metadata": {},
     "output_type": "execute_result"
    }
   ],
   "source": [
    "def f(start, stop):\n",
    "    if start == stop: return 1\n",
    "    elif start > stop or start == 11: return 0\n",
    "    return f(start+1, stop) + f(start*2, stop) + f(start**2, stop)\n",
    "\n",
    "f(2, 20)\n"
   ]
  }
 ],
 "metadata": {
  "kernelspec": {
   "display_name": "venv",
   "language": "python",
   "name": "python3"
  },
  "language_info": {
   "codemirror_mode": {
    "name": "ipython",
    "version": 3
   },
   "file_extension": ".py",
   "mimetype": "text/x-python",
   "name": "python",
   "nbconvert_exporter": "python",
   "pygments_lexer": "ipython3",
   "version": "3.11.4"
  }
 },
 "nbformat": 4,
 "nbformat_minor": 2
}
