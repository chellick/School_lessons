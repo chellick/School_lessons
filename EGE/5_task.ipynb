{
 "cells": [
  {
   "cell_type": "code",
   "execution_count": null,
   "metadata": {},
   "outputs": [],
   "source": [
    "def algo(n):\n",
    "    bin_n = bin(n)[2:]\n",
    "    bin_n += bin(n % 3)[2:4].zfill(2)\n",
    "    bin_n += bin(int(bin_n, 2) % 5)[2:5].zfill(3)\n",
    "    return int(bin_n, 2)\n",
    "\n",
    "\n",
    "c = 0\n",
    "\n",
    "for n in range(38000000, 49000000):\n",
    "    if 1222222222 <= algo(n) <= 1555555666:\n",
    "        c+=1\n",
    "        \n",
    "print(c)"
   ]
  },
  {
   "cell_type": "code",
   "execution_count": null,
   "metadata": {},
   "outputs": [],
   "source": [
    "def algo(n):\n",
    "    n = [int(i) for i in str(n)]\n",
    "    n = [bin(i)[2:].zfill(4) for i in n]\n",
    "    m = []\n",
    "    for i in \"\".join(n):\n",
    "        if i == \"0\":\n",
    "            m.append(\"1\")\n",
    "        else:\n",
    "            m.append(\"0\")\n",
    "            \n",
    "    return int(\"\".join(m), 2)\n",
    "\n",
    "for n in range(1, 1000):\n",
    "    if algo(n) == 151:\n",
    "        print(n)\n",
    "        break"
   ]
  },
  {
   "cell_type": "code",
   "execution_count": null,
   "metadata": {},
   "outputs": [],
   "source": [
    "def algo(n):\n",
    "    n = list(sorted([int(i) for i in str(n)], reverse=True))\n",
    "    num = int(str(n[0]) + str(n[1])) - int(str(n[-1]) + str(n[-2]))\n",
    "    return num\n",
    "\n",
    "\n",
    "c = 0\n",
    "for i in range(800, 901):\n",
    "    if algo(i) == 30:\n",
    "        c += 1\n",
    "        \n",
    "print(c)"
   ]
  },
  {
   "cell_type": "code",
   "execution_count": null,
   "metadata": {},
   "outputs": [],
   "source": [
    "def algo(n):\n",
    "    n = [int(i) for i in str(n)]\n",
    "    num1 = n[0] + n[1]\n",
    "    num2 = n[1] + n[2]\n",
    "    num3 = n[2] + n[3]\n",
    "    r  = \"\".join(sorted([str(num1), str(num2), str(num3)])[1:])\n",
    "    \n",
    "    return int(r)\n",
    "\n",
    "print(algo(1000))\n",
    "\n",
    "for n in range(10000, 999, -1):\n",
    "    r = algo(n)\n",
    "    if r == 1517:\n",
    "        print(n)\n",
    "        \n",
    "# print(algo(9575))\n"
   ]
  },
  {
   "cell_type": "code",
   "execution_count": null,
   "metadata": {},
   "outputs": [],
   "source": [
    "def algo(n):\n",
    "    r = bin(n)[2:]\n",
    "    if r.count(\"1\") % 2 == 0:\n",
    "        r = '1' + r + '00'\n",
    "    else:\n",
    "        r = '11' + r\n",
    "    return int(r, 2)\n",
    "\n",
    "print(algo(13), algo(12))\n",
    "\n",
    "minimum = 100000\n",
    "for n in range(1, 1000):\n",
    "    r = algo(n)\n",
    "    if r >= 412:\n",
    "        if minimum > n:\n",
    "            minimum = n\n",
    "            print(n, r)\n",
    "print(minimum)"
   ]
  },
  {
   "cell_type": "code",
   "execution_count": null,
   "metadata": {},
   "outputs": [],
   "source": [
    "def algo(n):\n",
    "    r = bin(n)[2:].zfill(8)\n",
    "    r = r[:2] + r[-2:]\n",
    "    return int(r, 2)\n",
    "\n",
    "for n in range(131, 1000):\n",
    "    if algo(n) == 10:\n",
    "        print(n, algo(n))\n",
    "        break"
   ]
  },
  {
   "cell_type": "code",
   "execution_count": null,
   "metadata": {},
   "outputs": [],
   "source": [
    "def algo(n):\n",
    "    r = bin(n)[2:]\n",
    "    if n % 4 == 0:\n",
    "        r += r[-2:]\n",
    "    \n",
    "    else:\n",
    "        r = bin((n % 4) * 2)[2:] + r\n",
    "    return int(r, 2)\n",
    " \n",
    "for n in range(3, 1000):\n",
    "    r = algo(n)\n",
    "    if r < 68:\n",
    "\n",
    "        print(n)"
   ]
  },
  {
   "cell_type": "code",
   "execution_count": null,
   "metadata": {},
   "outputs": [],
   "source": [
    "for n in range(4, 1000):\n",
    "    \n",
    "    s = bin(n)[2:] # перевод в двоичную систему\n",
    "    if n % 3 == 0:\n",
    "        s += bin(n)[-3:]\n",
    "    else:\n",
    "        s += bin((n%3)*3)[2:]\n",
    "    r = int(s,2)\n",
    "    \n",
    "    if r < 170 and r > maxi:\n",
    "        maxi = r\n",
    "        print(n)\n",
    "print(maxi)\n"
   ]
  },
  {
   "cell_type": "code",
   "execution_count": null,
   "metadata": {},
   "outputs": [],
   "source": [
    "def algo(n):\n",
    "    bin_n = bin(n)[2:]\n",
    "    if n % 3 == 0:\n",
    "        bin_n += bin_n[-3:]\n",
    "    else:\n",
    "        bin_n += bin((n%3)*3)[2:]\n",
    "    return int(bin_n, 2)\n",
    "\n",
    "\n",
    "for i in range(4, 1000):\n",
    "    if algo(i) <= 170:\n",
    "        print(i , algo(i))\n",
    "\n",
    "maxi = 0"
   ]
  },
  {
   "cell_type": "code",
   "execution_count": null,
   "metadata": {},
   "outputs": [],
   "source": [
    "import itertools\n",
    "\n",
    "\n",
    "def is_prime(num):\n",
    "    for i in range(2, num):\n",
    "        if num % i == 0:\n",
    "            return False\n",
    "    return True\n",
    "\n",
    "def double(num):\n",
    "    listik = itertools.permutations(str(num), 2)\n",
    "    result = set(int(''.join(i)) for i in listik)\n",
    "    return result\n",
    "\n",
    "max_n = 0\n",
    "max_primes = 0\n",
    "\n",
    "\n",
    "for n in range(100, 1000):\n",
    "    temp_max_primes = 0 \n",
    "    for i in double(n):\n",
    "        temp_max_primes += is_prime(i)\n",
    "    if temp_max_primes >= max_primes:\n",
    "        max_primes = temp_max_primes\n",
    "        max_n = n\n",
    "        \n",
    "\n",
    "print(max_n, max_primes)"
   ]
  },
  {
   "cell_type": "code",
   "execution_count": null,
   "metadata": {},
   "outputs": [],
   "source": [
    "for i in range(100, 1000):\n",
    "    i = str(i)\n",
    "    l = []\n",
    "    l.append(int(i[0]) + int(i[1]))\n",
    "    l.append(int(i[1]) + int(i[2]))\n",
    "    \n",
    "    l = sorted(l, reverse=True)\n",
    "    summa = str(l[0]) + str(l[1])\n",
    "    \n",
    "    if summa == '1711':\n",
    "        print(i)"
   ]
  },
  {
   "cell_type": "code",
   "execution_count": null,
   "metadata": {},
   "outputs": [],
   "source": [
    "for i in range(1000, 10000):\n",
    "    i = str(i)\n",
    "    l = []\n",
    "    l.append(int(i[0]) + int(i[1]))\n",
    "    l.append(int(i[1]) + int(i[2]))\n",
    "    l.append(int(i[2]) + int(i[3]))\n",
    "    \n",
    "    l = sorted(l)\n",
    "    \n",
    "    summa = str(l[1]) + str(l[2])\n",
    "    \n",
    "    if summa == '1215':\n",
    "        print(i)"
   ]
  },
  {
   "cell_type": "code",
   "execution_count": null,
   "metadata": {},
   "outputs": [],
   "source": [
    "for n in range(1, 1000):\n",
    "    bin_n = bin(n)[2:]\n",
    "    \n",
    "    if n % 3 == 0:\n",
    "        bin_n += bin_n[-3:]\n",
    "        \n",
    "    else:\n",
    "        bin_n += bin(n % 3 * 3)[2:]\n",
    "        \n",
    "\n",
    "    r = int(bin_n, 2)\n",
    "    \n",
    "    if r >= 76:\n",
    "        print(n)\n",
    "        break"
   ]
  },
  {
   "cell_type": "code",
   "execution_count": null,
   "metadata": {},
   "outputs": [],
   "source": [
    "for n in range(1, 1000):\n",
    "    bin_n = bin(n)[2:]\n",
    "\n",
    "    if n % 3 == 0:\n",
    "        bin_n += bin_n[-3:] \n",
    "        \n",
    "    elif n % 3:\n",
    "        bin_n += bin(n % 3 * 3)[2:]\n",
    "\n",
    "    r = int(bin_n, 2)\n",
    "\n",
    "    if r < 100:\n",
    "        print(n, r)"
   ]
  },
  {
   "cell_type": "code",
   "execution_count": null,
   "metadata": {},
   "outputs": [],
   "source": [
    "for n in range(1, 1000):\n",
    "        \n",
    "    bin_n = bin(n)[2:]\n",
    "\n",
    "    if n % 2 == 0:\n",
    "        bin_n = '10' + bin_n\n",
    "\n",
    "    elif n % 2 == 1:\n",
    "        bin_n = '1' + bin_n + '01'\n",
    "        \n",
    "    r = int(bin_n, 2)\n",
    "    \n",
    "    if r > 441:\n",
    "        print(n)\n",
    "        break"
   ]
  },
  {
   "cell_type": "code",
   "execution_count": null,
   "metadata": {},
   "outputs": [],
   "source": [
    "for n in range(1, 1000):\n",
    "    bin_n = bin(n)[2:]\n",
    "\n",
    "    if bin_n.count('1') % 2 == 0:\n",
    "        bin_n += '00'\n",
    "\n",
    "    elif bin_n.count('1') % 2 == 1:\n",
    "        bin_n += '11'\n",
    "\n",
    "    r = int(bin_n, 2)\n",
    "    \n",
    "    if r > 114:\n",
    "        print(r)\n",
    "        break"
   ]
  },
  {
   "cell_type": "code",
   "execution_count": null,
   "metadata": {},
   "outputs": [],
   "source": [
    "for n in range(1, 1000):\n",
    "    bin_n = bin(n)[2:]\n",
    "    for i in range(2):        \n",
    "        summa = bin_n.count('1')\n",
    "        bin_n += str(summa % 2)\n",
    "    \n",
    "    \n",
    "    r = int(bin_n, 2)\n",
    "    if r > 43:\n",
    "        print(r)\n",
    "        break"
   ]
  },
  {
   "cell_type": "code",
   "execution_count": 2,
   "metadata": {},
   "outputs": [
    {
     "name": "stdout",
     "output_type": "stream",
     "text": [
      "86\n"
     ]
    }
   ],
   "source": [
    "def algo(n):\n",
    "    r = bin(n)[2:]\n",
    "    r += str(r.count(\"1\") % 2)\n",
    "    r += str(r.count(\"1\") % 2)\n",
    "    return int(r, 2)\n",
    "\n",
    "mini = 10 ** 6\n",
    "for n in range(1, 1000):\n",
    "    if algo(n) > 80:\n",
    "        if algo(n) < mini:\n",
    "            mini = algo(n)\n",
    "            \n",
    "print(mini)\n",
    "    "
   ]
  },
  {
   "cell_type": "code",
   "execution_count": 5,
   "metadata": {},
   "outputs": [
    {
     "data": {
      "text/plain": [
       "86"
      ]
     },
     "execution_count": 5,
     "metadata": {},
     "output_type": "execute_result"
    }
   ],
   "source": [
    "def alco(n):\n",
    "    r = bin(n)[2:]\n",
    "    if n % 2 == 0:\n",
    "        r += '01'\n",
    "    else:\n",
    "        r += '10'\n",
    "    return int(r, 2)\n",
    "\n",
    "mini = 10**6\n",
    "\n",
    "for n in range(1, 1000):\n",
    "    r = algo(n)\n",
    "    if r > 81:\n",
    "        if r < mini:\n",
    "            mini = r\n",
    "            \n",
    "mini\n",
    "        "
   ]
  },
  {
   "cell_type": "code",
   "execution_count": 7,
   "metadata": {},
   "outputs": [
    {
     "name": "stdout",
     "output_type": "stream",
     "text": [
      "17\n"
     ]
    },
    {
     "data": {
      "text/plain": [
       "1000000"
      ]
     },
     "execution_count": 7,
     "metadata": {},
     "output_type": "execute_result"
    }
   ],
   "source": [
    "def algo(n):\n",
    "    r = bin(n)[2:]\n",
    "    r += r[-1]\n",
    "    if r.count('1') % 2 == 0:\n",
    "        r += '0'\n",
    "    else:\n",
    "        r += '1'\n",
    "    if r.count('1') % 2 == 0:\n",
    "        r += '0'\n",
    "    else:\n",
    "        r += '1'\n",
    "    return int(r, 2)\n",
    "\n",
    "mini = 10**6\n",
    "\n",
    "for n in range(1, 1000):\n",
    "    if algo(n) > 130:\n",
    "        print(n)\n",
    "        break\n",
    "\n",
    "mini\n",
    "    "
   ]
  },
  {
   "cell_type": "code",
   "execution_count": 11,
   "metadata": {},
   "outputs": [
    {
     "name": "stdout",
     "output_type": "stream",
     "text": [
      "19 156\n"
     ]
    }
   ],
   "source": [
    "def algo(n):\n",
    "    r = bin(n)[2:]\n",
    "    r += r[-1]\n",
    "    if r.count('1') % 2 == 0:\n",
    "        r += '0'\n",
    "    else: \n",
    "        r += '1'\n",
    "    if r.count('1') % 2 == 0:\n",
    "        r += '0'\n",
    "    else: \n",
    "        r += '1'\n",
    "    return int(r, 2)\n",
    "\n",
    "for n in range(1, 1000):\n",
    "    if algo(n) > 144:\n",
    "        print(n, algo(n))\n",
    "        break\n",
    "    \n",
    "    "
   ]
  },
  {
   "cell_type": "code",
   "execution_count": null,
   "metadata": {},
   "outputs": [],
   "source": [
    "def algo(n):\n",
    "    r = bin(n)[2:]\n",
    "    if n % 5 == 0:\n",
    "        r += bin(5)[2:]\n",
    "    else:\n",
    "        r += '1'\n",
    "    if int(r, 2) % 7 == 0:\n",
    "        r += bin(7)[2:]\n",
    "    else:\n",
    "        r += '1'\n",
    "\n",
    "    return int(r, 2)\n",
    "\n",
    "for n in range(1000000):\n",
    "    if algo(n) < 1728404:\n",
    "        print(n, algo(n))\n",
    "    \n",
    "        \n",
    "    "
   ]
  },
  {
   "cell_type": "code",
   "execution_count": 9,
   "metadata": {},
   "outputs": [
    {
     "data": {
      "text/plain": [
       "58"
      ]
     },
     "execution_count": 9,
     "metadata": {},
     "output_type": "execute_result"
    }
   ],
   "source": [
    "def algo(n):\n",
    "    r = bin(n)[2:]\n",
    "    r += str(r.count('1') % 2)\n",
    "    r += str(r.count('1') % 2)\n",
    "    return int(r, 2)\n",
    "\n",
    "rs = []\n",
    "algo(28)\n",
    "\n",
    "for n in range(1000):\n",
    "    if algo(n) > 55:\n",
    "        rs.append(algo(n))\n",
    "        \n",
    "min(rs)"
   ]
  },
  {
   "cell_type": "code",
   "execution_count": 14,
   "metadata": {},
   "outputs": [
    {
     "name": "stdout",
     "output_type": "stream",
     "text": [
      "1\n",
      "2\n",
      "3\n",
      "4\n",
      "5\n",
      "6\n",
      "7\n",
      "8\n",
      "9\n",
      "10\n",
      "11\n",
      "12\n",
      "13\n",
      "14\n",
      "15\n",
      "16\n",
      "17\n",
      "18\n",
      "19\n",
      "20\n",
      "21\n",
      "22\n",
      "25\n",
      "29\n",
      "33\n",
      "37\n",
      "41\n",
      "45\n",
      "49\n",
      "53\n",
      "57\n",
      "61\n",
      "65\n",
      "69\n",
      "73\n",
      "77\n",
      "81\n",
      "85\n",
      "89\n"
     ]
    }
   ],
   "source": [
    "def to_any_base(num, base):\n",
    "    output = ''\n",
    "    while num > 0:\n",
    "        output += str(num % base)\n",
    "        num = num // base\n",
    "    return \"\".join(reversed(output))\n",
    "\n",
    "# to_any_base(10, 2)\n",
    "\n",
    "def algo(n):\n",
    "    r = to_any_base(n, 4)\n",
    "    if n % 4 == 0:\n",
    "        r += r[-2] + r[-1]\n",
    "    else:\n",
    "        r += to_any_base(n % 4 * 2, 4)\n",
    "    \n",
    "    return int(r, 4)\n",
    "\n",
    "for n in range(1, 10000):\n",
    "    if algo(n) < 369:\n",
    "        print(n)\n",
    "    \n",
    "        "
   ]
  },
  {
   "cell_type": "markdown",
   "metadata": {},
   "source": [
    "33600\n",
    "240 * 1890\n",
    "8 * 8 = 2 ** 6\n",
    "\n"
   ]
  },
  {
   "cell_type": "code",
   "execution_count": 16,
   "metadata": {},
   "outputs": [
    {
     "data": {
      "text/plain": [
       "864.0"
      ]
     },
     "execution_count": 16,
     "metadata": {},
     "output_type": "execute_result"
    }
   ],
   "source": [
    "1890 * 240 * 2**6 / 33600"
   ]
  },
  {
   "cell_type": "code",
   "execution_count": 20,
   "metadata": {},
   "outputs": [
    {
     "name": "stdout",
     "output_type": "stream",
     "text": [
      "237\n"
     ]
    }
   ],
   "source": [
    "def algo(n):\n",
    "    r = str(n)\n",
    "    b1 = int(r[0]) * int(r[1])\n",
    "    b2 = int(r[1]) * int(r[2])\n",
    "    m = sorted([b1, b2])\n",
    "    s = \"\".join([str(i) for i in m])\n",
    "    return s \n",
    "\n",
    "for n in range(100, 1000):\n",
    "    if algo(n) == '621':\n",
    "        print(n)\n",
    "        break\n"
   ]
  },
  {
   "cell_type": "code",
   "execution_count": 3,
   "metadata": {},
   "outputs": [
    {
     "name": "stdout",
     "output_type": "stream",
     "text": [
      "151\n"
     ]
    }
   ],
   "source": [
    "def to_tri(num):\n",
    "  result = ''\n",
    "  while num > 0:\n",
    "    result += str(num % 3)\n",
    "    num = num // 3\n",
    "  return \"\".join(reversed(result))\n",
    "  \n",
    "\n",
    "def algo(n):\n",
    "  r = to_tri(n)\n",
    "  if len(r) % 2 != 0:\n",
    "    r = '1' + r\n",
    "  if sum([int(i) for i in r]) % 2 == 0:\n",
    "    r += r[0] + r[1]\n",
    "  else:\n",
    "    r += to_tri(n%5)\n",
    "\n",
    "  if r[0] == '2':\n",
    "    r = r[1:] \n",
    "  if r[-1] == r[-2]:\n",
    "    r = r[:-1]\n",
    "  return int(r, 3)\n",
    "\n",
    "\n",
    "# print(algo(14))\n",
    "\n",
    "rs = []\n",
    "for n in range(1, 1000):\n",
    "  if algo(n) > 150:\n",
    "    rs.append(algo(n))\n",
    "\n",
    "print(min(rs))\n",
    "\n",
    "\n",
    "\n"
   ]
  },
  {
   "cell_type": "code",
   "execution_count": null,
   "metadata": {},
   "outputs": [],
   "source": [
    "4мб = 2 * глубина код * частота\n",
    "\n",
    "xмб = 1 * частота / 2 глубина код * 1.5\n"
   ]
  },
  {
   "cell_type": "code",
   "execution_count": 8,
   "metadata": {},
   "outputs": [
    {
     "data": {
      "text/plain": [
       "31956601.904761907"
      ]
     },
     "execution_count": 8,
     "metadata": {},
     "output_type": "execute_result"
    }
   ],
   "source": [
    "4 * 1024 * 1024 / 1.4 * 2 / 1.5 * 8"
   ]
  },
  {
   "cell_type": "markdown",
   "metadata": {},
   "source": [
    "2 * глубина код * частота = 1 * (частота/2) (глубина код*1.5) * 1.4\n",
    "\n",
    "2 * глубина код * частота = 4мб\n",
    "\n",
    "31956602 / 5040"
   ]
  },
  {
   "cell_type": "code",
   "execution_count": 9,
   "metadata": {},
   "outputs": [
    {
     "data": {
      "text/plain": [
       "6340.595634920635"
      ]
     },
     "execution_count": 9,
     "metadata": {},
     "output_type": "execute_result"
    }
   ],
   "source": [
    "31956602 / 5040"
   ]
  },
  {
   "cell_type": "code",
   "execution_count": 1,
   "metadata": {},
   "outputs": [
    {
     "name": "stdout",
     "output_type": "stream",
     "text": [
      "1\n",
      "2\n",
      "3\n",
      "4\n",
      "5\n",
      "6\n",
      "7\n",
      "8\n",
      "9\n",
      "10\n",
      "11\n",
      "12\n",
      "13\n",
      "14\n",
      "15\n",
      "16\n",
      "17\n",
      "18\n",
      "20\n",
      "22\n",
      "24\n"
     ]
    }
   ],
   "source": [
    "def algo(n):\n",
    "    r = bin(n)[2:]\n",
    "    if n % 2 == 0:\n",
    "        r += r[-2] + r[-1]\n",
    "    else:\n",
    "        r = '1' + r + '0'\n",
    "    return int(r, 2)\n",
    "\n",
    "for n in range(1, 10000):\n",
    "    if algo(n) < 100:\n",
    "        print(n)"
   ]
  },
  {
   "cell_type": "code",
   "execution_count": 7,
   "metadata": {},
   "outputs": [
    {
     "data": {
      "text/plain": [
       "148"
      ]
     },
     "execution_count": 7,
     "metadata": {},
     "output_type": "execute_result"
    }
   ],
   "source": [
    "def algo(n):\n",
    "    r = bin(n)[2:]\n",
    "    if n % 3 == 0:\n",
    "        r = r.replace('0', '11')\n",
    "    else:\n",
    "        r = r.replace('1', '10')\n",
    "    \n",
    "    return int(r, 2)\n",
    "\n",
    "max_r = 0\n",
    "\n",
    "for n in range(1, 1000):\n",
    "    if algo(n) < 161:\n",
    "        if max_r < algo(n):\n",
    "            max_r = algo(n) \n",
    "max_r"
   ]
  },
  {
   "cell_type": "code",
   "execution_count": 11,
   "metadata": {},
   "outputs": [
    {
     "name": "stdout",
     "output_type": "stream",
     "text": [
      "100\n"
     ]
    }
   ],
   "source": [
    "def to_any(num, base):\n",
    "    res = ''\n",
    "    while num > 0:\n",
    "        res += str(num % base)\n",
    "        num = num // base\n",
    "    \n",
    "    res = reversed(res)\n",
    "    return \"\".join(res)\n",
    "\n",
    "def algo(n):\n",
    "    r = to_any(n, 5)\n",
    "    if n % 25 == 0:\n",
    "        r = r + r[-3] + r[-2] + r[1]\n",
    "    else:\n",
    "        r = r + to_any(n%25, 5)\n",
    "    return int(r, 5)\n",
    "\n",
    "for n in range(1, 1000):\n",
    "    if algo(n) > 10000:\n",
    "        print(n)\n",
    "        break"
   ]
  },
  {
   "cell_type": "code",
   "execution_count": null,
   "metadata": {},
   "outputs": [],
   "source": [
    "def algo(n):\n",
    "    s = str(n)\n",
    "    r = bin(n)[2:]\n",
    "    \n",
    "    if sum([int(i) for i in s]) % 2 == 0:\n",
    "        r += '0'\n",
    "    else:\n",
    "        r += '1'\n",
    "        \n",
    "    s = str(int(r, 2))\n",
    "    \n",
    "    if sum([int(i) for i in s]) % 2 == 0:\n",
    "        r += '0'\n",
    "    else:\n",
    "        r += '1'\n",
    "        \n",
    "    s = str(int(r, 2))\n",
    "\n",
    "    if sum([int(i) for i in s]) % 2 == 0:\n",
    "        r += '0'\n",
    "    else:\n",
    "        r += '1'\n",
    "        \n",
    "    s = str(int(r, 2))\n",
    "    return int(r, 2)\n",
    "\n",
    "\n",
    "count = 0\n",
    "\n",
    "for i in range(10000000, 300000000):\n",
    "    if 1987654321 > algo(i) > 123456789:\n",
    "        count += 1\n",
    "        \n",
    "count\n"
   ]
  },
  {
   "cell_type": "markdown",
   "metadata": {},
   "source": [
    "В задачах с ебанутой оптимизацией можно подгонять \\ проверять крайние значения \\ экстраполируем алгоритм"
   ]
  },
  {
   "cell_type": "code",
   "execution_count": 43,
   "metadata": {},
   "outputs": [
    {
     "name": "stdout",
     "output_type": "stream",
     "text": [
      "233024691\n"
     ]
    }
   ],
   "source": [
    "def sum_digit(n):\n",
    "    return sum(int(i) for i in str(n))\n",
    "\n",
    "\n",
    "def f(n):\n",
    "    n_bin = bin(n)[2:]\n",
    "    for i in range(3):\n",
    "        if sum_digit(int(n_bin, 2))%2 == 0: n_bin += '0'\n",
    "        else: n_bin += '1'\n",
    "    return int(n_bin, 2)\n",
    "\n",
    "\n",
    "\n",
    "for n in range(15432099, 15432099+1000):\n",
    "    if 123456789 <= f(n) <= 1987654321: #  \n",
    "        start = n\n",
    "        break\n",
    "\n",
    "\n",
    "for n in range(248456789, 248456789-1000, -1):\n",
    "    if 123456789 <= f(n) <= 1987654321: #  \n",
    "        stop = n\n",
    "        break\n",
    "\n",
    "print(stop - start + 1)"
   ]
  },
  {
   "cell_type": "code",
   "execution_count": null,
   "metadata": {},
   "outputs": [],
   "source": [
    "def algo(n):\n",
    "    r = bin(n)[2:]\n",
    "    r = r + r[-1]\n",
    "    r += str(r.count('1') % 2)\n",
    "    return int(r, 2)\n",
    "\n",
    "\n",
    "for n in range(1, 1000):\n",
    "    if algo(n) > 105:\n",
    "        print(algo(n))\n",
    "        "
   ]
  },
  {
   "cell_type": "code",
   "execution_count": 14,
   "metadata": {},
   "outputs": [
    {
     "name": "stdout",
     "output_type": "stream",
     "text": [
      "298\n"
     ]
    }
   ],
   "source": [
    "def algo(n):\n",
    "    a = int(str(n)[0]) + int(str(n)[1])\n",
    "    b = int(str(n)[1]) + int(str(n)[2])\n",
    "    \n",
    "    \n",
    "    nums = sorted([a, b], reverse=True)\n",
    "    res = \"\".join([str(i) for i in nums])\n",
    "    return res\n",
    "\n",
    "# algo(348)\n",
    "\n",
    "for n in range(100, 1000):\n",
    "    if algo(n) == '1711':\n",
    "        print(n)\n",
    "        break\n",
    "    "
   ]
  }
 ],
 "metadata": {
  "kernelspec": {
   "display_name": "venv",
   "language": "python",
   "name": "python3"
  },
  "language_info": {
   "codemirror_mode": {
    "name": "ipython",
    "version": 3
   },
   "file_extension": ".py",
   "mimetype": "text/x-python",
   "name": "python",
   "nbconvert_exporter": "python",
   "pygments_lexer": "ipython3",
   "version": "3.11.4"
  }
 },
 "nbformat": 4,
 "nbformat_minor": 2
}
