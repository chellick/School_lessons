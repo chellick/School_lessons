{
 "cells": [
  {
   "cell_type": "code",
   "execution_count": null,
   "metadata": {},
   "outputs": [],
   "source": [
    "def algo(n):\n",
    "    bin_n = bin(n)[2:]\n",
    "    bin_n += bin(n % 3)[2:4].zfill(2)\n",
    "    bin_n += bin(int(bin_n, 2) % 5)[2:5].zfill(3)\n",
    "    return int(bin_n, 2)\n",
    "\n",
    "\n",
    "c = 0\n",
    "\n",
    "for n in range(38000000, 49000000):\n",
    "    if 1222222222 <= algo(n) <= 1555555666:\n",
    "        c+=1\n",
    "        \n",
    "print(c)"
   ]
  },
  {
   "cell_type": "code",
   "execution_count": null,
   "metadata": {},
   "outputs": [],
   "source": [
    "def algo(n):\n",
    "    n = [int(i) for i in str(n)]\n",
    "    n = [bin(i)[2:].zfill(4) for i in n]\n",
    "    m = []\n",
    "    for i in \"\".join(n):\n",
    "        if i == \"0\":\n",
    "            m.append(\"1\")\n",
    "        else:\n",
    "            m.append(\"0\")\n",
    "            \n",
    "    return int(\"\".join(m), 2)\n",
    "\n",
    "for n in range(1, 1000):\n",
    "    if algo(n) == 151:\n",
    "        print(n)\n",
    "        break"
   ]
  },
  {
   "cell_type": "code",
   "execution_count": null,
   "metadata": {},
   "outputs": [],
   "source": [
    "def algo(n):\n",
    "    n = list(sorted([int(i) for i in str(n)], reverse=True))\n",
    "    num = int(str(n[0]) + str(n[1])) - int(str(n[-1]) + str(n[-2]))\n",
    "    return num\n",
    "\n",
    "\n",
    "c = 0\n",
    "for i in range(800, 901):\n",
    "    if algo(i) == 30:\n",
    "        c += 1\n",
    "        \n",
    "print(c)"
   ]
  },
  {
   "cell_type": "code",
   "execution_count": null,
   "metadata": {},
   "outputs": [],
   "source": [
    "def algo(n):\n",
    "    n = [int(i) for i in str(n)]\n",
    "    num1 = n[0] + n[1]\n",
    "    num2 = n[1] + n[2]\n",
    "    num3 = n[2] + n[3]\n",
    "    r  = \"\".join(sorted([str(num1), str(num2), str(num3)])[1:])\n",
    "    \n",
    "    return int(r)\n",
    "\n",
    "print(algo(1000))\n",
    "\n",
    "for n in range(10000, 999, -1):\n",
    "    r = algo(n)\n",
    "    if r == 1517:\n",
    "        print(n)\n",
    "        \n",
    "# print(algo(9575))\n"
   ]
  },
  {
   "cell_type": "code",
   "execution_count": null,
   "metadata": {},
   "outputs": [],
   "source": [
    "def algo(n):\n",
    "    r = bin(n)[2:]\n",
    "    if r.count(\"1\") % 2 == 0:\n",
    "        r = '1' + r + '00'\n",
    "    else:\n",
    "        r = '11' + r\n",
    "    return int(r, 2)\n",
    "\n",
    "print(algo(13), algo(12))\n",
    "\n",
    "minimum = 100000\n",
    "for n in range(1, 1000):\n",
    "    r = algo(n)\n",
    "    if r >= 412:\n",
    "        if minimum > n:\n",
    "            minimum = n\n",
    "            print(n, r)\n",
    "print(minimum)"
   ]
  },
  {
   "cell_type": "code",
   "execution_count": null,
   "metadata": {},
   "outputs": [],
   "source": [
    "def algo(n):\n",
    "    r = bin(n)[2:].zfill(8)\n",
    "    r = r[:2] + r[-2:]\n",
    "    return int(r, 2)\n",
    "\n",
    "for n in range(131, 1000):\n",
    "    if algo(n) == 10:\n",
    "        print(n, algo(n))\n",
    "        break"
   ]
  },
  {
   "cell_type": "code",
   "execution_count": null,
   "metadata": {},
   "outputs": [],
   "source": [
    "def algo(n):\n",
    "    r = bin(n)[2:]\n",
    "    if n % 4 == 0:\n",
    "        r += r[-2:]\n",
    "    \n",
    "    else:\n",
    "        r = bin((n % 4) * 2)[2:] + r\n",
    "    return int(r, 2)\n",
    " \n",
    "for n in range(3, 1000):\n",
    "    r = algo(n)\n",
    "    if r < 68:\n",
    "\n",
    "        print(n)"
   ]
  },
  {
   "cell_type": "code",
   "execution_count": null,
   "metadata": {},
   "outputs": [],
   "source": [
    "for n in range(4, 1000):\n",
    "    \n",
    "    s = bin(n)[2:] # перевод в двоичную систему\n",
    "    if n % 3 == 0:\n",
    "        s += bin(n)[-3:]\n",
    "    else:\n",
    "        s += bin((n%3)*3)[2:]\n",
    "    r = int(s,2)\n",
    "    \n",
    "    if r < 170 and r > maxi:\n",
    "        maxi = r\n",
    "        print(n)\n",
    "print(maxi)\n"
   ]
  },
  {
   "cell_type": "code",
   "execution_count": null,
   "metadata": {},
   "outputs": [],
   "source": [
    "def algo(n):\n",
    "    bin_n = bin(n)[2:]\n",
    "    if n % 3 == 0:\n",
    "        bin_n += bin_n[-3:]\n",
    "    else:\n",
    "        bin_n += bin((n%3)*3)[2:]\n",
    "    return int(bin_n, 2)\n",
    "\n",
    "\n",
    "for i in range(4, 1000):\n",
    "    if algo(i) <= 170:\n",
    "        print(i , algo(i))\n",
    "\n",
    "maxi = 0"
   ]
  },
  {
   "cell_type": "code",
   "execution_count": null,
   "metadata": {},
   "outputs": [],
   "source": [
    "import itertools\n",
    "\n",
    "\n",
    "def is_prime(num):\n",
    "    for i in range(2, num):\n",
    "        if num % i == 0:\n",
    "            return False\n",
    "    return True\n",
    "\n",
    "def double(num):\n",
    "    listik = itertools.permutations(str(num), 2)\n",
    "    result = set(int(''.join(i)) for i in listik)\n",
    "    return result\n",
    "\n",
    "max_n = 0\n",
    "max_primes = 0\n",
    "\n",
    "\n",
    "for n in range(100, 1000):\n",
    "    temp_max_primes = 0 \n",
    "    for i in double(n):\n",
    "        temp_max_primes += is_prime(i)\n",
    "    if temp_max_primes >= max_primes:\n",
    "        max_primes = temp_max_primes\n",
    "        max_n = n\n",
    "        \n",
    "\n",
    "print(max_n, max_primes)"
   ]
  },
  {
   "cell_type": "code",
   "execution_count": null,
   "metadata": {},
   "outputs": [],
   "source": [
    "for i in range(100, 1000):\n",
    "    i = str(i)\n",
    "    l = []\n",
    "    l.append(int(i[0]) + int(i[1]))\n",
    "    l.append(int(i[1]) + int(i[2]))\n",
    "    \n",
    "    l = sorted(l, reverse=True)\n",
    "    summa = str(l[0]) + str(l[1])\n",
    "    \n",
    "    if summa == '1711':\n",
    "        print(i)"
   ]
  },
  {
   "cell_type": "code",
   "execution_count": null,
   "metadata": {},
   "outputs": [],
   "source": [
    "for i in range(1000, 10000):\n",
    "    i = str(i)\n",
    "    l = []\n",
    "    l.append(int(i[0]) + int(i[1]))\n",
    "    l.append(int(i[1]) + int(i[2]))\n",
    "    l.append(int(i[2]) + int(i[3]))\n",
    "    \n",
    "    l = sorted(l)\n",
    "    \n",
    "    summa = str(l[1]) + str(l[2])\n",
    "    \n",
    "    if summa == '1215':\n",
    "        print(i)"
   ]
  },
  {
   "cell_type": "code",
   "execution_count": null,
   "metadata": {},
   "outputs": [],
   "source": [
    "for n in range(1, 1000):\n",
    "    bin_n = bin(n)[2:]\n",
    "    \n",
    "    if n % 3 == 0:\n",
    "        bin_n += bin_n[-3:]\n",
    "        \n",
    "    else:\n",
    "        bin_n += bin(n % 3 * 3)[2:]\n",
    "        \n",
    "\n",
    "    r = int(bin_n, 2)\n",
    "    \n",
    "    if r >= 76:\n",
    "        print(n)\n",
    "        break"
   ]
  },
  {
   "cell_type": "code",
   "execution_count": null,
   "metadata": {},
   "outputs": [],
   "source": [
    "for n in range(1, 1000):\n",
    "    bin_n = bin(n)[2:]\n",
    "\n",
    "    if n % 3 == 0:\n",
    "        bin_n += bin_n[-3:] \n",
    "        \n",
    "    elif n % 3:\n",
    "        bin_n += bin(n % 3 * 3)[2:]\n",
    "\n",
    "    r = int(bin_n, 2)\n",
    "\n",
    "    if r < 100:\n",
    "        print(n, r)"
   ]
  },
  {
   "cell_type": "code",
   "execution_count": null,
   "metadata": {},
   "outputs": [],
   "source": [
    "for n in range(1, 1000):\n",
    "        \n",
    "    bin_n = bin(n)[2:]\n",
    "\n",
    "    if n % 2 == 0:\n",
    "        bin_n = '10' + bin_n\n",
    "\n",
    "    elif n % 2 == 1:\n",
    "        bin_n = '1' + bin_n + '01'\n",
    "        \n",
    "    r = int(bin_n, 2)\n",
    "    \n",
    "    if r > 441:\n",
    "        print(n)\n",
    "        break"
   ]
  },
  {
   "cell_type": "code",
   "execution_count": null,
   "metadata": {},
   "outputs": [],
   "source": [
    "for n in range(1, 1000):\n",
    "    bin_n = bin(n)[2:]\n",
    "\n",
    "    if bin_n.count('1') % 2 == 0:\n",
    "        bin_n += '00'\n",
    "\n",
    "    elif bin_n.count('1') % 2 == 1:\n",
    "        bin_n += '11'\n",
    "\n",
    "    r = int(bin_n, 2)\n",
    "    \n",
    "    if r > 114:\n",
    "        print(r)\n",
    "        break"
   ]
  },
  {
   "cell_type": "code",
   "execution_count": null,
   "metadata": {},
   "outputs": [],
   "source": [
    "for n in range(1, 1000):\n",
    "    bin_n = bin(n)[2:]\n",
    "    for i in range(2):        \n",
    "        summa = bin_n.count('1')\n",
    "        bin_n += str(summa % 2)\n",
    "    \n",
    "    \n",
    "    r = int(bin_n, 2)\n",
    "    if r > 43:\n",
    "        print(r)\n",
    "        break"
   ]
  },
  {
   "cell_type": "code",
   "execution_count": 2,
   "metadata": {},
   "outputs": [
    {
     "name": "stdout",
     "output_type": "stream",
     "text": [
      "86\n"
     ]
    }
   ],
   "source": [
    "def algo(n):\n",
    "    r = bin(n)[2:]\n",
    "    r += str(r.count(\"1\") % 2)\n",
    "    r += str(r.count(\"1\") % 2)\n",
    "    return int(r, 2)\n",
    "\n",
    "mini = 10 ** 6\n",
    "for n in range(1, 1000):\n",
    "    if algo(n) > 80:\n",
    "        if algo(n) < mini:\n",
    "            mini = algo(n)\n",
    "            \n",
    "print(mini)\n",
    "    "
   ]
  },
  {
   "cell_type": "code",
   "execution_count": 5,
   "metadata": {},
   "outputs": [
    {
     "data": {
      "text/plain": [
       "86"
      ]
     },
     "execution_count": 5,
     "metadata": {},
     "output_type": "execute_result"
    }
   ],
   "source": [
    "def alco(n):\n",
    "    r = bin(n)[2:]\n",
    "    if n % 2 == 0:\n",
    "        r += '01'\n",
    "    else:\n",
    "        r += '10'\n",
    "    return int(r, 2)\n",
    "\n",
    "mini = 10**6\n",
    "\n",
    "for n in range(1, 1000):\n",
    "    r = algo(n)\n",
    "    if r > 81:\n",
    "        if r < mini:\n",
    "            mini = r\n",
    "            \n",
    "mini\n",
    "        "
   ]
  },
  {
   "cell_type": "code",
   "execution_count": 7,
   "metadata": {},
   "outputs": [
    {
     "name": "stdout",
     "output_type": "stream",
     "text": [
      "17\n"
     ]
    },
    {
     "data": {
      "text/plain": [
       "1000000"
      ]
     },
     "execution_count": 7,
     "metadata": {},
     "output_type": "execute_result"
    }
   ],
   "source": [
    "def algo(n):\n",
    "    r = bin(n)[2:]\n",
    "    r += r[-1]\n",
    "    if r.count('1') % 2 == 0:\n",
    "        r += '0'\n",
    "    else:\n",
    "        r += '1'\n",
    "    if r.count('1') % 2 == 0:\n",
    "        r += '0'\n",
    "    else:\n",
    "        r += '1'\n",
    "    return int(r, 2)\n",
    "\n",
    "mini = 10**6\n",
    "\n",
    "for n in range(1, 1000):\n",
    "    if algo(n) > 130:\n",
    "        print(n)\n",
    "        break\n",
    "\n",
    "mini\n",
    "    "
   ]
  },
  {
   "cell_type": "code",
   "execution_count": 11,
   "metadata": {},
   "outputs": [
    {
     "name": "stdout",
     "output_type": "stream",
     "text": [
      "19 156\n"
     ]
    }
   ],
   "source": [
    "def algo(n):\n",
    "    r = bin(n)[2:]\n",
    "    r += r[-1]\n",
    "    if r.count('1') % 2 == 0:\n",
    "        r += '0'\n",
    "    else: \n",
    "        r += '1'\n",
    "    if r.count('1') % 2 == 0:\n",
    "        r += '0'\n",
    "    else: \n",
    "        r += '1'\n",
    "    return int(r, 2)\n",
    "\n",
    "for n in range(1, 1000):\n",
    "    if algo(n) > 144:\n",
    "        print(n, algo(n))\n",
    "        break\n",
    "    \n",
    "    "
   ]
  },
  {
   "cell_type": "code",
   "execution_count": null,
   "metadata": {},
   "outputs": [],
   "source": [
    "def algo(n):\n",
    "    "
   ]
  }
 ],
 "metadata": {
  "kernelspec": {
   "display_name": "venv",
   "language": "python",
   "name": "python3"
  },
  "language_info": {
   "codemirror_mode": {
    "name": "ipython",
    "version": 3
   },
   "file_extension": ".py",
   "mimetype": "text/x-python",
   "name": "python",
   "nbconvert_exporter": "python",
   "pygments_lexer": "ipython3",
   "version": "3.11.4"
  }
 },
 "nbformat": 4,
 "nbformat_minor": 2
}
