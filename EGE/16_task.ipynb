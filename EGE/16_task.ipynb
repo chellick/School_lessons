{
 "cells": [
  {
   "cell_type": "code",
   "execution_count": null,
   "metadata": {},
   "outputs": [],
   "source": [
    "def f(n):\n",
    "    if n <= 1:\n",
    "        return 0\n",
    "    \n",
    "    elif n % 2 != 0:\n",
    "        return f(n-1) + 3 * n ** 2\n",
    "\n",
    "    return  n / 2 + f(n-1) + 2\n",
    "    \n",
    "f(49)\n",
    "    \n",
    "def f(n):\n",
    "    if n <= 2:\n",
    "        return n\n",
    "    \n",
    "    if n > 2 and n % 2 == 0:\n",
    "        return int((4 * n - f(n - 3)) / 8)\n",
    "    \n",
    "    return int((4 * n - f(n - 1) + f(n - 2)) / 8)\n",
    "\n",
    "f(52) - f(38)\n",
    "def f(n):\n",
    "    if n <= 2:\n",
    "        return n\n",
    "    if n > 2:\n",
    "        return 2 * f(n-1) + (n-2) * f(n-2)\n",
    "    \n",
    "f(6)\n",
    "from functools import lru_cache\n",
    "def f(n):\n",
    "    if n < 11:\n",
    "        return 10\n",
    "    return n + f(n-1)\n",
    "\n",
    "f(2124) - f(2122)\n",
    "import time\n",
    "\n",
    "def f(n):\n",
    "    if n == 0:\n",
    "        return 0\n",
    "    if n % 2 != 0:\n",
    "        return  f(n-1) + 1\n",
    "    if n > 0 and n % 2 == 0:\n",
    "        return f(n/2)\n",
    "\n",
    "c = 0\n",
    "\n",
    "for n in range(10**7):\n",
    "    if f(n) == 2:\n",
    "        c += 1\n",
    "        \n",
    "c\n",
    "яндекc = 0\n",
    "\n",
    "def f(n):\n",
    "    if n == 0:\n",
    "        return 0\n",
    "    elif n > 0 and n % 2 == 0:\n",
    "        return f(n / 2)\n",
    "    elif n % 2 != 0:\n",
    "        return 1 + f(n-1)\n",
    "\n",
    "for n in range(1, 1000):\n",
    "    if f(n) == 3:\n",
    "        яндекc += 1\n",
    "        \n",
    "яндекc\n"
   ]
  },
  {
   "cell_type": "code",
   "execution_count": 2,
   "metadata": {},
   "outputs": [
    {
     "data": {
      "text/plain": [
       "27"
      ]
     },
     "execution_count": 2,
     "metadata": {},
     "output_type": "execute_result"
    }
   ],
   "source": [
    "def f(n):\n",
    "    if n <= 15:\n",
    "        return 2*n*n + 4*n + 3\n",
    "    else:\n",
    "        if n % 3 == 0:\n",
    "            return f(n-1) + n*n + 3\n",
    "\n",
    "        elif n % 3 != 0:\n",
    "            return f(n-2)+n-6\n",
    "\n",
    "def check(n):\n",
    "    n = str(n)\n",
    "    for i in n:\n",
    "        if int(i) % 2 == 0:\n",
    "            return False\n",
    "        \n",
    "    return True\n",
    "\n",
    "c = 0 \n",
    "for n in range(1, 1000):\n",
    "    if check(f(n)):\n",
    "        c += 1\n",
    "        \n",
    "c"
   ]
  }
 ],
 "metadata": {
  "kernelspec": {
   "display_name": "venv",
   "language": "python",
   "name": "python3"
  },
  "language_info": {
   "codemirror_mode": {
    "name": "ipython",
    "version": 3
   },
   "file_extension": ".py",
   "mimetype": "text/x-python",
   "name": "python",
   "nbconvert_exporter": "python",
   "pygments_lexer": "ipython3",
   "version": "3.11.4"
  }
 },
 "nbformat": 4,
 "nbformat_minor": 2
}
