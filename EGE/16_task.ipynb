{
 "cells": [
  {
   "cell_type": "code",
   "execution_count": null,
   "metadata": {},
   "outputs": [],
   "source": [
    "def f(n):\n",
    "    if n <= 1:\n",
    "        return 0\n",
    "    \n",
    "    elif n % 2 != 0:\n",
    "        return f(n-1) + 3 * n ** 2\n",
    "\n",
    "    return  n / 2 + f(n-1) + 2\n",
    "    \n",
    "f(49)\n",
    "    \n",
    "def f(n):\n",
    "    if n <= 2:\n",
    "        return n\n",
    "    \n",
    "    if n > 2 and n % 2 == 0:\n",
    "        return int((4 * n - f(n - 3)) / 8)\n",
    "    \n",
    "    return int((4 * n - f(n - 1) + f(n - 2)) / 8)\n",
    "\n",
    "f(52) - f(38)\n",
    "def f(n):\n",
    "    if n <= 2:\n",
    "        return n\n",
    "    if n > 2:\n",
    "        return 2 * f(n-1) + (n-2) * f(n-2)\n",
    "    \n",
    "f(6)\n",
    "from functools import lru_cache\n",
    "def f(n):\n",
    "    if n < 11:\n",
    "        return 10\n",
    "    return n + f(n-1)\n",
    "\n",
    "f(2124) - f(2122)\n",
    "import time\n",
    "\n",
    "def f(n):\n",
    "    if n == 0:\n",
    "        return 0\n",
    "    if n % 2 != 0:\n",
    "        return  f(n-1) + 1\n",
    "    if n > 0 and n % 2 == 0:\n",
    "        return f(n/2)\n",
    "\n",
    "c = 0\n",
    "\n",
    "for n in range(10**7):\n",
    "    if f(n) == 2:\n",
    "        c += 1\n",
    "        \n",
    "c\n",
    "яндекc = 0\n",
    "\n",
    "def f(n):\n",
    "    if n == 0:\n",
    "        return 0\n",
    "    elif n > 0 and n % 2 == 0:\n",
    "        return f(n / 2)\n",
    "    elif n % 2 != 0:\n",
    "        return 1 + f(n-1)\n",
    "\n",
    "for n in range(1, 1000):\n",
    "    if f(n) == 3:\n",
    "        яндекc += 1\n",
    "        \n",
    "яндекc\n"
   ]
  },
  {
   "cell_type": "code",
   "execution_count": 2,
   "metadata": {},
   "outputs": [
    {
     "data": {
      "text/plain": [
       "27"
      ]
     },
     "execution_count": 2,
     "metadata": {},
     "output_type": "execute_result"
    }
   ],
   "source": [
    "def f(n):\n",
    "    if n <= 15:\n",
    "        return 2*n*n + 4*n + 3\n",
    "    else:\n",
    "        if n % 3 == 0:\n",
    "            return f(n-1) + n*n + 3\n",
    "\n",
    "        elif n % 3 != 0:\n",
    "            return f(n-2)+n-6\n",
    "\n",
    "def check(n):\n",
    "    n = str(n)\n",
    "    for i in n:\n",
    "        if int(i) % 2 == 0:\n",
    "            return False\n",
    "        \n",
    "    return True\n",
    "\n",
    "c = 0 \n",
    "for n in range(1, 1000):\n",
    "    if check(f(n)):\n",
    "        c += 1\n",
    "        \n",
    "c"
   ]
  },
  {
   "cell_type": "code",
   "execution_count": 3,
   "metadata": {},
   "outputs": [
    {
     "name": "stdout",
     "output_type": "stream",
     "text": [
      "498501.0\n"
     ]
    }
   ],
   "source": [
    "def f(n):\n",
    "    if n >= 1000:\n",
    "        return 1000\n",
    "    elif n % 2 != 0:\n",
    "        return n * f(n+1)\n",
    "    elif n % 2 == 0:\n",
    "        return n * f(n+1) / 2\n",
    "\n",
    "print(f(998)/f(1001))"
   ]
  },
  {
   "cell_type": "code",
   "execution_count": 3,
   "metadata": {},
   "outputs": [
    {
     "data": {
      "text/plain": [
       "4095"
      ]
     },
     "execution_count": 3,
     "metadata": {},
     "output_type": "execute_result"
    }
   ],
   "source": [
    "def f(n):\n",
    "    if n == 1:\n",
    "        return n\n",
    "    return f(n-1) + 2 ** (n-1)\n",
    "\n",
    "f(12)"
   ]
  },
  {
   "cell_type": "code",
   "execution_count": 1,
   "metadata": {},
   "outputs": [
    {
     "data": {
      "text/plain": [
       "4247"
      ]
     },
     "execution_count": 1,
     "metadata": {},
     "output_type": "execute_result"
    }
   ],
   "source": [
    "def f(n):\n",
    "    if n < 11:\n",
    "        return 10\n",
    "    return n + f(n-1)\n",
    "\n",
    "f(2124) - f(2122)"
   ]
  },
  {
   "cell_type": "code",
   "execution_count": 1,
   "metadata": {},
   "outputs": [
    {
     "data": {
      "text/plain": [
       "18210"
      ]
     },
     "execution_count": 1,
     "metadata": {},
     "output_type": "execute_result"
    }
   ],
   "source": [
    "def f(n):\n",
    "    if n == 1:\n",
    "        return 3\n",
    "    if n > 1:\n",
    "        return 3 * n + 2 * f(n-1)\n",
    "    \n",
    "f(2024) - 4*f(2022)"
   ]
  },
  {
   "cell_type": "code",
   "execution_count": 1,
   "metadata": {},
   "outputs": [
    {
     "data": {
      "text/plain": [
       "65536"
      ]
     },
     "execution_count": 1,
     "metadata": {},
     "output_type": "execute_result"
    }
   ],
   "source": [
    "def f(n):\n",
    "    if n < 3:\n",
    "        return 1\n",
    "    if n > 2:\n",
    "        return sum([f(i) for i in range(1, n)])\n",
    "    \n",
    "f(18)"
   ]
  },
  {
   "cell_type": "code",
   "execution_count": null,
   "metadata": {},
   "outputs": [],
   "source": [
    "import sys\n",
    "from functools import lru_cache\n",
    "\n",
    "sys.setrecursionlimit(10**6)\n",
    "\n",
    "@lru_cache()\n",
    "def f(n):\n",
    "    if n <= 3:\n",
    "        return nXzZ"
   ]
  },
  {
   "cell_type": "code",
   "execution_count": 2,
   "metadata": {},
   "outputs": [
    {
     "data": {
      "text/plain": [
       "32"
      ]
     },
     "execution_count": 2,
     "metadata": {},
     "output_type": "execute_result"
    }
   ],
   "source": [
    "def f(n):\n",
    "    if n <= 2:\n",
    "        return 2\n",
    "    else:\n",
    "        return f(n-1) * f(n-2)\n",
    "\n",
    "f(5)"
   ]
  },
  {
   "cell_type": "code",
   "execution_count": 1,
   "metadata": {},
   "outputs": [
    {
     "data": {
      "text/plain": [
       "43"
      ]
     },
     "execution_count": 1,
     "metadata": {},
     "output_type": "execute_result"
    }
   ],
   "source": [
    "def f(n):\n",
    "    if n <= 2:\n",
    "        return 1\n",
    "    else:\n",
    "        return f(n-1) + 2 * f(n-2)\n",
    "\n",
    "f(7)"
   ]
  },
  {
   "cell_type": "code",
   "execution_count": 2,
   "metadata": {},
   "outputs": [
    {
     "data": {
      "text/plain": [
       "4047"
      ]
     },
     "execution_count": 2,
     "metadata": {},
     "output_type": "execute_result"
    }
   ],
   "source": [
    "def F(n):\n",
    "    if n<11:\n",
    "        return 10\n",
    "    else:\n",
    "        return n + F(n-1)\n",
    "    \n",
    "F(2024) - F(2022)"
   ]
  },
  {
   "cell_type": "code",
   "execution_count": 4,
   "metadata": {},
   "outputs": [
    {
     "data": {
      "text/plain": [
       "448100275"
      ]
     },
     "execution_count": 4,
     "metadata": {},
     "output_type": "execute_result"
    }
   ],
   "source": [
    "from functools import lru_cache\n",
    "import os\n",
    "import sys\n",
    "\n",
    "\n",
    "sys.setrecursionlimit(10**6)\n",
    "\n",
    "\n",
    "@lru_cache()\n",
    "def f(n):\n",
    "    if n < 3:\n",
    "        return n\n",
    "    if n > 2:\n",
    "        return (2*n-1) * (f(n-1) +f(n-2))\n",
    "    \n",
    "f(69) % (10**9+7)\n",
    "    "
   ]
  },
  {
   "cell_type": "code",
   "execution_count": 4,
   "metadata": {},
   "outputs": [
    {
     "data": {
      "text/plain": [
       "9182657279"
      ]
     },
     "execution_count": 4,
     "metadata": {},
     "output_type": "execute_result"
    }
   ],
   "source": [
    "from functools import lru_cache\n",
    "\n",
    "\n",
    "@lru_cache(None)\n",
    "def f(n):\n",
    "    if n < 3:\n",
    "        return n\n",
    "    elif n > 2 and n % 2 != 0:\n",
    "        return f(n-1) + f(n-2) + 1\n",
    "    elif n > 2 and n % 2 == 0:\n",
    "        s = 0\n",
    "        for i in range(1, n-1+1):\n",
    "            s += f(i)\n",
    "        return s\n",
    "    \n",
    "\n",
    "f(38)"
   ]
  },
  {
   "cell_type": "code",
   "execution_count": 1,
   "metadata": {},
   "outputs": [
    {
     "data": {
      "text/plain": [
       "2024"
      ]
     },
     "execution_count": 1,
     "metadata": {},
     "output_type": "execute_result"
    }
   ],
   "source": [
    "def f(n):\n",
    "    if n >= 2025:\n",
    "        return n\n",
    "    else:\n",
    "        return n + f(n+2)\n",
    "\n",
    "f(2022) - f(2023)"
   ]
  }
 ],
 "metadata": {
  "kernelspec": {
   "display_name": "venv",
   "language": "python",
   "name": "python3"
  },
  "language_info": {
   "codemirror_mode": {
    "name": "ipython",
    "version": 3
   },
   "file_extension": ".py",
   "mimetype": "text/x-python",
   "name": "python",
   "nbconvert_exporter": "python",
   "pygments_lexer": "ipython3",
   "version": "3.11.4"
  }
 },
 "nbformat": 4,
 "nbformat_minor": 2
}
