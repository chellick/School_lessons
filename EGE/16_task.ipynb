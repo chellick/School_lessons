{
 "cells": [
  {
   "cell_type": "code",
   "execution_count": null,
   "metadata": {},
   "outputs": [],
   "source": [
    "\n",
    "def f(n):\n",
    "    if n == 0:\n",
    "        return 0\n",
    "    if n % 2 != 0:\n",
    "        return  f(n-1) + 1\n",
    "    if n > 0 and n % 2 == 0:\n",
    "        return f(n/2)\n",
    "\n",
    "c = 0\n",
    "\n",
    "for n in range(10**7):\n",
    "    if f(n) == 2:\n",
    "        c += 1\n",
    "        \n",
    "c\n",
    "яндекc = 0\n",
    "\n",
    "def f(n):\n",
    "    if n == 0:\n",
    "        return 0\n",
    "    elif n > 0 and n % 2 == 0:\n",
    "        return f(n / 2)\n",
    "    elif n % 2 != 0:\n",
    "        return 1 + f(n-1)\n",
    "\n",
    "for n in range(1, 1000):\n",
    "    if f(n) == 3:\n",
    "        яндекc += 1\n",
    "        \n",
    "яндекc"
   ]
  }
 ],
 "metadata": {
  "language_info": {
   "name": "python"
  }
 },
 "nbformat": 4,
 "nbformat_minor": 2
}
