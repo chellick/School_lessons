{
 "cells": [
  {
   "cell_type": "code",
   "execution_count": null,
   "metadata": {},
   "outputs": [],
   "source": [
    "s = '8' * 70\n",
    "\n",
    "while '2222' in s or '8888' in s:\n",
    "    if '2222' in s:\n",
    "        s = s.replace('2222', '88', 1)\n",
    "    else:\n",
    "        s = s.replace('8888', '22', 1)\n",
    "    \n",
    "s"
   ]
  },
  {
   "cell_type": "code",
   "execution_count": null,
   "metadata": {},
   "outputs": [],
   "source": [
    "s = '2' + '5' * 81\n",
    "\n",
    "while '25' in s or '355' in s or '4555' in s:\n",
    "    if '25' in s:\n",
    "        s = s.replace('25', '4', 1)\n",
    "    if '355' in s:\n",
    "        s = s.replace('355', '2', 1)\n",
    "    if '4555' in s:\n",
    "        s = s.replace('4555', '3', 1)\n",
    "\n",
    "s"
   ]
  },
  {
   "cell_type": "code",
   "execution_count": null,
   "metadata": {},
   "outputs": [],
   "source": [
    "s = '1' + '0' * 33\n",
    "\n",
    "while '1' in s or '100' in s:\n",
    "    if '100' in s:\n",
    "        s = s.replace('100', '0001', 1)\n",
    "    else:\n",
    "        s = s.replace('1', '00', 1)\n",
    "\n",
    "s.count('0')"
   ]
  },
  {
   "cell_type": "code",
   "execution_count": null,
   "metadata": {},
   "outputs": [],
   "source": [
    "s = '1' * 46 + '2' * 31\n",
    "\n",
    "while '1111' in s:\n",
    "    s = s.replace('1111', '2', 1).replace('222','1', 1)\n",
    "s"
   ]
  },
  {
   "cell_type": "code",
   "execution_count": null,
   "metadata": {},
   "outputs": [],
   "source": [
    "def f(s):\n",
    "    while '66' in s:\n",
    "        s = s.replace('66', '1', 1).replace('11', '2', 1).replace('22', '6', 1)\n",
    "    return s\n",
    "    \n",
    "for n in range(50):\n",
    "    if f('6'*n) == '21':\n",
    "        print(n)"
   ]
  },
  {
   "cell_type": "code",
   "execution_count": null,
   "metadata": {},
   "outputs": [],
   "source": [
    "s = '>' + '1' * 11 + '2' * 12 + '3' * 30\n",
    "\n",
    "while '>1' in s or '>2' in s or '>3' in s:\n",
    "    if '>1' in s:\n",
    "        s = s.replace('>1', '22>', 1)\n",
    "    if '>2' in s:\n",
    "        s = s.replace('>2', '2>', 1)\n",
    "    if '>3' in s:\n",
    "        s = s.replace('>3', '1>', 1)\n",
    "\n",
    "s.count('2') * 2 + s.count('1')\n"
   ]
  },
  {
   "cell_type": "code",
   "execution_count": null,
   "metadata": {},
   "outputs": [],
   "source": [
    "import itertools\n",
    "\n",
    "\n",
    "\n",
    "max_sum = []\n",
    "\n",
    "for s in itertools.product('12', repeat=14):\n",
    "    if s.count(\"1\") == 10 and s.count(\"2\") == 4:\n",
    "        s = \"\".join(s)\n",
    "        \n",
    "        while \"11\" in s:\n",
    "            if \"112\" in s:\n",
    "                s = s.replace(\"112\", \"6\", 1)\n",
    "            else:\n",
    "                s = s.replace(\"11\", \"3\", 1)\n",
    "\n",
    "        max_sum.append(sum([int(i) for i in s]))\n",
    "    \n",
    "max(max_sum)\n"
   ]
  },
  {
   "cell_type": "code",
   "execution_count": null,
   "metadata": {},
   "outputs": [],
   "source": [
    "import itertools\n",
    "\n",
    "d = '0123456'\n",
    "c = 0\n",
    "\n",
    "for i in itertools.product(d, repeat=7):\n",
    "    i = \"\".join(i)\n",
    "    \n",
    "    if i[0] != '3' or i[0] != '5' or i[0] != '0':\n",
    "        if '22' in i and '44' in i:\n",
    "            continue\n",
    "    \n",
    "        c += 1\n",
    "                \n",
    "c\n"
   ]
  },
  {
   "cell_type": "code",
   "execution_count": null,
   "metadata": {},
   "outputs": [],
   "source": [
    "d = '01234567'\n",
    "c = 0\n",
    "\n",
    "\n",
    "\n",
    "for string in itertools.permutations(d, r=5):\n",
    "    string = \"\".join(string)\n",
    "    if string[0] != '0':\n",
    "        if '1' not in string:\n",
    "            temp = ''\n",
    "            for n in string:\n",
    "                if int(n) % 2 == 0:\n",
    "                    temp += '2'\n",
    "                else: \n",
    "                    temp += '1'\n",
    "            \n",
    "            if temp == '12121' or temp == '21212':\n",
    "                c += 1\n",
    "                # print(temp, string)\n",
    "\n",
    "c\n",
    "        "
   ]
  },
  {
   "cell_type": "code",
   "execution_count": null,
   "metadata": {},
   "outputs": [],
   "source": [
    "s = '5' * 55 + '7'\n",
    "while '722' in s or '557' in s:\n",
    "    if '722' in s:\n",
    "        s = s.replace('722', '57', 1)\n",
    "    else:\n",
    "        s = s.replace('557', '72', 1)\n",
    "s        "
   ]
  },
  {
   "cell_type": "code",
   "execution_count": null,
   "metadata": {},
   "outputs": [],
   "source": [
    "def algo(s):\n",
    "    while '12' in s or '5522' in s or '2222' in s:\n",
    "        if '12' in s:\n",
    "            s = s.replace('12', '55', 1)\n",
    "        if '2222' in s:\n",
    "            s = s.replace('2222', '1', 1)\n",
    "        if '5522' in s:\n",
    "            s = s.replace('5522', '21', 1)\n",
    "    return s\n",
    "\n",
    "\n",
    "for n in range(3, 10000):\n",
    "    s = '1' + '2' * n\n",
    "    r = algo(s)\n",
    "    summ = sum([int(i) for i in r])\n",
    "    if summ == 142:\n",
    "        print(n, s, r)\n",
    "        break"
   ]
  },
  {
   "cell_type": "code",
   "execution_count": null,
   "metadata": {},
   "outputs": [],
   "source": [
    "def f(s):\n",
    "    while '01' in s or '02' in s or '03' in s:\n",
    "        s = s.replace('01', '302', 1)\n",
    "        s = s.replace('02', '3103', 1)\n",
    "        s = s.replace('03', '20', 1)\n",
    "    return s\n",
    "\n",
    "import itertools\n",
    "\n",
    "s = '011111111111111111122222222223333333333333333333'\n",
    "\n",
    "f(s).count('1'), f(s).count('2'), f(s).count('3')\n",
    "\n",
    "    \n"
   ]
  },
  {
   "cell_type": "code",
   "execution_count": 17,
   "metadata": {},
   "outputs": [
    {
     "ename": "KeyboardInterrupt",
     "evalue": "",
     "output_type": "error",
     "traceback": [
      "\u001b[1;31m---------------------------------------------------------------------------\u001b[0m",
      "\u001b[1;31mKeyboardInterrupt\u001b[0m                         Traceback (most recent call last)",
      "Cell \u001b[1;32mIn[17], line 17\u001b[0m\n\u001b[0;32m     14\u001b[0m sums \u001b[38;5;241m=\u001b[39m \u001b[38;5;241m0\u001b[39m\n\u001b[0;32m     16\u001b[0m \u001b[38;5;28;01mfor\u001b[39;00m s \u001b[38;5;129;01min\u001b[39;00m itertools\u001b[38;5;241m.\u001b[39mpermutations(\u001b[38;5;124m'\u001b[39m\u001b[38;5;124m1\u001b[39m\u001b[38;5;124m'\u001b[39m \u001b[38;5;241m*\u001b[39m \u001b[38;5;241m12\u001b[39m \u001b[38;5;241m+\u001b[39m \u001b[38;5;124m'\u001b[39m\u001b[38;5;124m2\u001b[39m\u001b[38;5;124m'\u001b[39m \u001b[38;5;241m*\u001b[39m \u001b[38;5;241m4\u001b[39m):\n\u001b[1;32m---> 17\u001b[0m     \u001b[38;5;28;01mif\u001b[39;00m sums \u001b[38;5;241m<\u001b[39m \u001b[38;5;28msum\u001b[39m(\u001b[43m[\u001b[49m\u001b[38;5;28;43mint\u001b[39;49m\u001b[43m(\u001b[49m\u001b[43mi\u001b[49m\u001b[43m)\u001b[49m\u001b[43m \u001b[49m\u001b[38;5;28;43;01mfor\u001b[39;49;00m\u001b[43m \u001b[49m\u001b[43mi\u001b[49m\u001b[43m \u001b[49m\u001b[38;5;129;43;01min\u001b[39;49;00m\u001b[43m \u001b[49m\u001b[43mf\u001b[49m\u001b[43m(\u001b[49m\u001b[43ms\u001b[49m\u001b[43m)\u001b[49m\u001b[43m]\u001b[49m):\n\u001b[0;32m     18\u001b[0m         sums \u001b[38;5;241m=\u001b[39m \u001b[38;5;28msum\u001b[39m([\u001b[38;5;28mint\u001b[39m(i) \u001b[38;5;28;01mfor\u001b[39;00m i \u001b[38;5;129;01min\u001b[39;00m f(s)])\n\u001b[0;32m     20\u001b[0m \u001b[38;5;28mprint\u001b[39m(sums)\n",
      "Cell \u001b[1;32mIn[17], line 17\u001b[0m, in \u001b[0;36m<listcomp>\u001b[1;34m(.0)\u001b[0m\n\u001b[0;32m     14\u001b[0m sums \u001b[38;5;241m=\u001b[39m \u001b[38;5;241m0\u001b[39m\n\u001b[0;32m     16\u001b[0m \u001b[38;5;28;01mfor\u001b[39;00m s \u001b[38;5;129;01min\u001b[39;00m itertools\u001b[38;5;241m.\u001b[39mpermutations(\u001b[38;5;124m'\u001b[39m\u001b[38;5;124m1\u001b[39m\u001b[38;5;124m'\u001b[39m \u001b[38;5;241m*\u001b[39m \u001b[38;5;241m12\u001b[39m \u001b[38;5;241m+\u001b[39m \u001b[38;5;124m'\u001b[39m\u001b[38;5;124m2\u001b[39m\u001b[38;5;124m'\u001b[39m \u001b[38;5;241m*\u001b[39m \u001b[38;5;241m4\u001b[39m):\n\u001b[1;32m---> 17\u001b[0m     \u001b[38;5;28;01mif\u001b[39;00m sums \u001b[38;5;241m<\u001b[39m \u001b[38;5;28msum\u001b[39m([\u001b[38;5;28mint\u001b[39m(i) \u001b[38;5;28;01mfor\u001b[39;00m i \u001b[38;5;129;01min\u001b[39;00m f(s)]):\n\u001b[0;32m     18\u001b[0m         sums \u001b[38;5;241m=\u001b[39m \u001b[38;5;28msum\u001b[39m([\u001b[38;5;28mint\u001b[39m(i) \u001b[38;5;28;01mfor\u001b[39;00m i \u001b[38;5;129;01min\u001b[39;00m f(s)])\n\u001b[0;32m     20\u001b[0m \u001b[38;5;28mprint\u001b[39m(sums)\n",
      "\u001b[1;31mKeyboardInterrupt\u001b[0m: "
     ]
    }
   ],
   "source": [
    "def f(tring):\n",
    "    while '11' in tring:\n",
    "        if '112' in tring:\n",
    "            tring = tring.replace('112', '7')\n",
    "        else:\n",
    "            tring = tring.replace('11', '3')\n",
    "            \n",
    "    return tring\n",
    "        \n",
    "# s = '1' * 12 + '2' * 4\n",
    "\n",
    "import itertools\n",
    "\n",
    "sums = 0\n",
    "\n",
    "for s in itertools.permutations('1' * 12 + '2' * 4):\n",
    "    if sums < sum([int(i) for i in f(s)]):\n",
    "        sums = sum([int(i) for i in f(s)])\n",
    "    \n",
    "print(sums)\n",
    "    \n"
   ]
  }
 ],
 "metadata": {
  "kernelspec": {
   "display_name": "venv",
   "language": "python",
   "name": "python3"
  },
  "language_info": {
   "codemirror_mode": {
    "name": "ipython",
    "version": 3
   },
   "file_extension": ".py",
   "mimetype": "text/x-python",
   "name": "python",
   "nbconvert_exporter": "python",
   "pygments_lexer": "ipython3",
   "version": "3.11.4"
  }
 },
 "nbformat": 4,
 "nbformat_minor": 2
}
