{
 "cells": [
  {
   "cell_type": "code",
   "execution_count": null,
   "metadata": {},
   "outputs": [],
   "source": [
    "s = '8' * 70\n",
    "\n",
    "while '2222' in s or '8888' in s:\n",
    "    if '2222' in s:\n",
    "        s = s.replace('2222', '88', 1)\n",
    "    else:\n",
    "        s = s.replace('8888', '22', 1)\n",
    "    \n",
    "s"
   ]
  },
  {
   "cell_type": "code",
   "execution_count": null,
   "metadata": {},
   "outputs": [],
   "source": [
    "s = '2' + '5' * 81\n",
    "\n",
    "while '25' in s or '355' in s or '4555' in s:\n",
    "    if '25' in s:\n",
    "        s = s.replace('25', '4', 1)\n",
    "    if '355' in s:\n",
    "        s = s.replace('355', '2', 1)\n",
    "    if '4555' in s:\n",
    "        s = s.replace('4555', '3', 1)\n",
    "\n",
    "s"
   ]
  },
  {
   "cell_type": "code",
   "execution_count": null,
   "metadata": {},
   "outputs": [],
   "source": [
    "s = '1' + '0' * 33\n",
    "\n",
    "while '1' in s or '100' in s:\n",
    "    if '100' in s:\n",
    "        s = s.replace('100', '0001', 1)\n",
    "    else:\n",
    "        s = s.replace('1', '00', 1)\n",
    "\n",
    "s.count('0')"
   ]
  },
  {
   "cell_type": "code",
   "execution_count": null,
   "metadata": {},
   "outputs": [],
   "source": [
    "s = '1' * 46 + '2' * 31\n",
    "\n",
    "while '1111' in s:\n",
    "    s = s.replace('1111', '2', 1).replace('222','1', 1)\n",
    "s"
   ]
  },
  {
   "cell_type": "code",
   "execution_count": null,
   "metadata": {},
   "outputs": [],
   "source": [
    "def f(s):\n",
    "    while '66' in s:\n",
    "        s = s.replace('66', '1', 1).replace('11', '2', 1).replace('22', '6', 1)\n",
    "    return s\n",
    "    \n",
    "for n in range(50):\n",
    "    if f('6'*n) == '21':\n",
    "        print(n)"
   ]
  },
  {
   "cell_type": "code",
   "execution_count": null,
   "metadata": {},
   "outputs": [],
   "source": [
    "s = '>' + '1' * 11 + '2' * 12 + '3' * 30\n",
    "\n",
    "while '>1' in s or '>2' in s or '>3' in s:\n",
    "    if '>1' in s:\n",
    "        s = s.replace('>1', '22>', 1)\n",
    "    if '>2' in s:\n",
    "        s = s.replace('>2', '2>', 1)\n",
    "    if '>3' in s:\n",
    "        s = s.replace('>3', '1>', 1)\n",
    "\n",
    "s.count('2') * 2 + s.count('1')\n"
   ]
  },
  {
   "cell_type": "code",
   "execution_count": null,
   "metadata": {},
   "outputs": [],
   "source": [
    "import itertools\n",
    "\n",
    "\n",
    "\n",
    "max_sum = []\n",
    "\n",
    "for s in itertools.product('12', repeat=14):\n",
    "    if s.count(\"1\") == 10 and s.count(\"2\") == 4:\n",
    "        s = \"\".join(s)\n",
    "        \n",
    "        while \"11\" in s:\n",
    "            if \"112\" in s:\n",
    "                s = s.replace(\"112\", \"6\", 1)\n",
    "            else:\n",
    "                s = s.replace(\"11\", \"3\", 1)\n",
    "\n",
    "        max_sum.append(sum([int(i) for i in s]))\n",
    "    \n",
    "max(max_sum)\n"
   ]
  },
  {
   "cell_type": "code",
   "execution_count": null,
   "metadata": {},
   "outputs": [],
   "source": [
    "import itertools\n",
    "\n",
    "d = '0123456'\n",
    "c = 0\n",
    "\n",
    "for i in itertools.product(d, repeat=7):\n",
    "    i = \"\".join(i)\n",
    "    \n",
    "    if i[0] != '3' or i[0] != '5' or i[0] != '0':\n",
    "        if '22' in i and '44' in i:\n",
    "            continue\n",
    "    \n",
    "        c += 1\n",
    "                \n",
    "c\n"
   ]
  },
  {
   "cell_type": "code",
   "execution_count": null,
   "metadata": {},
   "outputs": [],
   "source": [
    "d = '01234567'\n",
    "c = 0\n",
    "\n",
    "\n",
    "\n",
    "for string in itertools.permutations(d, r=5):\n",
    "    string = \"\".join(string)\n",
    "    if string[0] != '0':\n",
    "        if '1' not in string:\n",
    "            temp = ''\n",
    "            for n in string:\n",
    "                if int(n) % 2 == 0:\n",
    "                    temp += '2'\n",
    "                else: \n",
    "                    temp += '1'\n",
    "            \n",
    "            if temp == '12121' or temp == '21212':\n",
    "                c += 1\n",
    "                # print(temp, string)\n",
    "\n",
    "c\n",
    "        "
   ]
  },
  {
   "cell_type": "code",
   "execution_count": null,
   "metadata": {},
   "outputs": [],
   "source": [
    "s = '5' * 55 + '7'\n",
    "while '722' in s or '557' in s:\n",
    "    if '722' in s:\n",
    "        s = s.replace('722', '57', 1)\n",
    "    else:\n",
    "        s = s.replace('557', '72', 1)\n",
    "s        "
   ]
  },
  {
   "cell_type": "code",
   "execution_count": null,
   "metadata": {},
   "outputs": [],
   "source": [
    "def algo(s):\n",
    "    while '12' in s or '5522' in s or '2222' in s:\n",
    "        if '12' in s:\n",
    "            s = s.replace('12', '55', 1)\n",
    "        if '2222' in s:\n",
    "            s = s.replace('2222', '1', 1)\n",
    "        if '5522' in s:\n",
    "            s = s.replace('5522', '21', 1)\n",
    "    return s\n",
    "\n",
    "\n",
    "for n in range(3, 10000):\n",
    "    s = '1' + '2' * n\n",
    "    r = algo(s)\n",
    "    summ = sum([int(i) for i in r])\n",
    "    if summ == 142:\n",
    "        print(n, s, r)\n",
    "        break"
   ]
  },
  {
   "cell_type": "code",
   "execution_count": null,
   "metadata": {},
   "outputs": [],
   "source": [
    "def f(s):\n",
    "    while '01' in s or '02' in s or '03' in s:\n",
    "        s = s.replace('01', '302', 1)\n",
    "        s = s.replace('02', '3103', 1)\n",
    "        s = s.replace('03', '20', 1)\n",
    "    return s\n",
    "\n",
    "import itertools\n",
    "\n",
    "s = '011111111111111111122222222223333333333333333333'\n",
    "\n",
    "f(s).count('1'), f(s).count('2'), f(s).count('3')\n",
    "\n",
    "    \n"
   ]
  },
  {
   "cell_type": "code",
   "execution_count": null,
   "metadata": {},
   "outputs": [],
   "source": [
    "def f(tring):\n",
    "    while '11' in tring:\n",
    "        if '112' in tring:\n",
    "            tring = tring.replace('112', '7')\n",
    "        else:\n",
    "            tring = tring.replace('11', '3')\n",
    "            \n",
    "    return tring\n",
    "        \n",
    "# s = '1' * 12 + '2' * 4\n",
    "\n",
    "import itertools\n",
    "\n",
    "sums = 0\n",
    "\n",
    "for s in itertools.permutations('1' * 12 + '2' * 4):\n",
    "    if sums < sum([int(i) for i in f(s)]):\n",
    "        sums = sum([int(i) for i in f(s)])\n",
    "    \n",
    "print(sums)\n",
    "    \n"
   ]
  },
  {
   "cell_type": "code",
   "execution_count": null,
   "metadata": {},
   "outputs": [],
   "source": [
    "import itertools\n",
    "\n",
    "sums = []\n",
    "\n",
    "for i in itertools.permutations('1' * 12 + '2' * 4):\n",
    "    i = \"\".join(i)\n",
    "    \n",
    "    while '11' in i:\n",
    "        if '112' in i:\n",
    "            i = i.replace('112', '7', 1)\n",
    "        else:\n",
    "            i = i.replace('11', '3', 1)\n",
    "    sums.append(sum([int(el) for el in i]))\n",
    "    print(sum([int(el) for el in i]))\n",
    "max(sums)"
   ]
  },
  {
   "cell_type": "code",
   "execution_count": 24,
   "metadata": {},
   "outputs": [
    {
     "name": "stdout",
     "output_type": "stream",
     "text": [
      "71 121212121212121212121212121212121212121212121212121212121212121212911111111111111111111111111111111111111\n"
     ]
    }
   ],
   "source": [
    "import itertools\n",
    "\n",
    "sums = []\n",
    "\n",
    "for s in itertools.permutations('9' * 100 + '2' * 48 + '1' * 14):\n",
    "    s = \"\".join(s)\n",
    "    \n",
    "    while '999' in s or '22' in s:\n",
    "        if '999' in s:\n",
    "            s = s.replace('999', '12', 1)\n",
    "        else:\n",
    "            s = s.replace('22', '1', 1)\n",
    "    \n",
    "    print(s.count('1'), s)\n",
    "    break\n",
    "   \n",
    "    "
   ]
  },
  {
   "cell_type": "code",
   "execution_count": 26,
   "metadata": {},
   "outputs": [
    {
     "data": {
      "text/plain": [
       "8"
      ]
     },
     "execution_count": 26,
     "metadata": {},
     "output_type": "execute_result"
    }
   ],
   "source": [
    "strings = set()\n",
    "\n",
    "for i in range(1, 1000):\n",
    "    s = '5' * i\n",
    "    while '555' in s or '888' in s:\n",
    "        s = s.replace('555', '8', 1)\n",
    "        s = s.replace('888', '55')\n",
    "    \n",
    "    strings.add(s)\n",
    "    \n",
    "len(strings)"
   ]
  },
  {
   "cell_type": "code",
   "execution_count": 5,
   "metadata": {},
   "outputs": [
    {
     "name": "stdout",
     "output_type": "stream",
     "text": [
      "4200 3.445934772491455\n"
     ]
    }
   ],
   "source": [
    "import time\n",
    "\n",
    "start = time.time()\n",
    "\n",
    "for n in range(3, 10000):\n",
    "    s = \"5\" + \"2\" * n\n",
    "\n",
    "    while \"52\" in s or \"2222\" in s or \"1112\" in s:\n",
    "        if \"52\" in s:\n",
    "            s = s.replace(\"52\", \"11\", 1)\n",
    "            s = s.replace(\"2222\", \"5\", 1)\n",
    "        else:\n",
    "            s = s.replace(\"1112\", \"2\", 1)\n",
    "            \n",
    "    if sum([int(i) for i  in s]) == 1685:\n",
    "        print(n, time.time()-start)\n",
    "        break\n"
   ]
  }
 ],
 "metadata": {
  "kernelspec": {
   "display_name": "venv",
   "language": "python",
   "name": "python3"
  },
  "language_info": {
   "codemirror_mode": {
    "name": "ipython",
    "version": 3
   },
   "file_extension": ".py",
   "mimetype": "text/x-python",
   "name": "python",
   "nbconvert_exporter": "python",
   "pygments_lexer": "ipython3",
   "version": "3.11.4"
  }
 },
 "nbformat": 4,
 "nbformat_minor": 2
}
