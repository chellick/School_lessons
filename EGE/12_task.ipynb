{
 "cells": [
  {
   "cell_type": "code",
   "execution_count": null,
   "metadata": {},
   "outputs": [],
   "source": [
    "s = '8' * 70\n",
    "\n",
    "while '2222' in s or '8888' in s:\n",
    "    if '2222' in s:\n",
    "        s = s.replace('2222', '88', 1)\n",
    "    else:\n",
    "        s = s.replace('8888', '22', 1)\n",
    "    \n",
    "s"
   ]
  },
  {
   "cell_type": "code",
   "execution_count": null,
   "metadata": {},
   "outputs": [],
   "source": [
    "s = '2' + '5' * 81\n",
    "\n",
    "while '25' in s or '355' in s or '4555' in s:\n",
    "    if '25' in s:\n",
    "        s = s.replace('25', '4', 1)\n",
    "    if '355' in s:\n",
    "        s = s.replace('355', '2', 1)\n",
    "    if '4555' in s:\n",
    "        s = s.replace('4555', '3', 1)\n",
    "\n",
    "s"
   ]
  },
  {
   "cell_type": "code",
   "execution_count": null,
   "metadata": {},
   "outputs": [],
   "source": [
    "s = '1' + '0' * 33\n",
    "\n",
    "while '1' in s or '100' in s:\n",
    "    if '100' in s:\n",
    "        s = s.replace('100', '0001', 1)\n",
    "    else:\n",
    "        s = s.replace('1', '00', 1)\n",
    "\n",
    "s.count('0')"
   ]
  },
  {
   "cell_type": "code",
   "execution_count": null,
   "metadata": {},
   "outputs": [],
   "source": [
    "s = '1' * 46 + '2' * 31\n",
    "\n",
    "while '1111' in s:\n",
    "    s = s.replace('1111', '2', 1).replace('222','1', 1)\n",
    "s"
   ]
  },
  {
   "cell_type": "code",
   "execution_count": null,
   "metadata": {},
   "outputs": [],
   "source": [
    "def f(s):\n",
    "    while '66' in s:\n",
    "        s = s.replace('66', '1', 1).replace('11', '2', 1).replace('22', '6', 1)\n",
    "    return s\n",
    "    \n",
    "for n in range(50):\n",
    "    if f('6'*n) == '21':\n",
    "        print(n)"
   ]
  },
  {
   "cell_type": "code",
   "execution_count": null,
   "metadata": {},
   "outputs": [],
   "source": [
    "s = '>' + '1' * 11 + '2' * 12 + '3' * 30\n",
    "\n",
    "while '>1' in s or '>2' in s or '>3' in s:\n",
    "    if '>1' in s:\n",
    "        s = s.replace('>1', '22>', 1)\n",
    "    if '>2' in s:\n",
    "        s = s.replace('>2', '2>', 1)\n",
    "    if '>3' in s:\n",
    "        s = s.replace('>3', '1>', 1)\n",
    "\n",
    "s.count('2') * 2 + s.count('1')\n"
   ]
  },
  {
   "cell_type": "code",
   "execution_count": null,
   "metadata": {},
   "outputs": [],
   "source": [
    "import itertools\n",
    "\n",
    "\n",
    "\n",
    "max_sum = []\n",
    "\n",
    "for s in itertools.product('12', repeat=14):\n",
    "    if s.count(\"1\") == 10 and s.count(\"2\") == 4:\n",
    "        s = \"\".join(s)\n",
    "        \n",
    "        while \"11\" in s:\n",
    "            if \"112\" in s:\n",
    "                s = s.replace(\"112\", \"6\", 1)\n",
    "            else:\n",
    "                s = s.replace(\"11\", \"3\", 1)\n",
    "\n",
    "        max_sum.append(sum([int(i) for i in s]))\n",
    "    \n",
    "max(max_sum)\n"
   ]
  },
  {
   "cell_type": "code",
   "execution_count": null,
   "metadata": {},
   "outputs": [],
   "source": [
    "import itertools\n",
    "\n",
    "d = '0123456'\n",
    "c = 0\n",
    "\n",
    "for i in itertools.product(d, repeat=7):\n",
    "    i = \"\".join(i)\n",
    "    \n",
    "    if i[0] != '3' or i[0] != '5' or i[0] != '0':\n",
    "        if '22' in i and '44' in i:\n",
    "            continue\n",
    "    \n",
    "        c += 1\n",
    "                \n",
    "c\n"
   ]
  },
  {
   "cell_type": "code",
   "execution_count": null,
   "metadata": {},
   "outputs": [],
   "source": [
    "d = '01234567'\n",
    "c = 0\n",
    "\n",
    "\n",
    "\n",
    "for string in itertools.permutations(d, r=5):\n",
    "    string = \"\".join(string)\n",
    "    if string[0] != '0':\n",
    "        if '1' not in string:\n",
    "            temp = ''\n",
    "            for n in string:\n",
    "                if int(n) % 2 == 0:\n",
    "                    temp += '2'\n",
    "                else: \n",
    "                    temp += '1'\n",
    "            \n",
    "            if temp == '12121' or temp == '21212':\n",
    "                c += 1\n",
    "                # print(temp, string)\n",
    "\n",
    "c\n",
    "        "
   ]
  },
  {
   "cell_type": "code",
   "execution_count": null,
   "metadata": {},
   "outputs": [],
   "source": [
    "s = '5' * 55 + '7'\n",
    "while '722' in s or '557' in s:\n",
    "    if '722' in s:\n",
    "        s = s.replace('722', '57', 1)\n",
    "    else:\n",
    "        s = s.replace('557', '72', 1)\n",
    "s        "
   ]
  },
  {
   "cell_type": "code",
   "execution_count": null,
   "metadata": {},
   "outputs": [],
   "source": [
    "def algo(s):\n",
    "    while '12' in s or '5522' in s or '2222' in s:\n",
    "        if '12' in s:\n",
    "            s = s.replace('12', '55', 1)\n",
    "        if '2222' in s:\n",
    "            s = s.replace('2222', '1', 1)\n",
    "        if '5522' in s:\n",
    "            s = s.replace('5522', '21', 1)\n",
    "    return s\n",
    "\n",
    "\n",
    "for n in range(3, 10000):\n",
    "    s = '1' + '2' * n\n",
    "    r = algo(s)\n",
    "    summ = sum([int(i) for i in r])\n",
    "    if summ == 142:\n",
    "        print(n, s, r)\n",
    "        break"
   ]
  },
  {
   "cell_type": "code",
   "execution_count": null,
   "metadata": {},
   "outputs": [],
   "source": [
    "def f(s):\n",
    "    while '01' in s or '02' in s or '03' in s:\n",
    "        s = s.replace('01', '302', 1)\n",
    "        s = s.replace('02', '3103', 1)\n",
    "        s = s.replace('03', '20', 1)\n",
    "    return s\n",
    "\n",
    "import itertools\n",
    "\n",
    "s = '011111111111111111122222222223333333333333333333'\n",
    "\n",
    "f(s).count('1'), f(s).count('2'), f(s).count('3')\n",
    "\n",
    "    \n"
   ]
  },
  {
   "cell_type": "code",
   "execution_count": null,
   "metadata": {},
   "outputs": [],
   "source": [
    "def f(tring):\n",
    "    while '11' in tring:\n",
    "        if '112' in tring:\n",
    "            tring = tring.replace('112', '7')\n",
    "        else:\n",
    "            tring = tring.replace('11', '3')\n",
    "            \n",
    "    return tring\n",
    "        \n",
    "# s = '1' * 12 + '2' * 4\n",
    "\n",
    "import itertools\n",
    "\n",
    "sums = 0\n",
    "\n",
    "for s in itertools.permutations('1' * 12 + '2' * 4):\n",
    "    if sums < sum([int(i) for i in f(s)]):\n",
    "        sums = sum([int(i) for i in f(s)])\n",
    "    \n",
    "print(sums)\n",
    "    \n"
   ]
  },
  {
   "cell_type": "code",
   "execution_count": null,
   "metadata": {},
   "outputs": [],
   "source": [
    "import itertools\n",
    "\n",
    "sums = []\n",
    "\n",
    "for i in itertools.permutations('1' * 12 + '2' * 4):\n",
    "    i = \"\".join(i)\n",
    "    \n",
    "    while '11' in i:\n",
    "        if '112' in i:\n",
    "            i = i.replace('112', '7', 1)\n",
    "        else:\n",
    "            i = i.replace('11', '3', 1)\n",
    "    sums.append(sum([int(el) for el in i]))\n",
    "    print(sum([int(el) for el in i]))\n",
    "max(sums)"
   ]
  },
  {
   "cell_type": "code",
   "execution_count": null,
   "metadata": {},
   "outputs": [],
   "source": [
    "import itertools\n",
    "\n",
    "sums = []\n",
    "\n",
    "for s in itertools.permutations('9' * 100 + '2' * 48 + '1' * 14):\n",
    "    s = \"\".join(s)\n",
    "    \n",
    "    while '999' in s or '22' in s:\n",
    "        if '999' in s:\n",
    "            s = s.replace('999', '12', 1)\n",
    "        else:\n",
    "            s = s.replace('22', '1', 1)\n",
    "    \n",
    "    print(s.count('1'), s)\n",
    "    break\n",
    "   \n",
    "    "
   ]
  },
  {
   "cell_type": "code",
   "execution_count": null,
   "metadata": {},
   "outputs": [],
   "source": [
    "strings = set()\n",
    "\n",
    "for i in range(1, 1000):\n",
    "    s = '5' * i\n",
    "    while '555' in s or '888' in s:\n",
    "        s = s.replace('555', '8', 1)\n",
    "        s = s.replace('888', '55')\n",
    "    \n",
    "    strings.add(s)\n",
    "    \n",
    "len(strings)"
   ]
  },
  {
   "cell_type": "code",
   "execution_count": null,
   "metadata": {},
   "outputs": [],
   "source": [
    "import time\n",
    "\n",
    "start = time.time()\n",
    "\n",
    "for n in range(3, 10000):\n",
    "    s = \"5\" + \"2\" * n\n",
    "\n",
    "    while \"52\" in s or \"2222\" in s or \"1112\" in s:\n",
    "        if \"52\" in s:\n",
    "            s = s.replace(\"52\", \"11\", 1)\n",
    "            s = s.replace(\"2222\", \"5\", 1)\n",
    "        else:\n",
    "            s = s.replace(\"1112\", \"2\", 1)\n",
    "            \n",
    "    if sum([int(i) for i  in s]) == 1685:\n",
    "        print(n, time.time()-start)\n",
    "        break\n"
   ]
  },
  {
   "cell_type": "code",
   "execution_count": null,
   "metadata": {},
   "outputs": [],
   "source": [
    "def prost(n):\n",
    "    dels = set()\n",
    "    for i in range(2, int(n ** 0.5)+1):\n",
    "        if n % i == 0:\n",
    "            dels.add(i)\n",
    "            dels.add(n//i)\n",
    "    if len(dels) == 1:\n",
    "        return True\n",
    "    return False\n",
    "\n",
    "\n",
    "for i in range(49, 100):\n",
    "    s = '0' + '1' * 48 + '2' * i  + '0'\n",
    "\n",
    "    while \"00\" not in s:\n",
    "        s = s.replace('02', '101', 1)\n",
    "        s = s.replace('11', '2', 1)\n",
    "        s = s.replace('012', '30', 1)\n",
    "        s = s.replace('010', '00', 1)\n",
    "        \n",
    "    summa = s.count('1') + s.count('2') * 2 + s.count('3') * 3\n",
    "    print(summa, i)\n",
    "    if prost(summa):\n",
    "        print(i, summa)\n",
    "        \n",
    "        \n",
    "\n"
   ]
  },
  {
   "cell_type": "code",
   "execution_count": null,
   "metadata": {},
   "outputs": [],
   "source": [
    "import itertools\n",
    "\n",
    "d = '3' * 50 + '6' * 50 + '9' * 50\n",
    "\n",
    "for s in itertools.permutations(d):\n",
    "    temp = s\n",
    "    while '63' in temp or '69' in temp or '93' in temp:\n",
    "        if '63' in temp:\n",
    "            temp = temp.replace('63', '36', 1)\n",
    "        if '69' in temp:\n",
    "            temp = temp.replace('69', '96', 1)\n",
    "        if '93' in temp:\n",
    "            temp = temp.replace('93', '39', 1)\n",
    "    \n",
    "    try:\n",
    "        print(temp[43], temp[101], temp[145])\n",
    "        break\n",
    "    except:\n",
    "        ...\n"
   ]
  },
  {
   "cell_type": "code",
   "execution_count": null,
   "metadata": {},
   "outputs": [],
   "source": [
    "print(r('561' * 102))\n",
    "\n",
    "primes = [2, 3, 5, 7, 11, 13, 17, 19, 23, 29, 31, 37, 41, 43, 47, 53, 59, 61, 67, 71, 73, 79, 83, 89, 97, 101, 103]\n",
    "\n",
    "\n",
    "import itertools\n",
    "def algo(s):\n",
    "    while \"01\" in s or \"02\" in s:\n",
    "        s = s.replace(\"02\", \"1110\", 1)\n",
    "        s = s.replace(\"01\", \"220\", 1)\n",
    "    return sum([int(i) for i in s])\n",
    "\n",
    "s = \"012\"\n",
    "for times in range(40, 50):\n",
    "    for i in itertools.product(s, repeat=times):\n",
    "        print(\"\".join(i))\n",
    "        if algo(\"\".join(i)) in primes:\n",
    "            print(\"\".join(i), times, algo(\"\".join(i)))\n"
   ]
  },
  {
   "cell_type": "code",
   "execution_count": null,
   "metadata": {},
   "outputs": [],
   "source": [
    "\n",
    "# 5062\n",
    "import itertools\n",
    "\n",
    "\n",
    "def alg(stroka:str):\n",
    "    while \"00\" not in stroka:\n",
    "        stroka = stroka.replace(\"011\", \"20\", 1)\n",
    "        stroka = stroka.replace(\"022\", \"10\", 1)\n",
    "        stroka = stroka.replace(\"02\", \"110\", 1)\n",
    "        stroka = stroka.replace(\"01\", \"220\", 1)\n",
    "    return stroka\n",
    "\n",
    "def check(stroka:str):\n",
    "    if stroka.count(\"1\") == 47:\n",
    "        return stroka.count(\"2\")\n",
    "\n",
    "maximum = 0\n",
    "\n",
    "for j in range(50):\n",
    "    for i in itertools.product(\"012\", repeat=j):\n",
    "        i = \"\".join(i)\n",
    "        \n",
    "        if i[0] == \"0\" and i[-1] == \"0\" and i.count(\"2\") == i.count(\"1\"):\n",
    "            i = alg(i)\n",
    "            i = check(i)\n",
    "\n"
   ]
  },
  {
   "cell_type": "code",
   "execution_count": null,
   "metadata": {},
   "outputs": [],
   "source": [
    "    \n",
    "def algorithm(stroka:str):\n",
    "    while \"1111\" in stroka:\n",
    "        stroka = stroka.replace(\"1111\", \"22\", 1)\n",
    "        stroka = stroka.replace(\"222\", \"1\", 1)\n",
    "    \n",
    "    return stroka\n",
    "            \n",
    "minimum = 100000\n",
    "\n",
    "for i in range(201, 1000):\n",
    "    stroka = algorithm(\"1\" * i)\n",
    "    \n",
    "    if minimum > stroka.count(\"1\"):\n",
    "        minimum = stroka.count(\"1\")\n",
    "        best = i\n",
    "\n",
    "print(best)"
   ]
  },
  {
   "cell_type": "code",
   "execution_count": null,
   "metadata": {},
   "outputs": [],
   "source": [
    "# 39241\n",
    "\n",
    "def algorithm(stroka:str):\n",
    "    while \"111\" in stroka or \"222\" in stroka:\n",
    "        stroka = stroka.replace(\"111\", \"22\", 1)\n",
    "        stroka = stroka.replace(\"222\", \"1\", 1)\n",
    "    return stroka\n",
    "    \n",
    "for i in range(201, 1000):\n",
    "    stroka = \"1\" * i\n",
    "    stroka = algorithm(stroka)\n",
    "    if stroka.count(\"1\") == 0:\n",
    "        print(i)\n",
    "        break\n",
    " "
   ]
  },
  {
   "cell_type": "code",
   "execution_count": null,
   "metadata": {},
   "outputs": [],
   "source": [
    "\n",
    "# 35986\n",
    "def algorythm(stroka:str):\n",
    "    while \"00\" not in stroka:\n",
    "        stroka = stroka.replace(\"01\", \"210\", 1)\n",
    "        stroka = stroka.replace(\"02\", \"320\", 1)\n",
    "        stroka = stroka.replace(\"03\", \"3012\", 1)\n",
    "    return stroka\n",
    "\n",
    "def check(stroka:str):\n",
    "    return stroka.count(\"1\") == 23 and\\\n",
    "            stroka.count(\"2\") == 48 and\\\n",
    "                stroka.count(\"3\") == 41\n",
    "    \n",
    "\n",
    "for i in range(1, 100):\n",
    "    for j in range(1, 100):\n",
    "        for l in range(1, 100):\n",
    "            stroka = \"0\"+ \"1\" * i + \"2\" * j + \"3\" * l + \"0\"\n",
    "            if check(algorythm(stroka)):\n",
    "                print(len(stroka))      \n"
   ]
  },
  {
   "cell_type": "code",
   "execution_count": null,
   "metadata": {},
   "outputs": [],
   "source": [
    "for i in range(61, 1000, 1):\n",
    "    stroka = \"1\" * i\n",
    "    \n",
    "    while \"111\" in stroka:\n",
    "        stroka = stroka.replace(\"111\", \"2\", 1)\n",
    "        stroka = stroka.replace(\"222\", \"11\", 1)\n",
    "    \n",
    "    if \"221\" == stroka:\n",
    "        print(i)\n",
    "        break  \n"
   ]
  },
  {
   "cell_type": "code",
   "execution_count": null,
   "metadata": {},
   "outputs": [],
   "source": [
    "# 27240\n",
    "import itertools\n",
    "\n",
    "\n",
    "stroka = \"12\"\n",
    "maximum = 0\n",
    "best = None\n",
    "\n",
    "for j in itertools.product(stroka, repeat=13):\n",
    "    j = \"\".join(j)\n",
    "    if j.count(\"1\") == 10 and j.count(\"2\") == 3:\n",
    "        while \"11\" in j:\n",
    "            if \"112\" in j:\n",
    "                j = j.replace(\"112\", \"6\")\n",
    "            \n",
    "            else:\n",
    "                j = j.replace(\"11\", \"3\")\n",
    "        \n",
    "        if maximum < sum([int(i) for i in j]):\n",
    "            maximum = sum([int(i) for i in j])\n",
    "            best = j\n",
    "\n",
    "print(maximum, best)\n"
   ]
  },
  {
   "cell_type": "code",
   "execution_count": null,
   "metadata": {},
   "outputs": [],
   "source": [
    "\n",
    "# 23912\n",
    "\n",
    "stroka = \">\" + \"1\" * 10 + \"2\" * 20 + \"3\" * 30\n",
    "\n",
    "while \">1\" in stroka or \">2\" in stroka or \">3\" in stroka:\n",
    "    if \">1\" in stroka:\n",
    "        stroka = stroka.replace(\">1\", \"22>\", 1)\n",
    "    \n",
    "    if \">2\" in stroka:\n",
    "        stroka = stroka.replace(\">2\", \"2>\", 1)\n",
    "        \n",
    "    if \">3\" in stroka:\n",
    "        stroka = stroka.replace(\">3\", \"1>\", 1)\n",
    "\n",
    "summ = 0\n",
    "\n",
    "\n",
    "print(sum([int(i) for i in stroka.replace(\">\", \"\")]))\n",
    "\n"
   ]
  },
  {
   "cell_type": "code",
   "execution_count": null,
   "metadata": {},
   "outputs": [],
   "source": [
    "# 9365\n",
    "stroka = \"8\" * 68\n",
    "\n",
    "while \"222\" in stroka or \"888\" in stroka:\n",
    "    if \"222\" in stroka:\n",
    "        stroka = stroka.replace(\"222\", \"8\", 1)\n",
    "        \n",
    "    else:\n",
    "        stroka = stroka.replace(\"888\", \"2\", 1)\n",
    "    \n",
    "print(stroka)\n",
    "\n",
    "\n",
    "stroka = \"2\" + \"9\" * 100\n",
    "\n",
    "while \"19\" in stroka or \"299\" in stroka or \"3999\" in stroka:\n",
    "    stroka = stroka.replace(\"19\", \"2\", 1)\n",
    "    stroka = stroka.replace(\"299\", \"3\", 1)\n",
    "    stroka = stroka.replace(\"3999\", \"1\", 1)\n",
    "    \n",
    "print(stroka)\n",
    "\n"
   ]
  },
  {
   "cell_type": "code",
   "execution_count": 6,
   "metadata": {},
   "outputs": [
    {
     "data": {
      "text/plain": [
       "(4, 201)"
      ]
     },
     "execution_count": 6,
     "metadata": {},
     "output_type": "execute_result"
    }
   ],
   "source": [
    "max_1 = 0\n",
    "\n",
    "for i in range(201, 1000):\n",
    "    s = '1' * i\n",
    "    string = s\n",
    "\n",
    "    while '1111' in s:\n",
    "        s = s.replace('1111', '22', 1)\n",
    "        s = s.replace('222', '1', 1)\n",
    "        \n",
    "    if max_1 < s.count('1'):\n",
    "        max_1 = s.count('1')\n",
    "        m = string\n",
    "\n",
    "max_1,  m.count('1')\n",
    "    \n",
    "        "
   ]
  },
  {
   "cell_type": "code",
   "execution_count": 6,
   "metadata": {},
   "outputs": [
    {
     "name": "stdout",
     "output_type": "stream",
     "text": [
      "127 44 (True, {1, 127})\n",
      "131 46 (True, {1, 131})\n",
      "139 50 (True, {1, 139})\n",
      "151 56 (True, {1, 151})\n",
      "163 62 (True, {1, 163})\n",
      "167 64 (True, {1, 167})\n",
      "179 70 (True, {1, 179})\n",
      "191 76 (True, {1, 191})\n",
      "199 80 (True, {1, 199})\n",
      "211 86 (True, {1, 211})\n",
      "223 92 (True, {1, 223})\n",
      "227 94 (True, {1, 227})\n"
     ]
    }
   ],
   "source": [
    "def prost(num):\n",
    "    dels = set()\n",
    "    \n",
    "    for i in range(1, int(num**0.5)+1):\n",
    "        if num%i == 0:\n",
    "            dels.add(i)\n",
    "            dels.add(num//i)\n",
    "            \n",
    "    if len(dels) == 2:\n",
    "        return True, dels\n",
    "    return False\n",
    "\n",
    "for i in range(41, 100):\n",
    "    s = '0'+ '1' * 40 + '2' * i + '0'\n",
    "\n",
    "    while '00' not in s:\n",
    "        s = s.replace('02', '101', 1)\n",
    "        s = s.replace('11', '2', 1)\n",
    "        s = s.replace('012', '30', 1)\n",
    "        s = s.replace('010', '00', 1)\n",
    "        \n",
    "    r = sum([int(j) for j in s])\n",
    "    if prost(r):\n",
    "        print(r, i, prost(r))"
   ]
  },
  {
   "cell_type": "code",
   "execution_count": 2,
   "metadata": {},
   "outputs": [
    {
     "data": {
      "text/plain": [
       "9"
      ]
     },
     "execution_count": 2,
     "metadata": {},
     "output_type": "execute_result"
    }
   ],
   "source": [
    "lens = []\n",
    "\n",
    "for n in range(3, 1001):\n",
    "    \n",
    "    s = '1' + '2' * n\n",
    "    while '12' in s or '322' in s or '222' in s:\n",
    "        if '12' in s:\n",
    "            s = s.replace('12', '2', 1)\n",
    "        if '322' in s:\n",
    "            s = s.replace('322', '21', 1)\n",
    "        if '222' in s:\n",
    "            s =s.replace('222', '3', 1)\n",
    "    lens.append(len(s))\n",
    "    \n",
    "max(lens)\n",
    "        "
   ]
  },
  {
   "cell_type": "code",
   "execution_count": null,
   "metadata": {},
   "outputs": [],
   "source": [
    "s = '0' + '1' + '2' + '3'\n",
    "\n",
    "while '01' in s or '02' in s or '03' in s:\n",
    "    s = s.replace('01', '30', 1)\n",
    "    s = s.replace('02', '3103', 1)\n",
    "    s = s.replace('03', '1201', 1)\n",
    "\n",
    "    "
   ]
  },
  {
   "cell_type": "code",
   "execution_count": 10,
   "metadata": {},
   "outputs": [
    {
     "name": "stdout",
     "output_type": "stream",
     "text": [
      "55 19\n"
     ]
    }
   ],
   "source": [
    "for n in range(4, 100):\n",
    "    s = '3' + '5' * n\n",
    "    # print(s)\n",
    "    while '25' in s or '355' in s or '555' in s:\n",
    "        if '25' in s:\n",
    "            s = s.replace('25', '5', 1)\n",
    "        if '355' in s:\n",
    "            s = s.replace('355', '52', 1)\n",
    "        if '555' in s:\n",
    "            s = s.replace('555', '3' , 1)\n",
    "        \n",
    "    # print(s)\n",
    "    \n",
    "    if len(set(s)) == 1 and '5' in s:\n",
    "        print(s, n)\n",
    "        break\n",
    "        \n"
   ]
  },
  {
   "cell_type": "code",
   "execution_count": 2,
   "metadata": {
    "metadata": {}
   },
   "outputs": [
    {
     "data": {
      "text/plain": [
       "26"
      ]
     },
     "execution_count": 2,
     "metadata": {},
     "output_type": "execute_result"
    }
   ],
   "source": [
    "max_sum = 0\n",
    "\n",
    "for n in range(3, 10000):\n",
    "    s = '7' + '1' * n\n",
    "\n",
    "    while '1111' in s or '7777' in s:\n",
    "        if '1111' in s:\n",
    "            s = s.replace('1111', '77', 1)\n",
    "        else:\n",
    "            s = s.replace('7777', '11', 1)\n",
    "            \n",
    "    max_sum = max(max_sum, sum([int(i) for i in s]))\n",
    "    \n",
    "\n",
    "max_sum\n",
    "        \n"
   ]
  },
  {
   "cell_type": "code",
   "execution_count": 2,
   "metadata": {
    "metadata": {}
   },
   "outputs": [
    {
     "data": {
      "text/plain": [
       "'888'"
      ]
     },
     "execution_count": 2,
     "metadata": {},
     "output_type": "execute_result"
    }
   ],
   "source": [
    "s = '8' * 45\n",
    "\n",
    "while '1111' in s or '8888' in s:\n",
    "    if '1111' in s:\n",
    "        s = s.replace('1111', '88', 1)\n",
    "    else:\n",
    "        s = s.replace('8888', '11', 1)\n",
    "\n",
    "s"
   ]
  }
 ],
 "metadata": {
  "kernelspec": {
   "display_name": "venv",
   "language": "python",
   "name": "python3"
  },
  "language_info": {
   "codemirror_mode": {
    "name": "ipython",
    "version": 3
   },
   "file_extension": ".py",
   "mimetype": "text/x-python",
   "name": "python",
   "nbconvert_exporter": "python",
   "pygments_lexer": "ipython3",
   "version": "3.11.4"
  }
 },
 "nbformat": 4,
 "nbformat_minor": 2
}
