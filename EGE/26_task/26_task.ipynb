{
 "cells": [
  {
   "cell_type": "code",
   "execution_count": null,
   "metadata": {},
   "outputs": [],
   "source": [
    "file = open(\"task.txt\")\n",
    "\n",
    "nums = list((list(map(int, s.split())) for s in file))\n",
    "nums[:10]\n",
    "\n",
    "nums = sorted(nums, key=lambda x: x[-1])\n",
    "able = [nums[1]]\n",
    "\n",
    "left = 1\n",
    "right = 2\n",
    "\n",
    "while True:\n",
    "    if right + 1 == len(nums):\n",
    "        break\n",
    "    if nums[left][-1] < nums[right][0] - 15:\n",
    "        able.append(nums[right])\n",
    "        left = right\n",
    "        right += 1\n",
    "        continue\n",
    "    right += 1\n",
    "    \n",
    "len(able), able[-1][0] - able[-2][-1] "
   ]
  },
  {
   "cell_type": "code",
   "execution_count": null,
   "metadata": {},
   "outputs": [],
   "source": [
    "f = open(\"26.txt\")\n",
    "_ = f.readline()\n",
    "\n",
    "data = []\n",
    "start = 1634515200\n",
    "sec_in_week = 60 * 60 * 24 * 7\n",
    "end = start + sec_in_week\n",
    "\n",
    "for line in f:\n",
    "    pair = list(map(int, line.split()))\n",
    "    if pair[0] == 0:\n",
    "        pair[0] = start\n",
    "    if pair[1] == 0:\n",
    "        pair[1] = end\n",
    "    pair[0] -= start\n",
    "    pair[1] -= start\n",
    "    \n",
    "    if pair[0] > sec_in_week or pair[1] < 0:\n",
    "        continue\n",
    "    pair[0] = max(0, pair[0])\n",
    "    pair[1] = min(sec_in_week, pair[1])\n",
    "    data.append(pair)\n",
    "\n",
    "seconds = [0] * sec_in_week\n",
    "\n",
    "for item in data:\n",
    "    for i in range(item[0], item[1]):\n",
    "        seconds[i] += 1\n",
    "\n",
    "print(max(seconds))"
   ]
  },
  {
   "cell_type": "code",
   "execution_count": null,
   "metadata": {},
   "outputs": [],
   "source": [
    "f = open(\"26_1.txt\")\n",
    "\n",
    "storage = int((f.readline().split())[0])\n",
    "storage_temp = storage\n",
    "nums = []\n",
    "for line in f.readlines():\n",
    "    nums.append(int(line))\n",
    "\n",
    "nums = sorted(nums)\n",
    "\n",
    "c = 0\n",
    "i = 0\n",
    "while storage_temp > 0:\n",
    "    storage_temp -= nums[i]\n",
    "    i += 1\n",
    "    c += 1\n",
    "    \n",
    "c-=1\n",
    "print(c)\n",
    "\n",
    "summ = sum([i for i in nums[:567]])\n",
    "summ, nums[567]"
   ]
  },
  {
   "cell_type": "code",
   "execution_count": null,
   "metadata": {},
   "outputs": [],
   "source": [
    "f = open(\"27883.txt\")\n",
    "\n",
    "storage = int(f.readline().split()[0])\n",
    "r = storage\n",
    "nums = [int(i) for i in f]\n",
    "nums = sorted(nums)\n",
    "\n",
    "summ = 0\n",
    "\n",
    "for i in range(len(nums)):\n",
    "    if storage - nums[i] < 0:\n",
    "        print(i, nums[i-1], storage, summ)\n",
    "        break\n",
    "    storage -= nums[i]\n",
    "    summ += nums[i]\n",
    "\n"
   ]
  },
  {
   "cell_type": "code",
   "execution_count": 67,
   "metadata": {},
   "outputs": [
    {
     "data": {
      "text/plain": [
       "(32,\n",
       " 15,\n",
       " [[1134, 1146],\n",
       "  [1172, 1183],\n",
       "  [1199, 1221],\n",
       "  [1226, 1245],\n",
       "  [1246, 1259],\n",
       "  [1264, 1273],\n",
       "  [1288, 1298]])"
      ]
     },
     "execution_count": 67,
     "metadata": {},
     "output_type": "execute_result"
    }
   ],
   "source": [
    "f = open(\"26_2024.txt\")\n",
    "events = list(list(map(int, i.split())) for i in f)\n",
    "events = sorted(events, key=lambda x: x[-1])\n",
    "\n",
    "\n",
    "able = [events[0]]\n",
    "\n",
    "left = 0\n",
    "right = 1\n",
    "\n",
    "while True:\n",
    "    if right + 1 == len(events):\n",
    "        break\n",
    "    if events[left][-1] <= events[right][0]:\n",
    "        able.append(events[right])\n",
    "        left = right\n",
    "        right += 1\n",
    "        continue\n",
    "    right += 1\n",
    "        \n",
    "\n",
    "len(able), able[-1][0] - able[-2][-1], able[25:]"
   ]
  },
  {
   "cell_type": "code",
   "execution_count": null,
   "metadata": {},
   "outputs": [],
   "source": [
    "\n",
    "# \n",
    "# Глеб Кудасов и Саня Лоза решили выебнуться и зачем-то контекстный менеджер юзать :)\n",
    "# What's da POINT??"
   ]
  },
  {
   "cell_type": "code",
   "execution_count": 54,
   "metadata": {},
   "outputs": [
    {
     "name": "stdout",
     "output_type": "stream",
     "text": [
      "18746 18427 18746 18427\n"
     ]
    },
    {
     "data": {
      "text/plain": [
       "(5147132, 18746)"
      ]
     },
     "execution_count": 54,
     "metadata": {},
     "output_type": "execute_result"
    }
   ],
   "source": [
    "with open(\"26_59852.txt\") as f:\n",
    "    f = f.readlines()\n",
    "    n = int(f[0])\n",
    "    k = int(f[1])\n",
    "    parts = list(int(i) for i in f[2:2+n])\n",
    "    containers = list(int(i) for i in f[2+n:2+n+k])\n",
    "    \n",
    "print(len(parts), len(containers), n, k)\n",
    "\n",
    "total_value = 0\n",
    "num_parts = 0\n",
    "\n",
    "# storage_temp = containers.copy()\n",
    "\n",
    "for i in range(len(parts)):\n",
    "    for j in range(len(containers)):\n",
    "        if containers[j] - parts[i] > 0:\n",
    "            total_value += parts[i]\n",
    "            containers[j] -= parts[i]\n",
    "            num_parts += 1 \n",
    "            break\n",
    "    \n",
    "total_value, num_parts\n"
   ]
  },
  {
   "cell_type": "code",
   "execution_count": 34,
   "metadata": {},
   "outputs": [],
   "source": [
    "with open(\"33198.txt\") as f:\n",
    "    f = f.readlines()\n",
    "    m, volume = map(int, f[0].split())\n",
    "    weights = list([int(i) for i in f[1:]])\n",
    "able = []\n",
    "weights = sorted(weights)\n",
    "num_weights = 0\n",
    "mass = 0\n",
    "\n",
    "for i in range(len(weights)):\n",
    "    if 200<=weights[i]<=210:\n",
    "        num_weights+=1\n",
    "        mass+=weights[i]\n",
    "        volume -= weights[i]\n",
    "        weights[i] = 0\n",
    "    if weights[i] > 210:\n",
    "        break\n",
    "right = 0\n",
    "\n",
    "while volume - weights[right] > 0:\n",
    "    if right + 1 == len(weights):\n",
    "        break\n",
    "    volume -= weights[right]\n",
    "    num_weights += 1\n",
    "    able.append(weights[right])\n",
    "    mass += weights[right]\n",
    "    right += 1\n",
    "\n",
    "weights = sorted(weights, reverse=True)\n",
    "\n",
    "for i in range(len(weights)):\n",
    "    for j in range(len(able)):\n",
    "        temp_able = able.copy()\n",
    "        temp_able[j] = weights[i]\n",
    "        if sum(set(temp_able)) == sum(able):\n",
    "            able = temp_able.copy()\n",
    "            break"
   ]
  },
  {
   "cell_type": "code",
   "execution_count": 35,
   "metadata": {},
   "outputs": [
    {
     "data": {
      "text/plain": [
       "(9963, 123)"
      ]
     },
     "execution_count": 35,
     "metadata": {},
     "output_type": "execute_result"
    }
   ],
   "source": [
    "mass, num_weights"
   ]
  },
  {
   "cell_type": "code",
   "execution_count": 25,
   "metadata": {},
   "outputs": [],
   "source": [
    "with open(\"inf_26_04_21_26.txt\") as f:\n",
    "    f = f.readlines()\n",
    "    nums = sorted(list(int(i) for i in f[1:]))\n",
    "    \n",
    "nums_s = set(nums)\n",
    "sums = set()\n",
    "for i in range(len(nums)-1):\n",
    "    for j in range(i+1, len(nums)):\n",
    "        if (nums[i] + nums[j]) % 2 == 0:\n",
    "            if (nums[i] + nums[j]) in nums_s:\n",
    "                sums.add(nums[i] + nums[j])\n",
    "\n",
    "            \n",
    "\n",
    "len(sums), max(sums)"
   ]
  },
  {
   "cell_type": "code",
   "execution_count": 57,
   "metadata": {},
   "outputs": [
    {
     "data": {
      "text/plain": [
       "(10, 0)"
      ]
     },
     "execution_count": 57,
     "metadata": {},
     "output_type": "execute_result"
    }
   ],
   "source": [
    "with open(\"EGE/26_task/temp.txt\") as f:\n",
    "    f = f.readlines()\n",
    "    pairs = []\n",
    "    A_pairs = []\n",
    "    value = int(f[0].split()[1])\n",
    "    for i in f[1:]:\n",
    "        i = i.split()\n",
    "        pairs.append([int(i[0]), i[1]])\n",
    "        if i[1] == 'A':\n",
    "            A_pairs.append([int(i[0]), i[1]])\n",
    "\n",
    "pairs = sorted(pairs, key=lambda x: x[0])\n",
    "A_pairs = sorted(A_pairs, key=lambda x: x[0])\n",
    "temp_value = value\n",
    "\n",
    "right = 0\n",
    "count_A = 0\n",
    "valid = []\n",
    "\n",
    "\n",
    "\n",
    "while temp_value - pairs[right][0] > 0:\n",
    "    if right + 1 == len(pairs):\n",
    "        break\n",
    "    if pairs[right][1] == 'A':\n",
    "        count_A += 1\n",
    "    temp_value -= pairs[right][0]\n",
    "    valid.append(pairs[right])\n",
    "    right += 1\n",
    "\n",
    "current_sum = sum([i[0] for i in valid])\n",
    "\n",
    "for i in range(count_A, len(A_pairs)):\n",
    "    temp_sum = current_sum\n",
    "    if \n",
    "        \n",
    "        \n",
    "print(valid, current_sum)        \n",
    "\n"
   ]
  }
 ],
 "metadata": {
  "kernelspec": {
   "display_name": "venv",
   "language": "python",
   "name": "python3"
  },
  "language_info": {
   "codemirror_mode": {
    "name": "ipython",
    "version": 3
   },
   "file_extension": ".py",
   "mimetype": "text/x-python",
   "name": "python",
   "nbconvert_exporter": "python",
   "pygments_lexer": "ipython3",
   "version": "3.11.4"
  }
 },
 "nbformat": 4,
 "nbformat_minor": 2
}
