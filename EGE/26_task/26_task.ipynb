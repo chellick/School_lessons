{
 "cells": [
  {
   "cell_type": "code",
   "execution_count": 17,
   "metadata": {},
   "outputs": [
    {
     "data": {
      "text/plain": [
       "[[990],\n",
       " [990, 1151],\n",
       " [399, 606],\n",
       " [196, 727],\n",
       " [564, 1188],\n",
       " [905, 1263],\n",
       " [865, 1190],\n",
       " [642, 716],\n",
       " [840, 842],\n",
       " [497, 1126]]"
      ]
     },
     "execution_count": 17,
     "metadata": {},
     "output_type": "execute_result"
    }
   ],
   "source": [
    "file = open(\"task.txt\")\n",
    "\n",
    "nums = list((list(map(int, s.split())) for s in file))\n",
    "nums[:10]"
   ]
  },
  {
   "cell_type": "code",
   "execution_count": null,
   "metadata": {},
   "outputs": [],
   "source": [
    "nums = sorted(nums, key=lambda x: x[-1])\n",
    "able = [nums[1]]\n",
    "\n",
    "left = 1\n",
    "right = 2\n",
    "\n",
    "while True:\n",
    "    if right + 1 == len(nums):\n",
    "        break\n",
    "    if nums[left][-1] < nums[right][0] - 15:\n",
    "        able.append(nums[right])\n",
    "        left = right\n",
    "        right += 1\n",
    "        continue\n",
    "    right += 1\n",
    "    \n",
    "len(able), able[-1][0] - able[-2][-1] "
   ]
  },
  {
   "cell_type": "code",
   "execution_count": null,
   "metadata": {},
   "outputs": [],
   "source": [
    "f = open(\"26.txt\")\n",
    "_ = f.readline()\n",
    "\n",
    "data = []\n",
    "start = 1634515200\n",
    "sec_in_week = 60 * 60 * 24 * 7\n",
    "end = start + sec_in_week\n",
    "\n",
    "for line in f:\n",
    "    pair = list(map(int, line.split()))\n",
    "    if pair[0] == 0:\n",
    "        pair[0] = start\n",
    "    if pair[1] == 0:\n",
    "        pair[1] = end\n",
    "    pair[0] -= start\n",
    "    pair[1] -= start\n",
    "    \n",
    "    if pair[0] > sec_in_week or pair[1] < 0:\n",
    "        continue\n",
    "    pair[0] = max(0, pair[0])\n",
    "    pair[1] = min(sec_in_week, pair[1])\n",
    "    data.append(pair)\n",
    "\n",
    "seconds = [0] * sec_in_week\n",
    "\n",
    "for item in data:\n",
    "    for i in range(item[0], item[1]):\n",
    "        seconds[i] += 1\n",
    "\n",
    "print(max(seconds))"
   ]
  },
  {
   "cell_type": "code",
   "execution_count": null,
   "metadata": {},
   "outputs": [],
   "source": [
    "f = open(\"26_1.txt\")\n",
    "\n",
    "storage = int((f.readline().split())[0])\n",
    "storage_temp = storage\n",
    "nums = []\n",
    "for line in f.readlines():\n",
    "    nums.append(int(line))\n",
    "\n",
    "nums = sorted(nums)\n",
    "\n",
    "c = 0\n",
    "i = 0\n",
    "while storage_temp > 0:\n",
    "    storage_temp -= nums[i]\n",
    "    i += 1\n",
    "    c += 1\n",
    "    \n",
    "c-=1\n",
    "print(c)\n",
    "\n",
    "summ = sum([i for i in nums[:567]])\n",
    "summ, nums[567]"
   ]
  },
  {
   "cell_type": "code",
   "execution_count": null,
   "metadata": {},
   "outputs": [],
   "source": [
    "f = open(\"27883.txt\")\n",
    "\n",
    "storage = int(f.readline().split()[0])\n",
    "r = storage\n",
    "nums = [int(i) for i in f]\n",
    "nums = sorted(nums)\n",
    "\n",
    "summ = 0\n",
    "\n",
    "for i in range(len(nums)):\n",
    "    if storage - nums[i] < 0:\n",
    "        print(i, nums[i-1], storage, summ)\n",
    "        break\n",
    "    storage -= nums[i]\n",
    "    summ += nums[i]\n",
    "\n"
   ]
  },
  {
   "cell_type": "code",
   "execution_count": 25,
   "metadata": {},
   "outputs": [
    {
     "data": {
      "text/plain": [
       "[[596, 600],\n",
       " [575, 601],\n",
       " [506, 601],\n",
       " [438, 603],\n",
       " [545, 605],\n",
       " [399, 606],\n",
       " [521, 606],\n",
       " [168, 609],\n",
       " [135, 614],\n",
       " [252, 614]]"
      ]
     },
     "execution_count": 25,
     "metadata": {},
     "output_type": "execute_result"
    }
   ],
   "source": [
    "f = open(\"26_2024.txt\")\n",
    "events = list(list(map(int, i.split())) for i in f)\n",
    "events = sorted(events, key=lambda x: x[-1])\n",
    "events[:10]\n"
   ]
  },
  {
   "cell_type": "code",
   "execution_count": null,
   "metadata": {},
   "outputs": [],
   "source": [
    "able = [events[0]]\n",
    "\n",
    "left = 0\n",
    "right = 1\n",
    "\n",
    "while True:\n",
    "    if right + 1 == len(events):\n",
    "        break\n",
    "    if events[left][-1] <= events[right][0]:\n",
    "        able.append(events[right])\n",
    "        left = right\n",
    "        right += 1\n",
    "        continue\n",
    "    right += 1\n",
    "        \n",
    "\n",
    "len(able), able[-1][0] - able[-2][-1], able, events[-1]"
   ]
  },
  {
   "cell_type": "code",
   "execution_count": 48,
   "metadata": {},
   "outputs": [
    {
     "name": "stdout",
     "output_type": "stream",
     "text": [
      "18746 18427 18746 18427\n"
     ]
    }
   ],
   "source": [
    "with open(\"26_59852.txt\") as f:\n",
    "    f = f.readlines()\n",
    "    n = int(f[0])\n",
    "    k = int(f[1])\n",
    "    parts = list(int(i) for i in f[2:2+n])\n",
    "    containers = list(int(i) for i in f[2+n:2+n+k])\n",
    "    \n",
    "print(len(parts), len(containers), n, k)\n",
    "\n",
    "# containers = sorted(containers)\n",
    "# parts = sorted(parts)"
   ]
  },
  {
   "cell_type": "code",
   "execution_count": 49,
   "metadata": {},
   "outputs": [
    {
     "data": {
      "text/plain": [
       "([98, 538, 788, 993, 814, 995, 452, 633, 545, 907],\n",
       " [137, 170, 461, 107, 133, 273, 183, 212, 471, 445])"
      ]
     },
     "execution_count": 49,
     "metadata": {},
     "output_type": "execute_result"
    }
   ],
   "source": [
    "containers[:10], parts[:10]"
   ]
  },
  {
   "cell_type": "code",
   "execution_count": 50,
   "metadata": {},
   "outputs": [
    {
     "data": {
      "text/plain": [
       "{1, 3}"
      ]
     },
     "execution_count": 50,
     "metadata": {},
     "output_type": "execute_result"
    }
   ],
   "source": [
    "set([1, 6, 3]).intersection([1, 2, 3])"
   ]
  },
  {
   "cell_type": "code",
   "execution_count": 51,
   "metadata": {},
   "outputs": [
    {
     "data": {
      "text/plain": [
       "(5147132, 18427)"
      ]
     },
     "execution_count": 51,
     "metadata": {},
     "output_type": "execute_result"
    }
   ],
   "source": [
    "total_value = 0\n",
    "max_containers = 0\n",
    "\n",
    "storage_temp = containers.copy()\n",
    "\n",
    "for i in range(len(parts)):\n",
    "    for j in range(len(containers)):\n",
    "        if containers[j] - parts[i] > 0:\n",
    "            total_value += parts[i]\n",
    "            containers[j] -= parts[i] \n",
    "            if j > max_containers:\n",
    "                max_containers = j\n",
    "            break\n",
    "    max_containers = len(containers)\n",
    "    \n",
    "total_value, max_containers\n",
    "            "
   ]
  }
 ],
 "metadata": {
  "kernelspec": {
   "display_name": "venv",
   "language": "python",
   "name": "python3"
  },
  "language_info": {
   "codemirror_mode": {
    "name": "ipython",
    "version": 3
   },
   "file_extension": ".py",
   "mimetype": "text/x-python",
   "name": "python",
   "nbconvert_exporter": "python",
   "pygments_lexer": "ipython3",
   "version": "3.11.4"
  }
 },
 "nbformat": 4,
 "nbformat_minor": 2
}
