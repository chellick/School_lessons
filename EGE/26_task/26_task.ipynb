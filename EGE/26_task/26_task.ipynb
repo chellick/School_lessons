{
 "cells": [
  {
   "cell_type": "code",
   "execution_count": null,
   "metadata": {},
   "outputs": [],
   "source": [
    "file = open(\"task.txt\")\n",
    "\n",
    "nums = list((list(map(int, s.split())) for s in file))\n",
    "nums[:10]\n",
    "\n",
    "nums = sorted(nums, key=lambda x: x[-1])\n",
    "able = [nums[1]]\n",
    "\n",
    "left = 1\n",
    "right = 2\n",
    "\n",
    "while True:\n",
    "    if right + 1 == len(nums):\n",
    "        break\n",
    "    if nums[left][-1] < nums[right][0] - 15:\n",
    "        able.append(nums[right])\n",
    "        left = right\n",
    "        right += 1\n",
    "        continue\n",
    "    right += 1\n",
    "    \n",
    "len(able), able[-1][0] - able[-2][-1] "
   ]
  },
  {
   "cell_type": "code",
   "execution_count": null,
   "metadata": {},
   "outputs": [],
   "source": [
    "f = open(\"26.txt\")\n",
    "_ = f.readline()\n",
    "\n",
    "data = []\n",
    "start = 1634515200\n",
    "sec_in_week = 60 * 60 * 24 * 7\n",
    "end = start + sec_in_week\n",
    "\n",
    "for line in f:\n",
    "    pair = list(map(int, line.split()))\n",
    "    if pair[0] == 0:\n",
    "        pair[0] = start\n",
    "    if pair[1] == 0:\n",
    "        pair[1] = end\n",
    "    pair[0] -= start\n",
    "    pair[1] -= start\n",
    "    \n",
    "    if pair[0] > sec_in_week or pair[1] < 0:\n",
    "        continue\n",
    "    pair[0] = max(0, pair[0])\n",
    "    pair[1] = min(sec_in_week, pair[1])\n",
    "    data.append(pair)\n",
    "\n",
    "seconds = [0] * sec_in_week\n",
    "\n",
    "for item in data:\n",
    "    for i in range(item[0], item[1]):\n",
    "        seconds[i] += 1\n",
    "\n",
    "print(max(seconds))"
   ]
  },
  {
   "cell_type": "code",
   "execution_count": null,
   "metadata": {},
   "outputs": [],
   "source": [
    "f = open(\"26_1.txt\")\n",
    "\n",
    "storage = int((f.readline().split())[0])\n",
    "storage_temp = storage\n",
    "nums = []\n",
    "for line in f.readlines():\n",
    "    nums.append(int(line))\n",
    "\n",
    "nums = sorted(nums)\n",
    "\n",
    "c = 0\n",
    "i = 0\n",
    "while storage_temp > 0:\n",
    "    storage_temp -= nums[i]\n",
    "    i += 1\n",
    "    c += 1\n",
    "    \n",
    "c-=1\n",
    "print(c)\n",
    "\n",
    "summ = sum([i for i in nums[:567]])\n",
    "summ, nums[567]"
   ]
  },
  {
   "cell_type": "code",
   "execution_count": null,
   "metadata": {},
   "outputs": [],
   "source": [
    "f = open(\"27883.txt\")\n",
    "\n",
    "storage = int(f.readline().split()[0])\n",
    "r = storage\n",
    "nums = [int(i) for i in f]\n",
    "nums = sorted(nums)\n",
    "\n",
    "summ = 0\n",
    "\n",
    "for i in range(len(nums)):\n",
    "    if storage - nums[i] < 0:\n",
    "        print(i, nums[i-1], storage, summ)\n",
    "        break\n",
    "    storage -= nums[i]\n",
    "    summ += nums[i]\n",
    "\n"
   ]
  },
  {
   "cell_type": "code",
   "execution_count": 67,
   "metadata": {},
   "outputs": [
    {
     "data": {
      "text/plain": [
       "(32,\n",
       " 15,\n",
       " [[1134, 1146],\n",
       "  [1172, 1183],\n",
       "  [1199, 1221],\n",
       "  [1226, 1245],\n",
       "  [1246, 1259],\n",
       "  [1264, 1273],\n",
       "  [1288, 1298]])"
      ]
     },
     "execution_count": 67,
     "metadata": {},
     "output_type": "execute_result"
    }
   ],
   "source": [
    "f = open(\"26_2024.txt\")\n",
    "events = list(list(map(int, i.split())) for i in f)\n",
    "events = sorted(events, key=lambda x: x[-1])\n",
    "\n",
    "\n",
    "able = [events[0]]\n",
    "\n",
    "left = 0\n",
    "right = 1\n",
    "\n",
    "while True:\n",
    "    if right + 1 == len(events):\n",
    "        break\n",
    "    if events[left][-1] <= events[right][0]:\n",
    "        able.append(events[right])\n",
    "        left = right\n",
    "        right += 1\n",
    "        continue\n",
    "    right += 1\n",
    "        \n",
    "\n",
    "len(able), able[-1][0] - able[-2][-1], able[25:]"
   ]
  },
  {
   "cell_type": "code",
   "execution_count": null,
   "metadata": {},
   "outputs": [],
   "source": [
    "# Глеб Кудасов и Саня Лоза решили выебнуться и зачем-то контекстный менеджер юзать :)\n",
    "# What's da POINT??"
   ]
  },
  {
   "cell_type": "code",
   "execution_count": 54,
   "metadata": {},
   "outputs": [
    {
     "name": "stdout",
     "output_type": "stream",
     "text": [
      "18746 18427 18746 18427\n"
     ]
    },
    {
     "data": {
      "text/plain": [
       "(5147132, 18746)"
      ]
     },
     "execution_count": 54,
     "metadata": {},
     "output_type": "execute_result"
    }
   ],
   "source": [
    "with open(\"26_59852.txt\") as f:\n",
    "    f = f.readlines()\n",
    "    n = int(f[0])\n",
    "    k = int(f[1])\n",
    "    parts = list(int(i) for i in f[2:2+n])\n",
    "    containers = list(int(i) for i in f[2+n:2+n+k])\n",
    "    \n",
    "print(len(parts), len(containers), n, k)\n",
    "\n",
    "total_value = 0\n",
    "num_parts = 0\n",
    "\n",
    "# storage_temp = containers.copy()\n",
    "\n",
    "for i in range(len(parts)):\n",
    "    for j in range(len(containers)):\n",
    "        if containers[j] - parts[i] > 0:\n",
    "            total_value += parts[i]\n",
    "            containers[j] -= parts[i]\n",
    "            num_parts += 1 \n",
    "            break\n",
    "    \n",
    "total_value, num_parts\n"
   ]
  },
  {
   "cell_type": "code",
   "execution_count": 14,
   "metadata": {},
   "outputs": [
    {
     "data": {
      "text/plain": [
       "(9963, 123)"
      ]
     },
     "execution_count": 14,
     "metadata": {},
     "output_type": "execute_result"
    }
   ],
   "source": [
    "with open(\"33198.txt\") as f:\n",
    "    f = f.readlines()\n",
    "    m, volume = map(int, f[0].split())\n",
    "    weights = list([int(i) for i in f[1:]])\n",
    "able = []\n",
    "weights = sorted(weights)\n",
    "num_weights = 0\n",
    "mass = 0\n",
    "\n",
    "for i in range(len(weights)):\n",
    "    if 200<=weights[i]<=210:\n",
    "        num_weights+=1\n",
    "        mass+=weights[i]\n",
    "        volume -= weights[i]\n",
    "        weights[i] = 0\n",
    "    if weights[i] > 210:\n",
    "        break\n",
    "right = 0\n",
    "\n",
    "while volume - weights[right] > 0:\n",
    "    if right + 1 == len(weights):\n",
    "        break\n",
    "    volume -= weights[right]\n",
    "    num_weights += 1\n",
    "    able.append(weights[right])\n",
    "    mass += weights[right]\n",
    "    right += 1\n",
    "\n",
    "weights = sorted(weights, reverse=True)\n",
    "\n",
    "for i in range(len(weights)):\n",
    "    for j in range(len(able)):\n",
    "        temp_able = able.copy()\n",
    "        temp_able[j] = weights[i]\n",
    "        if sum(set(temp_able)) == sum(able):\n",
    "            able = temp_able.copy()\n",
    "            break\n",
    "        \n",
    "mass, num_weights"
   ]
  },
  {
   "cell_type": "code",
   "execution_count": 25,
   "metadata": {},
   "outputs": [],
   "source": [
    "with open(\"inf_26_04_21_26.txt\") as f:\n",
    "    f = f.readlines()\n",
    "    nums = sorted(list(int(i) for i in f[1:]))\n",
    "    \n",
    "nums_s = set(nums)\n",
    "sums = set()\n",
    "for i in range(len(nums)-1):\n",
    "    for j in range(i+1, len(nums)):\n",
    "        if (nums[i] + nums[j]) % 2 == 0:\n",
    "            if (nums[i] + nums[j]) in nums_s:\n",
    "                sums.add(nums[i] + nums[j])\n",
    "\n",
    "            \n",
    "\n",
    "len(sums), max(sums)"
   ]
  },
  {
   "cell_type": "code",
   "execution_count": 25,
   "metadata": {},
   "outputs": [
    {
     "data": {
      "text/plain": [
       "(157, 267)"
      ]
     },
     "execution_count": 25,
     "metadata": {},
     "output_type": "execute_result"
    }
   ],
   "source": [
    "with open(\"abs26.txt\") as f:\n",
    "    f = f.readlines()\n",
    "    pairs = []\n",
    "    value = int(f[0].split()[1])\n",
    "    for i in f[1:]:\n",
    "        i = i.split()\n",
    "        pairs.append([int(i[0]), i[1]])\n",
    "        \n",
    "\n",
    "target_value = int(f[0].split()[1])\n",
    "temp_target_value = target_value\n",
    "\n",
    "pairs = sorted(pairs, key=lambda x: x[0])\n",
    "A_p = []\n",
    "B_p = []\n",
    "\n",
    "for p in pairs:\n",
    "    if p[1] == 'A':\n",
    "        A_p.append(p[0])\n",
    "    else:\n",
    "        B_p.append(p[0])\n",
    "    \n",
    "total_amount = 0\n",
    "    \n",
    "for i in pairs:\n",
    "    if temp_target_value - i[0] < 0:\n",
    "        break\n",
    "    total_amount += 1\n",
    "    temp_target_value -= i[0]\n",
    "\n",
    "\n",
    "max_A = 0\n",
    "max_sum = 0\n",
    "\n",
    "for i in range(0, total_amount):\n",
    "    temp_value = A_p[:i] + B_p[0:total_amount-i]\n",
    "    if sum(temp_value) < target_value:\n",
    "        max_A = i\n",
    "        max_sum = sum(temp_value)\n",
    "\n",
    "max_A, target_value - max_sum"
   ]
  },
  {
   "cell_type": "code",
   "execution_count": 41,
   "metadata": {},
   "outputs": [
    {
     "name": "stdout",
     "output_type": "stream",
     "text": [
      "543\n"
     ]
    },
    {
     "data": {
      "text/plain": [
       "459677.9"
      ]
     },
     "execution_count": 41,
     "metadata": {},
     "output_type": "execute_result"
    }
   ],
   "source": [
    "with open(\"sam_altman.txt\") as f:\n",
    "    f = f.readlines()\n",
    "    nums = list([int(i) for i in f[1:]])\n",
    "\n",
    "total_sum = 0\n",
    "\n",
    "nums = sorted(nums)\n",
    "temp_nums = nums.copy()\n",
    "\n",
    "for i in nums:\n",
    "    if i < 101:\n",
    "        total_sum += temp_nums.pop(temp_nums.index(i))\n",
    "    else:\n",
    "        break\n",
    "\n",
    "for i in range(len(temp_nums)//2):\n",
    "    total_sum += temp_nums[i] * 0.7\n",
    "\n",
    "print(temp_nums[i])\n",
    "\n",
    "for i in range(len(temp_nums)//2, len(temp_nums)):\n",
    "    total_sum += temp_nums[i]\n",
    "    \n",
    "total_sum"
   ]
  },
  {
   "cell_type": "code",
   "execution_count": 77,
   "metadata": {},
   "outputs": [],
   "source": [
    "with open(\"26_5446.txt\") as f:\n",
    "    f = f.readlines()[1:]\n",
    "    data = list(list(map(int, i.split())) for i in f)\n",
    "    \n",
    "uniq_data = []\n",
    "for i in data:\n",
    "    if i not in uniq_data:\n",
    "        uniq_data.append(i)\n",
    "\n",
    "data = sorted(data, key=lambda x: {x[0], x[1]})\n",
    "max_amount = 0\n",
    "\n",
    "combinations = []\n",
    "\n",
    "# for i in range(len(data)):\n",
    "#     for j in range(i, len(data)-1):\n",
    "        "
   ]
  },
  {
   "cell_type": "code",
   "execution_count": 6,
   "metadata": {},
   "outputs": [
    {
     "name": "stdout",
     "output_type": "stream",
     "text": [
      "36 106\n"
     ]
    }
   ],
   "source": [
    "f = open('26_5446.txt')\n",
    "\n",
    "diametres = []\n",
    "for i in f:\n",
    "    d, s = map(int, i.split())\n",
    "    diametres.append([d, d - 2*s])\n",
    "\n",
    "diametres = sorted(diametres, key=lambda x: (x[0], x[1]))\n",
    "\n",
    "uniq_data = []\n",
    "for i in diametres:\n",
    "    if i not in uniq_data:\n",
    "        uniq_data.append(i)\n",
    "\n",
    "max_count = 0\n",
    "max_diameter = 0\n",
    "\n",
    "\n",
    "for i in range(len(uniq_data)):\n",
    "    temp_count = 1\n",
    "\n",
    "    vnutr_dVnesh = uniq_data[i][0] # внешний D внутренний трубы\n",
    "    last_vnesh = vnutr_dVnesh\n",
    "\n",
    "    for j in range(i + 1, len(uniq_data)):\n",
    "        vnesh_d_vnesh = uniq_data[j][0] # внешний D внешний трубы\n",
    "        vnesh_d_vnutr = uniq_data[j][1] # внутренний\n",
    "\n",
    "        if vnesh_d_vnutr >= last_vnesh + 3:\n",
    "            temp_count += 1\n",
    "            last_vnesh = vnesh_d_vnesh\n",
    "\n",
    "    \n",
    "    if temp_count >= max_count:\n",
    "        max_count = temp_count\n",
    "        max_diameter = uniq_data[i][0]\n",
    "\n",
    "\n",
    "print(max_count, max_diameter)"
   ]
  },
  {
   "cell_type": "code",
   "execution_count": 13,
   "metadata": {},
   "outputs": [
    {
     "data": {
      "text/plain": [
       "(3, 200, [7, 7, 7, 7, 7])"
      ]
     },
     "execution_count": 13,
     "metadata": {},
     "output_type": "execute_result"
    }
   ],
   "source": [
    "with open(\"28139.txt\") as f:\n",
    "    f = f.readlines()\n",
    "    storage = int(f[0].split()[0])\n",
    "    nums = list([int(i) for i in f[1:]])\n",
    "    nums = sorted(nums)\n",
    "    besd = []\n",
    "    right = 0\n",
    "    while storage - nums[right] > 0:\n",
    "        if right + 1 == len(nums):\n",
    "            break\n",
    "        storage -= nums[right]\n",
    "        besd.append(nums[right])\n",
    "        right += 1\n",
    "        \n",
    "\n",
    "storage, len(besd), besd[-5:], "
   ]
  },
  {
   "cell_type": "code",
   "execution_count": 38,
   "metadata": {},
   "outputs": [
    {
     "name": "stdout",
     "output_type": "stream",
     "text": [
      "109 [10, 15, 15, 18, 21, 21, 22, 22, 22, 23, 24, 25, 26, 27, 27, 28, 29, 29, 31, 32, 33, 33, 33, 34, 34, 38, 38, 41, 44, 45, 48, 49, 49, 50, 51, 51, 52, 53, 56, 58, 59, 60, 62, 63, 63, 64, 65, 66, 66, 67, 67, 67, 68, 68, 68, 68, 68, 68, 69, 69, 71, 71, 71, 72, 73, 73, 74, 75, 75, 76, 79, 79, 80, 81, 81, 83, 84, 84, 85, 86, 89, 90, 91, 93, 93, 97, 99, 99, 100, 101, 101, 102, 102, 102, 103, 104, 104, 105, 105, 108, 113, 114, 116, 118, 121, 121, 122, 123, 123]\n",
      "109 10000 47 9953\n",
      "122 10000\n"
     ]
    }
   ],
   "source": [
    "with open(\"weights26.txt\") as file:\n",
    "    read = file.read().splitlines()\n",
    "    _, m = map(int, read[0].split())\n",
    "    m_ = m\n",
    "    read = list(sorted(map(int, read[1:])))\n",
    "    count = len(list(filter(lambda x: x > 200 and x <= 210, read[1:])))\n",
    "    m -= sum(filter(lambda x: x > 200 and x <= 210, read[1:]))\n",
    "    read = list(filter(lambda x: not (x > 200 and x <= 210), read[1:]))\n",
    "\n",
    "    for i in range(len(read)):\n",
    "        if m - read[i] >= 0:\n",
    "            m -= read[i]\n",
    "        else:\n",
    "            break\n",
    "    print(i, read[:i])\n",
    "    print(i, m_, m, m_ - m)\n",
    "    for j in range(i - 1, -1, -1):\n",
    "        for k in range(i, len(read)):\n",
    "            if m - (read[k] - read[j]) < 0:\n",
    "                if m - (read[k - 1] - read[j]) >= 0:\n",
    "                    m = m - (read[k - 1] - read[j])\n",
    "                break\n",
    "    print(count + i, m_ - m)"
   ]
  },
  {
   "cell_type": "code",
   "execution_count": 58,
   "metadata": {},
   "outputs": [
    {
     "data": {
      "text/plain": [
       "123"
      ]
     },
     "execution_count": 58,
     "metadata": {},
     "output_type": "execute_result"
    }
   ],
   "source": [
    "with open(\"weights26.txt\") as f:\n",
    "    f = f.readlines()\n",
    "    _, money = map(int, f[0].split())\n",
    "    temp_money = money\n",
    "    nums = sorted(list(int(i) for i in f[1:]))\n",
    "    temp_money -= sum(filter(lambda x: x > 200 and x <= 210, nums))\n",
    "    count = len(list(filter(lambda x: x > 200 and x <= 210, nums)))\n",
    "    nums = list(filter(lambda x: not (x > 200 and x <= 210), nums))\n",
    "\n",
    "    \n",
    "    ability = []\n",
    "    \n",
    "    for i in range(len(nums)):\n",
    "        if temp_money - nums[i] < 0:\n",
    "            break\n",
    "        temp_money -= nums[i]\n",
    "        ability.append(nums[i])\n",
    "\n",
    "len(ability) + count\n"
   ]
  },
  {
   "cell_type": "code",
   "execution_count": 29,
   "metadata": {},
   "outputs": [
    {
     "data": {
      "text/plain": [
       "(154, 87)"
      ]
     },
     "execution_count": 29,
     "metadata": {},
     "output_type": "execute_result"
    }
   ],
   "source": [
    "with open(\"abs26.txt\") as f:\n",
    "    f = f.readlines()\n",
    "    _, total = map(int, f[0].split())\n",
    "    parts = list( [int(i.split()[0]), i.split()[1]] for i in f[1:])\n",
    "    parts = sorted(parts, key=lambda x: x[0])\n",
    "    A_parts = list(filter(lambda x: x[1] == 'A', parts))\n",
    "    B_parts = list(filter(lambda x: x[1] == 'B', parts))\n",
    "\n",
    "    temp_total = total\n",
    "    max_amount = 0\n",
    "    for i in parts:\n",
    "        if total - i[0] < 0:\n",
    "            break\n",
    "        total -= i[0] Z\n",
    "        max_amount += 1\n",
    "\n",
    "    best = i\n",
    "    l = []\n",
    "\n",
    "    for i in range(max_amount):\n",
    "        current = B_parts[0:i] + A_parts[0:max_amount-i]\n",
    "        if sum([j[0] for j in current]) < temp_total:\n",
    "            best = i\n",
    "            l = current\n",
    "\n",
    "best, temp_total - sum([i[0] for i in l])"
   ]
  },
  {
   "cell_type": "code",
   "execution_count": 15,
   "metadata": {},
   "outputs": [
    {
     "name": "stdout",
     "output_type": "stream",
     "text": [
      "16 16 7 729\n"
     ]
    },
    {
     "data": {
      "text/plain": [
       "23"
      ]
     },
     "execution_count": 15,
     "metadata": {},
     "output_type": "execute_result"
    }
   ],
   "source": [
    "with open(\"28141.txt\") as f:\n",
    "    storage = 6147\n",
    "    containers =  sorted(list([int(i) for i in f]))\n",
    "    \n",
    "    i = 0\n",
    "    while storage > 0:\n",
    "        if storage - containers[i] < 0:\n",
    "            print(containers[i], containers[i-1], storage, i)\n",
    "            break\n",
    "        storage -= containers[i]\n",
    "        i += 1\n",
    "\n",
    "16+7"
   ]
  },
  {
   "cell_type": "code",
   "execution_count": null,
   "metadata": {},
   "outputs": [],
   "source": [
    "with open('rbnb.txt') as f:\n",
    "    "
   ]
  }
 ],
 "metadata": {
  "kernelspec": {
   "display_name": "venv",
   "language": "python",
   "name": "python3"
  },
  "language_info": {
   "codemirror_mode": {
    "name": "ipython",
    "version": 3
   },
   "file_extension": ".py",
   "mimetype": "text/x-python",
   "name": "python",
   "nbconvert_exporter": "python",
   "pygments_lexer": "ipython3",
   "version": "3.11.4"
  }
 },
 "nbformat": 4,
 "nbformat_minor": 2
}
