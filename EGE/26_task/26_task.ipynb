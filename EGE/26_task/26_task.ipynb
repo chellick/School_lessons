{
 "cells": [
  {
   "cell_type": "code",
   "execution_count": 12,
   "metadata": {},
   "outputs": [],
   "source": [
    "file = open(\"task.txt\")\n",
    "\n",
    "nums = list((list(map(int, s.split())) for s in file))"
   ]
  },
  {
   "cell_type": "code",
   "execution_count": 22,
   "metadata": {},
   "outputs": [
    {
     "data": {
      "text/plain": [
       "(18, 29)"
      ]
     },
     "execution_count": 22,
     "metadata": {},
     "output_type": "execute_result"
    }
   ],
   "source": [
    "nums = sorted(nums, key=lambda x: x[-1])\n",
    "able = [nums[1]]\n",
    "\n",
    "left = 1\n",
    "right = 2\n",
    "\n",
    "while True:\n",
    "    if right + 1 == len(nums):\n",
    "        break\n",
    "    if nums[left][-1] < nums[right][0] - 15:\n",
    "        able.append(nums[right])\n",
    "        left = right\n",
    "        right += 1\n",
    "        continue\n",
    "    right += 1\n",
    "    \n",
    "len(able), able[-1][0] - able[-2][-1] "
   ]
  },
  {
   "cell_type": "code",
   "execution_count": 10,
   "metadata": {},
   "outputs": [
    {
     "name": "stdout",
     "output_type": "stream",
     "text": [
      "7768\n"
     ]
    }
   ],
   "source": [
    "f = open(\"26.txt\")\n",
    "_ = f.readline()\n",
    "\n",
    "data = []\n",
    "start = 1634515200\n",
    "sec_in_week = 60 * 60 * 24 * 7\n",
    "end = start + sec_in_week\n",
    "\n",
    "for line in f:\n",
    "    pair = list(map(int, line.split()))\n",
    "    if pair[0] == 0:\n",
    "        pair[0] = start\n",
    "    if pair[1] == 0:\n",
    "        pair[1] = end\n",
    "    pair[0] -= start\n",
    "    pair[1] -= start\n",
    "    \n",
    "    if pair[0] > sec_in_week or pair[1] < 0:\n",
    "        continue\n",
    "    pair[0] = max(0, pair[0])\n",
    "    pair[1] = min(sec_in_week, pair[1])\n",
    "    data.append(pair)\n",
    "\n",
    "seconds = [0] * sec_in_week\n",
    "\n",
    "for item in data:\n",
    "    for i in range(item[0], item[1]):\n",
    "        seconds[i] += 1\n",
    "\n",
    "print(max(seconds))"
   ]
  },
  {
   "cell_type": "code",
   "execution_count": 11,
   "metadata": {},
   "outputs": [
    {
     "data": {
      "text/plain": [
       "20"
      ]
     },
     "execution_count": 11,
     "metadata": {},
     "output_type": "execute_result"
    }
   ],
   "source": [
    "seconds.count(7768)"
   ]
  },
  {
   "cell_type": "code",
   "execution_count": 71,
   "metadata": {},
   "outputs": [
    {
     "name": "stdout",
     "output_type": "stream",
     "text": [
      "568\n"
     ]
    },
    {
     "data": {
      "text/plain": [
       "(8147, 29)"
      ]
     },
     "execution_count": 71,
     "metadata": {},
     "output_type": "execute_result"
    }
   ],
   "source": [
    "f = open(\"26_1.txt\")\n",
    "\n",
    "storage = int((f.readline().split())[0])\n",
    "storage_temp = storage\n",
    "nums = []\n",
    "for line in f.readlines():\n",
    "    nums.append(int(line))\n",
    "\n",
    "nums = sorted(nums)\n",
    "\n",
    "c = 0\n",
    "i = 0\n",
    "while storage_temp > 0:\n",
    "    storage_temp -= nums[i]\n",
    "    i += 1\n",
    "    c += 1\n",
    "    \n",
    "c-=1\n",
    "print(c)\n",
    "\n",
    "summ = sum([i for i in nums[:567]])\n",
    "summ, nums[567]"
   ]
  },
  {
   "cell_type": "code",
   "execution_count": 96,
   "metadata": {},
   "outputs": [
    {
     "name": "stdout",
     "output_type": "stream",
     "text": [
      "149 7 0 543\n"
     ]
    }
   ],
   "source": [
    "f = open(\"27883.txt\")\n",
    "\n",
    "storage = int(f.readline().split()[0])\n",
    "r = storage\n",
    "nums = [int(i) for i in f]\n",
    "nums = sorted(nums)\n",
    "\n",
    "summ = 0\n",
    "\n",
    "for i in range(len(nums)):\n",
    "    if storage - nums[i] < 0:\n",
    "        print(i, nums[i-1], storage, summ)\n",
    "        break\n",
    "    storage -= nums[i]\n",
    "    summ += nums[i]\n",
    "\n"
   ]
  },
  {
   "cell_type": "code",
   "execution_count": null,
   "metadata": {},
   "outputs": [],
   "source": [
    "f = open(\"27883.txt\")\n",
    "nums = "
   ]
  }
 ],
 "metadata": {
  "kernelspec": {
   "display_name": "venv",
   "language": "python",
   "name": "python3"
  },
  "language_info": {
   "codemirror_mode": {
    "name": "ipython",
    "version": 3
   },
   "file_extension": ".py",
   "mimetype": "text/x-python",
   "name": "python",
   "nbconvert_exporter": "python",
   "pygments_lexer": "ipython3",
   "version": "3.11.4"
  }
 },
 "nbformat": 4,
 "nbformat_minor": 2
}
