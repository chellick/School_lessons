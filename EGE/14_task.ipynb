{
 "cells": [
  {
   "cell_type": "markdown",
   "metadata": {},
   "source": [
    "# 14 Задача ЕГЭ питон"
   ]
  },
  {
   "cell_type": "code",
   "execution_count": null,
   "metadata": {},
   "outputs": [],
   "source": [
    "num = (4 ** 2020) + (2 ** 2017) - 15\n",
    "binary = bin(num)[2:]\n",
    "binary.count(\"1\")\n"
   ]
  },
  {
   "cell_type": "code",
   "execution_count": 1,
   "metadata": {},
   "outputs": [],
   "source": [
    "def to_any_base(number, in_base, out_base):\n",
    "    number = int(str(number), in_base)\n",
    "    answer = []\n",
    "    while number > 0:\n",
    "        answer.append(str(number % out_base))\n",
    "        number = number // out_base\n",
    "    answer = reversed(answer)\n",
    "    return \"\".join(answer)      \n",
    "        "
   ]
  },
  {
   "cell_type": "code",
   "execution_count": null,
   "metadata": {},
   "outputs": [],
   "source": [
    "number = str(49 ** 7 + 7 ** 20 - 28)\n",
    "to_any_base(number, 10, 7).count(\"6\")"
   ]
  },
  {
   "cell_type": "code",
   "execution_count": 73,
   "metadata": {},
   "outputs": [],
   "source": [
    "from collections import Counter"
   ]
  },
  {
   "cell_type": "code",
   "execution_count": 74,
   "metadata": {},
   "outputs": [
    {
     "data": {
      "text/plain": [
       "Counter({'5': 14, '0': 2, '1': 1, '2': 1})"
      ]
     },
     "execution_count": 74,
     "metadata": {},
     "output_type": "execute_result"
    }
   ],
   "source": [
    "number = 216 ** 6 + 216 ** 4 + 36 ** 6 - 6 ** 14 - 24\n",
    "Counter(to_any_base(number, 10, 6))\n"
   ]
  },
  {
   "cell_type": "code",
   "execution_count": 75,
   "metadata": {},
   "outputs": [
    {
     "data": {
      "text/plain": [
       "Counter({'0': 12, '6': 11, '1': 1, '2': 1, '5': 1})"
      ]
     },
     "execution_count": 75,
     "metadata": {},
     "output_type": "execute_result"
    }
   ],
   "source": [
    "number = 5 * 343 ** 8 + 4 * 49 ** 12 + 7 ** 14 - 98\n",
    "Counter(to_any_base(number, 10, 7))\n"
   ]
  },
  {
   "cell_type": "code",
   "execution_count": 76,
   "metadata": {},
   "outputs": [],
   "source": [
    "from string import digits, ascii_lowercase"
   ]
  },
  {
   "cell_type": "code",
   "execution_count": 77,
   "metadata": {},
   "outputs": [
    {
     "name": "stdout",
     "output_type": "stream",
     "text": [
      "1112804491.0 2\n",
      "1114522537.0 9\n"
     ]
    }
   ],
   "source": [
    "alphabet = digits + ascii_lowercase[:5]\n",
    "\n",
    "for x in alphabet:\n",
    "    num = int(\"98\" + x + \"79641\", 22) + int(\"25\" + x + \"49\", 22) + int(\"63\" + x + \"5\", 22)\n",
    "    if num % 21 == 0:\n",
    "        print(num / 21, x)\n"
   ]
  },
  {
   "cell_type": "code",
   "execution_count": 78,
   "metadata": {},
   "outputs": [
    {
     "name": "stdout",
     "output_type": "stream",
     "text": [
      "5310266.0\n"
     ]
    }
   ],
   "source": [
    "alphabet = digits + ascii_lowercase[:7]\n",
    "\n",
    "for x in alphabet:\n",
    "    num = int(\"8\" + x + \"5678\", 25) + int(\"457\" + x + \"69\", 25) + int(\"145\" + x + \"1\", 25)\n",
    "    if num % 23 == 0:\n",
    "        print(num / 23)"
   ]
  },
  {
   "cell_type": "code",
   "execution_count": 84,
   "metadata": {},
   "outputs": [
    {
     "name": "stdout",
     "output_type": "stream",
     "text": [
      "41428.0\n",
      "43088.0\n"
     ]
    }
   ],
   "source": [
    "alphabet = digits + ascii_lowercase[:2]\n",
    "\n",
    "for x in alphabet:\n",
    "    for y in alphabet:\n",
    "        answer = int(x + \"231\" + y, 12) + int(\"78\" + x + \"98\" + y, 14)\n",
    "        if answer % 99 == 0 and x!= 0:\n",
    "            print(answer / 99)\n"
   ]
  },
  {
   "cell_type": "code",
   "execution_count": 86,
   "metadata": {},
   "outputs": [
    {
     "name": "stdout",
     "output_type": "stream",
     "text": [
      "224.0\n"
     ]
    }
   ],
   "source": [
    "alphabet = digits[:8]\n",
    "\n",
    "for x in alphabet:\n",
    "    for y in alphabet:\n",
    "        answer = int(y + \"04\" + x + \"5\", 11) + int(\"253\" + x + y, 8)\n",
    "        if y != 0 and answer % 117 == 0:\n",
    "            print(answer/117)"
   ]
  },
  {
   "cell_type": "code",
   "execution_count": 98,
   "metadata": {},
   "outputs": [
    {
     "name": "stdout",
     "output_type": "stream",
     "text": [
      "801 A\n",
      "802 A\n",
      "803 A\n",
      "804 A\n",
      "805 A\n",
      "806 A\n",
      "807 A\n",
      "808 A\n",
      "809 A\n",
      "810 A\n",
      "811 A\n",
      "812 A\n",
      "813 A\n",
      "814 A\n"
     ]
    }
   ],
   "source": [
    "alphabet = digits + ascii_lowercase[:4]\n",
    "\n",
    "\n",
    "for a in range(1000):\n",
    "    for x in alphabet:\n",
    "        m = int(\"8\" + x + \"12\" + x, 14)\n",
    "        n = int(\"8\" + x + \"542\", 14)\n",
    "        \n",
    "        if n % (a + m) == 0:\n",
    "            print(a, \"A\")"
   ]
  },
  {
   "cell_type": "code",
   "execution_count": 102,
   "metadata": {},
   "outputs": [
    {
     "data": {
      "text/plain": [
       "9"
      ]
     },
     "execution_count": 102,
     "metadata": {},
     "output_type": "execute_result"
    }
   ],
   "source": [
    "num = 3 * 3125 ** 8 + 2 * 625 ** 7 - 4 * 625 ** 6 + 3 * 125 ** 5 - 2 * 25 ** 4 - 2024\n",
    "num = to_any_base(num, 10, 25)\n",
    "num.count(\"0\")"
   ]
  },
  {
   "cell_type": "code",
   "execution_count": 121,
   "metadata": {},
   "outputs": [
    {
     "name": "stdout",
     "output_type": "stream",
     "text": [
      "116\n"
     ]
    }
   ],
   "source": [
    "alph = digits + ascii_lowercase[:8]\n",
    "\n",
    "res = set()\n",
    "\n",
    "for x in alph:\n",
    "    for y in range(2, 18):\n",
    "        try:\n",
    "            num = int('5' + x + alph[y] + 'a', 18) +\\\n",
    "            int('18' + x + '7', y)\n",
    "            res.add(num)\n",
    "        except:\n",
    "            ...\n",
    "\n",
    "print(len(res))"
   ]
  },
  {
   "cell_type": "code",
   "execution_count": 124,
   "metadata": {},
   "outputs": [
    {
     "name": "stdout",
     "output_type": "stream",
     "text": [
      "84\n"
     ]
    }
   ],
   "source": [
    "alph = digits + ascii_lowercase[:6]\n",
    "res = set()\n",
    "\n",
    "for x in alphabet:\n",
    "    for y in range(2, 16):\n",
    "        try:\n",
    "            num = int(\"5\" + x + alph[y] + \"C\", 16)\\\n",
    "            + int(\"8\" + x + x + \"7\", y)\n",
    "            res.add(num) \n",
    "        except:\n",
    "            ...\n",
    "\n",
    "print(len(res))"
   ]
  },
  {
   "cell_type": "code",
   "execution_count": 8,
   "metadata": {},
   "outputs": [
    {
     "data": {
      "text/plain": [
       "(59,\n",
       " '10000000000000000000000000000000000000000777777777777777777777777777777777777777777777777777777777774')"
      ]
     },
     "execution_count": 8,
     "metadata": {},
     "output_type": "execute_result"
    }
   ],
   "source": [
    "num = 64**30 + 2**300 - 4\n",
    "num = oct(num)[2:]\n",
    "num.count(\"7\"), num"
   ]
  },
  {
   "cell_type": "code",
   "execution_count": 18,
   "metadata": {},
   "outputs": [
    {
     "data": {
      "text/plain": [
       "12"
      ]
     },
     "execution_count": 18,
     "metadata": {},
     "output_type": "execute_result"
    }
   ],
   "source": [
    "def to_any_base(number, in_base, out_base):\n",
    "    number = int(str(number), in_base)\n",
    "    answer = []\n",
    "    while number > 0:\n",
    "        answer.append(str(number % out_base))\n",
    "        number = number // out_base\n",
    "    answer = reversed(answer)\n",
    "    return \"\".join(answer)     \n",
    "\n",
    "num = 3*16**8 - 4**5 + 3\n",
    "to_any_base(num, 10, 4).count(\"3\")"
   ]
  },
  {
   "cell_type": "code",
   "execution_count": 4,
   "metadata": {},
   "outputs": [
    {
     "data": {
      "text/plain": [
       "(4, '2022222222222222220001')"
      ]
     },
     "execution_count": 4,
     "metadata": {},
     "output_type": "execute_result"
    }
   ],
   "source": [
    "num = 9 ** 9 + 3 ** 21 - 7\n",
    "thrird_num = ''\n",
    "\n",
    "while num > 0:\n",
    "    thrird_num += str(num % 3)\n",
    "    num = num // 3\n",
    "    \n",
    "thrird_num.count('0'), thrird_num\n",
    "\n"
   ]
  },
  {
   "cell_type": "code",
   "execution_count": 4,
   "metadata": {},
   "outputs": [
    {
     "data": {
      "text/plain": [
       "'10010'"
      ]
     },
     "execution_count": 4,
     "metadata": {},
     "output_type": "execute_result"
    }
   ],
   "source": [
    "def to_any_base(number, in_base, out_base):\n",
    "    number = int(str(number), in_base)\n",
    "    answer = []\n",
    "    while number > 0:\n",
    "        answer.append(str(number % out_base))\n",
    "        number = number // out_base\n",
    "    answer = reversed(answer)\n",
    "    return \"\".join(answer)    \n",
    "\n",
    "int(\"121\", 3) + int(\"2112\", 3)\n",
    "\n",
    "to_any_base(84, 10, 3)"
   ]
  },
  {
   "cell_type": "code",
   "execution_count": 3,
   "metadata": {},
   "outputs": [
    {
     "data": {
      "text/plain": [
       "13"
      ]
     },
     "execution_count": 3,
     "metadata": {},
     "output_type": "execute_result"
    }
   ],
   "source": [
    "num = 2*27**7 + 3**10-9\n",
    "\n",
    "def to_any_base(num, out_base, in_base=10):\n",
    "    n = ''\n",
    "    while num > 0:\n",
    "        n += str(num % out_base)\n",
    "        num = num // out_base\n",
    "    return n\n",
    "\n",
    "to_any_base(num, 3).count('0')"
   ]
  },
  {
   "cell_type": "code",
   "execution_count": 5,
   "metadata": {},
   "outputs": [
    {
     "data": {
      "text/plain": [
       "70"
      ]
     },
     "execution_count": 5,
     "metadata": {},
     "output_type": "execute_result"
    }
   ],
   "source": [
    "num = 51*7**12 - 7**3 - 22\n",
    "\n",
    "def to_any_base(num, out_base, in_base=10):\n",
    "    n = ''\n",
    "    while num > 0:\n",
    "        n += str(num % out_base)\n",
    "        num = num // out_base\n",
    "    return n\n",
    "\n",
    "sum([int(i) for i in to_any_base(num, 7)])"
   ]
  },
  {
   "cell_type": "code",
   "execution_count": 21,
   "metadata": {},
   "outputs": [
    {
     "name": "stdout",
     "output_type": "stream",
     "text": [
      "[502]\n"
     ]
    }
   ],
   "source": [
    "def to_any_base(num, out_base, in_base=10):\n",
    "    n = ''\n",
    "    while num > 0:\n",
    "        n += str(num % out_base)\n",
    "        num = num // out_base\n",
    "    return n\n",
    "\n",
    "def solution():\n",
    "    for x in range(1, 10000):\n",
    "        num = 125**200 - 5**x + 74\n",
    "        if to_any_base(num, 5).count('4') == 100:\n",
    "            yield x\n",
    "\n",
    "print(list(solution()))"
   ]
  },
  {
   "cell_type": "code",
   "execution_count": 30,
   "metadata": {},
   "outputs": [
    {
     "data": {
      "text/plain": [
       "Counter({'0': 36,\n",
       "         'e': 20,\n",
       "         '1': 3,\n",
       "         '8': 1,\n",
       "         '7': 1,\n",
       "         '6': 1,\n",
       "         '5': 1,\n",
       "         '4': 1,\n",
       "         '2': 1,\n",
       "         'b': 1})"
      ]
     },
     "execution_count": 30,
     "metadata": {},
     "output_type": "execute_result"
    }
   ],
   "source": [
    "from string import ascii_lowercase\n",
    "from collections import Counter\n",
    "\n",
    "num = 11*15**65 + 18*15**38 - 14*15**17 + 19*15**11 + 18338\n",
    "alph = '0123456789' + ascii_lowercase[:5]\n",
    "\n",
    "def to_any_base(num, base):\n",
    "    s = ''\n",
    "    while num > 0:\n",
    "        s += alph[num % base]\n",
    "        num = num // base\n",
    "        \n",
    "    return s\n",
    "\n",
    "Counter(to_any_base(num, 15))"
   ]
  },
  {
   "cell_type": "code",
   "execution_count": 35,
   "metadata": {},
   "outputs": [
    {
     "data": {
      "text/plain": [
       "9"
      ]
     },
     "execution_count": 35,
     "metadata": {},
     "output_type": "execute_result"
    }
   ],
   "source": [
    "from string import ascii_lowercase\n",
    "\n",
    "num = 3 * 3125 ** 8 + 2 * 625 **7 - 4 * 625 ** 6 + 3 *125 ** 5 - 2 * 25 ** 4 - 2024\n",
    "alph = '0123456789' + ascii_lowercase[:25]\n",
    "\n",
    "def to_any_base(num, base):\n",
    "    s = ''\n",
    "    while num > 0:\n",
    "        s += alph[num % base]\n",
    "        num = num // base\n",
    "    return s\n",
    "\n",
    "to_any_base(num, 25).count('0')"
   ]
  },
  {
   "cell_type": "code",
   "execution_count": 38,
   "metadata": {},
   "outputs": [
    {
     "data": {
      "text/plain": [
       "51"
      ]
     },
     "execution_count": 38,
     "metadata": {},
     "output_type": "execute_result"
    }
   ],
   "source": [
    "num = 6 * 144 ** 26 + 11 * 12 ** 75 - 48\n",
    "alph = '0123456789' + ascii_lowercase[:2]\n",
    "\n",
    "to_any_base(num, 12).count('b')\n",
    "\n"
   ]
  },
  {
   "cell_type": "code",
   "execution_count": 40,
   "metadata": {},
   "outputs": [
    {
     "data": {
      "text/plain": [
       "24"
      ]
     },
     "execution_count": 40,
     "metadata": {},
     "output_type": "execute_result"
    }
   ],
   "source": [
    "def solution():\n",
    "    for x in range(10000):\n",
    "        summ = 0\n",
    "        num = 36**17-6**x+71\n",
    "        while num > 0:\n",
    "            summ += num % 6\n",
    "            num //= 6\n",
    "        if summ == 61:\n",
    "            return x\n",
    "        \n",
    "solution()"
   ]
  },
  {
   "cell_type": "code",
   "execution_count": 41,
   "metadata": {},
   "outputs": [
    {
     "data": {
      "text/plain": [
       "1182"
      ]
     },
     "execution_count": 41,
     "metadata": {},
     "output_type": "execute_result"
    }
   ],
   "source": [
    "num = 5*216**1156-4*36**1147+6**1153-875\n",
    "\n",
    "to_any_base(num, 6).count('5') - to_any_base(num, 6).count('0')\n"
   ]
  },
  {
   "cell_type": "code",
   "execution_count": 50,
   "metadata": {},
   "outputs": [
    {
     "name": "stdout",
     "output_type": "stream",
     "text": [
      "852282 3 0 solution\n",
      "47594.0\n"
     ]
    }
   ],
   "source": [
    "fl = True\n",
    "for x in range(0, 21):\n",
    "    if fl:\n",
    "        for y in range(0, 21):\n",
    "            if (int(f'12{y}{x}9', 21) + int(f'36{y}99', 21)) % 18 == 0:\n",
    "                print((int(f'12{y}{x}9', 21) + int(f'36{y}99', 21)), x, y, 'solution')\n",
    "                fl = False\n",
    "                break\n",
    "\n",
    "print((int(f'12{5}{3}9', 21) + int(f'36{5}99', 21)) / 18)\n",
    "             "
   ]
  },
  {
   "cell_type": "code",
   "execution_count": 10,
   "metadata": {},
   "outputs": [],
   "source": [
    "from string import ascii_lowercase\n",
    "d = '0123456789' + ascii_lowercase\n",
    "\n",
    "for x in range(len(d)-1):\n",
    "    for y in range(len(d)-1):\n",
    "        if int(f'12{d[x]}643{d[y]}7', 36) % 36 == 0:\n",
    "            print(d[x], d[y])\n",
    "            "
   ]
  },
  {
   "cell_type": "code",
   "execution_count": 2,
   "metadata": {},
   "outputs": [
    {
     "name": "stdout",
     "output_type": "stream",
     "text": [
      "11\n"
     ]
    }
   ],
   "source": [
    "for x in range(2, 33):\n",
    "    if int('33', x+4) - int('33', 4) == 33:\n",
    "        print(x)"
   ]
  },
  {
   "cell_type": "code",
   "execution_count": 6,
   "metadata": {},
   "outputs": [
    {
     "name": "stdout",
     "output_type": "stream",
     "text": [
      "11\n"
     ]
    }
   ],
   "source": [
    "for n in range(10, 33):\n",
    "    if int('103', n) == int('97', n+2):\n",
    "        print(n)"
   ]
  },
  {
   "cell_type": "code",
   "execution_count": 7,
   "metadata": {},
   "outputs": [
    {
     "name": "stdout",
     "output_type": "stream",
     "text": [
      "6\n"
     ]
    }
   ],
   "source": [
    "for n in range(5, 33):\n",
    "    if int('132', n) + int('13', 8) == int('124', n+1):\n",
    "        print(n)"
   ]
  },
  {
   "cell_type": "code",
   "execution_count": 8,
   "metadata": {},
   "outputs": [
    {
     "name": "stdout",
     "output_type": "stream",
     "text": [
      "6\n"
     ]
    }
   ],
   "source": [
    "for x in range(4, 33):\n",
    "    if int('21', x) * int('13', x) == int('313', x):\n",
    "        print(x)"
   ]
  },
  {
   "cell_type": "code",
   "execution_count": 11,
   "metadata": {},
   "outputs": [
    {
     "name": "stdout",
     "output_type": "stream",
     "text": [
      "22\n"
     ]
    }
   ],
   "source": [
    "for x in range(20, 31):\n",
    "    if to_any_base(x, 10, 3)[-2:] == '11':\n",
    "        print(x)"
   ]
  },
  {
   "cell_type": "code",
   "execution_count": 12,
   "metadata": {},
   "outputs": [
    {
     "name": "stdout",
     "output_type": "stream",
     "text": [
      "11\n",
      "27\n"
     ]
    }
   ],
   "source": [
    "for i in range(40):\n",
    "    if bin(i)[-4:] == '1011':\n",
    "        print(i)"
   ]
  },
  {
   "cell_type": "code",
   "execution_count": 2,
   "metadata": {},
   "outputs": [
    {
     "name": "stdout",
     "output_type": "stream",
     "text": [
      "2112 3\n"
     ]
    }
   ],
   "source": [
    "for n in range(2, 32):\n",
    "    r = to_any_base(68, 10, n)\n",
    "    if r[-1] == '2' and len(r) == 4:\n",
    "        print(r, n)"
   ]
  },
  {
   "cell_type": "code",
   "execution_count": 3,
   "metadata": {},
   "outputs": [
    {
     "name": "stdout",
     "output_type": "stream",
     "text": [
      "34\n"
     ]
    }
   ],
   "source": [
    "for n in range(1, 100):\n",
    "    if len(to_any_base(n, 10, 6)) == 2 and len(to_any_base(n, 10, 5)) == 3 and to_any_base(n, 10, 11)[-1] == '1':\n",
    "        print(n)\n",
    "        "
   ]
  },
  {
   "cell_type": "code",
   "execution_count": 14,
   "metadata": {},
   "outputs": [
    {
     "data": {
      "text/plain": [
       "38"
      ]
     },
     "execution_count": 14,
     "metadata": {},
     "output_type": "execute_result"
    }
   ],
   "source": [
    "C = 0\n",
    "\n",
    "for i in range(1, 10000):\n",
    "    \n",
    "    if len(to_any_base(i, 10, 5)) <= 4:\n",
    "        if len(to_any_base(i, 10, 2)) >= 5:\n",
    "\n",
    "            if hex(i)[-1] == 'c':\n",
    "                C +=1\n",
    "        \n",
    "C"
   ]
  },
  {
   "cell_type": "code",
   "execution_count": 17,
   "metadata": {},
   "outputs": [
    {
     "name": "stdout",
     "output_type": "stream",
     "text": [
      "8767.0\n",
      "120832.0\n",
      "124222.0\n",
      "125917.0\n",
      "127612.0\n"
     ]
    }
   ],
   "source": [
    "for x in range(0, 33):\n",
    "    if (int(f'123{x}5',  15) + int(f'1{x}233', 15)) % 14 == 0:\n",
    "        print((int(f'123{x}5',  15) + int(f'1{x}233', 15)) / 14)"
   ]
  },
  {
   "cell_type": "code",
   "execution_count": 2,
   "metadata": {},
   "outputs": [
    {
     "name": "stdout",
     "output_type": "stream",
     "text": [
      "95306.0\n",
      "1614856.0\n",
      "1619770.0\n"
     ]
    }
   ],
   "source": [
    "for x in range(33):\n",
    "    if (int(f'9759{x}', 17) + int(f'3{x}108', 17)) % 11 == 0:\n",
    "        print((int(f'9759{x}', 17) + int(f'3{x}108', 17)) / 11)"
   ]
  },
  {
   "cell_type": "code",
   "execution_count": 4,
   "metadata": {},
   "outputs": [
    {
     "name": "stdout",
     "output_type": "stream",
     "text": [
      "207291\n"
     ]
    }
   ],
   "source": [
    "for x in range(33):\n",
    "    if int(f'3364{x}', 11) + int(f'{x}7946', 12) == int(f'55{x}87', 14):\n",
    "        print(int(f'55{x}87', 14))"
   ]
  },
  {
   "cell_type": "code",
   "execution_count": 15,
   "metadata": {},
   "outputs": [
    {
     "name": "stdout",
     "output_type": "stream",
     "text": [
      "685.0 a 0\n",
      "686.0 8 b\n"
     ]
    }
   ],
   "source": [
    "for x in '0123456789abcde':\n",
    "    for y in '0123456789abcdefg':\n",
    "        if (int(f'123{x}5', 15) + int(f'67{y}9', 17)) % 131 == 0:\n",
    "            print((int(f'123{x}5', 15) + int(f'67{y}9', 17)) / 131, y, x)"
   ]
  },
  {
   "cell_type": "code",
   "execution_count": 14,
   "metadata": {},
   "outputs": [
    {
     "data": {
      "text/plain": [
       "89866"
      ]
     },
     "execution_count": 14,
     "metadata": {},
     "output_type": "execute_result"
    }
   ],
   "source": [
    "686*131"
   ]
  },
  {
   "cell_type": "code",
   "execution_count": 7,
   "metadata": {},
   "outputs": [
    {
     "name": "stdout",
     "output_type": "stream",
     "text": [
      "2407\n"
     ]
    }
   ],
   "source": [
    "from string import ascii_lowercase\n",
    "\n",
    "alph = '0123456789' + ascii_lowercase\n",
    "\n",
    "for x in alph:\n",
    "    for y in alph:\n",
    "        for p in range(12, 33):\n",
    "            try:\n",
    "                if int('32' + x + '8', p) + int(x+x+x + '9', p) == int(y + y + '02', p):\n",
    "                    print(int(y * 2 + x, p))\n",
    "\n",
    "            except:\n",
    "                ...\n",
    "                "
   ]
  },
  {
   "cell_type": "code",
   "execution_count": 4,
   "metadata": {},
   "outputs": [
    {
     "name": "stdout",
     "output_type": "stream",
     "text": [
      "9\n"
     ]
    }
   ],
   "source": [
    "for x in range(7, 32):\n",
    "    if int(f'12', x) * int(f'33', x) == int(f'406', x):\n",
    "        print(x)"
   ]
  },
  {
   "cell_type": "code",
   "execution_count": 2,
   "metadata": {},
   "outputs": [
    {
     "name": "stdout",
     "output_type": "stream",
     "text": [
      "124.0\n"
     ]
    }
   ],
   "source": [
    "from string import ascii_lowercase, digits\n",
    "alph = digits + ascii_lowercase\n",
    "\n",
    "for x in alph:\n",
    "    if (int(x +'A04', 13) + int('1D'+ x + '3', 18)) % 184 == 0:\n",
    "        print((int(x +'A04', 13) + int('1D'+ x + '3', 18)) / 184)\n",
    "        break"
   ]
  },
  {
   "cell_type": "code",
   "execution_count": 7,
   "metadata": {},
   "outputs": [
    {
     "name": "stdout",
     "output_type": "stream",
     "text": [
      "4 7766124214.0\n"
     ]
    }
   ],
   "source": [
    "from string import ascii_lowercase, digits\n",
    "alph = digits + ascii_lowercase[13:]\n",
    "\n",
    "for x in alph:\n",
    "    if (int('2' + x + x + '341011', 23) + int('220' + x + '4', 23) + int('110' + x + '6', 23)) % 22 == 0:\n",
    "        print(x, (int('2' + x + x + '341011', 23) + int('220' + x + '4', 23) + int('110' + x + '6', 23))/22)\n",
    "        break"
   ]
  },
  {
   "cell_type": "code",
   "execution_count": 3,
   "metadata": {},
   "outputs": [
    {
     "data": {
      "text/plain": [
       "{'0', '1', '3', '4', '8'}"
      ]
     },
     "execution_count": 3,
     "metadata": {},
     "output_type": "execute_result"
    }
   ],
   "source": [
    "num = 4 ** 36 + 3 * 4 ** 20 + 4 ** 15 + 2 * 4  ** 7 + 49\n",
    "set(hex(num)[2:])\n"
   ]
  },
  {
   "cell_type": "code",
   "execution_count": 7,
   "metadata": {},
   "outputs": [
    {
     "name": "stdout",
     "output_type": "stream",
     "text": [
      "Counter({'8': 665, '0': 328, '4': 2, '1': 2, '7': 1, '6': 1, '2': 1})\n"
     ]
    }
   ],
   "source": [
    "from collections import Counter\n",
    "\n",
    "num = 2 * 729**333 + 2*243**334 - 81**335 + 2*27**336 - 2*9**337 - 338\n",
    "\n",
    "def to_any_base(num, base):\n",
    "    result = ''\n",
    "    while num > 0:\n",
    "        result += str(num % base)\n",
    "        num //= base\n",
    "    \n",
    "    result \n",
    "    return result\n",
    "\n",
    "\n",
    "print(Counter(to_any_base(num, 9)))\n"
   ]
  },
  {
   "cell_type": "code",
   "execution_count": 8,
   "metadata": {},
   "outputs": [
    {
     "data": {
      "text/plain": [
       "1134"
      ]
     },
     "execution_count": 8,
     "metadata": {},
     "output_type": "execute_result"
    }
   ],
   "source": [
    "num = abs(18 * 7 ** 108 - 5 * 49 ** 76 + 343 ** 35 - 50)\n",
    "summ = 0\n",
    "\n",
    "while num > 0:\n",
    "    summ += num % 49\n",
    "    num //= 49\n",
    "    \n",
    "summ"
   ]
  },
  {
   "cell_type": "code",
   "execution_count": 1,
   "metadata": {},
   "outputs": [
    {
     "data": {
      "text/plain": [
       "14"
      ]
     },
     "execution_count": 1,
     "metadata": {},
     "output_type": "execute_result"
    }
   ],
   "source": [
    "num = 36 ** 8 + 6 ** 20 - 12\n",
    "\n",
    "def to_any(num, base):\n",
    "    result = ''\n",
    "    while num > 0:\n",
    "        result += str(num % base)\n",
    "        num = num // base\n",
    "        \n",
    "    return \"\".join(reversed(result))\n",
    "\n",
    "\n",
    "to_any(num, 6).count('5')"
   ]
  },
  {
   "cell_type": "code",
   "execution_count": 2,
   "metadata": {},
   "outputs": [
    {
     "data": {
      "text/plain": [
       "4"
      ]
     },
     "execution_count": 2,
     "metadata": {},
     "output_type": "execute_result"
    }
   ],
   "source": [
    "num = 9 ** 8 + 3 ** 5 - 2\n",
    "\n",
    "to_any(num, 3).count('2')\n",
    "\n"
   ]
  },
  {
   "cell_type": "code",
   "execution_count": 4,
   "metadata": {},
   "outputs": [
    {
     "data": {
      "text/plain": [
       "22"
      ]
     },
     "execution_count": 4,
     "metadata": {},
     "output_type": "execute_result"
    }
   ],
   "source": [
    "num = 5 ** 36 + 5 ** 24 - 25\n",
    "\n",
    "\n",
    "def to_any_base(num, base):\n",
    "    result = ''\n",
    "    \n",
    "    while num > 0:\n",
    "        result += str(num % base)\n",
    "        num = num // base\n",
    "        \n",
    "    return \"\".join(list(reversed(result)))\n",
    "\n",
    "to_any_base(num, 5).count('4')"
   ]
  },
  {
   "cell_type": "code",
   "execution_count": 2,
   "metadata": {},
   "outputs": [
    {
     "name": "stdout",
     "output_type": "stream",
     "text": [
      "97\n"
     ]
    }
   ],
   "source": [
    "def d(n, m):\n",
    "    if n % m == 0:\n",
    "        return True\n",
    "    return False\n",
    "\n",
    "\n",
    "def f(a):\n",
    "    for x in range(1, 1000):\n",
    "        for y in range(1, 1000):\n",
    "            if (\n",
    "                (d(144, x) <= (not(d(x, y)))) or (x + y > 100) or (a - x > y)\n",
    "            ):\n",
    "                pass\n",
    "            else:\n",
    "                return False\n",
    "    return True\n",
    "\n",
    "for a in range(1, 1000):\n",
    "    if f(a):\n",
    "        print(a)\n",
    "        break"
   ]
  },
  {
   "cell_type": "code",
   "execution_count": 15,
   "metadata": {},
   "outputs": [
    {
     "data": {
      "text/plain": [
       "972221.2428571428"
      ]
     },
     "execution_count": 15,
     "metadata": {},
     "output_type": "execute_result"
    }
   ],
   "source": [
    "maxi = 0\n",
    "\n",
    "\n",
    "for x in range(10, 36):\n",
    "    for y in range(10, 36):\n",
    "        if int(f'7{x}37{y}', 14) + int(f'9{y}63', x) - int('15148', y) > maxi:\n",
    "            maxi = int(f'7{x}37{y}', 14) + int(f'9{y}63', x) - int('15148', y)\n",
    "            a, b, = x, y\n",
    "        \n",
    "        \n",
    "maxi / (x+y)"
   ]
  },
  {
   "attachments": {
    "image.png": {
     "image/png": "[encoded data removed]"
    }
   },
   "cell_type": "markdown",
   "metadata": {},
   "source": [
    "![image.png](attachment:image.png)"
   ]
  },
  {
   "cell_type": "code",
   "execution_count": 6,
   "metadata": {},
   "outputs": [
    {
     "name": "stdout",
     "output_type": "stream",
     "text": [
      "0 368599039.0\n",
      "6 369424532.0\n",
      "C 370250025.0\n",
      "I 371075518.0\n"
     ]
    }
   ],
   "source": [
    "from string import digits, ascii_uppercase\n",
    "\n",
    "for x in digits+ascii_uppercase[:9]:\n",
    "    if (int(f'78{x}79643', 19) + int(f'25{x}43', 19) + int(f'63{x}5', 19)) % 18 == 0:\n",
    "        print(x, (int(f'78{x}79643', 19) + int(f'25{x}43', 19) + int(f'63{x}5', 19)) / 18)\n",
    "        "
   ]
  },
  {
   "cell_type": "code",
   "execution_count": 4,
   "metadata": {},
   "outputs": [
    {
     "name": "stdout",
     "output_type": "stream",
     "text": [
      "1113307527.0\n",
      "1115025573.0\n",
      "1116743619.0\n"
     ]
    }
   ],
   "source": [
    "from string import ascii_uppercase, digits\n",
    "\n",
    "d = digits + ascii_uppercase[:12]\n",
    "\n",
    "for x in d:\n",
    "    if (int(f'98{x}79641', 22) + int(f'36{x}14', 22) + int(f'73{x}4', 22)) % 21 == 0:\n",
    "        print((int(f'98{x}79641', 22) + int(f'36{x}14', 22) + int(f'73{x}4', 22)) / 21)"
   ]
  },
  {
   "cell_type": "code",
   "execution_count": 6,
   "metadata": {
    "metadata": {}
   },
   "outputs": [
    {
     "name": "stdout",
     "output_type": "stream",
     "text": [
      "2 647147962.0\n",
      "8 663655409.0\n",
      "E 680162856.0\n"
     ]
    }
   ],
   "source": [
    "from string import digits, ascii_uppercase\n",
    "\n",
    "alph = digits + ascii_uppercase[:9]\n",
    "\n",
    "for x in alph:\n",
    "    if (int(f'5{x}642535', 19) + int(f'78{x}11114', 19) + int(f'9334{x}39', 19)) % 18 == 0:\n",
    "        print(x, (int(f'5{x}642535', 19) + int(f'78{x}11114', 19) + int(f'9334{x}39', 19)) / 18)"
   ]
  },
  {
   "cell_type": "code",
   "execution_count": 13,
   "metadata": {
    "metadata": {}
   },
   "outputs": [
    {
     "data": {
      "text/plain": [
       "3030"
      ]
     },
     "execution_count": 13,
     "metadata": {},
     "output_type": "execute_result"
    }
   ],
   "source": [
    "import sys\n",
    "sys.set_int_max_str_digits(10000)\n",
    "\n",
    "num = 4 * 3125 ** 2019 + 3 * 625 ** 2020 - 2 * 125 ** 2021 + 25 ** 2022 - 4 * 5 ** 2023 - 2024\n",
    "\n",
    "listnumer = []\n",
    "\n",
    "while num > 0:\n",
    "    listnumer.append(num % 25)\n",
    "    num //= 25\n",
    "    \n",
    "len(list(filter(lambda x: x > 10, listnumer)))\n",
    "\n"
   ]
  }
 ],
 "metadata": {
  "kernelspec": {
   "display_name": "venv",
   "language": "python",
   "name": "python3"
  },
  "language_info": {
   "codemirror_mode": {
    "name": "ipython",
    "version": 3
   },
   "file_extension": ".py",
   "mimetype": "text/x-python",
   "name": "python",
   "nbconvert_exporter": "python",
   "pygments_lexer": "ipython3",
   "version": "3.11.4"
  },
  "orig_nbformat": 4
 },
 "nbformat": 4,
 "nbformat_minor": 2
}
