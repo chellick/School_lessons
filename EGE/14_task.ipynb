{
 "cells": [
  {
   "cell_type": "markdown",
   "metadata": {},
   "source": [
    "# 14 Задача ЕГЭ питон"
   ]
  },
  {
   "cell_type": "code",
   "execution_count": null,
   "metadata": {},
   "outputs": [],
   "source": [
    "num = (4 ** 2020) + (2 ** 2017) - 15\n",
    "binary = bin(num)[2:]\n",
    "binary.count(\"1\")\n"
   ]
  },
  {
   "cell_type": "code",
   "execution_count": null,
   "metadata": {},
   "outputs": [],
   "source": [
    "def to_any_base(number, in_base, out_base):\n",
    "    number = int(str(number), in_base)\n",
    "    answer = []\n",
    "    while number > 0:\n",
    "        answer.append(str(number % out_base))\n",
    "        number = number // out_base\n",
    "    answer = reversed(answer)\n",
    "    return \"\".join(answer)      \n",
    "        "
   ]
  },
  {
   "cell_type": "code",
   "execution_count": null,
   "metadata": {},
   "outputs": [],
   "source": [
    "number = str(49 ** 7 + 7 ** 20 - 28)\n",
    "to_any_base(number, 10, 7).count(\"6\")"
   ]
  },
  {
   "cell_type": "code",
   "execution_count": 73,
   "metadata": {},
   "outputs": [],
   "source": [
    "from collections import Counter"
   ]
  },
  {
   "cell_type": "code",
   "execution_count": 74,
   "metadata": {},
   "outputs": [
    {
     "data": {
      "text/plain": [
       "Counter({'5': 14, '0': 2, '1': 1, '2': 1})"
      ]
     },
     "execution_count": 74,
     "metadata": {},
     "output_type": "execute_result"
    }
   ],
   "source": [
    "number = 216 ** 6 + 216 ** 4 + 36 ** 6 - 6 ** 14 - 24\n",
    "Counter(to_any_base(number, 10, 6))\n"
   ]
  },
  {
   "cell_type": "code",
   "execution_count": 75,
   "metadata": {},
   "outputs": [
    {
     "data": {
      "text/plain": [
       "Counter({'0': 12, '6': 11, '1': 1, '2': 1, '5': 1})"
      ]
     },
     "execution_count": 75,
     "metadata": {},
     "output_type": "execute_result"
    }
   ],
   "source": [
    "number = 5 * 343 ** 8 + 4 * 49 ** 12 + 7 ** 14 - 98\n",
    "Counter(to_any_base(number, 10, 7))\n"
   ]
  },
  {
   "cell_type": "code",
   "execution_count": 76,
   "metadata": {},
   "outputs": [],
   "source": [
    "from string import digits, ascii_lowercase"
   ]
  },
  {
   "cell_type": "code",
   "execution_count": 77,
   "metadata": {},
   "outputs": [
    {
     "name": "stdout",
     "output_type": "stream",
     "text": [
      "1112804491.0 2\n",
      "1114522537.0 9\n"
     ]
    }
   ],
   "source": [
    "alphabet = digits + ascii_lowercase[:5]\n",
    "\n",
    "for x in alphabet:\n",
    "    num = int(\"98\" + x + \"79641\", 22) + int(\"25\" + x + \"49\", 22) + int(\"63\" + x + \"5\", 22)\n",
    "    if num % 21 == 0:\n",
    "        print(num / 21, x)\n"
   ]
  },
  {
   "cell_type": "code",
   "execution_count": 78,
   "metadata": {},
   "outputs": [
    {
     "name": "stdout",
     "output_type": "stream",
     "text": [
      "5310266.0\n"
     ]
    }
   ],
   "source": [
    "alphabet = digits + ascii_lowercase[:7]\n",
    "\n",
    "for x in alphabet:\n",
    "    num = int(\"8\" + x + \"5678\", 25) + int(\"457\" + x + \"69\", 25) + int(\"145\" + x + \"1\", 25)\n",
    "    if num % 23 == 0:\n",
    "        print(num / 23)"
   ]
  },
  {
   "cell_type": "code",
   "execution_count": 84,
   "metadata": {},
   "outputs": [
    {
     "name": "stdout",
     "output_type": "stream",
     "text": [
      "41428.0\n",
      "43088.0\n"
     ]
    }
   ],
   "source": [
    "alphabet = digits + ascii_lowercase[:2]\n",
    "\n",
    "for x in alphabet:\n",
    "    for y in alphabet:\n",
    "        answer = int(x + \"231\" + y, 12) + int(\"78\" + x + \"98\" + y, 14)\n",
    "        if answer % 99 == 0 and x!= 0:\n",
    "            print(answer / 99)\n"
   ]
  },
  {
   "cell_type": "code",
   "execution_count": 86,
   "metadata": {},
   "outputs": [
    {
     "name": "stdout",
     "output_type": "stream",
     "text": [
      "224.0\n"
     ]
    }
   ],
   "source": [
    "alphabet = digits[:8]\n",
    "\n",
    "for x in alphabet:\n",
    "    for y in alphabet:\n",
    "        answer = int(y + \"04\" + x + \"5\", 11) + int(\"253\" + x + y, 8)\n",
    "        if y != 0 and answer % 117 == 0:\n",
    "            print(answer/117)"
   ]
  },
  {
   "cell_type": "code",
   "execution_count": 98,
   "metadata": {},
   "outputs": [
    {
     "name": "stdout",
     "output_type": "stream",
     "text": [
      "801 A\n",
      "802 A\n",
      "803 A\n",
      "804 A\n",
      "805 A\n",
      "806 A\n",
      "807 A\n",
      "808 A\n",
      "809 A\n",
      "810 A\n",
      "811 A\n",
      "812 A\n",
      "813 A\n",
      "814 A\n"
     ]
    }
   ],
   "source": [
    "alphabet = digits + ascii_lowercase[:4]\n",
    "\n",
    "\n",
    "for a in range(1000):\n",
    "    for x in alphabet:\n",
    "        m = int(\"8\" + x + \"12\" + x, 14)\n",
    "        n = int(\"8\" + x + \"542\", 14)\n",
    "        \n",
    "        if n % (a + m) == 0:\n",
    "            print(a, \"A\")"
   ]
  },
  {
   "cell_type": "code",
   "execution_count": 102,
   "metadata": {},
   "outputs": [
    {
     "data": {
      "text/plain": [
       "9"
      ]
     },
     "execution_count": 102,
     "metadata": {},
     "output_type": "execute_result"
    }
   ],
   "source": [
    "num = 3 * 3125 ** 8 + 2 * 625 ** 7 - 4 * 625 ** 6 + 3 * 125 ** 5 - 2 * 25 ** 4 - 2024\n",
    "num = to_any_base(num, 10, 25)\n",
    "num.count(\"0\")"
   ]
  },
  {
   "cell_type": "code",
   "execution_count": 121,
   "metadata": {},
   "outputs": [
    {
     "name": "stdout",
     "output_type": "stream",
     "text": [
      "116\n"
     ]
    }
   ],
   "source": [
    "alph = digits + ascii_lowercase[:8]\n",
    "\n",
    "res = set()\n",
    "\n",
    "for x in alph:\n",
    "    for y in range(2, 18):\n",
    "        try:\n",
    "            num = int('5' + x + alph[y] + 'a', 18) +\\\n",
    "            int('18' + x + '7', y)\n",
    "            res.add(num)\n",
    "        except:\n",
    "            ...\n",
    "\n",
    "print(len(res))"
   ]
  },
  {
   "cell_type": "code",
   "execution_count": 124,
   "metadata": {},
   "outputs": [
    {
     "name": "stdout",
     "output_type": "stream",
     "text": [
      "84\n"
     ]
    }
   ],
   "source": [
    "alph = digits + ascii_lowercase[:6]\n",
    "res = set()\n",
    "\n",
    "for x in alphabet:\n",
    "    for y in range(2, 16):\n",
    "        try:\n",
    "            num = int(\"5\" + x + alph[y] + \"C\", 16)\\\n",
    "            + int(\"8\" + x + x + \"7\", y)\n",
    "            res.add(num) \n",
    "        except:\n",
    "            ...\n",
    "\n",
    "print(len(res))"
   ]
  },
  {
   "cell_type": "code",
   "execution_count": 8,
   "metadata": {},
   "outputs": [
    {
     "data": {
      "text/plain": [
       "(59,\n",
       " '10000000000000000000000000000000000000000777777777777777777777777777777777777777777777777777777777774')"
      ]
     },
     "execution_count": 8,
     "metadata": {},
     "output_type": "execute_result"
    }
   ],
   "source": [
    "num = 64**30 + 2**300 - 4\n",
    "num = oct(num)[2:]\n",
    "num.count(\"7\"), num"
   ]
  },
  {
   "cell_type": "code",
   "execution_count": 18,
   "metadata": {},
   "outputs": [
    {
     "data": {
      "text/plain": [
       "12"
      ]
     },
     "execution_count": 18,
     "metadata": {},
     "output_type": "execute_result"
    }
   ],
   "source": [
    "def to_any_base(number, in_base, out_base):\n",
    "    number = int(str(number), in_base)\n",
    "    answer = []\n",
    "    while number > 0:\n",
    "        answer.append(str(number % out_base))\n",
    "        number = number // out_base\n",
    "    answer = reversed(answer)\n",
    "    return \"\".join(answer)     \n",
    "\n",
    "num = 3*16**8 - 4**5 + 3\n",
    "to_any_base(num, 10, 4).count(\"3\")"
   ]
  },
  {
   "cell_type": "code",
   "execution_count": 4,
   "metadata": {},
   "outputs": [
    {
     "data": {
      "text/plain": [
       "(4, '2022222222222222220001')"
      ]
     },
     "execution_count": 4,
     "metadata": {},
     "output_type": "execute_result"
    }
   ],
   "source": [
    "num = 9 ** 9 + 3 ** 21 - 7\n",
    "thrird_num = ''\n",
    "\n",
    "while num > 0:\n",
    "    thrird_num += str(num % 3)\n",
    "    num = num // 3\n",
    "    \n",
    "thrird_num.count('0'), thrird_num\n",
    "\n"
   ]
  },
  {
   "cell_type": "code",
   "execution_count": 4,
   "metadata": {},
   "outputs": [
    {
     "data": {
      "text/plain": [
       "'10010'"
      ]
     },
     "execution_count": 4,
     "metadata": {},
     "output_type": "execute_result"
    }
   ],
   "source": [
    "def to_any_base(number, in_base, out_base):\n",
    "    number = int(str(number), in_base)\n",
    "    answer = []\n",
    "    while number > 0:\n",
    "        answer.append(str(number % out_base))\n",
    "        number = number // out_base\n",
    "    answer = reversed(answer)\n",
    "    return \"\".join(answer)    \n",
    "\n",
    "int(\"121\", 3) + int(\"2112\", 3)\n",
    "\n",
    "to_any_base(84, 10, 3)"
   ]
  },
  {
   "cell_type": "code",
   "execution_count": 3,
   "metadata": {},
   "outputs": [
    {
     "data": {
      "text/plain": [
       "13"
      ]
     },
     "execution_count": 3,
     "metadata": {},
     "output_type": "execute_result"
    }
   ],
   "source": [
    "num = 2*27**7 + 3**10-9\n",
    "\n",
    "def to_any_base(num, out_base, in_base=10):\n",
    "    n = ''\n",
    "    while num > 0:\n",
    "        n += str(num % out_base)\n",
    "        num = num // out_base\n",
    "    return n\n",
    "\n",
    "to_any_base(num, 3).count('0')"
   ]
  },
  {
   "cell_type": "code",
   "execution_count": 5,
   "metadata": {},
   "outputs": [
    {
     "data": {
      "text/plain": [
       "70"
      ]
     },
     "execution_count": 5,
     "metadata": {},
     "output_type": "execute_result"
    }
   ],
   "source": [
    "num = 51*7**12 - 7**3 - 22\n",
    "\n",
    "def to_any_base(num, out_base, in_base=10):\n",
    "    n = ''\n",
    "    while num > 0:\n",
    "        n += str(num % out_base)\n",
    "        num = num // out_base\n",
    "    return n\n",
    "\n",
    "sum([int(i) for i in to_any_base(num, 7)])"
   ]
  },
  {
   "cell_type": "code",
   "execution_count": 21,
   "metadata": {},
   "outputs": [
    {
     "name": "stdout",
     "output_type": "stream",
     "text": [
      "[502]\n"
     ]
    }
   ],
   "source": [
    "def to_any_base(num, out_base, in_base=10):\n",
    "    n = ''\n",
    "    while num > 0:\n",
    "        n += str(num % out_base)\n",
    "        num = num // out_base\n",
    "    return n\n",
    "\n",
    "def solution():\n",
    "    for x in range(1, 10000):\n",
    "        num = 125**200 - 5**x + 74\n",
    "        if to_any_base(num, 5).count('4') == 100:\n",
    "            yield x\n",
    "\n",
    "print(list(solution()))"
   ]
  },
  {
   "cell_type": "code",
   "execution_count": 30,
   "metadata": {},
   "outputs": [
    {
     "data": {
      "text/plain": [
       "Counter({'0': 36,\n",
       "         'e': 20,\n",
       "         '1': 3,\n",
       "         '8': 1,\n",
       "         '7': 1,\n",
       "         '6': 1,\n",
       "         '5': 1,\n",
       "         '4': 1,\n",
       "         '2': 1,\n",
       "         'b': 1})"
      ]
     },
     "execution_count": 30,
     "metadata": {},
     "output_type": "execute_result"
    }
   ],
   "source": [
    "from string import ascii_lowercase\n",
    "from collections import Counter\n",
    "\n",
    "num = 11*15**65 + 18*15**38 - 14*15**17 + 19*15**11 + 18338\n",
    "alph = '0123456789' + ascii_lowercase[:5]\n",
    "\n",
    "def to_any_base(num, base):\n",
    "    s = ''\n",
    "    while num > 0:\n",
    "        s += alph[num % base]\n",
    "        num = num // base\n",
    "        \n",
    "    return s\n",
    "\n",
    "Counter(to_any_base(num, 15))"
   ]
  },
  {
   "cell_type": "code",
   "execution_count": 35,
   "metadata": {},
   "outputs": [
    {
     "data": {
      "text/plain": [
       "9"
      ]
     },
     "execution_count": 35,
     "metadata": {},
     "output_type": "execute_result"
    }
   ],
   "source": [
    "from string import ascii_lowercase\n",
    "\n",
    "num = 3 * 3125 ** 8 + 2 * 625 **7 - 4 * 625 ** 6 + 3 *125 ** 5 - 2 * 25 ** 4 - 2024\n",
    "alph = '0123456789' + ascii_lowercase[:25]\n",
    "\n",
    "def to_any_base(num, base):\n",
    "    s = ''\n",
    "    while num > 0:\n",
    "        s += alph[num % base]\n",
    "        num = num // base\n",
    "    return s\n",
    "\n",
    "to_any_base(num, 25).count('0')"
   ]
  },
  {
   "cell_type": "code",
   "execution_count": 38,
   "metadata": {},
   "outputs": [
    {
     "data": {
      "text/plain": [
       "51"
      ]
     },
     "execution_count": 38,
     "metadata": {},
     "output_type": "execute_result"
    }
   ],
   "source": [
    "num = 6 * 144 ** 26 + 11 * 12 ** 75 - 48\n",
    "alph = '0123456789' + ascii_lowercase[:2]\n",
    "\n",
    "to_any_base(num, 12).count('b')\n",
    "\n"
   ]
  },
  {
   "cell_type": "code",
   "execution_count": 40,
   "metadata": {},
   "outputs": [
    {
     "data": {
      "text/plain": [
       "24"
      ]
     },
     "execution_count": 40,
     "metadata": {},
     "output_type": "execute_result"
    }
   ],
   "source": [
    "def solution():\n",
    "    for x in range(10000):\n",
    "        summ = 0\n",
    "        num = 36**17-6**x+71\n",
    "        while num > 0:\n",
    "            summ += num % 6\n",
    "            num //= 6\n",
    "        if summ == 61:\n",
    "            return x\n",
    "        \n",
    "solution()"
   ]
  },
  {
   "cell_type": "code",
   "execution_count": 41,
   "metadata": {},
   "outputs": [
    {
     "data": {
      "text/plain": [
       "1182"
      ]
     },
     "execution_count": 41,
     "metadata": {},
     "output_type": "execute_result"
    }
   ],
   "source": [
    "num = 5*216**1156-4*36**1147+6**1153-875\n",
    "\n",
    "to_any_base(num, 6).count('5') - to_any_base(num, 6).count('0')\n"
   ]
  },
  {
   "cell_type": "code",
   "execution_count": 50,
   "metadata": {},
   "outputs": [
    {
     "name": "stdout",
     "output_type": "stream",
     "text": [
      "852282 3 0 solution\n",
      "47594.0\n"
     ]
    }
   ],
   "source": [
    "fl = True\n",
    "for x in range(0, 21):\n",
    "    if fl:\n",
    "        for y in range(0, 21):\n",
    "            if (int(f'12{y}{x}9', 21) + int(f'36{y}99', 21)) % 18 == 0:\n",
    "                print((int(f'12{y}{x}9', 21) + int(f'36{y}99', 21)), x, y, 'solution')\n",
    "                fl = False\n",
    "                break\n",
    "\n",
    "print((int(f'12{5}{3}9', 21) + int(f'36{5}99', 21)) / 18)\n",
    "             "
   ]
  },
  {
   "cell_type": "code",
   "execution_count": 10,
   "metadata": {},
   "outputs": [],
   "source": [
    "from string import ascii_lowercase\n",
    "d = '0123456789' + ascii_lowercase\n",
    "\n",
    "for x in range(len(d)-1):\n",
    "    for y in range(len(d)-1):\n",
    "        if int(f'12{d[x]}643{d[y]}7', 36) % 36 == 0:\n",
    "            print(d[x], d[y])\n",
    "            "
   ]
  },
  {
   "cell_type": "code",
   "execution_count": 8,
   "metadata": {},
   "outputs": [
    {
     "data": {
      "text/plain": [
       "1271"
      ]
     },
     "execution_count": 8,
     "metadata": {},
     "output_type": "execute_result"
    }
   ],
   "source": []
  }
 ],
 "metadata": {
  "kernelspec": {
   "display_name": "venv",
   "language": "python",
   "name": "python3"
  },
  "language_info": {
   "codemirror_mode": {
    "name": "ipython",
    "version": 3
   },
   "file_extension": ".py",
   "mimetype": "text/x-python",
   "name": "python",
   "nbconvert_exporter": "python",
   "pygments_lexer": "ipython3",
   "version": "3.11.4"
  },
  "orig_nbformat": 4
 },
 "nbformat": 4,
 "nbformat_minor": 2
}
