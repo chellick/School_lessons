{
 "cells": [
  {
   "cell_type": "code",
   "execution_count": null,
   "metadata": {},
   "outputs": [],
   "source": [
    "from itertools import product as p\n",
    "\n",
    "h = list(filter(lambda x: x.count('0') == 3 and '00' not in x, list(map(lambda x: ''.join(x), p('01', repeat=12)))))\n",
    "p0 = len(list(p('0246', repeat=9))) * len([1 for i in h if i[0] == '0'])\n",
    "p1 = len(list(filter(lambda x: x[0] != '0', p('0246', repeat=9)))) * len([1 for i in h if i[0] == '1']) \n",
    "print(len(list(p('1357',repeat=3))) * (p0 + p1))\n",
    "\n",
    "# from itertools import product as p\n",
    "\n",
    "# print(len(list(p('1357',repeat=3))) * (len(list(p('0246', repeat=9))) * len([1 for i in list(filter(lambda x: x.count('0') == 3 and '00' not in x, list(map(lambda x: ''.join(x), p('01', repeat=12))))) if i[0] == '0']) + len(list(filter(lambda x: x[0] != '0', p('0246', repeat=9)))) * len([1 for i in list(filter(lambda x: x.count('0') == 3 and '00' not in x, list(map(lambda x: ''.join(x), p('01', repeat=12))))) if i[0] == '1']) ))"
   ]
  },
  {
   "cell_type": "code",
   "execution_count": 1,
   "metadata": {},
   "outputs": [],
   "source": [
    "import itertools"
   ]
  },
  {
   "cell_type": "code",
   "execution_count": null,
   "metadata": {},
   "outputs": [],
   "source": [
    "d = '10234567'\n",
    "c = 0\n",
    "\n",
    "for i in itertools.product(d, repeat=12):\n",
    "    if i[0] != '0':\n",
    "        r = \"\".join(i)\n",
    "        if '11' in r or '33' in r or '55' in r or '77' in r:\n",
    "            continue\n",
    "        \n",
    "        r = r.replace('2', '0')\\\n",
    "            .replace('3', '1')\\\n",
    "                .replace('4', '0')\\\n",
    "                    .replace('5', '1')\\\n",
    "                        .replace('6', '0').replace('7', '1')\n",
    "                        \n",
    "        print(r)\n",
    "        if r.count('1') == 3:\n",
    "            if '11' not in r:\n",
    "                c += 1\n",
    "                print(c)\n",
    "print(c)"
   ]
  },
  {
   "cell_type": "code",
   "execution_count": null,
   "metadata": {},
   "outputs": [],
   "source": [
    "d = '0121457'\n",
    "c = 0\n",
    "\n",
    "for a, i in enumerate(itertools.permutations(d, r=5), 1):\n",
    "    if i[0] != '0':\n",
    "        if \"\".join(i).count('1') == 0:\n",
    "            r = \"\".join(i)\n",
    "            r = r.replace('2', '0')\\\n",
    "                .replace('3', '1')\\\n",
    "                    .replace('4', '0')\\\n",
    "                        .replace('5', '1')\\\n",
    "                            .replace('6', '0').replace('7', '1')\n",
    "            if '11' in r or '00' in r:\n",
    "                continue\n",
    "            else:\n",
    "                c += 1\n",
    "                print(i) \n",
    "    \n",
    "print(c)"
   ]
  },
  {
   "cell_type": "code",
   "execution_count": null,
   "metadata": {},
   "outputs": [],
   "source": [
    "d = '012345'\n",
    "c = 0\n",
    "\n",
    "for a, i in enumerate(itertools.product(d, repeat=3), 1):\n",
    "    if i[0] != '0':\n",
    "        print(sorted(i), i)\n",
    "        if tuple(sorted(i)) == i:\n",
    "            c += 1\n",
    "            print(i)\n",
    "        \n",
    "print(c)"
   ]
  },
  {
   "cell_type": "code",
   "execution_count": null,
   "metadata": {},
   "outputs": [],
   "source": [
    "d = sorted('ОЛЬГА')\n",
    "\n",
    "\n",
    "for a, i in enumerate(itertools.product(d, repeat=5), 1):\n",
    "    if \"\".join(i) == 'ОЛЬГА':\n",
    "        print(i, a)\n",
    "        break"
   ]
  },
  {
   "cell_type": "code",
   "execution_count": null,
   "metadata": {},
   "outputs": [],
   "source": [
    "d = '0123456789ABCDEF'\n",
    "a = '2468ACE'\n",
    "b = '13579BDF'\n",
    "\n",
    "count = 0\n",
    "\n",
    "for n in itertools.product(a+b, repeat=4):\n",
    "    if n[0] != '0':\n",
    "        if len(set(n)) == len(n):\n",
    "            n_chet = []\n",
    "            n_nechet = []\n",
    "            for i in n:\n",
    "                if i in a:\n",
    "                    n_chet.append(int(i, 16))\n",
    "                else:\n",
    "                    n_nechet.append(int(i, 16))\n",
    "            \n",
    "            if len(n_chet) == len(n_nechet) and sum(n_chet) == sum(n_nechet):\n",
    "                count += 1\n",
    "                print(n)\n",
    "                \n",
    "print(count)"
   ]
  }
 ],
 "metadata": {
  "kernelspec": {
   "display_name": "venv",
   "language": "python",
   "name": "python3"
  },
  "language_info": {
   "codemirror_mode": {
    "name": "ipython",
    "version": 3
   },
   "file_extension": ".py",
   "mimetype": "text/x-python",
   "name": "python",
   "nbconvert_exporter": "python",
   "pygments_lexer": "ipython3",
   "version": "3.11.4"
  }
 },
 "nbformat": 4,
 "nbformat_minor": 2
}
